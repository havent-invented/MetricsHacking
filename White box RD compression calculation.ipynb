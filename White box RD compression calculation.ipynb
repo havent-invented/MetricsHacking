{
 "cells": [
  {
   "cell_type": "code",
   "execution_count": 1,
   "id": "plastic-pension",
   "metadata": {},
   "outputs": [
    {
     "data": {
      "application/vnd.jupyter.widget-view+json": {
       "model_id": "2f2b933516d441638d347b1e076e7986",
       "version_major": 2,
       "version_minor": 0
      },
      "text/plain": [
       "  0%|          | 0/12 [00:00<?, ?it/s]"
      ]
     },
     "metadata": {},
     "output_type": "display_data"
    }
   ],
   "source": [
    "break_flag = True\n",
    "home_dir = \"R:/home_dir/\"\n",
    "dst_dir = \"P:/7videos/\"\n",
    "#exec(open('Current_model.py').read())\n",
    "%run -i Current_model_lib\n",
    "%run -i Train_current_model\n",
    "\n",
    "\n",
    "home_dir = \"R:/home_dir/\"\n",
    "dst_dir = \"P:/7videos/\""
   ]
  },
  {
   "cell_type": "code",
   "execution_count": null,
   "id": "vocal-throw",
   "metadata": {},
   "outputs": [],
   "source": [
    "import wandb"
   ]
  },
  {
   "cell_type": "code",
   "execution_count": 3,
   "id": "occasional-milan",
   "metadata": {},
   "outputs": [],
   "source": [
    "#TODO MAD CW_SSIM NLPD VSI FSIM\n",
    "#from piq import IS, FID, GS, KID, MSID, PR\n",
    "from piq import HaarPSILoss,VIFLoss, DSSLoss,dss, multi_scale_ssim, multi_scale_gmsd,vif, vif_p,MDSILoss, GMSDLoss,VSILoss,SRSIMLoss\n",
    "from IQA_pytorch import GMSD, VIF, VIFs, MS_SSIM, SSIM\n",
    "from piq import DISTS as piq_DISTS\n",
    "from piq import LPIPS as piq_LPIPS\n",
    "to_train = True\n",
    "\n",
    "self.GMSD_loss_1 = GMSD()\n",
    "self.iqa_vifs_loss = VIFs()    \n",
    "self.iqa_vif_loss = VIF()\n",
    "self.piq_vif_Loss = VIFLoss()\n",
    "self.piq_vif_p_loss = vif_p\n",
    "self.dss_loss_1 = DSSLoss()\n",
    "self.dss_loss_2 = dss\n",
    "self.msssim_1_loss = multi_scale_ssim\n",
    "self.haarpsi_loss = HaarPSILoss()\n",
    "self.msssim_2 = MS_SSIM()\n",
    "self.ms_gmsd_loss = multi_scale_gmsd\n",
    "self.SRSIM_loss = SRSIMLoss()\n",
    "self.VSI_loss = VSILoss()\n",
    "self.GMSD_loss_2 = GMSDLoss()\n",
    "self.MDSI_met = MDSILoss()\n",
    "self.ssim_loss = SSIM()\n",
    "self.DISTS_loss_2 = piq_DISTS()\n",
    "self.LPIPS_loss_2 = piq_LPIPS()\n"
   ]
  },
  {
   "cell_type": "code",
   "execution_count": 8,
   "id": "therapeutic-surgeon",
   "metadata": {},
   "outputs": [
    {
     "name": "stdout",
     "output_type": "stream",
     "text": [
      "[('PieAPP', False)]\n",
      "False\n",
      "[('PieAPP', False), ('SSIM', False)]\n",
      "False\n",
      "[('PieAPP', False), ('SSIM', False), ('DISTS', False)]\n",
      "False\n",
      "[('PieAPP', False), ('SSIM', False), ('DISTS', False), ('LPIPS', False)]\n",
      "False\n",
      "[('PieAPP', False), ('SSIM', False), ('DISTS', False), ('LPIPS', False), ('GMSD', False)]\n",
      "False\n",
      "[('PieAPP', False), ('SSIM', False), ('DISTS', False), ('LPIPS', False), ('GMSD', False), ('GMSD1', False)]\n",
      "False\n",
      "[('PieAPP', False), ('SSIM', False), ('DISTS', False), ('LPIPS', False), ('GMSD', False), ('GMSD1', False), ('VIFs', False)]\n",
      "False\n",
      "[('PieAPP', False), ('SSIM', False), ('DISTS', False), ('LPIPS', False), ('GMSD', False), ('GMSD1', False), ('VIFs', False), ('VIF', False)]\n",
      "False\n",
      "[('PieAPP', False), ('SSIM', False), ('DISTS', False), ('LPIPS', False), ('GMSD', False), ('GMSD1', False), ('VIFs', False), ('VIF', False), ('VIFLoss', False)]\n",
      "False\n",
      "[('PieAPP', False), ('SSIM', False), ('DISTS', False), ('LPIPS', False), ('GMSD', False), ('GMSD1', False), ('VIFs', False), ('VIF', False), ('VIFLoss', False), ('VIFp', False)]\n",
      "False\n",
      "[('PieAPP', False), ('SSIM', False), ('DISTS', False), ('LPIPS', False), ('GMSD', False), ('GMSD1', False), ('VIFs', False), ('VIF', False), ('VIFLoss', False), ('VIFp', False), ('DSS', False)]\n",
      "False\n",
      "[('PieAPP', False), ('SSIM', False), ('DISTS', False), ('LPIPS', False), ('GMSD', False), ('GMSD1', False), ('VIFs', False), ('VIF', False), ('VIFLoss', False), ('VIFp', False), ('DSS', False), ('DSS1', False)]\n",
      "False\n",
      "[('PieAPP', False), ('SSIM', False), ('DISTS', False), ('LPIPS', False), ('GMSD', False), ('GMSD1', False), ('VIFs', False), ('VIF', False), ('VIFLoss', False), ('VIFp', False), ('DSS', False), ('DSS1', False), ('MS-SSIM', False)]\n",
      "False\n",
      "[('PieAPP', False), ('SSIM', False), ('DISTS', False), ('LPIPS', False), ('GMSD', False), ('GMSD1', False), ('VIFs', False), ('VIF', False), ('VIFLoss', False), ('VIFp', False), ('DSS', False), ('DSS1', False), ('MS-SSIM', False), ('HaarPSI', False)]\n",
      "False\n",
      "[('PieAPP', False), ('SSIM', False), ('DISTS', False), ('LPIPS', False), ('GMSD', False), ('GMSD1', False), ('VIFs', False), ('VIF', False), ('VIFLoss', False), ('VIFp', False), ('DSS', False), ('DSS1', False), ('MS-SSIM', False), ('HaarPSI', False), ('MS-SSIM', False)]\n",
      "False\n",
      "[('PieAPP', False), ('SSIM', False), ('DISTS', False), ('LPIPS', False), ('GMSD', False), ('GMSD1', False), ('VIFs', False), ('VIF', False), ('VIFLoss', False), ('VIFp', False), ('DSS', False), ('DSS1', False), ('MS-SSIM', False), ('HaarPSI', False), ('MS-SSIM', False), ('MS-GMSD', False)]\n",
      "False\n",
      "[('PieAPP', False), ('SSIM', False), ('DISTS', False), ('LPIPS', False), ('GMSD', False), ('GMSD1', False), ('VIFs', False), ('VIF', False), ('VIFLoss', False), ('VIFp', False), ('DSS', False), ('DSS1', False), ('MS-SSIM', False), ('HaarPSI', False), ('MS-SSIM', False), ('MS-GMSD', False), ('SRSIM', False)]\n",
      "False\n",
      "[('PieAPP', False), ('SSIM', False), ('DISTS', False), ('LPIPS', False), ('GMSD', False), ('GMSD1', False), ('VIFs', False), ('VIF', False), ('VIFLoss', False), ('VIFp', False), ('DSS', False), ('DSS1', False), ('MS-SSIM', False), ('HaarPSI', False), ('MS-SSIM', False), ('MS-GMSD', False), ('SRSIM', False), ('VSI', False)]\n",
      "False\n",
      "[('PieAPP', False), ('SSIM', False), ('DISTS', False), ('LPIPS', False), ('GMSD', False), ('GMSD1', False), ('VIFs', False), ('VIF', False), ('VIFLoss', False), ('VIFp', False), ('DSS', False), ('DSS1', False), ('MS-SSIM', False), ('HaarPSI', False), ('MS-SSIM', False), ('MS-GMSD', False), ('SRSIM', False), ('VSI', False), ('MDSI', False)]\n",
      "False\n",
      "[('PieAPP', False), ('SSIM', False), ('DISTS', False), ('LPIPS', False), ('GMSD', False), ('GMSD1', False), ('VIFs', False), ('VIF', False), ('VIFLoss', False), ('VIFp', False), ('DSS', False), ('DSS1', False), ('MS-SSIM', False), ('HaarPSI', False), ('MS-SSIM', False), ('MS-GMSD', False), ('SRSIM', False), ('VSI', False), ('MDSI', False), ('DISTS1', False)]\n",
      "False\n",
      "[('PieAPP', False), ('SSIM', False), ('DISTS', False), ('LPIPS', False), ('GMSD', False), ('GMSD1', False), ('VIFs', False), ('VIF', False), ('VIFLoss', False), ('VIFp', False), ('DSS', False), ('DSS1', False), ('MS-SSIM', False), ('HaarPSI', False), ('MS-SSIM', False), ('MS-GMSD', False), ('SRSIM', False), ('VSI', False), ('MDSI', False), ('DISTS1', False), ('LPIPS1', False)]\n",
      "False\n"
     ]
    }
   ],
   "source": [
    "X_sample = X_sample.requires_grad_().to(device)\n",
    "lst_direction = []\n",
    "met_lst = [\"PieAPP\",\"SSIM\", \"DISTS\",\"LPIPS\", \"GMSD\",\"GMSD1\",\"VIFs\",\"VIF\",\"VIFLoss\",\"VIFp\",\"DSS\",\"DSS1\",\"MS-SSIM\",\"HaarPSI\",\"MS-SSIM\",\"MS-GMSD\",\"SRSIM\",\"VSI\",\"MDSI\",\"DISTS1\",\"LPIPS1\"]\n",
    "for tar_met in met_lst:\n",
    "    loss_calc = Custom_enh_Loss(target_lst = [tar_met])\n",
    "    loss_calc.eval()\n",
    "    loss_calc = loss_calc.requires_grad_(True).to(device)\n",
    "    \n",
    "    ls = loss_calc({\"x_hat\" :X_sample}, X_sample)\n",
    "    ls1 = list(ls.items())[2][1]\n",
    "    \n",
    "    ls = loss_calc({\"x_hat\" :X_sample - X_sample}, X_sample)\n",
    "    ls2 = list(ls.items())[2][1]\n",
    "    lst_direction.append(ls1.item() > ls2.item())\n",
    "    print(list(zip(met_lst, lst_direction)))\n",
    "    print(ls1.item() == ls2.item())"
   ]
  },
  {
   "cell_type": "code",
   "execution_count": 30,
   "id": "developed-submission",
   "metadata": {},
   "outputs": [
    {
     "name": "stderr",
     "output_type": "stream",
     "text": [
      "C:\\ProgramData\\Anaconda3\\envs\\backup\\lib\\site-packages\\torch\\nn\\functional.py:718: UserWarning: Named tensors and all their associated APIs are an experimental feature and subject to change. Please do not use them for anything important until they are released as stable. (Triggered internally at  ..\\c10/core/TensorImpl.h:1156.)\n",
      "  return torch.max_pool2d(input, kernel_size, stride, padding, dilation, ceil_mode)\n"
     ]
    },
    {
     "data": {
      "text/plain": [
       "tensor(0., device='cuda:0', grad_fn=<MeanBackward1>)"
      ]
     },
     "execution_count": 30,
     "metadata": {},
     "output_type": "execute_result"
    }
   ],
   "source": [
    "device = \"cuda:0\"\n",
    "X_sample = X_sample.to(device).requires_grad_()\n",
    "\n",
    "loss = LPIPS()\n",
    "loss = loss.requires_grad_(True)\n",
    "loss.requires_grad = True\n",
    "loss.eval()\n",
    "X_sample = X_sample.to(device)\n",
    "loss = loss.to(device)\n",
    "#with torch.enable_grad():\n",
    "ls = loss(X_sample, X_sample)\n",
    "ls"
   ]
  },
  {
   "cell_type": "code",
   "execution_count": 8,
   "id": "monthly-subsection",
   "metadata": {},
   "outputs": [],
   "source": [
    "torch.rfft = torch.fft.rfft"
   ]
  },
  {
   "cell_type": "code",
   "execution_count": null,
   "id": "entitled-means",
   "metadata": {},
   "outputs": [],
   "source": [
    "loss_calc = Custom_enh_Loss(target_lst = [\"LPIPS\"])#PieAPP DISTS LPIPS"
   ]
  },
  {
   "cell_type": "code",
   "execution_count": 7,
   "id": "looking-introduction",
   "metadata": {},
   "outputs": [],
   "source": [
    "X_sample = X_sample.to(device)"
   ]
  },
  {
   "cell_type": "code",
   "execution_count": 23,
   "id": "christian-russell",
   "metadata": {},
   "outputs": [
    {
     "data": {
      "text/plain": [
       "{'mse_loss': tensor(0., device='cuda:0'),\n",
       " 'PSNR': tensor(inf, device='cuda:0'),\n",
       " 'LPIPS': tensor(0., device='cuda:0'),\n",
       " 'loss': tensor(0., device='cuda:0')}"
      ]
     },
     "execution_count": 23,
     "metadata": {},
     "output_type": "execute_result"
    }
   ],
   "source": [
    "loss_calc({\"x_hat\" : X_sample}, X_sample)"
   ]
  },
  {
   "cell_type": "code",
   "execution_count": 4,
   "id": "sublime-broadcasting",
   "metadata": {},
   "outputs": [],
   "source": [
    "tmp = None\n",
    "device = 'cpu'\n",
    "home_dir = \"R:/home_dir/\"\n",
    "dst_dir = \"P:/7videos/\"\n",
    "exec(open('main.py').read())\n",
    "home_dir = \"R:/home_dir/\"\n",
    "dst_dir = \"P:/7videos/\"\n",
    "try:\n",
    "    os.mkdir(home_dir)\n",
    "except Exception:\n",
    "    pass\n",
    "X_out1 = None\n",
    "import compressai\n",
    "import math\n",
    "from compressai.zoo import bmshj2018_factorized, cheng2020_attn, mbt2018,ssf2020\n",
    "import torch\n",
    "from PIL import Image\n",
    "import torchvision.transforms\n",
    "import torch\n",
    "import skvideo.io\n",
    "from PIL import Image\n",
    "import numpy as np\n",
    "from CNNfeatures import get_features\n",
    "from VQAmodel import VQAModel\n",
    "from argparse import ArgumentParser\n",
    "import time\n",
    "from PIL import Image\n",
    "import torch\n",
    "import numpy as np\n",
    "from torch import nn\n",
    "import torch.optim as optim\n",
    "\n",
    "from torch.utils.data import Dataset, IterableDataset\n",
    "dst_dir_vimeo = 'P:/vimeo_triplet/sequences/'\n",
    "from torchvision.io import read_image\n",
    "from torch.utils.data import DataLoader\n",
    "import os\n",
    "import torchvision\n",
    "\n",
    "patch_sz = 256   \n",
    "batch_sz = 1#4\n",
    "net_enhance = None\n",
    "device_met = \"cuda:0\"\n",
    "device_enh = \"cuda:0\"\n",
    "device_sub = \"cpu\"\n",
    "def load_models(paths):\n",
    "    import os\n",
    "    model_list = []\n",
    "    for path in paths:\n",
    "        if os.path.getsize(path) // 10**6 == 73:\n",
    "            model_list.append(ResNetUNet(3))\n",
    "        if os.path.getsize(path) // 10**6 == 10:\n",
    "            model_list.append(get_simple_cnn())\n",
    "        model_list[-1].load_state_dict(torch.load(path)) \n",
    "    return model_list\n",
    "\n",
    "def compute_model_codec_dataset(net_enhance, net_codec, dataset, loss_f = Custom_enh_Loss(target_lst=['mse_loss'],k_lst=[1,]), to_crop = True, Y_dataset = None):\n",
    "    logs_plot_cur = {}\n",
    "    net_codec, loss_f = net_codec.to(device_sub),  loss_f.to(device_sub)\n",
    "    XY_flag = False\n",
    "    if Y_dataset != None:\n",
    "        frame_XY_all = (dataset, Y_dataset)\n",
    "    else:\n",
    "        frame_XY_all = (dataset, range(len(dataset)))\n",
    "    for XY_frame in tqdm(zip(*frame_XY_all)):\n",
    "        X = XY_frame[0]\n",
    "        if to_crop:\n",
    "            X = torchvision.transforms.CenterCrop((patch_sz, patch_sz))(X)\n",
    "        X = X.detach().to(device_met)\n",
    "        if Y_dataset == None:\n",
    "            Y = X.detach().clone().to(device_met)\n",
    "        else:\n",
    "            Y = XY_frame[1].to(device_met)\n",
    "        if to_crop:\n",
    "            Y = torchvision.transforms.CenterCrop((patch_sz, patch_sz))(Y)\n",
    "        X, net_enhance = X.to(device_enh), net_enhance.to(device_enh)\n",
    "        X_enhance = net_enhance(X)\n",
    "        X, net_enhance = X.to(device_sub), net_enhance.to(device_sub)\n",
    "        torch.cuda.empty_cache()\n",
    "        X_enhance, net_codec = X_enhance.to(device_met), net_codec.to(device_met)\n",
    "        X_out = net_codec(X_enhance)\n",
    "        net_codec = net_codec.to(device_sub)\n",
    "        torch.cuda.empty_cache()\n",
    "        tmp = X_out, Y, loss_f\n",
    "        loss_f = loss_f.to(device_met)\n",
    "        Y = Y.to(device_met)\n",
    "        loss = loss_f(X_out, Y)\n",
    "        loss_f = loss_f.to(device_sub)\n",
    "        \n",
    "        for j in list(loss.keys()):\n",
    "            if not j in logs_plot_cur:\n",
    "                logs_plot_cur[j] = []\n",
    "            logs_plot_cur[j].append(loss[j].data.to(device_sub).numpy())\n",
    "        X.data.clamp_(min=0,max=1)\n",
    "        X_out['x_hat'].data.clamp_(min=0,max=1)\n",
    "    for j in list(logs_plot_cur.keys()):\n",
    "        logs_plot_cur[j] = np.mean(logs_plot_cur[j])\n",
    "    return logs_plot_cur\n",
    "\n",
    "def append_dict(dict_from, dict_to):\n",
    "    for j in list(dict_from.keys()):\n",
    "        if not j in dict_to:\n",
    "            dict_to[j] = []\n",
    "        dict_to[j].append(np.mean(dict_from[j]))    \n",
    "    return dict_to\n",
    "    \n",
    "def model_codecs_dataset(net_enhance, net_codecs, dataset, loss_f = Custom_enh_Loss(target_lst=['mse_loss'],k_lst=[1,])):\n",
    "    logs_plot = {}\n",
    "    for net_codec in net_codecs:\n",
    "        net_codec_gpu = net_codec.to(device_met)\n",
    "        net_enhance_gpu = net_enhance.to(device_met)\n",
    "        logs_plot_cur = compute_model_codec_dataset(net_enhance_gpu, net_codec_gpu, dataset, loss_f = Custom_enh_Loss(target_lst=['mse_loss'],k_lst=[1,]))\n",
    "        logs_plot = append_dict(logs_plot_cur, logs_plot)\n",
    "        del net_codec_gpu\n",
    "        del net_enhance_gpu \n",
    "    return logs_plot\n",
    "    \n",
    "def models_codecs_dataset(net_enhances, net_codecs, dataset, loss_f = Custom_enh_Loss(target_lst=['mse_loss'],k_lst=[1,])):\n",
    "    logs_plot = []\n",
    "    for net_enhance in net_enhances:\n",
    "        logs_plot_cur = model_codecs_dataset(net_enhance, net_codecs, dataset, loss_f = Custom_enh_Loss(target_lst=['mse_loss'],k_lst=[1,]))\n",
    "        logs_plot.append(logs_plot_cur)\n",
    "    return logs_plot    \n",
    "\n",
    "def compare_models(models, net_codec, dataset):\n",
    "    import os\n",
    "    log_all = []\n",
    "    with torch.no_grad():\n",
    "        logs_plot = {}\n",
    "        for model in models:\n",
    "            logs_plot_cur = compute_model_codec_dataset(model, net_codec, dataset)\n",
    "            for j in list(logs_plot_cur.keys()):\n",
    "                if not j in logs_plot:\n",
    "                    logs_plot[j] = []\n",
    "                logs_plot[j].append(np.mean(logs_plot_cur[j]))\n",
    "            log_all.append(logs_plot)\n",
    "    return log_all\n",
    "\n",
    "\n",
    "def dir_of_dirs(paths):\n",
    "    A = []\n",
    "    for j in paths:\n",
    "        for i in os.listdir(j):\n",
    "            A.append(os.path.join(j, i))\n",
    "    return A\n",
    "\n",
    "class CustomImageDataset(Dataset):\n",
    "    def __init__(self, img_dir, transform=None, target_transform=None,train = True, datalen = 128, center_crop = False):\n",
    "        super(CustomImageDataset).__init__()\n",
    "        self.center_crop = center_crop\n",
    "        self.datalen = datalen\n",
    "        self.train = train\n",
    "        self.image = 0\n",
    "        self.label = 0\n",
    "        self.img_names = dir_of_dirs(dir_of_dirs(dir_of_dirs([dst_dir_vimeo])))\n",
    "        self.img_dir = img_dir\n",
    "    def __len__(self):\n",
    "        return self.datalen#9600#len(self.img_names)\n",
    "    def __getitem__(self, idx):\n",
    "        if not self.train:\n",
    "            idx = len(self.img_names) - idx - 1\n",
    "        img_path = self.img_names[idx]\n",
    "        image = read_image(img_path)\n",
    "        if len(image.shape) == 2 or image.shape[0] == 1:\n",
    "            image = torch.cat([image for i in range(3)])\n",
    "        self.image = image\n",
    "        if self.center_crop:\n",
    "            self.image = torchvision.transforms.CenterCrop((256,256))(self.image)\n",
    "        else:\n",
    "            self.image = torchvision.transforms.RandomResizedCrop((256,256))(self.image)\n",
    "        return self.image / 255.\n",
    "    \n",
    "#on videos\n",
    "class codec_outer_raw():\n",
    "    def __init__(self, device = device, home_dir = home_dir, output_dir = None, codec = None):\n",
    "        import pickle\n",
    "        self.codec = codec\n",
    "        self.device = device\n",
    "        self.home_dir = home_dir\n",
    "        self.out1 = None\n",
    "        if output_dir == None:\n",
    "            self.output_dir = self.home_dir + \"0YES.Y4M\"\n",
    "        else:\n",
    "            self.output_dir = output_dir\n",
    "    def forward(self, X):\n",
    "        if self.out1 == None:\n",
    "            self.out1 = skvideo.io.FFmpegWriter(self.output_dir ,inputdict = {\"-pix_fmt\": \"rgb24\"}, outputdict = {\"-pix_fmt\": \"yuv420p\"})\n",
    "        for img in X.to(device_sub).detach().numpy().swapaxes(1,3).swapaxes(1,2):\n",
    "            if img.max() < 2.:\n",
    "                img = img * 255\n",
    "            self.out1.writeFrame(img)\n",
    "        return {\"x_hat\": X}\n",
    "    def close(self):\n",
    "        if self.out1 != None:\n",
    "            self.out1.close()\n",
    "    def __call__(self, X):\n",
    "        return self.forward(X)\n",
    "    def to(self, device):\n",
    "        return self\n",
    "\n",
    "\n",
    "class codec_outer_compress:\n",
    "    def __init__(self, home_dir, codec, input_dir = None, compressed_dir = None, output_dir = None):\n",
    "        self.home_dir = home_dir\n",
    "        self.bitrate = 0\n",
    "        if compressed_dir == None:\n",
    "            self.compressed_dir = home_dir + \"/a.mp4\"\n",
    "        else:\n",
    "            self.compressed_dir = compressed_dir\n",
    "        if output_dir == None:\n",
    "            self.output_dir = home_dir + \"/0YES.Y4M\"\n",
    "        else:\n",
    "            self.output_dir = output_dir\n",
    "        if input_dir == None:\n",
    "            self.input_dir = home_dir + \"/0YES.Y4M\"\n",
    "        else:\n",
    "            self.input_dir = input_dir\n",
    "        self.codec = codec#' -preset:v medium -x265-params log-level=error '\n",
    "    def forward(self):\n",
    "        os.system(\"ffmpeg -hide_banner -loglevel error -y -i \" + self.input_dir + \" \" + self.codec + \"  -pix_fmt yuv420p \" + self.compressed_dir)\n",
    "        os.system(\"ffmpeg -hide_banner -loglevel error -y -i \" + self.input_dir + \" \" + self.codec + \"  -pix_fmt yuv420p  \" + self.compressed_dir)\n",
    "        os.system(\"ffmpeg -hide_banner -loglevel error -y  -i \" + self.compressed_dir + \" -pix_fmt yuv420p \" + self.output_dir)\n",
    "        self.bitrate = int(skvideo.io.ffprobe(self.compressed_dir)['video']['@bit_rate']) / 10**6\n",
    "    def get_bitrate(self):\n",
    "        return self.bitrate\n",
    "    def __call__(self):\n",
    "        return self.forward()\n",
    "    \n",
    "\n",
    "class Video_reader_dataset(Dataset):\n",
    "    def __init__(self, num_frames = None, name1 = dst_dir + \"blue_hair_1920x1080_30.yuv.Y4M\", minimal_batch_sz = 0):\n",
    "        super(CustomImageDataset).__init__()\n",
    "        self.nameGT = name1\n",
    "        self.temp_reader1 = skvideo.io.FFmpegReader(self.nameGT, outputdict={\"-c:v\" :\" rawvideo\",\"-f\": \"rawvideo\"})\n",
    "        self.datalen = self.temp_reader1.getShape()[0]\n",
    "        #self.datagenGT = [frameGT / 255. for frameGT in self.temp_reader1.nextFrame()]\n",
    "        self.datagenGT = self.temp_reader1.nextFrame()# [frameGT / 255. for frameGT in ]\n",
    "        #self.temp_reader1.close()\n",
    "        \n",
    "        if num_frames != None:\n",
    "            self.datalen = min(self.datalen, num_frames)\n",
    "        if minimal_batch_sz:\n",
    "            self.datalen = self.datalen // minimal_batch_sz * minimal_batch_sz\n",
    "    def __len__(self):\n",
    "        return self.datalen\n",
    "    def close(self):\n",
    "        self.temp_reader1.close()\n",
    "    def __getitem__(self, idx):\n",
    "        if idx >= self.datalen:\n",
    "            self.temp_reader1.close()\n",
    "            raise StopIteration\n",
    "        self.frame = next(self.datagenGT) / 255. #self.lst_1[idx]\n",
    "        self.frame = np.array([self.frame[:,:,0], self.frame[:,:,1], self.frame[:,:,2]])\n",
    "        self.frame = torch.tensor(self.frame).float() \n",
    "        return self.frame \n",
    "        \n",
    "def compute_model_codec_dataset_outer(net_enhance_gpu, to_enhance = True, vid_full_dir = None, dataset = None, \n",
    "                                      codec = None, bitrates = None,home_dir = home_dir,  loss_f = Custom_enh_Loss(target_lst=['mse_loss'],k_lst=[1,]), \n",
    "                                      to_crop = False):\n",
    "    #try:\n",
    "    #    num_frames\n",
    "    #except Exception:\n",
    "        #num_frames = 64\n",
    "    if to_enhance:\n",
    "        #if dataset == None:\n",
    "        dataset_test = Video_reader_dataset(name1 = vid_full_dir, num_frames = num_frames, minimal_batch_sz = 2)   \n",
    "        dataset_test = DataLoader(dataset_test, batch_size= batch_sz, shuffle = False)\n",
    "        #else:\n",
    "            #dataset_test = dataset\n",
    "        codec_raw = codec_outer_raw(device = device, codec = codec, \n",
    "                                    output_dir = os.path.join(home_dir, \"0YES.Y4M\"))\n",
    "        compute_model_codec_dataset(net_enhance_gpu, codec_raw, dataset_test, \n",
    "                                    loss_f = Custom_enh_Loss(target_lst=['mse_loss'],k_lst=[1,]), to_crop=to_crop)\n",
    "        codec_raw.close()\n",
    "        name1 = dataset_test.dataset.nameGT\n",
    "        datalen1 = dataset_test.dataset.datalen\n",
    "        batch_size1 = dataset_test.batch_size\n",
    "        dataset_test.dataset.close()\n",
    "        del dataset_test\n",
    "        dataset_test = None\n",
    "    #if dataset == None:\n",
    "    dataset_test = Video_reader_dataset(name1 = vid_full_dir, num_frames = num_frames, minimal_batch_sz = 2)\n",
    "    dataset_test = DataLoader(dataset_test, batch_size= batch_sz, shuffle = False)\n",
    "    #else:\n",
    "        #dataset_test = dataset\n",
    "    codec_compressor = codec_outer_compress(home_dir = home_dir,\n",
    "                         codec = codec, input_dir = os.path.join(home_dir, \"0YES.Y4M\"), \n",
    "                                            output_dir = os.path.join(home_dir, \"0YES_comp.Y4M\"))\n",
    "    codec_compressor()\n",
    "    dataset_test_comp = Video_reader_dataset(name1 = os.path.join(home_dir, \"0YES_comp.Y4M\"), num_frames = num_frames)\n",
    "    dataset_test_comp = DataLoader(dataset_test_comp, batch_size= batch_sz, shuffle = False)\n",
    "    logs_plot_cur = compute_model_codec_dataset(enhance_Identity, codec_Identity, dataset_test_comp, \n",
    "                                                loss_f = loss_f, Y_dataset = dataset_test, to_crop = to_crop)\n",
    "    logs_plot_cur['bitrate'] = codec_compressor.get_bitrate()\n",
    "    dataset_test.dataset.close()\n",
    "    dataset_test_comp.dataset.close()\n",
    "    return logs_plot_cur\n",
    "    \n",
    "def model_codecs_dataset_outer(net_enhance,vid_full_dir = None,dataset = None, codecs = None, \n",
    "                               bitrates = None,home_dir = home_dir, loss_f = Custom_enh_Loss(target_lst=['mse_loss'],k_lst=[1,]), to_crop = False):\n",
    "    #if dataset == None:\n",
    "        #dataset_test = Video_reader_dataset(name1 = vid_full_dir)    \n",
    "    #else:\n",
    "        #dataset_test = dataset\n",
    "    if codecs == None:\n",
    "        raise Exception\n",
    "    #if codecs == None and bitrates != None:\n",
    "        #codecs = [' -vcodec libx264   -preset:v medium -b:v ' + b + \" \" for b in bitrates]\n",
    "    #if bitrates == None and codecs == None: \n",
    "        #codecs = [' -vcodec libx264   -preset:v medium -b:v ' + str(b) +\" M \" for b in [1,2,4,8]]\n",
    "    logs_plot = {}#-x265-params log-level=error \n",
    "    to_enhance = True\n",
    "    for codec in codecs:\n",
    "        if to_enhance:\n",
    "            net_enhance_gpu = net_enhance.to(device_met)\n",
    "        else:\n",
    "            net_enhance_gpu = None\n",
    "        logs_plot_cur = compute_model_codec_dataset_outer(net_enhance_gpu, to_enhance = to_enhance,codec = codec, vid_full_dir = vid_full_dir,\n",
    "                                                          dataset = dataset_test, loss_f = loss_f, to_crop = to_crop)###\n",
    "        to_enhance = True#False\n",
    "        logs_plot = append_dict(logs_plot_cur, logs_plot)\n",
    "        del net_enhance_gpu \n",
    "    return logs_plot\n",
    "    \n",
    "def models_codecs_dataset_outer(net_enhances,vid_full_dir = None,  dataset = None, codecs = None,\n",
    "                                loss_f = Custom_enh_Loss(target_lst=['mse_loss'],k_lst=[1,]), to_crop = False):\n",
    "    logs_plot = []\n",
    "    #if dataset == None:\n",
    "        #dataset_test = Video_reader_dataset(name1 = vid_full_dir)    \n",
    "    #else:\n",
    "        #dataset_test = dataset\n",
    "    for net_enhance in net_enhances:\n",
    "        logs_plot_cur = model_codecs_dataset_outer(net_enhance, codecs = codecs, dataset = None, loss_f = loss_f, vid_full_dir=vid_full_dir, to_crop = to_crop)\n",
    "        logs_plot.append(logs_plot_cur)\n",
    "    return logs_plot\n",
    "  \n",
    "home_dir = \"R:/home_dir/\"\n",
    "dst_dir = \"P:/7videos/\"\n",
    "#import seaborn as sns\n",
    "#sns.set()\n",
    "def get_met_names(directory = \"./models_enhancement/\", key = \"fixed_direction\", force_names = None):\n",
    "    if force_names != None:\n",
    "        return force_names, force_names, force_names\n",
    "    if type(key) == str:\n",
    "        model_dir_full = sorted([os.path.join(directory, i) for i in os.listdir(directory) if key in i])\n",
    "    else:\n",
    "        model_dir_full = sorted([os.path.join(directory, i) for i in os.listdir(directory) if key(i)])\n",
    "    model_target_met_name = list(map(lambda x : x.split(\"_\")[3], model_dir_full))\n",
    "    model_names = [model_name.split(\"models_enhancement/model_vimeo11k_\")[-1].split(\".ckpt\")[0] for model_name in model_dir_full ]\n",
    "    return model_dir_full, model_target_met_name,model_names\n",
    "import matplotlib\n",
    "import matplotlib.cm as cm\n",
    "dst_dir = \"P:/7videos/\"\n",
    "def RD_curves_plot(test_RDcurves, videoname = sorted(os.listdir(dst_dir))[0], save_pgf = False, save_png = False, fig_file = \"./vis/RD_curves/\", force_names_all = None):        \n",
    "    import matplotlib.pyplot as plt\n",
    "    if force_names_all != None:\n",
    "        model_dirs_full, model_target_met_names, model_names = force_names_all\n",
    "    else:\n",
    "        model_dirs_full, model_target_met_names, model_names = get_met_names(key='fixed_direction')\n",
    "    met_num_table = {i:idx for idx,i in enumerate(set(model_target_met_names))}\n",
    "    count_Original_table = {i:0 for idx,i in enumerate(set(model_target_met_names))}\n",
    "    met_num_max = len(met_num_table)\n",
    "    fig, plt_sub = plt.subplots(2,met_num_max,figsize = (40,10), facecolor=(1, 1, 1))\n",
    "    plt_sub = plt_sub.T.ravel()\n",
    "    for i in plt_sub:\n",
    "        i.grid()\n",
    "    fig.suptitle(videoname)\n",
    "    for (idx, j), name,target_met in zip(enumerate(test_RDcurves), model_names, model_target_met_names):\n",
    "        if name != target_met:\n",
    "            p = name.split(\"_\")[:2] + [name.split(\"quality\")[-1][:1]]\n",
    "            if len(p) <= 2:\n",
    "                p = name + \" no preprocessing\"\n",
    "            else:\n",
    "                p = p[0] +\"+\"+ p[1] + (\" tuned for quality \" + p[2] if p[2].isdigit() else \" tuned without codec\")\n",
    "        else:\n",
    "            p = name + \" no preprocessing\"\n",
    "\n",
    "        print(met_num_table, target_met,met_num_table[target_met])\n",
    "        plt_sub[2*met_num_table[target_met]].plot(j[0]['bitrate']     [:len(j[0]['mse_loss'])], 10 * np.log10(1. / np.array(j[0]['mse_loss'])), label = p)\n",
    "        plt_sub[2*met_num_table[target_met]].set_ylabel(\"PSNR\")\n",
    "        plt_sub[2*met_num_table[target_met]].set_xlabel(\"bitrate\")\n",
    "        plt_sub[2*met_num_table[target_met] + 1].plot(j[0]['bitrate']   [:len(j[0]['mse_loss'])], -np.array(j[0][target_met]), label = p)\n",
    "        plt_sub[2*met_num_table[target_met] + 1].set_ylabel(target_met)\n",
    "        plt_sub[2*met_num_table[target_met] + 1].set_xlabel(\"bitrate\")\n",
    "        \n",
    "        #if count_Original_table[target_met] == 0:\n",
    "        #    count_Original_table[target_met] += 1\n",
    "            #plt_sub[2*met_num_table[target_met]].plot(j[1]['bitrate'], 10 * np.log10(1. / np.array(j[1]['mse_loss'])), label = \"Original\")\n",
    "            #plt_sub[2*met_num_table[target_met] + 1].plot(j[1]['bitrate'], -np.array(j[1][target_met]), label = \"Original\")\n",
    "        plt_sub[2*met_num_table[target_met] + 1].legend()\n",
    "        plt_sub[2*met_num_table[target_met]].legend()\n",
    "    fig.subplots_adjust(left=None, bottom=None, right=None, top=None, wspace=None, hspace=None)\n",
    "    fig.tight_layout() \n",
    "    if save_png:\n",
    "        plt.savefig(fig_file + '.png',bbox_inches='tight')\n",
    "    if save_pgf:\n",
    "        plt.savefig(fig_file + '.pgf',bbox_inches='tight')\n",
    "    \n",
    "\n",
    "    \n",
    "#for vid, Log_cur in zip(sorted(os.listdir(dst_dir)), Log_1):\n",
    "#    RD_curves_plot(Log_cur,videoname=vid, save_pgf = False, save_png = False, fig_file = \"./vis/RD_curves1/\" + vid)"
   ]
  },
  {
   "cell_type": "code",
   "execution_count": 5,
   "id": "regulation-unknown",
   "metadata": {},
   "outputs": [],
   "source": [
    "codecs_all_test = [\" -vcodec libx264   -preset:v medium -b:v 100k \",\" -vcodec libx264   -preset:v medium -b:v 3M \"]\n",
    "codecs_all = [\" -vcodec libx264   -preset:v medium -b:v 100k \",\n",
    "                                                                                 \" -vcodec libx264   -preset:v medium -b:v 200k \",\n",
    "              \" -vcodec libx264   -preset:v medium -b:v 300k \",\n",
    "               \" -vcodec libx264   -preset:v medium -b:v 500k \",\n",
    "                                                                      \" -vcodec libx264   -preset:v medium -b:v 1M \",\n",
    "                                                                                 \" -vcodec libx264   -preset:v medium -b:v 2M \",\n",
    "                                                           \" -vcodec libx264   -preset:v medium -b:v 3M \",\n",
    "                                                           \" -vcodec libx264   -preset:v medium -b:v 5M \",\n",
    "                                                           \" -vcodec libx264   -preset:v medium -b:v 7M \"\n",
    "                                                          \" -vcodec libx264   -preset:v medium -b:v 9M \",\n",
    "                                                                                \" -vcodec libx264   -preset:v medium -b:v 12M \"]"
   ]
  },
  {
   "cell_type": "code",
   "execution_count": null,
   "id": "clear-duncan",
   "metadata": {},
   "outputs": [],
   "source": []
  },
  {
   "cell_type": "code",
   "execution_count": 6,
   "id": "excellent-science",
   "metadata": {
    "scrolled": true
   },
   "outputs": [
    {
     "name": "stderr",
     "output_type": "stream",
     "text": [
      "Failed to detect the name of this notebook, you can set it manually with the WANDB_NOTEBOOK_NAME environment variable to enable code saving.\n",
      "wandb: Currently logged in as: havent_invented (use `wandb login --relogin` to force relogin)\n"
     ]
    },
    {
     "data": {
      "text/html": [
       "Tracking run with wandb version 0.12.11"
      ],
      "text/plain": [
       "<IPython.core.display.HTML object>"
      ]
     },
     "metadata": {},
     "output_type": "display_data"
    },
    {
     "data": {
      "text/html": [
       "Run data is saved locally in <code>E:\\VMAF_METRIX\\NeuralNetworkCompression\\wandb\\run-20220320_052139-3k21kp7l</code>"
      ],
      "text/plain": [
       "<IPython.core.display.HTML object>"
      ]
     },
     "metadata": {},
     "output_type": "display_data"
    },
    {
     "data": {
      "text/html": [
       "Syncing run <strong><a href=\"https://wandb.ai/havent_invented/Whitebox_strong_metrics_attacks/runs/3k21kp7l\" target=\"_blank\">RD_curves_all_met_18_03Without Preprocessing</a></strong> to <a href=\"https://wandb.ai/havent_invented/Whitebox_strong_metrics_attacks\" target=\"_blank\">Weights & Biases</a> (<a href=\"https://wandb.me/run\" target=\"_blank\">docs</a>)<br/>"
      ],
      "text/plain": [
       "<IPython.core.display.HTML object>"
      ]
     },
     "metadata": {},
     "output_type": "display_data"
    },
    {
     "data": {
      "application/vnd.jupyter.widget-view+json": {
       "model_id": "730af0eb272f4b198fa48ac70ab88003",
       "version_major": 2,
       "version_minor": 0
      },
      "text/plain": [
       "0it [00:00, ?it/s]"
      ]
     },
     "metadata": {},
     "output_type": "display_data"
    },
    {
     "data": {
      "application/vnd.jupyter.widget-view+json": {
       "model_id": "2f43ea49d104470eb0680cfd48551255",
       "version_major": 2,
       "version_minor": 0
      },
      "text/plain": [
       "0it [00:00, ?it/s]"
      ]
     },
     "metadata": {},
     "output_type": "display_data"
    },
    {
     "name": "stdout",
     "output_type": "stream",
     "text": [
      "Linearity ./models_enhancement/model_vimeo11k_MDTVSFA_2000mse_enhance_cheng2020_attn_quality2.ckpt\n"
     ]
    },
    {
     "data": {
      "application/vnd.jupyter.widget-view+json": {
       "model_id": "3546260dbc4a4d9087599ddd1fdb9e17",
       "version_major": 2,
       "version_minor": 0
      },
      "text/plain": [
       "0it [00:00, ?it/s]"
      ]
     },
     "metadata": {},
     "output_type": "display_data"
    },
    {
     "data": {
      "application/vnd.jupyter.widget-view+json": {
       "model_id": "0e74a14b54e64d4eb153028f1879fac4",
       "version_major": 2,
       "version_minor": 0
      },
      "text/plain": [
       "0it [00:00, ?it/s]"
      ]
     },
     "metadata": {},
     "output_type": "display_data"
    },
    {
     "name": "stderr",
     "output_type": "stream",
     "text": [
      "C:\\ProgramData\\Anaconda3\\envs\\backup\\lib\\site-packages\\torch\\nn\\functional.py:718: UserWarning: Named tensors and all their associated APIs are an experimental feature and subject to change. Please do not use them for anything important until they are released as stable. (Triggered internally at  ..\\c10/core/TensorImpl.h:1156.)\n",
      "  return torch.max_pool2d(input, kernel_size, stride, padding, dilation, ceil_mode)\n"
     ]
    },
    {
     "data": {
      "application/vnd.jupyter.widget-view+json": {
       "model_id": "e1d4194ef809449c9c2a35f34cc7406e",
       "version_major": 2,
       "version_minor": 0
      },
      "text/plain": [
       "0it [00:00, ?it/s]"
      ]
     },
     "metadata": {},
     "output_type": "display_data"
    },
    {
     "data": {
      "application/vnd.jupyter.widget-view+json": {
       "model_id": "e493639c88bd4bb9a75834a492ae357b",
       "version_major": 2,
       "version_minor": 0
      },
      "text/plain": [
       "0it [00:00, ?it/s]"
      ]
     },
     "metadata": {},
     "output_type": "display_data"
    },
    {
     "data": {
      "application/vnd.jupyter.widget-view+json": {
       "model_id": "412ed0ed3eec431e8bf2277abd1600de",
       "version_major": 2,
       "version_minor": 0
      },
      "text/plain": [
       "0it [00:00, ?it/s]"
      ]
     },
     "metadata": {},
     "output_type": "display_data"
    },
    {
     "data": {
      "application/vnd.jupyter.widget-view+json": {
       "model_id": "7ddcc01b23cc4b02b66b41b314173ae5",
       "version_major": 2,
       "version_minor": 0
      },
      "text/plain": [
       "0it [00:00, ?it/s]"
      ]
     },
     "metadata": {},
     "output_type": "display_data"
    },
    {
     "data": {
      "application/vnd.jupyter.widget-view+json": {
       "model_id": "51378673da2841d49630a083cd0c595f",
       "version_major": 2,
       "version_minor": 0
      },
      "text/plain": [
       "0it [00:00, ?it/s]"
      ]
     },
     "metadata": {},
     "output_type": "display_data"
    },
    {
     "data": {
      "application/vnd.jupyter.widget-view+json": {
       "model_id": "17edc556072b4570a154b9466125f861",
       "version_major": 2,
       "version_minor": 0
      },
      "text/plain": [
       "0it [00:00, ?it/s]"
      ]
     },
     "metadata": {},
     "output_type": "display_data"
    },
    {
     "data": {
      "application/vnd.jupyter.widget-view+json": {
       "model_id": "1987856bad95435cb283643f730d5dcb",
       "version_major": 2,
       "version_minor": 0
      },
      "text/plain": [
       "0it [00:00, ?it/s]"
      ]
     },
     "metadata": {},
     "output_type": "display_data"
    },
    {
     "data": {
      "application/vnd.jupyter.widget-view+json": {
       "model_id": "164e6415183b4779a59902a2d846c678",
       "version_major": 2,
       "version_minor": 0
      },
      "text/plain": [
       "0it [00:00, ?it/s]"
      ]
     },
     "metadata": {},
     "output_type": "display_data"
    },
    {
     "data": {
      "application/vnd.jupyter.widget-view+json": {
       "model_id": "72ec2ca997c14b47a948b409a2d28c1a",
       "version_major": 2,
       "version_minor": 0
      },
      "text/plain": [
       "0it [00:00, ?it/s]"
      ]
     },
     "metadata": {},
     "output_type": "display_data"
    },
    {
     "data": {
      "application/vnd.jupyter.widget-view+json": {
       "model_id": "0b7e750fda57411ca819e9befc91cc74",
       "version_major": 2,
       "version_minor": 0
      },
      "text/plain": [
       "0it [00:00, ?it/s]"
      ]
     },
     "metadata": {},
     "output_type": "display_data"
    },
    {
     "data": {
      "application/vnd.jupyter.widget-view+json": {
       "model_id": "a61dc27c3aa74c94898627bbc658635a",
       "version_major": 2,
       "version_minor": 0
      },
      "text/plain": [
       "0it [00:00, ?it/s]"
      ]
     },
     "metadata": {},
     "output_type": "display_data"
    },
    {
     "data": {
      "application/vnd.jupyter.widget-view+json": {
       "model_id": "4313a4c0a1e641bf9d173c7ecb9b2443",
       "version_major": 2,
       "version_minor": 0
      },
      "text/plain": [
       "0it [00:00, ?it/s]"
      ]
     },
     "metadata": {},
     "output_type": "display_data"
    },
    {
     "data": {
      "application/vnd.jupyter.widget-view+json": {
       "model_id": "280206937501447bb81c0ed82448d9b9",
       "version_major": 2,
       "version_minor": 0
      },
      "text/plain": [
       "0it [00:00, ?it/s]"
      ]
     },
     "metadata": {},
     "output_type": "display_data"
    },
    {
     "data": {
      "application/vnd.jupyter.widget-view+json": {
       "model_id": "c9652267d03f447d84f6beb114452ae7",
       "version_major": 2,
       "version_minor": 0
      },
      "text/plain": [
       "0it [00:00, ?it/s]"
      ]
     },
     "metadata": {},
     "output_type": "display_data"
    },
    {
     "data": {
      "application/vnd.jupyter.widget-view+json": {
       "model_id": "17195481b6ca41de87e6ac9b9ad893fe",
       "version_major": 2,
       "version_minor": 0
      },
      "text/plain": [
       "0it [00:00, ?it/s]"
      ]
     },
     "metadata": {},
     "output_type": "display_data"
    },
    {
     "data": {
      "application/vnd.jupyter.widget-view+json": {
       "model_id": "8981fb3533c347b8a0a99aae414078fb",
       "version_major": 2,
       "version_minor": 0
      },
      "text/plain": [
       "0it [00:00, ?it/s]"
      ]
     },
     "metadata": {},
     "output_type": "display_data"
    },
    {
     "data": {
      "application/vnd.jupyter.widget-view+json": {
       "model_id": "62105a20321941579871ed505234456f",
       "version_major": 2,
       "version_minor": 0
      },
      "text/plain": [
       "0it [00:00, ?it/s]"
      ]
     },
     "metadata": {},
     "output_type": "display_data"
    },
    {
     "data": {
      "application/vnd.jupyter.widget-view+json": {
       "model_id": "ab33de7b6f1b4b1b997bf4adfe3fd58f",
       "version_major": 2,
       "version_minor": 0
      },
      "text/plain": [
       "0it [00:00, ?it/s]"
      ]
     },
     "metadata": {},
     "output_type": "display_data"
    },
    {
     "name": "stdout",
     "output_type": "stream",
     "text": [
      "[{'mse_loss': [0.003761526, 0.0022537024, 0.0015512533, 0.00091297226, 0.00046287983, 0.0002791155, 0.00022671149, 0.00019999941, 0.00018672063, 0.00017199243], 'bpp_loss': [0.021601094, 0.021601094, 0.021601094, 0.021601094, 0.021601094, 0.021601094, 0.021601094, 0.021601094, 0.021601094, 0.021601094], 'loss_classic': [2.4675333, 1.4870713, 1.0303035, 0.6152613, 0.32258868, 0.20309597, 0.16902025, 0.15165071, 0.14301617, 0.13343918], 'PSNR': [24.301882, 26.550669, 28.171638, 30.460445, 33.400444, 35.58738, 36.4852, 37.067566, 37.52347, 37.957916], 'Linearity': [0.45339638, 0.40311885, 0.32244512, 0.1467707, -0.023824617, -0.14573695, -0.17144683, -0.16694605, -0.15692464, -0.15566349], 'loss': [906.7965, 806.2399, 644.89185, 293.5423, -47.648773, -291.47363, -342.89343, -333.8919, -313.8491, -311.32678], 'bitrate': [0.100881, 0.172306, 0.263106, 0.429271, 0.825821, 1.681812, 2.59339, 4.593584, 9.852437, 14.188521]}]\n",
      "MDTVSFA ./models_enhancement/model_vimeo11k_PAC2PIC_2000mse_enhance_cheng2020_attn_quality2_fixed_direction.ckpt\n"
     ]
    },
    {
     "data": {
      "application/vnd.jupyter.widget-view+json": {
       "model_id": "33ff58f48c394ed7b4a5a6d57a99d3bc",
       "version_major": 2,
       "version_minor": 0
      },
      "text/plain": [
       "0it [00:00, ?it/s]"
      ]
     },
     "metadata": {},
     "output_type": "display_data"
    },
    {
     "data": {
      "application/vnd.jupyter.widget-view+json": {
       "model_id": "64a96cbf765f4bcba2bfae70b13e0a6a",
       "version_major": 2,
       "version_minor": 0
      },
      "text/plain": [
       "0it [00:00, ?it/s]"
      ]
     },
     "metadata": {},
     "output_type": "display_data"
    },
    {
     "data": {
      "application/vnd.jupyter.widget-view+json": {
       "model_id": "a33eb8454f5c440983e2d2dbaad7fd06",
       "version_major": 2,
       "version_minor": 0
      },
      "text/plain": [
       "0it [00:00, ?it/s]"
      ]
     },
     "metadata": {},
     "output_type": "display_data"
    },
    {
     "data": {
      "application/vnd.jupyter.widget-view+json": {
       "model_id": "baf0b5a6bed843cf9b962c230facc0f0",
       "version_major": 2,
       "version_minor": 0
      },
      "text/plain": [
       "0it [00:00, ?it/s]"
      ]
     },
     "metadata": {},
     "output_type": "display_data"
    },
    {
     "data": {
      "application/vnd.jupyter.widget-view+json": {
       "model_id": "2920010ef62340a79475a1506c06f55a",
       "version_major": 2,
       "version_minor": 0
      },
      "text/plain": [
       "0it [00:00, ?it/s]"
      ]
     },
     "metadata": {},
     "output_type": "display_data"
    },
    {
     "data": {
      "application/vnd.jupyter.widget-view+json": {
       "model_id": "d985933c857c462bb266e1966d749bbd",
       "version_major": 2,
       "version_minor": 0
      },
      "text/plain": [
       "0it [00:00, ?it/s]"
      ]
     },
     "metadata": {},
     "output_type": "display_data"
    },
    {
     "data": {
      "application/vnd.jupyter.widget-view+json": {
       "model_id": "f0e12ef68b3c4a2f875a6bf6cf52052a",
       "version_major": 2,
       "version_minor": 0
      },
      "text/plain": [
       "0it [00:00, ?it/s]"
      ]
     },
     "metadata": {},
     "output_type": "display_data"
    },
    {
     "data": {
      "application/vnd.jupyter.widget-view+json": {
       "model_id": "674cd5525ad54143809b70d15fce8c9a",
       "version_major": 2,
       "version_minor": 0
      },
      "text/plain": [
       "0it [00:00, ?it/s]"
      ]
     },
     "metadata": {},
     "output_type": "display_data"
    },
    {
     "data": {
      "application/vnd.jupyter.widget-view+json": {
       "model_id": "75a3935b3fdd4ecca782c1a7da3bf0cf",
       "version_major": 2,
       "version_minor": 0
      },
      "text/plain": [
       "0it [00:00, ?it/s]"
      ]
     },
     "metadata": {},
     "output_type": "display_data"
    },
    {
     "data": {
      "application/vnd.jupyter.widget-view+json": {
       "model_id": "790073c5c6534ed8a231583282e0a8f7",
       "version_major": 2,
       "version_minor": 0
      },
      "text/plain": [
       "0it [00:00, ?it/s]"
      ]
     },
     "metadata": {},
     "output_type": "display_data"
    },
    {
     "data": {
      "application/vnd.jupyter.widget-view+json": {
       "model_id": "d2e240f2e3ea4666b3dce355637f265d",
       "version_major": 2,
       "version_minor": 0
      },
      "text/plain": [
       "0it [00:00, ?it/s]"
      ]
     },
     "metadata": {},
     "output_type": "display_data"
    },
    {
     "data": {
      "application/vnd.jupyter.widget-view+json": {
       "model_id": "0f7919fb93424929baab5c70f6d00a53",
       "version_major": 2,
       "version_minor": 0
      },
      "text/plain": [
       "0it [00:00, ?it/s]"
      ]
     },
     "metadata": {},
     "output_type": "display_data"
    },
    {
     "data": {
      "application/vnd.jupyter.widget-view+json": {
       "model_id": "49ce513c4f124ddc99cdb451e46cce51",
       "version_major": 2,
       "version_minor": 0
      },
      "text/plain": [
       "0it [00:00, ?it/s]"
      ]
     },
     "metadata": {},
     "output_type": "display_data"
    },
    {
     "data": {
      "application/vnd.jupyter.widget-view+json": {
       "model_id": "1bf09417ab8a40e8a297f0d3e3caead0",
       "version_major": 2,
       "version_minor": 0
      },
      "text/plain": [
       "0it [00:00, ?it/s]"
      ]
     },
     "metadata": {},
     "output_type": "display_data"
    },
    {
     "data": {
      "application/vnd.jupyter.widget-view+json": {
       "model_id": "2e1da97fb36f49f9a49dc98dfea428df",
       "version_major": 2,
       "version_minor": 0
      },
      "text/plain": [
       "0it [00:00, ?it/s]"
      ]
     },
     "metadata": {},
     "output_type": "display_data"
    },
    {
     "data": {
      "application/vnd.jupyter.widget-view+json": {
       "model_id": "308c3d8d759a43c5b5fa175092850972",
       "version_major": 2,
       "version_minor": 0
      },
      "text/plain": [
       "0it [00:00, ?it/s]"
      ]
     },
     "metadata": {},
     "output_type": "display_data"
    },
    {
     "data": {
      "application/vnd.jupyter.widget-view+json": {
       "model_id": "a95875a07fb44a9784c8c86ac182e806",
       "version_major": 2,
       "version_minor": 0
      },
      "text/plain": [
       "0it [00:00, ?it/s]"
      ]
     },
     "metadata": {},
     "output_type": "display_data"
    },
    {
     "data": {
      "application/vnd.jupyter.widget-view+json": {
       "model_id": "b63c522520034f0ab018d81468de303e",
       "version_major": 2,
       "version_minor": 0
      },
      "text/plain": [
       "0it [00:00, ?it/s]"
      ]
     },
     "metadata": {},
     "output_type": "display_data"
    },
    {
     "data": {
      "application/vnd.jupyter.widget-view+json": {
       "model_id": "3ed0ac9a534340bd82a95029a3a25fa6",
       "version_major": 2,
       "version_minor": 0
      },
      "text/plain": [
       "0it [00:00, ?it/s]"
      ]
     },
     "metadata": {},
     "output_type": "display_data"
    },
    {
     "data": {
      "application/vnd.jupyter.widget-view+json": {
       "model_id": "2473efb6fcae426bb5b8efe521e4f7a1",
       "version_major": 2,
       "version_minor": 0
      },
      "text/plain": [
       "0it [00:00, ?it/s]"
      ]
     },
     "metadata": {},
     "output_type": "display_data"
    },
    {
     "name": "stdout",
     "output_type": "stream",
     "text": [
      "[{'mse_loss': [0.003761526, 0.0022537024, 0.0015512533, 0.00091297226, 0.00046287983, 0.0002791155, 0.00022671149, 0.00019999941, 0.00018672063, 0.00017199243], 'bpp_loss': [0.021601094, 0.021601094, 0.021601094, 0.021601094, 0.021601094, 0.021601094, 0.021601094, 0.021601094, 0.021601094, 0.021601094], 'loss_classic': [2.4675333, 1.4870713, 1.0303035, 0.6152613, 0.32258868, 0.20309597, 0.16902025, 0.15165071, 0.14301617, 0.13343918], 'PSNR': [24.301882, 26.550669, 28.171638, 30.460445, 33.400444, 35.58738, 36.4852, 37.067566, 37.52347, 37.957916], 'MDTVSFA': [-0.44870508, -0.47278503, -0.485685, -0.50394565, -0.515102, -0.5236566, -0.526125, -0.52738714, -0.5274074, -0.52813506], 'loss': [-897.4064, -945.56775, -971.36847, -1007.8904, -1030.2035, -1047.3129, -1052.2498, -1054.774, -1054.8146, -1056.2699], 'bitrate': [0.100881, 0.172306, 0.263106, 0.429271, 0.825821, 1.681812, 2.59339, 4.593584, 9.852437, 14.188521]}]\n",
      "PAC2PIQ ./models_enhancement/model_vimeo11k_SPAQ_2000mse_enhance_cheng2020_attn_quality2_fixed_direction.ckpt\n"
     ]
    },
    {
     "data": {
      "application/vnd.jupyter.widget-view+json": {
       "model_id": "2fd8a97ac77047d79104ccf211cc3003",
       "version_major": 2,
       "version_minor": 0
      },
      "text/plain": [
       "0it [00:00, ?it/s]"
      ]
     },
     "metadata": {},
     "output_type": "display_data"
    },
    {
     "data": {
      "application/vnd.jupyter.widget-view+json": {
       "model_id": "4eadaab9b7a946a4a4b88c01fa6bc607",
       "version_major": 2,
       "version_minor": 0
      },
      "text/plain": [
       "0it [00:00, ?it/s]"
      ]
     },
     "metadata": {},
     "output_type": "display_data"
    },
    {
     "data": {
      "application/vnd.jupyter.widget-view+json": {
       "model_id": "0df10be9587f4ba38f7d7ba4d94ea30a",
       "version_major": 2,
       "version_minor": 0
      },
      "text/plain": [
       "0it [00:00, ?it/s]"
      ]
     },
     "metadata": {},
     "output_type": "display_data"
    },
    {
     "data": {
      "application/vnd.jupyter.widget-view+json": {
       "model_id": "898badb4838148d9a0beddb0ff9965b1",
       "version_major": 2,
       "version_minor": 0
      },
      "text/plain": [
       "0it [00:00, ?it/s]"
      ]
     },
     "metadata": {},
     "output_type": "display_data"
    },
    {
     "data": {
      "application/vnd.jupyter.widget-view+json": {
       "model_id": "bf5eb846ee2e48e6803a86446e5b0d52",
       "version_major": 2,
       "version_minor": 0
      },
      "text/plain": [
       "0it [00:00, ?it/s]"
      ]
     },
     "metadata": {},
     "output_type": "display_data"
    },
    {
     "data": {
      "application/vnd.jupyter.widget-view+json": {
       "model_id": "08b470157e4f41c1baa1e07f84bfdb64",
       "version_major": 2,
       "version_minor": 0
      },
      "text/plain": [
       "0it [00:00, ?it/s]"
      ]
     },
     "metadata": {},
     "output_type": "display_data"
    },
    {
     "data": {
      "application/vnd.jupyter.widget-view+json": {
       "model_id": "2b753ea75828401f87335cf637a89684",
       "version_major": 2,
       "version_minor": 0
      },
      "text/plain": [
       "0it [00:00, ?it/s]"
      ]
     },
     "metadata": {},
     "output_type": "display_data"
    },
    {
     "data": {
      "application/vnd.jupyter.widget-view+json": {
       "model_id": "145c4720e4024a049497ff2f7772f8cf",
       "version_major": 2,
       "version_minor": 0
      },
      "text/plain": [
       "0it [00:00, ?it/s]"
      ]
     },
     "metadata": {},
     "output_type": "display_data"
    },
    {
     "data": {
      "application/vnd.jupyter.widget-view+json": {
       "model_id": "2c4fdae277624eb7b6c7a0f2e6cfc7d4",
       "version_major": 2,
       "version_minor": 0
      },
      "text/plain": [
       "0it [00:00, ?it/s]"
      ]
     },
     "metadata": {},
     "output_type": "display_data"
    },
    {
     "data": {
      "application/vnd.jupyter.widget-view+json": {
       "model_id": "0c4c7cae4bf24cb8816f74bfa2ef232a",
       "version_major": 2,
       "version_minor": 0
      },
      "text/plain": [
       "0it [00:00, ?it/s]"
      ]
     },
     "metadata": {},
     "output_type": "display_data"
    },
    {
     "data": {
      "application/vnd.jupyter.widget-view+json": {
       "model_id": "e837279bb432470b883bf1f9facb38e3",
       "version_major": 2,
       "version_minor": 0
      },
      "text/plain": [
       "0it [00:00, ?it/s]"
      ]
     },
     "metadata": {},
     "output_type": "display_data"
    },
    {
     "data": {
      "application/vnd.jupyter.widget-view+json": {
       "model_id": "3d12484abfb2400cbce60efda7b19b77",
       "version_major": 2,
       "version_minor": 0
      },
      "text/plain": [
       "0it [00:00, ?it/s]"
      ]
     },
     "metadata": {},
     "output_type": "display_data"
    },
    {
     "data": {
      "application/vnd.jupyter.widget-view+json": {
       "model_id": "e6431545706d42daa919ea968efd4aa3",
       "version_major": 2,
       "version_minor": 0
      },
      "text/plain": [
       "0it [00:00, ?it/s]"
      ]
     },
     "metadata": {},
     "output_type": "display_data"
    },
    {
     "data": {
      "application/vnd.jupyter.widget-view+json": {
       "model_id": "09f8c83e82dc4d4ea16a0493294a58ec",
       "version_major": 2,
       "version_minor": 0
      },
      "text/plain": [
       "0it [00:00, ?it/s]"
      ]
     },
     "metadata": {},
     "output_type": "display_data"
    },
    {
     "data": {
      "application/vnd.jupyter.widget-view+json": {
       "model_id": "cd983828800e4549a06d0ee01a3cf6b2",
       "version_major": 2,
       "version_minor": 0
      },
      "text/plain": [
       "0it [00:00, ?it/s]"
      ]
     },
     "metadata": {},
     "output_type": "display_data"
    },
    {
     "data": {
      "application/vnd.jupyter.widget-view+json": {
       "model_id": "7354a16c0c7b40ac9b90fb9132b7fff9",
       "version_major": 2,
       "version_minor": 0
      },
      "text/plain": [
       "0it [00:00, ?it/s]"
      ]
     },
     "metadata": {},
     "output_type": "display_data"
    },
    {
     "data": {
      "application/vnd.jupyter.widget-view+json": {
       "model_id": "1b9417363f8444d1859fef12d35e1c75",
       "version_major": 2,
       "version_minor": 0
      },
      "text/plain": [
       "0it [00:00, ?it/s]"
      ]
     },
     "metadata": {},
     "output_type": "display_data"
    },
    {
     "data": {
      "application/vnd.jupyter.widget-view+json": {
       "model_id": "1d54984e627d463fb204b8c5b1bbe260",
       "version_major": 2,
       "version_minor": 0
      },
      "text/plain": [
       "0it [00:00, ?it/s]"
      ]
     },
     "metadata": {},
     "output_type": "display_data"
    },
    {
     "data": {
      "application/vnd.jupyter.widget-view+json": {
       "model_id": "05946554597b4c79b421ec7f5a154d3e",
       "version_major": 2,
       "version_minor": 0
      },
      "text/plain": [
       "0it [00:00, ?it/s]"
      ]
     },
     "metadata": {},
     "output_type": "display_data"
    },
    {
     "data": {
      "application/vnd.jupyter.widget-view+json": {
       "model_id": "caab183ca40f413a95f5cee5efc7d902",
       "version_major": 2,
       "version_minor": 0
      },
      "text/plain": [
       "0it [00:00, ?it/s]"
      ]
     },
     "metadata": {},
     "output_type": "display_data"
    },
    {
     "name": "stdout",
     "output_type": "stream",
     "text": [
      "[{'mse_loss': [0.003761526, 0.0022537024, 0.0015512533, 0.00091297226, 0.00046287983, 0.0002791155, 0.00022671149, 0.00019999941, 0.00018672063, 0.00017199243], 'bpp_loss': [0.021601094, 0.021601094, 0.021601094, 0.021601094, 0.021601094, 0.021601094, 0.021601094, 0.021601094, 0.021601094, 0.021601094], 'loss_classic': [2.4675333, 1.4870713, 1.0303035, 0.6152613, 0.32258868, 0.20309597, 0.16902025, 0.15165071, 0.14301617, 0.13343918], 'PSNR': [24.301882, 26.550669, 28.171638, 30.460445, 33.400444, 35.58738, 36.4852, 37.067566, 37.52347, 37.957916], 'PAC2PIQ': [-0.49286443, -0.56116676, -0.6120634, -0.66599584, -0.705251, -0.71799374, -0.7174728, -0.7135598, -0.7102464, -0.70892775], 'loss': [-985.7252, -1122.3313, -1224.1251, -1331.9907, -1410.5015, -1435.9872, -1434.9453, -1427.1194, -1420.4926, -1417.8553], 'bitrate': [0.100881, 0.172306, 0.263106, 0.429271, 0.825821, 1.681812, 2.59339, 4.593584, 9.852437, 14.188521]}]\n",
      "SPAQ ./models_enhancement/model_vimeo11k_VSFA_2000mse_enhance_cheng2020_attn_quality2_fixed_direction.ckpt\n"
     ]
    },
    {
     "data": {
      "application/vnd.jupyter.widget-view+json": {
       "model_id": "ee7e83e112a947a3b68b0362b47fe220",
       "version_major": 2,
       "version_minor": 0
      },
      "text/plain": [
       "0it [00:00, ?it/s]"
      ]
     },
     "metadata": {},
     "output_type": "display_data"
    },
    {
     "data": {
      "application/vnd.jupyter.widget-view+json": {
       "model_id": "e985263478e24df78f20087eacdcdf7d",
       "version_major": 2,
       "version_minor": 0
      },
      "text/plain": [
       "0it [00:00, ?it/s]"
      ]
     },
     "metadata": {},
     "output_type": "display_data"
    },
    {
     "data": {
      "application/vnd.jupyter.widget-view+json": {
       "model_id": "55a59a1f51d141c2aaa8b87a9c004ee2",
       "version_major": 2,
       "version_minor": 0
      },
      "text/plain": [
       "0it [00:00, ?it/s]"
      ]
     },
     "metadata": {},
     "output_type": "display_data"
    },
    {
     "data": {
      "application/vnd.jupyter.widget-view+json": {
       "model_id": "48fd122d08ef4acc908e08143ce3c721",
       "version_major": 2,
       "version_minor": 0
      },
      "text/plain": [
       "0it [00:00, ?it/s]"
      ]
     },
     "metadata": {},
     "output_type": "display_data"
    },
    {
     "data": {
      "application/vnd.jupyter.widget-view+json": {
       "model_id": "49cd63e06abd4a6cb397d67ed03aad80",
       "version_major": 2,
       "version_minor": 0
      },
      "text/plain": [
       "0it [00:00, ?it/s]"
      ]
     },
     "metadata": {},
     "output_type": "display_data"
    },
    {
     "data": {
      "application/vnd.jupyter.widget-view+json": {
       "model_id": "9c55ab4f0b6a4e9e82733fa40b9a9587",
       "version_major": 2,
       "version_minor": 0
      },
      "text/plain": [
       "0it [00:00, ?it/s]"
      ]
     },
     "metadata": {},
     "output_type": "display_data"
    },
    {
     "data": {
      "application/vnd.jupyter.widget-view+json": {
       "model_id": "de1615386b15463287336bb11ec4439a",
       "version_major": 2,
       "version_minor": 0
      },
      "text/plain": [
       "0it [00:00, ?it/s]"
      ]
     },
     "metadata": {},
     "output_type": "display_data"
    },
    {
     "data": {
      "application/vnd.jupyter.widget-view+json": {
       "model_id": "e9c7a31aee7a412e8145ba1ef3190057",
       "version_major": 2,
       "version_minor": 0
      },
      "text/plain": [
       "0it [00:00, ?it/s]"
      ]
     },
     "metadata": {},
     "output_type": "display_data"
    },
    {
     "data": {
      "application/vnd.jupyter.widget-view+json": {
       "model_id": "99411ba5c03f4b1b8755b7ff4558ef44",
       "version_major": 2,
       "version_minor": 0
      },
      "text/plain": [
       "0it [00:00, ?it/s]"
      ]
     },
     "metadata": {},
     "output_type": "display_data"
    },
    {
     "data": {
      "application/vnd.jupyter.widget-view+json": {
       "model_id": "e17891902a764ea9b0f35d4eed63de77",
       "version_major": 2,
       "version_minor": 0
      },
      "text/plain": [
       "0it [00:00, ?it/s]"
      ]
     },
     "metadata": {},
     "output_type": "display_data"
    },
    {
     "data": {
      "application/vnd.jupyter.widget-view+json": {
       "model_id": "36553efa7de8408dbbd16dc735abba07",
       "version_major": 2,
       "version_minor": 0
      },
      "text/plain": [
       "0it [00:00, ?it/s]"
      ]
     },
     "metadata": {},
     "output_type": "display_data"
    },
    {
     "data": {
      "application/vnd.jupyter.widget-view+json": {
       "model_id": "93e2825203494e26959d22bc0da0d2d8",
       "version_major": 2,
       "version_minor": 0
      },
      "text/plain": [
       "0it [00:00, ?it/s]"
      ]
     },
     "metadata": {},
     "output_type": "display_data"
    },
    {
     "data": {
      "application/vnd.jupyter.widget-view+json": {
       "model_id": "a7930735d8e841fc91c6ae6e56267d6d",
       "version_major": 2,
       "version_minor": 0
      },
      "text/plain": [
       "0it [00:00, ?it/s]"
      ]
     },
     "metadata": {},
     "output_type": "display_data"
    },
    {
     "data": {
      "application/vnd.jupyter.widget-view+json": {
       "model_id": "a02117b60d464ab9aa570c464d2a7cb9",
       "version_major": 2,
       "version_minor": 0
      },
      "text/plain": [
       "0it [00:00, ?it/s]"
      ]
     },
     "metadata": {},
     "output_type": "display_data"
    },
    {
     "data": {
      "application/vnd.jupyter.widget-view+json": {
       "model_id": "0d70de84b253432c940a3f8e213e0b89",
       "version_major": 2,
       "version_minor": 0
      },
      "text/plain": [
       "0it [00:00, ?it/s]"
      ]
     },
     "metadata": {},
     "output_type": "display_data"
    },
    {
     "data": {
      "application/vnd.jupyter.widget-view+json": {
       "model_id": "a08ed441f681496cb57ea2fcda203f01",
       "version_major": 2,
       "version_minor": 0
      },
      "text/plain": [
       "0it [00:00, ?it/s]"
      ]
     },
     "metadata": {},
     "output_type": "display_data"
    },
    {
     "data": {
      "application/vnd.jupyter.widget-view+json": {
       "model_id": "5bfb8100feba44e2ac8698c01cb2b42d",
       "version_major": 2,
       "version_minor": 0
      },
      "text/plain": [
       "0it [00:00, ?it/s]"
      ]
     },
     "metadata": {},
     "output_type": "display_data"
    },
    {
     "data": {
      "application/vnd.jupyter.widget-view+json": {
       "model_id": "c4f092866fc7440ba7a677b147573e91",
       "version_major": 2,
       "version_minor": 0
      },
      "text/plain": [
       "0it [00:00, ?it/s]"
      ]
     },
     "metadata": {},
     "output_type": "display_data"
    },
    {
     "data": {
      "application/vnd.jupyter.widget-view+json": {
       "model_id": "686f6d1c03e54004851ba2dec180b191",
       "version_major": 2,
       "version_minor": 0
      },
      "text/plain": [
       "0it [00:00, ?it/s]"
      ]
     },
     "metadata": {},
     "output_type": "display_data"
    },
    {
     "data": {
      "application/vnd.jupyter.widget-view+json": {
       "model_id": "cec12fc1220740818a2573dac4330c21",
       "version_major": 2,
       "version_minor": 0
      },
      "text/plain": [
       "0it [00:00, ?it/s]"
      ]
     },
     "metadata": {},
     "output_type": "display_data"
    },
    {
     "name": "stdout",
     "output_type": "stream",
     "text": [
      "[{'mse_loss': [0.003761526, 0.0022537024, 0.0015512533, 0.00091297226, 0.00046287983, 0.0002791155, 0.00022671149, 0.00019999941, 0.00018672063, 0.00017199243], 'bpp_loss': [0.021601094, 0.021601094, 0.021601094, 0.021601094, 0.021601094, 0.021601094, 0.021601094, 0.021601094, 0.021601094, 0.021601094], 'loss_classic': [2.4675333, 1.4870713, 1.0303035, 0.6152613, 0.32258868, 0.20309597, 0.16902025, 0.15165071, 0.14301617, 0.13343918], 'PSNR': [24.301882, 26.550669, 28.171638, 30.460445, 33.400444, 35.58738, 36.4852, 37.067566, 37.52347, 37.957916], 'SPAQ': [-0.40260553, -0.3983474, -0.3903737, -0.4162528, -0.4233754, -0.43182716, -0.430534, -0.44013584, -0.43401402, -0.43656975], 'loss': [-805.2074, -796.6926, -780.74585, -832.5047, -846.7503, -863.654, -861.06775, -880.2716, -868.02795, -873.1393], 'bitrate': [0.100881, 0.172306, 0.263106, 0.429271, 0.825821, 1.681812, 2.59339, 4.593584, 9.852437, 14.188521]}]\n",
      "VSFA ./models_enhancement/model_vimeo11k_Linearity_2000mse_enhance_no_codec_fixed_direction.ckpt\n"
     ]
    },
    {
     "data": {
      "application/vnd.jupyter.widget-view+json": {
       "model_id": "5b76b76c74eb45808b068b620dcaecef",
       "version_major": 2,
       "version_minor": 0
      },
      "text/plain": [
       "0it [00:00, ?it/s]"
      ]
     },
     "metadata": {},
     "output_type": "display_data"
    },
    {
     "data": {
      "application/vnd.jupyter.widget-view+json": {
       "model_id": "98774789fb9f4055b558ec8577224621",
       "version_major": 2,
       "version_minor": 0
      },
      "text/plain": [
       "0it [00:00, ?it/s]"
      ]
     },
     "metadata": {},
     "output_type": "display_data"
    },
    {
     "data": {
      "application/vnd.jupyter.widget-view+json": {
       "model_id": "2a1879debd4e4738a2e7f318969ee4a1",
       "version_major": 2,
       "version_minor": 0
      },
      "text/plain": [
       "0it [00:00, ?it/s]"
      ]
     },
     "metadata": {},
     "output_type": "display_data"
    },
    {
     "data": {
      "application/vnd.jupyter.widget-view+json": {
       "model_id": "01007e813a9d473da56a56e4c5fbc830",
       "version_major": 2,
       "version_minor": 0
      },
      "text/plain": [
       "0it [00:00, ?it/s]"
      ]
     },
     "metadata": {},
     "output_type": "display_data"
    },
    {
     "data": {
      "application/vnd.jupyter.widget-view+json": {
       "model_id": "d8cc2a9a436241bfbb16ac232c617c37",
       "version_major": 2,
       "version_minor": 0
      },
      "text/plain": [
       "0it [00:00, ?it/s]"
      ]
     },
     "metadata": {},
     "output_type": "display_data"
    },
    {
     "data": {
      "application/vnd.jupyter.widget-view+json": {
       "model_id": "9eb3c944e434412b98df3df0daa384dd",
       "version_major": 2,
       "version_minor": 0
      },
      "text/plain": [
       "0it [00:00, ?it/s]"
      ]
     },
     "metadata": {},
     "output_type": "display_data"
    },
    {
     "data": {
      "application/vnd.jupyter.widget-view+json": {
       "model_id": "c67d841462c9430facb3eb687c02c54d",
       "version_major": 2,
       "version_minor": 0
      },
      "text/plain": [
       "0it [00:00, ?it/s]"
      ]
     },
     "metadata": {},
     "output_type": "display_data"
    },
    {
     "data": {
      "application/vnd.jupyter.widget-view+json": {
       "model_id": "b761971643964174a224fd7430922496",
       "version_major": 2,
       "version_minor": 0
      },
      "text/plain": [
       "0it [00:00, ?it/s]"
      ]
     },
     "metadata": {},
     "output_type": "display_data"
    },
    {
     "data": {
      "application/vnd.jupyter.widget-view+json": {
       "model_id": "fce3d7ff8e9e44ddaf56a547a7aae90a",
       "version_major": 2,
       "version_minor": 0
      },
      "text/plain": [
       "0it [00:00, ?it/s]"
      ]
     },
     "metadata": {},
     "output_type": "display_data"
    },
    {
     "data": {
      "application/vnd.jupyter.widget-view+json": {
       "model_id": "b85ad0cef7fb4439ae22af24565ec60b",
       "version_major": 2,
       "version_minor": 0
      },
      "text/plain": [
       "0it [00:00, ?it/s]"
      ]
     },
     "metadata": {},
     "output_type": "display_data"
    },
    {
     "data": {
      "application/vnd.jupyter.widget-view+json": {
       "model_id": "ca8f6a7e32e74a11a3cdcd270a8466ce",
       "version_major": 2,
       "version_minor": 0
      },
      "text/plain": [
       "0it [00:00, ?it/s]"
      ]
     },
     "metadata": {},
     "output_type": "display_data"
    },
    {
     "data": {
      "application/vnd.jupyter.widget-view+json": {
       "model_id": "01579701f85846f9aa40b2519d92081f",
       "version_major": 2,
       "version_minor": 0
      },
      "text/plain": [
       "0it [00:00, ?it/s]"
      ]
     },
     "metadata": {},
     "output_type": "display_data"
    },
    {
     "data": {
      "application/vnd.jupyter.widget-view+json": {
       "model_id": "1afab8f94d4c46a6ab151c1b1494e8c0",
       "version_major": 2,
       "version_minor": 0
      },
      "text/plain": [
       "0it [00:00, ?it/s]"
      ]
     },
     "metadata": {},
     "output_type": "display_data"
    },
    {
     "data": {
      "application/vnd.jupyter.widget-view+json": {
       "model_id": "ff45dbf779ab46df8449fefda7786f08",
       "version_major": 2,
       "version_minor": 0
      },
      "text/plain": [
       "0it [00:00, ?it/s]"
      ]
     },
     "metadata": {},
     "output_type": "display_data"
    },
    {
     "data": {
      "application/vnd.jupyter.widget-view+json": {
       "model_id": "b5a52b0916024c939d82d96fa38128fd",
       "version_major": 2,
       "version_minor": 0
      },
      "text/plain": [
       "0it [00:00, ?it/s]"
      ]
     },
     "metadata": {},
     "output_type": "display_data"
    },
    {
     "data": {
      "application/vnd.jupyter.widget-view+json": {
       "model_id": "98b1c1c168d14bc2a09540b3f1841ab0",
       "version_major": 2,
       "version_minor": 0
      },
      "text/plain": [
       "0it [00:00, ?it/s]"
      ]
     },
     "metadata": {},
     "output_type": "display_data"
    },
    {
     "data": {
      "application/vnd.jupyter.widget-view+json": {
       "model_id": "b929d55fea254c11b6e51143505fdc40",
       "version_major": 2,
       "version_minor": 0
      },
      "text/plain": [
       "0it [00:00, ?it/s]"
      ]
     },
     "metadata": {},
     "output_type": "display_data"
    },
    {
     "data": {
      "application/vnd.jupyter.widget-view+json": {
       "model_id": "d1b6dc59560f41a48cc7edd0595b7d9a",
       "version_major": 2,
       "version_minor": 0
      },
      "text/plain": [
       "0it [00:00, ?it/s]"
      ]
     },
     "metadata": {},
     "output_type": "display_data"
    },
    {
     "data": {
      "application/vnd.jupyter.widget-view+json": {
       "model_id": "6ea9926544b144afa5afbeb2ebc6ae68",
       "version_major": 2,
       "version_minor": 0
      },
      "text/plain": [
       "0it [00:00, ?it/s]"
      ]
     },
     "metadata": {},
     "output_type": "display_data"
    },
    {
     "data": {
      "application/vnd.jupyter.widget-view+json": {
       "model_id": "337f2198a4484597bfb48e490fd9f7ba",
       "version_major": 2,
       "version_minor": 0
      },
      "text/plain": [
       "0it [00:00, ?it/s]"
      ]
     },
     "metadata": {},
     "output_type": "display_data"
    },
    {
     "name": "stdout",
     "output_type": "stream",
     "text": [
      "[{'mse_loss': [0.0037615257, 0.0022537024, 0.0015512533, 0.00091297226, 0.0004628798, 0.00027911557, 0.00022671153, 0.00019999946, 0.00018672064, 0.00017199246], 'bpp_loss': [0.010800547, 0.010800547, 0.010800547, 0.010800547, 0.010800547, 0.010800547, 0.010800547, 0.010800547, 0.010800547, 0.010800547], 'loss_classic': [2.4567327, 1.4762707, 1.019503, 0.6044607, 0.31178814, 0.19229542, 0.15821971, 0.14085019, 0.13221565, 0.12263864], 'PSNR': [24.29602, 26.533306, 28.159622, 30.45428, 33.39445, 35.58181, 36.478874, 37.05613, 37.50896, 37.943176], 'VSFA': [-0.39656407, -0.44951862, -0.47302955, -0.5023433, -0.521147, -0.524607, -0.5242802, -0.5270975, -0.5318683, -0.5310252], 'loss': [-793.1244, -899.0349, -946.0576, -1004.68567, -1042.2935, -1049.2136, -1048.5602, -1054.1948, -1063.7363, -1062.0502], 'bitrate': [0.100881, 0.172306, 0.263106, 0.429271, 0.825821, 1.681812, 2.59339, 4.593584, 9.852437, 14.188521]}]\n"
     ]
    },
    {
     "data": {
      "application/vnd.jupyter.widget-view+json": {
       "model_id": "79d990a3c1c84006a9de4db93993075c",
       "version_major": 2,
       "version_minor": 0
      },
      "text/plain": [
       "0it [00:00, ?it/s]"
      ]
     },
     "metadata": {},
     "output_type": "display_data"
    },
    {
     "name": "stdout",
     "output_type": "stream",
     "text": [
      "Linearity ./models_enhancement/model_vimeo11k_MDTVSFA_2000mse_enhance_cheng2020_attn_quality2.ckpt\n"
     ]
    },
    {
     "data": {
      "application/vnd.jupyter.widget-view+json": {
       "model_id": "fccd785b78df4489a0ba3eaa186db1bf",
       "version_major": 2,
       "version_minor": 0
      },
      "text/plain": [
       "0it [00:00, ?it/s]"
      ]
     },
     "metadata": {},
     "output_type": "display_data"
    },
    {
     "data": {
      "application/vnd.jupyter.widget-view+json": {
       "model_id": "51334083cf174a7585503ecfa1090d62",
       "version_major": 2,
       "version_minor": 0
      },
      "text/plain": [
       "0it [00:00, ?it/s]"
      ]
     },
     "metadata": {},
     "output_type": "display_data"
    },
    {
     "data": {
      "application/vnd.jupyter.widget-view+json": {
       "model_id": "97f00d7e963b43e28036ed4ec223413f",
       "version_major": 2,
       "version_minor": 0
      },
      "text/plain": [
       "0it [00:00, ?it/s]"
      ]
     },
     "metadata": {},
     "output_type": "display_data"
    },
    {
     "data": {
      "application/vnd.jupyter.widget-view+json": {
       "model_id": "97c84b03e1f34611b288cca99c744c1f",
       "version_major": 2,
       "version_minor": 0
      },
      "text/plain": [
       "0it [00:00, ?it/s]"
      ]
     },
     "metadata": {},
     "output_type": "display_data"
    },
    {
     "data": {
      "application/vnd.jupyter.widget-view+json": {
       "model_id": "ab6ca7a38696482da683a4efed2df51e",
       "version_major": 2,
       "version_minor": 0
      },
      "text/plain": [
       "0it [00:00, ?it/s]"
      ]
     },
     "metadata": {},
     "output_type": "display_data"
    },
    {
     "data": {
      "application/vnd.jupyter.widget-view+json": {
       "model_id": "23db14c158414628805647ea0e4de9a5",
       "version_major": 2,
       "version_minor": 0
      },
      "text/plain": [
       "0it [00:00, ?it/s]"
      ]
     },
     "metadata": {},
     "output_type": "display_data"
    },
    {
     "data": {
      "application/vnd.jupyter.widget-view+json": {
       "model_id": "ca1215a3ca9c4c608e45d0e8aa00e605",
       "version_major": 2,
       "version_minor": 0
      },
      "text/plain": [
       "0it [00:00, ?it/s]"
      ]
     },
     "metadata": {},
     "output_type": "display_data"
    },
    {
     "data": {
      "application/vnd.jupyter.widget-view+json": {
       "model_id": "ccd23f21963243e382b551954c1d0203",
       "version_major": 2,
       "version_minor": 0
      },
      "text/plain": [
       "0it [00:00, ?it/s]"
      ]
     },
     "metadata": {},
     "output_type": "display_data"
    },
    {
     "data": {
      "application/vnd.jupyter.widget-view+json": {
       "model_id": "777e23d9bf00463da60518bdd1b8580a",
       "version_major": 2,
       "version_minor": 0
      },
      "text/plain": [
       "0it [00:00, ?it/s]"
      ]
     },
     "metadata": {},
     "output_type": "display_data"
    },
    {
     "data": {
      "application/vnd.jupyter.widget-view+json": {
       "model_id": "fecfd08988df4effa424145555870d83",
       "version_major": 2,
       "version_minor": 0
      },
      "text/plain": [
       "0it [00:00, ?it/s]"
      ]
     },
     "metadata": {},
     "output_type": "display_data"
    },
    {
     "data": {
      "application/vnd.jupyter.widget-view+json": {
       "model_id": "510fd7cb78124d25ac1d3410d87cd6cd",
       "version_major": 2,
       "version_minor": 0
      },
      "text/plain": [
       "0it [00:00, ?it/s]"
      ]
     },
     "metadata": {},
     "output_type": "display_data"
    },
    {
     "data": {
      "application/vnd.jupyter.widget-view+json": {
       "model_id": "b115856d277e4f188ef645ed3debc38a",
       "version_major": 2,
       "version_minor": 0
      },
      "text/plain": [
       "0it [00:00, ?it/s]"
      ]
     },
     "metadata": {},
     "output_type": "display_data"
    },
    {
     "data": {
      "application/vnd.jupyter.widget-view+json": {
       "model_id": "37668cbbbf4a49f999c78e3255ffa238",
       "version_major": 2,
       "version_minor": 0
      },
      "text/plain": [
       "0it [00:00, ?it/s]"
      ]
     },
     "metadata": {},
     "output_type": "display_data"
    },
    {
     "data": {
      "application/vnd.jupyter.widget-view+json": {
       "model_id": "f2e7b42453c14b48a42ee7369e35e064",
       "version_major": 2,
       "version_minor": 0
      },
      "text/plain": [
       "0it [00:00, ?it/s]"
      ]
     },
     "metadata": {},
     "output_type": "display_data"
    },
    {
     "data": {
      "application/vnd.jupyter.widget-view+json": {
       "model_id": "1cf3e8da98264060800b26608ec20120",
       "version_major": 2,
       "version_minor": 0
      },
      "text/plain": [
       "0it [00:00, ?it/s]"
      ]
     },
     "metadata": {},
     "output_type": "display_data"
    },
    {
     "data": {
      "application/vnd.jupyter.widget-view+json": {
       "model_id": "b1b1d031c12d4fc89bbf9dddacd5f317",
       "version_major": 2,
       "version_minor": 0
      },
      "text/plain": [
       "0it [00:00, ?it/s]"
      ]
     },
     "metadata": {},
     "output_type": "display_data"
    },
    {
     "data": {
      "application/vnd.jupyter.widget-view+json": {
       "model_id": "0e3d6ae4d6ee4da6a298386b698a275b",
       "version_major": 2,
       "version_minor": 0
      },
      "text/plain": [
       "0it [00:00, ?it/s]"
      ]
     },
     "metadata": {},
     "output_type": "display_data"
    },
    {
     "data": {
      "application/vnd.jupyter.widget-view+json": {
       "model_id": "f09a86ec05af4c22879936db06442081",
       "version_major": 2,
       "version_minor": 0
      },
      "text/plain": [
       "0it [00:00, ?it/s]"
      ]
     },
     "metadata": {},
     "output_type": "display_data"
    },
    {
     "data": {
      "application/vnd.jupyter.widget-view+json": {
       "model_id": "39c707420eac4ca6912d7d4fe91e3bc6",
       "version_major": 2,
       "version_minor": 0
      },
      "text/plain": [
       "0it [00:00, ?it/s]"
      ]
     },
     "metadata": {},
     "output_type": "display_data"
    },
    {
     "data": {
      "application/vnd.jupyter.widget-view+json": {
       "model_id": "2226215021704b638233ee28511b0eac",
       "version_major": 2,
       "version_minor": 0
      },
      "text/plain": [
       "0it [00:00, ?it/s]"
      ]
     },
     "metadata": {},
     "output_type": "display_data"
    },
    {
     "name": "stdout",
     "output_type": "stream",
     "text": [
      "[{'mse_loss': [0.009055864, 0.009522308, 0.006550546, 0.0033723135, 0.0016641861, 0.0008440167, 0.00056005386, 0.0003145428, 0.00014449364, 9.518399e-05], 'bpp_loss': [0.021601094, 0.021601094, 0.021601094, 0.021601094, 0.021601094, 0.021601094, 0.021601094, 0.021601094, 0.021601094, 0.021601094], 'loss_classic': [5.910177, 6.213482, 4.2810936, 2.214448, 1.1037381, 0.5704229, 0.38577613, 0.22613257, 0.11555809, 0.083494484], 'PSNR': [21.15073, 21.642025, 23.236916, 25.931522, 28.733086, 31.670204, 33.45553, 35.894585, 39.211292, 40.91382], 'Linearity': [0.5999513, 0.58077073, 0.59742856, 0.65794307, 0.6376282, 0.6356796, 0.6153793, 0.582088, 0.5385506, 0.5245554], 'loss': [1199.9117, 1161.551, 1194.8636, 1315.8895, 1275.258, 1271.3601, 1230.759, 1164.1763, 1077.1014, 1049.1108], 'bitrate': [0.36045, 0.4558, 0.541818, 0.807175, 1.478921, 2.902803, 4.289943, 6.964081, 12.399531, 16.302234]}]\n",
      "MDTVSFA ./models_enhancement/model_vimeo11k_PAC2PIC_2000mse_enhance_cheng2020_attn_quality2_fixed_direction.ckpt\n"
     ]
    },
    {
     "data": {
      "application/vnd.jupyter.widget-view+json": {
       "model_id": "de7401d01d094d17a1ae68fc9a5c8f0a",
       "version_major": 2,
       "version_minor": 0
      },
      "text/plain": [
       "0it [00:00, ?it/s]"
      ]
     },
     "metadata": {},
     "output_type": "display_data"
    },
    {
     "data": {
      "application/vnd.jupyter.widget-view+json": {
       "model_id": "02a8181cd14d4e98956ef0dd10c3b626",
       "version_major": 2,
       "version_minor": 0
      },
      "text/plain": [
       "0it [00:00, ?it/s]"
      ]
     },
     "metadata": {},
     "output_type": "display_data"
    },
    {
     "data": {
      "application/vnd.jupyter.widget-view+json": {
       "model_id": "163131e7b6e2448db84365cf27b3da63",
       "version_major": 2,
       "version_minor": 0
      },
      "text/plain": [
       "0it [00:00, ?it/s]"
      ]
     },
     "metadata": {},
     "output_type": "display_data"
    },
    {
     "data": {
      "application/vnd.jupyter.widget-view+json": {
       "model_id": "fb7dc5b1fa9e4757965252404e42bb70",
       "version_major": 2,
       "version_minor": 0
      },
      "text/plain": [
       "0it [00:00, ?it/s]"
      ]
     },
     "metadata": {},
     "output_type": "display_data"
    },
    {
     "data": {
      "application/vnd.jupyter.widget-view+json": {
       "model_id": "66fd3d74200a43f8890d98243ce759a6",
       "version_major": 2,
       "version_minor": 0
      },
      "text/plain": [
       "0it [00:00, ?it/s]"
      ]
     },
     "metadata": {},
     "output_type": "display_data"
    },
    {
     "data": {
      "application/vnd.jupyter.widget-view+json": {
       "model_id": "4dbe2b41274341c5b618abb88afb5776",
       "version_major": 2,
       "version_minor": 0
      },
      "text/plain": [
       "0it [00:00, ?it/s]"
      ]
     },
     "metadata": {},
     "output_type": "display_data"
    },
    {
     "data": {
      "application/vnd.jupyter.widget-view+json": {
       "model_id": "403e81c31e784e35b8589edad3c6b11a",
       "version_major": 2,
       "version_minor": 0
      },
      "text/plain": [
       "0it [00:00, ?it/s]"
      ]
     },
     "metadata": {},
     "output_type": "display_data"
    },
    {
     "data": {
      "application/vnd.jupyter.widget-view+json": {
       "model_id": "1049c2dbf36c4dbe877ed30d29884008",
       "version_major": 2,
       "version_minor": 0
      },
      "text/plain": [
       "0it [00:00, ?it/s]"
      ]
     },
     "metadata": {},
     "output_type": "display_data"
    },
    {
     "data": {
      "application/vnd.jupyter.widget-view+json": {
       "model_id": "e0a92953f1154d139616ccf2ccd73100",
       "version_major": 2,
       "version_minor": 0
      },
      "text/plain": [
       "0it [00:00, ?it/s]"
      ]
     },
     "metadata": {},
     "output_type": "display_data"
    },
    {
     "data": {
      "application/vnd.jupyter.widget-view+json": {
       "model_id": "ce37288f45e64fac8e95a9bf1db263a0",
       "version_major": 2,
       "version_minor": 0
      },
      "text/plain": [
       "0it [00:00, ?it/s]"
      ]
     },
     "metadata": {},
     "output_type": "display_data"
    },
    {
     "data": {
      "application/vnd.jupyter.widget-view+json": {
       "model_id": "a0c84ad0870a407a82eb9c0dd28602ef",
       "version_major": 2,
       "version_minor": 0
      },
      "text/plain": [
       "0it [00:00, ?it/s]"
      ]
     },
     "metadata": {},
     "output_type": "display_data"
    },
    {
     "data": {
      "application/vnd.jupyter.widget-view+json": {
       "model_id": "2d5a7b14d2f049f6939f2ea708ef8cf4",
       "version_major": 2,
       "version_minor": 0
      },
      "text/plain": [
       "0it [00:00, ?it/s]"
      ]
     },
     "metadata": {},
     "output_type": "display_data"
    },
    {
     "data": {
      "application/vnd.jupyter.widget-view+json": {
       "model_id": "0b8140d188594739a399e2c3fefbdb0a",
       "version_major": 2,
       "version_minor": 0
      },
      "text/plain": [
       "0it [00:00, ?it/s]"
      ]
     },
     "metadata": {},
     "output_type": "display_data"
    },
    {
     "data": {
      "application/vnd.jupyter.widget-view+json": {
       "model_id": "46e9d00c7d3745aab8da9588365eaccd",
       "version_major": 2,
       "version_minor": 0
      },
      "text/plain": [
       "0it [00:00, ?it/s]"
      ]
     },
     "metadata": {},
     "output_type": "display_data"
    },
    {
     "data": {
      "application/vnd.jupyter.widget-view+json": {
       "model_id": "011eef4d722846da8eede560bc444bc9",
       "version_major": 2,
       "version_minor": 0
      },
      "text/plain": [
       "0it [00:00, ?it/s]"
      ]
     },
     "metadata": {},
     "output_type": "display_data"
    },
    {
     "data": {
      "application/vnd.jupyter.widget-view+json": {
       "model_id": "913804c94ffd41fc973b3fd19adea4b9",
       "version_major": 2,
       "version_minor": 0
      },
      "text/plain": [
       "0it [00:00, ?it/s]"
      ]
     },
     "metadata": {},
     "output_type": "display_data"
    },
    {
     "data": {
      "application/vnd.jupyter.widget-view+json": {
       "model_id": "495101286bc14093af05e7b31977329c",
       "version_major": 2,
       "version_minor": 0
      },
      "text/plain": [
       "0it [00:00, ?it/s]"
      ]
     },
     "metadata": {},
     "output_type": "display_data"
    },
    {
     "data": {
      "application/vnd.jupyter.widget-view+json": {
       "model_id": "9d1f250897a34cc1a489aa9efb51c8bc",
       "version_major": 2,
       "version_minor": 0
      },
      "text/plain": [
       "0it [00:00, ?it/s]"
      ]
     },
     "metadata": {},
     "output_type": "display_data"
    },
    {
     "data": {
      "application/vnd.jupyter.widget-view+json": {
       "model_id": "ed53ef10647e4bcea1db5565a8a23503",
       "version_major": 2,
       "version_minor": 0
      },
      "text/plain": [
       "0it [00:00, ?it/s]"
      ]
     },
     "metadata": {},
     "output_type": "display_data"
    },
    {
     "data": {
      "application/vnd.jupyter.widget-view+json": {
       "model_id": "457739f965f24e2ab2b296a6640956ba",
       "version_major": 2,
       "version_minor": 0
      },
      "text/plain": [
       "0it [00:00, ?it/s]"
      ]
     },
     "metadata": {},
     "output_type": "display_data"
    },
    {
     "name": "stdout",
     "output_type": "stream",
     "text": [
      "[{'mse_loss': [0.009055864, 0.009522308, 0.006550546, 0.0033723135, 0.0016641861, 0.0008440167, 0.00056005386, 0.0003145428, 0.00014449364, 9.518399e-05], 'bpp_loss': [0.021601094, 0.021601094, 0.021601094, 0.021601094, 0.021601094, 0.021601094, 0.021601094, 0.021601094, 0.021601094, 0.021601094], 'loss_classic': [5.910177, 6.213482, 4.2810936, 2.214448, 1.1037381, 0.5704229, 0.38577613, 0.22613257, 0.11555809, 0.083494484], 'PSNR': [21.15073, 21.642025, 23.236916, 25.931522, 28.733086, 31.670204, 33.45553, 35.894585, 39.211292, 40.91382], 'MDTVSFA': [-0.4284063, -0.43382156, -0.43759727, -0.448617, -0.4583375, -0.47088116, -0.47912723, -0.48619443, -0.49035576, -0.49208754], 'loss': [-856.8036, -867.6336, -875.188, -897.2306, -916.67334, -941.7615, -958.2539, -972.3886, -980.7113, -984.1749], 'bitrate': [0.36045, 0.4558, 0.541818, 0.807175, 1.478921, 2.902803, 4.289943, 6.964081, 12.399531, 16.302234]}]\n",
      "PAC2PIQ ./models_enhancement/model_vimeo11k_SPAQ_2000mse_enhance_cheng2020_attn_quality2_fixed_direction.ckpt\n"
     ]
    },
    {
     "data": {
      "application/vnd.jupyter.widget-view+json": {
       "model_id": "ccda0fef76ca4f0d93363e11412ebb2c",
       "version_major": 2,
       "version_minor": 0
      },
      "text/plain": [
       "0it [00:00, ?it/s]"
      ]
     },
     "metadata": {},
     "output_type": "display_data"
    },
    {
     "data": {
      "application/vnd.jupyter.widget-view+json": {
       "model_id": "7e4ad5f3a29a40b59223584f66c55a7b",
       "version_major": 2,
       "version_minor": 0
      },
      "text/plain": [
       "0it [00:00, ?it/s]"
      ]
     },
     "metadata": {},
     "output_type": "display_data"
    },
    {
     "data": {
      "application/vnd.jupyter.widget-view+json": {
       "model_id": "9e4ad851d52d4bfe8912519cf731dfa7",
       "version_major": 2,
       "version_minor": 0
      },
      "text/plain": [
       "0it [00:00, ?it/s]"
      ]
     },
     "metadata": {},
     "output_type": "display_data"
    },
    {
     "data": {
      "application/vnd.jupyter.widget-view+json": {
       "model_id": "7b05ef9a485d4471abb5bb3a5590df35",
       "version_major": 2,
       "version_minor": 0
      },
      "text/plain": [
       "0it [00:00, ?it/s]"
      ]
     },
     "metadata": {},
     "output_type": "display_data"
    },
    {
     "data": {
      "application/vnd.jupyter.widget-view+json": {
       "model_id": "c0ba2655fdaf457c88c0b77c59b6f574",
       "version_major": 2,
       "version_minor": 0
      },
      "text/plain": [
       "0it [00:00, ?it/s]"
      ]
     },
     "metadata": {},
     "output_type": "display_data"
    },
    {
     "data": {
      "application/vnd.jupyter.widget-view+json": {
       "model_id": "0e0756731a784e2c81b87469b9ff82c2",
       "version_major": 2,
       "version_minor": 0
      },
      "text/plain": [
       "0it [00:00, ?it/s]"
      ]
     },
     "metadata": {},
     "output_type": "display_data"
    },
    {
     "data": {
      "application/vnd.jupyter.widget-view+json": {
       "model_id": "968725e6734d43d6a7467c440f20593e",
       "version_major": 2,
       "version_minor": 0
      },
      "text/plain": [
       "0it [00:00, ?it/s]"
      ]
     },
     "metadata": {},
     "output_type": "display_data"
    },
    {
     "data": {
      "application/vnd.jupyter.widget-view+json": {
       "model_id": "4d0e7da5a1b14ba4a13408de1d04495b",
       "version_major": 2,
       "version_minor": 0
      },
      "text/plain": [
       "0it [00:00, ?it/s]"
      ]
     },
     "metadata": {},
     "output_type": "display_data"
    },
    {
     "data": {
      "application/vnd.jupyter.widget-view+json": {
       "model_id": "9657fdc05f8b49c39720e1b045fcf45c",
       "version_major": 2,
       "version_minor": 0
      },
      "text/plain": [
       "0it [00:00, ?it/s]"
      ]
     },
     "metadata": {},
     "output_type": "display_data"
    },
    {
     "data": {
      "application/vnd.jupyter.widget-view+json": {
       "model_id": "ac22325a76904f13bb26800bfcb3331a",
       "version_major": 2,
       "version_minor": 0
      },
      "text/plain": [
       "0it [00:00, ?it/s]"
      ]
     },
     "metadata": {},
     "output_type": "display_data"
    },
    {
     "data": {
      "application/vnd.jupyter.widget-view+json": {
       "model_id": "1ed92f0aca274f579668479d4da55b71",
       "version_major": 2,
       "version_minor": 0
      },
      "text/plain": [
       "0it [00:00, ?it/s]"
      ]
     },
     "metadata": {},
     "output_type": "display_data"
    },
    {
     "data": {
      "application/vnd.jupyter.widget-view+json": {
       "model_id": "fcd4034e77544104ac92f93594b2dff8",
       "version_major": 2,
       "version_minor": 0
      },
      "text/plain": [
       "0it [00:00, ?it/s]"
      ]
     },
     "metadata": {},
     "output_type": "display_data"
    },
    {
     "data": {
      "application/vnd.jupyter.widget-view+json": {
       "model_id": "f2e962069a1c4699a4f1006d3c5bc2fc",
       "version_major": 2,
       "version_minor": 0
      },
      "text/plain": [
       "0it [00:00, ?it/s]"
      ]
     },
     "metadata": {},
     "output_type": "display_data"
    },
    {
     "data": {
      "application/vnd.jupyter.widget-view+json": {
       "model_id": "4fe2b856fa9543d396968f937ff0e5e0",
       "version_major": 2,
       "version_minor": 0
      },
      "text/plain": [
       "0it [00:00, ?it/s]"
      ]
     },
     "metadata": {},
     "output_type": "display_data"
    },
    {
     "data": {
      "application/vnd.jupyter.widget-view+json": {
       "model_id": "c7b22ef094854c8daf17e2fb94d7b7c4",
       "version_major": 2,
       "version_minor": 0
      },
      "text/plain": [
       "0it [00:00, ?it/s]"
      ]
     },
     "metadata": {},
     "output_type": "display_data"
    },
    {
     "data": {
      "application/vnd.jupyter.widget-view+json": {
       "model_id": "3880000d19404348b33eb4fd4cf9e2b3",
       "version_major": 2,
       "version_minor": 0
      },
      "text/plain": [
       "0it [00:00, ?it/s]"
      ]
     },
     "metadata": {},
     "output_type": "display_data"
    },
    {
     "data": {
      "application/vnd.jupyter.widget-view+json": {
       "model_id": "73581da2214841968aa7627fd6303311",
       "version_major": 2,
       "version_minor": 0
      },
      "text/plain": [
       "0it [00:00, ?it/s]"
      ]
     },
     "metadata": {},
     "output_type": "display_data"
    },
    {
     "data": {
      "application/vnd.jupyter.widget-view+json": {
       "model_id": "eaf285fbbba649559557a204b57e10c5",
       "version_major": 2,
       "version_minor": 0
      },
      "text/plain": [
       "0it [00:00, ?it/s]"
      ]
     },
     "metadata": {},
     "output_type": "display_data"
    },
    {
     "data": {
      "application/vnd.jupyter.widget-view+json": {
       "model_id": "b467af4357fa4abf8a36b416cb0b3eb5",
       "version_major": 2,
       "version_minor": 0
      },
      "text/plain": [
       "0it [00:00, ?it/s]"
      ]
     },
     "metadata": {},
     "output_type": "display_data"
    },
    {
     "data": {
      "application/vnd.jupyter.widget-view+json": {
       "model_id": "165de4adada24ca39826bdce7e0c79e9",
       "version_major": 2,
       "version_minor": 0
      },
      "text/plain": [
       "0it [00:00, ?it/s]"
      ]
     },
     "metadata": {},
     "output_type": "display_data"
    },
    {
     "name": "stdout",
     "output_type": "stream",
     "text": [
      "[{'mse_loss': [0.009055864, 0.009522308, 0.006550546, 0.0033723135, 0.0016641861, 0.0008440167, 0.00056005386, 0.0003145428, 0.00014449364, 9.518399e-05], 'bpp_loss': [0.021601094, 0.021601094, 0.021601094, 0.021601094, 0.021601094, 0.021601094, 0.021601094, 0.021601094, 0.021601094, 0.021601094], 'loss_classic': [5.910177, 6.213482, 4.2810936, 2.214448, 1.1037381, 0.5704229, 0.38577613, 0.22613257, 0.11555809, 0.083494484], 'PSNR': [21.15073, 21.642025, 23.236916, 25.931522, 28.733086, 31.670204, 33.45553, 35.894585, 39.211292, 40.91382], 'PAC2PIQ': [-0.48304832, -0.49014434, -0.4825136, -0.4943171, -0.51195765, -0.51767445, -0.5218528, -0.5207444, -0.5259688, -0.5283203], 'loss': [-966.0875, -980.2792, -965.0206, -988.63086, -1023.9136, -1035.3479, -1043.7051, -1041.4885, -1051.9375, -1056.6406], 'bitrate': [0.36045, 0.4558, 0.541818, 0.807175, 1.478921, 2.902803, 4.289943, 6.964081, 12.399531, 16.302234]}]\n",
      "SPAQ ./models_enhancement/model_vimeo11k_VSFA_2000mse_enhance_cheng2020_attn_quality2_fixed_direction.ckpt\n"
     ]
    },
    {
     "data": {
      "application/vnd.jupyter.widget-view+json": {
       "model_id": "be60ee019b834d9fac9151355154590d",
       "version_major": 2,
       "version_minor": 0
      },
      "text/plain": [
       "0it [00:00, ?it/s]"
      ]
     },
     "metadata": {},
     "output_type": "display_data"
    },
    {
     "data": {
      "application/vnd.jupyter.widget-view+json": {
       "model_id": "0c27f645e1c8495bbe36cdec71cd3d94",
       "version_major": 2,
       "version_minor": 0
      },
      "text/plain": [
       "0it [00:00, ?it/s]"
      ]
     },
     "metadata": {},
     "output_type": "display_data"
    },
    {
     "data": {
      "application/vnd.jupyter.widget-view+json": {
       "model_id": "194700f1277b4618a1246b9f5818519b",
       "version_major": 2,
       "version_minor": 0
      },
      "text/plain": [
       "0it [00:00, ?it/s]"
      ]
     },
     "metadata": {},
     "output_type": "display_data"
    },
    {
     "data": {
      "application/vnd.jupyter.widget-view+json": {
       "model_id": "9fbb8902db29446c99342f4e8d2df42e",
       "version_major": 2,
       "version_minor": 0
      },
      "text/plain": [
       "0it [00:00, ?it/s]"
      ]
     },
     "metadata": {},
     "output_type": "display_data"
    },
    {
     "data": {
      "application/vnd.jupyter.widget-view+json": {
       "model_id": "d2a4affd1b624701a99df417b9812ad0",
       "version_major": 2,
       "version_minor": 0
      },
      "text/plain": [
       "0it [00:00, ?it/s]"
      ]
     },
     "metadata": {},
     "output_type": "display_data"
    },
    {
     "data": {
      "application/vnd.jupyter.widget-view+json": {
       "model_id": "9f559989efa0488b83e642bb31da68f3",
       "version_major": 2,
       "version_minor": 0
      },
      "text/plain": [
       "0it [00:00, ?it/s]"
      ]
     },
     "metadata": {},
     "output_type": "display_data"
    },
    {
     "data": {
      "application/vnd.jupyter.widget-view+json": {
       "model_id": "31ef02a36e30478d8eab9173fb6ec643",
       "version_major": 2,
       "version_minor": 0
      },
      "text/plain": [
       "0it [00:00, ?it/s]"
      ]
     },
     "metadata": {},
     "output_type": "display_data"
    },
    {
     "data": {
      "application/vnd.jupyter.widget-view+json": {
       "model_id": "636665dc966e466b8e79dde6500f0af8",
       "version_major": 2,
       "version_minor": 0
      },
      "text/plain": [
       "0it [00:00, ?it/s]"
      ]
     },
     "metadata": {},
     "output_type": "display_data"
    },
    {
     "data": {
      "application/vnd.jupyter.widget-view+json": {
       "model_id": "f2690222752940b895d15c56176e90fd",
       "version_major": 2,
       "version_minor": 0
      },
      "text/plain": [
       "0it [00:00, ?it/s]"
      ]
     },
     "metadata": {},
     "output_type": "display_data"
    },
    {
     "data": {
      "application/vnd.jupyter.widget-view+json": {
       "model_id": "59e41aa767b44024a3b78c9fc9979584",
       "version_major": 2,
       "version_minor": 0
      },
      "text/plain": [
       "0it [00:00, ?it/s]"
      ]
     },
     "metadata": {},
     "output_type": "display_data"
    },
    {
     "data": {
      "application/vnd.jupyter.widget-view+json": {
       "model_id": "e5677483e6684d4d90287eef9110ace3",
       "version_major": 2,
       "version_minor": 0
      },
      "text/plain": [
       "0it [00:00, ?it/s]"
      ]
     },
     "metadata": {},
     "output_type": "display_data"
    },
    {
     "data": {
      "application/vnd.jupyter.widget-view+json": {
       "model_id": "235177cc589b442ba651674a37f717d2",
       "version_major": 2,
       "version_minor": 0
      },
      "text/plain": [
       "0it [00:00, ?it/s]"
      ]
     },
     "metadata": {},
     "output_type": "display_data"
    },
    {
     "data": {
      "application/vnd.jupyter.widget-view+json": {
       "model_id": "4e8473f3b0aa49629c0d78633a311d90",
       "version_major": 2,
       "version_minor": 0
      },
      "text/plain": [
       "0it [00:00, ?it/s]"
      ]
     },
     "metadata": {},
     "output_type": "display_data"
    },
    {
     "data": {
      "application/vnd.jupyter.widget-view+json": {
       "model_id": "ac8de607304241c5bd9f66a57fe8e53c",
       "version_major": 2,
       "version_minor": 0
      },
      "text/plain": [
       "0it [00:00, ?it/s]"
      ]
     },
     "metadata": {},
     "output_type": "display_data"
    },
    {
     "data": {
      "application/vnd.jupyter.widget-view+json": {
       "model_id": "ad8a8afe2bc742c686f451b7e7e04d27",
       "version_major": 2,
       "version_minor": 0
      },
      "text/plain": [
       "0it [00:00, ?it/s]"
      ]
     },
     "metadata": {},
     "output_type": "display_data"
    },
    {
     "data": {
      "application/vnd.jupyter.widget-view+json": {
       "model_id": "4c6f1b7bd24e4d7fb6d99a695ccf4aa1",
       "version_major": 2,
       "version_minor": 0
      },
      "text/plain": [
       "0it [00:00, ?it/s]"
      ]
     },
     "metadata": {},
     "output_type": "display_data"
    },
    {
     "data": {
      "application/vnd.jupyter.widget-view+json": {
       "model_id": "dbc1309027274389b8a31db822e35044",
       "version_major": 2,
       "version_minor": 0
      },
      "text/plain": [
       "0it [00:00, ?it/s]"
      ]
     },
     "metadata": {},
     "output_type": "display_data"
    },
    {
     "data": {
      "application/vnd.jupyter.widget-view+json": {
       "model_id": "f9cb9c76173648169a247f3bd5834237",
       "version_major": 2,
       "version_minor": 0
      },
      "text/plain": [
       "0it [00:00, ?it/s]"
      ]
     },
     "metadata": {},
     "output_type": "display_data"
    },
    {
     "data": {
      "application/vnd.jupyter.widget-view+json": {
       "model_id": "b8e4903096054cf9a8d2b55a40eee867",
       "version_major": 2,
       "version_minor": 0
      },
      "text/plain": [
       "0it [00:00, ?it/s]"
      ]
     },
     "metadata": {},
     "output_type": "display_data"
    },
    {
     "data": {
      "application/vnd.jupyter.widget-view+json": {
       "model_id": "28e3148391054bbbb9e42519c41ba402",
       "version_major": 2,
       "version_minor": 0
      },
      "text/plain": [
       "0it [00:00, ?it/s]"
      ]
     },
     "metadata": {},
     "output_type": "display_data"
    },
    {
     "name": "stdout",
     "output_type": "stream",
     "text": [
      "[{'mse_loss': [0.009055864, 0.009522308, 0.006550546, 0.0033723135, 0.0016641861, 0.0008440167, 0.00056005386, 0.0003145428, 0.00014449364, 9.518399e-05], 'bpp_loss': [0.021601094, 0.021601094, 0.021601094, 0.021601094, 0.021601094, 0.021601094, 0.021601094, 0.021601094, 0.021601094, 0.021601094], 'loss_classic': [5.910177, 6.213482, 4.2810936, 2.214448, 1.1037381, 0.5704229, 0.38577613, 0.22613257, 0.11555809, 0.083494484], 'PSNR': [21.15073, 21.642025, 23.236916, 25.931522, 28.733086, 31.670204, 33.45553, 35.894585, 39.211292, 40.91382], 'SPAQ': [-0.4284922, -0.42869535, -0.4273184, -0.43347928, -0.4263403, -0.4270627, -0.4283405, -0.42989933, -0.43684077, -0.44312888], 'loss': [-856.9753, -857.3812, -854.6303, -866.9552, -852.67896, -854.1245, -856.6804, -859.79834, -873.6814, -886.2577], 'bitrate': [0.36045, 0.4558, 0.541818, 0.807175, 1.478921, 2.902803, 4.289943, 6.964081, 12.399531, 16.302234]}]\n",
      "VSFA ./models_enhancement/model_vimeo11k_Linearity_2000mse_enhance_no_codec_fixed_direction.ckpt\n"
     ]
    },
    {
     "data": {
      "application/vnd.jupyter.widget-view+json": {
       "model_id": "f2f1bbd92d604da797cbea3b5ab58b2c",
       "version_major": 2,
       "version_minor": 0
      },
      "text/plain": [
       "0it [00:00, ?it/s]"
      ]
     },
     "metadata": {},
     "output_type": "display_data"
    },
    {
     "data": {
      "application/vnd.jupyter.widget-view+json": {
       "model_id": "f0ef36cf2a0e4a8d8a9e97dfeba7297f",
       "version_major": 2,
       "version_minor": 0
      },
      "text/plain": [
       "0it [00:00, ?it/s]"
      ]
     },
     "metadata": {},
     "output_type": "display_data"
    },
    {
     "data": {
      "application/vnd.jupyter.widget-view+json": {
       "model_id": "ccb4a2a7a3c64030921b90750229dc1f",
       "version_major": 2,
       "version_minor": 0
      },
      "text/plain": [
       "0it [00:00, ?it/s]"
      ]
     },
     "metadata": {},
     "output_type": "display_data"
    },
    {
     "data": {
      "application/vnd.jupyter.widget-view+json": {
       "model_id": "5d175ff4ba454f9b848394ef36b8e10b",
       "version_major": 2,
       "version_minor": 0
      },
      "text/plain": [
       "0it [00:00, ?it/s]"
      ]
     },
     "metadata": {},
     "output_type": "display_data"
    },
    {
     "data": {
      "application/vnd.jupyter.widget-view+json": {
       "model_id": "ed2fb06b278b4bd7babf81c0ac5e0731",
       "version_major": 2,
       "version_minor": 0
      },
      "text/plain": [
       "0it [00:00, ?it/s]"
      ]
     },
     "metadata": {},
     "output_type": "display_data"
    },
    {
     "data": {
      "application/vnd.jupyter.widget-view+json": {
       "model_id": "e00a646bef0947c7b42f649367df0839",
       "version_major": 2,
       "version_minor": 0
      },
      "text/plain": [
       "0it [00:00, ?it/s]"
      ]
     },
     "metadata": {},
     "output_type": "display_data"
    },
    {
     "data": {
      "application/vnd.jupyter.widget-view+json": {
       "model_id": "3320ae1d57104258a0dae136f53e1403",
       "version_major": 2,
       "version_minor": 0
      },
      "text/plain": [
       "0it [00:00, ?it/s]"
      ]
     },
     "metadata": {},
     "output_type": "display_data"
    },
    {
     "data": {
      "application/vnd.jupyter.widget-view+json": {
       "model_id": "3a3fe80cf7204f56b62d2169cfa12f7f",
       "version_major": 2,
       "version_minor": 0
      },
      "text/plain": [
       "0it [00:00, ?it/s]"
      ]
     },
     "metadata": {},
     "output_type": "display_data"
    },
    {
     "data": {
      "application/vnd.jupyter.widget-view+json": {
       "model_id": "6f476b4cf67045318c8a66716d20526f",
       "version_major": 2,
       "version_minor": 0
      },
      "text/plain": [
       "0it [00:00, ?it/s]"
      ]
     },
     "metadata": {},
     "output_type": "display_data"
    },
    {
     "data": {
      "application/vnd.jupyter.widget-view+json": {
       "model_id": "2a2292d668514bda98b995ac20d38f3c",
       "version_major": 2,
       "version_minor": 0
      },
      "text/plain": [
       "0it [00:00, ?it/s]"
      ]
     },
     "metadata": {},
     "output_type": "display_data"
    },
    {
     "data": {
      "application/vnd.jupyter.widget-view+json": {
       "model_id": "2dd75d969ebc495fbff743dfd05dd1b9",
       "version_major": 2,
       "version_minor": 0
      },
      "text/plain": [
       "0it [00:00, ?it/s]"
      ]
     },
     "metadata": {},
     "output_type": "display_data"
    },
    {
     "data": {
      "application/vnd.jupyter.widget-view+json": {
       "model_id": "9e59f7efa10e488d88210c254249f325",
       "version_major": 2,
       "version_minor": 0
      },
      "text/plain": [
       "0it [00:00, ?it/s]"
      ]
     },
     "metadata": {},
     "output_type": "display_data"
    },
    {
     "data": {
      "application/vnd.jupyter.widget-view+json": {
       "model_id": "d4612954213e4cec94a0cd501765b512",
       "version_major": 2,
       "version_minor": 0
      },
      "text/plain": [
       "0it [00:00, ?it/s]"
      ]
     },
     "metadata": {},
     "output_type": "display_data"
    },
    {
     "data": {
      "application/vnd.jupyter.widget-view+json": {
       "model_id": "36aa5d05fd434577b25317fce2376f75",
       "version_major": 2,
       "version_minor": 0
      },
      "text/plain": [
       "0it [00:00, ?it/s]"
      ]
     },
     "metadata": {},
     "output_type": "display_data"
    },
    {
     "data": {
      "application/vnd.jupyter.widget-view+json": {
       "model_id": "62b4c4d725d94ec3b7cf0fd1f4de9ab2",
       "version_major": 2,
       "version_minor": 0
      },
      "text/plain": [
       "0it [00:00, ?it/s]"
      ]
     },
     "metadata": {},
     "output_type": "display_data"
    },
    {
     "data": {
      "application/vnd.jupyter.widget-view+json": {
       "model_id": "0b41c971f3f34f4eae638e10219bd73f",
       "version_major": 2,
       "version_minor": 0
      },
      "text/plain": [
       "0it [00:00, ?it/s]"
      ]
     },
     "metadata": {},
     "output_type": "display_data"
    },
    {
     "data": {
      "application/vnd.jupyter.widget-view+json": {
       "model_id": "a10dbe6cd8a34f91bb8df351083223f5",
       "version_major": 2,
       "version_minor": 0
      },
      "text/plain": [
       "0it [00:00, ?it/s]"
      ]
     },
     "metadata": {},
     "output_type": "display_data"
    },
    {
     "data": {
      "application/vnd.jupyter.widget-view+json": {
       "model_id": "73df01617e9f4fc9849e34cfafb31de7",
       "version_major": 2,
       "version_minor": 0
      },
      "text/plain": [
       "0it [00:00, ?it/s]"
      ]
     },
     "metadata": {},
     "output_type": "display_data"
    },
    {
     "data": {
      "application/vnd.jupyter.widget-view+json": {
       "model_id": "59d89c9df9be4b8ca835b0106aa67432",
       "version_major": 2,
       "version_minor": 0
      },
      "text/plain": [
       "0it [00:00, ?it/s]"
      ]
     },
     "metadata": {},
     "output_type": "display_data"
    },
    {
     "data": {
      "application/vnd.jupyter.widget-view+json": {
       "model_id": "052cc69b58194aa3aa29180c7433f1e2",
       "version_major": 2,
       "version_minor": 0
      },
      "text/plain": [
       "0it [00:00, ?it/s]"
      ]
     },
     "metadata": {},
     "output_type": "display_data"
    },
    {
     "name": "stdout",
     "output_type": "stream",
     "text": [
      "[{'mse_loss': [0.009055864, 0.009522308, 0.006550546, 0.0033723135, 0.0016641862, 0.0008440167, 0.0005600539, 0.00031454285, 0.00014449365, 9.5184005e-05], 'bpp_loss': [0.010800547, 0.010800547, 0.010800547, 0.010800547, 0.010800547, 0.010800547, 0.010800547, 0.010800547, 0.010800547, 0.010800547], 'loss_classic': [5.8993764, 6.202681, 4.2702928, 2.2036474, 1.0929377, 0.55962235, 0.37497556, 0.21533203, 0.10475753, 0.072693944], 'PSNR': [21.019142, 21.52348, 23.109478, 25.773453, 28.61635, 31.54165, 33.324055, 35.77789, 39.114628, 40.83141], 'VSFA': [-0.34987092, -0.35987452, -0.36722505, -0.3916478, -0.41666755, -0.43308422, -0.44364524, -0.45436332, -0.45538568, -0.45634368], 'loss': [-699.7328, -719.7395, -734.4436, -783.29224, -833.3335, -866.1676, -887.2899, -908.7263, -910.77124, -912.68726], 'bitrate': [0.36045, 0.4558, 0.541818, 0.807175, 1.478921, 2.902803, 4.289943, 6.964081, 12.399531, 16.302234]}]\n"
     ]
    },
    {
     "data": {
      "application/vnd.jupyter.widget-view+json": {
       "model_id": "32e7fe4c35624100937fea1a110b0897",
       "version_major": 2,
       "version_minor": 0
      },
      "text/plain": [
       "0it [00:00, ?it/s]"
      ]
     },
     "metadata": {},
     "output_type": "display_data"
    },
    {
     "name": "stdout",
     "output_type": "stream",
     "text": [
      "Linearity ./models_enhancement/model_vimeo11k_MDTVSFA_2000mse_enhance_cheng2020_attn_quality2.ckpt\n"
     ]
    },
    {
     "data": {
      "application/vnd.jupyter.widget-view+json": {
       "model_id": "ba155255d0ea4fc0ada84c619a3f758b",
       "version_major": 2,
       "version_minor": 0
      },
      "text/plain": [
       "0it [00:00, ?it/s]"
      ]
     },
     "metadata": {},
     "output_type": "display_data"
    },
    {
     "data": {
      "application/vnd.jupyter.widget-view+json": {
       "model_id": "770f300f60f9466cb4c692ce56a3000a",
       "version_major": 2,
       "version_minor": 0
      },
      "text/plain": [
       "0it [00:00, ?it/s]"
      ]
     },
     "metadata": {},
     "output_type": "display_data"
    },
    {
     "data": {
      "application/vnd.jupyter.widget-view+json": {
       "model_id": "d0d54873698e4923b43922b520501d06",
       "version_major": 2,
       "version_minor": 0
      },
      "text/plain": [
       "0it [00:00, ?it/s]"
      ]
     },
     "metadata": {},
     "output_type": "display_data"
    },
    {
     "data": {
      "application/vnd.jupyter.widget-view+json": {
       "model_id": "65dd9c56cd3a46098f98a3af7b8c1948",
       "version_major": 2,
       "version_minor": 0
      },
      "text/plain": [
       "0it [00:00, ?it/s]"
      ]
     },
     "metadata": {},
     "output_type": "display_data"
    },
    {
     "data": {
      "application/vnd.jupyter.widget-view+json": {
       "model_id": "d884c07a32cc4eafb7e2008b7cc67b24",
       "version_major": 2,
       "version_minor": 0
      },
      "text/plain": [
       "0it [00:00, ?it/s]"
      ]
     },
     "metadata": {},
     "output_type": "display_data"
    },
    {
     "data": {
      "application/vnd.jupyter.widget-view+json": {
       "model_id": "755aff00dc0d4a7582fdca247b79d238",
       "version_major": 2,
       "version_minor": 0
      },
      "text/plain": [
       "0it [00:00, ?it/s]"
      ]
     },
     "metadata": {},
     "output_type": "display_data"
    },
    {
     "data": {
      "application/vnd.jupyter.widget-view+json": {
       "model_id": "2be7e726a2564cc1a9aee3134b2eb92a",
       "version_major": 2,
       "version_minor": 0
      },
      "text/plain": [
       "0it [00:00, ?it/s]"
      ]
     },
     "metadata": {},
     "output_type": "display_data"
    },
    {
     "data": {
      "application/vnd.jupyter.widget-view+json": {
       "model_id": "8b2dd610303c4096bf3d4b2bc23fe84c",
       "version_major": 2,
       "version_minor": 0
      },
      "text/plain": [
       "0it [00:00, ?it/s]"
      ]
     },
     "metadata": {},
     "output_type": "display_data"
    },
    {
     "data": {
      "application/vnd.jupyter.widget-view+json": {
       "model_id": "0fd8c81eb0c74665b8ed7f9c879e2fdb",
       "version_major": 2,
       "version_minor": 0
      },
      "text/plain": [
       "0it [00:00, ?it/s]"
      ]
     },
     "metadata": {},
     "output_type": "display_data"
    },
    {
     "data": {
      "application/vnd.jupyter.widget-view+json": {
       "model_id": "bf66d43c16974abc844938e55f9e2b5d",
       "version_major": 2,
       "version_minor": 0
      },
      "text/plain": [
       "0it [00:00, ?it/s]"
      ]
     },
     "metadata": {},
     "output_type": "display_data"
    },
    {
     "data": {
      "application/vnd.jupyter.widget-view+json": {
       "model_id": "eb16f5ac802d4896aba479e29750d691",
       "version_major": 2,
       "version_minor": 0
      },
      "text/plain": [
       "0it [00:00, ?it/s]"
      ]
     },
     "metadata": {},
     "output_type": "display_data"
    },
    {
     "data": {
      "application/vnd.jupyter.widget-view+json": {
       "model_id": "ec0ed75c73754223b76619b5a9e150e5",
       "version_major": 2,
       "version_minor": 0
      },
      "text/plain": [
       "0it [00:00, ?it/s]"
      ]
     },
     "metadata": {},
     "output_type": "display_data"
    },
    {
     "data": {
      "application/vnd.jupyter.widget-view+json": {
       "model_id": "4755cda9fd0044e89758d6d3368ab2ad",
       "version_major": 2,
       "version_minor": 0
      },
      "text/plain": [
       "0it [00:00, ?it/s]"
      ]
     },
     "metadata": {},
     "output_type": "display_data"
    },
    {
     "data": {
      "application/vnd.jupyter.widget-view+json": {
       "model_id": "51859d8a95974d0e957731553c770fe5",
       "version_major": 2,
       "version_minor": 0
      },
      "text/plain": [
       "0it [00:00, ?it/s]"
      ]
     },
     "metadata": {},
     "output_type": "display_data"
    },
    {
     "data": {
      "application/vnd.jupyter.widget-view+json": {
       "model_id": "5ccfcc757d464ecd8819f772008480c4",
       "version_major": 2,
       "version_minor": 0
      },
      "text/plain": [
       "0it [00:00, ?it/s]"
      ]
     },
     "metadata": {},
     "output_type": "display_data"
    },
    {
     "data": {
      "application/vnd.jupyter.widget-view+json": {
       "model_id": "7cb7d8cbf762412ab3d71979295b36dd",
       "version_major": 2,
       "version_minor": 0
      },
      "text/plain": [
       "0it [00:00, ?it/s]"
      ]
     },
     "metadata": {},
     "output_type": "display_data"
    },
    {
     "data": {
      "application/vnd.jupyter.widget-view+json": {
       "model_id": "53f70bea2c7449be888490d1b5cccf95",
       "version_major": 2,
       "version_minor": 0
      },
      "text/plain": [
       "0it [00:00, ?it/s]"
      ]
     },
     "metadata": {},
     "output_type": "display_data"
    },
    {
     "data": {
      "application/vnd.jupyter.widget-view+json": {
       "model_id": "56c2812aaf29486c90f178b4fce84397",
       "version_major": 2,
       "version_minor": 0
      },
      "text/plain": [
       "0it [00:00, ?it/s]"
      ]
     },
     "metadata": {},
     "output_type": "display_data"
    },
    {
     "data": {
      "application/vnd.jupyter.widget-view+json": {
       "model_id": "a5b559e38b4949b19dd0a243222a6508",
       "version_major": 2,
       "version_minor": 0
      },
      "text/plain": [
       "0it [00:00, ?it/s]"
      ]
     },
     "metadata": {},
     "output_type": "display_data"
    },
    {
     "data": {
      "application/vnd.jupyter.widget-view+json": {
       "model_id": "c0ec7bcd975344b7807fcd6d2ddea2d6",
       "version_major": 2,
       "version_minor": 0
      },
      "text/plain": [
       "0it [00:00, ?it/s]"
      ]
     },
     "metadata": {},
     "output_type": "display_data"
    },
    {
     "name": "stdout",
     "output_type": "stream",
     "text": [
      "[{'mse_loss': [0.009697751, 0.0044392752, 0.0026605064, 0.0012684765, 0.0005004005, 0.00025291523, 0.00018650865, 0.00013854218, 0.0001028321, 8.907321e-05], 'bpp_loss': [0.021601094, 0.021601094, 0.021601094, 0.021601094, 0.021601094, 0.021601094, 0.021601094, 0.021601094, 0.021601094, 0.021601094], 'loss_classic': [6.3275633, 2.9082398, 1.7515953, 0.8464279, 0.34698653, 0.1860592, 0.14287835, 0.111688145, 0.08846767, 0.07952095], 'PSNR': [21.147215, 24.69606, 26.925434, 29.9851, 33.789215, 36.58705, 37.843365, 39.079475, 40.299873, 40.870567], 'Linearity': [0.68347657, 0.71009433, 0.7066006, 0.6560316, 0.4495265, 0.28122783, 0.1916048, 0.13135046, 0.09388733, 0.08124267], 'loss': [1366.9629, 1420.1931, 1413.2039, 1312.0645, 899.05347, 562.45593, 383.20978, 262.70105, 187.77475, 162.48544], 'bitrate': [0.168175, 0.259668, 0.357481, 0.577243, 1.092981, 2.132078, 3.214578, 5.567656, 10.55694, 14.354068]}]\n",
      "MDTVSFA ./models_enhancement/model_vimeo11k_PAC2PIC_2000mse_enhance_cheng2020_attn_quality2_fixed_direction.ckpt\n"
     ]
    },
    {
     "data": {
      "application/vnd.jupyter.widget-view+json": {
       "model_id": "ebaf56eef8464bd4ab983f97d8d105ba",
       "version_major": 2,
       "version_minor": 0
      },
      "text/plain": [
       "0it [00:00, ?it/s]"
      ]
     },
     "metadata": {},
     "output_type": "display_data"
    },
    {
     "data": {
      "application/vnd.jupyter.widget-view+json": {
       "model_id": "4f71fda128ae42338e70000e7d78d2b1",
       "version_major": 2,
       "version_minor": 0
      },
      "text/plain": [
       "0it [00:00, ?it/s]"
      ]
     },
     "metadata": {},
     "output_type": "display_data"
    },
    {
     "data": {
      "application/vnd.jupyter.widget-view+json": {
       "model_id": "59135f3e9b0949a38a2afa58134e8e2b",
       "version_major": 2,
       "version_minor": 0
      },
      "text/plain": [
       "0it [00:00, ?it/s]"
      ]
     },
     "metadata": {},
     "output_type": "display_data"
    },
    {
     "data": {
      "application/vnd.jupyter.widget-view+json": {
       "model_id": "21653a0a19fe49efa464f923a12e7cdf",
       "version_major": 2,
       "version_minor": 0
      },
      "text/plain": [
       "0it [00:00, ?it/s]"
      ]
     },
     "metadata": {},
     "output_type": "display_data"
    },
    {
     "data": {
      "application/vnd.jupyter.widget-view+json": {
       "model_id": "da655d624ac74e098d2fe0b7f67f9266",
       "version_major": 2,
       "version_minor": 0
      },
      "text/plain": [
       "0it [00:00, ?it/s]"
      ]
     },
     "metadata": {},
     "output_type": "display_data"
    },
    {
     "data": {
      "application/vnd.jupyter.widget-view+json": {
       "model_id": "87eb548fd778499a9ff34c3cbe33fa7e",
       "version_major": 2,
       "version_minor": 0
      },
      "text/plain": [
       "0it [00:00, ?it/s]"
      ]
     },
     "metadata": {},
     "output_type": "display_data"
    },
    {
     "data": {
      "application/vnd.jupyter.widget-view+json": {
       "model_id": "0d1b9d91f09144b185bee8aafd3a40b3",
       "version_major": 2,
       "version_minor": 0
      },
      "text/plain": [
       "0it [00:00, ?it/s]"
      ]
     },
     "metadata": {},
     "output_type": "display_data"
    },
    {
     "data": {
      "application/vnd.jupyter.widget-view+json": {
       "model_id": "170f53285eb048ef94e212866fed6905",
       "version_major": 2,
       "version_minor": 0
      },
      "text/plain": [
       "0it [00:00, ?it/s]"
      ]
     },
     "metadata": {},
     "output_type": "display_data"
    },
    {
     "data": {
      "application/vnd.jupyter.widget-view+json": {
       "model_id": "2e416039784940cfa044711817c38caa",
       "version_major": 2,
       "version_minor": 0
      },
      "text/plain": [
       "0it [00:00, ?it/s]"
      ]
     },
     "metadata": {},
     "output_type": "display_data"
    },
    {
     "data": {
      "application/vnd.jupyter.widget-view+json": {
       "model_id": "ad86fc1932004ea1bb92010bf0d866fd",
       "version_major": 2,
       "version_minor": 0
      },
      "text/plain": [
       "0it [00:00, ?it/s]"
      ]
     },
     "metadata": {},
     "output_type": "display_data"
    },
    {
     "data": {
      "application/vnd.jupyter.widget-view+json": {
       "model_id": "1694728f676f49d09c5475a6ecd116b5",
       "version_major": 2,
       "version_minor": 0
      },
      "text/plain": [
       "0it [00:00, ?it/s]"
      ]
     },
     "metadata": {},
     "output_type": "display_data"
    },
    {
     "data": {
      "application/vnd.jupyter.widget-view+json": {
       "model_id": "6af1f8964f104adb9c9ffef084275cb2",
       "version_major": 2,
       "version_minor": 0
      },
      "text/plain": [
       "0it [00:00, ?it/s]"
      ]
     },
     "metadata": {},
     "output_type": "display_data"
    },
    {
     "data": {
      "application/vnd.jupyter.widget-view+json": {
       "model_id": "68e38499b7f647f8a80bf611949811c1",
       "version_major": 2,
       "version_minor": 0
      },
      "text/plain": [
       "0it [00:00, ?it/s]"
      ]
     },
     "metadata": {},
     "output_type": "display_data"
    },
    {
     "data": {
      "application/vnd.jupyter.widget-view+json": {
       "model_id": "f567a7c8a45b47bb96dfd8d44a24088e",
       "version_major": 2,
       "version_minor": 0
      },
      "text/plain": [
       "0it [00:00, ?it/s]"
      ]
     },
     "metadata": {},
     "output_type": "display_data"
    },
    {
     "data": {
      "application/vnd.jupyter.widget-view+json": {
       "model_id": "142c674430434f3da9f30ee271628ff2",
       "version_major": 2,
       "version_minor": 0
      },
      "text/plain": [
       "0it [00:00, ?it/s]"
      ]
     },
     "metadata": {},
     "output_type": "display_data"
    },
    {
     "data": {
      "application/vnd.jupyter.widget-view+json": {
       "model_id": "69f309accc7843f38f2204a8d558db3a",
       "version_major": 2,
       "version_minor": 0
      },
      "text/plain": [
       "0it [00:00, ?it/s]"
      ]
     },
     "metadata": {},
     "output_type": "display_data"
    },
    {
     "data": {
      "application/vnd.jupyter.widget-view+json": {
       "model_id": "184b813c067046a0a4464af6f9e1a74e",
       "version_major": 2,
       "version_minor": 0
      },
      "text/plain": [
       "0it [00:00, ?it/s]"
      ]
     },
     "metadata": {},
     "output_type": "display_data"
    },
    {
     "data": {
      "application/vnd.jupyter.widget-view+json": {
       "model_id": "dd06c1b126c7486ea8bbc6ea134876a0",
       "version_major": 2,
       "version_minor": 0
      },
      "text/plain": [
       "0it [00:00, ?it/s]"
      ]
     },
     "metadata": {},
     "output_type": "display_data"
    },
    {
     "data": {
      "application/vnd.jupyter.widget-view+json": {
       "model_id": "100b58ec74f44c66a2cbfa1d71e3779c",
       "version_major": 2,
       "version_minor": 0
      },
      "text/plain": [
       "0it [00:00, ?it/s]"
      ]
     },
     "metadata": {},
     "output_type": "display_data"
    },
    {
     "data": {
      "application/vnd.jupyter.widget-view+json": {
       "model_id": "f3eba9610f9a4737b4751cea628d0b8a",
       "version_major": 2,
       "version_minor": 0
      },
      "text/plain": [
       "0it [00:00, ?it/s]"
      ]
     },
     "metadata": {},
     "output_type": "display_data"
    },
    {
     "name": "stdout",
     "output_type": "stream",
     "text": [
      "[{'mse_loss': [0.009697751, 0.0044392752, 0.0026605064, 0.0012684765, 0.0005004005, 0.00025291523, 0.00018650865, 0.00013854218, 0.0001028321, 8.907321e-05], 'bpp_loss': [0.021601094, 0.021601094, 0.021601094, 0.021601094, 0.021601094, 0.021601094, 0.021601094, 0.021601094, 0.021601094, 0.021601094], 'loss_classic': [6.3275633, 2.9082398, 1.7515953, 0.8464279, 0.34698653, 0.1860592, 0.14287835, 0.111688145, 0.08846767, 0.07952095], 'PSNR': [21.147215, 24.69606, 26.925434, 29.9851, 33.789215, 36.58705, 37.843365, 39.079475, 40.299873, 40.870567], 'MDTVSFA': [-0.41068512, -0.41418988, -0.42095876, -0.43923697, -0.4642939, -0.47960088, -0.48625624, -0.4928794, -0.4972586, -0.49857825], 'loss': [-821.36053, -828.3753, -841.9148, -878.47266, -928.5873, -959.2014, -972.5123, -985.75867, -994.5171, -997.1565], 'bitrate': [0.168175, 0.259668, 0.357481, 0.577243, 1.092981, 2.132078, 3.214578, 5.567656, 10.55694, 14.354068]}]\n",
      "PAC2PIQ ./models_enhancement/model_vimeo11k_SPAQ_2000mse_enhance_cheng2020_attn_quality2_fixed_direction.ckpt\n"
     ]
    },
    {
     "data": {
      "application/vnd.jupyter.widget-view+json": {
       "model_id": "c39566bbbbae4463869aece1413ec22b",
       "version_major": 2,
       "version_minor": 0
      },
      "text/plain": [
       "0it [00:00, ?it/s]"
      ]
     },
     "metadata": {},
     "output_type": "display_data"
    },
    {
     "data": {
      "application/vnd.jupyter.widget-view+json": {
       "model_id": "18bc9cd27c054f0eb12c7b54cdd8751d",
       "version_major": 2,
       "version_minor": 0
      },
      "text/plain": [
       "0it [00:00, ?it/s]"
      ]
     },
     "metadata": {},
     "output_type": "display_data"
    },
    {
     "data": {
      "application/vnd.jupyter.widget-view+json": {
       "model_id": "bd811a364ba14c268acbe63e0094b064",
       "version_major": 2,
       "version_minor": 0
      },
      "text/plain": [
       "0it [00:00, ?it/s]"
      ]
     },
     "metadata": {},
     "output_type": "display_data"
    },
    {
     "data": {
      "application/vnd.jupyter.widget-view+json": {
       "model_id": "530a8015975244e8b76292bdaf492171",
       "version_major": 2,
       "version_minor": 0
      },
      "text/plain": [
       "0it [00:00, ?it/s]"
      ]
     },
     "metadata": {},
     "output_type": "display_data"
    },
    {
     "data": {
      "application/vnd.jupyter.widget-view+json": {
       "model_id": "61a1f78acc6c44cbbd27031ff4addd3f",
       "version_major": 2,
       "version_minor": 0
      },
      "text/plain": [
       "0it [00:00, ?it/s]"
      ]
     },
     "metadata": {},
     "output_type": "display_data"
    },
    {
     "data": {
      "application/vnd.jupyter.widget-view+json": {
       "model_id": "208dcc4211924f31ac68dfcebde8f77b",
       "version_major": 2,
       "version_minor": 0
      },
      "text/plain": [
       "0it [00:00, ?it/s]"
      ]
     },
     "metadata": {},
     "output_type": "display_data"
    },
    {
     "data": {
      "application/vnd.jupyter.widget-view+json": {
       "model_id": "fd79ecabde84414db196154675891bfb",
       "version_major": 2,
       "version_minor": 0
      },
      "text/plain": [
       "0it [00:00, ?it/s]"
      ]
     },
     "metadata": {},
     "output_type": "display_data"
    },
    {
     "data": {
      "application/vnd.jupyter.widget-view+json": {
       "model_id": "2f6b3d8fc9df445c9f65f4e0f8bbad2f",
       "version_major": 2,
       "version_minor": 0
      },
      "text/plain": [
       "0it [00:00, ?it/s]"
      ]
     },
     "metadata": {},
     "output_type": "display_data"
    },
    {
     "data": {
      "application/vnd.jupyter.widget-view+json": {
       "model_id": "f24289318d004d3985b1c8d8dacbc6b5",
       "version_major": 2,
       "version_minor": 0
      },
      "text/plain": [
       "0it [00:00, ?it/s]"
      ]
     },
     "metadata": {},
     "output_type": "display_data"
    },
    {
     "data": {
      "application/vnd.jupyter.widget-view+json": {
       "model_id": "1cbbe1e196f74940bfa4d121cfe6d6b3",
       "version_major": 2,
       "version_minor": 0
      },
      "text/plain": [
       "0it [00:00, ?it/s]"
      ]
     },
     "metadata": {},
     "output_type": "display_data"
    },
    {
     "data": {
      "application/vnd.jupyter.widget-view+json": {
       "model_id": "380c177e36f444ea8580a7b59760ddce",
       "version_major": 2,
       "version_minor": 0
      },
      "text/plain": [
       "0it [00:00, ?it/s]"
      ]
     },
     "metadata": {},
     "output_type": "display_data"
    },
    {
     "data": {
      "application/vnd.jupyter.widget-view+json": {
       "model_id": "f1646bc2553f47758f480bce97d9fd29",
       "version_major": 2,
       "version_minor": 0
      },
      "text/plain": [
       "0it [00:00, ?it/s]"
      ]
     },
     "metadata": {},
     "output_type": "display_data"
    },
    {
     "data": {
      "application/vnd.jupyter.widget-view+json": {
       "model_id": "5401f22eac0c413f900799c6678d69c8",
       "version_major": 2,
       "version_minor": 0
      },
      "text/plain": [
       "0it [00:00, ?it/s]"
      ]
     },
     "metadata": {},
     "output_type": "display_data"
    },
    {
     "data": {
      "application/vnd.jupyter.widget-view+json": {
       "model_id": "c8b14da46bd841258ca2301c6b214e37",
       "version_major": 2,
       "version_minor": 0
      },
      "text/plain": [
       "0it [00:00, ?it/s]"
      ]
     },
     "metadata": {},
     "output_type": "display_data"
    },
    {
     "data": {
      "application/vnd.jupyter.widget-view+json": {
       "model_id": "61688c1ed2c2498e9be80bc69fadd18b",
       "version_major": 2,
       "version_minor": 0
      },
      "text/plain": [
       "0it [00:00, ?it/s]"
      ]
     },
     "metadata": {},
     "output_type": "display_data"
    },
    {
     "data": {
      "application/vnd.jupyter.widget-view+json": {
       "model_id": "f02d3c225c1a4c30871b9358fb9d199b",
       "version_major": 2,
       "version_minor": 0
      },
      "text/plain": [
       "0it [00:00, ?it/s]"
      ]
     },
     "metadata": {},
     "output_type": "display_data"
    },
    {
     "data": {
      "application/vnd.jupyter.widget-view+json": {
       "model_id": "af070f4899594089b78a2721e7e15322",
       "version_major": 2,
       "version_minor": 0
      },
      "text/plain": [
       "0it [00:00, ?it/s]"
      ]
     },
     "metadata": {},
     "output_type": "display_data"
    },
    {
     "data": {
      "application/vnd.jupyter.widget-view+json": {
       "model_id": "e386724e72c84e2caba907c6e44cc0c4",
       "version_major": 2,
       "version_minor": 0
      },
      "text/plain": [
       "0it [00:00, ?it/s]"
      ]
     },
     "metadata": {},
     "output_type": "display_data"
    },
    {
     "data": {
      "application/vnd.jupyter.widget-view+json": {
       "model_id": "208e221965bd486890cbebfb294a2547",
       "version_major": 2,
       "version_minor": 0
      },
      "text/plain": [
       "0it [00:00, ?it/s]"
      ]
     },
     "metadata": {},
     "output_type": "display_data"
    },
    {
     "data": {
      "application/vnd.jupyter.widget-view+json": {
       "model_id": "f78bebd5a6574b40b505648ad13eb232",
       "version_major": 2,
       "version_minor": 0
      },
      "text/plain": [
       "0it [00:00, ?it/s]"
      ]
     },
     "metadata": {},
     "output_type": "display_data"
    },
    {
     "name": "stdout",
     "output_type": "stream",
     "text": [
      "[{'mse_loss': [0.009697751, 0.0044392752, 0.0026605064, 0.0012684765, 0.0005004005, 0.00025291523, 0.00018650865, 0.00013854218, 0.0001028321, 8.907321e-05], 'bpp_loss': [0.021601094, 0.021601094, 0.021601094, 0.021601094, 0.021601094, 0.021601094, 0.021601094, 0.021601094, 0.021601094, 0.021601094], 'loss_classic': [6.3275633, 2.9082398, 1.7515953, 0.8464279, 0.34698653, 0.1860592, 0.14287835, 0.111688145, 0.08846767, 0.07952095], 'PSNR': [21.147215, 24.69606, 26.925434, 29.9851, 33.789215, 36.58705, 37.843365, 39.079475, 40.299873, 40.870567], 'PAC2PIQ': [-0.41652012, -0.40850842, -0.420941, -0.44921017, -0.53274846, -0.5847552, -0.5979841, -0.60481876, -0.60590726, -0.6073003], 'loss': [-833.0305, -817.0124, -841.8794, -898.41907, -1065.4963, -1169.51, -1195.968, -1209.6375, -1211.8145, -1214.6005], 'bitrate': [0.168175, 0.259668, 0.357481, 0.577243, 1.092981, 2.132078, 3.214578, 5.567656, 10.55694, 14.354068]}]\n",
      "SPAQ ./models_enhancement/model_vimeo11k_VSFA_2000mse_enhance_cheng2020_attn_quality2_fixed_direction.ckpt\n"
     ]
    },
    {
     "data": {
      "application/vnd.jupyter.widget-view+json": {
       "model_id": "4a7baded449849baa4a96c5d9e527ee5",
       "version_major": 2,
       "version_minor": 0
      },
      "text/plain": [
       "0it [00:00, ?it/s]"
      ]
     },
     "metadata": {},
     "output_type": "display_data"
    },
    {
     "data": {
      "application/vnd.jupyter.widget-view+json": {
       "model_id": "2f98e6ba7b114f7fb20ecf6ce54e421a",
       "version_major": 2,
       "version_minor": 0
      },
      "text/plain": [
       "0it [00:00, ?it/s]"
      ]
     },
     "metadata": {},
     "output_type": "display_data"
    },
    {
     "data": {
      "application/vnd.jupyter.widget-view+json": {
       "model_id": "6aabaadf15c943e0b2d2c729eaf901b7",
       "version_major": 2,
       "version_minor": 0
      },
      "text/plain": [
       "0it [00:00, ?it/s]"
      ]
     },
     "metadata": {},
     "output_type": "display_data"
    },
    {
     "data": {
      "application/vnd.jupyter.widget-view+json": {
       "model_id": "a35f8d1c8beb41a4a8f23a26481eb3ee",
       "version_major": 2,
       "version_minor": 0
      },
      "text/plain": [
       "0it [00:00, ?it/s]"
      ]
     },
     "metadata": {},
     "output_type": "display_data"
    },
    {
     "data": {
      "application/vnd.jupyter.widget-view+json": {
       "model_id": "7c871276205b4f13b5536f177cb3ba67",
       "version_major": 2,
       "version_minor": 0
      },
      "text/plain": [
       "0it [00:00, ?it/s]"
      ]
     },
     "metadata": {},
     "output_type": "display_data"
    },
    {
     "data": {
      "application/vnd.jupyter.widget-view+json": {
       "model_id": "12515f9dc8f54f74bab12e6eda4d6353",
       "version_major": 2,
       "version_minor": 0
      },
      "text/plain": [
       "0it [00:00, ?it/s]"
      ]
     },
     "metadata": {},
     "output_type": "display_data"
    },
    {
     "data": {
      "application/vnd.jupyter.widget-view+json": {
       "model_id": "6261f61f381d46ccbb938c465b22df07",
       "version_major": 2,
       "version_minor": 0
      },
      "text/plain": [
       "0it [00:00, ?it/s]"
      ]
     },
     "metadata": {},
     "output_type": "display_data"
    },
    {
     "data": {
      "application/vnd.jupyter.widget-view+json": {
       "model_id": "4a976d7269674feaadc4ebef183f81d9",
       "version_major": 2,
       "version_minor": 0
      },
      "text/plain": [
       "0it [00:00, ?it/s]"
      ]
     },
     "metadata": {},
     "output_type": "display_data"
    },
    {
     "data": {
      "application/vnd.jupyter.widget-view+json": {
       "model_id": "36500e8bee7b46fa9d55a0a06299ceec",
       "version_major": 2,
       "version_minor": 0
      },
      "text/plain": [
       "0it [00:00, ?it/s]"
      ]
     },
     "metadata": {},
     "output_type": "display_data"
    },
    {
     "data": {
      "application/vnd.jupyter.widget-view+json": {
       "model_id": "e8ac76392ac846189dc5798a5fb78186",
       "version_major": 2,
       "version_minor": 0
      },
      "text/plain": [
       "0it [00:00, ?it/s]"
      ]
     },
     "metadata": {},
     "output_type": "display_data"
    },
    {
     "data": {
      "application/vnd.jupyter.widget-view+json": {
       "model_id": "3a5b3a7c199643a5a40c791374f1bdb0",
       "version_major": 2,
       "version_minor": 0
      },
      "text/plain": [
       "0it [00:00, ?it/s]"
      ]
     },
     "metadata": {},
     "output_type": "display_data"
    },
    {
     "data": {
      "application/vnd.jupyter.widget-view+json": {
       "model_id": "ccc067a4afbb49b7ac2e058d79f43085",
       "version_major": 2,
       "version_minor": 0
      },
      "text/plain": [
       "0it [00:00, ?it/s]"
      ]
     },
     "metadata": {},
     "output_type": "display_data"
    },
    {
     "data": {
      "application/vnd.jupyter.widget-view+json": {
       "model_id": "c668554a0c584653b66428852c3368ee",
       "version_major": 2,
       "version_minor": 0
      },
      "text/plain": [
       "0it [00:00, ?it/s]"
      ]
     },
     "metadata": {},
     "output_type": "display_data"
    },
    {
     "data": {
      "application/vnd.jupyter.widget-view+json": {
       "model_id": "258533bd0339469585e427cb6072d54f",
       "version_major": 2,
       "version_minor": 0
      },
      "text/plain": [
       "0it [00:00, ?it/s]"
      ]
     },
     "metadata": {},
     "output_type": "display_data"
    },
    {
     "data": {
      "application/vnd.jupyter.widget-view+json": {
       "model_id": "115aa4d936c34e679827d67173c66128",
       "version_major": 2,
       "version_minor": 0
      },
      "text/plain": [
       "0it [00:00, ?it/s]"
      ]
     },
     "metadata": {},
     "output_type": "display_data"
    },
    {
     "data": {
      "application/vnd.jupyter.widget-view+json": {
       "model_id": "1fbd43848e35496a9aecbd80546bb707",
       "version_major": 2,
       "version_minor": 0
      },
      "text/plain": [
       "0it [00:00, ?it/s]"
      ]
     },
     "metadata": {},
     "output_type": "display_data"
    },
    {
     "data": {
      "application/vnd.jupyter.widget-view+json": {
       "model_id": "e5719517a00847ceb9fe6e3fe8180fcc",
       "version_major": 2,
       "version_minor": 0
      },
      "text/plain": [
       "0it [00:00, ?it/s]"
      ]
     },
     "metadata": {},
     "output_type": "display_data"
    },
    {
     "data": {
      "application/vnd.jupyter.widget-view+json": {
       "model_id": "af3b8b1584ae42b89d830e20cf745842",
       "version_major": 2,
       "version_minor": 0
      },
      "text/plain": [
       "0it [00:00, ?it/s]"
      ]
     },
     "metadata": {},
     "output_type": "display_data"
    },
    {
     "data": {
      "application/vnd.jupyter.widget-view+json": {
       "model_id": "6d3515e700214dedaafe87fd5435093a",
       "version_major": 2,
       "version_minor": 0
      },
      "text/plain": [
       "0it [00:00, ?it/s]"
      ]
     },
     "metadata": {},
     "output_type": "display_data"
    },
    {
     "data": {
      "application/vnd.jupyter.widget-view+json": {
       "model_id": "45004e5fef2f405b951498740c92bbaa",
       "version_major": 2,
       "version_minor": 0
      },
      "text/plain": [
       "0it [00:00, ?it/s]"
      ]
     },
     "metadata": {},
     "output_type": "display_data"
    },
    {
     "name": "stdout",
     "output_type": "stream",
     "text": [
      "[{'mse_loss': [0.009697751, 0.0044392752, 0.0026605064, 0.0012684765, 0.0005004005, 0.00025291523, 0.00018650865, 0.00013854218, 0.0001028321, 8.907321e-05], 'bpp_loss': [0.021601094, 0.021601094, 0.021601094, 0.021601094, 0.021601094, 0.021601094, 0.021601094, 0.021601094, 0.021601094, 0.021601094], 'loss_classic': [6.3275633, 2.9082398, 1.7515953, 0.8464279, 0.34698653, 0.1860592, 0.14287835, 0.111688145, 0.08846767, 0.07952095], 'PSNR': [21.147215, 24.69606, 26.925434, 29.9851, 33.789215, 36.58705, 37.843365, 39.079475, 40.299873, 40.870567], 'SPAQ': [-0.37769896, -0.38297957, -0.39209813, -0.38907236, -0.3963074, -0.39281058, -0.395649, -0.40276197, -0.40690434, -0.41093087], 'loss': [-755.38824, -765.9547, -784.1935, -778.1435, -792.61426, -785.6209, -791.2978, -805.5238, -813.8086, -821.8617], 'bitrate': [0.168175, 0.259668, 0.357481, 0.577243, 1.092981, 2.132078, 3.214578, 5.567656, 10.55694, 14.354068]}]\n",
      "VSFA ./models_enhancement/model_vimeo11k_Linearity_2000mse_enhance_no_codec_fixed_direction.ckpt\n"
     ]
    },
    {
     "data": {
      "application/vnd.jupyter.widget-view+json": {
       "model_id": "92a1205173bf4260a1edcffba698ad42",
       "version_major": 2,
       "version_minor": 0
      },
      "text/plain": [
       "0it [00:00, ?it/s]"
      ]
     },
     "metadata": {},
     "output_type": "display_data"
    },
    {
     "data": {
      "application/vnd.jupyter.widget-view+json": {
       "model_id": "d65eb2c357aa493d85e4471a31d2d139",
       "version_major": 2,
       "version_minor": 0
      },
      "text/plain": [
       "0it [00:00, ?it/s]"
      ]
     },
     "metadata": {},
     "output_type": "display_data"
    },
    {
     "data": {
      "application/vnd.jupyter.widget-view+json": {
       "model_id": "25cf9bdcc3e0418db227317f287f6ce3",
       "version_major": 2,
       "version_minor": 0
      },
      "text/plain": [
       "0it [00:00, ?it/s]"
      ]
     },
     "metadata": {},
     "output_type": "display_data"
    },
    {
     "data": {
      "application/vnd.jupyter.widget-view+json": {
       "model_id": "e3331e9595d840028ecdc8fc8e70c1f0",
       "version_major": 2,
       "version_minor": 0
      },
      "text/plain": [
       "0it [00:00, ?it/s]"
      ]
     },
     "metadata": {},
     "output_type": "display_data"
    },
    {
     "data": {
      "application/vnd.jupyter.widget-view+json": {
       "model_id": "40ae2a2d1aa043238c841cff286176ef",
       "version_major": 2,
       "version_minor": 0
      },
      "text/plain": [
       "0it [00:00, ?it/s]"
      ]
     },
     "metadata": {},
     "output_type": "display_data"
    },
    {
     "data": {
      "application/vnd.jupyter.widget-view+json": {
       "model_id": "aaf1c5716fc1427cbc54e34891d27b00",
       "version_major": 2,
       "version_minor": 0
      },
      "text/plain": [
       "0it [00:00, ?it/s]"
      ]
     },
     "metadata": {},
     "output_type": "display_data"
    },
    {
     "data": {
      "application/vnd.jupyter.widget-view+json": {
       "model_id": "3e88e0c602964c16acb868428caf2b75",
       "version_major": 2,
       "version_minor": 0
      },
      "text/plain": [
       "0it [00:00, ?it/s]"
      ]
     },
     "metadata": {},
     "output_type": "display_data"
    },
    {
     "data": {
      "application/vnd.jupyter.widget-view+json": {
       "model_id": "f8dcaf79d4f246eb85a9b38ae71cea85",
       "version_major": 2,
       "version_minor": 0
      },
      "text/plain": [
       "0it [00:00, ?it/s]"
      ]
     },
     "metadata": {},
     "output_type": "display_data"
    },
    {
     "data": {
      "application/vnd.jupyter.widget-view+json": {
       "model_id": "702cd73fe83746efb170ca02af3e2a78",
       "version_major": 2,
       "version_minor": 0
      },
      "text/plain": [
       "0it [00:00, ?it/s]"
      ]
     },
     "metadata": {},
     "output_type": "display_data"
    },
    {
     "data": {
      "application/vnd.jupyter.widget-view+json": {
       "model_id": "9d1dc8650fc348e0a3e0025ae333ee0e",
       "version_major": 2,
       "version_minor": 0
      },
      "text/plain": [
       "0it [00:00, ?it/s]"
      ]
     },
     "metadata": {},
     "output_type": "display_data"
    },
    {
     "data": {
      "application/vnd.jupyter.widget-view+json": {
       "model_id": "dc57be33c55e4dc9bcad7d6fb8e41010",
       "version_major": 2,
       "version_minor": 0
      },
      "text/plain": [
       "0it [00:00, ?it/s]"
      ]
     },
     "metadata": {},
     "output_type": "display_data"
    },
    {
     "data": {
      "application/vnd.jupyter.widget-view+json": {
       "model_id": "41ef964065074ed09eaf5293abe6bbd2",
       "version_major": 2,
       "version_minor": 0
      },
      "text/plain": [
       "0it [00:00, ?it/s]"
      ]
     },
     "metadata": {},
     "output_type": "display_data"
    },
    {
     "data": {
      "application/vnd.jupyter.widget-view+json": {
       "model_id": "865085f1c1ce4b5599365b2db3913be1",
       "version_major": 2,
       "version_minor": 0
      },
      "text/plain": [
       "0it [00:00, ?it/s]"
      ]
     },
     "metadata": {},
     "output_type": "display_data"
    },
    {
     "data": {
      "application/vnd.jupyter.widget-view+json": {
       "model_id": "107b4ba90b9d477294f43fa9fff09344",
       "version_major": 2,
       "version_minor": 0
      },
      "text/plain": [
       "0it [00:00, ?it/s]"
      ]
     },
     "metadata": {},
     "output_type": "display_data"
    },
    {
     "data": {
      "application/vnd.jupyter.widget-view+json": {
       "model_id": "4d111ba70eef47e0abee4eb73de56015",
       "version_major": 2,
       "version_minor": 0
      },
      "text/plain": [
       "0it [00:00, ?it/s]"
      ]
     },
     "metadata": {},
     "output_type": "display_data"
    },
    {
     "data": {
      "application/vnd.jupyter.widget-view+json": {
       "model_id": "de0bfe2fc42a4e7591ba9a39395c9d0a",
       "version_major": 2,
       "version_minor": 0
      },
      "text/plain": [
       "0it [00:00, ?it/s]"
      ]
     },
     "metadata": {},
     "output_type": "display_data"
    },
    {
     "data": {
      "application/vnd.jupyter.widget-view+json": {
       "model_id": "459c775cbf7a4b3a9e333acb83df486b",
       "version_major": 2,
       "version_minor": 0
      },
      "text/plain": [
       "0it [00:00, ?it/s]"
      ]
     },
     "metadata": {},
     "output_type": "display_data"
    },
    {
     "data": {
      "application/vnd.jupyter.widget-view+json": {
       "model_id": "7d45fa9d8a104774b27e3b9cf8253ea8",
       "version_major": 2,
       "version_minor": 0
      },
      "text/plain": [
       "0it [00:00, ?it/s]"
      ]
     },
     "metadata": {},
     "output_type": "display_data"
    },
    {
     "data": {
      "application/vnd.jupyter.widget-view+json": {
       "model_id": "5f1923d7d8214029be35c585b8c74b86",
       "version_major": 2,
       "version_minor": 0
      },
      "text/plain": [
       "0it [00:00, ?it/s]"
      ]
     },
     "metadata": {},
     "output_type": "display_data"
    },
    {
     "data": {
      "application/vnd.jupyter.widget-view+json": {
       "model_id": "fe5afeca61504a4bb14ce2eeb421f15f",
       "version_major": 2,
       "version_minor": 0
      },
      "text/plain": [
       "0it [00:00, ?it/s]"
      ]
     },
     "metadata": {},
     "output_type": "display_data"
    },
    {
     "name": "stdout",
     "output_type": "stream",
     "text": [
      "[{'mse_loss': [0.00969775, 0.0044392752, 0.0026605062, 0.0012684765, 0.0005004005, 0.00025291526, 0.00018650867, 0.00013854218, 0.00010283211, 8.907322e-05], 'bpp_loss': [0.010800547, 0.010800547, 0.010800547, 0.010800547, 0.010800547, 0.010800547, 0.010800547, 0.010800547, 0.010800547, 0.010800547], 'loss_classic': [6.316763, 2.8974392, 1.7407948, 0.83562744, 0.33618596, 0.17525867, 0.13207781, 0.10088761, 0.07766713, 0.068720415], 'PSNR': [21.121286, 24.651741, 26.89787, 29.975628, 33.783333, 36.580708, 37.83522, 39.070206, 40.28988, 40.86033], 'VSFA': [-0.30357987, -0.31508327, -0.32475537, -0.35602337, -0.3978043, -0.42448968, -0.4313721, -0.43725687, -0.44092435, -0.44290918], 'loss': [-607.15, -630.1622, -649.50806, -712.0454, -795.60803, -848.9791, -862.744, -874.51355, -881.8486, -885.81824], 'bitrate': [0.168175, 0.259668, 0.357481, 0.577243, 1.092981, 2.132078, 3.214578, 5.567656, 10.55694, 14.354068]}]\n"
     ]
    },
    {
     "data": {
      "application/vnd.jupyter.widget-view+json": {
       "model_id": "1a9379b146e34d1cbac5d6995f931af7",
       "version_major": 2,
       "version_minor": 0
      },
      "text/plain": [
       "0it [00:00, ?it/s]"
      ]
     },
     "metadata": {},
     "output_type": "display_data"
    },
    {
     "name": "stdout",
     "output_type": "stream",
     "text": [
      "Linearity ./models_enhancement/model_vimeo11k_MDTVSFA_2000mse_enhance_cheng2020_attn_quality2.ckpt\n"
     ]
    },
    {
     "data": {
      "application/vnd.jupyter.widget-view+json": {
       "model_id": "8cd2ec8cbc664bd9a9a5a579fcac0cf1",
       "version_major": 2,
       "version_minor": 0
      },
      "text/plain": [
       "0it [00:00, ?it/s]"
      ]
     },
     "metadata": {},
     "output_type": "display_data"
    },
    {
     "data": {
      "application/vnd.jupyter.widget-view+json": {
       "model_id": "a317b2d067b84cdeb23f0d90440492a9",
       "version_major": 2,
       "version_minor": 0
      },
      "text/plain": [
       "0it [00:00, ?it/s]"
      ]
     },
     "metadata": {},
     "output_type": "display_data"
    },
    {
     "data": {
      "application/vnd.jupyter.widget-view+json": {
       "model_id": "37fb0988bb3b4594b52b207f2a71fee9",
       "version_major": 2,
       "version_minor": 0
      },
      "text/plain": [
       "0it [00:00, ?it/s]"
      ]
     },
     "metadata": {},
     "output_type": "display_data"
    },
    {
     "data": {
      "application/vnd.jupyter.widget-view+json": {
       "model_id": "d458ac3d199e40549c961c8a50372a3b",
       "version_major": 2,
       "version_minor": 0
      },
      "text/plain": [
       "0it [00:00, ?it/s]"
      ]
     },
     "metadata": {},
     "output_type": "display_data"
    },
    {
     "data": {
      "application/vnd.jupyter.widget-view+json": {
       "model_id": "c90228a15a924ade8f21b95a00f90647",
       "version_major": 2,
       "version_minor": 0
      },
      "text/plain": [
       "0it [00:00, ?it/s]"
      ]
     },
     "metadata": {},
     "output_type": "display_data"
    },
    {
     "data": {
      "application/vnd.jupyter.widget-view+json": {
       "model_id": "27346b1bc9c2499dae759e33e8f23d19",
       "version_major": 2,
       "version_minor": 0
      },
      "text/plain": [
       "0it [00:00, ?it/s]"
      ]
     },
     "metadata": {},
     "output_type": "display_data"
    },
    {
     "data": {
      "application/vnd.jupyter.widget-view+json": {
       "model_id": "be72405c912c40869b850c0ad8be33bb",
       "version_major": 2,
       "version_minor": 0
      },
      "text/plain": [
       "0it [00:00, ?it/s]"
      ]
     },
     "metadata": {},
     "output_type": "display_data"
    },
    {
     "data": {
      "application/vnd.jupyter.widget-view+json": {
       "model_id": "a2162f61fbd24b2cae6135b2664a210d",
       "version_major": 2,
       "version_minor": 0
      },
      "text/plain": [
       "0it [00:00, ?it/s]"
      ]
     },
     "metadata": {},
     "output_type": "display_data"
    },
    {
     "data": {
      "application/vnd.jupyter.widget-view+json": {
       "model_id": "2df9154230a24988b3e50fa0165d2fab",
       "version_major": 2,
       "version_minor": 0
      },
      "text/plain": [
       "0it [00:00, ?it/s]"
      ]
     },
     "metadata": {},
     "output_type": "display_data"
    },
    {
     "data": {
      "application/vnd.jupyter.widget-view+json": {
       "model_id": "0313f65fc650424e8d6664e681747686",
       "version_major": 2,
       "version_minor": 0
      },
      "text/plain": [
       "0it [00:00, ?it/s]"
      ]
     },
     "metadata": {},
     "output_type": "display_data"
    },
    {
     "data": {
      "application/vnd.jupyter.widget-view+json": {
       "model_id": "345c1f99c8384420acda8df7c36ba4ce",
       "version_major": 2,
       "version_minor": 0
      },
      "text/plain": [
       "0it [00:00, ?it/s]"
      ]
     },
     "metadata": {},
     "output_type": "display_data"
    },
    {
     "data": {
      "application/vnd.jupyter.widget-view+json": {
       "model_id": "897333f87b7a4337a9b009a2bf404932",
       "version_major": 2,
       "version_minor": 0
      },
      "text/plain": [
       "0it [00:00, ?it/s]"
      ]
     },
     "metadata": {},
     "output_type": "display_data"
    },
    {
     "data": {
      "application/vnd.jupyter.widget-view+json": {
       "model_id": "f4615e6d4cd84d92a848a37cd15ef2db",
       "version_major": 2,
       "version_minor": 0
      },
      "text/plain": [
       "0it [00:00, ?it/s]"
      ]
     },
     "metadata": {},
     "output_type": "display_data"
    },
    {
     "data": {
      "application/vnd.jupyter.widget-view+json": {
       "model_id": "c4852f750c88452f82a473e00a12b448",
       "version_major": 2,
       "version_minor": 0
      },
      "text/plain": [
       "0it [00:00, ?it/s]"
      ]
     },
     "metadata": {},
     "output_type": "display_data"
    },
    {
     "data": {
      "application/vnd.jupyter.widget-view+json": {
       "model_id": "fa0a896af77c4636b3f152832a981c5d",
       "version_major": 2,
       "version_minor": 0
      },
      "text/plain": [
       "0it [00:00, ?it/s]"
      ]
     },
     "metadata": {},
     "output_type": "display_data"
    },
    {
     "data": {
      "application/vnd.jupyter.widget-view+json": {
       "model_id": "3dc5fba8eb48448e8b60b55444274a5e",
       "version_major": 2,
       "version_minor": 0
      },
      "text/plain": [
       "0it [00:00, ?it/s]"
      ]
     },
     "metadata": {},
     "output_type": "display_data"
    },
    {
     "data": {
      "application/vnd.jupyter.widget-view+json": {
       "model_id": "29eb5fbd9db242d7bbe152df0e0e22fd",
       "version_major": 2,
       "version_minor": 0
      },
      "text/plain": [
       "0it [00:00, ?it/s]"
      ]
     },
     "metadata": {},
     "output_type": "display_data"
    },
    {
     "data": {
      "application/vnd.jupyter.widget-view+json": {
       "model_id": "07fdefe9eb7d441286442930f4f32962",
       "version_major": 2,
       "version_minor": 0
      },
      "text/plain": [
       "0it [00:00, ?it/s]"
      ]
     },
     "metadata": {},
     "output_type": "display_data"
    },
    {
     "data": {
      "application/vnd.jupyter.widget-view+json": {
       "model_id": "04395c0c4afc4241a49e462d02e8075f",
       "version_major": 2,
       "version_minor": 0
      },
      "text/plain": [
       "0it [00:00, ?it/s]"
      ]
     },
     "metadata": {},
     "output_type": "display_data"
    },
    {
     "data": {
      "application/vnd.jupyter.widget-view+json": {
       "model_id": "f00f29d120464493b04dbb1db234e7de",
       "version_major": 2,
       "version_minor": 0
      },
      "text/plain": [
       "0it [00:00, ?it/s]"
      ]
     },
     "metadata": {},
     "output_type": "display_data"
    },
    {
     "name": "stdout",
     "output_type": "stream",
     "text": [
      "[{'mse_loss': [0.0061228117, 0.003768739, 0.0026707775, 0.0017585937, 0.0010992258, 0.00081361446, 0.00077158597, 0.00079569663, 0.00078186346, 0.000726372], 'bpp_loss': [0.021601094, 0.021601094, 0.021601094, 0.021601094, 0.021601094, 0.021601094, 0.021601094, 0.021601094, 0.021601094, 0.021601094], 'loss_classic': [4.0029593, 2.4722238, 1.7582741, 1.1651266, 0.7363727, 0.55065393, 0.5233249, 0.5390028, 0.5300078, 0.49392444], 'PSNR': [22.14769, 24.257526, 25.750793, 27.56771, 29.602913, 30.908854, 31.148333, 31.083963, 31.490799, 32.038933], 'Linearity': [0.5891681, 0.44697732, 0.30738235, 0.16190085, -0.07516727, -0.17037198, -0.1586071, -0.1204916, -0.096819766, -0.100879684], 'loss': [1178.3423, 893.95844, 614.7674, 323.80344, -150.33344, -340.7431, -317.2134, -240.98242, -193.63876, -201.75862], 'bitrate': [0.086193, 0.155775, 0.234231, 0.379356, 0.725796, 1.517862, 2.544165, 5.633406, 17.86754, 26.572437]}]\n",
      "MDTVSFA ./models_enhancement/model_vimeo11k_PAC2PIC_2000mse_enhance_cheng2020_attn_quality2_fixed_direction.ckpt\n"
     ]
    },
    {
     "data": {
      "application/vnd.jupyter.widget-view+json": {
       "model_id": "538e1fc3edb34de69f759f624d293046",
       "version_major": 2,
       "version_minor": 0
      },
      "text/plain": [
       "0it [00:00, ?it/s]"
      ]
     },
     "metadata": {},
     "output_type": "display_data"
    },
    {
     "data": {
      "application/vnd.jupyter.widget-view+json": {
       "model_id": "b835a843455441f6917d9296ec09823d",
       "version_major": 2,
       "version_minor": 0
      },
      "text/plain": [
       "0it [00:00, ?it/s]"
      ]
     },
     "metadata": {},
     "output_type": "display_data"
    },
    {
     "data": {
      "application/vnd.jupyter.widget-view+json": {
       "model_id": "d2c3b292e0434ee49bb840d445129551",
       "version_major": 2,
       "version_minor": 0
      },
      "text/plain": [
       "0it [00:00, ?it/s]"
      ]
     },
     "metadata": {},
     "output_type": "display_data"
    },
    {
     "data": {
      "application/vnd.jupyter.widget-view+json": {
       "model_id": "bb1e08581fdf4a2cac347206074fda6c",
       "version_major": 2,
       "version_minor": 0
      },
      "text/plain": [
       "0it [00:00, ?it/s]"
      ]
     },
     "metadata": {},
     "output_type": "display_data"
    },
    {
     "data": {
      "application/vnd.jupyter.widget-view+json": {
       "model_id": "d58a36ff79464d37929d4b7f6615f6e9",
       "version_major": 2,
       "version_minor": 0
      },
      "text/plain": [
       "0it [00:00, ?it/s]"
      ]
     },
     "metadata": {},
     "output_type": "display_data"
    },
    {
     "data": {
      "application/vnd.jupyter.widget-view+json": {
       "model_id": "ccecd58018694234a1b05391fe7daca0",
       "version_major": 2,
       "version_minor": 0
      },
      "text/plain": [
       "0it [00:00, ?it/s]"
      ]
     },
     "metadata": {},
     "output_type": "display_data"
    },
    {
     "data": {
      "application/vnd.jupyter.widget-view+json": {
       "model_id": "841d48b359654f96b2239f011f3e7be2",
       "version_major": 2,
       "version_minor": 0
      },
      "text/plain": [
       "0it [00:00, ?it/s]"
      ]
     },
     "metadata": {},
     "output_type": "display_data"
    },
    {
     "data": {
      "application/vnd.jupyter.widget-view+json": {
       "model_id": "74aeff032f894e8495d179c0607aebf5",
       "version_major": 2,
       "version_minor": 0
      },
      "text/plain": [
       "0it [00:00, ?it/s]"
      ]
     },
     "metadata": {},
     "output_type": "display_data"
    },
    {
     "data": {
      "application/vnd.jupyter.widget-view+json": {
       "model_id": "409b7b48b62645d080e6fff23cb6fea6",
       "version_major": 2,
       "version_minor": 0
      },
      "text/plain": [
       "0it [00:00, ?it/s]"
      ]
     },
     "metadata": {},
     "output_type": "display_data"
    },
    {
     "data": {
      "application/vnd.jupyter.widget-view+json": {
       "model_id": "d7118bbdc602478f932dfd0d5b2a3ed9",
       "version_major": 2,
       "version_minor": 0
      },
      "text/plain": [
       "0it [00:00, ?it/s]"
      ]
     },
     "metadata": {},
     "output_type": "display_data"
    },
    {
     "data": {
      "application/vnd.jupyter.widget-view+json": {
       "model_id": "54101ae203ca4bf993f24d5e19034ddc",
       "version_major": 2,
       "version_minor": 0
      },
      "text/plain": [
       "0it [00:00, ?it/s]"
      ]
     },
     "metadata": {},
     "output_type": "display_data"
    },
    {
     "data": {
      "application/vnd.jupyter.widget-view+json": {
       "model_id": "74cf1385ff7b4769810dd8cfcb91ca91",
       "version_major": 2,
       "version_minor": 0
      },
      "text/plain": [
       "0it [00:00, ?it/s]"
      ]
     },
     "metadata": {},
     "output_type": "display_data"
    },
    {
     "data": {
      "application/vnd.jupyter.widget-view+json": {
       "model_id": "c583995bf48f4db0a427ab46442cf09e",
       "version_major": 2,
       "version_minor": 0
      },
      "text/plain": [
       "0it [00:00, ?it/s]"
      ]
     },
     "metadata": {},
     "output_type": "display_data"
    },
    {
     "data": {
      "application/vnd.jupyter.widget-view+json": {
       "model_id": "3dcf8aac529d4f66bda9d0c1787a3952",
       "version_major": 2,
       "version_minor": 0
      },
      "text/plain": [
       "0it [00:00, ?it/s]"
      ]
     },
     "metadata": {},
     "output_type": "display_data"
    },
    {
     "data": {
      "application/vnd.jupyter.widget-view+json": {
       "model_id": "38c1b8a857044ba3b80eb285ba499d06",
       "version_major": 2,
       "version_minor": 0
      },
      "text/plain": [
       "0it [00:00, ?it/s]"
      ]
     },
     "metadata": {},
     "output_type": "display_data"
    },
    {
     "data": {
      "application/vnd.jupyter.widget-view+json": {
       "model_id": "9aa78e86b287440d8511abfb3985f741",
       "version_major": 2,
       "version_minor": 0
      },
      "text/plain": [
       "0it [00:00, ?it/s]"
      ]
     },
     "metadata": {},
     "output_type": "display_data"
    },
    {
     "data": {
      "application/vnd.jupyter.widget-view+json": {
       "model_id": "e423bf64455847cea0dcd2982729e8c8",
       "version_major": 2,
       "version_minor": 0
      },
      "text/plain": [
       "0it [00:00, ?it/s]"
      ]
     },
     "metadata": {},
     "output_type": "display_data"
    },
    {
     "data": {
      "application/vnd.jupyter.widget-view+json": {
       "model_id": "444b741bd06946d58d65573b9a791b72",
       "version_major": 2,
       "version_minor": 0
      },
      "text/plain": [
       "0it [00:00, ?it/s]"
      ]
     },
     "metadata": {},
     "output_type": "display_data"
    },
    {
     "data": {
      "application/vnd.jupyter.widget-view+json": {
       "model_id": "cff61ad046dc4ffb9d0501369952121e",
       "version_major": 2,
       "version_minor": 0
      },
      "text/plain": [
       "0it [00:00, ?it/s]"
      ]
     },
     "metadata": {},
     "output_type": "display_data"
    },
    {
     "data": {
      "application/vnd.jupyter.widget-view+json": {
       "model_id": "f310c5de6e0b4c60ab06be951674b2b6",
       "version_major": 2,
       "version_minor": 0
      },
      "text/plain": [
       "0it [00:00, ?it/s]"
      ]
     },
     "metadata": {},
     "output_type": "display_data"
    },
    {
     "name": "stdout",
     "output_type": "stream",
     "text": [
      "[{'mse_loss': [0.0061228117, 0.003768739, 0.0026707775, 0.0017585937, 0.0010992258, 0.00081361446, 0.00077158597, 0.00079569663, 0.00078186346, 0.000726372], 'bpp_loss': [0.021601094, 0.021601094, 0.021601094, 0.021601094, 0.021601094, 0.021601094, 0.021601094, 0.021601094, 0.021601094, 0.021601094], 'loss_classic': [4.0029593, 2.4722238, 1.7582741, 1.1651266, 0.7363727, 0.55065393, 0.5233249, 0.5390028, 0.5300078, 0.49392444], 'PSNR': [22.14769, 24.257526, 25.750793, 27.56771, 29.602913, 30.908854, 31.148333, 31.083963, 31.490799, 32.038933], 'MDTVSFA': [-0.4322284, -0.4492349, -0.4641884, -0.48791784, -0.4991198, -0.50711465, -0.5060391, -0.504096, -0.50464, -0.5059055], 'loss': [-864.4507, -898.46594, -928.37415, -975.83386, -998.23846, -1014.2285, -1012.0774, -1008.19116, -1009.2792, -1011.81036], 'bitrate': [0.086193, 0.155775, 0.234231, 0.379356, 0.725796, 1.517862, 2.544165, 5.633406, 17.86754, 26.572437]}]\n",
      "PAC2PIQ ./models_enhancement/model_vimeo11k_SPAQ_2000mse_enhance_cheng2020_attn_quality2_fixed_direction.ckpt\n"
     ]
    },
    {
     "data": {
      "application/vnd.jupyter.widget-view+json": {
       "model_id": "4814813293c64902ae39205249ebae9d",
       "version_major": 2,
       "version_minor": 0
      },
      "text/plain": [
       "0it [00:00, ?it/s]"
      ]
     },
     "metadata": {},
     "output_type": "display_data"
    },
    {
     "data": {
      "application/vnd.jupyter.widget-view+json": {
       "model_id": "87e694a2392b480c857ee0d45988c441",
       "version_major": 2,
       "version_minor": 0
      },
      "text/plain": [
       "0it [00:00, ?it/s]"
      ]
     },
     "metadata": {},
     "output_type": "display_data"
    },
    {
     "data": {
      "application/vnd.jupyter.widget-view+json": {
       "model_id": "1d4dda4f4b97429a9a052f8a3151d8c7",
       "version_major": 2,
       "version_minor": 0
      },
      "text/plain": [
       "0it [00:00, ?it/s]"
      ]
     },
     "metadata": {},
     "output_type": "display_data"
    },
    {
     "data": {
      "application/vnd.jupyter.widget-view+json": {
       "model_id": "3a1382c1c4cf4f779c3d19281130e832",
       "version_major": 2,
       "version_minor": 0
      },
      "text/plain": [
       "0it [00:00, ?it/s]"
      ]
     },
     "metadata": {},
     "output_type": "display_data"
    },
    {
     "data": {
      "application/vnd.jupyter.widget-view+json": {
       "model_id": "76f96532b12c4f39a483bffc1c584d41",
       "version_major": 2,
       "version_minor": 0
      },
      "text/plain": [
       "0it [00:00, ?it/s]"
      ]
     },
     "metadata": {},
     "output_type": "display_data"
    },
    {
     "data": {
      "application/vnd.jupyter.widget-view+json": {
       "model_id": "8de8a79ccc3846518ffc49431157dfcf",
       "version_major": 2,
       "version_minor": 0
      },
      "text/plain": [
       "0it [00:00, ?it/s]"
      ]
     },
     "metadata": {},
     "output_type": "display_data"
    },
    {
     "data": {
      "application/vnd.jupyter.widget-view+json": {
       "model_id": "63555f80b0c740fc87703774a9ccdb65",
       "version_major": 2,
       "version_minor": 0
      },
      "text/plain": [
       "0it [00:00, ?it/s]"
      ]
     },
     "metadata": {},
     "output_type": "display_data"
    },
    {
     "data": {
      "application/vnd.jupyter.widget-view+json": {
       "model_id": "7ca533f773004e03bcac18dbd3aa8c11",
       "version_major": 2,
       "version_minor": 0
      },
      "text/plain": [
       "0it [00:00, ?it/s]"
      ]
     },
     "metadata": {},
     "output_type": "display_data"
    },
    {
     "data": {
      "application/vnd.jupyter.widget-view+json": {
       "model_id": "e7463975436d4f1fa96c0443bfd99341",
       "version_major": 2,
       "version_minor": 0
      },
      "text/plain": [
       "0it [00:00, ?it/s]"
      ]
     },
     "metadata": {},
     "output_type": "display_data"
    },
    {
     "data": {
      "application/vnd.jupyter.widget-view+json": {
       "model_id": "8822e7abb6634e55b3e45b094c06915b",
       "version_major": 2,
       "version_minor": 0
      },
      "text/plain": [
       "0it [00:00, ?it/s]"
      ]
     },
     "metadata": {},
     "output_type": "display_data"
    },
    {
     "data": {
      "application/vnd.jupyter.widget-view+json": {
       "model_id": "7e55d3973162423dae63372c6bb48f31",
       "version_major": 2,
       "version_minor": 0
      },
      "text/plain": [
       "0it [00:00, ?it/s]"
      ]
     },
     "metadata": {},
     "output_type": "display_data"
    },
    {
     "data": {
      "application/vnd.jupyter.widget-view+json": {
       "model_id": "a44f18bfcb0d462cb6d64c753e9a863f",
       "version_major": 2,
       "version_minor": 0
      },
      "text/plain": [
       "0it [00:00, ?it/s]"
      ]
     },
     "metadata": {},
     "output_type": "display_data"
    },
    {
     "data": {
      "application/vnd.jupyter.widget-view+json": {
       "model_id": "a5c64ec74684414bbb91cc979ae71cd5",
       "version_major": 2,
       "version_minor": 0
      },
      "text/plain": [
       "0it [00:00, ?it/s]"
      ]
     },
     "metadata": {},
     "output_type": "display_data"
    },
    {
     "data": {
      "application/vnd.jupyter.widget-view+json": {
       "model_id": "df1977a6586c468a876f421ce90d6f98",
       "version_major": 2,
       "version_minor": 0
      },
      "text/plain": [
       "0it [00:00, ?it/s]"
      ]
     },
     "metadata": {},
     "output_type": "display_data"
    },
    {
     "data": {
      "application/vnd.jupyter.widget-view+json": {
       "model_id": "bb554cfb06af46f8b39ccb6e2041f6a8",
       "version_major": 2,
       "version_minor": 0
      },
      "text/plain": [
       "0it [00:00, ?it/s]"
      ]
     },
     "metadata": {},
     "output_type": "display_data"
    },
    {
     "data": {
      "application/vnd.jupyter.widget-view+json": {
       "model_id": "2067a16d767745aa8992d1329ba2f68d",
       "version_major": 2,
       "version_minor": 0
      },
      "text/plain": [
       "0it [00:00, ?it/s]"
      ]
     },
     "metadata": {},
     "output_type": "display_data"
    },
    {
     "data": {
      "application/vnd.jupyter.widget-view+json": {
       "model_id": "f6a0223023c244b0b5c27f5006ed1769",
       "version_major": 2,
       "version_minor": 0
      },
      "text/plain": [
       "0it [00:00, ?it/s]"
      ]
     },
     "metadata": {},
     "output_type": "display_data"
    },
    {
     "data": {
      "application/vnd.jupyter.widget-view+json": {
       "model_id": "e6c5b88883404b33b8179d1faba11633",
       "version_major": 2,
       "version_minor": 0
      },
      "text/plain": [
       "0it [00:00, ?it/s]"
      ]
     },
     "metadata": {},
     "output_type": "display_data"
    },
    {
     "data": {
      "application/vnd.jupyter.widget-view+json": {
       "model_id": "32d1cb6fd61f4e1c9017fa8f4261ecb8",
       "version_major": 2,
       "version_minor": 0
      },
      "text/plain": [
       "0it [00:00, ?it/s]"
      ]
     },
     "metadata": {},
     "output_type": "display_data"
    },
    {
     "data": {
      "application/vnd.jupyter.widget-view+json": {
       "model_id": "e5c4fbf8e6f049d6a130a73676cfc8ef",
       "version_major": 2,
       "version_minor": 0
      },
      "text/plain": [
       "0it [00:00, ?it/s]"
      ]
     },
     "metadata": {},
     "output_type": "display_data"
    },
    {
     "name": "stdout",
     "output_type": "stream",
     "text": [
      "[{'mse_loss': [0.0061228117, 0.003768739, 0.0026707775, 0.0017585937, 0.0010992258, 0.00081361446, 0.00077158597, 0.00079569663, 0.00078186346, 0.000726372], 'bpp_loss': [0.021601094, 0.021601094, 0.021601094, 0.021601094, 0.021601094, 0.021601094, 0.021601094, 0.021601094, 0.021601094, 0.021601094], 'loss_classic': [4.0029593, 2.4722238, 1.7582741, 1.1651266, 0.7363727, 0.55065393, 0.5233249, 0.5390028, 0.5300078, 0.49392444], 'PSNR': [22.14769, 24.257526, 25.750793, 27.56771, 29.602913, 30.908854, 31.148333, 31.083963, 31.490799, 32.038933], 'PAC2PIQ': [-0.43191296, -0.53795516, -0.56403875, -0.62884486, -0.6774632, -0.6970866, -0.6970341, -0.6930435, -0.6896969, -0.69011426], 'loss': [-863.8198, -1075.9066, -1128.075, -1257.688, -1354.9253, -1394.1725, -1394.0674, -1386.0862, -1379.393, -1380.2278], 'bitrate': [0.086193, 0.155775, 0.234231, 0.379356, 0.725796, 1.517862, 2.544165, 5.633406, 17.86754, 26.572437]}]\n",
      "SPAQ ./models_enhancement/model_vimeo11k_VSFA_2000mse_enhance_cheng2020_attn_quality2_fixed_direction.ckpt\n"
     ]
    },
    {
     "data": {
      "application/vnd.jupyter.widget-view+json": {
       "model_id": "38c7062cc7b74187898498515eff86ed",
       "version_major": 2,
       "version_minor": 0
      },
      "text/plain": [
       "0it [00:00, ?it/s]"
      ]
     },
     "metadata": {},
     "output_type": "display_data"
    },
    {
     "data": {
      "application/vnd.jupyter.widget-view+json": {
       "model_id": "41a774ab7e0741e59c1fdad2994e29b8",
       "version_major": 2,
       "version_minor": 0
      },
      "text/plain": [
       "0it [00:00, ?it/s]"
      ]
     },
     "metadata": {},
     "output_type": "display_data"
    },
    {
     "data": {
      "application/vnd.jupyter.widget-view+json": {
       "model_id": "61f7d814d91f42b8989af440c897b73c",
       "version_major": 2,
       "version_minor": 0
      },
      "text/plain": [
       "0it [00:00, ?it/s]"
      ]
     },
     "metadata": {},
     "output_type": "display_data"
    },
    {
     "data": {
      "application/vnd.jupyter.widget-view+json": {
       "model_id": "8af49fb503c645d59c10610c7a640266",
       "version_major": 2,
       "version_minor": 0
      },
      "text/plain": [
       "0it [00:00, ?it/s]"
      ]
     },
     "metadata": {},
     "output_type": "display_data"
    },
    {
     "data": {
      "application/vnd.jupyter.widget-view+json": {
       "model_id": "55c38b57520d44adb79b6a15ed0aab32",
       "version_major": 2,
       "version_minor": 0
      },
      "text/plain": [
       "0it [00:00, ?it/s]"
      ]
     },
     "metadata": {},
     "output_type": "display_data"
    },
    {
     "data": {
      "application/vnd.jupyter.widget-view+json": {
       "model_id": "482cd3eef5534367ad052ab52b0c89c8",
       "version_major": 2,
       "version_minor": 0
      },
      "text/plain": [
       "0it [00:00, ?it/s]"
      ]
     },
     "metadata": {},
     "output_type": "display_data"
    },
    {
     "data": {
      "application/vnd.jupyter.widget-view+json": {
       "model_id": "d485df12c1b8423397e2dfe188e161c5",
       "version_major": 2,
       "version_minor": 0
      },
      "text/plain": [
       "0it [00:00, ?it/s]"
      ]
     },
     "metadata": {},
     "output_type": "display_data"
    },
    {
     "data": {
      "application/vnd.jupyter.widget-view+json": {
       "model_id": "544c7e4382ca4a9da44454b1780cc373",
       "version_major": 2,
       "version_minor": 0
      },
      "text/plain": [
       "0it [00:00, ?it/s]"
      ]
     },
     "metadata": {},
     "output_type": "display_data"
    },
    {
     "data": {
      "application/vnd.jupyter.widget-view+json": {
       "model_id": "6519ee178301447ca17e49b6976dbaac",
       "version_major": 2,
       "version_minor": 0
      },
      "text/plain": [
       "0it [00:00, ?it/s]"
      ]
     },
     "metadata": {},
     "output_type": "display_data"
    },
    {
     "data": {
      "application/vnd.jupyter.widget-view+json": {
       "model_id": "97c679d47ade4178add66904f7edf537",
       "version_major": 2,
       "version_minor": 0
      },
      "text/plain": [
       "0it [00:00, ?it/s]"
      ]
     },
     "metadata": {},
     "output_type": "display_data"
    },
    {
     "data": {
      "application/vnd.jupyter.widget-view+json": {
       "model_id": "c1a5564c8ff741dd9ae06b0723692113",
       "version_major": 2,
       "version_minor": 0
      },
      "text/plain": [
       "0it [00:00, ?it/s]"
      ]
     },
     "metadata": {},
     "output_type": "display_data"
    },
    {
     "data": {
      "application/vnd.jupyter.widget-view+json": {
       "model_id": "89feac748a454b0d8dcbec6243c9fc60",
       "version_major": 2,
       "version_minor": 0
      },
      "text/plain": [
       "0it [00:00, ?it/s]"
      ]
     },
     "metadata": {},
     "output_type": "display_data"
    },
    {
     "data": {
      "application/vnd.jupyter.widget-view+json": {
       "model_id": "5277cb23c3ce48209d53e81414daba7b",
       "version_major": 2,
       "version_minor": 0
      },
      "text/plain": [
       "0it [00:00, ?it/s]"
      ]
     },
     "metadata": {},
     "output_type": "display_data"
    },
    {
     "data": {
      "application/vnd.jupyter.widget-view+json": {
       "model_id": "4eb3a799c7644544833dce875f27724b",
       "version_major": 2,
       "version_minor": 0
      },
      "text/plain": [
       "0it [00:00, ?it/s]"
      ]
     },
     "metadata": {},
     "output_type": "display_data"
    },
    {
     "data": {
      "application/vnd.jupyter.widget-view+json": {
       "model_id": "74c0d9b4ba4e4c9390fae92f3cb2aa2c",
       "version_major": 2,
       "version_minor": 0
      },
      "text/plain": [
       "0it [00:00, ?it/s]"
      ]
     },
     "metadata": {},
     "output_type": "display_data"
    },
    {
     "data": {
      "application/vnd.jupyter.widget-view+json": {
       "model_id": "62d0140709e242cba2ff894e2be92843",
       "version_major": 2,
       "version_minor": 0
      },
      "text/plain": [
       "0it [00:00, ?it/s]"
      ]
     },
     "metadata": {},
     "output_type": "display_data"
    },
    {
     "data": {
      "application/vnd.jupyter.widget-view+json": {
       "model_id": "d5451898f6f34f37a5a546e834765763",
       "version_major": 2,
       "version_minor": 0
      },
      "text/plain": [
       "0it [00:00, ?it/s]"
      ]
     },
     "metadata": {},
     "output_type": "display_data"
    },
    {
     "data": {
      "application/vnd.jupyter.widget-view+json": {
       "model_id": "81501b1b99104edfa8265b82b800bbed",
       "version_major": 2,
       "version_minor": 0
      },
      "text/plain": [
       "0it [00:00, ?it/s]"
      ]
     },
     "metadata": {},
     "output_type": "display_data"
    },
    {
     "data": {
      "application/vnd.jupyter.widget-view+json": {
       "model_id": "5477b5918fd146a79dc75c7bcc0ed9f5",
       "version_major": 2,
       "version_minor": 0
      },
      "text/plain": [
       "0it [00:00, ?it/s]"
      ]
     },
     "metadata": {},
     "output_type": "display_data"
    },
    {
     "data": {
      "application/vnd.jupyter.widget-view+json": {
       "model_id": "2991f8170b434d74be269d30b5bd505a",
       "version_major": 2,
       "version_minor": 0
      },
      "text/plain": [
       "0it [00:00, ?it/s]"
      ]
     },
     "metadata": {},
     "output_type": "display_data"
    },
    {
     "name": "stdout",
     "output_type": "stream",
     "text": [
      "[{'mse_loss': [0.0061228117, 0.003768739, 0.0026707775, 0.0017585937, 0.0010992258, 0.00081361446, 0.00077158597, 0.00079569663, 0.00078186346, 0.000726372], 'bpp_loss': [0.021601094, 0.021601094, 0.021601094, 0.021601094, 0.021601094, 0.021601094, 0.021601094, 0.021601094, 0.021601094, 0.021601094], 'loss_classic': [4.0029593, 2.4722238, 1.7582741, 1.1651266, 0.7363727, 0.55065393, 0.5233249, 0.5390028, 0.5300078, 0.49392444], 'PSNR': [22.14769, 24.257526, 25.750793, 27.56771, 29.602913, 30.908854, 31.148333, 31.083963, 31.490799, 32.038933], 'SPAQ': [-0.38036805, -0.36127, -0.38245833, -0.40683985, -0.4354661, -0.46324825, -0.47749132, -0.45869115, -0.45475662, -0.45927206], 'loss': [-760.73004, -722.53613, -764.914, -813.67786, -870.93115, -926.49567, -954.9818, -917.38153, -909.51245, -918.54333], 'bitrate': [0.086193, 0.155775, 0.234231, 0.379356, 0.725796, 1.517862, 2.544165, 5.633406, 17.86754, 26.572437]}]\n",
      "VSFA ./models_enhancement/model_vimeo11k_Linearity_2000mse_enhance_no_codec_fixed_direction.ckpt\n"
     ]
    },
    {
     "data": {
      "application/vnd.jupyter.widget-view+json": {
       "model_id": "48f1dcabded84d4fbc7e8e2600e81f16",
       "version_major": 2,
       "version_minor": 0
      },
      "text/plain": [
       "0it [00:00, ?it/s]"
      ]
     },
     "metadata": {},
     "output_type": "display_data"
    },
    {
     "data": {
      "application/vnd.jupyter.widget-view+json": {
       "model_id": "8272a5544adc4efa9b01e7ec0abac5a0",
       "version_major": 2,
       "version_minor": 0
      },
      "text/plain": [
       "0it [00:00, ?it/s]"
      ]
     },
     "metadata": {},
     "output_type": "display_data"
    },
    {
     "data": {
      "application/vnd.jupyter.widget-view+json": {
       "model_id": "57d1e6bc8dfb42dc9fc93d257ee71152",
       "version_major": 2,
       "version_minor": 0
      },
      "text/plain": [
       "0it [00:00, ?it/s]"
      ]
     },
     "metadata": {},
     "output_type": "display_data"
    },
    {
     "data": {
      "application/vnd.jupyter.widget-view+json": {
       "model_id": "6e627663d620451cb3f3e2d630bf899f",
       "version_major": 2,
       "version_minor": 0
      },
      "text/plain": [
       "0it [00:00, ?it/s]"
      ]
     },
     "metadata": {},
     "output_type": "display_data"
    },
    {
     "data": {
      "application/vnd.jupyter.widget-view+json": {
       "model_id": "dbd65095ed844c3591bd23dfa1086c68",
       "version_major": 2,
       "version_minor": 0
      },
      "text/plain": [
       "0it [00:00, ?it/s]"
      ]
     },
     "metadata": {},
     "output_type": "display_data"
    },
    {
     "data": {
      "application/vnd.jupyter.widget-view+json": {
       "model_id": "61f09f4256de49b9abba443c83d91e6e",
       "version_major": 2,
       "version_minor": 0
      },
      "text/plain": [
       "0it [00:00, ?it/s]"
      ]
     },
     "metadata": {},
     "output_type": "display_data"
    },
    {
     "data": {
      "application/vnd.jupyter.widget-view+json": {
       "model_id": "b46e3ef250354ca98ffff9dc7a2e0193",
       "version_major": 2,
       "version_minor": 0
      },
      "text/plain": [
       "0it [00:00, ?it/s]"
      ]
     },
     "metadata": {},
     "output_type": "display_data"
    },
    {
     "data": {
      "application/vnd.jupyter.widget-view+json": {
       "model_id": "a381a818f97c4942a4117a0a1118c4b4",
       "version_major": 2,
       "version_minor": 0
      },
      "text/plain": [
       "0it [00:00, ?it/s]"
      ]
     },
     "metadata": {},
     "output_type": "display_data"
    },
    {
     "data": {
      "application/vnd.jupyter.widget-view+json": {
       "model_id": "684887ac685c44fe9748f536858720ec",
       "version_major": 2,
       "version_minor": 0
      },
      "text/plain": [
       "0it [00:00, ?it/s]"
      ]
     },
     "metadata": {},
     "output_type": "display_data"
    },
    {
     "data": {
      "application/vnd.jupyter.widget-view+json": {
       "model_id": "6df0ec470c9e4eada53b8d5a2bb332fb",
       "version_major": 2,
       "version_minor": 0
      },
      "text/plain": [
       "0it [00:00, ?it/s]"
      ]
     },
     "metadata": {},
     "output_type": "display_data"
    },
    {
     "data": {
      "application/vnd.jupyter.widget-view+json": {
       "model_id": "bc01d18bbe9f4ca39a14e52720bfc47e",
       "version_major": 2,
       "version_minor": 0
      },
      "text/plain": [
       "0it [00:00, ?it/s]"
      ]
     },
     "metadata": {},
     "output_type": "display_data"
    },
    {
     "data": {
      "application/vnd.jupyter.widget-view+json": {
       "model_id": "f911073f0fc34d06a4ea7a70a0035fda",
       "version_major": 2,
       "version_minor": 0
      },
      "text/plain": [
       "0it [00:00, ?it/s]"
      ]
     },
     "metadata": {},
     "output_type": "display_data"
    },
    {
     "data": {
      "application/vnd.jupyter.widget-view+json": {
       "model_id": "493b4be82f4a4d4d9e43c0c67e0576f5",
       "version_major": 2,
       "version_minor": 0
      },
      "text/plain": [
       "0it [00:00, ?it/s]"
      ]
     },
     "metadata": {},
     "output_type": "display_data"
    },
    {
     "data": {
      "application/vnd.jupyter.widget-view+json": {
       "model_id": "43c7143bce374ff3b8cad3e82f30fc44",
       "version_major": 2,
       "version_minor": 0
      },
      "text/plain": [
       "0it [00:00, ?it/s]"
      ]
     },
     "metadata": {},
     "output_type": "display_data"
    },
    {
     "data": {
      "application/vnd.jupyter.widget-view+json": {
       "model_id": "fa850ad79f194364a7e94913c3a7ca62",
       "version_major": 2,
       "version_minor": 0
      },
      "text/plain": [
       "0it [00:00, ?it/s]"
      ]
     },
     "metadata": {},
     "output_type": "display_data"
    },
    {
     "data": {
      "application/vnd.jupyter.widget-view+json": {
       "model_id": "9845d9ad7a4549019278874e4e83c5aa",
       "version_major": 2,
       "version_minor": 0
      },
      "text/plain": [
       "0it [00:00, ?it/s]"
      ]
     },
     "metadata": {},
     "output_type": "display_data"
    },
    {
     "data": {
      "application/vnd.jupyter.widget-view+json": {
       "model_id": "ad451ac288344849944b396802100c43",
       "version_major": 2,
       "version_minor": 0
      },
      "text/plain": [
       "0it [00:00, ?it/s]"
      ]
     },
     "metadata": {},
     "output_type": "display_data"
    },
    {
     "data": {
      "application/vnd.jupyter.widget-view+json": {
       "model_id": "5ad29c70431f4a7daa6448234ee17460",
       "version_major": 2,
       "version_minor": 0
      },
      "text/plain": [
       "0it [00:00, ?it/s]"
      ]
     },
     "metadata": {},
     "output_type": "display_data"
    },
    {
     "data": {
      "application/vnd.jupyter.widget-view+json": {
       "model_id": "44a3b2c5867e4168b6b400505da369c8",
       "version_major": 2,
       "version_minor": 0
      },
      "text/plain": [
       "0it [00:00, ?it/s]"
      ]
     },
     "metadata": {},
     "output_type": "display_data"
    },
    {
     "data": {
      "application/vnd.jupyter.widget-view+json": {
       "model_id": "25e31b210d474ab7b226b46ac399573a",
       "version_major": 2,
       "version_minor": 0
      },
      "text/plain": [
       "0it [00:00, ?it/s]"
      ]
     },
     "metadata": {},
     "output_type": "display_data"
    },
    {
     "name": "stdout",
     "output_type": "stream",
     "text": [
      "[{'mse_loss': [0.0061228117, 0.003768739, 0.0026707773, 0.0017585937, 0.001099226, 0.00081361446, 0.000771586, 0.00079569663, 0.00078186346, 0.000726372], 'bpp_loss': [0.010800547, 0.010800547, 0.010800547, 0.010800547, 0.010800547, 0.010800547, 0.010800547, 0.010800547, 0.010800547, 0.010800547], 'loss_classic': [3.992159, 2.4614232, 1.7474735, 1.1543262, 0.72557217, 0.53985333, 0.51252437, 0.5282023, 0.51920724, 0.48312393], 'PSNR': [22.147667, 24.25712, 25.74961, 27.565596, 29.602154, 30.9076, 31.143654, 31.063208, 31.431065, 31.968422], 'VSFA': [-0.3599528, -0.41196918, -0.44700703, -0.46896645, -0.47510675, -0.47656798, -0.48990783, -0.50255454, -0.5060971, -0.5085182], 'loss': [-719.8995, -823.9347, -894.0114, -937.93115, -950.2124, -953.13525, -979.81494, -1005.1083, -1012.19336, -1017.03564], 'bitrate': [0.086193, 0.155775, 0.234231, 0.379356, 0.725796, 1.517862, 2.544165, 5.633406, 17.86754, 26.572437]}]\n"
     ]
    },
    {
     "data": {
      "application/vnd.jupyter.widget-view+json": {
       "model_id": "7c149a08d52c4601b48845ec580d8bd5",
       "version_major": 2,
       "version_minor": 0
      },
      "text/plain": [
       "0it [00:00, ?it/s]"
      ]
     },
     "metadata": {},
     "output_type": "display_data"
    },
    {
     "name": "stdout",
     "output_type": "stream",
     "text": [
      "Linearity ./models_enhancement/model_vimeo11k_MDTVSFA_2000mse_enhance_cheng2020_attn_quality2.ckpt\n"
     ]
    },
    {
     "data": {
      "application/vnd.jupyter.widget-view+json": {
       "model_id": "747580b1f0f047a1b29e1548e28b9346",
       "version_major": 2,
       "version_minor": 0
      },
      "text/plain": [
       "0it [00:00, ?it/s]"
      ]
     },
     "metadata": {},
     "output_type": "display_data"
    },
    {
     "data": {
      "application/vnd.jupyter.widget-view+json": {
       "model_id": "629906def54c40a79cebe5aac705754d",
       "version_major": 2,
       "version_minor": 0
      },
      "text/plain": [
       "0it [00:00, ?it/s]"
      ]
     },
     "metadata": {},
     "output_type": "display_data"
    },
    {
     "data": {
      "application/vnd.jupyter.widget-view+json": {
       "model_id": "4fed6b58d24a43b2aed87ad62c79c8ec",
       "version_major": 2,
       "version_minor": 0
      },
      "text/plain": [
       "0it [00:00, ?it/s]"
      ]
     },
     "metadata": {},
     "output_type": "display_data"
    },
    {
     "data": {
      "application/vnd.jupyter.widget-view+json": {
       "model_id": "6ae862fdde2543928fc987ead5ab0f18",
       "version_major": 2,
       "version_minor": 0
      },
      "text/plain": [
       "0it [00:00, ?it/s]"
      ]
     },
     "metadata": {},
     "output_type": "display_data"
    },
    {
     "data": {
      "application/vnd.jupyter.widget-view+json": {
       "model_id": "ee4f903b21a543b8a00a34f8c05f7eaf",
       "version_major": 2,
       "version_minor": 0
      },
      "text/plain": [
       "0it [00:00, ?it/s]"
      ]
     },
     "metadata": {},
     "output_type": "display_data"
    },
    {
     "data": {
      "application/vnd.jupyter.widget-view+json": {
       "model_id": "3ddab1cd565649bbbe8f14dd0952ee4d",
       "version_major": 2,
       "version_minor": 0
      },
      "text/plain": [
       "0it [00:00, ?it/s]"
      ]
     },
     "metadata": {},
     "output_type": "display_data"
    },
    {
     "data": {
      "application/vnd.jupyter.widget-view+json": {
       "model_id": "6519e461e3a3408fb886967a57d08344",
       "version_major": 2,
       "version_minor": 0
      },
      "text/plain": [
       "0it [00:00, ?it/s]"
      ]
     },
     "metadata": {},
     "output_type": "display_data"
    },
    {
     "data": {
      "application/vnd.jupyter.widget-view+json": {
       "model_id": "3cdbf68862884dbe92fe3cf459e520c6",
       "version_major": 2,
       "version_minor": 0
      },
      "text/plain": [
       "0it [00:00, ?it/s]"
      ]
     },
     "metadata": {},
     "output_type": "display_data"
    },
    {
     "data": {
      "application/vnd.jupyter.widget-view+json": {
       "model_id": "99ab6033c38b49a79de7e1c18f5ea4b2",
       "version_major": 2,
       "version_minor": 0
      },
      "text/plain": [
       "0it [00:00, ?it/s]"
      ]
     },
     "metadata": {},
     "output_type": "display_data"
    },
    {
     "data": {
      "application/vnd.jupyter.widget-view+json": {
       "model_id": "a0e651d8d4e44a3ea8336724f7323747",
       "version_major": 2,
       "version_minor": 0
      },
      "text/plain": [
       "0it [00:00, ?it/s]"
      ]
     },
     "metadata": {},
     "output_type": "display_data"
    },
    {
     "data": {
      "application/vnd.jupyter.widget-view+json": {
       "model_id": "a0ec7f9f79454c32bc56f8d7875fa99d",
       "version_major": 2,
       "version_minor": 0
      },
      "text/plain": [
       "0it [00:00, ?it/s]"
      ]
     },
     "metadata": {},
     "output_type": "display_data"
    },
    {
     "data": {
      "application/vnd.jupyter.widget-view+json": {
       "model_id": "4ec5e27a9b6a4309bad64ceccf1930b7",
       "version_major": 2,
       "version_minor": 0
      },
      "text/plain": [
       "0it [00:00, ?it/s]"
      ]
     },
     "metadata": {},
     "output_type": "display_data"
    },
    {
     "data": {
      "application/vnd.jupyter.widget-view+json": {
       "model_id": "3e0ed2369c7b40908ab71b50e39fd6cd",
       "version_major": 2,
       "version_minor": 0
      },
      "text/plain": [
       "0it [00:00, ?it/s]"
      ]
     },
     "metadata": {},
     "output_type": "display_data"
    },
    {
     "data": {
      "application/vnd.jupyter.widget-view+json": {
       "model_id": "abf52b14b9a04ea38292f380a2923fc6",
       "version_major": 2,
       "version_minor": 0
      },
      "text/plain": [
       "0it [00:00, ?it/s]"
      ]
     },
     "metadata": {},
     "output_type": "display_data"
    },
    {
     "data": {
      "application/vnd.jupyter.widget-view+json": {
       "model_id": "78743701c0ff434c967448eef5918262",
       "version_major": 2,
       "version_minor": 0
      },
      "text/plain": [
       "0it [00:00, ?it/s]"
      ]
     },
     "metadata": {},
     "output_type": "display_data"
    },
    {
     "data": {
      "application/vnd.jupyter.widget-view+json": {
       "model_id": "142a1ae2cdbc4219b02dde0c8304d8d6",
       "version_major": 2,
       "version_minor": 0
      },
      "text/plain": [
       "0it [00:00, ?it/s]"
      ]
     },
     "metadata": {},
     "output_type": "display_data"
    },
    {
     "data": {
      "application/vnd.jupyter.widget-view+json": {
       "model_id": "b2489e6f109d4869bc91d1614e729f66",
       "version_major": 2,
       "version_minor": 0
      },
      "text/plain": [
       "0it [00:00, ?it/s]"
      ]
     },
     "metadata": {},
     "output_type": "display_data"
    },
    {
     "data": {
      "application/vnd.jupyter.widget-view+json": {
       "model_id": "2ce2be0f7dbb4ae9b4a890df90829004",
       "version_major": 2,
       "version_minor": 0
      },
      "text/plain": [
       "0it [00:00, ?it/s]"
      ]
     },
     "metadata": {},
     "output_type": "display_data"
    },
    {
     "data": {
      "application/vnd.jupyter.widget-view+json": {
       "model_id": "29fcc1da3b9e48a9a6016ca277483d07",
       "version_major": 2,
       "version_minor": 0
      },
      "text/plain": [
       "0it [00:00, ?it/s]"
      ]
     },
     "metadata": {},
     "output_type": "display_data"
    },
    {
     "data": {
      "application/vnd.jupyter.widget-view+json": {
       "model_id": "19c1372b037642e58fc27b958b28838b",
       "version_major": 2,
       "version_minor": 0
      },
      "text/plain": [
       "0it [00:00, ?it/s]"
      ]
     },
     "metadata": {},
     "output_type": "display_data"
    },
    {
     "name": "stdout",
     "output_type": "stream",
     "text": [
      "[{'mse_loss': [0.020693384, 0.018159524, 0.015214412, 0.013211088, 0.010613736, 0.008247007, 0.006902557, 0.005392775, 0.004349213, 0.0037461247], 'bpp_loss': [0.021601094, 0.021601094, 0.021601094, 0.021601094, 0.021601094, 0.021601094, 0.021601094, 0.021601094, 0.021601094, 0.021601094], 'loss_classic': [13.477474, 11.82983, 9.914772, 8.61211, 6.9231825, 5.3842173, 4.5099883, 3.5282528, 2.849677, 2.4575186], 'PSNR': [17.062183, 17.766478, 18.559017, 19.281322, 20.44449, 21.855583, 22.81675, 24.136555, 25.559223, 26.46083], 'Linearity': [0.4890495, 0.41431278, 0.3319851, 0.19366069, 0.037980445, -0.09809506, -0.17572114, -0.24034183, -0.27862918, -0.3065727], 'loss': [978.1196, 828.6437, 663.98535, 387.3346, 75.97151, -196.18188, -351.43536, -480.67828, -557.254, -613.1417], 'bitrate': [0.147662, 0.22204, 0.35574, 0.581393, 1.206106, 2.666137, 4.244687, 7.755468, 17.186143, 25.113956]}]\n",
      "MDTVSFA ./models_enhancement/model_vimeo11k_PAC2PIC_2000mse_enhance_cheng2020_attn_quality2_fixed_direction.ckpt\n"
     ]
    },
    {
     "data": {
      "application/vnd.jupyter.widget-view+json": {
       "model_id": "a67077d7da794b82b35099b8ef55a122",
       "version_major": 2,
       "version_minor": 0
      },
      "text/plain": [
       "0it [00:00, ?it/s]"
      ]
     },
     "metadata": {},
     "output_type": "display_data"
    },
    {
     "data": {
      "application/vnd.jupyter.widget-view+json": {
       "model_id": "23e095b55d95440cb0019b374c26faef",
       "version_major": 2,
       "version_minor": 0
      },
      "text/plain": [
       "0it [00:00, ?it/s]"
      ]
     },
     "metadata": {},
     "output_type": "display_data"
    },
    {
     "data": {
      "application/vnd.jupyter.widget-view+json": {
       "model_id": "b46cbd6830014bf39fe13e71e1928b1f",
       "version_major": 2,
       "version_minor": 0
      },
      "text/plain": [
       "0it [00:00, ?it/s]"
      ]
     },
     "metadata": {},
     "output_type": "display_data"
    },
    {
     "data": {
      "application/vnd.jupyter.widget-view+json": {
       "model_id": "8ea4856f7e624264b9cfa2a189b9dc02",
       "version_major": 2,
       "version_minor": 0
      },
      "text/plain": [
       "0it [00:00, ?it/s]"
      ]
     },
     "metadata": {},
     "output_type": "display_data"
    },
    {
     "data": {
      "application/vnd.jupyter.widget-view+json": {
       "model_id": "16c3c01c872e4ea192706ab99bec10d6",
       "version_major": 2,
       "version_minor": 0
      },
      "text/plain": [
       "0it [00:00, ?it/s]"
      ]
     },
     "metadata": {},
     "output_type": "display_data"
    },
    {
     "data": {
      "application/vnd.jupyter.widget-view+json": {
       "model_id": "75e71eeb015e476f9a4518ce5b5ea7af",
       "version_major": 2,
       "version_minor": 0
      },
      "text/plain": [
       "0it [00:00, ?it/s]"
      ]
     },
     "metadata": {},
     "output_type": "display_data"
    },
    {
     "data": {
      "application/vnd.jupyter.widget-view+json": {
       "model_id": "2288e3ef0a764e7a9c49d2d03dd3b001",
       "version_major": 2,
       "version_minor": 0
      },
      "text/plain": [
       "0it [00:00, ?it/s]"
      ]
     },
     "metadata": {},
     "output_type": "display_data"
    },
    {
     "data": {
      "application/vnd.jupyter.widget-view+json": {
       "model_id": "c27ba2bea2474e02b5410cc0fab77237",
       "version_major": 2,
       "version_minor": 0
      },
      "text/plain": [
       "0it [00:00, ?it/s]"
      ]
     },
     "metadata": {},
     "output_type": "display_data"
    },
    {
     "data": {
      "application/vnd.jupyter.widget-view+json": {
       "model_id": "22d7c8ef9444450580530bd83ddca3e7",
       "version_major": 2,
       "version_minor": 0
      },
      "text/plain": [
       "0it [00:00, ?it/s]"
      ]
     },
     "metadata": {},
     "output_type": "display_data"
    },
    {
     "data": {
      "application/vnd.jupyter.widget-view+json": {
       "model_id": "a74263839e354122a0e5b68dc341d26e",
       "version_major": 2,
       "version_minor": 0
      },
      "text/plain": [
       "0it [00:00, ?it/s]"
      ]
     },
     "metadata": {},
     "output_type": "display_data"
    },
    {
     "data": {
      "application/vnd.jupyter.widget-view+json": {
       "model_id": "c740ca8f15664041bd813eac06635d19",
       "version_major": 2,
       "version_minor": 0
      },
      "text/plain": [
       "0it [00:00, ?it/s]"
      ]
     },
     "metadata": {},
     "output_type": "display_data"
    },
    {
     "data": {
      "application/vnd.jupyter.widget-view+json": {
       "model_id": "0ded63150bb544ab89f94bc4e00555c9",
       "version_major": 2,
       "version_minor": 0
      },
      "text/plain": [
       "0it [00:00, ?it/s]"
      ]
     },
     "metadata": {},
     "output_type": "display_data"
    },
    {
     "data": {
      "application/vnd.jupyter.widget-view+json": {
       "model_id": "420e57fdc5ab462d80a6391002973f94",
       "version_major": 2,
       "version_minor": 0
      },
      "text/plain": [
       "0it [00:00, ?it/s]"
      ]
     },
     "metadata": {},
     "output_type": "display_data"
    },
    {
     "data": {
      "application/vnd.jupyter.widget-view+json": {
       "model_id": "9ce6a2e1372d48fa9ff8a7d005b4c156",
       "version_major": 2,
       "version_minor": 0
      },
      "text/plain": [
       "0it [00:00, ?it/s]"
      ]
     },
     "metadata": {},
     "output_type": "display_data"
    },
    {
     "data": {
      "application/vnd.jupyter.widget-view+json": {
       "model_id": "79ccbadd44744e68b424b487c65e7f78",
       "version_major": 2,
       "version_minor": 0
      },
      "text/plain": [
       "0it [00:00, ?it/s]"
      ]
     },
     "metadata": {},
     "output_type": "display_data"
    },
    {
     "data": {
      "application/vnd.jupyter.widget-view+json": {
       "model_id": "6e19140bd86c404ea410e853817aa27b",
       "version_major": 2,
       "version_minor": 0
      },
      "text/plain": [
       "0it [00:00, ?it/s]"
      ]
     },
     "metadata": {},
     "output_type": "display_data"
    },
    {
     "data": {
      "application/vnd.jupyter.widget-view+json": {
       "model_id": "748b2f27aa8f4fc0ae767bd67804625c",
       "version_major": 2,
       "version_minor": 0
      },
      "text/plain": [
       "0it [00:00, ?it/s]"
      ]
     },
     "metadata": {},
     "output_type": "display_data"
    },
    {
     "data": {
      "application/vnd.jupyter.widget-view+json": {
       "model_id": "3a5bcc9211ee46b6b86f405b62cb86fb",
       "version_major": 2,
       "version_minor": 0
      },
      "text/plain": [
       "0it [00:00, ?it/s]"
      ]
     },
     "metadata": {},
     "output_type": "display_data"
    },
    {
     "data": {
      "application/vnd.jupyter.widget-view+json": {
       "model_id": "0569a6e8705e4f48b9d4723088c60013",
       "version_major": 2,
       "version_minor": 0
      },
      "text/plain": [
       "0it [00:00, ?it/s]"
      ]
     },
     "metadata": {},
     "output_type": "display_data"
    },
    {
     "data": {
      "application/vnd.jupyter.widget-view+json": {
       "model_id": "9da2914a44044547927a99f242ce94ef",
       "version_major": 2,
       "version_minor": 0
      },
      "text/plain": [
       "0it [00:00, ?it/s]"
      ]
     },
     "metadata": {},
     "output_type": "display_data"
    },
    {
     "name": "stdout",
     "output_type": "stream",
     "text": [
      "[{'mse_loss': [0.020693384, 0.018159524, 0.015214412, 0.013211088, 0.010613736, 0.008247007, 0.006902557, 0.005392775, 0.004349213, 0.0037461247], 'bpp_loss': [0.021601094, 0.021601094, 0.021601094, 0.021601094, 0.021601094, 0.021601094, 0.021601094, 0.021601094, 0.021601094, 0.021601094], 'loss_classic': [13.477474, 11.82983, 9.914772, 8.61211, 6.9231825, 5.3842173, 4.5099883, 3.5282528, 2.849677, 2.4575186], 'PSNR': [17.062183, 17.766478, 18.559017, 19.281322, 20.44449, 21.855583, 22.81675, 24.136555, 25.559223, 26.46083], 'MDTVSFA': [-0.4019582, -0.40940565, -0.4221295, -0.44224304, -0.4581282, -0.4711151, -0.47677514, -0.48368144, -0.49005097, -0.4917682], 'loss': [-803.8957, -818.7931, -844.2438, -884.4729, -916.24585, -942.2219, -953.5434, -967.3575, -980.09753, -983.5327], 'bitrate': [0.147662, 0.22204, 0.35574, 0.581393, 1.206106, 2.666137, 4.244687, 7.755468, 17.186143, 25.113956]}]\n",
      "PAC2PIQ ./models_enhancement/model_vimeo11k_SPAQ_2000mse_enhance_cheng2020_attn_quality2_fixed_direction.ckpt\n"
     ]
    },
    {
     "data": {
      "application/vnd.jupyter.widget-view+json": {
       "model_id": "a4b3a2f95ba848b48bff8143823d7a15",
       "version_major": 2,
       "version_minor": 0
      },
      "text/plain": [
       "0it [00:00, ?it/s]"
      ]
     },
     "metadata": {},
     "output_type": "display_data"
    },
    {
     "data": {
      "application/vnd.jupyter.widget-view+json": {
       "model_id": "6425a1c236b34ed191530ce3546475f8",
       "version_major": 2,
       "version_minor": 0
      },
      "text/plain": [
       "0it [00:00, ?it/s]"
      ]
     },
     "metadata": {},
     "output_type": "display_data"
    },
    {
     "data": {
      "application/vnd.jupyter.widget-view+json": {
       "model_id": "ee73916191454b7089a89dc08b41a784",
       "version_major": 2,
       "version_minor": 0
      },
      "text/plain": [
       "0it [00:00, ?it/s]"
      ]
     },
     "metadata": {},
     "output_type": "display_data"
    },
    {
     "data": {
      "application/vnd.jupyter.widget-view+json": {
       "model_id": "b647883b7af84db4a0abcf40082cc64b",
       "version_major": 2,
       "version_minor": 0
      },
      "text/plain": [
       "0it [00:00, ?it/s]"
      ]
     },
     "metadata": {},
     "output_type": "display_data"
    },
    {
     "data": {
      "application/vnd.jupyter.widget-view+json": {
       "model_id": "49dfb05e45e3410aa39508efde978cc4",
       "version_major": 2,
       "version_minor": 0
      },
      "text/plain": [
       "0it [00:00, ?it/s]"
      ]
     },
     "metadata": {},
     "output_type": "display_data"
    },
    {
     "data": {
      "application/vnd.jupyter.widget-view+json": {
       "model_id": "e17c74c5abc0446a9f2f0c3fabe2e464",
       "version_major": 2,
       "version_minor": 0
      },
      "text/plain": [
       "0it [00:00, ?it/s]"
      ]
     },
     "metadata": {},
     "output_type": "display_data"
    },
    {
     "data": {
      "application/vnd.jupyter.widget-view+json": {
       "model_id": "4f081c0d05014a85b565756f7576a429",
       "version_major": 2,
       "version_minor": 0
      },
      "text/plain": [
       "0it [00:00, ?it/s]"
      ]
     },
     "metadata": {},
     "output_type": "display_data"
    },
    {
     "data": {
      "application/vnd.jupyter.widget-view+json": {
       "model_id": "c92b1edb0e4d454da3bed72807cefab4",
       "version_major": 2,
       "version_minor": 0
      },
      "text/plain": [
       "0it [00:00, ?it/s]"
      ]
     },
     "metadata": {},
     "output_type": "display_data"
    },
    {
     "data": {
      "application/vnd.jupyter.widget-view+json": {
       "model_id": "6295e50d97e64bc2a69e06b8c298e44b",
       "version_major": 2,
       "version_minor": 0
      },
      "text/plain": [
       "0it [00:00, ?it/s]"
      ]
     },
     "metadata": {},
     "output_type": "display_data"
    },
    {
     "data": {
      "application/vnd.jupyter.widget-view+json": {
       "model_id": "42fe849a797b4905a13cbcba5e4288ed",
       "version_major": 2,
       "version_minor": 0
      },
      "text/plain": [
       "0it [00:00, ?it/s]"
      ]
     },
     "metadata": {},
     "output_type": "display_data"
    },
    {
     "data": {
      "application/vnd.jupyter.widget-view+json": {
       "model_id": "ed273a8462ce4af99f155b518979d436",
       "version_major": 2,
       "version_minor": 0
      },
      "text/plain": [
       "0it [00:00, ?it/s]"
      ]
     },
     "metadata": {},
     "output_type": "display_data"
    },
    {
     "data": {
      "application/vnd.jupyter.widget-view+json": {
       "model_id": "61b0636436e3475cbd788153d33aaf51",
       "version_major": 2,
       "version_minor": 0
      },
      "text/plain": [
       "0it [00:00, ?it/s]"
      ]
     },
     "metadata": {},
     "output_type": "display_data"
    },
    {
     "data": {
      "application/vnd.jupyter.widget-view+json": {
       "model_id": "c222f1af9608408380f309b3a953d5b4",
       "version_major": 2,
       "version_minor": 0
      },
      "text/plain": [
       "0it [00:00, ?it/s]"
      ]
     },
     "metadata": {},
     "output_type": "display_data"
    },
    {
     "data": {
      "application/vnd.jupyter.widget-view+json": {
       "model_id": "1c940e42543a40ef90348525e9bf751f",
       "version_major": 2,
       "version_minor": 0
      },
      "text/plain": [
       "0it [00:00, ?it/s]"
      ]
     },
     "metadata": {},
     "output_type": "display_data"
    },
    {
     "data": {
      "application/vnd.jupyter.widget-view+json": {
       "model_id": "93d92cc8456744cf989be6701e628bc1",
       "version_major": 2,
       "version_minor": 0
      },
      "text/plain": [
       "0it [00:00, ?it/s]"
      ]
     },
     "metadata": {},
     "output_type": "display_data"
    },
    {
     "data": {
      "application/vnd.jupyter.widget-view+json": {
       "model_id": "e80562e608534b4d8ffad3cce9dee0ce",
       "version_major": 2,
       "version_minor": 0
      },
      "text/plain": [
       "0it [00:00, ?it/s]"
      ]
     },
     "metadata": {},
     "output_type": "display_data"
    },
    {
     "data": {
      "application/vnd.jupyter.widget-view+json": {
       "model_id": "e8eb8ebd0e6f4e11990de475da1390cf",
       "version_major": 2,
       "version_minor": 0
      },
      "text/plain": [
       "0it [00:00, ?it/s]"
      ]
     },
     "metadata": {},
     "output_type": "display_data"
    },
    {
     "data": {
      "application/vnd.jupyter.widget-view+json": {
       "model_id": "ae6bf4e881f14431ad60238b25918053",
       "version_major": 2,
       "version_minor": 0
      },
      "text/plain": [
       "0it [00:00, ?it/s]"
      ]
     },
     "metadata": {},
     "output_type": "display_data"
    },
    {
     "data": {
      "application/vnd.jupyter.widget-view+json": {
       "model_id": "4b20103f2dc7454c849d7a1025c9e6fb",
       "version_major": 2,
       "version_minor": 0
      },
      "text/plain": [
       "0it [00:00, ?it/s]"
      ]
     },
     "metadata": {},
     "output_type": "display_data"
    },
    {
     "data": {
      "application/vnd.jupyter.widget-view+json": {
       "model_id": "59a807a3f76d4d72b91b83c2d6b57f02",
       "version_major": 2,
       "version_minor": 0
      },
      "text/plain": [
       "0it [00:00, ?it/s]"
      ]
     },
     "metadata": {},
     "output_type": "display_data"
    },
    {
     "name": "stdout",
     "output_type": "stream",
     "text": [
      "[{'mse_loss': [0.020693384, 0.018159524, 0.015214412, 0.013211088, 0.010613736, 0.008247007, 0.006902557, 0.005392775, 0.004349213, 0.0037461247], 'bpp_loss': [0.021601094, 0.021601094, 0.021601094, 0.021601094, 0.021601094, 0.021601094, 0.021601094, 0.021601094, 0.021601094, 0.021601094], 'loss_classic': [13.477474, 11.82983, 9.914772, 8.61211, 6.9231825, 5.3842173, 4.5099883, 3.5282528, 2.849677, 2.4575186], 'PSNR': [17.062183, 17.766478, 18.559017, 19.281322, 20.44449, 21.855583, 22.81675, 24.136555, 25.559223, 26.46083], 'PAC2PIQ': [-0.5151863, -0.5426568, -0.58185184, -0.62630665, -0.6686666, -0.68923926, -0.69916004, -0.7081844, -0.71359766, -0.71318686], 'loss': [-1030.3519, -1085.2954, -1163.6885, -1252.6002, -1337.3225, -1378.4703, -1398.3131, -1416.3635, -1427.1909, -1426.37], 'bitrate': [0.147662, 0.22204, 0.35574, 0.581393, 1.206106, 2.666137, 4.244687, 7.755468, 17.186143, 25.113956]}]\n",
      "SPAQ ./models_enhancement/model_vimeo11k_VSFA_2000mse_enhance_cheng2020_attn_quality2_fixed_direction.ckpt\n"
     ]
    },
    {
     "data": {
      "application/vnd.jupyter.widget-view+json": {
       "model_id": "bfecf9865a514144a02c269a38a154f6",
       "version_major": 2,
       "version_minor": 0
      },
      "text/plain": [
       "0it [00:00, ?it/s]"
      ]
     },
     "metadata": {},
     "output_type": "display_data"
    },
    {
     "data": {
      "application/vnd.jupyter.widget-view+json": {
       "model_id": "630e59481c9c48a38cdce63be3eefcd3",
       "version_major": 2,
       "version_minor": 0
      },
      "text/plain": [
       "0it [00:00, ?it/s]"
      ]
     },
     "metadata": {},
     "output_type": "display_data"
    },
    {
     "data": {
      "application/vnd.jupyter.widget-view+json": {
       "model_id": "437acbbf455c450690b1a60ba4d16600",
       "version_major": 2,
       "version_minor": 0
      },
      "text/plain": [
       "0it [00:00, ?it/s]"
      ]
     },
     "metadata": {},
     "output_type": "display_data"
    },
    {
     "data": {
      "application/vnd.jupyter.widget-view+json": {
       "model_id": "63333619df1e4b7b9a83132841e3af40",
       "version_major": 2,
       "version_minor": 0
      },
      "text/plain": [
       "0it [00:00, ?it/s]"
      ]
     },
     "metadata": {},
     "output_type": "display_data"
    },
    {
     "data": {
      "application/vnd.jupyter.widget-view+json": {
       "model_id": "7d70644fc7f1426ca3f9835ffb914ab8",
       "version_major": 2,
       "version_minor": 0
      },
      "text/plain": [
       "0it [00:00, ?it/s]"
      ]
     },
     "metadata": {},
     "output_type": "display_data"
    },
    {
     "data": {
      "application/vnd.jupyter.widget-view+json": {
       "model_id": "0b24b2c006de4b0f996bf527962b5cc2",
       "version_major": 2,
       "version_minor": 0
      },
      "text/plain": [
       "0it [00:00, ?it/s]"
      ]
     },
     "metadata": {},
     "output_type": "display_data"
    },
    {
     "data": {
      "application/vnd.jupyter.widget-view+json": {
       "model_id": "00b06d5b50d84a99ac901df5a4645bbd",
       "version_major": 2,
       "version_minor": 0
      },
      "text/plain": [
       "0it [00:00, ?it/s]"
      ]
     },
     "metadata": {},
     "output_type": "display_data"
    },
    {
     "data": {
      "application/vnd.jupyter.widget-view+json": {
       "model_id": "ae78a8ff200048f08f6a2beebab00356",
       "version_major": 2,
       "version_minor": 0
      },
      "text/plain": [
       "0it [00:00, ?it/s]"
      ]
     },
     "metadata": {},
     "output_type": "display_data"
    },
    {
     "data": {
      "application/vnd.jupyter.widget-view+json": {
       "model_id": "af3c939b61654e92a192fde026b1c580",
       "version_major": 2,
       "version_minor": 0
      },
      "text/plain": [
       "0it [00:00, ?it/s]"
      ]
     },
     "metadata": {},
     "output_type": "display_data"
    },
    {
     "data": {
      "application/vnd.jupyter.widget-view+json": {
       "model_id": "5a32f8f2f2bd4a6e8d6445b01231b5b2",
       "version_major": 2,
       "version_minor": 0
      },
      "text/plain": [
       "0it [00:00, ?it/s]"
      ]
     },
     "metadata": {},
     "output_type": "display_data"
    },
    {
     "data": {
      "application/vnd.jupyter.widget-view+json": {
       "model_id": "3cbd82d5fd014104bf0ec741b9ee4f32",
       "version_major": 2,
       "version_minor": 0
      },
      "text/plain": [
       "0it [00:00, ?it/s]"
      ]
     },
     "metadata": {},
     "output_type": "display_data"
    },
    {
     "data": {
      "application/vnd.jupyter.widget-view+json": {
       "model_id": "a841e4d83dcd43eeb7ea73f8e6e93d86",
       "version_major": 2,
       "version_minor": 0
      },
      "text/plain": [
       "0it [00:00, ?it/s]"
      ]
     },
     "metadata": {},
     "output_type": "display_data"
    },
    {
     "data": {
      "application/vnd.jupyter.widget-view+json": {
       "model_id": "a3419f32e5384bf992c39e476f368168",
       "version_major": 2,
       "version_minor": 0
      },
      "text/plain": [
       "0it [00:00, ?it/s]"
      ]
     },
     "metadata": {},
     "output_type": "display_data"
    },
    {
     "data": {
      "application/vnd.jupyter.widget-view+json": {
       "model_id": "e6ea33ce34d94b24aaef86a6d77794f9",
       "version_major": 2,
       "version_minor": 0
      },
      "text/plain": [
       "0it [00:00, ?it/s]"
      ]
     },
     "metadata": {},
     "output_type": "display_data"
    },
    {
     "data": {
      "application/vnd.jupyter.widget-view+json": {
       "model_id": "564d034d2a20418fb176ad91bd6abf97",
       "version_major": 2,
       "version_minor": 0
      },
      "text/plain": [
       "0it [00:00, ?it/s]"
      ]
     },
     "metadata": {},
     "output_type": "display_data"
    },
    {
     "data": {
      "application/vnd.jupyter.widget-view+json": {
       "model_id": "70db369cd96344c3b1db19bffa6d023b",
       "version_major": 2,
       "version_minor": 0
      },
      "text/plain": [
       "0it [00:00, ?it/s]"
      ]
     },
     "metadata": {},
     "output_type": "display_data"
    },
    {
     "data": {
      "application/vnd.jupyter.widget-view+json": {
       "model_id": "421ee8353d6742979a394c03cae3ef4a",
       "version_major": 2,
       "version_minor": 0
      },
      "text/plain": [
       "0it [00:00, ?it/s]"
      ]
     },
     "metadata": {},
     "output_type": "display_data"
    },
    {
     "data": {
      "application/vnd.jupyter.widget-view+json": {
       "model_id": "e8aee2ba47fb482bb1040daaf9c48f17",
       "version_major": 2,
       "version_minor": 0
      },
      "text/plain": [
       "0it [00:00, ?it/s]"
      ]
     },
     "metadata": {},
     "output_type": "display_data"
    },
    {
     "data": {
      "application/vnd.jupyter.widget-view+json": {
       "model_id": "ddb650f04b0e4d2ca3b101f717d1b645",
       "version_major": 2,
       "version_minor": 0
      },
      "text/plain": [
       "0it [00:00, ?it/s]"
      ]
     },
     "metadata": {},
     "output_type": "display_data"
    },
    {
     "data": {
      "application/vnd.jupyter.widget-view+json": {
       "model_id": "5073b608043e4b1591171116f15a6bc5",
       "version_major": 2,
       "version_minor": 0
      },
      "text/plain": [
       "0it [00:00, ?it/s]"
      ]
     },
     "metadata": {},
     "output_type": "display_data"
    },
    {
     "name": "stdout",
     "output_type": "stream",
     "text": [
      "[{'mse_loss': [0.020693384, 0.018159524, 0.015214412, 0.013211088, 0.010613736, 0.008247007, 0.006902557, 0.005392775, 0.004349213, 0.0037461247], 'bpp_loss': [0.021601094, 0.021601094, 0.021601094, 0.021601094, 0.021601094, 0.021601094, 0.021601094, 0.021601094, 0.021601094, 0.021601094], 'loss_classic': [13.477474, 11.82983, 9.914772, 8.61211, 6.9231825, 5.3842173, 4.5099883, 3.5282528, 2.849677, 2.4575186], 'PSNR': [17.062183, 17.766478, 18.559017, 19.281322, 20.44449, 21.855583, 22.81675, 24.136555, 25.559223, 26.46083], 'SPAQ': [-0.38520128, -0.3902952, -0.41389146, -0.43328616, -0.46349967, -0.48176867, -0.49104023, -0.48936892, -0.49094498, -0.49420244], 'loss': [-770.38184, -780.57227, -827.7677, -866.55914, -926.9888, -963.5291, -982.07355, -978.73254, -981.8856, -988.4011], 'bitrate': [0.147662, 0.22204, 0.35574, 0.581393, 1.206106, 2.666137, 4.244687, 7.755468, 17.186143, 25.113956]}]\n",
      "VSFA ./models_enhancement/model_vimeo11k_Linearity_2000mse_enhance_no_codec_fixed_direction.ckpt\n"
     ]
    },
    {
     "data": {
      "application/vnd.jupyter.widget-view+json": {
       "model_id": "fd7562f09dd947f59af2ddaf4d1eebdd",
       "version_major": 2,
       "version_minor": 0
      },
      "text/plain": [
       "0it [00:00, ?it/s]"
      ]
     },
     "metadata": {},
     "output_type": "display_data"
    },
    {
     "data": {
      "application/vnd.jupyter.widget-view+json": {
       "model_id": "44716c9fc41f4b70884bac9444c034ce",
       "version_major": 2,
       "version_minor": 0
      },
      "text/plain": [
       "0it [00:00, ?it/s]"
      ]
     },
     "metadata": {},
     "output_type": "display_data"
    },
    {
     "data": {
      "application/vnd.jupyter.widget-view+json": {
       "model_id": "5dd5afc31c87498c826e1ae0d05c09ca",
       "version_major": 2,
       "version_minor": 0
      },
      "text/plain": [
       "0it [00:00, ?it/s]"
      ]
     },
     "metadata": {},
     "output_type": "display_data"
    },
    {
     "data": {
      "application/vnd.jupyter.widget-view+json": {
       "model_id": "d5c1356dd70a44cf9ebc837f1bef31d2",
       "version_major": 2,
       "version_minor": 0
      },
      "text/plain": [
       "0it [00:00, ?it/s]"
      ]
     },
     "metadata": {},
     "output_type": "display_data"
    },
    {
     "data": {
      "application/vnd.jupyter.widget-view+json": {
       "model_id": "d85d7b961b67432a8fbc60c1a77cb104",
       "version_major": 2,
       "version_minor": 0
      },
      "text/plain": [
       "0it [00:00, ?it/s]"
      ]
     },
     "metadata": {},
     "output_type": "display_data"
    },
    {
     "data": {
      "application/vnd.jupyter.widget-view+json": {
       "model_id": "a1a65d701bf345e588bd87a919fde0ab",
       "version_major": 2,
       "version_minor": 0
      },
      "text/plain": [
       "0it [00:00, ?it/s]"
      ]
     },
     "metadata": {},
     "output_type": "display_data"
    },
    {
     "data": {
      "application/vnd.jupyter.widget-view+json": {
       "model_id": "e71c809faf5844ea861895d2724b1b8b",
       "version_major": 2,
       "version_minor": 0
      },
      "text/plain": [
       "0it [00:00, ?it/s]"
      ]
     },
     "metadata": {},
     "output_type": "display_data"
    },
    {
     "data": {
      "application/vnd.jupyter.widget-view+json": {
       "model_id": "89f6c2095a3f4f97bb216692b294432e",
       "version_major": 2,
       "version_minor": 0
      },
      "text/plain": [
       "0it [00:00, ?it/s]"
      ]
     },
     "metadata": {},
     "output_type": "display_data"
    },
    {
     "data": {
      "application/vnd.jupyter.widget-view+json": {
       "model_id": "033f3b510e92460c89492c370a985673",
       "version_major": 2,
       "version_minor": 0
      },
      "text/plain": [
       "0it [00:00, ?it/s]"
      ]
     },
     "metadata": {},
     "output_type": "display_data"
    },
    {
     "data": {
      "application/vnd.jupyter.widget-view+json": {
       "model_id": "ca5aa43d0a574aefa0c29cd7218dd615",
       "version_major": 2,
       "version_minor": 0
      },
      "text/plain": [
       "0it [00:00, ?it/s]"
      ]
     },
     "metadata": {},
     "output_type": "display_data"
    },
    {
     "data": {
      "application/vnd.jupyter.widget-view+json": {
       "model_id": "b01c5a98fcbf4a848f7e98eeec4a00e9",
       "version_major": 2,
       "version_minor": 0
      },
      "text/plain": [
       "0it [00:00, ?it/s]"
      ]
     },
     "metadata": {},
     "output_type": "display_data"
    },
    {
     "data": {
      "application/vnd.jupyter.widget-view+json": {
       "model_id": "4615a9245d97403aba1e0f97c3dc2890",
       "version_major": 2,
       "version_minor": 0
      },
      "text/plain": [
       "0it [00:00, ?it/s]"
      ]
     },
     "metadata": {},
     "output_type": "display_data"
    },
    {
     "data": {
      "application/vnd.jupyter.widget-view+json": {
       "model_id": "5b8806dbf38441dbba39fbf4fcea5617",
       "version_major": 2,
       "version_minor": 0
      },
      "text/plain": [
       "0it [00:00, ?it/s]"
      ]
     },
     "metadata": {},
     "output_type": "display_data"
    },
    {
     "data": {
      "application/vnd.jupyter.widget-view+json": {
       "model_id": "d8e0394e331548959de6e6c6b1ad4851",
       "version_major": 2,
       "version_minor": 0
      },
      "text/plain": [
       "0it [00:00, ?it/s]"
      ]
     },
     "metadata": {},
     "output_type": "display_data"
    },
    {
     "data": {
      "application/vnd.jupyter.widget-view+json": {
       "model_id": "24037bc41e4a4ffb9ca7849fd0f3fcd9",
       "version_major": 2,
       "version_minor": 0
      },
      "text/plain": [
       "0it [00:00, ?it/s]"
      ]
     },
     "metadata": {},
     "output_type": "display_data"
    },
    {
     "data": {
      "application/vnd.jupyter.widget-view+json": {
       "model_id": "47c1eaa834d3429f833d4b33ff61924d",
       "version_major": 2,
       "version_minor": 0
      },
      "text/plain": [
       "0it [00:00, ?it/s]"
      ]
     },
     "metadata": {},
     "output_type": "display_data"
    },
    {
     "data": {
      "application/vnd.jupyter.widget-view+json": {
       "model_id": "97ed2b64b1fb4c148fb57d8401c6f039",
       "version_major": 2,
       "version_minor": 0
      },
      "text/plain": [
       "0it [00:00, ?it/s]"
      ]
     },
     "metadata": {},
     "output_type": "display_data"
    },
    {
     "data": {
      "application/vnd.jupyter.widget-view+json": {
       "model_id": "7053df26e6374045af61b88173388dea",
       "version_major": 2,
       "version_minor": 0
      },
      "text/plain": [
       "0it [00:00, ?it/s]"
      ]
     },
     "metadata": {},
     "output_type": "display_data"
    },
    {
     "data": {
      "application/vnd.jupyter.widget-view+json": {
       "model_id": "b4ad40e7c4c34290a165d0a46c6582f9",
       "version_major": 2,
       "version_minor": 0
      },
      "text/plain": [
       "0it [00:00, ?it/s]"
      ]
     },
     "metadata": {},
     "output_type": "display_data"
    },
    {
     "data": {
      "application/vnd.jupyter.widget-view+json": {
       "model_id": "e57e75d240454ec68bc09888e6984a2d",
       "version_major": 2,
       "version_minor": 0
      },
      "text/plain": [
       "0it [00:00, ?it/s]"
      ]
     },
     "metadata": {},
     "output_type": "display_data"
    },
    {
     "name": "stdout",
     "output_type": "stream",
     "text": [
      "[{'mse_loss': [0.020693384, 0.01815952, 0.015214412, 0.013211087, 0.010613736, 0.008247007, 0.006902556, 0.0053927745, 0.004349213, 0.0037461245], 'bpp_loss': [0.010800547, 0.010800547, 0.010800547, 0.010800547, 0.010800547, 0.010800547, 0.010800547, 0.010800547, 0.010800547, 0.010800547], 'loss_classic': [13.466674, 11.819029, 9.903971, 8.60131, 6.912382, 5.373416, 4.4991875, 3.517452, 2.8388765, 2.446718], 'PSNR': [17.047688, 17.756989, 18.549591, 19.268478, 20.436716, 21.846117, 22.80399, 24.115679, 25.522152, 26.417107], 'VSFA': [-0.28336877, -0.29722, -0.3251797, -0.36086825, -0.38530666, -0.40523818, -0.41448426, -0.42893362, -0.4463351, -0.4507434], 'loss': [-566.71686, -594.4218, -650.3441, -721.72327, -770.60266, -810.46814, -828.9617, -857.8619, -892.6659, -901.4831], 'bitrate': [0.147662, 0.22204, 0.35574, 0.581393, 1.206106, 2.666137, 4.244687, 7.755468, 17.186143, 25.113956]}]\n"
     ]
    },
    {
     "data": {
      "application/vnd.jupyter.widget-view+json": {
       "model_id": "22f21ef5556d4c53a21c7c6cbcccf81b",
       "version_major": 2,
       "version_minor": 0
      },
      "text/plain": [
       "0it [00:00, ?it/s]"
      ]
     },
     "metadata": {},
     "output_type": "display_data"
    },
    {
     "name": "stdout",
     "output_type": "stream",
     "text": [
      "Linearity ./models_enhancement/model_vimeo11k_MDTVSFA_2000mse_enhance_cheng2020_attn_quality2.ckpt\n"
     ]
    },
    {
     "data": {
      "application/vnd.jupyter.widget-view+json": {
       "model_id": "72f81ce7935a4ba180455c71fcf1b6a4",
       "version_major": 2,
       "version_minor": 0
      },
      "text/plain": [
       "0it [00:00, ?it/s]"
      ]
     },
     "metadata": {},
     "output_type": "display_data"
    },
    {
     "data": {
      "application/vnd.jupyter.widget-view+json": {
       "model_id": "270f652fa9894c039e38c74c97a64a60",
       "version_major": 2,
       "version_minor": 0
      },
      "text/plain": [
       "0it [00:00, ?it/s]"
      ]
     },
     "metadata": {},
     "output_type": "display_data"
    },
    {
     "data": {
      "application/vnd.jupyter.widget-view+json": {
       "model_id": "74269c3f343e4d4b92ae4f2dc3496e0c",
       "version_major": 2,
       "version_minor": 0
      },
      "text/plain": [
       "0it [00:00, ?it/s]"
      ]
     },
     "metadata": {},
     "output_type": "display_data"
    },
    {
     "data": {
      "application/vnd.jupyter.widget-view+json": {
       "model_id": "04f19d21de5248138b768fe8d90a4030",
       "version_major": 2,
       "version_minor": 0
      },
      "text/plain": [
       "0it [00:00, ?it/s]"
      ]
     },
     "metadata": {},
     "output_type": "display_data"
    },
    {
     "data": {
      "application/vnd.jupyter.widget-view+json": {
       "model_id": "7faef7ed6ec145b4896b0dc80f19a62d",
       "version_major": 2,
       "version_minor": 0
      },
      "text/plain": [
       "0it [00:00, ?it/s]"
      ]
     },
     "metadata": {},
     "output_type": "display_data"
    },
    {
     "data": {
      "application/vnd.jupyter.widget-view+json": {
       "model_id": "d83014ce21fd40b8b2337710a87a3b2e",
       "version_major": 2,
       "version_minor": 0
      },
      "text/plain": [
       "0it [00:00, ?it/s]"
      ]
     },
     "metadata": {},
     "output_type": "display_data"
    },
    {
     "data": {
      "application/vnd.jupyter.widget-view+json": {
       "model_id": "656676ef94fa4ea191ea58db69efb55f",
       "version_major": 2,
       "version_minor": 0
      },
      "text/plain": [
       "0it [00:00, ?it/s]"
      ]
     },
     "metadata": {},
     "output_type": "display_data"
    },
    {
     "data": {
      "application/vnd.jupyter.widget-view+json": {
       "model_id": "e0eee662e2eb433892650a1b52c34774",
       "version_major": 2,
       "version_minor": 0
      },
      "text/plain": [
       "0it [00:00, ?it/s]"
      ]
     },
     "metadata": {},
     "output_type": "display_data"
    },
    {
     "data": {
      "application/vnd.jupyter.widget-view+json": {
       "model_id": "86e52bb02ec944da8ba753fbbee41560",
       "version_major": 2,
       "version_minor": 0
      },
      "text/plain": [
       "0it [00:00, ?it/s]"
      ]
     },
     "metadata": {},
     "output_type": "display_data"
    },
    {
     "data": {
      "application/vnd.jupyter.widget-view+json": {
       "model_id": "2f0c316cd2314133bc72cdd2fc86edac",
       "version_major": 2,
       "version_minor": 0
      },
      "text/plain": [
       "0it [00:00, ?it/s]"
      ]
     },
     "metadata": {},
     "output_type": "display_data"
    },
    {
     "data": {
      "application/vnd.jupyter.widget-view+json": {
       "model_id": "dfc0cca617dc4bd7a33fbc0e827fb21a",
       "version_major": 2,
       "version_minor": 0
      },
      "text/plain": [
       "0it [00:00, ?it/s]"
      ]
     },
     "metadata": {},
     "output_type": "display_data"
    },
    {
     "data": {
      "application/vnd.jupyter.widget-view+json": {
       "model_id": "989152b7001440e393615cd6890a0a0e",
       "version_major": 2,
       "version_minor": 0
      },
      "text/plain": [
       "0it [00:00, ?it/s]"
      ]
     },
     "metadata": {},
     "output_type": "display_data"
    },
    {
     "data": {
      "application/vnd.jupyter.widget-view+json": {
       "model_id": "cead801d0fca4e2ca7379c4683eb51fd",
       "version_major": 2,
       "version_minor": 0
      },
      "text/plain": [
       "0it [00:00, ?it/s]"
      ]
     },
     "metadata": {},
     "output_type": "display_data"
    },
    {
     "data": {
      "application/vnd.jupyter.widget-view+json": {
       "model_id": "a9f87a0aec2d4ca0b30788c9326bd61a",
       "version_major": 2,
       "version_minor": 0
      },
      "text/plain": [
       "0it [00:00, ?it/s]"
      ]
     },
     "metadata": {},
     "output_type": "display_data"
    },
    {
     "data": {
      "application/vnd.jupyter.widget-view+json": {
       "model_id": "d048d433cfd3483e95b11d5b533a1750",
       "version_major": 2,
       "version_minor": 0
      },
      "text/plain": [
       "0it [00:00, ?it/s]"
      ]
     },
     "metadata": {},
     "output_type": "display_data"
    },
    {
     "data": {
      "application/vnd.jupyter.widget-view+json": {
       "model_id": "133ca8cf157b48c5863958839f8d3230",
       "version_major": 2,
       "version_minor": 0
      },
      "text/plain": [
       "0it [00:00, ?it/s]"
      ]
     },
     "metadata": {},
     "output_type": "display_data"
    },
    {
     "data": {
      "application/vnd.jupyter.widget-view+json": {
       "model_id": "191aeab6e7e94a8ebaa0401d89905289",
       "version_major": 2,
       "version_minor": 0
      },
      "text/plain": [
       "0it [00:00, ?it/s]"
      ]
     },
     "metadata": {},
     "output_type": "display_data"
    },
    {
     "data": {
      "application/vnd.jupyter.widget-view+json": {
       "model_id": "b8d969d200904a6e8705ea5564e4cb58",
       "version_major": 2,
       "version_minor": 0
      },
      "text/plain": [
       "0it [00:00, ?it/s]"
      ]
     },
     "metadata": {},
     "output_type": "display_data"
    },
    {
     "data": {
      "application/vnd.jupyter.widget-view+json": {
       "model_id": "e50ac98104684fb48bafcb59c74f85d1",
       "version_major": 2,
       "version_minor": 0
      },
      "text/plain": [
       "0it [00:00, ?it/s]"
      ]
     },
     "metadata": {},
     "output_type": "display_data"
    },
    {
     "data": {
      "application/vnd.jupyter.widget-view+json": {
       "model_id": "fa183f9f43554061a1bfd88b841dceeb",
       "version_major": 2,
       "version_minor": 0
      },
      "text/plain": [
       "0it [00:00, ?it/s]"
      ]
     },
     "metadata": {},
     "output_type": "display_data"
    },
    {
     "name": "stdout",
     "output_type": "stream",
     "text": [
      "[{'mse_loss': [0.008005714, 0.005836477, 0.0039045233, 0.0019088578, 0.0007811298, 0.00040171767, 0.00029834209, 0.00023825995, 0.00023391756, 0.00021466777], 'bpp_loss': [0.021601094, 0.021601094, 0.021601094, 0.021601094, 0.021601094, 0.021601094, 0.021601094, 0.021601094, 0.021601094, 0.021601094], 'loss_classic': [5.227317, 3.8167703, 2.5605175, 1.262836, 0.52953076, 0.28281802, 0.21559805, 0.17652963, 0.173706, 0.16118883], 'PSNR': [21.251162, 22.939987, 24.671581, 27.543129, 31.24834, 34.062748, 35.331566, 36.318596, 36.622314, 37.11691], 'Linearity': [0.59792405, 0.62551427, 0.6256534, 0.6481457, 0.6061462, 0.5011029, 0.47024065, 0.4446655, 0.4467812, 0.44455856], 'loss': [1195.8562, 1251.0342, 1251.3108, 1296.2932, 1212.2932, 1002.2063, 940.48157, 889.3313, 893.5626, 889.1173], 'bitrate': [0.155771, 0.221365, 0.322596, 0.534575, 0.992612, 1.922656, 2.861131, 4.826075, 10.659053, 15.588253]}]\n",
      "MDTVSFA ./models_enhancement/model_vimeo11k_PAC2PIC_2000mse_enhance_cheng2020_attn_quality2_fixed_direction.ckpt\n"
     ]
    },
    {
     "data": {
      "application/vnd.jupyter.widget-view+json": {
       "model_id": "1329de02014a489c93ecaf2b2ecd6953",
       "version_major": 2,
       "version_minor": 0
      },
      "text/plain": [
       "0it [00:00, ?it/s]"
      ]
     },
     "metadata": {},
     "output_type": "display_data"
    },
    {
     "data": {
      "application/vnd.jupyter.widget-view+json": {
       "model_id": "2021a86515e94638a5e4a33f97f3f75c",
       "version_major": 2,
       "version_minor": 0
      },
      "text/plain": [
       "0it [00:00, ?it/s]"
      ]
     },
     "metadata": {},
     "output_type": "display_data"
    },
    {
     "data": {
      "application/vnd.jupyter.widget-view+json": {
       "model_id": "e2b481bc34ef4429a829f54953c75bc4",
       "version_major": 2,
       "version_minor": 0
      },
      "text/plain": [
       "0it [00:00, ?it/s]"
      ]
     },
     "metadata": {},
     "output_type": "display_data"
    },
    {
     "data": {
      "application/vnd.jupyter.widget-view+json": {
       "model_id": "17274f38a310406da4e97e8910a228e3",
       "version_major": 2,
       "version_minor": 0
      },
      "text/plain": [
       "0it [00:00, ?it/s]"
      ]
     },
     "metadata": {},
     "output_type": "display_data"
    },
    {
     "data": {
      "application/vnd.jupyter.widget-view+json": {
       "model_id": "d9fa3024975f486f8add2441f50c04c0",
       "version_major": 2,
       "version_minor": 0
      },
      "text/plain": [
       "0it [00:00, ?it/s]"
      ]
     },
     "metadata": {},
     "output_type": "display_data"
    },
    {
     "data": {
      "application/vnd.jupyter.widget-view+json": {
       "model_id": "cbef5df1ce114736bb0c7b52ba24f6c2",
       "version_major": 2,
       "version_minor": 0
      },
      "text/plain": [
       "0it [00:00, ?it/s]"
      ]
     },
     "metadata": {},
     "output_type": "display_data"
    },
    {
     "data": {
      "application/vnd.jupyter.widget-view+json": {
       "model_id": "80a801fe06c240608c431dc2c0a74663",
       "version_major": 2,
       "version_minor": 0
      },
      "text/plain": [
       "0it [00:00, ?it/s]"
      ]
     },
     "metadata": {},
     "output_type": "display_data"
    },
    {
     "data": {
      "application/vnd.jupyter.widget-view+json": {
       "model_id": "5a7061cac07248ca8cee9dcbee301216",
       "version_major": 2,
       "version_minor": 0
      },
      "text/plain": [
       "0it [00:00, ?it/s]"
      ]
     },
     "metadata": {},
     "output_type": "display_data"
    },
    {
     "data": {
      "application/vnd.jupyter.widget-view+json": {
       "model_id": "a6c39d982d44455590761792fb57adc2",
       "version_major": 2,
       "version_minor": 0
      },
      "text/plain": [
       "0it [00:00, ?it/s]"
      ]
     },
     "metadata": {},
     "output_type": "display_data"
    },
    {
     "data": {
      "application/vnd.jupyter.widget-view+json": {
       "model_id": "ba462e5140ce4d01b901bafaed1ac9ce",
       "version_major": 2,
       "version_minor": 0
      },
      "text/plain": [
       "0it [00:00, ?it/s]"
      ]
     },
     "metadata": {},
     "output_type": "display_data"
    },
    {
     "data": {
      "application/vnd.jupyter.widget-view+json": {
       "model_id": "fbbde3e2ee0f4e949d5f8b4c4c774e57",
       "version_major": 2,
       "version_minor": 0
      },
      "text/plain": [
       "0it [00:00, ?it/s]"
      ]
     },
     "metadata": {},
     "output_type": "display_data"
    },
    {
     "data": {
      "application/vnd.jupyter.widget-view+json": {
       "model_id": "11caba8f742d4d1ab9b4568da1d7599d",
       "version_major": 2,
       "version_minor": 0
      },
      "text/plain": [
       "0it [00:00, ?it/s]"
      ]
     },
     "metadata": {},
     "output_type": "display_data"
    },
    {
     "data": {
      "application/vnd.jupyter.widget-view+json": {
       "model_id": "dd3443fe41f24dbb8aafd9919f2a349c",
       "version_major": 2,
       "version_minor": 0
      },
      "text/plain": [
       "0it [00:00, ?it/s]"
      ]
     },
     "metadata": {},
     "output_type": "display_data"
    },
    {
     "data": {
      "application/vnd.jupyter.widget-view+json": {
       "model_id": "7d14d0ffb47642c1a06fa9633f0311f5",
       "version_major": 2,
       "version_minor": 0
      },
      "text/plain": [
       "0it [00:00, ?it/s]"
      ]
     },
     "metadata": {},
     "output_type": "display_data"
    },
    {
     "data": {
      "application/vnd.jupyter.widget-view+json": {
       "model_id": "df9ce428ae9740b292d3c21478a7214f",
       "version_major": 2,
       "version_minor": 0
      },
      "text/plain": [
       "0it [00:00, ?it/s]"
      ]
     },
     "metadata": {},
     "output_type": "display_data"
    },
    {
     "data": {
      "application/vnd.jupyter.widget-view+json": {
       "model_id": "0475105ef8624049bdc8f8d4aa300e11",
       "version_major": 2,
       "version_minor": 0
      },
      "text/plain": [
       "0it [00:00, ?it/s]"
      ]
     },
     "metadata": {},
     "output_type": "display_data"
    },
    {
     "data": {
      "application/vnd.jupyter.widget-view+json": {
       "model_id": "f7813104e16c49358e0d2cff0f178d30",
       "version_major": 2,
       "version_minor": 0
      },
      "text/plain": [
       "0it [00:00, ?it/s]"
      ]
     },
     "metadata": {},
     "output_type": "display_data"
    },
    {
     "data": {
      "application/vnd.jupyter.widget-view+json": {
       "model_id": "777af9fc8948402088cfd92cbba9a681",
       "version_major": 2,
       "version_minor": 0
      },
      "text/plain": [
       "0it [00:00, ?it/s]"
      ]
     },
     "metadata": {},
     "output_type": "display_data"
    },
    {
     "data": {
      "application/vnd.jupyter.widget-view+json": {
       "model_id": "00cf70d871b6435a980309ff257fac0c",
       "version_major": 2,
       "version_minor": 0
      },
      "text/plain": [
       "0it [00:00, ?it/s]"
      ]
     },
     "metadata": {},
     "output_type": "display_data"
    },
    {
     "data": {
      "application/vnd.jupyter.widget-view+json": {
       "model_id": "307b4a35b8a24c95a198fc5dd5765e67",
       "version_major": 2,
       "version_minor": 0
      },
      "text/plain": [
       "0it [00:00, ?it/s]"
      ]
     },
     "metadata": {},
     "output_type": "display_data"
    },
    {
     "name": "stdout",
     "output_type": "stream",
     "text": [
      "[{'mse_loss': [0.008005714, 0.005836477, 0.0039045233, 0.0019088578, 0.0007811298, 0.00040171767, 0.00029834209, 0.00023825995, 0.00023391756, 0.00021466777], 'bpp_loss': [0.021601094, 0.021601094, 0.021601094, 0.021601094, 0.021601094, 0.021601094, 0.021601094, 0.021601094, 0.021601094, 0.021601094], 'loss_classic': [5.227317, 3.8167703, 2.5605175, 1.262836, 0.52953076, 0.28281802, 0.21559805, 0.17652963, 0.173706, 0.16118883], 'PSNR': [21.251162, 22.939987, 24.671581, 27.543129, 31.24834, 34.062748, 35.331566, 36.318596, 36.622314, 37.11691], 'MDTVSFA': [-0.4124459, -0.41377228, -0.41822815, -0.42965966, -0.45880434, -0.47905552, -0.4837638, -0.48940247, -0.49008083, -0.4916153], 'loss': [-824.8838, -827.5387, -836.4524, -859.3174, -917.6079, -958.11066, -967.52734, -978.8047, -980.16144, -983.2304], 'bitrate': [0.155771, 0.221365, 0.322596, 0.534575, 0.992612, 1.922656, 2.861131, 4.826075, 10.659053, 15.588253]}]\n",
      "PAC2PIQ ./models_enhancement/model_vimeo11k_SPAQ_2000mse_enhance_cheng2020_attn_quality2_fixed_direction.ckpt\n"
     ]
    },
    {
     "data": {
      "application/vnd.jupyter.widget-view+json": {
       "model_id": "38dac2e7d80e41e8b3904ebbb5882dd4",
       "version_major": 2,
       "version_minor": 0
      },
      "text/plain": [
       "0it [00:00, ?it/s]"
      ]
     },
     "metadata": {},
     "output_type": "display_data"
    },
    {
     "data": {
      "application/vnd.jupyter.widget-view+json": {
       "model_id": "3083449b645249bb9911d51c45b60524",
       "version_major": 2,
       "version_minor": 0
      },
      "text/plain": [
       "0it [00:00, ?it/s]"
      ]
     },
     "metadata": {},
     "output_type": "display_data"
    },
    {
     "data": {
      "application/vnd.jupyter.widget-view+json": {
       "model_id": "285f5e639f5a4794ba386cea839284bf",
       "version_major": 2,
       "version_minor": 0
      },
      "text/plain": [
       "0it [00:00, ?it/s]"
      ]
     },
     "metadata": {},
     "output_type": "display_data"
    },
    {
     "data": {
      "application/vnd.jupyter.widget-view+json": {
       "model_id": "20a98206d74449c48bf45068544c3a3c",
       "version_major": 2,
       "version_minor": 0
      },
      "text/plain": [
       "0it [00:00, ?it/s]"
      ]
     },
     "metadata": {},
     "output_type": "display_data"
    },
    {
     "data": {
      "application/vnd.jupyter.widget-view+json": {
       "model_id": "6cfbf66325004f679892449f460bd152",
       "version_major": 2,
       "version_minor": 0
      },
      "text/plain": [
       "0it [00:00, ?it/s]"
      ]
     },
     "metadata": {},
     "output_type": "display_data"
    },
    {
     "data": {
      "application/vnd.jupyter.widget-view+json": {
       "model_id": "b7b5bf74b38b4d2a9973ca4d194f360f",
       "version_major": 2,
       "version_minor": 0
      },
      "text/plain": [
       "0it [00:00, ?it/s]"
      ]
     },
     "metadata": {},
     "output_type": "display_data"
    },
    {
     "data": {
      "application/vnd.jupyter.widget-view+json": {
       "model_id": "2b56e66bc9b641718a1b37adbe8eda4c",
       "version_major": 2,
       "version_minor": 0
      },
      "text/plain": [
       "0it [00:00, ?it/s]"
      ]
     },
     "metadata": {},
     "output_type": "display_data"
    },
    {
     "data": {
      "application/vnd.jupyter.widget-view+json": {
       "model_id": "2b39968e25dd4e4ca55463f104cc6bc1",
       "version_major": 2,
       "version_minor": 0
      },
      "text/plain": [
       "0it [00:00, ?it/s]"
      ]
     },
     "metadata": {},
     "output_type": "display_data"
    },
    {
     "data": {
      "application/vnd.jupyter.widget-view+json": {
       "model_id": "f58a35b463984551b5457f5541d6cf89",
       "version_major": 2,
       "version_minor": 0
      },
      "text/plain": [
       "0it [00:00, ?it/s]"
      ]
     },
     "metadata": {},
     "output_type": "display_data"
    },
    {
     "data": {
      "application/vnd.jupyter.widget-view+json": {
       "model_id": "60443a7f6fd74f3ba38ec9b8eaae75c6",
       "version_major": 2,
       "version_minor": 0
      },
      "text/plain": [
       "0it [00:00, ?it/s]"
      ]
     },
     "metadata": {},
     "output_type": "display_data"
    },
    {
     "data": {
      "application/vnd.jupyter.widget-view+json": {
       "model_id": "a9887e2e90de42f2b3bc31f2adfbbaef",
       "version_major": 2,
       "version_minor": 0
      },
      "text/plain": [
       "0it [00:00, ?it/s]"
      ]
     },
     "metadata": {},
     "output_type": "display_data"
    },
    {
     "data": {
      "application/vnd.jupyter.widget-view+json": {
       "model_id": "57012c4e3aa044589fa3461df2c750b7",
       "version_major": 2,
       "version_minor": 0
      },
      "text/plain": [
       "0it [00:00, ?it/s]"
      ]
     },
     "metadata": {},
     "output_type": "display_data"
    },
    {
     "data": {
      "application/vnd.jupyter.widget-view+json": {
       "model_id": "d6e9459dd58448e0b3442f4e11ea140a",
       "version_major": 2,
       "version_minor": 0
      },
      "text/plain": [
       "0it [00:00, ?it/s]"
      ]
     },
     "metadata": {},
     "output_type": "display_data"
    },
    {
     "data": {
      "application/vnd.jupyter.widget-view+json": {
       "model_id": "46f394b683b24ca9972afa59c492da9a",
       "version_major": 2,
       "version_minor": 0
      },
      "text/plain": [
       "0it [00:00, ?it/s]"
      ]
     },
     "metadata": {},
     "output_type": "display_data"
    },
    {
     "data": {
      "application/vnd.jupyter.widget-view+json": {
       "model_id": "11b895e3d2d242a8b1a46cd2f4887a3c",
       "version_major": 2,
       "version_minor": 0
      },
      "text/plain": [
       "0it [00:00, ?it/s]"
      ]
     },
     "metadata": {},
     "output_type": "display_data"
    },
    {
     "data": {
      "application/vnd.jupyter.widget-view+json": {
       "model_id": "a3b407b890034d5a90fa813d9d4b19f3",
       "version_major": 2,
       "version_minor": 0
      },
      "text/plain": [
       "0it [00:00, ?it/s]"
      ]
     },
     "metadata": {},
     "output_type": "display_data"
    },
    {
     "data": {
      "application/vnd.jupyter.widget-view+json": {
       "model_id": "e1191e05119b40dab9c0b5dfcdb6fca1",
       "version_major": 2,
       "version_minor": 0
      },
      "text/plain": [
       "0it [00:00, ?it/s]"
      ]
     },
     "metadata": {},
     "output_type": "display_data"
    },
    {
     "data": {
      "application/vnd.jupyter.widget-view+json": {
       "model_id": "79ea3605006f4725a84ce9a31c07282a",
       "version_major": 2,
       "version_minor": 0
      },
      "text/plain": [
       "0it [00:00, ?it/s]"
      ]
     },
     "metadata": {},
     "output_type": "display_data"
    },
    {
     "data": {
      "application/vnd.jupyter.widget-view+json": {
       "model_id": "f2aaf306aac14890be412ec28bc54b45",
       "version_major": 2,
       "version_minor": 0
      },
      "text/plain": [
       "0it [00:00, ?it/s]"
      ]
     },
     "metadata": {},
     "output_type": "display_data"
    },
    {
     "data": {
      "application/vnd.jupyter.widget-view+json": {
       "model_id": "b61322ed4c1041968da93ce8d90d5b6c",
       "version_major": 2,
       "version_minor": 0
      },
      "text/plain": [
       "0it [00:00, ?it/s]"
      ]
     },
     "metadata": {},
     "output_type": "display_data"
    },
    {
     "name": "stdout",
     "output_type": "stream",
     "text": [
      "[{'mse_loss': [0.008005714, 0.005836477, 0.0039045233, 0.0019088578, 0.0007811298, 0.00040171767, 0.00029834209, 0.00023825995, 0.00023391756, 0.00021466777], 'bpp_loss': [0.021601094, 0.021601094, 0.021601094, 0.021601094, 0.021601094, 0.021601094, 0.021601094, 0.021601094, 0.021601094, 0.021601094], 'loss_classic': [5.227317, 3.8167703, 2.5605175, 1.262836, 0.52953076, 0.28281802, 0.21559805, 0.17652963, 0.173706, 0.16118883], 'PSNR': [21.251162, 22.939987, 24.671581, 27.543129, 31.24834, 34.062748, 35.331566, 36.318596, 36.622314, 37.11691], 'PAC2PIQ': [-0.4433301, -0.45866203, -0.46080035, -0.4676703, -0.490372, -0.47004172, -0.45669153, -0.44529077, -0.44559032, -0.4444984], 'loss': [-886.65216, -917.31824, -921.5968, -935.33875, -980.7433, -940.083, -913.38275, -890.5813, -891.1804, -888.9966], 'bitrate': [0.155771, 0.221365, 0.322596, 0.534575, 0.992612, 1.922656, 2.861131, 4.826075, 10.659053, 15.588253]}]\n",
      "SPAQ ./models_enhancement/model_vimeo11k_VSFA_2000mse_enhance_cheng2020_attn_quality2_fixed_direction.ckpt\n"
     ]
    },
    {
     "data": {
      "application/vnd.jupyter.widget-view+json": {
       "model_id": "5fb5a93f0629401faf3e52e7f9880ee1",
       "version_major": 2,
       "version_minor": 0
      },
      "text/plain": [
       "0it [00:00, ?it/s]"
      ]
     },
     "metadata": {},
     "output_type": "display_data"
    },
    {
     "data": {
      "application/vnd.jupyter.widget-view+json": {
       "model_id": "75f8001c0a4e43da85866f2ae25aeb93",
       "version_major": 2,
       "version_minor": 0
      },
      "text/plain": [
       "0it [00:00, ?it/s]"
      ]
     },
     "metadata": {},
     "output_type": "display_data"
    },
    {
     "data": {
      "application/vnd.jupyter.widget-view+json": {
       "model_id": "1c797b0cb1b04797916ae587ba5b8b8e",
       "version_major": 2,
       "version_minor": 0
      },
      "text/plain": [
       "0it [00:00, ?it/s]"
      ]
     },
     "metadata": {},
     "output_type": "display_data"
    },
    {
     "data": {
      "application/vnd.jupyter.widget-view+json": {
       "model_id": "c196a53b3bde464bb4e9696aa7cb1844",
       "version_major": 2,
       "version_minor": 0
      },
      "text/plain": [
       "0it [00:00, ?it/s]"
      ]
     },
     "metadata": {},
     "output_type": "display_data"
    },
    {
     "data": {
      "application/vnd.jupyter.widget-view+json": {
       "model_id": "0110751737184b93a411d23c662d531b",
       "version_major": 2,
       "version_minor": 0
      },
      "text/plain": [
       "0it [00:00, ?it/s]"
      ]
     },
     "metadata": {},
     "output_type": "display_data"
    },
    {
     "data": {
      "application/vnd.jupyter.widget-view+json": {
       "model_id": "58f22fb1fa0148a2b12cf31bf140ae22",
       "version_major": 2,
       "version_minor": 0
      },
      "text/plain": [
       "0it [00:00, ?it/s]"
      ]
     },
     "metadata": {},
     "output_type": "display_data"
    },
    {
     "data": {
      "application/vnd.jupyter.widget-view+json": {
       "model_id": "9a3e9781d34a4462ba0500eccc085a32",
       "version_major": 2,
       "version_minor": 0
      },
      "text/plain": [
       "0it [00:00, ?it/s]"
      ]
     },
     "metadata": {},
     "output_type": "display_data"
    },
    {
     "data": {
      "application/vnd.jupyter.widget-view+json": {
       "model_id": "3bb891cefe2243368c65dc9bee50eff2",
       "version_major": 2,
       "version_minor": 0
      },
      "text/plain": [
       "0it [00:00, ?it/s]"
      ]
     },
     "metadata": {},
     "output_type": "display_data"
    },
    {
     "data": {
      "application/vnd.jupyter.widget-view+json": {
       "model_id": "fccd06c1edb1473c9e869df75fbbf3c1",
       "version_major": 2,
       "version_minor": 0
      },
      "text/plain": [
       "0it [00:00, ?it/s]"
      ]
     },
     "metadata": {},
     "output_type": "display_data"
    },
    {
     "data": {
      "application/vnd.jupyter.widget-view+json": {
       "model_id": "3bad748f15b64366839c1a4e2fe9487c",
       "version_major": 2,
       "version_minor": 0
      },
      "text/plain": [
       "0it [00:00, ?it/s]"
      ]
     },
     "metadata": {},
     "output_type": "display_data"
    },
    {
     "data": {
      "application/vnd.jupyter.widget-view+json": {
       "model_id": "ac30b6a7043e4a1297fbc0e10fac8186",
       "version_major": 2,
       "version_minor": 0
      },
      "text/plain": [
       "0it [00:00, ?it/s]"
      ]
     },
     "metadata": {},
     "output_type": "display_data"
    },
    {
     "data": {
      "application/vnd.jupyter.widget-view+json": {
       "model_id": "34b659ec353c45d29b83cc2e96b99d8a",
       "version_major": 2,
       "version_minor": 0
      },
      "text/plain": [
       "0it [00:00, ?it/s]"
      ]
     },
     "metadata": {},
     "output_type": "display_data"
    },
    {
     "data": {
      "application/vnd.jupyter.widget-view+json": {
       "model_id": "64f5b92c6792490994b19cb99d28f586",
       "version_major": 2,
       "version_minor": 0
      },
      "text/plain": [
       "0it [00:00, ?it/s]"
      ]
     },
     "metadata": {},
     "output_type": "display_data"
    },
    {
     "data": {
      "application/vnd.jupyter.widget-view+json": {
       "model_id": "a5278c8a186945dab9e706bf0f96cf2c",
       "version_major": 2,
       "version_minor": 0
      },
      "text/plain": [
       "0it [00:00, ?it/s]"
      ]
     },
     "metadata": {},
     "output_type": "display_data"
    },
    {
     "data": {
      "application/vnd.jupyter.widget-view+json": {
       "model_id": "7bb7ba5c69114e2ea0219d8c805c3780",
       "version_major": 2,
       "version_minor": 0
      },
      "text/plain": [
       "0it [00:00, ?it/s]"
      ]
     },
     "metadata": {},
     "output_type": "display_data"
    },
    {
     "data": {
      "application/vnd.jupyter.widget-view+json": {
       "model_id": "aba3cf6a9ca3464d888ca50548255620",
       "version_major": 2,
       "version_minor": 0
      },
      "text/plain": [
       "0it [00:00, ?it/s]"
      ]
     },
     "metadata": {},
     "output_type": "display_data"
    },
    {
     "data": {
      "application/vnd.jupyter.widget-view+json": {
       "model_id": "c05adead62374eb887f236df07a97619",
       "version_major": 2,
       "version_minor": 0
      },
      "text/plain": [
       "0it [00:00, ?it/s]"
      ]
     },
     "metadata": {},
     "output_type": "display_data"
    },
    {
     "data": {
      "application/vnd.jupyter.widget-view+json": {
       "model_id": "5e53caa5e8b44120ae38c8bafd3b6d1e",
       "version_major": 2,
       "version_minor": 0
      },
      "text/plain": [
       "0it [00:00, ?it/s]"
      ]
     },
     "metadata": {},
     "output_type": "display_data"
    },
    {
     "data": {
      "application/vnd.jupyter.widget-view+json": {
       "model_id": "8e69a1288b694149b7c091b92a40ddef",
       "version_major": 2,
       "version_minor": 0
      },
      "text/plain": [
       "0it [00:00, ?it/s]"
      ]
     },
     "metadata": {},
     "output_type": "display_data"
    },
    {
     "data": {
      "application/vnd.jupyter.widget-view+json": {
       "model_id": "61a7ffd58329400d805f14fb54b45b2d",
       "version_major": 2,
       "version_minor": 0
      },
      "text/plain": [
       "0it [00:00, ?it/s]"
      ]
     },
     "metadata": {},
     "output_type": "display_data"
    },
    {
     "name": "stdout",
     "output_type": "stream",
     "text": [
      "[{'mse_loss': [0.008005714, 0.005836477, 0.0039045233, 0.0019088578, 0.0007811298, 0.00040171767, 0.00029834209, 0.00023825995, 0.00023391756, 0.00021466777], 'bpp_loss': [0.021601094, 0.021601094, 0.021601094, 0.021601094, 0.021601094, 0.021601094, 0.021601094, 0.021601094, 0.021601094, 0.021601094], 'loss_classic': [5.227317, 3.8167703, 2.5605175, 1.262836, 0.52953076, 0.28281802, 0.21559805, 0.17652963, 0.173706, 0.16118883], 'PSNR': [21.251162, 22.939987, 24.671581, 27.543129, 31.24834, 34.062748, 35.331566, 36.318596, 36.622314, 37.11691], 'SPAQ': [-0.37175727, -0.37535515, -0.3848579, -0.40041706, -0.40631157, -0.40971354, -0.41467756, -0.42219055, -0.43179822, -0.4309017], 'loss': [-743.5066, -750.70447, -769.712, -800.8323, -812.6223, -819.4267, -829.35486, -844.3809, -863.5962, -861.80316], 'bitrate': [0.155771, 0.221365, 0.322596, 0.534575, 0.992612, 1.922656, 2.861131, 4.826075, 10.659053, 15.588253]}]\n",
      "VSFA ./models_enhancement/model_vimeo11k_Linearity_2000mse_enhance_no_codec_fixed_direction.ckpt\n"
     ]
    },
    {
     "data": {
      "application/vnd.jupyter.widget-view+json": {
       "model_id": "0d3f71beddb2486d89dea1a3251fedf1",
       "version_major": 2,
       "version_minor": 0
      },
      "text/plain": [
       "0it [00:00, ?it/s]"
      ]
     },
     "metadata": {},
     "output_type": "display_data"
    },
    {
     "data": {
      "application/vnd.jupyter.widget-view+json": {
       "model_id": "114ff8c655df4f01995677eca1d259d1",
       "version_major": 2,
       "version_minor": 0
      },
      "text/plain": [
       "0it [00:00, ?it/s]"
      ]
     },
     "metadata": {},
     "output_type": "display_data"
    },
    {
     "data": {
      "application/vnd.jupyter.widget-view+json": {
       "model_id": "ab68f2a6113049fbaec2cff7dd3e7c9c",
       "version_major": 2,
       "version_minor": 0
      },
      "text/plain": [
       "0it [00:00, ?it/s]"
      ]
     },
     "metadata": {},
     "output_type": "display_data"
    },
    {
     "data": {
      "application/vnd.jupyter.widget-view+json": {
       "model_id": "69e334bba76b4184b067921d16260169",
       "version_major": 2,
       "version_minor": 0
      },
      "text/plain": [
       "0it [00:00, ?it/s]"
      ]
     },
     "metadata": {},
     "output_type": "display_data"
    },
    {
     "data": {
      "application/vnd.jupyter.widget-view+json": {
       "model_id": "c5fcc8ee1de842bd94b152d34525f718",
       "version_major": 2,
       "version_minor": 0
      },
      "text/plain": [
       "0it [00:00, ?it/s]"
      ]
     },
     "metadata": {},
     "output_type": "display_data"
    },
    {
     "data": {
      "application/vnd.jupyter.widget-view+json": {
       "model_id": "b185bd1d6943465d893c1b36c7473042",
       "version_major": 2,
       "version_minor": 0
      },
      "text/plain": [
       "0it [00:00, ?it/s]"
      ]
     },
     "metadata": {},
     "output_type": "display_data"
    },
    {
     "data": {
      "application/vnd.jupyter.widget-view+json": {
       "model_id": "446a5989832d442798cb26a64d20c73f",
       "version_major": 2,
       "version_minor": 0
      },
      "text/plain": [
       "0it [00:00, ?it/s]"
      ]
     },
     "metadata": {},
     "output_type": "display_data"
    },
    {
     "data": {
      "application/vnd.jupyter.widget-view+json": {
       "model_id": "c536942a96214cf7a36f0f41bfc9a7a0",
       "version_major": 2,
       "version_minor": 0
      },
      "text/plain": [
       "0it [00:00, ?it/s]"
      ]
     },
     "metadata": {},
     "output_type": "display_data"
    },
    {
     "data": {
      "application/vnd.jupyter.widget-view+json": {
       "model_id": "47abadb22f7c4a58a17a279047d2dff4",
       "version_major": 2,
       "version_minor": 0
      },
      "text/plain": [
       "0it [00:00, ?it/s]"
      ]
     },
     "metadata": {},
     "output_type": "display_data"
    },
    {
     "data": {
      "application/vnd.jupyter.widget-view+json": {
       "model_id": "42039ebf9bf6423ea239bd479750dde5",
       "version_major": 2,
       "version_minor": 0
      },
      "text/plain": [
       "0it [00:00, ?it/s]"
      ]
     },
     "metadata": {},
     "output_type": "display_data"
    },
    {
     "data": {
      "application/vnd.jupyter.widget-view+json": {
       "model_id": "d9ecf3e00ff547caa72e5c942b8c281c",
       "version_major": 2,
       "version_minor": 0
      },
      "text/plain": [
       "0it [00:00, ?it/s]"
      ]
     },
     "metadata": {},
     "output_type": "display_data"
    },
    {
     "data": {
      "application/vnd.jupyter.widget-view+json": {
       "model_id": "dd865be656e24aa6aa366c9fca8bbe29",
       "version_major": 2,
       "version_minor": 0
      },
      "text/plain": [
       "0it [00:00, ?it/s]"
      ]
     },
     "metadata": {},
     "output_type": "display_data"
    },
    {
     "data": {
      "application/vnd.jupyter.widget-view+json": {
       "model_id": "80ea9c31ebcf4545b5ce0327b717703e",
       "version_major": 2,
       "version_minor": 0
      },
      "text/plain": [
       "0it [00:00, ?it/s]"
      ]
     },
     "metadata": {},
     "output_type": "display_data"
    },
    {
     "data": {
      "application/vnd.jupyter.widget-view+json": {
       "model_id": "3b5786136ff546a0b4ae47b5d32a1390",
       "version_major": 2,
       "version_minor": 0
      },
      "text/plain": [
       "0it [00:00, ?it/s]"
      ]
     },
     "metadata": {},
     "output_type": "display_data"
    },
    {
     "data": {
      "application/vnd.jupyter.widget-view+json": {
       "model_id": "3e8459124a0e43d28b6809f6a2e3a1e8",
       "version_major": 2,
       "version_minor": 0
      },
      "text/plain": [
       "0it [00:00, ?it/s]"
      ]
     },
     "metadata": {},
     "output_type": "display_data"
    },
    {
     "data": {
      "application/vnd.jupyter.widget-view+json": {
       "model_id": "6e729a68cd81400f91d17d4e7f0fe604",
       "version_major": 2,
       "version_minor": 0
      },
      "text/plain": [
       "0it [00:00, ?it/s]"
      ]
     },
     "metadata": {},
     "output_type": "display_data"
    },
    {
     "data": {
      "application/vnd.jupyter.widget-view+json": {
       "model_id": "bbf34ca973f74be4a2a6e6af7a0022a9",
       "version_major": 2,
       "version_minor": 0
      },
      "text/plain": [
       "0it [00:00, ?it/s]"
      ]
     },
     "metadata": {},
     "output_type": "display_data"
    },
    {
     "data": {
      "application/vnd.jupyter.widget-view+json": {
       "model_id": "4906a73ac117472991f9da5138931e55",
       "version_major": 2,
       "version_minor": 0
      },
      "text/plain": [
       "0it [00:00, ?it/s]"
      ]
     },
     "metadata": {},
     "output_type": "display_data"
    },
    {
     "data": {
      "application/vnd.jupyter.widget-view+json": {
       "model_id": "e0bb052848234ab7b81c920561946afb",
       "version_major": 2,
       "version_minor": 0
      },
      "text/plain": [
       "0it [00:00, ?it/s]"
      ]
     },
     "metadata": {},
     "output_type": "display_data"
    },
    {
     "data": {
      "application/vnd.jupyter.widget-view+json": {
       "model_id": "78c1a237bc3442d68c2e76e0af068d0e",
       "version_major": 2,
       "version_minor": 0
      },
      "text/plain": [
       "0it [00:00, ?it/s]"
      ]
     },
     "metadata": {},
     "output_type": "display_data"
    },
    {
     "name": "stdout",
     "output_type": "stream",
     "text": [
      "[{'mse_loss': [0.008005714, 0.0058364766, 0.0039045233, 0.0019088578, 0.0007811298, 0.00040171767, 0.00029834214, 0.00023825998, 0.00023391758, 0.00021466779], 'bpp_loss': [0.010800547, 0.010800547, 0.010800547, 0.010800547, 0.010800547, 0.010800547, 0.010800547, 0.010800547, 0.010800547, 0.010800547], 'loss_classic': [5.216516, 3.8059697, 2.549717, 1.2520354, 0.51873016, 0.27201748, 0.2047975, 0.16572909, 0.16290545, 0.15038827], 'PSNR': [21.152294, 22.840452, 24.598589, 27.532173, 31.24459, 34.059788, 35.32897, 36.314137, 36.610542, 37.10257], 'VSFA': [-0.32599804, -0.33668366, -0.3570915, -0.3783576, -0.41293895, -0.4287504, -0.4315833, -0.4374429, -0.4386651, -0.4402268], 'loss': [-651.98804, -673.3615, -714.1791, -756.71326, -825.8771, -857.50037, -863.1664, -874.8855, -877.32996, -880.45337], 'bitrate': [0.155771, 0.221365, 0.322596, 0.534575, 0.992612, 1.922656, 2.861131, 4.826075, 10.659053, 15.588253]}]\n"
     ]
    },
    {
     "data": {
      "application/vnd.jupyter.widget-view+json": {
       "model_id": "3e5b3fe6fd5a4af5a310d4d7c70d5e85",
       "version_major": 2,
       "version_minor": 0
      },
      "text/plain": [
       "0it [00:00, ?it/s]"
      ]
     },
     "metadata": {},
     "output_type": "display_data"
    },
    {
     "name": "stdout",
     "output_type": "stream",
     "text": [
      "Linearity ./models_enhancement/model_vimeo11k_MDTVSFA_2000mse_enhance_cheng2020_attn_quality2.ckpt\n"
     ]
    },
    {
     "data": {
      "application/vnd.jupyter.widget-view+json": {
       "model_id": "b0a0716fbc894074b37a5f1c9d26b076",
       "version_major": 2,
       "version_minor": 0
      },
      "text/plain": [
       "0it [00:00, ?it/s]"
      ]
     },
     "metadata": {},
     "output_type": "display_data"
    },
    {
     "data": {
      "application/vnd.jupyter.widget-view+json": {
       "model_id": "c09bf18f4b7b47f793aa6a34b858ee3e",
       "version_major": 2,
       "version_minor": 0
      },
      "text/plain": [
       "0it [00:00, ?it/s]"
      ]
     },
     "metadata": {},
     "output_type": "display_data"
    },
    {
     "data": {
      "application/vnd.jupyter.widget-view+json": {
       "model_id": "8a9dd820fc6e49f3b4503f39c3eb7df6",
       "version_major": 2,
       "version_minor": 0
      },
      "text/plain": [
       "0it [00:00, ?it/s]"
      ]
     },
     "metadata": {},
     "output_type": "display_data"
    },
    {
     "data": {
      "application/vnd.jupyter.widget-view+json": {
       "model_id": "8a85a4ddec5d40e49c297ded68a73979",
       "version_major": 2,
       "version_minor": 0
      },
      "text/plain": [
       "0it [00:00, ?it/s]"
      ]
     },
     "metadata": {},
     "output_type": "display_data"
    },
    {
     "data": {
      "application/vnd.jupyter.widget-view+json": {
       "model_id": "2926f869aaf34b2696d1c006b67a32a5",
       "version_major": 2,
       "version_minor": 0
      },
      "text/plain": [
       "0it [00:00, ?it/s]"
      ]
     },
     "metadata": {},
     "output_type": "display_data"
    },
    {
     "data": {
      "application/vnd.jupyter.widget-view+json": {
       "model_id": "ec2dcafc44694f2ca2c316eb44df3938",
       "version_major": 2,
       "version_minor": 0
      },
      "text/plain": [
       "0it [00:00, ?it/s]"
      ]
     },
     "metadata": {},
     "output_type": "display_data"
    },
    {
     "data": {
      "application/vnd.jupyter.widget-view+json": {
       "model_id": "0bf0f1d1d559473983eb55509383d907",
       "version_major": 2,
       "version_minor": 0
      },
      "text/plain": [
       "0it [00:00, ?it/s]"
      ]
     },
     "metadata": {},
     "output_type": "display_data"
    },
    {
     "data": {
      "application/vnd.jupyter.widget-view+json": {
       "model_id": "ec039289bff3419eaa46e5ccd9b1b142",
       "version_major": 2,
       "version_minor": 0
      },
      "text/plain": [
       "0it [00:00, ?it/s]"
      ]
     },
     "metadata": {},
     "output_type": "display_data"
    },
    {
     "data": {
      "application/vnd.jupyter.widget-view+json": {
       "model_id": "f1ea9f0049ef434f9fd21f8a756454cc",
       "version_major": 2,
       "version_minor": 0
      },
      "text/plain": [
       "0it [00:00, ?it/s]"
      ]
     },
     "metadata": {},
     "output_type": "display_data"
    },
    {
     "data": {
      "application/vnd.jupyter.widget-view+json": {
       "model_id": "f30b2ff0b8ec4380a1d443d44d483670",
       "version_major": 2,
       "version_minor": 0
      },
      "text/plain": [
       "0it [00:00, ?it/s]"
      ]
     },
     "metadata": {},
     "output_type": "display_data"
    },
    {
     "data": {
      "application/vnd.jupyter.widget-view+json": {
       "model_id": "7f75596ccb994fc999b3ec56c1d3a67d",
       "version_major": 2,
       "version_minor": 0
      },
      "text/plain": [
       "0it [00:00, ?it/s]"
      ]
     },
     "metadata": {},
     "output_type": "display_data"
    },
    {
     "data": {
      "application/vnd.jupyter.widget-view+json": {
       "model_id": "132a22eaadea44bca9a01eb5de8c6757",
       "version_major": 2,
       "version_minor": 0
      },
      "text/plain": [
       "0it [00:00, ?it/s]"
      ]
     },
     "metadata": {},
     "output_type": "display_data"
    },
    {
     "data": {
      "application/vnd.jupyter.widget-view+json": {
       "model_id": "244ffe2b742544e39d16cc4385528833",
       "version_major": 2,
       "version_minor": 0
      },
      "text/plain": [
       "0it [00:00, ?it/s]"
      ]
     },
     "metadata": {},
     "output_type": "display_data"
    },
    {
     "data": {
      "application/vnd.jupyter.widget-view+json": {
       "model_id": "520e10bc3d494e7da7048c67d2ebb0c4",
       "version_major": 2,
       "version_minor": 0
      },
      "text/plain": [
       "0it [00:00, ?it/s]"
      ]
     },
     "metadata": {},
     "output_type": "display_data"
    },
    {
     "data": {
      "application/vnd.jupyter.widget-view+json": {
       "model_id": "7745bc26e9a249019ca45867a58ec19a",
       "version_major": 2,
       "version_minor": 0
      },
      "text/plain": [
       "0it [00:00, ?it/s]"
      ]
     },
     "metadata": {},
     "output_type": "display_data"
    },
    {
     "data": {
      "application/vnd.jupyter.widget-view+json": {
       "model_id": "8980307e7339497a8e77200dc68fb07b",
       "version_major": 2,
       "version_minor": 0
      },
      "text/plain": [
       "0it [00:00, ?it/s]"
      ]
     },
     "metadata": {},
     "output_type": "display_data"
    },
    {
     "data": {
      "application/vnd.jupyter.widget-view+json": {
       "model_id": "d3158ea0d97e4136b285a95469051c21",
       "version_major": 2,
       "version_minor": 0
      },
      "text/plain": [
       "0it [00:00, ?it/s]"
      ]
     },
     "metadata": {},
     "output_type": "display_data"
    },
    {
     "data": {
      "application/vnd.jupyter.widget-view+json": {
       "model_id": "4282b3482b3e4855bb279a82d73dc4bb",
       "version_major": 2,
       "version_minor": 0
      },
      "text/plain": [
       "0it [00:00, ?it/s]"
      ]
     },
     "metadata": {},
     "output_type": "display_data"
    },
    {
     "data": {
      "application/vnd.jupyter.widget-view+json": {
       "model_id": "15a89ed9c5814014a443eb266d6a8a8e",
       "version_major": 2,
       "version_minor": 0
      },
      "text/plain": [
       "0it [00:00, ?it/s]"
      ]
     },
     "metadata": {},
     "output_type": "display_data"
    },
    {
     "data": {
      "application/vnd.jupyter.widget-view+json": {
       "model_id": "182e6e422375435db2d0ad773bcf2d55",
       "version_major": 2,
       "version_minor": 0
      },
      "text/plain": [
       "0it [00:00, ?it/s]"
      ]
     },
     "metadata": {},
     "output_type": "display_data"
    },
    {
     "name": "stdout",
     "output_type": "stream",
     "text": [
      "[{'mse_loss': [0.004442066, 0.0031226422, 0.002264556, 0.0011454237, 0.0005163242, 0.0002973791, 0.00024417537, 0.00022025252, 0.00021866336, 0.0002121516], 'bpp_loss': [0.021601094, 0.021601094, 0.021601094, 0.021601094, 0.021601094, 0.021601094, 0.021601094, 0.021601094, 0.021601094, 0.021601094], 'loss_classic': [2.9100544, 2.0520992, 1.4941287, 0.76641285, 0.35734087, 0.21497184, 0.18037614, 0.16482031, 0.16378695, 0.15955266], 'PSNR': [23.573553, 25.153934, 26.628002, 29.551586, 32.916775, 35.291523, 36.1472, 36.61695, 36.79435, 37.054665], 'Linearity': [0.6248872, 0.59732383, 0.52018815, 0.40713108, 0.31191772, 0.25646725, 0.24318767, 0.25791168, 0.2664888, 0.27054268], 'loss': [1249.7788, 1194.6509, 1040.3787, 814.2633, 623.83594, 512.9348, 486.3756, 515.8236, 532.97784, 541.0856], 'bitrate': [0.091509, 0.172956, 0.272343, 0.4618, 0.832178, 1.572128, 2.4494, 4.411953, 9.494778, 14.538178]}]\n",
      "MDTVSFA ./models_enhancement/model_vimeo11k_PAC2PIC_2000mse_enhance_cheng2020_attn_quality2_fixed_direction.ckpt\n"
     ]
    },
    {
     "data": {
      "application/vnd.jupyter.widget-view+json": {
       "model_id": "7b476f82f0504fbca22c858a6149d08a",
       "version_major": 2,
       "version_minor": 0
      },
      "text/plain": [
       "0it [00:00, ?it/s]"
      ]
     },
     "metadata": {},
     "output_type": "display_data"
    },
    {
     "data": {
      "application/vnd.jupyter.widget-view+json": {
       "model_id": "767bb3669ed54f828dd4f948b860744d",
       "version_major": 2,
       "version_minor": 0
      },
      "text/plain": [
       "0it [00:00, ?it/s]"
      ]
     },
     "metadata": {},
     "output_type": "display_data"
    },
    {
     "data": {
      "application/vnd.jupyter.widget-view+json": {
       "model_id": "10973228f6ca4366b8e09086bb5fc518",
       "version_major": 2,
       "version_minor": 0
      },
      "text/plain": [
       "0it [00:00, ?it/s]"
      ]
     },
     "metadata": {},
     "output_type": "display_data"
    },
    {
     "data": {
      "application/vnd.jupyter.widget-view+json": {
       "model_id": "ad9bc7077e8d48d79f71b5cbfa762d66",
       "version_major": 2,
       "version_minor": 0
      },
      "text/plain": [
       "0it [00:00, ?it/s]"
      ]
     },
     "metadata": {},
     "output_type": "display_data"
    },
    {
     "data": {
      "application/vnd.jupyter.widget-view+json": {
       "model_id": "cb50242800a6459d890acffeadc5e5c6",
       "version_major": 2,
       "version_minor": 0
      },
      "text/plain": [
       "0it [00:00, ?it/s]"
      ]
     },
     "metadata": {},
     "output_type": "display_data"
    },
    {
     "data": {
      "application/vnd.jupyter.widget-view+json": {
       "model_id": "757eb1b1b04a4e75aec08a4d5f7810a5",
       "version_major": 2,
       "version_minor": 0
      },
      "text/plain": [
       "0it [00:00, ?it/s]"
      ]
     },
     "metadata": {},
     "output_type": "display_data"
    },
    {
     "data": {
      "application/vnd.jupyter.widget-view+json": {
       "model_id": "843180cd65b244e3ae412dc675385632",
       "version_major": 2,
       "version_minor": 0
      },
      "text/plain": [
       "0it [00:00, ?it/s]"
      ]
     },
     "metadata": {},
     "output_type": "display_data"
    },
    {
     "data": {
      "application/vnd.jupyter.widget-view+json": {
       "model_id": "b328de056516460fb0ed242b183145c4",
       "version_major": 2,
       "version_minor": 0
      },
      "text/plain": [
       "0it [00:00, ?it/s]"
      ]
     },
     "metadata": {},
     "output_type": "display_data"
    },
    {
     "data": {
      "application/vnd.jupyter.widget-view+json": {
       "model_id": "660a7b65c22d4e618f6db25e2f326f11",
       "version_major": 2,
       "version_minor": 0
      },
      "text/plain": [
       "0it [00:00, ?it/s]"
      ]
     },
     "metadata": {},
     "output_type": "display_data"
    },
    {
     "data": {
      "application/vnd.jupyter.widget-view+json": {
       "model_id": "a574cd093ec9432b83c4e922d8a74690",
       "version_major": 2,
       "version_minor": 0
      },
      "text/plain": [
       "0it [00:00, ?it/s]"
      ]
     },
     "metadata": {},
     "output_type": "display_data"
    },
    {
     "data": {
      "application/vnd.jupyter.widget-view+json": {
       "model_id": "f16ab24b01b24c55aff070dd2e0e1f11",
       "version_major": 2,
       "version_minor": 0
      },
      "text/plain": [
       "0it [00:00, ?it/s]"
      ]
     },
     "metadata": {},
     "output_type": "display_data"
    },
    {
     "data": {
      "application/vnd.jupyter.widget-view+json": {
       "model_id": "01b6fd6e339e4e64ae6b164566349888",
       "version_major": 2,
       "version_minor": 0
      },
      "text/plain": [
       "0it [00:00, ?it/s]"
      ]
     },
     "metadata": {},
     "output_type": "display_data"
    },
    {
     "data": {
      "application/vnd.jupyter.widget-view+json": {
       "model_id": "f109e98196974bf8b5c1646f0a59fa75",
       "version_major": 2,
       "version_minor": 0
      },
      "text/plain": [
       "0it [00:00, ?it/s]"
      ]
     },
     "metadata": {},
     "output_type": "display_data"
    },
    {
     "data": {
      "application/vnd.jupyter.widget-view+json": {
       "model_id": "3f2e0c74c0c14ff4a810c9587d565fb1",
       "version_major": 2,
       "version_minor": 0
      },
      "text/plain": [
       "0it [00:00, ?it/s]"
      ]
     },
     "metadata": {},
     "output_type": "display_data"
    },
    {
     "data": {
      "application/vnd.jupyter.widget-view+json": {
       "model_id": "918f664fb038495a9face3ae0ffd0389",
       "version_major": 2,
       "version_minor": 0
      },
      "text/plain": [
       "0it [00:00, ?it/s]"
      ]
     },
     "metadata": {},
     "output_type": "display_data"
    },
    {
     "data": {
      "application/vnd.jupyter.widget-view+json": {
       "model_id": "a504fb3e607340f48d6e6c4219927e81",
       "version_major": 2,
       "version_minor": 0
      },
      "text/plain": [
       "0it [00:00, ?it/s]"
      ]
     },
     "metadata": {},
     "output_type": "display_data"
    },
    {
     "data": {
      "application/vnd.jupyter.widget-view+json": {
       "model_id": "41e0de6b89d848f182a9c382c9fb4c57",
       "version_major": 2,
       "version_minor": 0
      },
      "text/plain": [
       "0it [00:00, ?it/s]"
      ]
     },
     "metadata": {},
     "output_type": "display_data"
    },
    {
     "data": {
      "application/vnd.jupyter.widget-view+json": {
       "model_id": "f732fa1b009f4d9bb9206cfbb11b1baa",
       "version_major": 2,
       "version_minor": 0
      },
      "text/plain": [
       "0it [00:00, ?it/s]"
      ]
     },
     "metadata": {},
     "output_type": "display_data"
    },
    {
     "data": {
      "application/vnd.jupyter.widget-view+json": {
       "model_id": "67413d54106442e59d6db3460e9fcf9f",
       "version_major": 2,
       "version_minor": 0
      },
      "text/plain": [
       "0it [00:00, ?it/s]"
      ]
     },
     "metadata": {},
     "output_type": "display_data"
    },
    {
     "data": {
      "application/vnd.jupyter.widget-view+json": {
       "model_id": "58ae9d3fd4b1400c85977d4d01683fd4",
       "version_major": 2,
       "version_minor": 0
      },
      "text/plain": [
       "0it [00:00, ?it/s]"
      ]
     },
     "metadata": {},
     "output_type": "display_data"
    },
    {
     "name": "stdout",
     "output_type": "stream",
     "text": [
      "[{'mse_loss': [0.004442066, 0.0031226422, 0.002264556, 0.0011454237, 0.0005163242, 0.0002973791, 0.00024417537, 0.00022025252, 0.00021866336, 0.0002121516], 'bpp_loss': [0.021601094, 0.021601094, 0.021601094, 0.021601094, 0.021601094, 0.021601094, 0.021601094, 0.021601094, 0.021601094, 0.021601094], 'loss_classic': [2.9100544, 2.0520992, 1.4941287, 0.76641285, 0.35734087, 0.21497184, 0.18037614, 0.16482031, 0.16378695, 0.15955266], 'PSNR': [23.573553, 25.153934, 26.628002, 29.551586, 32.916775, 35.291523, 36.1472, 36.61695, 36.79435, 37.054665], 'MDTVSFA': [-0.41667187, -0.43087503, -0.4498806, -0.4727012, -0.49057022, -0.5045395, -0.5089867, -0.51231205, -0.51345927, -0.51483667], 'loss': [-833.33923, -861.747, -899.7589, -945.40125, -981.1399, -1009.07874, -1017.97314, -1024.6238, -1026.9183, -1029.6731], 'bitrate': [0.091509, 0.172956, 0.272343, 0.4618, 0.832178, 1.572128, 2.4494, 4.411953, 9.494778, 14.538178]}]\n",
      "PAC2PIQ ./models_enhancement/model_vimeo11k_SPAQ_2000mse_enhance_cheng2020_attn_quality2_fixed_direction.ckpt\n"
     ]
    },
    {
     "data": {
      "application/vnd.jupyter.widget-view+json": {
       "model_id": "37c4da6093384cf4a4afbb38c38cab23",
       "version_major": 2,
       "version_minor": 0
      },
      "text/plain": [
       "0it [00:00, ?it/s]"
      ]
     },
     "metadata": {},
     "output_type": "display_data"
    },
    {
     "data": {
      "application/vnd.jupyter.widget-view+json": {
       "model_id": "6f3d89973f9742bcb6e2caa1fca1281b",
       "version_major": 2,
       "version_minor": 0
      },
      "text/plain": [
       "0it [00:00, ?it/s]"
      ]
     },
     "metadata": {},
     "output_type": "display_data"
    },
    {
     "data": {
      "application/vnd.jupyter.widget-view+json": {
       "model_id": "4cab3c3a82bc4fa0976963db6d409f02",
       "version_major": 2,
       "version_minor": 0
      },
      "text/plain": [
       "0it [00:00, ?it/s]"
      ]
     },
     "metadata": {},
     "output_type": "display_data"
    },
    {
     "data": {
      "application/vnd.jupyter.widget-view+json": {
       "model_id": "d33caf4d8ab840ec999f81414c256eaa",
       "version_major": 2,
       "version_minor": 0
      },
      "text/plain": [
       "0it [00:00, ?it/s]"
      ]
     },
     "metadata": {},
     "output_type": "display_data"
    },
    {
     "data": {
      "application/vnd.jupyter.widget-view+json": {
       "model_id": "9cf3de99963c4282a0d7e4e3531817da",
       "version_major": 2,
       "version_minor": 0
      },
      "text/plain": [
       "0it [00:00, ?it/s]"
      ]
     },
     "metadata": {},
     "output_type": "display_data"
    },
    {
     "data": {
      "application/vnd.jupyter.widget-view+json": {
       "model_id": "59fabf0d2be84f28a525a8332ca0bfc7",
       "version_major": 2,
       "version_minor": 0
      },
      "text/plain": [
       "0it [00:00, ?it/s]"
      ]
     },
     "metadata": {},
     "output_type": "display_data"
    },
    {
     "data": {
      "application/vnd.jupyter.widget-view+json": {
       "model_id": "be470ec5657441b0aea31bafe84e3eb1",
       "version_major": 2,
       "version_minor": 0
      },
      "text/plain": [
       "0it [00:00, ?it/s]"
      ]
     },
     "metadata": {},
     "output_type": "display_data"
    },
    {
     "data": {
      "application/vnd.jupyter.widget-view+json": {
       "model_id": "7cb4df77ff8a41239db07a36132c7722",
       "version_major": 2,
       "version_minor": 0
      },
      "text/plain": [
       "0it [00:00, ?it/s]"
      ]
     },
     "metadata": {},
     "output_type": "display_data"
    },
    {
     "data": {
      "application/vnd.jupyter.widget-view+json": {
       "model_id": "263b4646c92e442e8afe1da72452fef0",
       "version_major": 2,
       "version_minor": 0
      },
      "text/plain": [
       "0it [00:00, ?it/s]"
      ]
     },
     "metadata": {},
     "output_type": "display_data"
    },
    {
     "data": {
      "application/vnd.jupyter.widget-view+json": {
       "model_id": "5f1ae1ef95a34bb7b7a1b103940e1222",
       "version_major": 2,
       "version_minor": 0
      },
      "text/plain": [
       "0it [00:00, ?it/s]"
      ]
     },
     "metadata": {},
     "output_type": "display_data"
    },
    {
     "data": {
      "application/vnd.jupyter.widget-view+json": {
       "model_id": "ec74d8a196304a74bd6641477aead0ed",
       "version_major": 2,
       "version_minor": 0
      },
      "text/plain": [
       "0it [00:00, ?it/s]"
      ]
     },
     "metadata": {},
     "output_type": "display_data"
    },
    {
     "data": {
      "application/vnd.jupyter.widget-view+json": {
       "model_id": "6d6d80a5220142ad9724fa0955798c13",
       "version_major": 2,
       "version_minor": 0
      },
      "text/plain": [
       "0it [00:00, ?it/s]"
      ]
     },
     "metadata": {},
     "output_type": "display_data"
    },
    {
     "data": {
      "application/vnd.jupyter.widget-view+json": {
       "model_id": "0f2845a6a7d54d52b2f98a81c91e8736",
       "version_major": 2,
       "version_minor": 0
      },
      "text/plain": [
       "0it [00:00, ?it/s]"
      ]
     },
     "metadata": {},
     "output_type": "display_data"
    },
    {
     "data": {
      "application/vnd.jupyter.widget-view+json": {
       "model_id": "c5185a3138ff4b41a53c71be68c983f9",
       "version_major": 2,
       "version_minor": 0
      },
      "text/plain": [
       "0it [00:00, ?it/s]"
      ]
     },
     "metadata": {},
     "output_type": "display_data"
    },
    {
     "data": {
      "application/vnd.jupyter.widget-view+json": {
       "model_id": "3c03dbb59f0349b78411808246717bc4",
       "version_major": 2,
       "version_minor": 0
      },
      "text/plain": [
       "0it [00:00, ?it/s]"
      ]
     },
     "metadata": {},
     "output_type": "display_data"
    },
    {
     "data": {
      "application/vnd.jupyter.widget-view+json": {
       "model_id": "9ae55cb644cb4a18b034a2f251ec5844",
       "version_major": 2,
       "version_minor": 0
      },
      "text/plain": [
       "0it [00:00, ?it/s]"
      ]
     },
     "metadata": {},
     "output_type": "display_data"
    },
    {
     "data": {
      "application/vnd.jupyter.widget-view+json": {
       "model_id": "97dd9e57a15241d3815f12fb048cfe88",
       "version_major": 2,
       "version_minor": 0
      },
      "text/plain": [
       "0it [00:00, ?it/s]"
      ]
     },
     "metadata": {},
     "output_type": "display_data"
    },
    {
     "data": {
      "application/vnd.jupyter.widget-view+json": {
       "model_id": "756a7acf6fd340648d20961881b2a15b",
       "version_major": 2,
       "version_minor": 0
      },
      "text/plain": [
       "0it [00:00, ?it/s]"
      ]
     },
     "metadata": {},
     "output_type": "display_data"
    },
    {
     "data": {
      "application/vnd.jupyter.widget-view+json": {
       "model_id": "32befd162519475a9ef5f3b910025fac",
       "version_major": 2,
       "version_minor": 0
      },
      "text/plain": [
       "0it [00:00, ?it/s]"
      ]
     },
     "metadata": {},
     "output_type": "display_data"
    },
    {
     "data": {
      "application/vnd.jupyter.widget-view+json": {
       "model_id": "158838e17e064015ae4863d868f2f46c",
       "version_major": 2,
       "version_minor": 0
      },
      "text/plain": [
       "0it [00:00, ?it/s]"
      ]
     },
     "metadata": {},
     "output_type": "display_data"
    },
    {
     "name": "stdout",
     "output_type": "stream",
     "text": [
      "[{'mse_loss': [0.004442066, 0.0031226422, 0.002264556, 0.0011454237, 0.0005163242, 0.0002973791, 0.00024417537, 0.00022025252, 0.00021866336, 0.0002121516], 'bpp_loss': [0.021601094, 0.021601094, 0.021601094, 0.021601094, 0.021601094, 0.021601094, 0.021601094, 0.021601094, 0.021601094, 0.021601094], 'loss_classic': [2.9100544, 2.0520992, 1.4941287, 0.76641285, 0.35734087, 0.21497184, 0.18037614, 0.16482031, 0.16378695, 0.15955266], 'PSNR': [23.573553, 25.153934, 26.628002, 29.551586, 32.916775, 35.291523, 36.1472, 36.61695, 36.79435, 37.054665], 'PAC2PIQ': [-0.45357454, -0.50613236, -0.5375508, -0.54988146, -0.56283355, -0.5731224, -0.5800121, -0.57736856, -0.57592607, -0.573233], 'loss': [-907.14465, -1012.2616, -1075.0994, -1099.7617, -1125.6666, -1146.2445, -1160.0239, -1154.7369, -1151.8518, -1146.4658], 'bitrate': [0.091509, 0.172956, 0.272343, 0.4618, 0.832178, 1.572128, 2.4494, 4.411953, 9.494778, 14.538178]}]\n",
      "SPAQ ./models_enhancement/model_vimeo11k_VSFA_2000mse_enhance_cheng2020_attn_quality2_fixed_direction.ckpt\n"
     ]
    },
    {
     "data": {
      "application/vnd.jupyter.widget-view+json": {
       "model_id": "d46fe3fd588c43ca9548e2904282e829",
       "version_major": 2,
       "version_minor": 0
      },
      "text/plain": [
       "0it [00:00, ?it/s]"
      ]
     },
     "metadata": {},
     "output_type": "display_data"
    },
    {
     "data": {
      "application/vnd.jupyter.widget-view+json": {
       "model_id": "8f647c4d72684878885507450880bf3e",
       "version_major": 2,
       "version_minor": 0
      },
      "text/plain": [
       "0it [00:00, ?it/s]"
      ]
     },
     "metadata": {},
     "output_type": "display_data"
    },
    {
     "data": {
      "application/vnd.jupyter.widget-view+json": {
       "model_id": "87f885cbdf014ac5a361feb28cd53cf4",
       "version_major": 2,
       "version_minor": 0
      },
      "text/plain": [
       "0it [00:00, ?it/s]"
      ]
     },
     "metadata": {},
     "output_type": "display_data"
    },
    {
     "data": {
      "application/vnd.jupyter.widget-view+json": {
       "model_id": "db6ec2a7fc0747548fb5d3689abf019e",
       "version_major": 2,
       "version_minor": 0
      },
      "text/plain": [
       "0it [00:00, ?it/s]"
      ]
     },
     "metadata": {},
     "output_type": "display_data"
    },
    {
     "data": {
      "application/vnd.jupyter.widget-view+json": {
       "model_id": "cc75dd251dea4b6387570d5c5759ea37",
       "version_major": 2,
       "version_minor": 0
      },
      "text/plain": [
       "0it [00:00, ?it/s]"
      ]
     },
     "metadata": {},
     "output_type": "display_data"
    },
    {
     "data": {
      "application/vnd.jupyter.widget-view+json": {
       "model_id": "41d677345c284fc186f57b53ace459d1",
       "version_major": 2,
       "version_minor": 0
      },
      "text/plain": [
       "0it [00:00, ?it/s]"
      ]
     },
     "metadata": {},
     "output_type": "display_data"
    },
    {
     "data": {
      "application/vnd.jupyter.widget-view+json": {
       "model_id": "6a8e50c833034995b5f88e984a333a8d",
       "version_major": 2,
       "version_minor": 0
      },
      "text/plain": [
       "0it [00:00, ?it/s]"
      ]
     },
     "metadata": {},
     "output_type": "display_data"
    },
    {
     "data": {
      "application/vnd.jupyter.widget-view+json": {
       "model_id": "2480ffd5e1ea4e71a986f61cb7f7c7d5",
       "version_major": 2,
       "version_minor": 0
      },
      "text/plain": [
       "0it [00:00, ?it/s]"
      ]
     },
     "metadata": {},
     "output_type": "display_data"
    },
    {
     "data": {
      "application/vnd.jupyter.widget-view+json": {
       "model_id": "5eb5afdc0e3b4985a6f7373701d4b604",
       "version_major": 2,
       "version_minor": 0
      },
      "text/plain": [
       "0it [00:00, ?it/s]"
      ]
     },
     "metadata": {},
     "output_type": "display_data"
    },
    {
     "data": {
      "application/vnd.jupyter.widget-view+json": {
       "model_id": "9e0ae4f02c434cfeb2d5ac4e8ff6ecac",
       "version_major": 2,
       "version_minor": 0
      },
      "text/plain": [
       "0it [00:00, ?it/s]"
      ]
     },
     "metadata": {},
     "output_type": "display_data"
    },
    {
     "data": {
      "application/vnd.jupyter.widget-view+json": {
       "model_id": "edb10ee0fde74f93a55b5dba7d1a4b2d",
       "version_major": 2,
       "version_minor": 0
      },
      "text/plain": [
       "0it [00:00, ?it/s]"
      ]
     },
     "metadata": {},
     "output_type": "display_data"
    },
    {
     "data": {
      "application/vnd.jupyter.widget-view+json": {
       "model_id": "84de7e5672c74cc3ad739ba24c9afcf1",
       "version_major": 2,
       "version_minor": 0
      },
      "text/plain": [
       "0it [00:00, ?it/s]"
      ]
     },
     "metadata": {},
     "output_type": "display_data"
    },
    {
     "data": {
      "application/vnd.jupyter.widget-view+json": {
       "model_id": "2338cde330d64d8aba15ce5729ba411b",
       "version_major": 2,
       "version_minor": 0
      },
      "text/plain": [
       "0it [00:00, ?it/s]"
      ]
     },
     "metadata": {},
     "output_type": "display_data"
    },
    {
     "data": {
      "application/vnd.jupyter.widget-view+json": {
       "model_id": "825714371209473194530fde337edd1a",
       "version_major": 2,
       "version_minor": 0
      },
      "text/plain": [
       "0it [00:00, ?it/s]"
      ]
     },
     "metadata": {},
     "output_type": "display_data"
    },
    {
     "data": {
      "application/vnd.jupyter.widget-view+json": {
       "model_id": "cfcf8dfe38b14f598efd1277f2015293",
       "version_major": 2,
       "version_minor": 0
      },
      "text/plain": [
       "0it [00:00, ?it/s]"
      ]
     },
     "metadata": {},
     "output_type": "display_data"
    },
    {
     "data": {
      "application/vnd.jupyter.widget-view+json": {
       "model_id": "22f4580080bf4087b04621500c59a89a",
       "version_major": 2,
       "version_minor": 0
      },
      "text/plain": [
       "0it [00:00, ?it/s]"
      ]
     },
     "metadata": {},
     "output_type": "display_data"
    },
    {
     "data": {
      "application/vnd.jupyter.widget-view+json": {
       "model_id": "6dbfb2d9519c4511a3d3af44e26fc77c",
       "version_major": 2,
       "version_minor": 0
      },
      "text/plain": [
       "0it [00:00, ?it/s]"
      ]
     },
     "metadata": {},
     "output_type": "display_data"
    },
    {
     "data": {
      "application/vnd.jupyter.widget-view+json": {
       "model_id": "f6cd35b851da49139c3b930ebba12f89",
       "version_major": 2,
       "version_minor": 0
      },
      "text/plain": [
       "0it [00:00, ?it/s]"
      ]
     },
     "metadata": {},
     "output_type": "display_data"
    },
    {
     "data": {
      "application/vnd.jupyter.widget-view+json": {
       "model_id": "b9cbd869f1714b58b092a9f7f7176035",
       "version_major": 2,
       "version_minor": 0
      },
      "text/plain": [
       "0it [00:00, ?it/s]"
      ]
     },
     "metadata": {},
     "output_type": "display_data"
    },
    {
     "data": {
      "application/vnd.jupyter.widget-view+json": {
       "model_id": "38a4858493284f4c94fc04be286c3aa1",
       "version_major": 2,
       "version_minor": 0
      },
      "text/plain": [
       "0it [00:00, ?it/s]"
      ]
     },
     "metadata": {},
     "output_type": "display_data"
    },
    {
     "name": "stdout",
     "output_type": "stream",
     "text": [
      "[{'mse_loss': [0.004442066, 0.0031226422, 0.002264556, 0.0011454237, 0.0005163242, 0.0002973791, 0.00024417537, 0.00022025252, 0.00021866336, 0.0002121516], 'bpp_loss': [0.021601094, 0.021601094, 0.021601094, 0.021601094, 0.021601094, 0.021601094, 0.021601094, 0.021601094, 0.021601094, 0.021601094], 'loss_classic': [2.9100544, 2.0520992, 1.4941287, 0.76641285, 0.35734087, 0.21497184, 0.18037614, 0.16482031, 0.16378695, 0.15955266], 'PSNR': [23.573553, 25.153934, 26.628002, 29.551586, 32.916775, 35.291523, 36.1472, 36.61695, 36.79435, 37.054665], 'SPAQ': [-0.37128073, -0.4159994, -0.41377747, -0.4299674, -0.4371606, -0.4442852, -0.45095205, -0.45789915, -0.44950694, -0.44682664], 'loss': [-742.557, -831.9957, -827.5527, -859.9336, -874.3208, -888.57007, -901.9039, -915.7981, -899.0136, -893.6531], 'bitrate': [0.091509, 0.172956, 0.272343, 0.4618, 0.832178, 1.572128, 2.4494, 4.411953, 9.494778, 14.538178]}]\n",
      "VSFA ./models_enhancement/model_vimeo11k_Linearity_2000mse_enhance_no_codec_fixed_direction.ckpt\n"
     ]
    },
    {
     "data": {
      "application/vnd.jupyter.widget-view+json": {
       "model_id": "9e317e3fc51745dab0ec7b43a44a98d6",
       "version_major": 2,
       "version_minor": 0
      },
      "text/plain": [
       "0it [00:00, ?it/s]"
      ]
     },
     "metadata": {},
     "output_type": "display_data"
    },
    {
     "data": {
      "application/vnd.jupyter.widget-view+json": {
       "model_id": "fe722f2bf4b5483a9657610c6497d31a",
       "version_major": 2,
       "version_minor": 0
      },
      "text/plain": [
       "0it [00:00, ?it/s]"
      ]
     },
     "metadata": {},
     "output_type": "display_data"
    },
    {
     "data": {
      "application/vnd.jupyter.widget-view+json": {
       "model_id": "ce2310a71a0d4972a77e44ed533a37b7",
       "version_major": 2,
       "version_minor": 0
      },
      "text/plain": [
       "0it [00:00, ?it/s]"
      ]
     },
     "metadata": {},
     "output_type": "display_data"
    },
    {
     "data": {
      "application/vnd.jupyter.widget-view+json": {
       "model_id": "234308cdcd4344af9a416602ef648a67",
       "version_major": 2,
       "version_minor": 0
      },
      "text/plain": [
       "0it [00:00, ?it/s]"
      ]
     },
     "metadata": {},
     "output_type": "display_data"
    },
    {
     "data": {
      "application/vnd.jupyter.widget-view+json": {
       "model_id": "c43ea1f8e4f7427c82ee6ae1e648307b",
       "version_major": 2,
       "version_minor": 0
      },
      "text/plain": [
       "0it [00:00, ?it/s]"
      ]
     },
     "metadata": {},
     "output_type": "display_data"
    },
    {
     "data": {
      "application/vnd.jupyter.widget-view+json": {
       "model_id": "446555c9a9f449c3b2823ffdbd3cac0f",
       "version_major": 2,
       "version_minor": 0
      },
      "text/plain": [
       "0it [00:00, ?it/s]"
      ]
     },
     "metadata": {},
     "output_type": "display_data"
    },
    {
     "data": {
      "application/vnd.jupyter.widget-view+json": {
       "model_id": "c6a72590277f4fce93dcec8438e7c71d",
       "version_major": 2,
       "version_minor": 0
      },
      "text/plain": [
       "0it [00:00, ?it/s]"
      ]
     },
     "metadata": {},
     "output_type": "display_data"
    },
    {
     "data": {
      "application/vnd.jupyter.widget-view+json": {
       "model_id": "83d13ee65f6c4d53bc7150f3dd8b8df3",
       "version_major": 2,
       "version_minor": 0
      },
      "text/plain": [
       "0it [00:00, ?it/s]"
      ]
     },
     "metadata": {},
     "output_type": "display_data"
    },
    {
     "data": {
      "application/vnd.jupyter.widget-view+json": {
       "model_id": "df80421c91bc4a38872e8aa5dc53a7ab",
       "version_major": 2,
       "version_minor": 0
      },
      "text/plain": [
       "0it [00:00, ?it/s]"
      ]
     },
     "metadata": {},
     "output_type": "display_data"
    },
    {
     "data": {
      "application/vnd.jupyter.widget-view+json": {
       "model_id": "7d0530c111d048179475ed63c2f0474b",
       "version_major": 2,
       "version_minor": 0
      },
      "text/plain": [
       "0it [00:00, ?it/s]"
      ]
     },
     "metadata": {},
     "output_type": "display_data"
    },
    {
     "data": {
      "application/vnd.jupyter.widget-view+json": {
       "model_id": "a50ed3e670854a47a400f87c4ca68adc",
       "version_major": 2,
       "version_minor": 0
      },
      "text/plain": [
       "0it [00:00, ?it/s]"
      ]
     },
     "metadata": {},
     "output_type": "display_data"
    },
    {
     "data": {
      "application/vnd.jupyter.widget-view+json": {
       "model_id": "9b9566cb3de3415db2bfe3fb0701f6e4",
       "version_major": 2,
       "version_minor": 0
      },
      "text/plain": [
       "0it [00:00, ?it/s]"
      ]
     },
     "metadata": {},
     "output_type": "display_data"
    },
    {
     "data": {
      "application/vnd.jupyter.widget-view+json": {
       "model_id": "b9a253d0c36b47b986e5af520c20c487",
       "version_major": 2,
       "version_minor": 0
      },
      "text/plain": [
       "0it [00:00, ?it/s]"
      ]
     },
     "metadata": {},
     "output_type": "display_data"
    },
    {
     "data": {
      "application/vnd.jupyter.widget-view+json": {
       "model_id": "d48d98a161fa4f5480ddcdcfa6fb3667",
       "version_major": 2,
       "version_minor": 0
      },
      "text/plain": [
       "0it [00:00, ?it/s]"
      ]
     },
     "metadata": {},
     "output_type": "display_data"
    },
    {
     "data": {
      "application/vnd.jupyter.widget-view+json": {
       "model_id": "d45bed9ef3864e3098a37a01837bfdcc",
       "version_major": 2,
       "version_minor": 0
      },
      "text/plain": [
       "0it [00:00, ?it/s]"
      ]
     },
     "metadata": {},
     "output_type": "display_data"
    },
    {
     "data": {
      "application/vnd.jupyter.widget-view+json": {
       "model_id": "b8d44fdd74d944759b81467e4f9f20a1",
       "version_major": 2,
       "version_minor": 0
      },
      "text/plain": [
       "0it [00:00, ?it/s]"
      ]
     },
     "metadata": {},
     "output_type": "display_data"
    },
    {
     "data": {
      "application/vnd.jupyter.widget-view+json": {
       "model_id": "8f0b3e11bb8342ef9b376e706523561d",
       "version_major": 2,
       "version_minor": 0
      },
      "text/plain": [
       "0it [00:00, ?it/s]"
      ]
     },
     "metadata": {},
     "output_type": "display_data"
    },
    {
     "data": {
      "application/vnd.jupyter.widget-view+json": {
       "model_id": "dccc520a04bc46a6a64187db0c1a8626",
       "version_major": 2,
       "version_minor": 0
      },
      "text/plain": [
       "0it [00:00, ?it/s]"
      ]
     },
     "metadata": {},
     "output_type": "display_data"
    },
    {
     "data": {
      "application/vnd.jupyter.widget-view+json": {
       "model_id": "42c44e9f71c0421aab60cecf5b9b6fef",
       "version_major": 2,
       "version_minor": 0
      },
      "text/plain": [
       "0it [00:00, ?it/s]"
      ]
     },
     "metadata": {},
     "output_type": "display_data"
    },
    {
     "data": {
      "application/vnd.jupyter.widget-view+json": {
       "model_id": "ef6ce80190da41188c0c0b44d709b79e",
       "version_major": 2,
       "version_minor": 0
      },
      "text/plain": [
       "0it [00:00, ?it/s]"
      ]
     },
     "metadata": {},
     "output_type": "display_data"
    },
    {
     "name": "stdout",
     "output_type": "stream",
     "text": [
      "[{'mse_loss': [0.004442066, 0.0031226424, 0.002264556, 0.0011454236, 0.00051632413, 0.0002973791, 0.0002441754, 0.00022025258, 0.0002186634, 0.00021215164], 'bpp_loss': [0.010800547, 0.010800547, 0.010800547, 0.010800547, 0.010800547, 0.010800547, 0.010800547, 0.010800547, 0.010800547, 0.010800547], 'loss_classic': [2.8992538, 2.0412989, 1.4833281, 0.75561225, 0.34654033, 0.2041713, 0.1695756, 0.15401977, 0.1529864, 0.14875215], 'PSNR': [23.570898, 25.139523, 26.608728, 29.535534, 32.912125, 35.289757, 36.144688, 36.60641, 36.75998, 37.01198], 'VSFA': [-0.3437705, -0.3682469, -0.37402463, -0.394907, -0.40786493, -0.4084797, -0.4092607, -0.4104792, -0.41297874, -0.41489294], 'loss': [-687.5366, -736.4907, -748.04694, -789.81287, -815.7293, -816.95905, -818.5211, -820.9581, -825.9573, -829.78564], 'bitrate': [0.091509, 0.172956, 0.272343, 0.4618, 0.832178, 1.572128, 2.4494, 4.411953, 9.494778, 14.538178]}]\n",
      "\n"
     ]
    },
    {
     "data": {
      "text/html": [
       "Waiting for W&B process to finish... <strong style=\"color:green\">(success).</strong>"
      ],
      "text/plain": [
       "<IPython.core.display.HTML object>"
      ]
     },
     "metadata": {},
     "output_type": "display_data"
    },
    {
     "data": {
      "application/vnd.jupyter.widget-view+json": {
       "model_id": "",
       "version_major": 2,
       "version_minor": 0
      },
      "text/plain": [
       "VBox(children=(Label(value='0.147 MB of 0.148 MB uploaded (0.000 MB deduped)\\r'), FloatProgress(value=0.990607…"
      ]
     },
     "metadata": {},
     "output_type": "display_data"
    },
    {
     "data": {
      "text/html": [
       "Synced <strong style=\"color:#cdcd00\">RD_curves_all_met_18_03Without Preprocessing</strong>: <a href=\"https://wandb.ai/havent_invented/Whitebox_strong_metrics_attacks/runs/3k21kp7l\" target=\"_blank\">https://wandb.ai/havent_invented/Whitebox_strong_metrics_attacks/runs/3k21kp7l</a><br/>Synced 7 W&B file(s), 35 media file(s), 35 artifact file(s) and 2 other file(s)"
      ],
      "text/plain": [
       "<IPython.core.display.HTML object>"
      ]
     },
     "metadata": {},
     "output_type": "display_data"
    },
    {
     "data": {
      "text/html": [
       "Find logs at: <code>.\\wandb\\run-20220320_052139-3k21kp7l\\logs</code>"
      ],
      "text/plain": [
       "<IPython.core.display.HTML object>"
      ]
     },
     "metadata": {},
     "output_type": "display_data"
    },
    {
     "name": "stdout",
     "output_type": "stream",
     "text": [
      "[[[{'mse_loss': [0.003761526, 0.0022537024, 0.0015512533, 0.00091297226, 0.00046287983, 0.0002791155, 0.00022671149, 0.00019999941, 0.00018672063, 0.00017199243], 'bpp_loss': [0.021601094, 0.021601094, 0.021601094, 0.021601094, 0.021601094, 0.021601094, 0.021601094, 0.021601094, 0.021601094, 0.021601094], 'loss_classic': [2.4675333, 1.4870713, 1.0303035, 0.6152613, 0.32258868, 0.20309597, 0.16902025, 0.15165071, 0.14301617, 0.13343918], 'PSNR': [24.301882, 26.550669, 28.171638, 30.460445, 33.400444, 35.58738, 36.4852, 37.067566, 37.52347, 37.957916], 'Linearity': [0.45339638, 0.40311885, 0.32244512, 0.1467707, -0.023824617, -0.14573695, -0.17144683, -0.16694605, -0.15692464, -0.15566349], 'loss': [906.7965, 806.2399, 644.89185, 293.5423, -47.648773, -291.47363, -342.89343, -333.8919, -313.8491, -311.32678], 'bitrate': [0.100881, 0.172306, 0.263106, 0.429271, 0.825821, 1.681812, 2.59339, 4.593584, 9.852437, 14.188521]}], [{'mse_loss': [0.003761526, 0.0022537024, 0.0015512533, 0.00091297226, 0.00046287983, 0.0002791155, 0.00022671149, 0.00019999941, 0.00018672063, 0.00017199243], 'bpp_loss': [0.021601094, 0.021601094, 0.021601094, 0.021601094, 0.021601094, 0.021601094, 0.021601094, 0.021601094, 0.021601094, 0.021601094], 'loss_classic': [2.4675333, 1.4870713, 1.0303035, 0.6152613, 0.32258868, 0.20309597, 0.16902025, 0.15165071, 0.14301617, 0.13343918], 'PSNR': [24.301882, 26.550669, 28.171638, 30.460445, 33.400444, 35.58738, 36.4852, 37.067566, 37.52347, 37.957916], 'MDTVSFA': [-0.44870508, -0.47278503, -0.485685, -0.50394565, -0.515102, -0.5236566, -0.526125, -0.52738714, -0.5274074, -0.52813506], 'loss': [-897.4064, -945.56775, -971.36847, -1007.8904, -1030.2035, -1047.3129, -1052.2498, -1054.774, -1054.8146, -1056.2699], 'bitrate': [0.100881, 0.172306, 0.263106, 0.429271, 0.825821, 1.681812, 2.59339, 4.593584, 9.852437, 14.188521]}], [{'mse_loss': [0.003761526, 0.0022537024, 0.0015512533, 0.00091297226, 0.00046287983, 0.0002791155, 0.00022671149, 0.00019999941, 0.00018672063, 0.00017199243], 'bpp_loss': [0.021601094, 0.021601094, 0.021601094, 0.021601094, 0.021601094, 0.021601094, 0.021601094, 0.021601094, 0.021601094, 0.021601094], 'loss_classic': [2.4675333, 1.4870713, 1.0303035, 0.6152613, 0.32258868, 0.20309597, 0.16902025, 0.15165071, 0.14301617, 0.13343918], 'PSNR': [24.301882, 26.550669, 28.171638, 30.460445, 33.400444, 35.58738, 36.4852, 37.067566, 37.52347, 37.957916], 'PAC2PIQ': [-0.49286443, -0.56116676, -0.6120634, -0.66599584, -0.705251, -0.71799374, -0.7174728, -0.7135598, -0.7102464, -0.70892775], 'loss': [-985.7252, -1122.3313, -1224.1251, -1331.9907, -1410.5015, -1435.9872, -1434.9453, -1427.1194, -1420.4926, -1417.8553], 'bitrate': [0.100881, 0.172306, 0.263106, 0.429271, 0.825821, 1.681812, 2.59339, 4.593584, 9.852437, 14.188521]}], [{'mse_loss': [0.003761526, 0.0022537024, 0.0015512533, 0.00091297226, 0.00046287983, 0.0002791155, 0.00022671149, 0.00019999941, 0.00018672063, 0.00017199243], 'bpp_loss': [0.021601094, 0.021601094, 0.021601094, 0.021601094, 0.021601094, 0.021601094, 0.021601094, 0.021601094, 0.021601094, 0.021601094], 'loss_classic': [2.4675333, 1.4870713, 1.0303035, 0.6152613, 0.32258868, 0.20309597, 0.16902025, 0.15165071, 0.14301617, 0.13343918], 'PSNR': [24.301882, 26.550669, 28.171638, 30.460445, 33.400444, 35.58738, 36.4852, 37.067566, 37.52347, 37.957916], 'SPAQ': [-0.40260553, -0.3983474, -0.3903737, -0.4162528, -0.4233754, -0.43182716, -0.430534, -0.44013584, -0.43401402, -0.43656975], 'loss': [-805.2074, -796.6926, -780.74585, -832.5047, -846.7503, -863.654, -861.06775, -880.2716, -868.02795, -873.1393], 'bitrate': [0.100881, 0.172306, 0.263106, 0.429271, 0.825821, 1.681812, 2.59339, 4.593584, 9.852437, 14.188521]}], [{'mse_loss': [0.0037615257, 0.0022537024, 0.0015512533, 0.00091297226, 0.0004628798, 0.00027911557, 0.00022671153, 0.00019999946, 0.00018672064, 0.00017199246], 'bpp_loss': [0.010800547, 0.010800547, 0.010800547, 0.010800547, 0.010800547, 0.010800547, 0.010800547, 0.010800547, 0.010800547, 0.010800547], 'loss_classic': [2.4567327, 1.4762707, 1.019503, 0.6044607, 0.31178814, 0.19229542, 0.15821971, 0.14085019, 0.13221565, 0.12263864], 'PSNR': [24.29602, 26.533306, 28.159622, 30.45428, 33.39445, 35.58181, 36.478874, 37.05613, 37.50896, 37.943176], 'VSFA': [-0.39656407, -0.44951862, -0.47302955, -0.5023433, -0.521147, -0.524607, -0.5242802, -0.5270975, -0.5318683, -0.5310252], 'loss': [-793.1244, -899.0349, -946.0576, -1004.68567, -1042.2935, -1049.2136, -1048.5602, -1054.1948, -1063.7363, -1062.0502], 'bitrate': [0.100881, 0.172306, 0.263106, 0.429271, 0.825821, 1.681812, 2.59339, 4.593584, 9.852437, 14.188521]}]], [[{'mse_loss': [0.009055864, 0.009522308, 0.006550546, 0.0033723135, 0.0016641861, 0.0008440167, 0.00056005386, 0.0003145428, 0.00014449364, 9.518399e-05], 'bpp_loss': [0.021601094, 0.021601094, 0.021601094, 0.021601094, 0.021601094, 0.021601094, 0.021601094, 0.021601094, 0.021601094, 0.021601094], 'loss_classic': [5.910177, 6.213482, 4.2810936, 2.214448, 1.1037381, 0.5704229, 0.38577613, 0.22613257, 0.11555809, 0.083494484], 'PSNR': [21.15073, 21.642025, 23.236916, 25.931522, 28.733086, 31.670204, 33.45553, 35.894585, 39.211292, 40.91382], 'Linearity': [0.5999513, 0.58077073, 0.59742856, 0.65794307, 0.6376282, 0.6356796, 0.6153793, 0.582088, 0.5385506, 0.5245554], 'loss': [1199.9117, 1161.551, 1194.8636, 1315.8895, 1275.258, 1271.3601, 1230.759, 1164.1763, 1077.1014, 1049.1108], 'bitrate': [0.36045, 0.4558, 0.541818, 0.807175, 1.478921, 2.902803, 4.289943, 6.964081, 12.399531, 16.302234]}], [{'mse_loss': [0.009055864, 0.009522308, 0.006550546, 0.0033723135, 0.0016641861, 0.0008440167, 0.00056005386, 0.0003145428, 0.00014449364, 9.518399e-05], 'bpp_loss': [0.021601094, 0.021601094, 0.021601094, 0.021601094, 0.021601094, 0.021601094, 0.021601094, 0.021601094, 0.021601094, 0.021601094], 'loss_classic': [5.910177, 6.213482, 4.2810936, 2.214448, 1.1037381, 0.5704229, 0.38577613, 0.22613257, 0.11555809, 0.083494484], 'PSNR': [21.15073, 21.642025, 23.236916, 25.931522, 28.733086, 31.670204, 33.45553, 35.894585, 39.211292, 40.91382], 'MDTVSFA': [-0.4284063, -0.43382156, -0.43759727, -0.448617, -0.4583375, -0.47088116, -0.47912723, -0.48619443, -0.49035576, -0.49208754], 'loss': [-856.8036, -867.6336, -875.188, -897.2306, -916.67334, -941.7615, -958.2539, -972.3886, -980.7113, -984.1749], 'bitrate': [0.36045, 0.4558, 0.541818, 0.807175, 1.478921, 2.902803, 4.289943, 6.964081, 12.399531, 16.302234]}], [{'mse_loss': [0.009055864, 0.009522308, 0.006550546, 0.0033723135, 0.0016641861, 0.0008440167, 0.00056005386, 0.0003145428, 0.00014449364, 9.518399e-05], 'bpp_loss': [0.021601094, 0.021601094, 0.021601094, 0.021601094, 0.021601094, 0.021601094, 0.021601094, 0.021601094, 0.021601094, 0.021601094], 'loss_classic': [5.910177, 6.213482, 4.2810936, 2.214448, 1.1037381, 0.5704229, 0.38577613, 0.22613257, 0.11555809, 0.083494484], 'PSNR': [21.15073, 21.642025, 23.236916, 25.931522, 28.733086, 31.670204, 33.45553, 35.894585, 39.211292, 40.91382], 'PAC2PIQ': [-0.48304832, -0.49014434, -0.4825136, -0.4943171, -0.51195765, -0.51767445, -0.5218528, -0.5207444, -0.5259688, -0.5283203], 'loss': [-966.0875, -980.2792, -965.0206, -988.63086, -1023.9136, -1035.3479, -1043.7051, -1041.4885, -1051.9375, -1056.6406], 'bitrate': [0.36045, 0.4558, 0.541818, 0.807175, 1.478921, 2.902803, 4.289943, 6.964081, 12.399531, 16.302234]}], [{'mse_loss': [0.009055864, 0.009522308, 0.006550546, 0.0033723135, 0.0016641861, 0.0008440167, 0.00056005386, 0.0003145428, 0.00014449364, 9.518399e-05], 'bpp_loss': [0.021601094, 0.021601094, 0.021601094, 0.021601094, 0.021601094, 0.021601094, 0.021601094, 0.021601094, 0.021601094, 0.021601094], 'loss_classic': [5.910177, 6.213482, 4.2810936, 2.214448, 1.1037381, 0.5704229, 0.38577613, 0.22613257, 0.11555809, 0.083494484], 'PSNR': [21.15073, 21.642025, 23.236916, 25.931522, 28.733086, 31.670204, 33.45553, 35.894585, 39.211292, 40.91382], 'SPAQ': [-0.4284922, -0.42869535, -0.4273184, -0.43347928, -0.4263403, -0.4270627, -0.4283405, -0.42989933, -0.43684077, -0.44312888], 'loss': [-856.9753, -857.3812, -854.6303, -866.9552, -852.67896, -854.1245, -856.6804, -859.79834, -873.6814, -886.2577], 'bitrate': [0.36045, 0.4558, 0.541818, 0.807175, 1.478921, 2.902803, 4.289943, 6.964081, 12.399531, 16.302234]}], [{'mse_loss': [0.009055864, 0.009522308, 0.006550546, 0.0033723135, 0.0016641862, 0.0008440167, 0.0005600539, 0.00031454285, 0.00014449365, 9.5184005e-05], 'bpp_loss': [0.010800547, 0.010800547, 0.010800547, 0.010800547, 0.010800547, 0.010800547, 0.010800547, 0.010800547, 0.010800547, 0.010800547], 'loss_classic': [5.8993764, 6.202681, 4.2702928, 2.2036474, 1.0929377, 0.55962235, 0.37497556, 0.21533203, 0.10475753, 0.072693944], 'PSNR': [21.019142, 21.52348, 23.109478, 25.773453, 28.61635, 31.54165, 33.324055, 35.77789, 39.114628, 40.83141], 'VSFA': [-0.34987092, -0.35987452, -0.36722505, -0.3916478, -0.41666755, -0.43308422, -0.44364524, -0.45436332, -0.45538568, -0.45634368], 'loss': [-699.7328, -719.7395, -734.4436, -783.29224, -833.3335, -866.1676, -887.2899, -908.7263, -910.77124, -912.68726], 'bitrate': [0.36045, 0.4558, 0.541818, 0.807175, 1.478921, 2.902803, 4.289943, 6.964081, 12.399531, 16.302234]}]], [[{'mse_loss': [0.009697751, 0.0044392752, 0.0026605064, 0.0012684765, 0.0005004005, 0.00025291523, 0.00018650865, 0.00013854218, 0.0001028321, 8.907321e-05], 'bpp_loss': [0.021601094, 0.021601094, 0.021601094, 0.021601094, 0.021601094, 0.021601094, 0.021601094, 0.021601094, 0.021601094, 0.021601094], 'loss_classic': [6.3275633, 2.9082398, 1.7515953, 0.8464279, 0.34698653, 0.1860592, 0.14287835, 0.111688145, 0.08846767, 0.07952095], 'PSNR': [21.147215, 24.69606, 26.925434, 29.9851, 33.789215, 36.58705, 37.843365, 39.079475, 40.299873, 40.870567], 'Linearity': [0.68347657, 0.71009433, 0.7066006, 0.6560316, 0.4495265, 0.28122783, 0.1916048, 0.13135046, 0.09388733, 0.08124267], 'loss': [1366.9629, 1420.1931, 1413.2039, 1312.0645, 899.05347, 562.45593, 383.20978, 262.70105, 187.77475, 162.48544], 'bitrate': [0.168175, 0.259668, 0.357481, 0.577243, 1.092981, 2.132078, 3.214578, 5.567656, 10.55694, 14.354068]}], [{'mse_loss': [0.009697751, 0.0044392752, 0.0026605064, 0.0012684765, 0.0005004005, 0.00025291523, 0.00018650865, 0.00013854218, 0.0001028321, 8.907321e-05], 'bpp_loss': [0.021601094, 0.021601094, 0.021601094, 0.021601094, 0.021601094, 0.021601094, 0.021601094, 0.021601094, 0.021601094, 0.021601094], 'loss_classic': [6.3275633, 2.9082398, 1.7515953, 0.8464279, 0.34698653, 0.1860592, 0.14287835, 0.111688145, 0.08846767, 0.07952095], 'PSNR': [21.147215, 24.69606, 26.925434, 29.9851, 33.789215, 36.58705, 37.843365, 39.079475, 40.299873, 40.870567], 'MDTVSFA': [-0.41068512, -0.41418988, -0.42095876, -0.43923697, -0.4642939, -0.47960088, -0.48625624, -0.4928794, -0.4972586, -0.49857825], 'loss': [-821.36053, -828.3753, -841.9148, -878.47266, -928.5873, -959.2014, -972.5123, -985.75867, -994.5171, -997.1565], 'bitrate': [0.168175, 0.259668, 0.357481, 0.577243, 1.092981, 2.132078, 3.214578, 5.567656, 10.55694, 14.354068]}], [{'mse_loss': [0.009697751, 0.0044392752, 0.0026605064, 0.0012684765, 0.0005004005, 0.00025291523, 0.00018650865, 0.00013854218, 0.0001028321, 8.907321e-05], 'bpp_loss': [0.021601094, 0.021601094, 0.021601094, 0.021601094, 0.021601094, 0.021601094, 0.021601094, 0.021601094, 0.021601094, 0.021601094], 'loss_classic': [6.3275633, 2.9082398, 1.7515953, 0.8464279, 0.34698653, 0.1860592, 0.14287835, 0.111688145, 0.08846767, 0.07952095], 'PSNR': [21.147215, 24.69606, 26.925434, 29.9851, 33.789215, 36.58705, 37.843365, 39.079475, 40.299873, 40.870567], 'PAC2PIQ': [-0.41652012, -0.40850842, -0.420941, -0.44921017, -0.53274846, -0.5847552, -0.5979841, -0.60481876, -0.60590726, -0.6073003], 'loss': [-833.0305, -817.0124, -841.8794, -898.41907, -1065.4963, -1169.51, -1195.968, -1209.6375, -1211.8145, -1214.6005], 'bitrate': [0.168175, 0.259668, 0.357481, 0.577243, 1.092981, 2.132078, 3.214578, 5.567656, 10.55694, 14.354068]}], [{'mse_loss': [0.009697751, 0.0044392752, 0.0026605064, 0.0012684765, 0.0005004005, 0.00025291523, 0.00018650865, 0.00013854218, 0.0001028321, 8.907321e-05], 'bpp_loss': [0.021601094, 0.021601094, 0.021601094, 0.021601094, 0.021601094, 0.021601094, 0.021601094, 0.021601094, 0.021601094, 0.021601094], 'loss_classic': [6.3275633, 2.9082398, 1.7515953, 0.8464279, 0.34698653, 0.1860592, 0.14287835, 0.111688145, 0.08846767, 0.07952095], 'PSNR': [21.147215, 24.69606, 26.925434, 29.9851, 33.789215, 36.58705, 37.843365, 39.079475, 40.299873, 40.870567], 'SPAQ': [-0.37769896, -0.38297957, -0.39209813, -0.38907236, -0.3963074, -0.39281058, -0.395649, -0.40276197, -0.40690434, -0.41093087], 'loss': [-755.38824, -765.9547, -784.1935, -778.1435, -792.61426, -785.6209, -791.2978, -805.5238, -813.8086, -821.8617], 'bitrate': [0.168175, 0.259668, 0.357481, 0.577243, 1.092981, 2.132078, 3.214578, 5.567656, 10.55694, 14.354068]}], [{'mse_loss': [0.00969775, 0.0044392752, 0.0026605062, 0.0012684765, 0.0005004005, 0.00025291526, 0.00018650867, 0.00013854218, 0.00010283211, 8.907322e-05], 'bpp_loss': [0.010800547, 0.010800547, 0.010800547, 0.010800547, 0.010800547, 0.010800547, 0.010800547, 0.010800547, 0.010800547, 0.010800547], 'loss_classic': [6.316763, 2.8974392, 1.7407948, 0.83562744, 0.33618596, 0.17525867, 0.13207781, 0.10088761, 0.07766713, 0.068720415], 'PSNR': [21.121286, 24.651741, 26.89787, 29.975628, 33.783333, 36.580708, 37.83522, 39.070206, 40.28988, 40.86033], 'VSFA': [-0.30357987, -0.31508327, -0.32475537, -0.35602337, -0.3978043, -0.42448968, -0.4313721, -0.43725687, -0.44092435, -0.44290918], 'loss': [-607.15, -630.1622, -649.50806, -712.0454, -795.60803, -848.9791, -862.744, -874.51355, -881.8486, -885.81824], 'bitrate': [0.168175, 0.259668, 0.357481, 0.577243, 1.092981, 2.132078, 3.214578, 5.567656, 10.55694, 14.354068]}]], [[{'mse_loss': [0.0061228117, 0.003768739, 0.0026707775, 0.0017585937, 0.0010992258, 0.00081361446, 0.00077158597, 0.00079569663, 0.00078186346, 0.000726372], 'bpp_loss': [0.021601094, 0.021601094, 0.021601094, 0.021601094, 0.021601094, 0.021601094, 0.021601094, 0.021601094, 0.021601094, 0.021601094], 'loss_classic': [4.0029593, 2.4722238, 1.7582741, 1.1651266, 0.7363727, 0.55065393, 0.5233249, 0.5390028, 0.5300078, 0.49392444], 'PSNR': [22.14769, 24.257526, 25.750793, 27.56771, 29.602913, 30.908854, 31.148333, 31.083963, 31.490799, 32.038933], 'Linearity': [0.5891681, 0.44697732, 0.30738235, 0.16190085, -0.07516727, -0.17037198, -0.1586071, -0.1204916, -0.096819766, -0.100879684], 'loss': [1178.3423, 893.95844, 614.7674, 323.80344, -150.33344, -340.7431, -317.2134, -240.98242, -193.63876, -201.75862], 'bitrate': [0.086193, 0.155775, 0.234231, 0.379356, 0.725796, 1.517862, 2.544165, 5.633406, 17.86754, 26.572437]}], [{'mse_loss': [0.0061228117, 0.003768739, 0.0026707775, 0.0017585937, 0.0010992258, 0.00081361446, 0.00077158597, 0.00079569663, 0.00078186346, 0.000726372], 'bpp_loss': [0.021601094, 0.021601094, 0.021601094, 0.021601094, 0.021601094, 0.021601094, 0.021601094, 0.021601094, 0.021601094, 0.021601094], 'loss_classic': [4.0029593, 2.4722238, 1.7582741, 1.1651266, 0.7363727, 0.55065393, 0.5233249, 0.5390028, 0.5300078, 0.49392444], 'PSNR': [22.14769, 24.257526, 25.750793, 27.56771, 29.602913, 30.908854, 31.148333, 31.083963, 31.490799, 32.038933], 'MDTVSFA': [-0.4322284, -0.4492349, -0.4641884, -0.48791784, -0.4991198, -0.50711465, -0.5060391, -0.504096, -0.50464, -0.5059055], 'loss': [-864.4507, -898.46594, -928.37415, -975.83386, -998.23846, -1014.2285, -1012.0774, -1008.19116, -1009.2792, -1011.81036], 'bitrate': [0.086193, 0.155775, 0.234231, 0.379356, 0.725796, 1.517862, 2.544165, 5.633406, 17.86754, 26.572437]}], [{'mse_loss': [0.0061228117, 0.003768739, 0.0026707775, 0.0017585937, 0.0010992258, 0.00081361446, 0.00077158597, 0.00079569663, 0.00078186346, 0.000726372], 'bpp_loss': [0.021601094, 0.021601094, 0.021601094, 0.021601094, 0.021601094, 0.021601094, 0.021601094, 0.021601094, 0.021601094, 0.021601094], 'loss_classic': [4.0029593, 2.4722238, 1.7582741, 1.1651266, 0.7363727, 0.55065393, 0.5233249, 0.5390028, 0.5300078, 0.49392444], 'PSNR': [22.14769, 24.257526, 25.750793, 27.56771, 29.602913, 30.908854, 31.148333, 31.083963, 31.490799, 32.038933], 'PAC2PIQ': [-0.43191296, -0.53795516, -0.56403875, -0.62884486, -0.6774632, -0.6970866, -0.6970341, -0.6930435, -0.6896969, -0.69011426], 'loss': [-863.8198, -1075.9066, -1128.075, -1257.688, -1354.9253, -1394.1725, -1394.0674, -1386.0862, -1379.393, -1380.2278], 'bitrate': [0.086193, 0.155775, 0.234231, 0.379356, 0.725796, 1.517862, 2.544165, 5.633406, 17.86754, 26.572437]}], [{'mse_loss': [0.0061228117, 0.003768739, 0.0026707775, 0.0017585937, 0.0010992258, 0.00081361446, 0.00077158597, 0.00079569663, 0.00078186346, 0.000726372], 'bpp_loss': [0.021601094, 0.021601094, 0.021601094, 0.021601094, 0.021601094, 0.021601094, 0.021601094, 0.021601094, 0.021601094, 0.021601094], 'loss_classic': [4.0029593, 2.4722238, 1.7582741, 1.1651266, 0.7363727, 0.55065393, 0.5233249, 0.5390028, 0.5300078, 0.49392444], 'PSNR': [22.14769, 24.257526, 25.750793, 27.56771, 29.602913, 30.908854, 31.148333, 31.083963, 31.490799, 32.038933], 'SPAQ': [-0.38036805, -0.36127, -0.38245833, -0.40683985, -0.4354661, -0.46324825, -0.47749132, -0.45869115, -0.45475662, -0.45927206], 'loss': [-760.73004, -722.53613, -764.914, -813.67786, -870.93115, -926.49567, -954.9818, -917.38153, -909.51245, -918.54333], 'bitrate': [0.086193, 0.155775, 0.234231, 0.379356, 0.725796, 1.517862, 2.544165, 5.633406, 17.86754, 26.572437]}], [{'mse_loss': [0.0061228117, 0.003768739, 0.0026707773, 0.0017585937, 0.001099226, 0.00081361446, 0.000771586, 0.00079569663, 0.00078186346, 0.000726372], 'bpp_loss': [0.010800547, 0.010800547, 0.010800547, 0.010800547, 0.010800547, 0.010800547, 0.010800547, 0.010800547, 0.010800547, 0.010800547], 'loss_classic': [3.992159, 2.4614232, 1.7474735, 1.1543262, 0.72557217, 0.53985333, 0.51252437, 0.5282023, 0.51920724, 0.48312393], 'PSNR': [22.147667, 24.25712, 25.74961, 27.565596, 29.602154, 30.9076, 31.143654, 31.063208, 31.431065, 31.968422], 'VSFA': [-0.3599528, -0.41196918, -0.44700703, -0.46896645, -0.47510675, -0.47656798, -0.48990783, -0.50255454, -0.5060971, -0.5085182], 'loss': [-719.8995, -823.9347, -894.0114, -937.93115, -950.2124, -953.13525, -979.81494, -1005.1083, -1012.19336, -1017.03564], 'bitrate': [0.086193, 0.155775, 0.234231, 0.379356, 0.725796, 1.517862, 2.544165, 5.633406, 17.86754, 26.572437]}]], [[{'mse_loss': [0.020693384, 0.018159524, 0.015214412, 0.013211088, 0.010613736, 0.008247007, 0.006902557, 0.005392775, 0.004349213, 0.0037461247], 'bpp_loss': [0.021601094, 0.021601094, 0.021601094, 0.021601094, 0.021601094, 0.021601094, 0.021601094, 0.021601094, 0.021601094, 0.021601094], 'loss_classic': [13.477474, 11.82983, 9.914772, 8.61211, 6.9231825, 5.3842173, 4.5099883, 3.5282528, 2.849677, 2.4575186], 'PSNR': [17.062183, 17.766478, 18.559017, 19.281322, 20.44449, 21.855583, 22.81675, 24.136555, 25.559223, 26.46083], 'Linearity': [0.4890495, 0.41431278, 0.3319851, 0.19366069, 0.037980445, -0.09809506, -0.17572114, -0.24034183, -0.27862918, -0.3065727], 'loss': [978.1196, 828.6437, 663.98535, 387.3346, 75.97151, -196.18188, -351.43536, -480.67828, -557.254, -613.1417], 'bitrate': [0.147662, 0.22204, 0.35574, 0.581393, 1.206106, 2.666137, 4.244687, 7.755468, 17.186143, 25.113956]}], [{'mse_loss': [0.020693384, 0.018159524, 0.015214412, 0.013211088, 0.010613736, 0.008247007, 0.006902557, 0.005392775, 0.004349213, 0.0037461247], 'bpp_loss': [0.021601094, 0.021601094, 0.021601094, 0.021601094, 0.021601094, 0.021601094, 0.021601094, 0.021601094, 0.021601094, 0.021601094], 'loss_classic': [13.477474, 11.82983, 9.914772, 8.61211, 6.9231825, 5.3842173, 4.5099883, 3.5282528, 2.849677, 2.4575186], 'PSNR': [17.062183, 17.766478, 18.559017, 19.281322, 20.44449, 21.855583, 22.81675, 24.136555, 25.559223, 26.46083], 'MDTVSFA': [-0.4019582, -0.40940565, -0.4221295, -0.44224304, -0.4581282, -0.4711151, -0.47677514, -0.48368144, -0.49005097, -0.4917682], 'loss': [-803.8957, -818.7931, -844.2438, -884.4729, -916.24585, -942.2219, -953.5434, -967.3575, -980.09753, -983.5327], 'bitrate': [0.147662, 0.22204, 0.35574, 0.581393, 1.206106, 2.666137, 4.244687, 7.755468, 17.186143, 25.113956]}], [{'mse_loss': [0.020693384, 0.018159524, 0.015214412, 0.013211088, 0.010613736, 0.008247007, 0.006902557, 0.005392775, 0.004349213, 0.0037461247], 'bpp_loss': [0.021601094, 0.021601094, 0.021601094, 0.021601094, 0.021601094, 0.021601094, 0.021601094, 0.021601094, 0.021601094, 0.021601094], 'loss_classic': [13.477474, 11.82983, 9.914772, 8.61211, 6.9231825, 5.3842173, 4.5099883, 3.5282528, 2.849677, 2.4575186], 'PSNR': [17.062183, 17.766478, 18.559017, 19.281322, 20.44449, 21.855583, 22.81675, 24.136555, 25.559223, 26.46083], 'PAC2PIQ': [-0.5151863, -0.5426568, -0.58185184, -0.62630665, -0.6686666, -0.68923926, -0.69916004, -0.7081844, -0.71359766, -0.71318686], 'loss': [-1030.3519, -1085.2954, -1163.6885, -1252.6002, -1337.3225, -1378.4703, -1398.3131, -1416.3635, -1427.1909, -1426.37], 'bitrate': [0.147662, 0.22204, 0.35574, 0.581393, 1.206106, 2.666137, 4.244687, 7.755468, 17.186143, 25.113956]}], [{'mse_loss': [0.020693384, 0.018159524, 0.015214412, 0.013211088, 0.010613736, 0.008247007, 0.006902557, 0.005392775, 0.004349213, 0.0037461247], 'bpp_loss': [0.021601094, 0.021601094, 0.021601094, 0.021601094, 0.021601094, 0.021601094, 0.021601094, 0.021601094, 0.021601094, 0.021601094], 'loss_classic': [13.477474, 11.82983, 9.914772, 8.61211, 6.9231825, 5.3842173, 4.5099883, 3.5282528, 2.849677, 2.4575186], 'PSNR': [17.062183, 17.766478, 18.559017, 19.281322, 20.44449, 21.855583, 22.81675, 24.136555, 25.559223, 26.46083], 'SPAQ': [-0.38520128, -0.3902952, -0.41389146, -0.43328616, -0.46349967, -0.48176867, -0.49104023, -0.48936892, -0.49094498, -0.49420244], 'loss': [-770.38184, -780.57227, -827.7677, -866.55914, -926.9888, -963.5291, -982.07355, -978.73254, -981.8856, -988.4011], 'bitrate': [0.147662, 0.22204, 0.35574, 0.581393, 1.206106, 2.666137, 4.244687, 7.755468, 17.186143, 25.113956]}], [{'mse_loss': [0.020693384, 0.01815952, 0.015214412, 0.013211087, 0.010613736, 0.008247007, 0.006902556, 0.0053927745, 0.004349213, 0.0037461245], 'bpp_loss': [0.010800547, 0.010800547, 0.010800547, 0.010800547, 0.010800547, 0.010800547, 0.010800547, 0.010800547, 0.010800547, 0.010800547], 'loss_classic': [13.466674, 11.819029, 9.903971, 8.60131, 6.912382, 5.373416, 4.4991875, 3.517452, 2.8388765, 2.446718], 'PSNR': [17.047688, 17.756989, 18.549591, 19.268478, 20.436716, 21.846117, 22.80399, 24.115679, 25.522152, 26.417107], 'VSFA': [-0.28336877, -0.29722, -0.3251797, -0.36086825, -0.38530666, -0.40523818, -0.41448426, -0.42893362, -0.4463351, -0.4507434], 'loss': [-566.71686, -594.4218, -650.3441, -721.72327, -770.60266, -810.46814, -828.9617, -857.8619, -892.6659, -901.4831], 'bitrate': [0.147662, 0.22204, 0.35574, 0.581393, 1.206106, 2.666137, 4.244687, 7.755468, 17.186143, 25.113956]}]], [[{'mse_loss': [0.008005714, 0.005836477, 0.0039045233, 0.0019088578, 0.0007811298, 0.00040171767, 0.00029834209, 0.00023825995, 0.00023391756, 0.00021466777], 'bpp_loss': [0.021601094, 0.021601094, 0.021601094, 0.021601094, 0.021601094, 0.021601094, 0.021601094, 0.021601094, 0.021601094, 0.021601094], 'loss_classic': [5.227317, 3.8167703, 2.5605175, 1.262836, 0.52953076, 0.28281802, 0.21559805, 0.17652963, 0.173706, 0.16118883], 'PSNR': [21.251162, 22.939987, 24.671581, 27.543129, 31.24834, 34.062748, 35.331566, 36.318596, 36.622314, 37.11691], 'Linearity': [0.59792405, 0.62551427, 0.6256534, 0.6481457, 0.6061462, 0.5011029, 0.47024065, 0.4446655, 0.4467812, 0.44455856], 'loss': [1195.8562, 1251.0342, 1251.3108, 1296.2932, 1212.2932, 1002.2063, 940.48157, 889.3313, 893.5626, 889.1173], 'bitrate': [0.155771, 0.221365, 0.322596, 0.534575, 0.992612, 1.922656, 2.861131, 4.826075, 10.659053, 15.588253]}], [{'mse_loss': [0.008005714, 0.005836477, 0.0039045233, 0.0019088578, 0.0007811298, 0.00040171767, 0.00029834209, 0.00023825995, 0.00023391756, 0.00021466777], 'bpp_loss': [0.021601094, 0.021601094, 0.021601094, 0.021601094, 0.021601094, 0.021601094, 0.021601094, 0.021601094, 0.021601094, 0.021601094], 'loss_classic': [5.227317, 3.8167703, 2.5605175, 1.262836, 0.52953076, 0.28281802, 0.21559805, 0.17652963, 0.173706, 0.16118883], 'PSNR': [21.251162, 22.939987, 24.671581, 27.543129, 31.24834, 34.062748, 35.331566, 36.318596, 36.622314, 37.11691], 'MDTVSFA': [-0.4124459, -0.41377228, -0.41822815, -0.42965966, -0.45880434, -0.47905552, -0.4837638, -0.48940247, -0.49008083, -0.4916153], 'loss': [-824.8838, -827.5387, -836.4524, -859.3174, -917.6079, -958.11066, -967.52734, -978.8047, -980.16144, -983.2304], 'bitrate': [0.155771, 0.221365, 0.322596, 0.534575, 0.992612, 1.922656, 2.861131, 4.826075, 10.659053, 15.588253]}], [{'mse_loss': [0.008005714, 0.005836477, 0.0039045233, 0.0019088578, 0.0007811298, 0.00040171767, 0.00029834209, 0.00023825995, 0.00023391756, 0.00021466777], 'bpp_loss': [0.021601094, 0.021601094, 0.021601094, 0.021601094, 0.021601094, 0.021601094, 0.021601094, 0.021601094, 0.021601094, 0.021601094], 'loss_classic': [5.227317, 3.8167703, 2.5605175, 1.262836, 0.52953076, 0.28281802, 0.21559805, 0.17652963, 0.173706, 0.16118883], 'PSNR': [21.251162, 22.939987, 24.671581, 27.543129, 31.24834, 34.062748, 35.331566, 36.318596, 36.622314, 37.11691], 'PAC2PIQ': [-0.4433301, -0.45866203, -0.46080035, -0.4676703, -0.490372, -0.47004172, -0.45669153, -0.44529077, -0.44559032, -0.4444984], 'loss': [-886.65216, -917.31824, -921.5968, -935.33875, -980.7433, -940.083, -913.38275, -890.5813, -891.1804, -888.9966], 'bitrate': [0.155771, 0.221365, 0.322596, 0.534575, 0.992612, 1.922656, 2.861131, 4.826075, 10.659053, 15.588253]}], [{'mse_loss': [0.008005714, 0.005836477, 0.0039045233, 0.0019088578, 0.0007811298, 0.00040171767, 0.00029834209, 0.00023825995, 0.00023391756, 0.00021466777], 'bpp_loss': [0.021601094, 0.021601094, 0.021601094, 0.021601094, 0.021601094, 0.021601094, 0.021601094, 0.021601094, 0.021601094, 0.021601094], 'loss_classic': [5.227317, 3.8167703, 2.5605175, 1.262836, 0.52953076, 0.28281802, 0.21559805, 0.17652963, 0.173706, 0.16118883], 'PSNR': [21.251162, 22.939987, 24.671581, 27.543129, 31.24834, 34.062748, 35.331566, 36.318596, 36.622314, 37.11691], 'SPAQ': [-0.37175727, -0.37535515, -0.3848579, -0.40041706, -0.40631157, -0.40971354, -0.41467756, -0.42219055, -0.43179822, -0.4309017], 'loss': [-743.5066, -750.70447, -769.712, -800.8323, -812.6223, -819.4267, -829.35486, -844.3809, -863.5962, -861.80316], 'bitrate': [0.155771, 0.221365, 0.322596, 0.534575, 0.992612, 1.922656, 2.861131, 4.826075, 10.659053, 15.588253]}], [{'mse_loss': [0.008005714, 0.0058364766, 0.0039045233, 0.0019088578, 0.0007811298, 0.00040171767, 0.00029834214, 0.00023825998, 0.00023391758, 0.00021466779], 'bpp_loss': [0.010800547, 0.010800547, 0.010800547, 0.010800547, 0.010800547, 0.010800547, 0.010800547, 0.010800547, 0.010800547, 0.010800547], 'loss_classic': [5.216516, 3.8059697, 2.549717, 1.2520354, 0.51873016, 0.27201748, 0.2047975, 0.16572909, 0.16290545, 0.15038827], 'PSNR': [21.152294, 22.840452, 24.598589, 27.532173, 31.24459, 34.059788, 35.32897, 36.314137, 36.610542, 37.10257], 'VSFA': [-0.32599804, -0.33668366, -0.3570915, -0.3783576, -0.41293895, -0.4287504, -0.4315833, -0.4374429, -0.4386651, -0.4402268], 'loss': [-651.98804, -673.3615, -714.1791, -756.71326, -825.8771, -857.50037, -863.1664, -874.8855, -877.32996, -880.45337], 'bitrate': [0.155771, 0.221365, 0.322596, 0.534575, 0.992612, 1.922656, 2.861131, 4.826075, 10.659053, 15.588253]}]], [[{'mse_loss': [0.004442066, 0.0031226422, 0.002264556, 0.0011454237, 0.0005163242, 0.0002973791, 0.00024417537, 0.00022025252, 0.00021866336, 0.0002121516], 'bpp_loss': [0.021601094, 0.021601094, 0.021601094, 0.021601094, 0.021601094, 0.021601094, 0.021601094, 0.021601094, 0.021601094, 0.021601094], 'loss_classic': [2.9100544, 2.0520992, 1.4941287, 0.76641285, 0.35734087, 0.21497184, 0.18037614, 0.16482031, 0.16378695, 0.15955266], 'PSNR': [23.573553, 25.153934, 26.628002, 29.551586, 32.916775, 35.291523, 36.1472, 36.61695, 36.79435, 37.054665], 'Linearity': [0.6248872, 0.59732383, 0.52018815, 0.40713108, 0.31191772, 0.25646725, 0.24318767, 0.25791168, 0.2664888, 0.27054268], 'loss': [1249.7788, 1194.6509, 1040.3787, 814.2633, 623.83594, 512.9348, 486.3756, 515.8236, 532.97784, 541.0856], 'bitrate': [0.091509, 0.172956, 0.272343, 0.4618, 0.832178, 1.572128, 2.4494, 4.411953, 9.494778, 14.538178]}], [{'mse_loss': [0.004442066, 0.0031226422, 0.002264556, 0.0011454237, 0.0005163242, 0.0002973791, 0.00024417537, 0.00022025252, 0.00021866336, 0.0002121516], 'bpp_loss': [0.021601094, 0.021601094, 0.021601094, 0.021601094, 0.021601094, 0.021601094, 0.021601094, 0.021601094, 0.021601094, 0.021601094], 'loss_classic': [2.9100544, 2.0520992, 1.4941287, 0.76641285, 0.35734087, 0.21497184, 0.18037614, 0.16482031, 0.16378695, 0.15955266], 'PSNR': [23.573553, 25.153934, 26.628002, 29.551586, 32.916775, 35.291523, 36.1472, 36.61695, 36.79435, 37.054665], 'MDTVSFA': [-0.41667187, -0.43087503, -0.4498806, -0.4727012, -0.49057022, -0.5045395, -0.5089867, -0.51231205, -0.51345927, -0.51483667], 'loss': [-833.33923, -861.747, -899.7589, -945.40125, -981.1399, -1009.07874, -1017.97314, -1024.6238, -1026.9183, -1029.6731], 'bitrate': [0.091509, 0.172956, 0.272343, 0.4618, 0.832178, 1.572128, 2.4494, 4.411953, 9.494778, 14.538178]}], [{'mse_loss': [0.004442066, 0.0031226422, 0.002264556, 0.0011454237, 0.0005163242, 0.0002973791, 0.00024417537, 0.00022025252, 0.00021866336, 0.0002121516], 'bpp_loss': [0.021601094, 0.021601094, 0.021601094, 0.021601094, 0.021601094, 0.021601094, 0.021601094, 0.021601094, 0.021601094, 0.021601094], 'loss_classic': [2.9100544, 2.0520992, 1.4941287, 0.76641285, 0.35734087, 0.21497184, 0.18037614, 0.16482031, 0.16378695, 0.15955266], 'PSNR': [23.573553, 25.153934, 26.628002, 29.551586, 32.916775, 35.291523, 36.1472, 36.61695, 36.79435, 37.054665], 'PAC2PIQ': [-0.45357454, -0.50613236, -0.5375508, -0.54988146, -0.56283355, -0.5731224, -0.5800121, -0.57736856, -0.57592607, -0.573233], 'loss': [-907.14465, -1012.2616, -1075.0994, -1099.7617, -1125.6666, -1146.2445, -1160.0239, -1154.7369, -1151.8518, -1146.4658], 'bitrate': [0.091509, 0.172956, 0.272343, 0.4618, 0.832178, 1.572128, 2.4494, 4.411953, 9.494778, 14.538178]}], [{'mse_loss': [0.004442066, 0.0031226422, 0.002264556, 0.0011454237, 0.0005163242, 0.0002973791, 0.00024417537, 0.00022025252, 0.00021866336, 0.0002121516], 'bpp_loss': [0.021601094, 0.021601094, 0.021601094, 0.021601094, 0.021601094, 0.021601094, 0.021601094, 0.021601094, 0.021601094, 0.021601094], 'loss_classic': [2.9100544, 2.0520992, 1.4941287, 0.76641285, 0.35734087, 0.21497184, 0.18037614, 0.16482031, 0.16378695, 0.15955266], 'PSNR': [23.573553, 25.153934, 26.628002, 29.551586, 32.916775, 35.291523, 36.1472, 36.61695, 36.79435, 37.054665], 'SPAQ': [-0.37128073, -0.4159994, -0.41377747, -0.4299674, -0.4371606, -0.4442852, -0.45095205, -0.45789915, -0.44950694, -0.44682664], 'loss': [-742.557, -831.9957, -827.5527, -859.9336, -874.3208, -888.57007, -901.9039, -915.7981, -899.0136, -893.6531], 'bitrate': [0.091509, 0.172956, 0.272343, 0.4618, 0.832178, 1.572128, 2.4494, 4.411953, 9.494778, 14.538178]}], [{'mse_loss': [0.004442066, 0.0031226424, 0.002264556, 0.0011454236, 0.00051632413, 0.0002973791, 0.0002441754, 0.00022025258, 0.0002186634, 0.00021215164], 'bpp_loss': [0.010800547, 0.010800547, 0.010800547, 0.010800547, 0.010800547, 0.010800547, 0.010800547, 0.010800547, 0.010800547, 0.010800547], 'loss_classic': [2.8992538, 2.0412989, 1.4833281, 0.75561225, 0.34654033, 0.2041713, 0.1695756, 0.15401977, 0.1529864, 0.14875215], 'PSNR': [23.570898, 25.139523, 26.608728, 29.535534, 32.912125, 35.289757, 36.144688, 36.60641, 36.75998, 37.01198], 'VSFA': [-0.3437705, -0.3682469, -0.37402463, -0.394907, -0.40786493, -0.4084797, -0.4092607, -0.4104792, -0.41297874, -0.41489294], 'loss': [-687.5366, -736.4907, -748.04694, -789.81287, -815.7293, -816.95905, -818.5211, -820.9581, -825.9573, -829.78564], 'bitrate': [0.091509, 0.172956, 0.272343, 0.4618, 0.832178, 1.572128, 2.4494, 4.411953, 9.494778, 14.538178]}]]]\n"
     ]
    }
   ],
   "source": [
    "#from Current_model import *\n",
    "for Identity_flag in [ True]:\n",
    "    a0= model_dirs_full, model_dirs_full, model_names = get_met_names(key= lambda x: \"2000mse\" in x and \n",
    "                                                                         \"cheng2020_attn_quality2\" in x and \n",
    "                                                                         'quality5' not in x and (('fixed_direction' in x) or \n",
    "                                                                                                  \"MDTVSFA_2000m\" in x))\n",
    "    \n",
    "    a0 = [a0[0][1:], a0[1][1:], a0[2][1:]]\n",
    "    a1 = get_met_names(key= lambda x: \"model_vimeo11k_Linearity_2000mse_enhance_no_codec_fixed_direction.ckpt\" in x)\n",
    "    a2 = get_met_names(directory='./models_enhancement/0403/', key= lambda x: \"\" in x)\n",
    "    model_dirs_full, model_target_met_names, model_names = [a0[0] + a1[0] + a2[0], a0[1] + a1[1] + a2[1],a0[2] +  a1[2] + a2[2]]\n",
    "    model_dirs_full, model_target_met_names, model_names = model_dirs_full, model_target_met_names, model_names\n",
    "    net_enhances = load_models(model_dirs_full)\n",
    "    \n",
    "    device_met = \"cuda:0\"\n",
    "    device_enh = \"cuda:0\"\n",
    "    device_sub = \"cpu\"\n",
    "    num_frames = 64\n",
    "    \n",
    "    batch_sz = 2\n",
    "    Log_1 = []\n",
    "    model_target_met_names = [i if i != \"PAC2PIC\" else \"PAC2PIQ\" for i in model_target_met_names]\n",
    "    if Identity_flag:\n",
    "        model_target_met_names = np.unique(model_target_met_names)\n",
    "    wandb.init(project=\"Whitebox_strong_metrics_attacks\", entity=\"havent_invented\", name=\"RD_curves_all_met_18_03\" + (\"Without Preprocessing\" if Identity_flag else \"With Preprocessing\"),\n",
    "               tags = {\"RD curves\", (\"Without Preprocessing\" if Identity_flag else \"With Preprocessing\")}, save_code = True)  \n",
    "    wandb.config.update({\"codecs\": codecs_all, \n",
    "                         \"Target Metrics\": model_target_met_names,\n",
    "                         \"full_model_dirs\" : model_dirs_full, \"num_frames\" : num_frames, \"No preprocessing\" : Identity_flag})\n",
    "    for idxf, file in tqdm(enumerate(os.listdir(dst_dir))):\n",
    "        Log_2 = []\n",
    "        for model,met_name,fil_name_1 in tqdm(zip(net_enhances, model_target_met_names, model_dirs_full)):\n",
    "            if met_name == \"VSFA\":\n",
    "                batch_sz = 2\n",
    "            else:\n",
    "                batch_sz = 1#2\n",
    "            if met_name == \"Linearity\":\n",
    "                deivce_main = \"cuda:0\"\n",
    "            else:\n",
    "                deivce_main = \"cuda:0\"\n",
    "            torch.cuda.empty_cache()\n",
    "            with torch.no_grad():\n",
    "                try:\n",
    "                    f_name = met_name + \" \" +  file + (\" without\" if Identity_flag else \" with\") + \" preprocessing\" \n",
    "                    print(met_name, fil_name_1)\n",
    "                    try:\n",
    "                        del loss_calc\n",
    "                    except Exception:\n",
    "                        pass\n",
    "                    loss_calc = Custom_enh_Loss(target_lst=['mse_loss', met_name], to_train = False, crop_NIMA = False)\n",
    "                    loss_calc = loss_calc.to('cpu')\n",
    "                    ful_name = dst_dir + file\n",
    "                    home_dir = \"R:/home_dir/\"\n",
    "                    #dataset_test = Video_reader_dataset(name1 = ful_name, num_frames= 64, minimal_batch_sz = 2)#\n",
    "                    #dataset_test = DataLoader(dataset_test, batch_size= batch_sz, shuffle = False)\n",
    "                    Log_3 = models_codecs_dataset_outer([enhance_Identity if Identity_flag else model],codecs = codecs_all,\n",
    "                                        vid_full_dir = ful_name, to_crop = False, loss_f = loss_calc)\n",
    "                    table = wandb.Table(columns= list(Log_3[0].keys()), data = [list(Log_3[0].values())])\n",
    "                    wandb.log({f_name: table}) \n",
    "                    print(Log_3)\n",
    "                    Log_2.append(Log_3)\n",
    "                except Exception as exc:\n",
    "                    raise\n",
    "                    wandb.alert(title=str(exc), text=str(exc) + \" in \" + f_name, level = wandb.AlertLevel.ERROR)\n",
    "                    print(\"Exception in \" + met_name)\n",
    "                    \n",
    "        Log_1.append(Log_2)\n",
    "        np.save(\"./Logs_rd_curves/ALL_metrics_2000mse_fixed\" + (\"_Identity\" if Identity_flag else \"\") + \".npy\", Log_1)\n",
    "        \n",
    "    wandb.finish()\n",
    "    print(Log_1)"
   ]
  },
  {
   "cell_type": "code",
   "execution_count": 10,
   "id": "suffering-trance",
   "metadata": {},
   "outputs": [
    {
     "data": {
      "text/plain": [
       "5"
      ]
     },
     "execution_count": 10,
     "metadata": {},
     "output_type": "execute_result"
    }
   ],
   "source": [
    "len(Log_1[0])"
   ]
  },
  {
   "cell_type": "code",
   "execution_count": 7,
   "id": "indonesian-timothy",
   "metadata": {},
   "outputs": [
    {
     "data": {
      "text/plain": [
       "[[[{'mse_loss': [0.003761526,\n",
       "     0.0022537024,\n",
       "     0.0015512533,\n",
       "     0.00091297226,\n",
       "     0.00046287983,\n",
       "     0.0002791155,\n",
       "     0.00022671149,\n",
       "     0.00019999941,\n",
       "     0.00018672063,\n",
       "     0.00017199243],\n",
       "    'bpp_loss': [0.021601094,\n",
       "     0.021601094,\n",
       "     0.021601094,\n",
       "     0.021601094,\n",
       "     0.021601094,\n",
       "     0.021601094,\n",
       "     0.021601094,\n",
       "     0.021601094,\n",
       "     0.021601094,\n",
       "     0.021601094],\n",
       "    'loss_classic': [2.4675333,\n",
       "     1.4870713,\n",
       "     1.0303035,\n",
       "     0.6152613,\n",
       "     0.32258868,\n",
       "     0.20309597,\n",
       "     0.16902025,\n",
       "     0.15165071,\n",
       "     0.14301617,\n",
       "     0.13343918],\n",
       "    'PSNR': [24.301882,\n",
       "     26.550669,\n",
       "     28.171638,\n",
       "     30.460445,\n",
       "     33.400444,\n",
       "     35.58738,\n",
       "     36.4852,\n",
       "     37.067566,\n",
       "     37.52347,\n",
       "     37.957916],\n",
       "    'Linearity': [0.45339638,\n",
       "     0.40311885,\n",
       "     0.32244512,\n",
       "     0.1467707,\n",
       "     -0.023824617,\n",
       "     -0.14573695,\n",
       "     -0.17144683,\n",
       "     -0.16694605,\n",
       "     -0.15692464,\n",
       "     -0.15566349],\n",
       "    'loss': [906.7965,\n",
       "     806.2399,\n",
       "     644.89185,\n",
       "     293.5423,\n",
       "     -47.648773,\n",
       "     -291.47363,\n",
       "     -342.89343,\n",
       "     -333.8919,\n",
       "     -313.8491,\n",
       "     -311.32678],\n",
       "    'bitrate': [0.100881,\n",
       "     0.172306,\n",
       "     0.263106,\n",
       "     0.429271,\n",
       "     0.825821,\n",
       "     1.681812,\n",
       "     2.59339,\n",
       "     4.593584,\n",
       "     9.852437,\n",
       "     14.188521]}],\n",
       "  [{'mse_loss': [0.003761526,\n",
       "     0.0022537024,\n",
       "     0.0015512533,\n",
       "     0.00091297226,\n",
       "     0.00046287983,\n",
       "     0.0002791155,\n",
       "     0.00022671149,\n",
       "     0.00019999941,\n",
       "     0.00018672063,\n",
       "     0.00017199243],\n",
       "    'bpp_loss': [0.021601094,\n",
       "     0.021601094,\n",
       "     0.021601094,\n",
       "     0.021601094,\n",
       "     0.021601094,\n",
       "     0.021601094,\n",
       "     0.021601094,\n",
       "     0.021601094,\n",
       "     0.021601094,\n",
       "     0.021601094],\n",
       "    'loss_classic': [2.4675333,\n",
       "     1.4870713,\n",
       "     1.0303035,\n",
       "     0.6152613,\n",
       "     0.32258868,\n",
       "     0.20309597,\n",
       "     0.16902025,\n",
       "     0.15165071,\n",
       "     0.14301617,\n",
       "     0.13343918],\n",
       "    'PSNR': [24.301882,\n",
       "     26.550669,\n",
       "     28.171638,\n",
       "     30.460445,\n",
       "     33.400444,\n",
       "     35.58738,\n",
       "     36.4852,\n",
       "     37.067566,\n",
       "     37.52347,\n",
       "     37.957916],\n",
       "    'MDTVSFA': [-0.44870508,\n",
       "     -0.47278503,\n",
       "     -0.485685,\n",
       "     -0.50394565,\n",
       "     -0.515102,\n",
       "     -0.5236566,\n",
       "     -0.526125,\n",
       "     -0.52738714,\n",
       "     -0.5274074,\n",
       "     -0.52813506],\n",
       "    'loss': [-897.4064,\n",
       "     -945.56775,\n",
       "     -971.36847,\n",
       "     -1007.8904,\n",
       "     -1030.2035,\n",
       "     -1047.3129,\n",
       "     -1052.2498,\n",
       "     -1054.774,\n",
       "     -1054.8146,\n",
       "     -1056.2699],\n",
       "    'bitrate': [0.100881,\n",
       "     0.172306,\n",
       "     0.263106,\n",
       "     0.429271,\n",
       "     0.825821,\n",
       "     1.681812,\n",
       "     2.59339,\n",
       "     4.593584,\n",
       "     9.852437,\n",
       "     14.188521]}],\n",
       "  [{'mse_loss': [0.003761526,\n",
       "     0.0022537024,\n",
       "     0.0015512533,\n",
       "     0.00091297226,\n",
       "     0.00046287983,\n",
       "     0.0002791155,\n",
       "     0.00022671149,\n",
       "     0.00019999941,\n",
       "     0.00018672063,\n",
       "     0.00017199243],\n",
       "    'bpp_loss': [0.021601094,\n",
       "     0.021601094,\n",
       "     0.021601094,\n",
       "     0.021601094,\n",
       "     0.021601094,\n",
       "     0.021601094,\n",
       "     0.021601094,\n",
       "     0.021601094,\n",
       "     0.021601094,\n",
       "     0.021601094],\n",
       "    'loss_classic': [2.4675333,\n",
       "     1.4870713,\n",
       "     1.0303035,\n",
       "     0.6152613,\n",
       "     0.32258868,\n",
       "     0.20309597,\n",
       "     0.16902025,\n",
       "     0.15165071,\n",
       "     0.14301617,\n",
       "     0.13343918],\n",
       "    'PSNR': [24.301882,\n",
       "     26.550669,\n",
       "     28.171638,\n",
       "     30.460445,\n",
       "     33.400444,\n",
       "     35.58738,\n",
       "     36.4852,\n",
       "     37.067566,\n",
       "     37.52347,\n",
       "     37.957916],\n",
       "    'PAC2PIQ': [-0.49286443,\n",
       "     -0.56116676,\n",
       "     -0.6120634,\n",
       "     -0.66599584,\n",
       "     -0.705251,\n",
       "     -0.71799374,\n",
       "     -0.7174728,\n",
       "     -0.7135598,\n",
       "     -0.7102464,\n",
       "     -0.70892775],\n",
       "    'loss': [-985.7252,\n",
       "     -1122.3313,\n",
       "     -1224.1251,\n",
       "     -1331.9907,\n",
       "     -1410.5015,\n",
       "     -1435.9872,\n",
       "     -1434.9453,\n",
       "     -1427.1194,\n",
       "     -1420.4926,\n",
       "     -1417.8553],\n",
       "    'bitrate': [0.100881,\n",
       "     0.172306,\n",
       "     0.263106,\n",
       "     0.429271,\n",
       "     0.825821,\n",
       "     1.681812,\n",
       "     2.59339,\n",
       "     4.593584,\n",
       "     9.852437,\n",
       "     14.188521]}],\n",
       "  [{'mse_loss': [0.003761526,\n",
       "     0.0022537024,\n",
       "     0.0015512533,\n",
       "     0.00091297226,\n",
       "     0.00046287983,\n",
       "     0.0002791155,\n",
       "     0.00022671149,\n",
       "     0.00019999941,\n",
       "     0.00018672063,\n",
       "     0.00017199243],\n",
       "    'bpp_loss': [0.021601094,\n",
       "     0.021601094,\n",
       "     0.021601094,\n",
       "     0.021601094,\n",
       "     0.021601094,\n",
       "     0.021601094,\n",
       "     0.021601094,\n",
       "     0.021601094,\n",
       "     0.021601094,\n",
       "     0.021601094],\n",
       "    'loss_classic': [2.4675333,\n",
       "     1.4870713,\n",
       "     1.0303035,\n",
       "     0.6152613,\n",
       "     0.32258868,\n",
       "     0.20309597,\n",
       "     0.16902025,\n",
       "     0.15165071,\n",
       "     0.14301617,\n",
       "     0.13343918],\n",
       "    'PSNR': [24.301882,\n",
       "     26.550669,\n",
       "     28.171638,\n",
       "     30.460445,\n",
       "     33.400444,\n",
       "     35.58738,\n",
       "     36.4852,\n",
       "     37.067566,\n",
       "     37.52347,\n",
       "     37.957916],\n",
       "    'SPAQ': [-0.40260553,\n",
       "     -0.3983474,\n",
       "     -0.3903737,\n",
       "     -0.4162528,\n",
       "     -0.4233754,\n",
       "     -0.43182716,\n",
       "     -0.430534,\n",
       "     -0.44013584,\n",
       "     -0.43401402,\n",
       "     -0.43656975],\n",
       "    'loss': [-805.2074,\n",
       "     -796.6926,\n",
       "     -780.74585,\n",
       "     -832.5047,\n",
       "     -846.7503,\n",
       "     -863.654,\n",
       "     -861.06775,\n",
       "     -880.2716,\n",
       "     -868.02795,\n",
       "     -873.1393],\n",
       "    'bitrate': [0.100881,\n",
       "     0.172306,\n",
       "     0.263106,\n",
       "     0.429271,\n",
       "     0.825821,\n",
       "     1.681812,\n",
       "     2.59339,\n",
       "     4.593584,\n",
       "     9.852437,\n",
       "     14.188521]}],\n",
       "  [{'mse_loss': [0.0037615257,\n",
       "     0.0022537024,\n",
       "     0.0015512533,\n",
       "     0.00091297226,\n",
       "     0.0004628798,\n",
       "     0.00027911557,\n",
       "     0.00022671153,\n",
       "     0.00019999946,\n",
       "     0.00018672064,\n",
       "     0.00017199246],\n",
       "    'bpp_loss': [0.010800547,\n",
       "     0.010800547,\n",
       "     0.010800547,\n",
       "     0.010800547,\n",
       "     0.010800547,\n",
       "     0.010800547,\n",
       "     0.010800547,\n",
       "     0.010800547,\n",
       "     0.010800547,\n",
       "     0.010800547],\n",
       "    'loss_classic': [2.4567327,\n",
       "     1.4762707,\n",
       "     1.019503,\n",
       "     0.6044607,\n",
       "     0.31178814,\n",
       "     0.19229542,\n",
       "     0.15821971,\n",
       "     0.14085019,\n",
       "     0.13221565,\n",
       "     0.12263864],\n",
       "    'PSNR': [24.29602,\n",
       "     26.533306,\n",
       "     28.159622,\n",
       "     30.45428,\n",
       "     33.39445,\n",
       "     35.58181,\n",
       "     36.478874,\n",
       "     37.05613,\n",
       "     37.50896,\n",
       "     37.943176],\n",
       "    'VSFA': [-0.39656407,\n",
       "     -0.44951862,\n",
       "     -0.47302955,\n",
       "     -0.5023433,\n",
       "     -0.521147,\n",
       "     -0.524607,\n",
       "     -0.5242802,\n",
       "     -0.5270975,\n",
       "     -0.5318683,\n",
       "     -0.5310252],\n",
       "    'loss': [-793.1244,\n",
       "     -899.0349,\n",
       "     -946.0576,\n",
       "     -1004.68567,\n",
       "     -1042.2935,\n",
       "     -1049.2136,\n",
       "     -1048.5602,\n",
       "     -1054.1948,\n",
       "     -1063.7363,\n",
       "     -1062.0502],\n",
       "    'bitrate': [0.100881,\n",
       "     0.172306,\n",
       "     0.263106,\n",
       "     0.429271,\n",
       "     0.825821,\n",
       "     1.681812,\n",
       "     2.59339,\n",
       "     4.593584,\n",
       "     9.852437,\n",
       "     14.188521]}]]]"
      ]
     },
     "execution_count": 7,
     "metadata": {},
     "output_type": "execute_result"
    }
   ],
   "source": [
    "Log_1"
   ]
  },
  {
   "cell_type": "code",
   "execution_count": 7,
   "id": "automatic-agenda",
   "metadata": {},
   "outputs": [],
   "source": [
    "np.save(\"./Logs_rd_curves/tmp_ALL_metrics_2000mse_fixed\" + (\"_Identity\" if Identity_flag else \"\") + \".npy\", Log_1)"
   ]
  },
  {
   "cell_type": "code",
   "execution_count": 6,
   "id": "basic-glory",
   "metadata": {},
   "outputs": [],
   "source": [
    "wandb.finish()"
   ]
  },
  {
   "cell_type": "code",
   "execution_count": 29,
   "id": "human-agenda",
   "metadata": {},
   "outputs": [
    {
     "data": {
      "text/plain": [
       "(7, 10)"
      ]
     },
     "execution_count": 29,
     "metadata": {},
     "output_type": "execute_result"
    }
   ],
   "source": [
    "np.array(list(Log_3[0].values())).shape"
   ]
  },
  {
   "cell_type": "code",
   "execution_count": 25,
   "id": "capital-deputy",
   "metadata": {
    "scrolled": true
   },
   "outputs": [],
   "source": [
    "table = wandb.Table(columns= list(Log_3[0].keys()), data = list([Log_3[0].values()]))\n",
    "wandb.log({f_name: table}) "
   ]
  },
  {
   "cell_type": "code",
   "execution_count": 9,
   "id": "appropriate-diving",
   "metadata": {},
   "outputs": [
    {
     "data": {
      "text/plain": [
       "(7, 7)"
      ]
     },
     "execution_count": 9,
     "metadata": {},
     "output_type": "execute_result"
    }
   ],
   "source": [
    " len(list(Log_3[0].keys())), len(list(Log_3[0].values()))"
   ]
  },
  {
   "cell_type": "code",
   "execution_count": 6,
   "id": "residential-behavior",
   "metadata": {},
   "outputs": [
    {
     "ename": "NameError",
     "evalue": "name 'Lst2' is not defined",
     "output_type": "error",
     "traceback": [
      "\u001b[1;31m---------------------------------------------------------------------------\u001b[0m",
      "\u001b[1;31mNameError\u001b[0m                                 Traceback (most recent call last)",
      "\u001b[1;32mE:\\VMAF_METRIX\\NeuralNetworkCompression\\Train_current_model.py\u001b[0m in \u001b[0;36m<module>\u001b[1;34m\u001b[0m\n\u001b[0;32m      3\u001b[0m \u001b[1;31m# NIMA do not force 224x224\u001b[0m\u001b[1;33m\u001b[0m\u001b[1;33m\u001b[0m\u001b[1;33m\u001b[0m\u001b[0m\n\u001b[0;32m      4\u001b[0m \u001b[1;33m\u001b[0m\u001b[0m\n\u001b[1;32m----> 5\u001b[1;33m \u001b[0mlist\u001b[0m\u001b[1;33m(\u001b[0m\u001b[0mzip\u001b[0m\u001b[1;33m(\u001b[0m\u001b[0mLst2\u001b[0m\u001b[1;33m,\u001b[0m \u001b[1;33m-\u001b[0m\u001b[0mnp\u001b[0m\u001b[1;33m.\u001b[0m\u001b[0marray\u001b[0m\u001b[1;33m(\u001b[0m\u001b[1;33m[\u001b[0m\u001b[0mlist\u001b[0m\u001b[1;33m(\u001b[0m\u001b[0mi\u001b[0m\u001b[1;33m[\u001b[0m\u001b[1;36m0\u001b[0m\u001b[1;33m]\u001b[0m\u001b[1;33m.\u001b[0m\u001b[0mvalues\u001b[0m\u001b[1;33m(\u001b[0m\u001b[1;33m)\u001b[0m\u001b[1;33m)\u001b[0m\u001b[1;33m[\u001b[0m\u001b[1;36m4\u001b[0m\u001b[1;33m]\u001b[0m \u001b[1;32mfor\u001b[0m \u001b[0mi\u001b[0m \u001b[1;32min\u001b[0m \u001b[0mLog_1\u001b[0m\u001b[1;33m[\u001b[0m\u001b[1;36m0\u001b[0m\u001b[1;33m]\u001b[0m\u001b[1;33m]\u001b[0m\u001b[1;33m)\u001b[0m\u001b[1;33m)\u001b[0m\u001b[1;33m)\u001b[0m\u001b[1;33m\u001b[0m\u001b[1;33m\u001b[0m\u001b[0m\n\u001b[0m",
      "\u001b[1;31mNameError\u001b[0m: name 'Lst2' is not defined"
     ]
    }
   ],
   "source": [
    "\"100k 3M\"#wrong: Linearity, NIMA\n",
    "# KONIQ do not force patchsz < 512x512\n",
    "# NIMA do not force 224x224\n",
    "\n",
    "list(zip(Lst2, -np.array([list(i[0].values())[4] for i in Log_1[0]])))"
   ]
  },
  {
   "cell_type": "code",
   "execution_count": null,
   "id": "conservative-miller",
   "metadata": {},
   "outputs": [],
   "source": []
  }
 ],
 "metadata": {
  "kernelspec": {
   "display_name": "Python 3",
   "language": "python",
   "name": "python3"
  },
  "language_info": {
   "codemirror_mode": {
    "name": "ipython",
    "version": 3
   },
   "file_extension": ".py",
   "mimetype": "text/x-python",
   "name": "python",
   "nbconvert_exporter": "python",
   "pygments_lexer": "ipython3",
   "version": "3.8.5"
  }
 },
 "nbformat": 4,
 "nbformat_minor": 5
}
