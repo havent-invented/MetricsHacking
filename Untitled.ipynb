{
 "cells": [
  {
   "cell_type": "code",
   "execution_count": null,
   "id": "metric-dispatch",
   "metadata": {},
   "outputs": [],
   "source": [
    "!curl http://data.csail.mit.edu/tofu/dataset/vimeo_triplet.zip --output vimeo90k.zip"
   ]
  },
  {
   "cell_type": "code",
   "execution_count": 4,
   "id": "friendly-maine",
   "metadata": {},
   "outputs": [
    {
     "name": "stdout",
     "output_type": "stream",
     "text": [
      " Volume in drive E is ????? ???\n",
      " Volume Serial Number is 3AC2-6205\n",
      "\n",
      " Directory of E:\\VMAF_METRIX\\NeuralNetworkCompression\n",
      "\n",
      "28/01/2022  13:35    <DIR>          .\n",
      "28/01/2022  13:35    <DIR>          ..\n",
      "28/01/2022  13:33    <DIR>          .ipynb_checkpoints\n",
      "27/01/2022  14:10    <DIR>          compressai\n",
      "28/01/2022  13:35           266,000 Experimental .ipynb\n",
      "27/01/2022  20:47             8,261 main.py\n",
      "27/01/2022  14:41           794,058 stmalo_fracape.png\n",
      "28/01/2022  13:35               682 Untitled.ipynb\n",
      "               4 File(s)      1,069,001 bytes\n",
      "               4 Dir(s)  12,542,779,392 bytes free\n"
     ]
    }
   ],
   "source": [
    "!dir"
   ]
  },
  {
   "cell_type": "code",
   "execution_count": 1,
   "id": "consecutive-cornwall",
   "metadata": {},
   "outputs": [],
   "source": [
    "import torch\n",
    "import torch.nn as nn\n"
   ]
  },
  {
   "cell_type": "code",
   "execution_count": null,
   "id": "capable-tenant",
   "metadata": {},
   "outputs": [],
   "source": []
  }
 ],
 "metadata": {
  "kernelspec": {
   "display_name": "Python 3",
   "language": "python",
   "name": "python3"
  },
  "language_info": {
   "codemirror_mode": {
    "name": "ipython",
    "version": 3
   },
   "file_extension": ".py",
   "mimetype": "text/x-python",
   "name": "python",
   "nbconvert_exporter": "python",
   "pygments_lexer": "ipython3",
   "version": "3.8.5"
  }
 },
 "nbformat": 4,
 "nbformat_minor": 5
}
