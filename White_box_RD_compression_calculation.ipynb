{
 "cells": [
  {
   "cell_type": "code",
   "execution_count": 1,
   "id": "plastic-pension",
   "metadata": {},
   "outputs": [
    {
     "name": "stderr",
     "output_type": "stream",
     "text": [
      "Failed to detect the name of this notebook, you can set it manually with the WANDB_NOTEBOOK_NAME environment variable to enable code saving.\n",
      "wandb: Currently logged in as: havent_invented (use `wandb login --relogin` to force relogin)\n"
     ]
    },
    {
     "data": {
      "text/html": [
       "Tracking run with wandb version 0.12.11"
      ],
      "text/plain": [
       "<IPython.core.display.HTML object>"
      ]
     },
     "metadata": {},
     "output_type": "display_data"
    },
    {
     "data": {
      "text/html": [
       "Run data is saved locally in <code>E:\\VMAF_METRIX\\NeuralNetworkCompression\\wandb\\run-20220404_075945-8ugwjvza</code>"
      ],
      "text/plain": [
       "<IPython.core.display.HTML object>"
      ]
     },
     "metadata": {},
     "output_type": "display_data"
    },
    {
     "data": {
      "text/html": [
       "Syncing run <strong><a href=\"https://wandb.ai/havent_invented/White%20box%20training/runs/8ugwjvza\" target=\"_blank\">Tests White box full-reference training</a></strong> to <a href=\"https://wandb.ai/havent_invented/White%20box%20training\" target=\"_blank\">Weights & Biases</a> (<a href=\"https://wandb.me/run\" target=\"_blank\">docs</a>)<br/>"
      ],
      "text/plain": [
       "<IPython.core.display.HTML object>"
      ]
     },
     "metadata": {},
     "output_type": "display_data"
    },
    {
     "ename": "NameError",
     "evalue": "name 'args_p' is not defined",
     "output_type": "error",
     "traceback": [
      "\u001b[1;31m---------------------------------------------------------------------------\u001b[0m",
      "\u001b[1;31mNameError\u001b[0m                                 Traceback (most recent call last)",
      "\u001b[1;32mE:\\VMAF_METRIX\\NeuralNetworkCompression\\Train_current_model.py\u001b[0m in \u001b[0;36m<module>\u001b[1;34m\u001b[0m\n\u001b[0;32m     74\u001b[0m             \u001b[0mi\u001b[0m\u001b[1;33m.\u001b[0m\u001b[0mretain_grad\u001b[0m\u001b[1;33m(\u001b[0m\u001b[1;33m)\u001b[0m\u001b[1;33m\u001b[0m\u001b[1;33m\u001b[0m\u001b[0m\n\u001b[0;32m     75\u001b[0m \u001b[1;32mif\u001b[0m \u001b[0mnet_codec\u001b[0m \u001b[1;33m==\u001b[0m \u001b[1;32mNone\u001b[0m\u001b[1;33m:\u001b[0m\u001b[1;33m\u001b[0m\u001b[1;33m\u001b[0m\u001b[0m\n\u001b[1;32m---> 76\u001b[1;33m     \u001b[0mnet_codec\u001b[0m \u001b[1;33m=\u001b[0m \u001b[0mcheng2020_attn\u001b[0m\u001b[1;33m(\u001b[0m\u001b[0mquality\u001b[0m\u001b[1;33m=\u001b[0m\u001b[0margs_p\u001b[0m\u001b[1;33m.\u001b[0m\u001b[0mquality\u001b[0m\u001b[1;33m,\u001b[0m \u001b[0mpretrained\u001b[0m\u001b[1;33m=\u001b[0m\u001b[1;32mTrue\u001b[0m\u001b[1;33m)\u001b[0m\u001b[1;33m.\u001b[0m\u001b[0mto\u001b[0m\u001b[1;33m(\u001b[0m\u001b[0mdevice\u001b[0m\u001b[1;33m)\u001b[0m\u001b[1;33m.\u001b[0m\u001b[0mrequires_grad_\u001b[0m\u001b[1;33m(\u001b[0m\u001b[1;32mTrue\u001b[0m\u001b[1;33m)\u001b[0m\u001b[1;31m# ssf2020 -- video\u001b[0m\u001b[1;33m\u001b[0m\u001b[1;33m\u001b[0m\u001b[0m\n\u001b[0m\u001b[0;32m     77\u001b[0m     \u001b[1;31m#.eval()\u001b[0m\u001b[1;33m\u001b[0m\u001b[1;33m\u001b[0m\u001b[1;33m\u001b[0m\u001b[0m\n\u001b[0;32m     78\u001b[0m     \u001b[1;31m#if net_codec != codec_Identity:\u001b[0m\u001b[1;33m\u001b[0m\u001b[1;33m\u001b[0m\u001b[1;33m\u001b[0m\u001b[0m\n",
      "\u001b[1;31mNameError\u001b[0m: name 'args_p' is not defined"
     ]
    }
   ],
   "source": [
    "break_flag = True\n",
    "home_dir = \"R:/home_dir/\"\n",
    "dst_dir = \"P:/7videos/\"\n",
    "#exec(open('Current_model.py').read())\n",
    "%run -i Current_model_lib\n",
    "%run -i Train_current_model\n",
    "home_dir = \"R:/home_dir/\"\n",
    "dst_dir = \"P:/7videos/\""
   ]
  },
  {
   "cell_type": "code",
   "execution_count": 2,
   "id": "vocal-throw",
   "metadata": {},
   "outputs": [],
   "source": [
    "%run -i Codecs_validation\n",
    "import wandb\n"
   ]
  },
  {
   "cell_type": "code",
   "execution_count": 3,
   "id": "occasional-milan",
   "metadata": {},
   "outputs": [],
   "source": [
    "#TODO MAD CW_SSIM NLPD VSI FSIM\n",
    "#from piq import IS, FID, GS, KID, MSID, PR\n",
    "from piq import HaarPSILoss,VIFLoss, DSSLoss,dss, multi_scale_ssim, multi_scale_gmsd,vif, vif_p,MDSILoss, GMSDLoss,VSILoss,SRSIMLoss\n",
    "from IQA_pytorch import GMSD, VIF, VIFs, MS_SSIM, SSIM\n",
    "from piq import DISTS as piq_DISTS\n",
    "from piq import LPIPS as piq_LPIPS\n",
    "to_train = True\n",
    "\n",
    "self.GMSD_loss_1 = GMSD()\n",
    "self.iqa_vifs_loss = VIFs()    \n",
    "self.iqa_vif_loss = VIF()\n",
    "self.piq_vif_Loss = VIFLoss()\n",
    "self.piq_vif_p_loss = vif_p\n",
    "self.dss_loss_1 = DSSLoss()\n",
    "self.dss_loss_2 = dss\n",
    "self.msssim_1_loss = multi_scale_ssim\n",
    "self.haarpsi_loss = HaarPSILoss()\n",
    "self.msssim_2 = MS_SSIM()\n",
    "self.ms_gmsd_loss = multi_scale_gmsd\n",
    "self.SRSIM_loss = SRSIMLoss()\n",
    "self.VSI_loss = VSILoss()\n",
    "self.GMSD_loss_2 = GMSDLoss()\n",
    "self.MDSI_met = MDSILoss()\n",
    "self.ssim_loss = SSIM()\n",
    "self.DISTS_loss_2 = piq_DISTS()\n",
    "self.LPIPS_loss_2 = piq_LPIPS()\n"
   ]
  },
  {
   "cell_type": "code",
   "execution_count": 8,
   "id": "therapeutic-surgeon",
   "metadata": {
    "collapsed": true
   },
   "outputs": [
    {
     "name": "stdout",
     "output_type": "stream",
     "text": [
      "[('PieAPP', False)]\n",
      "False\n",
      "[('PieAPP', False), ('SSIM', False)]\n",
      "False\n",
      "[('PieAPP', False), ('SSIM', False), ('DISTS', False)]\n",
      "False\n",
      "[('PieAPP', False), ('SSIM', False), ('DISTS', False), ('LPIPS', False)]\n",
      "False\n",
      "[('PieAPP', False), ('SSIM', False), ('DISTS', False), ('LPIPS', False), ('GMSD', False)]\n",
      "False\n",
      "[('PieAPP', False), ('SSIM', False), ('DISTS', False), ('LPIPS', False), ('GMSD', False), ('GMSD1', False)]\n",
      "False\n",
      "[('PieAPP', False), ('SSIM', False), ('DISTS', False), ('LPIPS', False), ('GMSD', False), ('GMSD1', False), ('VIFs', False)]\n",
      "False\n",
      "[('PieAPP', False), ('SSIM', False), ('DISTS', False), ('LPIPS', False), ('GMSD', False), ('GMSD1', False), ('VIFs', False), ('VIF', False)]\n",
      "False\n",
      "[('PieAPP', False), ('SSIM', False), ('DISTS', False), ('LPIPS', False), ('GMSD', False), ('GMSD1', False), ('VIFs', False), ('VIF', False), ('VIFLoss', False)]\n",
      "False\n",
      "[('PieAPP', False), ('SSIM', False), ('DISTS', False), ('LPIPS', False), ('GMSD', False), ('GMSD1', False), ('VIFs', False), ('VIF', False), ('VIFLoss', False), ('VIFp', False)]\n",
      "False\n",
      "[('PieAPP', False), ('SSIM', False), ('DISTS', False), ('LPIPS', False), ('GMSD', False), ('GMSD1', False), ('VIFs', False), ('VIF', False), ('VIFLoss', False), ('VIFp', False), ('DSS', False)]\n",
      "False\n",
      "[('PieAPP', False), ('SSIM', False), ('DISTS', False), ('LPIPS', False), ('GMSD', False), ('GMSD1', False), ('VIFs', False), ('VIF', False), ('VIFLoss', False), ('VIFp', False), ('DSS', False), ('DSS1', False)]\n",
      "False\n",
      "[('PieAPP', False), ('SSIM', False), ('DISTS', False), ('LPIPS', False), ('GMSD', False), ('GMSD1', False), ('VIFs', False), ('VIF', False), ('VIFLoss', False), ('VIFp', False), ('DSS', False), ('DSS1', False), ('MS-SSIM', False)]\n",
      "False\n",
      "[('PieAPP', False), ('SSIM', False), ('DISTS', False), ('LPIPS', False), ('GMSD', False), ('GMSD1', False), ('VIFs', False), ('VIF', False), ('VIFLoss', False), ('VIFp', False), ('DSS', False), ('DSS1', False), ('MS-SSIM', False), ('HaarPSI', False)]\n",
      "False\n",
      "[('PieAPP', False), ('SSIM', False), ('DISTS', False), ('LPIPS', False), ('GMSD', False), ('GMSD1', False), ('VIFs', False), ('VIF', False), ('VIFLoss', False), ('VIFp', False), ('DSS', False), ('DSS1', False), ('MS-SSIM', False), ('HaarPSI', False), ('MS-SSIM', False)]\n",
      "False\n",
      "[('PieAPP', False), ('SSIM', False), ('DISTS', False), ('LPIPS', False), ('GMSD', False), ('GMSD1', False), ('VIFs', False), ('VIF', False), ('VIFLoss', False), ('VIFp', False), ('DSS', False), ('DSS1', False), ('MS-SSIM', False), ('HaarPSI', False), ('MS-SSIM', False), ('MS-GMSD', False)]\n",
      "False\n",
      "[('PieAPP', False), ('SSIM', False), ('DISTS', False), ('LPIPS', False), ('GMSD', False), ('GMSD1', False), ('VIFs', False), ('VIF', False), ('VIFLoss', False), ('VIFp', False), ('DSS', False), ('DSS1', False), ('MS-SSIM', False), ('HaarPSI', False), ('MS-SSIM', False), ('MS-GMSD', False), ('SRSIM', False)]\n",
      "False\n",
      "[('PieAPP', False), ('SSIM', False), ('DISTS', False), ('LPIPS', False), ('GMSD', False), ('GMSD1', False), ('VIFs', False), ('VIF', False), ('VIFLoss', False), ('VIFp', False), ('DSS', False), ('DSS1', False), ('MS-SSIM', False), ('HaarPSI', False), ('MS-SSIM', False), ('MS-GMSD', False), ('SRSIM', False), ('VSI', False)]\n",
      "False\n",
      "[('PieAPP', False), ('SSIM', False), ('DISTS', False), ('LPIPS', False), ('GMSD', False), ('GMSD1', False), ('VIFs', False), ('VIF', False), ('VIFLoss', False), ('VIFp', False), ('DSS', False), ('DSS1', False), ('MS-SSIM', False), ('HaarPSI', False), ('MS-SSIM', False), ('MS-GMSD', False), ('SRSIM', False), ('VSI', False), ('MDSI', False)]\n",
      "False\n",
      "[('PieAPP', False), ('SSIM', False), ('DISTS', False), ('LPIPS', False), ('GMSD', False), ('GMSD1', False), ('VIFs', False), ('VIF', False), ('VIFLoss', False), ('VIFp', False), ('DSS', False), ('DSS1', False), ('MS-SSIM', False), ('HaarPSI', False), ('MS-SSIM', False), ('MS-GMSD', False), ('SRSIM', False), ('VSI', False), ('MDSI', False), ('DISTS1', False)]\n",
      "False\n",
      "[('PieAPP', False), ('SSIM', False), ('DISTS', False), ('LPIPS', False), ('GMSD', False), ('GMSD1', False), ('VIFs', False), ('VIF', False), ('VIFLoss', False), ('VIFp', False), ('DSS', False), ('DSS1', False), ('MS-SSIM', False), ('HaarPSI', False), ('MS-SSIM', False), ('MS-GMSD', False), ('SRSIM', False), ('VSI', False), ('MDSI', False), ('DISTS1', False), ('LPIPS1', False)]\n",
      "False\n"
     ]
    }
   ],
   "source": [
    "X_sample = X_sample.requires_grad_().to(device)\n",
    "lst_direction = []\n",
    "met_lst = [\"PieAPP\",\"SSIM\", \"DISTS\",\"LPIPS\", \"GMSD\",\"GMSD1\",\"VIFs\",\"VIF\",\"VIFLoss\",\"VIFp\",\"DSS\",\"DSS1\",\"MS-SSIM\",\"HaarPSI\",\"MS-SSIM\",\"MS-GMSD\",\"SRSIM\",\"VSI\",\"MDSI\",\"DISTS1\",\"LPIPS1\"]\n",
    "for tar_met in met_lst:\n",
    "    loss_calc = Custom_enh_Loss(target_lst = [tar_met])\n",
    "    loss_calc.eval()\n",
    "    loss_calc = loss_calc.requires_grad_(True).to(device)\n",
    "    \n",
    "    ls = loss_calc({\"x_hat\" :X_sample}, X_sample)\n",
    "    ls1 = list(ls.items())[2][1]\n",
    "    \n",
    "    ls = loss_calc({\"x_hat\" :X_sample - X_sample}, X_sample)\n",
    "    ls2 = list(ls.items())[2][1]\n",
    "    lst_direction.append(ls1.item() > ls2.item())\n",
    "    print(list(zip(met_lst, lst_direction)))\n",
    "    print(ls1.item() == ls2.item())"
   ]
  },
  {
   "cell_type": "code",
   "execution_count": 30,
   "id": "developed-submission",
   "metadata": {},
   "outputs": [
    {
     "name": "stderr",
     "output_type": "stream",
     "text": [
      "C:\\ProgramData\\Anaconda3\\envs\\backup\\lib\\site-packages\\torch\\nn\\functional.py:718: UserWarning: Named tensors and all their associated APIs are an experimental feature and subject to change. Please do not use them for anything important until they are released as stable. (Triggered internally at  ..\\c10/core/TensorImpl.h:1156.)\n",
      "  return torch.max_pool2d(input, kernel_size, stride, padding, dilation, ceil_mode)\n"
     ]
    },
    {
     "data": {
      "text/plain": [
       "tensor(0., device='cuda:0', grad_fn=<MeanBackward1>)"
      ]
     },
     "execution_count": 30,
     "metadata": {},
     "output_type": "execute_result"
    }
   ],
   "source": [
    "device = \"cuda:0\"\n",
    "X_sample = X_sample.to(device).requires_grad_()\n",
    "\n",
    "loss = LPIPS()\n",
    "loss = loss.requires_grad_(True)\n",
    "loss.requires_grad = True\n",
    "loss.eval()\n",
    "X_sample = X_sample.to(device)\n",
    "loss = loss.to(device)\n",
    "#with torch.enable_grad():\n",
    "ls = loss(X_sample, X_sample)\n",
    "ls"
   ]
  },
  {
   "cell_type": "code",
   "execution_count": 23,
   "id": "christian-russell",
   "metadata": {},
   "outputs": [
    {
     "data": {
      "text/plain": [
       "{'mse_loss': tensor(0., device='cuda:0'),\n",
       " 'PSNR': tensor(inf, device='cuda:0'),\n",
       " 'LPIPS': tensor(0., device='cuda:0'),\n",
       " 'loss': tensor(0., device='cuda:0')}"
      ]
     },
     "execution_count": 23,
     "metadata": {},
     "output_type": "execute_result"
    }
   ],
   "source": [
    "torch.rfft = torch.fft.rfft\n",
    "loss_calc = Custom_enh_Loss(target_lst = [\"LPIPS\"])#PieAPP DISTS LPIPS\n",
    "X_sample = X_sample.to(device)\n",
    "loss_calc({\"x_hat\" : X_sample}, X_sample)"
   ]
  },
  {
   "cell_type": "code",
   "execution_count": 3,
   "id": "sublime-broadcasting",
   "metadata": {},
   "outputs": [],
   "source": [
    "\n",
    "\n",
    "#for vid, Log_cur in zip(sorted(os.listdir(dst_dir)), Log_1):\n",
    "#    RD_curves_plot(Log_cur,videoname=vid, save_pgf = False, save_png = False, fig_file = \"./vis/RD_curves1/\" + vid)"
   ]
  },
  {
   "cell_type": "code",
   "execution_count": 15,
   "id": "regulation-unknown",
   "metadata": {},
   "outputs": [],
   "source": []
  },
  {
   "cell_type": "code",
   "execution_count": 7,
   "id": "distant-folks",
   "metadata": {},
   "outputs": [],
   "source": []
  },
  {
   "cell_type": "code",
   "execution_count": 20,
   "id": "happy-command",
   "metadata": {},
   "outputs": [
    {
     "name": "stdout",
     "output_type": "stream",
     "text": [
      "102.283965\n"
     ]
    }
   ],
   "source": [
    "codec_compressor = codec_outer_compress(\"R:/home_dir/\", \" -c:v mjpeg -q:v 1 \")\n",
    "codec_compressor()\n",
    "print(codec_compressor.get_bitrate())\n",
    "#logs_plot_cur['bitrate'] = codec_compressor.get_bitrate()\n",
    "#logs_plot_cur"
   ]
  },
  {
   "cell_type": "code",
   "execution_count": 9,
   "id": "brilliant-penetration",
   "metadata": {},
   "outputs": [
    {
     "data": {
      "text/plain": [
       "102.366671"
      ]
     },
     "execution_count": 9,
     "metadata": {},
     "output_type": "execute_result"
    }
   ],
   "source": [
    "codec_compressor.get_bitrate()"
   ]
  },
  {
   "cell_type": "code",
   "execution_count": null,
   "id": "dimensional-expert",
   "metadata": {},
   "outputs": [],
   "source": [
    "\"model_vimeo11k_DISTS1_cheng2020_attn_quality2_FRtuning.ckpt\"\n",
    "\"model_vimeo11k_LPIPS_cheng2020_attn_quality2_FRtuning - Copy.ckpt\"\n",
    "\"model_vimeo11k_LPIPS1_cheng2020_attn_quality2_FRtuning_сщзн.ckpt\""
   ]
  },
  {
   "cell_type": "code",
   "execution_count": 3,
   "id": "competitive-milton",
   "metadata": {},
   "outputs": [
    {
     "ename": "NameError",
     "evalue": "name 'get_met_names' is not defined",
     "output_type": "error",
     "traceback": [
      "\u001b[1;31m---------------------------------------------------------------------------\u001b[0m",
      "\u001b[1;31mNameError\u001b[0m                                 Traceback (most recent call last)",
      "\u001b[1;32mE:\\VMAF_METRIX\\NeuralNetworkCompression\\Codecs_validation.py\u001b[0m in \u001b[0;36m<module>\u001b[1;34m\u001b[0m\n\u001b[1;32m----> 1\u001b[1;33m get_met_names(directory='./models_enhancement_FR/',key= lambda x: \"model_vimeo11k_DISTS1_cheng2020_attn_quality2_FRtuning.ckpt\" in x or \"model_vimeo11k_LPIPS_cheng2020_attn_quality2_FRtuning - Copy.ckpt\" in x or \"model_vimeo11k_LPIPS1_cheng2020_attn_quality2_FRtuning_сщзн.ckpt\" in x, force_names= [['./models_enhancement_FR/model_vimeo11k_DISTS1_cheng2020_attn_quality2_FRtuning.ckpt',\n\u001b[0m\u001b[0;32m      2\u001b[0m   \u001b[1;34m'./models_enhancement_FR/model_vimeo11k_LPIPS1_cheng2020_attn_quality2_FRtuning_сщзн.ckpt'\u001b[0m\u001b[1;33m,\u001b[0m\u001b[1;33m\u001b[0m\u001b[1;33m\u001b[0m\u001b[0m\n\u001b[0;32m      3\u001b[0m   \u001b[1;34m'./models_enhancement_FR/model_vimeo11k_LPIPS_cheng2020_attn_quality2_FRtuning - Copy.ckpt'\u001b[0m\u001b[1;33m]\u001b[0m\u001b[1;33m,\u001b[0m \u001b[1;33m[\u001b[0m\u001b[1;34m\"DISTS1\"\u001b[0m\u001b[1;33m,\u001b[0m \u001b[1;34m\"LPIPS1\"\u001b[0m\u001b[1;33m,\u001b[0m \u001b[1;34m\"LPIPS\"\u001b[0m\u001b[1;33m]\u001b[0m\u001b[1;33m,\u001b[0m \u001b[1;33m[\u001b[0m\u001b[1;34m'./models_enhancement_FR/model_vimeo11k_DISTS1_cheng2020_attn_quality2_FRtuning.ckpt'\u001b[0m\u001b[1;33m,\u001b[0m\u001b[1;33m\u001b[0m\u001b[1;33m\u001b[0m\u001b[0m\n\u001b[0;32m      4\u001b[0m   \u001b[1;34m'./models_enhancement_FR/model_vimeo11k_LPIPS1_cheng2020_attn_quality2_FRtuning_сщзн.ckpt'\u001b[0m\u001b[1;33m,\u001b[0m\u001b[1;33m\u001b[0m\u001b[1;33m\u001b[0m\u001b[0m\n\u001b[0;32m      5\u001b[0m   './models_enhancement_FR/model_vimeo11k_LPIPS_cheng2020_attn_quality2_FRtuning - Copy.ckpt']])[0]\n",
      "\u001b[1;31mNameError\u001b[0m: name 'get_met_names' is not defined"
     ]
    }
   ],
   "source": [
    "get_met_names(directory='./models_enhancement_FR/',key= lambda x: \"model_vimeo11k_DISTS1_cheng2020_attn_quality2_FRtuning.ckpt\" in x or \"model_vimeo11k_LPIPS_cheng2020_attn_quality2_FRtuning - Copy.ckpt\" in x or \"model_vimeo11k_LPIPS1_cheng2020_attn_quality2_FRtuning_сщзн.ckpt\" in x, force_names= [['./models_enhancement_FR/model_vimeo11k_DISTS1_cheng2020_attn_quality2_FRtuning.ckpt',\n",
    "  './models_enhancement_FR/model_vimeo11k_LPIPS1_cheng2020_attn_quality2_FRtuning_сщзн.ckpt',\n",
    "  './models_enhancement_FR/model_vimeo11k_LPIPS_cheng2020_attn_quality2_FRtuning - Copy.ckpt'], [\"DISTS1\", \"LPIPS1\", \"LPIPS\"], ['./models_enhancement_FR/model_vimeo11k_DISTS1_cheng2020_attn_quality2_FRtuning.ckpt',\n",
    "  './models_enhancement_FR/model_vimeo11k_LPIPS1_cheng2020_attn_quality2_FRtuning_сщзн.ckpt',\n",
    "  './models_enhancement_FR/model_vimeo11k_LPIPS_cheng2020_attn_quality2_FRtuning - Copy.ckpt']])[0]"
   ]
  },
  {
   "cell_type": "code",
   "execution_count": null,
   "id": "elect-reading",
   "metadata": {},
   "outputs": [],
   "source": [
    " #a0= model_dirs_full, model_dirs_full, model_names = get_met_names(key= lambda x: \"2000mse\" in x and \n",
    "        #                                                                     \"cheng2020_attn_quality2\" in x and \n",
    "        #                                                                     'quality5' not in x and (('fixed_direction' in x) or \n",
    "        #                                                                                              \"MDTVSFA_2000m\" in x))\n",
    "        \n",
    "        #a0 = [a0[0][1:], a0[1][1:], a0[2][1:]]\n",
    "        #a1 = get_met_names(key= lambda x: \"model_vimeo11k_Linearity_2000mse_enhance_no_codec_fixed_direction.ckpt\" in x)\n",
    "        #a2 = get_met_names(directory='./models_enhancement/0403/', key= lambda x: \"\" in x)\n",
    "        #model_dirs_full, model_target_met_names, model_names = [a0[0] + a1[0] + a2[0], a0[1] + a1[1] + a2[1],a0[2] +  a1[2] + a2[2]]\n",
    "        #model_dirs_full, model_target_met_names, model_names = model_dirs_full, model_target_met_names, model_names"
   ]
  },
  {
   "cell_type": "code",
   "execution_count": 3,
   "id": "developmental-chancellor",
   "metadata": {},
   "outputs": [
    {
     "data": {
      "text/plain": [
       "(['./models_enhancement_FR/model_vimeo11k_DISTS_cheng2020_attn_quality2_FRtuning.ckpt',\n",
       "  './models_enhancement_FR/model_vimeo11k_LPIPS_cheng2020_attn_quality2_FRtuning.ckpt',\n",
       "  './models_enhancement_FR/model_vimeo11k_LPIPS1_no_codec_FRtuning.ckpt'],\n",
       " ['DISTS', 'LPIPS', 'LPIPS1'],\n",
       " ['model_vimeo11k_DISTS_cheng2020_attn_quality2_FRtuning.ckpt',\n",
       "  'model_vimeo11k_LPIPS_cheng2020_attn_quality2_FRtuning.ckpt',\n",
       "  'model_vimeo11k_LPIPS1_no_codec_FRtuning.ckpt'])"
      ]
     },
     "execution_count": 3,
     "metadata": {},
     "output_type": "execute_result"
    }
   ],
   "source": [
    "force_names = [\"model_vimeo11k_DISTS_cheng2020_attn_quality2_FRtuning.ckpt\",\"model_vimeo11k_LPIPS_cheng2020_attn_quality2_FRtuning.ckpt\",\n",
    "\"model_vimeo11k_LPIPS1_no_codec_FRtuning.ckpt\"]\n",
    "force_names = ['./models_enhancement_FR/' + i for i in force_names], [\"DISTS\", \"LPIPS\", \"LPIPS1\"], force_names\n",
    "force_names"
   ]
  },
  {
   "cell_type": "code",
   "execution_count": null,
   "id": "british-rental",
   "metadata": {},
   "outputs": [],
   "source": [
    "\"\"\"force_names= [['./models_enhancement_FR/model_vimeo11k_DISTS1_cheng2020_attn_quality2_FRtuning.ckpt',\n",
    "  './models_enhancement_FR/model_vimeo11k_LPIPS1_cheng2020_attn_quality2_FRtuning_сщзн.ckpt',\n",
    "  './models_enhancement_FR/model_vimeo11k_LPIPS_cheng2020_attn_quality2_FRtuning - Copy.ckpt'], [\"DISTS1\", \"LPIPS1\", \"LPIPS\"], ['./models_enhancement_FR/model_vimeo11k_DISTS1_cheng2020_attn_quality2_FRtuning.ckpt',\n",
    "  './models_enhancement_FR/model_vimeo11k_LPIPS1_cheng2020_attn_quality2_FRtuning_сщзн.ckpt',\n",
    "  './models_enhancement_FR/model_vimeo11k_LPIPS_cheng2020_attn_quality2_FRtuning - Copy.ckpt']]\"\"\""
   ]
  },
  {
   "cell_type": "code",
   "execution_count": 4,
   "id": "tough-excuse",
   "metadata": {},
   "outputs": [],
   "source": [
    "from compressai.zoo import cheng2020_attn\n",
    "device_met = \"cuda:0\"\n",
    "device_enh = \"cuda:0\"\n",
    "device_sub = \"cpu\"\n",
    "num_frames = 6\n",
    "#net_codec = cheng2020_attn(quality=3, pretrained=True).to(device_met).requires_grad_(True)"
   ]
  },
  {
   "cell_type": "code",
   "execution_count": 5,
   "id": "former-disease",
   "metadata": {},
   "outputs": [],
   "source": [
    "codecs_all_neural = [cheng2020_attn(quality=1, pretrained=True,device = device_sub),cheng2020_attn(quality=3, pretrained=True,device = device_sub), cheng2020_attn(quality=4, pretrained=True,device = device_sub), cheng2020_attn(quality=6, pretrained=True,device = device_sub),]\n",
    "codecs_all_motion = [\" -c:v mjpeg -q:v 1 \",\" -c:v mjpeg -q:v 2 \", \" -c:v mjpeg -q:v 3 \", \" -c:v mjpeg -q:v 5 \", \" -c:v mjpeg -q:v 7 \", \" -c:v mjpeg -q:v 9 \"]\n",
    "codecs_all_test = [\" -vcodec libx264   -preset:v medium -b:v 100k \",\n",
    "                   \" -vcodec libx264   -preset:v medium -b:v 3M \"]\n",
    "codecs_all_h264 = [\" -vcodec libx264   -preset:v medium -b:v 100k \",\n",
    "                   \" -vcodec libx264   -preset:v medium -b:v 200k \",\n",
    "                   \" -vcodec libx264   -preset:v medium -b:v 300k \",\n",
    "                   \" -vcodec libx264   -preset:v medium -b:v 500k \",\n",
    "                   \" -vcodec libx264   -preset:v medium -b:v 1M \",\n",
    "                   \" -vcodec libx264   -preset:v medium -b:v 2M \",\n",
    "                   \" -vcodec libx264   -preset:v medium -b:v 3M \",\n",
    "                   \" -vcodec libx264   -preset:v medium -b:v 5M \",\n",
    "                   \" -vcodec libx264   -preset:v medium -b:v 7M \"\n",
    "                   \" -vcodec libx264   -preset:v medium -b:v 9M \",\n",
    "                   \" -vcodec libx264   -preset:v medium -b:v 12M \"]\n",
    "codecs_all_neural_2 = [cheng2020_attn(quality=3, pretrained=True), cheng2020_attn(quality=6, pretrained=True)]\n",
    "codecs_all_motion_1 = [\" -c:v mjpeg -q:v 3 \"]\n",
    "codecs_all_h264_3 = [ \" -vcodec libx264   -preset:v medium -b:v 3M \",]"
   ]
  },
  {
   "cell_type": "code",
   "execution_count": 6,
   "id": "thirty-hindu",
   "metadata": {},
   "outputs": [
    {
     "data": {
      "text/html": [
       "Finishing last run (ID:8ugwjvza) before initializing another..."
      ],
      "text/plain": [
       "<IPython.core.display.HTML object>"
      ]
     },
     "metadata": {},
     "output_type": "display_data"
    },
    {
     "name": "stdout",
     "output_type": "stream",
     "text": [
      "\n"
     ]
    },
    {
     "data": {
      "text/html": [
       "Waiting for W&B process to finish... <strong style=\"color:green\">(success).</strong>"
      ],
      "text/plain": [
       "<IPython.core.display.HTML object>"
      ]
     },
     "metadata": {},
     "output_type": "display_data"
    },
    {
     "data": {
      "application/vnd.jupyter.widget-view+json": {
       "model_id": "",
       "version_major": 2,
       "version_minor": 0
      },
      "text/plain": [
       "VBox(children=(Label(value='28.315 MB of 28.315 MB uploaded (0.000 MB deduped)\\r'), FloatProgress(value=1.0, m…"
      ]
     },
     "metadata": {},
     "output_type": "display_data"
    },
    {
     "data": {
      "text/html": [
       "Synced <strong style=\"color:#cdcd00\">Tests White box full-reference training</strong>: <a href=\"https://wandb.ai/havent_invented/White%20box%20training/runs/8ugwjvza\" target=\"_blank\">https://wandb.ai/havent_invented/White%20box%20training/runs/8ugwjvza</a><br/>Synced 6 W&B file(s), 0 media file(s), 0 artifact file(s) and 2 other file(s)"
      ],
      "text/plain": [
       "<IPython.core.display.HTML object>"
      ]
     },
     "metadata": {},
     "output_type": "display_data"
    },
    {
     "data": {
      "text/html": [
       "Find logs at: <code>.\\wandb\\run-20220404_075945-8ugwjvza\\logs</code>"
      ],
      "text/plain": [
       "<IPython.core.display.HTML object>"
      ]
     },
     "metadata": {},
     "output_type": "display_data"
    },
    {
     "data": {
      "text/html": [
       "Successfully finished last run (ID:8ugwjvza). Initializing new run:<br/>"
      ],
      "text/plain": [
       "<IPython.core.display.HTML object>"
      ]
     },
     "metadata": {},
     "output_type": "display_data"
    },
    {
     "data": {
      "text/html": [
       "Tracking run with wandb version 0.12.11"
      ],
      "text/plain": [
       "<IPython.core.display.HTML object>"
      ]
     },
     "metadata": {},
     "output_type": "display_data"
    },
    {
     "data": {
      "text/html": [
       "Run data is saved locally in <code>E:\\VMAF_METRIX\\NeuralNetworkCompression\\wandb\\run-20220404_080015-2wfxtuv4</code>"
      ],
      "text/plain": [
       "<IPython.core.display.HTML object>"
      ]
     },
     "metadata": {},
     "output_type": "display_data"
    },
    {
     "data": {
      "text/html": [
       "Syncing run <strong><a href=\"https://wandb.ai/havent_invented/Whitebox_strong_metrics_attacks/runs/2wfxtuv4\" target=\"_blank\">RD_curves_all_met_18_03With Preprocessing</a></strong> to <a href=\"https://wandb.ai/havent_invented/Whitebox_strong_metrics_attacks\" target=\"_blank\">Weights & Biases</a> (<a href=\"https://wandb.me/run\" target=\"_blank\">docs</a>)<br/>"
      ],
      "text/plain": [
       "<IPython.core.display.HTML object>"
      ]
     },
     "metadata": {},
     "output_type": "display_data"
    },
    {
     "data": {
      "application/vnd.jupyter.widget-view+json": {
       "model_id": "fc654c9811ba4f828a78e602b1738870",
       "version_major": 2,
       "version_minor": 0
      },
      "text/plain": [
       "0it [00:00, ?it/s]"
      ]
     },
     "metadata": {},
     "output_type": "display_data"
    },
    {
     "data": {
      "application/vnd.jupyter.widget-view+json": {
       "model_id": "be0c18e358ca42c9b9b3c347e83bcb10",
       "version_major": 2,
       "version_minor": 0
      },
      "text/plain": [
       "0it [00:00, ?it/s]"
      ]
     },
     "metadata": {},
     "output_type": "display_data"
    },
    {
     "name": "stdout",
     "output_type": "stream",
     "text": [
      "DISTS ./models_enhancement_FR/model_vimeo11k_DISTS_cheng2020_attn_quality2_FRtuning.ckpt\n"
     ]
    },
    {
     "data": {
      "application/vnd.jupyter.widget-view+json": {
       "model_id": "276545a3230d4cde9100f01ed808586d",
       "version_major": 2,
       "version_minor": 0
      },
      "text/plain": [
       "0it [00:00, ?it/s]"
      ]
     },
     "metadata": {},
     "output_type": "display_data"
    },
    {
     "name": "stderr",
     "output_type": "stream",
     "text": [
      "C:\\ProgramData\\Anaconda3\\envs\\backup\\lib\\site-packages\\torch\\nn\\functional.py:718: UserWarning: Named tensors and all their associated APIs are an experimental feature and subject to change. Please do not use them for anything important until they are released as stable. (Triggered internally at  ..\\c10/core/TensorImpl.h:1156.)\n",
      "  return torch.max_pool2d(input, kernel_size, stride, padding, dilation, ceil_mode)\n"
     ]
    },
    {
     "data": {
      "application/vnd.jupyter.widget-view+json": {
       "model_id": "9ae7c4de00fb4d27a3fab817b92cc4b9",
       "version_major": 2,
       "version_minor": 0
      },
      "text/plain": [
       "0it [00:00, ?it/s]"
      ]
     },
     "metadata": {},
     "output_type": "display_data"
    },
    {
     "name": "stdout",
     "output_type": "stream",
     "text": [
      "[{'mse': [0.02498469], 'bpp_loss': [0.6834721], 'loss_classic': [16.929766], 'PSNR': [16.030905], 'DISTS': [0.27905014], 'loss': [558.12524], 'bitrate': [1.585996]}]\n",
      "LPIPS ./models_enhancement_FR/model_vimeo11k_LPIPS_cheng2020_attn_quality2_FRtuning.ckpt\n"
     ]
    },
    {
     "data": {
      "application/vnd.jupyter.widget-view+json": {
       "model_id": "e130b9f1353a4df397b80e2274e06d4f",
       "version_major": 2,
       "version_minor": 0
      },
      "text/plain": [
       "0it [00:00, ?it/s]"
      ]
     },
     "metadata": {},
     "output_type": "display_data"
    },
    {
     "data": {
      "application/vnd.jupyter.widget-view+json": {
       "model_id": "09ce3b93eee143cc96d262585badd59e",
       "version_major": 2,
       "version_minor": 0
      },
      "text/plain": [
       "0it [00:00, ?it/s]"
      ]
     },
     "metadata": {},
     "output_type": "display_data"
    },
    {
     "name": "stdout",
     "output_type": "stream",
     "text": [
      "[{'mse': [0.0039160335], 'bpp_loss': [0.6834721], 'loss_classic': [3.229873], 'PSNR': [24.086205], 'LPIPS': [0.133692], 'loss': [267.38788], 'bitrate': [2.645603]}]\n",
      "LPIPS1 ./models_enhancement_FR/model_vimeo11k_LPIPS1_no_codec_FRtuning.ckpt\n"
     ]
    },
    {
     "data": {
      "application/vnd.jupyter.widget-view+json": {
       "model_id": "b82a315c6fb24fa390c631fe5dddabd0",
       "version_major": 2,
       "version_minor": 0
      },
      "text/plain": [
       "0it [00:00, ?it/s]"
      ]
     },
     "metadata": {},
     "output_type": "display_data"
    },
    {
     "data": {
      "application/vnd.jupyter.widget-view+json": {
       "model_id": "4258f0caab544e71b8246065e3601c9c",
       "version_major": 2,
       "version_minor": 0
      },
      "text/plain": [
       "0it [00:00, ?it/s]"
      ]
     },
     "metadata": {},
     "output_type": "display_data"
    },
    {
     "name": "stdout",
     "output_type": "stream",
     "text": [
      "[{'mse': [0.013352197], 'bpp_loss': [0.6834721], 'loss_classic': [9.365738], 'PSNR': [18.750689], 'LPIPS1': [0.25786608], 'loss': [515.7455], 'bitrate': [1.578312]}]\n"
     ]
    },
    {
     "data": {
      "application/vnd.jupyter.widget-view+json": {
       "model_id": "7cb09c14218740b0a0b45222410d51e2",
       "version_major": 2,
       "version_minor": 0
      },
      "text/plain": [
       "0it [00:00, ?it/s]"
      ]
     },
     "metadata": {},
     "output_type": "display_data"
    },
    {
     "name": "stdout",
     "output_type": "stream",
     "text": [
      "DISTS ./models_enhancement_FR/model_vimeo11k_DISTS_cheng2020_attn_quality2_FRtuning.ckpt\n"
     ]
    },
    {
     "data": {
      "application/vnd.jupyter.widget-view+json": {
       "model_id": "b7c5828036f8486db93be604092e8e2b",
       "version_major": 2,
       "version_minor": 0
      },
      "text/plain": [
       "0it [00:00, ?it/s]"
      ]
     },
     "metadata": {},
     "output_type": "display_data"
    },
    {
     "data": {
      "application/vnd.jupyter.widget-view+json": {
       "model_id": "c2849fd535aa4ef39dab8ca3b17d0242",
       "version_major": 2,
       "version_minor": 0
      },
      "text/plain": [
       "0it [00:00, ?it/s]"
      ]
     },
     "metadata": {},
     "output_type": "display_data"
    },
    {
     "name": "stdout",
     "output_type": "stream",
     "text": [
      "[{'mse': [0.0058863023], 'bpp_loss': [0.6834721], 'loss_classic': [4.51104], 'PSNR': [23.502335], 'DISTS': [0.29983225], 'loss': [599.6704], 'bitrate': [1.111071]}]\n",
      "LPIPS ./models_enhancement_FR/model_vimeo11k_LPIPS_cheng2020_attn_quality2_FRtuning.ckpt\n"
     ]
    },
    {
     "data": {
      "application/vnd.jupyter.widget-view+json": {
       "model_id": "319b5555bb7345ada5bb8d24882e3217",
       "version_major": 2,
       "version_minor": 0
      },
      "text/plain": [
       "0it [00:00, ?it/s]"
      ]
     },
     "metadata": {},
     "output_type": "display_data"
    },
    {
     "data": {
      "application/vnd.jupyter.widget-view+json": {
       "model_id": "9f67ac571e2a4ab893862f0b683a9d46",
       "version_major": 2,
       "version_minor": 0
      },
      "text/plain": [
       "0it [00:00, ?it/s]"
      ]
     },
     "metadata": {},
     "output_type": "display_data"
    },
    {
     "name": "stdout",
     "output_type": "stream",
     "text": [
      "[{'mse': [0.0030386331], 'bpp_loss': [0.6834721], 'loss_classic': [2.6593432], 'PSNR': [25.580944], 'LPIPS': [0.20268092], 'loss': [405.36487], 'bitrate': [1.7766]}]\n",
      "LPIPS1 ./models_enhancement_FR/model_vimeo11k_LPIPS1_no_codec_FRtuning.ckpt\n"
     ]
    },
    {
     "data": {
      "application/vnd.jupyter.widget-view+json": {
       "model_id": "a00a6736c263484e94d9b6dbe5141509",
       "version_major": 2,
       "version_minor": 0
      },
      "text/plain": [
       "0it [00:00, ?it/s]"
      ]
     },
     "metadata": {},
     "output_type": "display_data"
    },
    {
     "data": {
      "application/vnd.jupyter.widget-view+json": {
       "model_id": "d74d4396d56644659e82ba1b594b99b7",
       "version_major": 2,
       "version_minor": 0
      },
      "text/plain": [
       "0it [00:00, ?it/s]"
      ]
     },
     "metadata": {},
     "output_type": "display_data"
    },
    {
     "name": "stdout",
     "output_type": "stream",
     "text": [
      "[{'mse': [0.002892774], 'bpp_loss': [0.6834721], 'loss_classic': [2.5644984], 'PSNR': [28.045826], 'LPIPS1': [0.22950587], 'loss': [459.01462], 'bitrate': [1.017443]}]\n"
     ]
    },
    {
     "data": {
      "application/vnd.jupyter.widget-view+json": {
       "model_id": "7eb7a25dfbc743c88f5c946bdd630f81",
       "version_major": 2,
       "version_minor": 0
      },
      "text/plain": [
       "0it [00:00, ?it/s]"
      ]
     },
     "metadata": {},
     "output_type": "display_data"
    },
    {
     "name": "stdout",
     "output_type": "stream",
     "text": [
      "DISTS ./models_enhancement_FR/model_vimeo11k_DISTS_cheng2020_attn_quality2_FRtuning.ckpt\n"
     ]
    },
    {
     "data": {
      "application/vnd.jupyter.widget-view+json": {
       "model_id": "de1886817a264c16a00c1995c43be857",
       "version_major": 2,
       "version_minor": 0
      },
      "text/plain": [
       "0it [00:00, ?it/s]"
      ]
     },
     "metadata": {},
     "output_type": "display_data"
    },
    {
     "data": {
      "application/vnd.jupyter.widget-view+json": {
       "model_id": "ec98c20ac9864284b6695929581ac287",
       "version_major": 2,
       "version_minor": 0
      },
      "text/plain": [
       "0it [00:00, ?it/s]"
      ]
     },
     "metadata": {},
     "output_type": "display_data"
    },
    {
     "name": "stdout",
     "output_type": "stream",
     "text": [
      "[{'mse': [0.0034823664], 'bpp_loss': [0.6834721], 'loss_classic': [2.947881], 'PSNR': [24.97339], 'DISTS': [0.2589637], 'loss': [517.9309], 'bitrate': [0.709443]}]\n",
      "LPIPS ./models_enhancement_FR/model_vimeo11k_LPIPS_cheng2020_attn_quality2_FRtuning.ckpt\n"
     ]
    },
    {
     "data": {
      "application/vnd.jupyter.widget-view+json": {
       "model_id": "f68b861e57bb4163b9a19e44c91d3d3a",
       "version_major": 2,
       "version_minor": 0
      },
      "text/plain": [
       "0it [00:00, ?it/s]"
      ]
     },
     "metadata": {},
     "output_type": "display_data"
    },
    {
     "data": {
      "application/vnd.jupyter.widget-view+json": {
       "model_id": "344eed3c7e194870bfbc8e8ba530de1a",
       "version_major": 2,
       "version_minor": 0
      },
      "text/plain": [
       "0it [00:00, ?it/s]"
      ]
     },
     "metadata": {},
     "output_type": "display_data"
    },
    {
     "name": "stdout",
     "output_type": "stream",
     "text": [
      "[{'mse': [0.003303963], 'bpp_loss': [0.6834721], 'loss_classic': [2.8318741], 'PSNR': [24.888773], 'LPIPS': [0.29317483], 'loss': [586.3529], 'bitrate': [0.955218]}]\n",
      "LPIPS1 ./models_enhancement_FR/model_vimeo11k_LPIPS1_no_codec_FRtuning.ckpt\n"
     ]
    },
    {
     "data": {
      "application/vnd.jupyter.widget-view+json": {
       "model_id": "f135e420b5b64f1ca6f0ebe23be96cb0",
       "version_major": 2,
       "version_minor": 0
      },
      "text/plain": [
       "0it [00:00, ?it/s]"
      ]
     },
     "metadata": {},
     "output_type": "display_data"
    },
    {
     "data": {
      "application/vnd.jupyter.widget-view+json": {
       "model_id": "d56748a573ca4ba48c7054e0f339a96b",
       "version_major": 2,
       "version_minor": 0
      },
      "text/plain": [
       "0it [00:00, ?it/s]"
      ]
     },
     "metadata": {},
     "output_type": "display_data"
    },
    {
     "name": "stdout",
     "output_type": "stream",
     "text": [
      "[{'mse': [0.0008943352], 'bpp_loss': [0.6834721], 'loss_classic': [1.2650136], 'PSNR': [31.184658], 'LPIPS1': [0.2847874], 'loss': [569.5757], 'bitrate': [0.5989]}]\n"
     ]
    },
    {
     "data": {
      "application/vnd.jupyter.widget-view+json": {
       "model_id": "db3c0c99eb6e4b1096ae250538ea09ff",
       "version_major": 2,
       "version_minor": 0
      },
      "text/plain": [
       "0it [00:00, ?it/s]"
      ]
     },
     "metadata": {},
     "output_type": "display_data"
    },
    {
     "name": "stdout",
     "output_type": "stream",
     "text": [
      "DISTS ./models_enhancement_FR/model_vimeo11k_DISTS_cheng2020_attn_quality2_FRtuning.ckpt\n"
     ]
    },
    {
     "data": {
      "application/vnd.jupyter.widget-view+json": {
       "model_id": "1c19b881f90f4947a4e2959a13865a94",
       "version_major": 2,
       "version_minor": 0
      },
      "text/plain": [
       "0it [00:00, ?it/s]"
      ]
     },
     "metadata": {},
     "output_type": "display_data"
    },
    {
     "data": {
      "application/vnd.jupyter.widget-view+json": {
       "model_id": "220cae3ea17f4031bd90969abbf3ceaa",
       "version_major": 2,
       "version_minor": 0
      },
      "text/plain": [
       "0it [00:00, ?it/s]"
      ]
     },
     "metadata": {},
     "output_type": "display_data"
    },
    {
     "name": "stdout",
     "output_type": "stream",
     "text": [
      "[{'mse': [0.0053597167], 'bpp_loss': [0.6834721], 'loss_classic': [4.1686277], 'PSNR': [22.70889], 'DISTS': [0.22735396], 'loss': [454.71326], 'bitrate': [2.070215]}]\n",
      "LPIPS ./models_enhancement_FR/model_vimeo11k_LPIPS_cheng2020_attn_quality2_FRtuning.ckpt\n"
     ]
    },
    {
     "data": {
      "application/vnd.jupyter.widget-view+json": {
       "model_id": "bf5da72b013f4816826f4be8caa739bf",
       "version_major": 2,
       "version_minor": 0
      },
      "text/plain": [
       "0it [00:00, ?it/s]"
      ]
     },
     "metadata": {},
     "output_type": "display_data"
    },
    {
     "data": {
      "application/vnd.jupyter.widget-view+json": {
       "model_id": "701ba52b6ab046909d984711ac3c1407",
       "version_major": 2,
       "version_minor": 0
      },
      "text/plain": [
       "0it [00:00, ?it/s]"
      ]
     },
     "metadata": {},
     "output_type": "display_data"
    },
    {
     "name": "stdout",
     "output_type": "stream",
     "text": [
      "[{'mse': [0.0034152414], 'bpp_loss': [0.6834721], 'loss_classic': [2.9042327], 'PSNR': [24.67044], 'LPIPS': [0.14599587], 'loss': [291.99518], 'bitrate': [4.20764]}]\n",
      "LPIPS1 ./models_enhancement_FR/model_vimeo11k_LPIPS1_no_codec_FRtuning.ckpt\n"
     ]
    },
    {
     "data": {
      "application/vnd.jupyter.widget-view+json": {
       "model_id": "4e085dce64e74eee9b6ee02104562550",
       "version_major": 2,
       "version_minor": 0
      },
      "text/plain": [
       "0it [00:00, ?it/s]"
      ]
     },
     "metadata": {},
     "output_type": "display_data"
    },
    {
     "data": {
      "application/vnd.jupyter.widget-view+json": {
       "model_id": "15c074118b974ec59335c05a3abc04a1",
       "version_major": 2,
       "version_minor": 0
      },
      "text/plain": [
       "0it [00:00, ?it/s]"
      ]
     },
     "metadata": {},
     "output_type": "display_data"
    },
    {
     "name": "stdout",
     "output_type": "stream",
     "text": [
      "[{'mse': [0.0017142113], 'bpp_loss': [0.6834721], 'loss_classic': [1.798138], 'PSNR': [27.660849], 'LPIPS1': [0.14821541], 'loss': [296.43253], 'bitrate': [3.491453]}]\n"
     ]
    },
    {
     "data": {
      "application/vnd.jupyter.widget-view+json": {
       "model_id": "3462d6e16f59498489b1a7b8280ad065",
       "version_major": 2,
       "version_minor": 0
      },
      "text/plain": [
       "0it [00:00, ?it/s]"
      ]
     },
     "metadata": {},
     "output_type": "display_data"
    },
    {
     "name": "stdout",
     "output_type": "stream",
     "text": [
      "DISTS ./models_enhancement_FR/model_vimeo11k_DISTS_cheng2020_attn_quality2_FRtuning.ckpt\n"
     ]
    },
    {
     "data": {
      "application/vnd.jupyter.widget-view+json": {
       "model_id": "29a1be309a564bc19a1bd119db17cfac",
       "version_major": 2,
       "version_minor": 0
      },
      "text/plain": [
       "0it [00:00, ?it/s]"
      ]
     },
     "metadata": {},
     "output_type": "display_data"
    },
    {
     "data": {
      "application/vnd.jupyter.widget-view+json": {
       "model_id": "aaa48acb75c14d88ad35049dd8d44612",
       "version_major": 2,
       "version_minor": 0
      },
      "text/plain": [
       "0it [00:00, ?it/s]"
      ]
     },
     "metadata": {},
     "output_type": "display_data"
    },
    {
     "name": "stdout",
     "output_type": "stream",
     "text": [
      "[{'mse': [0.008453488], 'bpp_loss': [0.6834721], 'loss_classic': [6.180353], 'PSNR': [21.115177], 'DISTS': [0.27489248], 'loss': [549.7934], 'bitrate': [2.123637]}]\n",
      "LPIPS ./models_enhancement_FR/model_vimeo11k_LPIPS_cheng2020_attn_quality2_FRtuning.ckpt\n"
     ]
    },
    {
     "data": {
      "application/vnd.jupyter.widget-view+json": {
       "model_id": "9ac5c1898951412892898c27ee56e947",
       "version_major": 2,
       "version_minor": 0
      },
      "text/plain": [
       "0it [00:00, ?it/s]"
      ]
     },
     "metadata": {},
     "output_type": "display_data"
    },
    {
     "data": {
      "application/vnd.jupyter.widget-view+json": {
       "model_id": "5935ee9261d6435c901ceb5d2aa32058",
       "version_major": 2,
       "version_minor": 0
      },
      "text/plain": [
       "0it [00:00, ?it/s]"
      ]
     },
     "metadata": {},
     "output_type": "display_data"
    },
    {
     "name": "stdout",
     "output_type": "stream",
     "text": [
      "[{'mse': [0.0043561608], 'bpp_loss': [0.6834721], 'loss_classic': [3.5160658], 'PSNR': [23.717419], 'LPIPS': [0.1590197], 'loss': [318.04376], 'bitrate': [4.493184]}]\n",
      "LPIPS1 ./models_enhancement_FR/model_vimeo11k_LPIPS1_no_codec_FRtuning.ckpt\n"
     ]
    },
    {
     "data": {
      "application/vnd.jupyter.widget-view+json": {
       "model_id": "b8703d92931240b7b0ea131d86282d74",
       "version_major": 2,
       "version_minor": 0
      },
      "text/plain": [
       "0it [00:00, ?it/s]"
      ]
     },
     "metadata": {},
     "output_type": "display_data"
    },
    {
     "data": {
      "application/vnd.jupyter.widget-view+json": {
       "model_id": "a34ede7d0d644c429d112d63405f3152",
       "version_major": 2,
       "version_minor": 0
      },
      "text/plain": [
       "0it [00:00, ?it/s]"
      ]
     },
     "metadata": {},
     "output_type": "display_data"
    },
    {
     "name": "stdout",
     "output_type": "stream",
     "text": [
      "[{'mse': [0.0021503908], 'bpp_loss': [0.6834721], 'loss_classic': [2.0817637], 'PSNR': [27.006039], 'LPIPS1': [0.18871829], 'loss': [377.43878], 'bitrate': [3.81044]}]\n"
     ]
    },
    {
     "data": {
      "application/vnd.jupyter.widget-view+json": {
       "model_id": "b1fb7dda0e014101a9ece5e3707b0052",
       "version_major": 2,
       "version_minor": 0
      },
      "text/plain": [
       "0it [00:00, ?it/s]"
      ]
     },
     "metadata": {},
     "output_type": "display_data"
    },
    {
     "name": "stdout",
     "output_type": "stream",
     "text": [
      "DISTS ./models_enhancement_FR/model_vimeo11k_DISTS_cheng2020_attn_quality2_FRtuning.ckpt\n"
     ]
    },
    {
     "data": {
      "application/vnd.jupyter.widget-view+json": {
       "model_id": "66fee7a313e1438b9889b0d2346ee0c2",
       "version_major": 2,
       "version_minor": 0
      },
      "text/plain": [
       "0it [00:00, ?it/s]"
      ]
     },
     "metadata": {},
     "output_type": "display_data"
    },
    {
     "data": {
      "application/vnd.jupyter.widget-view+json": {
       "model_id": "a08d0f116a6648829eb7e020b6f8fa45",
       "version_major": 2,
       "version_minor": 0
      },
      "text/plain": [
       "0it [00:00, ?it/s]"
      ]
     },
     "metadata": {},
     "output_type": "display_data"
    },
    {
     "name": "stdout",
     "output_type": "stream",
     "text": [
      "[{'mse': [0.0032859808], 'bpp_loss': [0.6834721], 'loss_classic': [2.8201811], 'PSNR': [24.973888], 'DISTS': [0.24486062], 'loss': [489.72455], 'bitrate': [1.122859]}]\n",
      "LPIPS ./models_enhancement_FR/model_vimeo11k_LPIPS_cheng2020_attn_quality2_FRtuning.ckpt\n"
     ]
    },
    {
     "data": {
      "application/vnd.jupyter.widget-view+json": {
       "model_id": "442e55c3cce744bab211d7807e6bd0fe",
       "version_major": 2,
       "version_minor": 0
      },
      "text/plain": [
       "0it [00:00, ?it/s]"
      ]
     },
     "metadata": {},
     "output_type": "display_data"
    },
    {
     "data": {
      "application/vnd.jupyter.widget-view+json": {
       "model_id": "409e755c01bf48a983cc6c0dceaf2816",
       "version_major": 2,
       "version_minor": 0
      },
      "text/plain": [
       "0it [00:00, ?it/s]"
      ]
     },
     "metadata": {},
     "output_type": "display_data"
    },
    {
     "name": "stdout",
     "output_type": "stream",
     "text": [
      "[{'mse': [0.003396187], 'bpp_loss': [0.6834721], 'loss_classic': [2.8918428], 'PSNR': [24.762022], 'LPIPS': [0.2577967], 'loss': [515.5968], 'bitrate': [2.210162]}]\n",
      "LPIPS1 ./models_enhancement_FR/model_vimeo11k_LPIPS1_no_codec_FRtuning.ckpt\n"
     ]
    },
    {
     "data": {
      "application/vnd.jupyter.widget-view+json": {
       "model_id": "2359ffc68a3f4019998e0b5ef244e0d8",
       "version_major": 2,
       "version_minor": 0
      },
      "text/plain": [
       "0it [00:00, ?it/s]"
      ]
     },
     "metadata": {},
     "output_type": "display_data"
    },
    {
     "data": {
      "application/vnd.jupyter.widget-view+json": {
       "model_id": "0c734ca0cfb640cda75b116d4db5446e",
       "version_major": 2,
       "version_minor": 0
      },
      "text/plain": [
       "0it [00:00, ?it/s]"
      ]
     },
     "metadata": {},
     "output_type": "display_data"
    },
    {
     "name": "stdout",
     "output_type": "stream",
     "text": [
      "[{'mse': [0.0011654587], 'bpp_loss': [0.6834721], 'loss_classic': [1.4413116], 'PSNR': [29.429432], 'LPIPS1': [0.35398966], 'loss': [707.98047], 'bitrate': [1.175681]}]\n"
     ]
    },
    {
     "data": {
      "application/vnd.jupyter.widget-view+json": {
       "model_id": "2074030eb9264dc281269794ceac0012",
       "version_major": 2,
       "version_minor": 0
      },
      "text/plain": [
       "0it [00:00, ?it/s]"
      ]
     },
     "metadata": {},
     "output_type": "display_data"
    },
    {
     "name": "stdout",
     "output_type": "stream",
     "text": [
      "DISTS ./models_enhancement_FR/model_vimeo11k_DISTS_cheng2020_attn_quality2_FRtuning.ckpt\n"
     ]
    },
    {
     "data": {
      "application/vnd.jupyter.widget-view+json": {
       "model_id": "24483fdf5a8b4ef894d232e277570bd5",
       "version_major": 2,
       "version_minor": 0
      },
      "text/plain": [
       "0it [00:00, ?it/s]"
      ]
     },
     "metadata": {},
     "output_type": "display_data"
    },
    {
     "data": {
      "application/vnd.jupyter.widget-view+json": {
       "model_id": "acf1cf3b0bf144c781ab0d046434d351",
       "version_major": 2,
       "version_minor": 0
      },
      "text/plain": [
       "0it [00:00, ?it/s]"
      ]
     },
     "metadata": {},
     "output_type": "display_data"
    },
    {
     "name": "stdout",
     "output_type": "stream",
     "text": [
      "[{'mse': [0.0020393976], 'bpp_loss': [0.6834721], 'loss_classic': [2.0095904], 'PSNR': [26.906044], 'DISTS': [0.1793275], 'loss': [358.65704], 'bitrate': [1.669303]}]\n",
      "LPIPS ./models_enhancement_FR/model_vimeo11k_LPIPS_cheng2020_attn_quality2_FRtuning.ckpt\n"
     ]
    },
    {
     "data": {
      "application/vnd.jupyter.widget-view+json": {
       "model_id": "75b2e01578674133845c88c71b45d1c4",
       "version_major": 2,
       "version_minor": 0
      },
      "text/plain": [
       "0it [00:00, ?it/s]"
      ]
     },
     "metadata": {},
     "output_type": "display_data"
    },
    {
     "data": {
      "application/vnd.jupyter.widget-view+json": {
       "model_id": "64e2372ea9b04c3994f78ee9077b4158",
       "version_major": 2,
       "version_minor": 0
      },
      "text/plain": [
       "0it [00:00, ?it/s]"
      ]
     },
     "metadata": {},
     "output_type": "display_data"
    },
    {
     "name": "stdout",
     "output_type": "stream",
     "text": [
      "[{'mse': [0.003209941], 'bpp_loss': [0.6834721], 'loss_classic': [2.7707362], 'PSNR': [24.937443], 'LPIPS': [0.1612215], 'loss': [322.44623], 'bitrate': [2.936053]}]\n",
      "LPIPS1 ./models_enhancement_FR/model_vimeo11k_LPIPS1_no_codec_FRtuning.ckpt\n"
     ]
    },
    {
     "data": {
      "application/vnd.jupyter.widget-view+json": {
       "model_id": "1e7496820ed34ebab83968c6d24f2729",
       "version_major": 2,
       "version_minor": 0
      },
      "text/plain": [
       "0it [00:00, ?it/s]"
      ]
     },
     "metadata": {},
     "output_type": "display_data"
    },
    {
     "data": {
      "application/vnd.jupyter.widget-view+json": {
       "model_id": "0d22ddefa0364fcea2e9bdf76f4bc6a5",
       "version_major": 2,
       "version_minor": 0
      },
      "text/plain": [
       "0it [00:00, ?it/s]"
      ]
     },
     "metadata": {},
     "output_type": "display_data"
    },
    {
     "name": "stdout",
     "output_type": "stream",
     "text": [
      "[{'mse': [0.0010572481], 'bpp_loss': [0.6834721], 'loss_classic': [1.3709477], 'PSNR': [29.779663], 'LPIPS1': [0.17878145], 'loss': [357.56396], 'bitrate': [1.910153]}]\n",
      "\n"
     ]
    },
    {
     "data": {
      "text/html": [
       "Waiting for W&B process to finish... <strong style=\"color:green\">(success).</strong>"
      ],
      "text/plain": [
       "<IPython.core.display.HTML object>"
      ]
     },
     "metadata": {},
     "output_type": "display_data"
    },
    {
     "data": {
      "application/vnd.jupyter.widget-view+json": {
       "model_id": "",
       "version_major": 2,
       "version_minor": 0
      },
      "text/plain": [
       "VBox(children=(Label(value='28.324 MB of 28.324 MB uploaded (0.000 MB deduped)\\r'), FloatProgress(value=1.0, m…"
      ]
     },
     "metadata": {},
     "output_type": "display_data"
    },
    {
     "data": {
      "text/html": [
       "Synced <strong style=\"color:#cdcd00\">RD_curves_all_met_18_03With Preprocessing</strong>: <a href=\"https://wandb.ai/havent_invented/Whitebox_strong_metrics_attacks/runs/2wfxtuv4\" target=\"_blank\">https://wandb.ai/havent_invented/Whitebox_strong_metrics_attacks/runs/2wfxtuv4</a><br/>Synced 7 W&B file(s), 21 media file(s), 21 artifact file(s) and 1 other file(s)"
      ],
      "text/plain": [
       "<IPython.core.display.HTML object>"
      ]
     },
     "metadata": {},
     "output_type": "display_data"
    },
    {
     "data": {
      "text/html": [
       "Find logs at: <code>.\\wandb\\run-20220404_080015-2wfxtuv4\\logs</code>"
      ],
      "text/plain": [
       "<IPython.core.display.HTML object>"
      ]
     },
     "metadata": {},
     "output_type": "display_data"
    },
    {
     "name": "stdout",
     "output_type": "stream",
     "text": [
      "[[[{'mse': [0.02498469], 'bpp_loss': [0.6834721], 'loss_classic': [16.929766], 'PSNR': [16.030905], 'DISTS': [0.27905014], 'loss': [558.12524], 'bitrate': [1.585996]}], [{'mse': [0.0039160335], 'bpp_loss': [0.6834721], 'loss_classic': [3.229873], 'PSNR': [24.086205], 'LPIPS': [0.133692], 'loss': [267.38788], 'bitrate': [2.645603]}], [{'mse': [0.013352197], 'bpp_loss': [0.6834721], 'loss_classic': [9.365738], 'PSNR': [18.750689], 'LPIPS1': [0.25786608], 'loss': [515.7455], 'bitrate': [1.578312]}]], [[{'mse': [0.0058863023], 'bpp_loss': [0.6834721], 'loss_classic': [4.51104], 'PSNR': [23.502335], 'DISTS': [0.29983225], 'loss': [599.6704], 'bitrate': [1.111071]}], [{'mse': [0.0030386331], 'bpp_loss': [0.6834721], 'loss_classic': [2.6593432], 'PSNR': [25.580944], 'LPIPS': [0.20268092], 'loss': [405.36487], 'bitrate': [1.7766]}], [{'mse': [0.002892774], 'bpp_loss': [0.6834721], 'loss_classic': [2.5644984], 'PSNR': [28.045826], 'LPIPS1': [0.22950587], 'loss': [459.01462], 'bitrate': [1.017443]}]], [[{'mse': [0.0034823664], 'bpp_loss': [0.6834721], 'loss_classic': [2.947881], 'PSNR': [24.97339], 'DISTS': [0.2589637], 'loss': [517.9309], 'bitrate': [0.709443]}], [{'mse': [0.003303963], 'bpp_loss': [0.6834721], 'loss_classic': [2.8318741], 'PSNR': [24.888773], 'LPIPS': [0.29317483], 'loss': [586.3529], 'bitrate': [0.955218]}], [{'mse': [0.0008943352], 'bpp_loss': [0.6834721], 'loss_classic': [1.2650136], 'PSNR': [31.184658], 'LPIPS1': [0.2847874], 'loss': [569.5757], 'bitrate': [0.5989]}]], [[{'mse': [0.0053597167], 'bpp_loss': [0.6834721], 'loss_classic': [4.1686277], 'PSNR': [22.70889], 'DISTS': [0.22735396], 'loss': [454.71326], 'bitrate': [2.070215]}], [{'mse': [0.0034152414], 'bpp_loss': [0.6834721], 'loss_classic': [2.9042327], 'PSNR': [24.67044], 'LPIPS': [0.14599587], 'loss': [291.99518], 'bitrate': [4.20764]}], [{'mse': [0.0017142113], 'bpp_loss': [0.6834721], 'loss_classic': [1.798138], 'PSNR': [27.660849], 'LPIPS1': [0.14821541], 'loss': [296.43253], 'bitrate': [3.491453]}]], [[{'mse': [0.008453488], 'bpp_loss': [0.6834721], 'loss_classic': [6.180353], 'PSNR': [21.115177], 'DISTS': [0.27489248], 'loss': [549.7934], 'bitrate': [2.123637]}], [{'mse': [0.0043561608], 'bpp_loss': [0.6834721], 'loss_classic': [3.5160658], 'PSNR': [23.717419], 'LPIPS': [0.1590197], 'loss': [318.04376], 'bitrate': [4.493184]}], [{'mse': [0.0021503908], 'bpp_loss': [0.6834721], 'loss_classic': [2.0817637], 'PSNR': [27.006039], 'LPIPS1': [0.18871829], 'loss': [377.43878], 'bitrate': [3.81044]}]], [[{'mse': [0.0032859808], 'bpp_loss': [0.6834721], 'loss_classic': [2.8201811], 'PSNR': [24.973888], 'DISTS': [0.24486062], 'loss': [489.72455], 'bitrate': [1.122859]}], [{'mse': [0.003396187], 'bpp_loss': [0.6834721], 'loss_classic': [2.8918428], 'PSNR': [24.762022], 'LPIPS': [0.2577967], 'loss': [515.5968], 'bitrate': [2.210162]}], [{'mse': [0.0011654587], 'bpp_loss': [0.6834721], 'loss_classic': [1.4413116], 'PSNR': [29.429432], 'LPIPS1': [0.35398966], 'loss': [707.98047], 'bitrate': [1.175681]}]], [[{'mse': [0.0020393976], 'bpp_loss': [0.6834721], 'loss_classic': [2.0095904], 'PSNR': [26.906044], 'DISTS': [0.1793275], 'loss': [358.65704], 'bitrate': [1.669303]}], [{'mse': [0.003209941], 'bpp_loss': [0.6834721], 'loss_classic': [2.7707362], 'PSNR': [24.937443], 'LPIPS': [0.1612215], 'loss': [322.44623], 'bitrate': [2.936053]}], [{'mse': [0.0010572481], 'bpp_loss': [0.6834721], 'loss_classic': [1.3709477], 'PSNR': [29.779663], 'LPIPS1': [0.17878145], 'loss': [357.56396], 'bitrate': [1.910153]}]]]\n"
     ]
    },
    {
     "data": {
      "text/html": [
       "Tracking run with wandb version 0.12.11"
      ],
      "text/plain": [
       "<IPython.core.display.HTML object>"
      ]
     },
     "metadata": {},
     "output_type": "display_data"
    },
    {
     "data": {
      "text/html": [
       "Run data is saved locally in <code>E:\\VMAF_METRIX\\NeuralNetworkCompression\\wandb\\run-20220404_081217-985zdroz</code>"
      ],
      "text/plain": [
       "<IPython.core.display.HTML object>"
      ]
     },
     "metadata": {},
     "output_type": "display_data"
    },
    {
     "data": {
      "text/html": [
       "Syncing run <strong><a href=\"https://wandb.ai/havent_invented/Whitebox_strong_metrics_attacks/runs/985zdroz\" target=\"_blank\">RD_curves_all_met_18_03With Preprocessing</a></strong> to <a href=\"https://wandb.ai/havent_invented/Whitebox_strong_metrics_attacks\" target=\"_blank\">Weights & Biases</a> (<a href=\"https://wandb.me/run\" target=\"_blank\">docs</a>)<br/>"
      ],
      "text/plain": [
       "<IPython.core.display.HTML object>"
      ]
     },
     "metadata": {},
     "output_type": "display_data"
    },
    {
     "data": {
      "application/vnd.jupyter.widget-view+json": {
       "model_id": "cdb456c32451445bbd799202af80b3f6",
       "version_major": 2,
       "version_minor": 0
      },
      "text/plain": [
       "0it [00:00, ?it/s]"
      ]
     },
     "metadata": {},
     "output_type": "display_data"
    },
    {
     "data": {
      "application/vnd.jupyter.widget-view+json": {
       "model_id": "1ba602f619d748ad950d58ce5b3acc92",
       "version_major": 2,
       "version_minor": 0
      },
      "text/plain": [
       "0it [00:00, ?it/s]"
      ]
     },
     "metadata": {},
     "output_type": "display_data"
    },
    {
     "name": "stdout",
     "output_type": "stream",
     "text": [
      "DISTS ./models_enhancement_FR/model_vimeo11k_DISTS_cheng2020_attn_quality2_FRtuning.ckpt\n"
     ]
    },
    {
     "data": {
      "application/vnd.jupyter.widget-view+json": {
       "model_id": "4febe7dfc0654235a473f4dab8ea8d94",
       "version_major": 2,
       "version_minor": 0
      },
      "text/plain": [
       "0it [00:00, ?it/s]"
      ]
     },
     "metadata": {},
     "output_type": "display_data"
    },
    {
     "data": {
      "application/vnd.jupyter.widget-view+json": {
       "model_id": "9f856377755c4cd6be9578e4a81be548",
       "version_major": 2,
       "version_minor": 0
      },
      "text/plain": [
       "0it [00:00, ?it/s]"
      ]
     },
     "metadata": {},
     "output_type": "display_data"
    },
    {
     "name": "stdout",
     "output_type": "stream",
     "text": [
      "[{'mse': [0.024991903], 'bpp_loss': [0.6834721], 'loss_classic': [16.934456], 'PSNR': [16.029724], 'DISTS': [0.2794363], 'loss': [558.8976], 'bitrate': [2.750846]}]\n",
      "LPIPS ./models_enhancement_FR/model_vimeo11k_LPIPS_cheng2020_attn_quality2_FRtuning.ckpt\n"
     ]
    },
    {
     "data": {
      "application/vnd.jupyter.widget-view+json": {
       "model_id": "bb67b7bc2d254e16867d5e7e0204418b",
       "version_major": 2,
       "version_minor": 0
      },
      "text/plain": [
       "0it [00:00, ?it/s]"
      ]
     },
     "metadata": {},
     "output_type": "display_data"
    },
    {
     "data": {
      "application/vnd.jupyter.widget-view+json": {
       "model_id": "23c6346a5b1f4e08be89f017bcf9bb14",
       "version_major": 2,
       "version_minor": 0
      },
      "text/plain": [
       "0it [00:00, ?it/s]"
      ]
     },
     "metadata": {},
     "output_type": "display_data"
    },
    {
     "name": "stdout",
     "output_type": "stream",
     "text": [
      "[{'mse': [0.003956113], 'bpp_loss': [0.6834721], 'loss_classic': [3.2559345], 'PSNR': [24.041973], 'LPIPS': [0.13017996], 'loss': [260.3639], 'bitrate': [3.218465]}]\n",
      "LPIPS1 ./models_enhancement_FR/model_vimeo11k_LPIPS1_no_codec_FRtuning.ckpt\n"
     ]
    },
    {
     "data": {
      "application/vnd.jupyter.widget-view+json": {
       "model_id": "4a42f7f31789423fa39ed60c6716500b",
       "version_major": 2,
       "version_minor": 0
      },
      "text/plain": [
       "0it [00:00, ?it/s]"
      ]
     },
     "metadata": {},
     "output_type": "display_data"
    },
    {
     "data": {
      "application/vnd.jupyter.widget-view+json": {
       "model_id": "02095b35338247e98e8d8cc83f53da21",
       "version_major": 2,
       "version_minor": 0
      },
      "text/plain": [
       "0it [00:00, ?it/s]"
      ]
     },
     "metadata": {},
     "output_type": "display_data"
    },
    {
     "name": "stdout",
     "output_type": "stream",
     "text": [
      "[{'mse': [0.013326948], 'bpp_loss': [0.6834721], 'loss_classic': [9.349319], 'PSNR': [18.758734], 'LPIPS1': [0.22631681], 'loss': [452.6469], 'bitrate': [3.009162]}]\n"
     ]
    },
    {
     "data": {
      "application/vnd.jupyter.widget-view+json": {
       "model_id": "3e94a52ae5274c4896fc93ba05f494db",
       "version_major": 2,
       "version_minor": 0
      },
      "text/plain": [
       "0it [00:00, ?it/s]"
      ]
     },
     "metadata": {},
     "output_type": "display_data"
    },
    {
     "name": "stdout",
     "output_type": "stream",
     "text": [
      "DISTS ./models_enhancement_FR/model_vimeo11k_DISTS_cheng2020_attn_quality2_FRtuning.ckpt\n"
     ]
    },
    {
     "data": {
      "application/vnd.jupyter.widget-view+json": {
       "model_id": "225fbbb7c9d84d269336ae802a74cc12",
       "version_major": 2,
       "version_minor": 0
      },
      "text/plain": [
       "0it [00:00, ?it/s]"
      ]
     },
     "metadata": {},
     "output_type": "display_data"
    },
    {
     "data": {
      "application/vnd.jupyter.widget-view+json": {
       "model_id": "acdd67f9e7204fa8bb0d58a271720b4f",
       "version_major": 2,
       "version_minor": 0
      },
      "text/plain": [
       "0it [00:00, ?it/s]"
      ]
     },
     "metadata": {},
     "output_type": "display_data"
    },
    {
     "name": "stdout",
     "output_type": "stream",
     "text": [
      "[{'mse': [0.0058743116], 'bpp_loss': [0.6834721], 'loss_classic': [4.5032425], 'PSNR': [23.511692], 'DISTS': [0.3241194], 'loss': [648.2446], 'bitrate': [2.815812]}]\n",
      "LPIPS ./models_enhancement_FR/model_vimeo11k_LPIPS_cheng2020_attn_quality2_FRtuning.ckpt\n"
     ]
    },
    {
     "data": {
      "application/vnd.jupyter.widget-view+json": {
       "model_id": "29894f6c55f54736a92b6717f6982b7a",
       "version_major": 2,
       "version_minor": 0
      },
      "text/plain": [
       "0it [00:00, ?it/s]"
      ]
     },
     "metadata": {},
     "output_type": "display_data"
    },
    {
     "data": {
      "application/vnd.jupyter.widget-view+json": {
       "model_id": "83e9fd574cba454397ba67f352798e86",
       "version_major": 2,
       "version_minor": 0
      },
      "text/plain": [
       "0it [00:00, ?it/s]"
      ]
     },
     "metadata": {},
     "output_type": "display_data"
    },
    {
     "name": "stdout",
     "output_type": "stream",
     "text": [
      "[{'mse': [0.0030640461], 'bpp_loss': [0.6834721], 'loss_classic': [2.675868], 'PSNR': [25.54842], 'LPIPS': [0.21096556], 'loss': [421.93417], 'bitrate': [3.060025]}]\n",
      "LPIPS1 ./models_enhancement_FR/model_vimeo11k_LPIPS1_no_codec_FRtuning.ckpt\n"
     ]
    },
    {
     "data": {
      "application/vnd.jupyter.widget-view+json": {
       "model_id": "124c4cf68c4e446bbd033b2dee7c05ef",
       "version_major": 2,
       "version_minor": 0
      },
      "text/plain": [
       "0it [00:00, ?it/s]"
      ]
     },
     "metadata": {},
     "output_type": "display_data"
    },
    {
     "data": {
      "application/vnd.jupyter.widget-view+json": {
       "model_id": "6ba960297c0345369777c202243abdfd",
       "version_major": 2,
       "version_minor": 0
      },
      "text/plain": [
       "0it [00:00, ?it/s]"
      ]
     },
     "metadata": {},
     "output_type": "display_data"
    },
    {
     "name": "stdout",
     "output_type": "stream",
     "text": [
      "[{'mse': [0.0028460692], 'bpp_loss': [0.6834721], 'loss_classic': [2.5341287], 'PSNR': [28.195412], 'LPIPS1': [0.18887195], 'loss': [377.74673], 'bitrate': [2.9024]}]\n"
     ]
    },
    {
     "data": {
      "application/vnd.jupyter.widget-view+json": {
       "model_id": "dad9808e9f2a4d419553f66a7776b4c1",
       "version_major": 2,
       "version_minor": 0
      },
      "text/plain": [
       "0it [00:00, ?it/s]"
      ]
     },
     "metadata": {},
     "output_type": "display_data"
    },
    {
     "name": "stdout",
     "output_type": "stream",
     "text": [
      "DISTS ./models_enhancement_FR/model_vimeo11k_DISTS_cheng2020_attn_quality2_FRtuning.ckpt\n"
     ]
    },
    {
     "data": {
      "application/vnd.jupyter.widget-view+json": {
       "model_id": "be51b2c8786645a6bacadda55e72f4ef",
       "version_major": 2,
       "version_minor": 0
      },
      "text/plain": [
       "0it [00:00, ?it/s]"
      ]
     },
     "metadata": {},
     "output_type": "display_data"
    },
    {
     "data": {
      "application/vnd.jupyter.widget-view+json": {
       "model_id": "c3352cd054e841c5aca9a42baa5d5eb7",
       "version_major": 2,
       "version_minor": 0
      },
      "text/plain": [
       "0it [00:00, ?it/s]"
      ]
     },
     "metadata": {},
     "output_type": "display_data"
    },
    {
     "name": "stdout",
     "output_type": "stream",
     "text": [
      "[{'mse': [0.0034772307], 'bpp_loss': [0.6834721], 'loss_classic': [2.9445412], 'PSNR': [24.980734], 'DISTS': [0.27646533], 'loss': [552.93414], 'bitrate': [2.839062]}]\n",
      "LPIPS ./models_enhancement_FR/model_vimeo11k_LPIPS_cheng2020_attn_quality2_FRtuning.ckpt\n"
     ]
    },
    {
     "data": {
      "application/vnd.jupyter.widget-view+json": {
       "model_id": "419caff4889848d8b5ad61d66aa5bb14",
       "version_major": 2,
       "version_minor": 0
      },
      "text/plain": [
       "0it [00:00, ?it/s]"
      ]
     },
     "metadata": {},
     "output_type": "display_data"
    },
    {
     "data": {
      "application/vnd.jupyter.widget-view+json": {
       "model_id": "ecc096eeab8f4862a320d72f5f490911",
       "version_major": 2,
       "version_minor": 0
      },
      "text/plain": [
       "0it [00:00, ?it/s]"
      ]
     },
     "metadata": {},
     "output_type": "display_data"
    },
    {
     "name": "stdout",
     "output_type": "stream",
     "text": [
      "[{'mse': [0.003320944], 'bpp_loss': [0.6834721], 'loss_classic': [2.842916], 'PSNR': [24.865654], 'LPIPS': [0.3240698], 'loss': [648.14294], 'bitrate': [2.950312]}]\n",
      "LPIPS1 ./models_enhancement_FR/model_vimeo11k_LPIPS1_no_codec_FRtuning.ckpt\n"
     ]
    },
    {
     "data": {
      "application/vnd.jupyter.widget-view+json": {
       "model_id": "acd4fd64ebc44559b8b7b15c08134eb0",
       "version_major": 2,
       "version_minor": 0
      },
      "text/plain": [
       "0it [00:00, ?it/s]"
      ]
     },
     "metadata": {},
     "output_type": "display_data"
    },
    {
     "data": {
      "application/vnd.jupyter.widget-view+json": {
       "model_id": "be0ba68371fa47a383d2c37bf63c95ee",
       "version_major": 2,
       "version_minor": 0
      },
      "text/plain": [
       "0it [00:00, ?it/s]"
      ]
     },
     "metadata": {},
     "output_type": "display_data"
    },
    {
     "name": "stdout",
     "output_type": "stream",
     "text": [
      "[{'mse': [0.00089164823], 'bpp_loss': [0.6834721], 'loss_classic': [1.2632663], 'PSNR': [31.206581], 'LPIPS1': [0.24593803], 'loss': [491.87692], 'bitrate': [2.859384]}]\n"
     ]
    },
    {
     "data": {
      "application/vnd.jupyter.widget-view+json": {
       "model_id": "0e20fca4bc1b441aa86a9db1bf2eb6bc",
       "version_major": 2,
       "version_minor": 0
      },
      "text/plain": [
       "0it [00:00, ?it/s]"
      ]
     },
     "metadata": {},
     "output_type": "display_data"
    },
    {
     "name": "stdout",
     "output_type": "stream",
     "text": [
      "DISTS ./models_enhancement_FR/model_vimeo11k_DISTS_cheng2020_attn_quality2_FRtuning.ckpt\n"
     ]
    },
    {
     "data": {
      "application/vnd.jupyter.widget-view+json": {
       "model_id": "e512151a7caa409ca32a918ca9305bb6",
       "version_major": 2,
       "version_minor": 0
      },
      "text/plain": [
       "0it [00:00, ?it/s]"
      ]
     },
     "metadata": {},
     "output_type": "display_data"
    },
    {
     "data": {
      "application/vnd.jupyter.widget-view+json": {
       "model_id": "8453b513ef4b473591b4f72c3e5d78d3",
       "version_major": 2,
       "version_minor": 0
      },
      "text/plain": [
       "0it [00:00, ?it/s]"
      ]
     },
     "metadata": {},
     "output_type": "display_data"
    },
    {
     "name": "stdout",
     "output_type": "stream",
     "text": [
      "[{'mse': [0.005223914], 'bpp_loss': [0.6834721], 'loss_classic': [4.0803223], 'PSNR': [22.820414], 'DISTS': [0.22868165], 'loss': [457.36856], 'bitrate': [2.625518]}]\n",
      "LPIPS ./models_enhancement_FR/model_vimeo11k_LPIPS_cheng2020_attn_quality2_FRtuning.ckpt\n"
     ]
    },
    {
     "data": {
      "application/vnd.jupyter.widget-view+json": {
       "model_id": "8e9f2561815b41c186576510065f57fe",
       "version_major": 2,
       "version_minor": 0
      },
      "text/plain": [
       "0it [00:00, ?it/s]"
      ]
     },
     "metadata": {},
     "output_type": "display_data"
    },
    {
     "data": {
      "application/vnd.jupyter.widget-view+json": {
       "model_id": "2af5c8d99288497cb8c77c7f5636528a",
       "version_major": 2,
       "version_minor": 0
      },
      "text/plain": [
       "0it [00:00, ?it/s]"
      ]
     },
     "metadata": {},
     "output_type": "display_data"
    },
    {
     "name": "stdout",
     "output_type": "stream",
     "text": [
      "[{'mse': [0.003450804], 'bpp_loss': [0.6834721], 'loss_classic': [2.9273574], 'PSNR': [24.625027], 'LPIPS': [0.1393512], 'loss': [278.70584], 'bitrate': [3.046593]}]\n",
      "LPIPS1 ./models_enhancement_FR/model_vimeo11k_LPIPS1_no_codec_FRtuning.ckpt\n"
     ]
    },
    {
     "data": {
      "application/vnd.jupyter.widget-view+json": {
       "model_id": "55bbd68ab9f04da483a4575fe25837bc",
       "version_major": 2,
       "version_minor": 0
      },
      "text/plain": [
       "0it [00:00, ?it/s]"
      ]
     },
     "metadata": {},
     "output_type": "display_data"
    },
    {
     "data": {
      "application/vnd.jupyter.widget-view+json": {
       "model_id": "e56d93723ddc4538980ad8b04d23f5ff",
       "version_major": 2,
       "version_minor": 0
      },
      "text/plain": [
       "0it [00:00, ?it/s]"
      ]
     },
     "metadata": {},
     "output_type": "display_data"
    },
    {
     "name": "stdout",
     "output_type": "stream",
     "text": [
      "[{'mse': [0.001568735], 'bpp_loss': [0.6834721], 'loss_classic': [1.7035421], 'PSNR': [28.048319], 'LPIPS1': [0.12440544], 'loss': [248.81245], 'bitrate': [3.005743]}]\n"
     ]
    },
    {
     "data": {
      "application/vnd.jupyter.widget-view+json": {
       "model_id": "c74981a62bce4120b984d7a40b0b8ce5",
       "version_major": 2,
       "version_minor": 0
      },
      "text/plain": [
       "0it [00:00, ?it/s]"
      ]
     },
     "metadata": {},
     "output_type": "display_data"
    },
    {
     "name": "stdout",
     "output_type": "stream",
     "text": [
      "DISTS ./models_enhancement_FR/model_vimeo11k_DISTS_cheng2020_attn_quality2_FRtuning.ckpt\n"
     ]
    },
    {
     "data": {
      "application/vnd.jupyter.widget-view+json": {
       "model_id": "dc180026df5d4f7f96cf7c4516f12544",
       "version_major": 2,
       "version_minor": 0
      },
      "text/plain": [
       "0it [00:00, ?it/s]"
      ]
     },
     "metadata": {},
     "output_type": "display_data"
    },
    {
     "data": {
      "application/vnd.jupyter.widget-view+json": {
       "model_id": "fd53a4559f40484a87a4c5f7ca7f7139",
       "version_major": 2,
       "version_minor": 0
      },
      "text/plain": [
       "0it [00:00, ?it/s]"
      ]
     },
     "metadata": {},
     "output_type": "display_data"
    },
    {
     "name": "stdout",
     "output_type": "stream",
     "text": [
      "[{'mse': [0.00832328], 'bpp_loss': [0.6834721], 'loss_classic': [6.095685], 'PSNR': [21.177246], 'DISTS': [0.27532014], 'loss': [550.6486], 'bitrate': [2.730718]}]\n",
      "LPIPS ./models_enhancement_FR/model_vimeo11k_LPIPS_cheng2020_attn_quality2_FRtuning.ckpt\n"
     ]
    },
    {
     "data": {
      "application/vnd.jupyter.widget-view+json": {
       "model_id": "ce960111f12f4a9a97ae524bc607299e",
       "version_major": 2,
       "version_minor": 0
      },
      "text/plain": [
       "0it [00:00, ?it/s]"
      ]
     },
     "metadata": {},
     "output_type": "display_data"
    },
    {
     "data": {
      "application/vnd.jupyter.widget-view+json": {
       "model_id": "9299b5217d634093a0b86fb45830b979",
       "version_major": 2,
       "version_minor": 0
      },
      "text/plain": [
       "0it [00:00, ?it/s]"
      ]
     },
     "metadata": {},
     "output_type": "display_data"
    },
    {
     "name": "stdout",
     "output_type": "stream",
     "text": [
      "[{'mse': [0.004411584], 'bpp_loss': [0.6834721], 'loss_classic': [3.552105], 'PSNR': [23.661621], 'LPIPS': [0.15527803], 'loss': [310.5605], 'bitrate': [3.258396]}]\n",
      "LPIPS1 ./models_enhancement_FR/model_vimeo11k_LPIPS1_no_codec_FRtuning.ckpt\n"
     ]
    },
    {
     "data": {
      "application/vnd.jupyter.widget-view+json": {
       "model_id": "5a19b2345ca7458d9f8a0ac4c22cd7b6",
       "version_major": 2,
       "version_minor": 0
      },
      "text/plain": [
       "0it [00:00, ?it/s]"
      ]
     },
     "metadata": {},
     "output_type": "display_data"
    },
    {
     "data": {
      "application/vnd.jupyter.widget-view+json": {
       "model_id": "cb39f4318fe743ff9c6252b02abfc288",
       "version_major": 2,
       "version_minor": 0
      },
      "text/plain": [
       "0it [00:00, ?it/s]"
      ]
     },
     "metadata": {},
     "output_type": "display_data"
    },
    {
     "name": "stdout",
     "output_type": "stream",
     "text": [
      "[{'mse': [0.0020414663], 'bpp_loss': [0.6834721], 'loss_classic': [2.0109355], 'PSNR': [27.266964], 'LPIPS1': [0.14752811], 'loss': [295.05826], 'bitrate': [3.219015]}]\n"
     ]
    },
    {
     "data": {
      "application/vnd.jupyter.widget-view+json": {
       "model_id": "252ac93782724a11941927a98744d2b3",
       "version_major": 2,
       "version_minor": 0
      },
      "text/plain": [
       "0it [00:00, ?it/s]"
      ]
     },
     "metadata": {},
     "output_type": "display_data"
    },
    {
     "name": "stdout",
     "output_type": "stream",
     "text": [
      "DISTS ./models_enhancement_FR/model_vimeo11k_DISTS_cheng2020_attn_quality2_FRtuning.ckpt\n"
     ]
    },
    {
     "data": {
      "application/vnd.jupyter.widget-view+json": {
       "model_id": "01a797874a244c9aa2644fd9b4d1347a",
       "version_major": 2,
       "version_minor": 0
      },
      "text/plain": [
       "0it [00:00, ?it/s]"
      ]
     },
     "metadata": {},
     "output_type": "display_data"
    },
    {
     "data": {
      "application/vnd.jupyter.widget-view+json": {
       "model_id": "d48cb5bc91ca4774ad236842525641d8",
       "version_major": 2,
       "version_minor": 0
      },
      "text/plain": [
       "0it [00:00, ?it/s]"
      ]
     },
     "metadata": {},
     "output_type": "display_data"
    },
    {
     "name": "stdout",
     "output_type": "stream",
     "text": [
      "[{'mse': [0.0032655853], 'bpp_loss': [0.6834721], 'loss_classic': [2.8069189], 'PSNR': [25.00002], 'DISTS': [0.25675106], 'loss': [513.5054], 'bitrate': [2.809815]}]\n",
      "LPIPS ./models_enhancement_FR/model_vimeo11k_LPIPS_cheng2020_attn_quality2_FRtuning.ckpt\n"
     ]
    },
    {
     "data": {
      "application/vnd.jupyter.widget-view+json": {
       "model_id": "65836a32778547b49e0d1382965e19f3",
       "version_major": 2,
       "version_minor": 0
      },
      "text/plain": [
       "0it [00:00, ?it/s]"
      ]
     },
     "metadata": {},
     "output_type": "display_data"
    },
    {
     "data": {
      "application/vnd.jupyter.widget-view+json": {
       "model_id": "32d217562850446b9360b9c11df6fcd1",
       "version_major": 2,
       "version_minor": 0
      },
      "text/plain": [
       "0it [00:00, ?it/s]"
      ]
     },
     "metadata": {},
     "output_type": "display_data"
    },
    {
     "name": "stdout",
     "output_type": "stream",
     "text": [
      "[{'mse': [0.003421149], 'bpp_loss': [0.6834721], 'loss_classic': [2.9080744], 'PSNR': [24.728632], 'LPIPS': [0.2615153], 'loss': [523.03394], 'bitrate': [3.173153]}]\n",
      "LPIPS1 ./models_enhancement_FR/model_vimeo11k_LPIPS1_no_codec_FRtuning.ckpt\n"
     ]
    },
    {
     "data": {
      "application/vnd.jupyter.widget-view+json": {
       "model_id": "bc2e5f92a9ec47fc9963ceafe6c58ac0",
       "version_major": 2,
       "version_minor": 0
      },
      "text/plain": [
       "0it [00:00, ?it/s]"
      ]
     },
     "metadata": {},
     "output_type": "display_data"
    },
    {
     "data": {
      "application/vnd.jupyter.widget-view+json": {
       "model_id": "9e03ef47792649808fa18e69cb113ece",
       "version_major": 2,
       "version_minor": 0
      },
      "text/plain": [
       "0it [00:00, ?it/s]"
      ]
     },
     "metadata": {},
     "output_type": "display_data"
    },
    {
     "name": "stdout",
     "output_type": "stream",
     "text": [
      "[{'mse': [0.0011003888], 'bpp_loss': [0.6834721], 'loss_classic': [1.3989999], 'PSNR': [29.68356], 'LPIPS1': [0.25866103], 'loss': [517.3231], 'bitrate': [3.049234]}]\n"
     ]
    },
    {
     "data": {
      "application/vnd.jupyter.widget-view+json": {
       "model_id": "0ca9b2961d9348119379a786f8992c89",
       "version_major": 2,
       "version_minor": 0
      },
      "text/plain": [
       "0it [00:00, ?it/s]"
      ]
     },
     "metadata": {},
     "output_type": "display_data"
    },
    {
     "name": "stdout",
     "output_type": "stream",
     "text": [
      "DISTS ./models_enhancement_FR/model_vimeo11k_DISTS_cheng2020_attn_quality2_FRtuning.ckpt\n"
     ]
    },
    {
     "data": {
      "application/vnd.jupyter.widget-view+json": {
       "model_id": "952337c4c7bb4117a736f98682024780",
       "version_major": 2,
       "version_minor": 0
      },
      "text/plain": [
       "0it [00:00, ?it/s]"
      ]
     },
     "metadata": {},
     "output_type": "display_data"
    },
    {
     "data": {
      "application/vnd.jupyter.widget-view+json": {
       "model_id": "100de8854b294fd8aab2438a2e222b6e",
       "version_major": 2,
       "version_minor": 0
      },
      "text/plain": [
       "0it [00:00, ?it/s]"
      ]
     },
     "metadata": {},
     "output_type": "display_data"
    },
    {
     "name": "stdout",
     "output_type": "stream",
     "text": [
      "[{'mse': [0.002009802], 'bpp_loss': [0.6834721], 'loss_classic': [1.9903458], 'PSNR': [26.969791], 'DISTS': [0.188077], 'loss': [376.156], 'bitrate': [2.681778]}]\n",
      "LPIPS ./models_enhancement_FR/model_vimeo11k_LPIPS_cheng2020_attn_quality2_FRtuning.ckpt\n"
     ]
    },
    {
     "data": {
      "application/vnd.jupyter.widget-view+json": {
       "model_id": "00162cef9cda4b1c94410da4a8cb5775",
       "version_major": 2,
       "version_minor": 0
      },
      "text/plain": [
       "0it [00:00, ?it/s]"
      ]
     },
     "metadata": {},
     "output_type": "display_data"
    },
    {
     "data": {
      "application/vnd.jupyter.widget-view+json": {
       "model_id": "e117cb842d7c4f078beaa628682bde17",
       "version_major": 2,
       "version_minor": 0
      },
      "text/plain": [
       "0it [00:00, ?it/s]"
      ]
     },
     "metadata": {},
     "output_type": "display_data"
    },
    {
     "name": "stdout",
     "output_type": "stream",
     "text": [
      "[{'mse': [0.003272151], 'bpp_loss': [0.6834721], 'loss_classic': [2.8111882], 'PSNR': [24.854195], 'LPIPS': [0.15909865], 'loss': [318.20056], 'bitrate': [3.040218]}]\n",
      "LPIPS1 ./models_enhancement_FR/model_vimeo11k_LPIPS1_no_codec_FRtuning.ckpt\n"
     ]
    },
    {
     "data": {
      "application/vnd.jupyter.widget-view+json": {
       "model_id": "e5c00fe065e2434785f82f938652b203",
       "version_major": 2,
       "version_minor": 0
      },
      "text/plain": [
       "0it [00:00, ?it/s]"
      ]
     },
     "metadata": {},
     "output_type": "display_data"
    },
    {
     "data": {
      "application/vnd.jupyter.widget-view+json": {
       "model_id": "650aa5548c9d4a7ab45c074b4322d0aa",
       "version_major": 2,
       "version_minor": 0
      },
      "text/plain": [
       "0it [00:00, ?it/s]"
      ]
     },
     "metadata": {},
     "output_type": "display_data"
    },
    {
     "name": "stdout",
     "output_type": "stream",
     "text": [
      "[{'mse': [0.0009828748], 'bpp_loss': [0.6834721], 'loss_classic': [1.3225865], 'PSNR': [30.10077], 'LPIPS1': [0.13137338], 'loss': [262.74774], 'bitrate': [2.913625]}]\n",
      "\n"
     ]
    },
    {
     "data": {
      "text/html": [
       "Waiting for W&B process to finish... <strong style=\"color:green\">(success).</strong>"
      ],
      "text/plain": [
       "<IPython.core.display.HTML object>"
      ]
     },
     "metadata": {},
     "output_type": "display_data"
    },
    {
     "data": {
      "application/vnd.jupyter.widget-view+json": {
       "model_id": "",
       "version_major": 2,
       "version_minor": 0
      },
      "text/plain": [
       "VBox(children=(Label(value='28.363 MB of 28.363 MB uploaded (0.000 MB deduped)\\r'), FloatProgress(value=1.0, m…"
      ]
     },
     "metadata": {},
     "output_type": "display_data"
    },
    {
     "data": {
      "text/html": [
       "Synced <strong style=\"color:#cdcd00\">RD_curves_all_met_18_03With Preprocessing</strong>: <a href=\"https://wandb.ai/havent_invented/Whitebox_strong_metrics_attacks/runs/985zdroz\" target=\"_blank\">https://wandb.ai/havent_invented/Whitebox_strong_metrics_attacks/runs/985zdroz</a><br/>Synced 7 W&B file(s), 21 media file(s), 21 artifact file(s) and 2 other file(s)"
      ],
      "text/plain": [
       "<IPython.core.display.HTML object>"
      ]
     },
     "metadata": {},
     "output_type": "display_data"
    },
    {
     "data": {
      "text/html": [
       "Find logs at: <code>.\\wandb\\run-20220404_081217-985zdroz\\logs</code>"
      ],
      "text/plain": [
       "<IPython.core.display.HTML object>"
      ]
     },
     "metadata": {},
     "output_type": "display_data"
    },
    {
     "name": "stdout",
     "output_type": "stream",
     "text": [
      "[[[{'mse': [0.024991903], 'bpp_loss': [0.6834721], 'loss_classic': [16.934456], 'PSNR': [16.029724], 'DISTS': [0.2794363], 'loss': [558.8976], 'bitrate': [2.750846]}], [{'mse': [0.003956113], 'bpp_loss': [0.6834721], 'loss_classic': [3.2559345], 'PSNR': [24.041973], 'LPIPS': [0.13017996], 'loss': [260.3639], 'bitrate': [3.218465]}], [{'mse': [0.013326948], 'bpp_loss': [0.6834721], 'loss_classic': [9.349319], 'PSNR': [18.758734], 'LPIPS1': [0.22631681], 'loss': [452.6469], 'bitrate': [3.009162]}]], [[{'mse': [0.0058743116], 'bpp_loss': [0.6834721], 'loss_classic': [4.5032425], 'PSNR': [23.511692], 'DISTS': [0.3241194], 'loss': [648.2446], 'bitrate': [2.815812]}], [{'mse': [0.0030640461], 'bpp_loss': [0.6834721], 'loss_classic': [2.675868], 'PSNR': [25.54842], 'LPIPS': [0.21096556], 'loss': [421.93417], 'bitrate': [3.060025]}], [{'mse': [0.0028460692], 'bpp_loss': [0.6834721], 'loss_classic': [2.5341287], 'PSNR': [28.195412], 'LPIPS1': [0.18887195], 'loss': [377.74673], 'bitrate': [2.9024]}]], [[{'mse': [0.0034772307], 'bpp_loss': [0.6834721], 'loss_classic': [2.9445412], 'PSNR': [24.980734], 'DISTS': [0.27646533], 'loss': [552.93414], 'bitrate': [2.839062]}], [{'mse': [0.003320944], 'bpp_loss': [0.6834721], 'loss_classic': [2.842916], 'PSNR': [24.865654], 'LPIPS': [0.3240698], 'loss': [648.14294], 'bitrate': [2.950312]}], [{'mse': [0.00089164823], 'bpp_loss': [0.6834721], 'loss_classic': [1.2632663], 'PSNR': [31.206581], 'LPIPS1': [0.24593803], 'loss': [491.87692], 'bitrate': [2.859384]}]], [[{'mse': [0.005223914], 'bpp_loss': [0.6834721], 'loss_classic': [4.0803223], 'PSNR': [22.820414], 'DISTS': [0.22868165], 'loss': [457.36856], 'bitrate': [2.625518]}], [{'mse': [0.003450804], 'bpp_loss': [0.6834721], 'loss_classic': [2.9273574], 'PSNR': [24.625027], 'LPIPS': [0.1393512], 'loss': [278.70584], 'bitrate': [3.046593]}], [{'mse': [0.001568735], 'bpp_loss': [0.6834721], 'loss_classic': [1.7035421], 'PSNR': [28.048319], 'LPIPS1': [0.12440544], 'loss': [248.81245], 'bitrate': [3.005743]}]], [[{'mse': [0.00832328], 'bpp_loss': [0.6834721], 'loss_classic': [6.095685], 'PSNR': [21.177246], 'DISTS': [0.27532014], 'loss': [550.6486], 'bitrate': [2.730718]}], [{'mse': [0.004411584], 'bpp_loss': [0.6834721], 'loss_classic': [3.552105], 'PSNR': [23.661621], 'LPIPS': [0.15527803], 'loss': [310.5605], 'bitrate': [3.258396]}], [{'mse': [0.0020414663], 'bpp_loss': [0.6834721], 'loss_classic': [2.0109355], 'PSNR': [27.266964], 'LPIPS1': [0.14752811], 'loss': [295.05826], 'bitrate': [3.219015]}]], [[{'mse': [0.0032655853], 'bpp_loss': [0.6834721], 'loss_classic': [2.8069189], 'PSNR': [25.00002], 'DISTS': [0.25675106], 'loss': [513.5054], 'bitrate': [2.809815]}], [{'mse': [0.003421149], 'bpp_loss': [0.6834721], 'loss_classic': [2.9080744], 'PSNR': [24.728632], 'LPIPS': [0.2615153], 'loss': [523.03394], 'bitrate': [3.173153]}], [{'mse': [0.0011003888], 'bpp_loss': [0.6834721], 'loss_classic': [1.3989999], 'PSNR': [29.68356], 'LPIPS1': [0.25866103], 'loss': [517.3231], 'bitrate': [3.049234]}]], [[{'mse': [0.002009802], 'bpp_loss': [0.6834721], 'loss_classic': [1.9903458], 'PSNR': [26.969791], 'DISTS': [0.188077], 'loss': [376.156], 'bitrate': [2.681778]}], [{'mse': [0.003272151], 'bpp_loss': [0.6834721], 'loss_classic': [2.8111882], 'PSNR': [24.854195], 'LPIPS': [0.15909865], 'loss': [318.20056], 'bitrate': [3.040218]}], [{'mse': [0.0009828748], 'bpp_loss': [0.6834721], 'loss_classic': [1.3225865], 'PSNR': [30.10077], 'LPIPS1': [0.13137338], 'loss': [262.74774], 'bitrate': [2.913625]}]]]\n"
     ]
    },
    {
     "data": {
      "text/html": [
       "Tracking run with wandb version 0.12.11"
      ],
      "text/plain": [
       "<IPython.core.display.HTML object>"
      ]
     },
     "metadata": {},
     "output_type": "display_data"
    },
    {
     "data": {
      "text/html": [
       "Run data is saved locally in <code>E:\\VMAF_METRIX\\NeuralNetworkCompression\\wandb\\run-20220404_082424-1s6ir4g2</code>"
      ],
      "text/plain": [
       "<IPython.core.display.HTML object>"
      ]
     },
     "metadata": {},
     "output_type": "display_data"
    },
    {
     "data": {
      "text/html": [
       "Syncing run <strong><a href=\"https://wandb.ai/havent_invented/Whitebox_strong_metrics_attacks/runs/1s6ir4g2\" target=\"_blank\">RD_curves_all_met_18_03With Preprocessing</a></strong> to <a href=\"https://wandb.ai/havent_invented/Whitebox_strong_metrics_attacks\" target=\"_blank\">Weights & Biases</a> (<a href=\"https://wandb.me/run\" target=\"_blank\">docs</a>)<br/>"
      ],
      "text/plain": [
       "<IPython.core.display.HTML object>"
      ]
     },
     "metadata": {},
     "output_type": "display_data"
    },
    {
     "data": {
      "application/vnd.jupyter.widget-view+json": {
       "model_id": "a1d272de008c46068ad23e84359d7f4a",
       "version_major": 2,
       "version_minor": 0
      },
      "text/plain": [
       "0it [00:00, ?it/s]"
      ]
     },
     "metadata": {},
     "output_type": "display_data"
    },
    {
     "data": {
      "application/vnd.jupyter.widget-view+json": {
       "model_id": "f38e4660a4d14d05b3e551841bfe8e58",
       "version_major": 2,
       "version_minor": 0
      },
      "text/plain": [
       "0it [00:00, ?it/s]"
      ]
     },
     "metadata": {},
     "output_type": "display_data"
    },
    {
     "name": "stdout",
     "output_type": "stream",
     "text": [
      "DISTS ./models_enhancement_FR/model_vimeo11k_DISTS_cheng2020_attn_quality2_FRtuning.ckpt\n"
     ]
    },
    {
     "data": {
      "application/vnd.jupyter.widget-view+json": {
       "model_id": "838e2cee98824835a1a0d914c8b49508",
       "version_major": 2,
       "version_minor": 0
      },
      "text/plain": [
       "0it [00:00, ?it/s]"
      ]
     },
     "metadata": {},
     "output_type": "display_data"
    },
    {
     "data": {
      "application/vnd.jupyter.widget-view+json": {
       "model_id": "2735aa71ef924d8286b62c4c73d6a862",
       "version_major": 2,
       "version_minor": 0
      },
      "text/plain": [
       "0it [00:00, ?it/s]"
      ]
     },
     "metadata": {},
     "output_type": "display_data"
    },
    {
     "name": "stdout",
     "output_type": "stream",
     "text": [
      "[{'mse': [0.025214061, 0.025139244], 'bpp_loss': [0.23041785, 0.469162], 'loss_classic': [16.625862, 16.815956], 'PSNR': [15.991732, 16.004507], 'loss': [0.025214061, 0.025139244]}]\n",
      "LPIPS ./models_enhancement_FR/model_vimeo11k_LPIPS_cheng2020_attn_quality2_FRtuning.ckpt\n"
     ]
    },
    {
     "data": {
      "application/vnd.jupyter.widget-view+json": {
       "model_id": "dad59cc0e7f3402f858716b37f7dce1e",
       "version_major": 2,
       "version_minor": 0
      },
      "text/plain": [
       "0it [00:00, ?it/s]"
      ]
     },
     "metadata": {},
     "output_type": "display_data"
    },
    {
     "data": {
      "application/vnd.jupyter.widget-view+json": {
       "model_id": "96ad80617611433c94dab45c56937469",
       "version_major": 2,
       "version_minor": 0
      },
      "text/plain": [
       "0it [00:00, ?it/s]"
      ]
     },
     "metadata": {},
     "output_type": "display_data"
    },
    {
     "name": "stdout",
     "output_type": "stream",
     "text": [
      "[{'mse': [0.004354692, 0.004612311], 'bpp_loss': [0.33603784, 0.9227921], 'loss_classic': [3.1676764, 3.9219475], 'PSNR': [23.625267, 23.374012], 'loss': [0.004354692, 0.004612311]}]\n",
      "LPIPS1 ./models_enhancement_FR/model_vimeo11k_LPIPS1_no_codec_FRtuning.ckpt\n"
     ]
    },
    {
     "data": {
      "application/vnd.jupyter.widget-view+json": {
       "model_id": "0e8d5b0d4bc045f3b01563903a80b01e",
       "version_major": 2,
       "version_minor": 0
      },
      "text/plain": [
       "0it [00:00, ?it/s]"
      ]
     },
     "metadata": {},
     "output_type": "display_data"
    },
    {
     "data": {
      "application/vnd.jupyter.widget-view+json": {
       "model_id": "49233ac47477401994d601e55a12767b",
       "version_major": 2,
       "version_minor": 0
      },
      "text/plain": [
       "0it [00:00, ?it/s]"
      ]
     },
     "metadata": {},
     "output_type": "display_data"
    },
    {
     "name": "stdout",
     "output_type": "stream",
     "text": [
      "[{'mse': [0.013609586, 0.013457276], 'bpp_loss': [0.19553427, 0.475437], 'loss_classic': [9.045168, 9.22603], 'PSNR': [18.667366, 18.716137], 'loss': [0.013609586, 0.013457276]}]\n"
     ]
    },
    {
     "data": {
      "application/vnd.jupyter.widget-view+json": {
       "model_id": "0e8fe1831ce745a99db5f9fb7d586360",
       "version_major": 2,
       "version_minor": 0
      },
      "text/plain": [
       "0it [00:00, ?it/s]"
      ]
     },
     "metadata": {},
     "output_type": "display_data"
    },
    {
     "name": "stdout",
     "output_type": "stream",
     "text": [
      "DISTS ./models_enhancement_FR/model_vimeo11k_DISTS_cheng2020_attn_quality2_FRtuning.ckpt\n"
     ]
    },
    {
     "data": {
      "application/vnd.jupyter.widget-view+json": {
       "model_id": "642f2e8d3c8949c1af35415cd30da2f1",
       "version_major": 2,
       "version_minor": 0
      },
      "text/plain": [
       "0it [00:00, ?it/s]"
      ]
     },
     "metadata": {},
     "output_type": "display_data"
    },
    {
     "data": {
      "application/vnd.jupyter.widget-view+json": {
       "model_id": "370273d2e8684f5f9fbfc1753856b64c",
       "version_major": 2,
       "version_minor": 0
      },
      "text/plain": [
       "0it [00:00, ?it/s]"
      ]
     },
     "metadata": {},
     "output_type": "display_data"
    },
    {
     "name": "stdout",
     "output_type": "stream",
     "text": [
      "[{'mse': [0.0062342943, 0.006256292], 'bpp_loss': [0.17771693, 0.3621606], 'loss_classic': [4.231567, 4.4303145], 'PSNR': [23.188717, 23.134802], 'loss': [0.0062342943, 0.006256292]}]\n",
      "LPIPS ./models_enhancement_FR/model_vimeo11k_LPIPS_cheng2020_attn_quality2_FRtuning.ckpt\n"
     ]
    },
    {
     "data": {
      "application/vnd.jupyter.widget-view+json": {
       "model_id": "b18ca81cf9ce4faaab00ad96168b0995",
       "version_major": 2,
       "version_minor": 0
      },
      "text/plain": [
       "0it [00:00, ?it/s]"
      ]
     },
     "metadata": {},
     "output_type": "display_data"
    },
    {
     "data": {
      "application/vnd.jupyter.widget-view+json": {
       "model_id": "cdfb94336dfa4ed7800a7430044386c9",
       "version_major": 2,
       "version_minor": 0
      },
      "text/plain": [
       "0it [00:00, ?it/s]"
      ]
     },
     "metadata": {},
     "output_type": "display_data"
    },
    {
     "name": "stdout",
     "output_type": "stream",
     "text": [
      "[{'mse': [0.0036468788, 0.0036806725], 'bpp_loss': [0.24303472, 0.6722896], 'loss_classic': [2.6144176, 3.0656471], 'PSNR': [24.629663, 24.626514], 'loss': [0.0036468788, 0.0036806725]}]\n",
      "LPIPS1 ./models_enhancement_FR/model_vimeo11k_LPIPS1_no_codec_FRtuning.ckpt\n"
     ]
    },
    {
     "data": {
      "application/vnd.jupyter.widget-view+json": {
       "model_id": "94c368a004004fd089be35d4a886f503",
       "version_major": 2,
       "version_minor": 0
      },
      "text/plain": [
       "0it [00:00, ?it/s]"
      ]
     },
     "metadata": {},
     "output_type": "display_data"
    },
    {
     "data": {
      "application/vnd.jupyter.widget-view+json": {
       "model_id": "317e74d0c1a34daa816dfadfff82c67f",
       "version_major": 2,
       "version_minor": 0
      },
      "text/plain": [
       "0it [00:00, ?it/s]"
      ]
     },
     "metadata": {},
     "output_type": "display_data"
    },
    {
     "name": "stdout",
     "output_type": "stream",
     "text": [
      "[{'mse': [0.0027696295, 0.0026570866], 'bpp_loss': [0.14972132, 0.3472334], 'loss_classic': [1.9506729, 2.0750039], 'PSNR': [28.44273, 28.786589], 'loss': [0.0027696295, 0.0026570866]}]\n"
     ]
    },
    {
     "data": {
      "application/vnd.jupyter.widget-view+json": {
       "model_id": "b21706c1a0a1435da66180d02ed4529f",
       "version_major": 2,
       "version_minor": 0
      },
      "text/plain": [
       "0it [00:00, ?it/s]"
      ]
     },
     "metadata": {},
     "output_type": "display_data"
    },
    {
     "name": "stdout",
     "output_type": "stream",
     "text": [
      "DISTS ./models_enhancement_FR/model_vimeo11k_DISTS_cheng2020_attn_quality2_FRtuning.ckpt\n"
     ]
    },
    {
     "data": {
      "application/vnd.jupyter.widget-view+json": {
       "model_id": "9b3d94ecea1e4286ab67feb72eb5b94e",
       "version_major": 2,
       "version_minor": 0
      },
      "text/plain": [
       "0it [00:00, ?it/s]"
      ]
     },
     "metadata": {},
     "output_type": "display_data"
    },
    {
     "data": {
      "application/vnd.jupyter.widget-view+json": {
       "model_id": "70f824a910d34d0791ac74191f2c287e",
       "version_major": 2,
       "version_minor": 0
      },
      "text/plain": [
       "0it [00:00, ?it/s]"
      ]
     },
     "metadata": {},
     "output_type": "display_data"
    },
    {
     "name": "stdout",
     "output_type": "stream",
     "text": [
      "[{'mse': [0.0035711618, 0.0035794242], 'bpp_loss': [0.11632115, 0.20878607], 'loss_classic': [2.438469, 2.5363069], 'PSNR': [24.84873, 24.839424], 'loss': [0.0035711618, 0.0035794242]}]\n",
      "LPIPS ./models_enhancement_FR/model_vimeo11k_LPIPS_cheng2020_attn_quality2_FRtuning.ckpt\n"
     ]
    },
    {
     "data": {
      "application/vnd.jupyter.widget-view+json": {
       "model_id": "f5ac71f95e4e45eeb197d45653828658",
       "version_major": 2,
       "version_minor": 0
      },
      "text/plain": [
       "0it [00:00, ?it/s]"
      ]
     },
     "metadata": {},
     "output_type": "display_data"
    },
    {
     "data": {
      "application/vnd.jupyter.widget-view+json": {
       "model_id": "ca2f97b0b4e64a6a857ae1511acd0213",
       "version_major": 2,
       "version_minor": 0
      },
      "text/plain": [
       "0it [00:00, ?it/s]"
      ]
     },
     "metadata": {},
     "output_type": "display_data"
    },
    {
     "name": "stdout",
     "output_type": "stream",
     "text": [
      "[{'mse': [0.00380763, 0.003889862], 'bpp_loss': [0.11833289, 0.26033372], 'loss_classic': [2.594244, 2.7897162], 'PSNR': [24.259626, 24.166515], 'loss': [0.00380763, 0.003889862]}]\n",
      "LPIPS1 ./models_enhancement_FR/model_vimeo11k_LPIPS1_no_codec_FRtuning.ckpt\n"
     ]
    },
    {
     "data": {
      "application/vnd.jupyter.widget-view+json": {
       "model_id": "9e92ba45fb614645a0643a7530081803",
       "version_major": 2,
       "version_minor": 0
      },
      "text/plain": [
       "0it [00:00, ?it/s]"
      ]
     },
     "metadata": {},
     "output_type": "display_data"
    },
    {
     "data": {
      "application/vnd.jupyter.widget-view+json": {
       "model_id": "b1566a14aa6641d8ac1088a9136843e7",
       "version_major": 2,
       "version_minor": 0
      },
      "text/plain": [
       "0it [00:00, ?it/s]"
      ]
     },
     "metadata": {},
     "output_type": "display_data"
    },
    {
     "name": "stdout",
     "output_type": "stream",
     "text": [
      "[{'mse': [0.0008520103, 0.0008419487], 'bpp_loss': [0.10772404, 0.18535759], 'loss_classic': [0.6617437, 0.73283476], 'PSNR': [31.488937, 31.536], 'loss': [0.0008520103, 0.0008419487]}]\n"
     ]
    },
    {
     "data": {
      "application/vnd.jupyter.widget-view+json": {
       "model_id": "769551de07f045d592f0440560f21a24",
       "version_major": 2,
       "version_minor": 0
      },
      "text/plain": [
       "0it [00:00, ?it/s]"
      ]
     },
     "metadata": {},
     "output_type": "display_data"
    },
    {
     "name": "stdout",
     "output_type": "stream",
     "text": [
      "DISTS ./models_enhancement_FR/model_vimeo11k_DISTS_cheng2020_attn_quality2_FRtuning.ckpt\n"
     ]
    },
    {
     "data": {
      "application/vnd.jupyter.widget-view+json": {
       "model_id": "d6e33b08504547ebb31656fb71445efb",
       "version_major": 2,
       "version_minor": 0
      },
      "text/plain": [
       "0it [00:00, ?it/s]"
      ]
     },
     "metadata": {},
     "output_type": "display_data"
    },
    {
     "data": {
      "application/vnd.jupyter.widget-view+json": {
       "model_id": "73b5233e78d54b52a8cdfa229380ced6",
       "version_major": 2,
       "version_minor": 0
      },
      "text/plain": [
       "0it [00:00, ?it/s]"
      ]
     },
     "metadata": {},
     "output_type": "display_data"
    },
    {
     "name": "stdout",
     "output_type": "stream",
     "text": [
      "[{'mse': [0.0057911263, 0.005445391], 'bpp_loss': [0.30087873, 0.62234783], 'loss_classic': [4.0665584, 4.163213], 'PSNR': [22.372787, 22.640022], 'loss': [0.0057911263, 0.005445391]}]\n",
      "LPIPS ./models_enhancement_FR/model_vimeo11k_LPIPS_cheng2020_attn_quality2_FRtuning.ckpt\n"
     ]
    },
    {
     "data": {
      "application/vnd.jupyter.widget-view+json": {
       "model_id": "6514363fdf30473d82c5f14ecfdbb5b8",
       "version_major": 2,
       "version_minor": 0
      },
      "text/plain": [
       "0it [00:00, ?it/s]"
      ]
     },
     "metadata": {},
     "output_type": "display_data"
    },
    {
     "data": {
      "application/vnd.jupyter.widget-view+json": {
       "model_id": "9495b82de09245929bd77c5ce6a9858b",
       "version_major": 2,
       "version_minor": 0
      },
      "text/plain": [
       "0it [00:00, ?it/s]"
      ]
     },
     "metadata": {},
     "output_type": "display_data"
    },
    {
     "name": "stdout",
     "output_type": "stream",
     "text": [
      "[{'mse': [0.004218674, 0.0039839516], 'bpp_loss': [0.6656755, 1.5218961], 'loss_classic': [3.4088683, 4.1124606], 'PSNR': [23.752699, 24.001282], 'loss': [0.004218674, 0.0039839516]}]\n",
      "LPIPS1 ./models_enhancement_FR/model_vimeo11k_LPIPS1_no_codec_FRtuning.ckpt\n"
     ]
    },
    {
     "data": {
      "application/vnd.jupyter.widget-view+json": {
       "model_id": "700d90ab557d43ab919c1763d989e8ff",
       "version_major": 2,
       "version_minor": 0
      },
      "text/plain": [
       "0it [00:00, ?it/s]"
      ]
     },
     "metadata": {},
     "output_type": "display_data"
    },
    {
     "data": {
      "application/vnd.jupyter.widget-view+json": {
       "model_id": "f7b1fe9b58254efc93997052b8edd31b",
       "version_major": 2,
       "version_minor": 0
      },
      "text/plain": [
       "0it [00:00, ?it/s]"
      ]
     },
     "metadata": {},
     "output_type": "display_data"
    },
    {
     "name": "stdout",
     "output_type": "stream",
     "text": [
      "[{'mse': [0.0020669857, 0.0014454381], 'bpp_loss': [0.44853437, 1.1442704], 'loss_classic': [1.7925918, 2.0841665], 'PSNR': [26.84719, 28.401445], 'loss': [0.0020669857, 0.0014454381]}]\n"
     ]
    },
    {
     "data": {
      "application/vnd.jupyter.widget-view+json": {
       "model_id": "48ff5d12b7904c969390828521e1bcbc",
       "version_major": 2,
       "version_minor": 0
      },
      "text/plain": [
       "0it [00:00, ?it/s]"
      ]
     },
     "metadata": {},
     "output_type": "display_data"
    },
    {
     "name": "stdout",
     "output_type": "stream",
     "text": [
      "DISTS ./models_enhancement_FR/model_vimeo11k_DISTS_cheng2020_attn_quality2_FRtuning.ckpt\n"
     ]
    },
    {
     "data": {
      "application/vnd.jupyter.widget-view+json": {
       "model_id": "cb7be1bd6843448c80f0d13b9d6fe2f0",
       "version_major": 2,
       "version_minor": 0
      },
      "text/plain": [
       "0it [00:00, ?it/s]"
      ]
     },
     "metadata": {},
     "output_type": "display_data"
    },
    {
     "data": {
      "application/vnd.jupyter.widget-view+json": {
       "model_id": "97efa2d3c60f4ac68afc73cc5aabe390",
       "version_major": 2,
       "version_minor": 0
      },
      "text/plain": [
       "0it [00:00, ?it/s]"
      ]
     },
     "metadata": {},
     "output_type": "display_data"
    },
    {
     "name": "stdout",
     "output_type": "stream",
     "text": [
      "[{'mse': [0.0092035495, 0.008664829], 'bpp_loss': [0.31498203, 0.65614307], 'loss_classic': [6.2995906, 6.290448], 'PSNR': [20.747295, 20.985916], 'loss': [0.0092035495, 0.008664829]}]\n",
      "LPIPS ./models_enhancement_FR/model_vimeo11k_LPIPS_cheng2020_attn_quality2_FRtuning.ckpt\n"
     ]
    },
    {
     "data": {
      "application/vnd.jupyter.widget-view+json": {
       "model_id": "b6cde7ad86e6477894c36d7987631252",
       "version_major": 2,
       "version_minor": 0
      },
      "text/plain": [
       "0it [00:00, ?it/s]"
      ]
     },
     "metadata": {},
     "output_type": "display_data"
    },
    {
     "data": {
      "application/vnd.jupyter.widget-view+json": {
       "model_id": "f9695058357b424cb463d6339128eb28",
       "version_major": 2,
       "version_minor": 0
      },
      "text/plain": [
       "0it [00:00, ?it/s]"
      ]
     },
     "metadata": {},
     "output_type": "display_data"
    },
    {
     "name": "stdout",
     "output_type": "stream",
     "text": [
      "[{'mse': [0.0057283593, 0.0051871454], 'bpp_loss': [0.7356447, 1.6146121], 'loss_classic': [4.46051, 4.9875536], 'PSNR': [22.559715, 22.952442], 'loss': [0.0057283593, 0.0051871454]}]\n",
      "LPIPS1 ./models_enhancement_FR/model_vimeo11k_LPIPS1_no_codec_FRtuning.ckpt\n"
     ]
    },
    {
     "data": {
      "application/vnd.jupyter.widget-view+json": {
       "model_id": "d2bae53f16944bf7b34dde6c8c0aacb1",
       "version_major": 2,
       "version_minor": 0
      },
      "text/plain": [
       "0it [00:00, ?it/s]"
      ]
     },
     "metadata": {},
     "output_type": "display_data"
    },
    {
     "data": {
      "application/vnd.jupyter.widget-view+json": {
       "model_id": "023250c6e039480cabeb16d5a17c4c26",
       "version_major": 2,
       "version_minor": 0
      },
      "text/plain": [
       "0it [00:00, ?it/s]"
      ]
     },
     "metadata": {},
     "output_type": "display_data"
    },
    {
     "name": "stdout",
     "output_type": "stream",
     "text": [
      "[{'mse': [0.0030370606, 0.0021079928], 'bpp_loss': [0.5681438, 1.2962956], 'loss_classic': [2.5429924, 2.667018], 'PSNR': [25.56216, 27.073555], 'loss': [0.0030370606, 0.0021079928]}]\n"
     ]
    },
    {
     "data": {
      "application/vnd.jupyter.widget-view+json": {
       "model_id": "10384ebefbbe44f3903298aed0766b06",
       "version_major": 2,
       "version_minor": 0
      },
      "text/plain": [
       "0it [00:00, ?it/s]"
      ]
     },
     "metadata": {},
     "output_type": "display_data"
    },
    {
     "name": "stdout",
     "output_type": "stream",
     "text": [
      "DISTS ./models_enhancement_FR/model_vimeo11k_DISTS_cheng2020_attn_quality2_FRtuning.ckpt\n"
     ]
    },
    {
     "data": {
      "application/vnd.jupyter.widget-view+json": {
       "model_id": "2d0e55698cd04ef4902e181682a2e4c8",
       "version_major": 2,
       "version_minor": 0
      },
      "text/plain": [
       "0it [00:00, ?it/s]"
      ]
     },
     "metadata": {},
     "output_type": "display_data"
    },
    {
     "data": {
      "application/vnd.jupyter.widget-view+json": {
       "model_id": "8df58ef8690e4997a9d8c8ea5b0a8699",
       "version_major": 2,
       "version_minor": 0
      },
      "text/plain": [
       "0it [00:00, ?it/s]"
      ]
     },
     "metadata": {},
     "output_type": "display_data"
    },
    {
     "name": "stdout",
     "output_type": "stream",
     "text": [
      "[{'mse': [0.0034776337, 0.0035069892], 'bpp_loss': [0.15619652, 0.31913525], 'loss_classic': [2.4175277, 2.5995548], 'PSNR': [24.70456, 24.662863], 'loss': [0.0034776337, 0.0035069892]}]\n",
      "LPIPS ./models_enhancement_FR/model_vimeo11k_LPIPS_cheng2020_attn_quality2_FRtuning.ckpt\n"
     ]
    },
    {
     "data": {
      "application/vnd.jupyter.widget-view+json": {
       "model_id": "2ce76627d2fb4d8ea88996bd5aeff67c",
       "version_major": 2,
       "version_minor": 0
      },
      "text/plain": [
       "0it [00:00, ?it/s]"
      ]
     },
     "metadata": {},
     "output_type": "display_data"
    },
    {
     "data": {
      "application/vnd.jupyter.widget-view+json": {
       "model_id": "edbab9ff4fca4d259bec741980985581",
       "version_major": 2,
       "version_minor": 0
      },
      "text/plain": [
       "0it [00:00, ?it/s]"
      ]
     },
     "metadata": {},
     "output_type": "display_data"
    },
    {
     "name": "stdout",
     "output_type": "stream",
     "text": [
      "[{'mse': [0.003783546, 0.0038993298], 'bpp_loss': [0.19847278, 0.7392416], 'loss_classic': [2.6587236, 3.2747808], 'PSNR': [24.27686, 24.147991], 'loss': [0.003783546, 0.0038993298]}]\n",
      "LPIPS1 ./models_enhancement_FR/model_vimeo11k_LPIPS1_no_codec_FRtuning.ckpt\n"
     ]
    },
    {
     "data": {
      "application/vnd.jupyter.widget-view+json": {
       "model_id": "f269ba7eb44746159e28ad2535d296e6",
       "version_major": 2,
       "version_minor": 0
      },
      "text/plain": [
       "0it [00:00, ?it/s]"
      ]
     },
     "metadata": {},
     "output_type": "display_data"
    },
    {
     "data": {
      "application/vnd.jupyter.widget-view+json": {
       "model_id": "516921d5c1fc4e0795423c7716d4d00a",
       "version_major": 2,
       "version_minor": 0
      },
      "text/plain": [
       "0it [00:00, ?it/s]"
      ]
     },
     "metadata": {},
     "output_type": "display_data"
    },
    {
     "name": "stdout",
     "output_type": "stream",
     "text": [
      "[{'mse': [0.0009987158, 0.0009402132], 'bpp_loss': [0.14104445, 0.3020102], 'loss_classic': [0.7904594, 0.91338384], 'PSNR': [30.130558, 30.372927], 'loss': [0.0009987158, 0.0009402132]}]\n"
     ]
    },
    {
     "data": {
      "application/vnd.jupyter.widget-view+json": {
       "model_id": "662c9aa1b11644669087dd29836c1224",
       "version_major": 2,
       "version_minor": 0
      },
      "text/plain": [
       "0it [00:00, ?it/s]"
      ]
     },
     "metadata": {},
     "output_type": "display_data"
    },
    {
     "name": "stdout",
     "output_type": "stream",
     "text": [
      "DISTS ./models_enhancement_FR/model_vimeo11k_DISTS_cheng2020_attn_quality2_FRtuning.ckpt\n"
     ]
    },
    {
     "data": {
      "application/vnd.jupyter.widget-view+json": {
       "model_id": "e13baa1d0fc74082a4cb894a06e95f3a",
       "version_major": 2,
       "version_minor": 0
      },
      "text/plain": [
       "0it [00:00, ?it/s]"
      ]
     },
     "metadata": {},
     "output_type": "display_data"
    },
    {
     "data": {
      "application/vnd.jupyter.widget-view+json": {
       "model_id": "c17177618f674530993b30c36140e8b5",
       "version_major": 2,
       "version_minor": 0
      },
      "text/plain": [
       "0it [00:00, ?it/s]"
      ]
     },
     "metadata": {},
     "output_type": "display_data"
    },
    {
     "name": "stdout",
     "output_type": "stream",
     "text": [
      "[{'mse': [0.0022268402, 0.002152475], 'bpp_loss': [0.23731898, 0.49732757], 'loss_classic': [1.6853218, 1.8969743], 'PSNR': [26.5237, 26.671368], 'loss': [0.0022268402, 0.002152475]}]\n",
      "LPIPS ./models_enhancement_FR/model_vimeo11k_LPIPS_cheng2020_attn_quality2_FRtuning.ckpt\n"
     ]
    },
    {
     "data": {
      "application/vnd.jupyter.widget-view+json": {
       "model_id": "079685e0cbb54c03a76b78279e2b4476",
       "version_major": 2,
       "version_minor": 0
      },
      "text/plain": [
       "0it [00:00, ?it/s]"
      ]
     },
     "metadata": {},
     "output_type": "display_data"
    },
    {
     "data": {
      "application/vnd.jupyter.widget-view+json": {
       "model_id": "12284b720b0c4c0ab3c48098687d3a5b",
       "version_major": 2,
       "version_minor": 0
      },
      "text/plain": [
       "0it [00:00, ?it/s]"
      ]
     },
     "metadata": {},
     "output_type": "display_data"
    },
    {
     "name": "stdout",
     "output_type": "stream",
     "text": [
      "[{'mse': [0.003694152, 0.0037849112], 'bpp_loss': [0.3926503, 1.0157411], 'loss_classic': [2.7947724, 3.4768796], 'PSNR': [24.32709, 24.221779], 'loss': [0.003694152, 0.0037849112]}]\n",
      "LPIPS1 ./models_enhancement_FR/model_vimeo11k_LPIPS1_no_codec_FRtuning.ckpt\n"
     ]
    },
    {
     "data": {
      "application/vnd.jupyter.widget-view+json": {
       "model_id": "ea4bd75e5af44989b8985b81e0f4bdae",
       "version_major": 2,
       "version_minor": 0
      },
      "text/plain": [
       "0it [00:00, ?it/s]"
      ]
     },
     "metadata": {},
     "output_type": "display_data"
    },
    {
     "data": {
      "application/vnd.jupyter.widget-view+json": {
       "model_id": "e1fbf4fc03664f1eb7c9dec3793e2993",
       "version_major": 2,
       "version_minor": 0
      },
      "text/plain": [
       "0it [00:00, ?it/s]"
      ]
     },
     "metadata": {},
     "output_type": "display_data"
    },
    {
     "name": "stdout",
     "output_type": "stream",
     "text": [
      "[{'mse': [0.0009814128, 0.0007760239], 'bpp_loss': [0.21270296, 0.568089], 'loss_classic': [0.8508667, 1.0726986], 'PSNR': [30.099026, 31.133432], 'loss': [0.0009814128, 0.0007760239]}]\n",
      "\n"
     ]
    },
    {
     "data": {
      "text/html": [
       "Waiting for W&B process to finish... <strong style=\"color:green\">(success).</strong>"
      ],
      "text/plain": [
       "<IPython.core.display.HTML object>"
      ]
     },
     "metadata": {},
     "output_type": "display_data"
    },
    {
     "data": {
      "application/vnd.jupyter.widget-view+json": {
       "model_id": "",
       "version_major": 2,
       "version_minor": 0
      },
      "text/plain": [
       "VBox(children=(Label(value='28.388 MB of 28.388 MB uploaded (0.000 MB deduped)\\r'), FloatProgress(value=1.0, m…"
      ]
     },
     "metadata": {},
     "output_type": "display_data"
    },
    {
     "data": {
      "text/html": [
       "Synced <strong style=\"color:#cdcd00\">RD_curves_all_met_18_03With Preprocessing</strong>: <a href=\"https://wandb.ai/havent_invented/Whitebox_strong_metrics_attacks/runs/1s6ir4g2\" target=\"_blank\">https://wandb.ai/havent_invented/Whitebox_strong_metrics_attacks/runs/1s6ir4g2</a><br/>Synced 7 W&B file(s), 21 media file(s), 21 artifact file(s) and 2 other file(s)"
      ],
      "text/plain": [
       "<IPython.core.display.HTML object>"
      ]
     },
     "metadata": {},
     "output_type": "display_data"
    },
    {
     "data": {
      "text/html": [
       "Find logs at: <code>.\\wandb\\run-20220404_082424-1s6ir4g2\\logs</code>"
      ],
      "text/plain": [
       "<IPython.core.display.HTML object>"
      ]
     },
     "metadata": {},
     "output_type": "display_data"
    },
    {
     "name": "stdout",
     "output_type": "stream",
     "text": [
      "[[[{'mse': [0.025214061, 0.025139244], 'bpp_loss': [0.23041785, 0.469162], 'loss_classic': [16.625862, 16.815956], 'PSNR': [15.991732, 16.004507], 'loss': [0.025214061, 0.025139244]}], [{'mse': [0.004354692, 0.004612311], 'bpp_loss': [0.33603784, 0.9227921], 'loss_classic': [3.1676764, 3.9219475], 'PSNR': [23.625267, 23.374012], 'loss': [0.004354692, 0.004612311]}], [{'mse': [0.013609586, 0.013457276], 'bpp_loss': [0.19553427, 0.475437], 'loss_classic': [9.045168, 9.22603], 'PSNR': [18.667366, 18.716137], 'loss': [0.013609586, 0.013457276]}]], [[{'mse': [0.0062342943, 0.006256292], 'bpp_loss': [0.17771693, 0.3621606], 'loss_classic': [4.231567, 4.4303145], 'PSNR': [23.188717, 23.134802], 'loss': [0.0062342943, 0.006256292]}], [{'mse': [0.0036468788, 0.0036806725], 'bpp_loss': [0.24303472, 0.6722896], 'loss_classic': [2.6144176, 3.0656471], 'PSNR': [24.629663, 24.626514], 'loss': [0.0036468788, 0.0036806725]}], [{'mse': [0.0027696295, 0.0026570866], 'bpp_loss': [0.14972132, 0.3472334], 'loss_classic': [1.9506729, 2.0750039], 'PSNR': [28.44273, 28.786589], 'loss': [0.0027696295, 0.0026570866]}]], [[{'mse': [0.0035711618, 0.0035794242], 'bpp_loss': [0.11632115, 0.20878607], 'loss_classic': [2.438469, 2.5363069], 'PSNR': [24.84873, 24.839424], 'loss': [0.0035711618, 0.0035794242]}], [{'mse': [0.00380763, 0.003889862], 'bpp_loss': [0.11833289, 0.26033372], 'loss_classic': [2.594244, 2.7897162], 'PSNR': [24.259626, 24.166515], 'loss': [0.00380763, 0.003889862]}], [{'mse': [0.0008520103, 0.0008419487], 'bpp_loss': [0.10772404, 0.18535759], 'loss_classic': [0.6617437, 0.73283476], 'PSNR': [31.488937, 31.536], 'loss': [0.0008520103, 0.0008419487]}]], [[{'mse': [0.0057911263, 0.005445391], 'bpp_loss': [0.30087873, 0.62234783], 'loss_classic': [4.0665584, 4.163213], 'PSNR': [22.372787, 22.640022], 'loss': [0.0057911263, 0.005445391]}], [{'mse': [0.004218674, 0.0039839516], 'bpp_loss': [0.6656755, 1.5218961], 'loss_classic': [3.4088683, 4.1124606], 'PSNR': [23.752699, 24.001282], 'loss': [0.004218674, 0.0039839516]}], [{'mse': [0.0020669857, 0.0014454381], 'bpp_loss': [0.44853437, 1.1442704], 'loss_classic': [1.7925918, 2.0841665], 'PSNR': [26.84719, 28.401445], 'loss': [0.0020669857, 0.0014454381]}]], [[{'mse': [0.0092035495, 0.008664829], 'bpp_loss': [0.31498203, 0.65614307], 'loss_classic': [6.2995906, 6.290448], 'PSNR': [20.747295, 20.985916], 'loss': [0.0092035495, 0.008664829]}], [{'mse': [0.0057283593, 0.0051871454], 'bpp_loss': [0.7356447, 1.6146121], 'loss_classic': [4.46051, 4.9875536], 'PSNR': [22.559715, 22.952442], 'loss': [0.0057283593, 0.0051871454]}], [{'mse': [0.0030370606, 0.0021079928], 'bpp_loss': [0.5681438, 1.2962956], 'loss_classic': [2.5429924, 2.667018], 'PSNR': [25.56216, 27.073555], 'loss': [0.0030370606, 0.0021079928]}]], [[{'mse': [0.0034776337, 0.0035069892], 'bpp_loss': [0.15619652, 0.31913525], 'loss_classic': [2.4175277, 2.5995548], 'PSNR': [24.70456, 24.662863], 'loss': [0.0034776337, 0.0035069892]}], [{'mse': [0.003783546, 0.0038993298], 'bpp_loss': [0.19847278, 0.7392416], 'loss_classic': [2.6587236, 3.2747808], 'PSNR': [24.27686, 24.147991], 'loss': [0.003783546, 0.0038993298]}], [{'mse': [0.0009987158, 0.0009402132], 'bpp_loss': [0.14104445, 0.3020102], 'loss_classic': [0.7904594, 0.91338384], 'PSNR': [30.130558, 30.372927], 'loss': [0.0009987158, 0.0009402132]}]], [[{'mse': [0.0022268402, 0.002152475], 'bpp_loss': [0.23731898, 0.49732757], 'loss_classic': [1.6853218, 1.8969743], 'PSNR': [26.5237, 26.671368], 'loss': [0.0022268402, 0.002152475]}], [{'mse': [0.003694152, 0.0037849112], 'bpp_loss': [0.3926503, 1.0157411], 'loss_classic': [2.7947724, 3.4768796], 'PSNR': [24.32709, 24.221779], 'loss': [0.003694152, 0.0037849112]}], [{'mse': [0.0009814128, 0.0007760239], 'bpp_loss': [0.21270296, 0.568089], 'loss_classic': [0.8508667, 1.0726986], 'PSNR': [30.099026, 31.133432], 'loss': [0.0009814128, 0.0007760239]}]]]\n"
     ]
    },
    {
     "data": {
      "text/html": [
       "Tracking run with wandb version 0.12.11"
      ],
      "text/plain": [
       "<IPython.core.display.HTML object>"
      ]
     },
     "metadata": {},
     "output_type": "display_data"
    },
    {
     "data": {
      "text/html": [
       "Run data is saved locally in <code>E:\\VMAF_METRIX\\NeuralNetworkCompression\\wandb\\run-20220404_084318-2iloi5dp</code>"
      ],
      "text/plain": [
       "<IPython.core.display.HTML object>"
      ]
     },
     "metadata": {},
     "output_type": "display_data"
    },
    {
     "data": {
      "text/html": [
       "Syncing run <strong><a href=\"https://wandb.ai/havent_invented/Whitebox_strong_metrics_attacks/runs/2iloi5dp\" target=\"_blank\">RD_curves_all_met_18_03Without Preprocessing</a></strong> to <a href=\"https://wandb.ai/havent_invented/Whitebox_strong_metrics_attacks\" target=\"_blank\">Weights & Biases</a> (<a href=\"https://wandb.me/run\" target=\"_blank\">docs</a>)<br/>"
      ],
      "text/plain": [
       "<IPython.core.display.HTML object>"
      ]
     },
     "metadata": {},
     "output_type": "display_data"
    },
    {
     "data": {
      "application/vnd.jupyter.widget-view+json": {
       "model_id": "0d933f0e6d2246ea914d1bd96e1cc4e6",
       "version_major": 2,
       "version_minor": 0
      },
      "text/plain": [
       "0it [00:00, ?it/s]"
      ]
     },
     "metadata": {},
     "output_type": "display_data"
    },
    {
     "data": {
      "application/vnd.jupyter.widget-view+json": {
       "model_id": "1429298234db476faf6de22a7bd1149a",
       "version_major": 2,
       "version_minor": 0
      },
      "text/plain": [
       "0it [00:00, ?it/s]"
      ]
     },
     "metadata": {},
     "output_type": "display_data"
    },
    {
     "name": "stdout",
     "output_type": "stream",
     "text": [
      "DISTS ./models_enhancement_FR/model_vimeo11k_DISTS_cheng2020_attn_quality2_FRtuning.ckpt\n"
     ]
    },
    {
     "data": {
      "application/vnd.jupyter.widget-view+json": {
       "model_id": "2a0ea61c350944d485ed56a84dc8a099",
       "version_major": 2,
       "version_minor": 0
      },
      "text/plain": [
       "0it [00:00, ?it/s]"
      ]
     },
     "metadata": {},
     "output_type": "display_data"
    },
    {
     "data": {
      "application/vnd.jupyter.widget-view+json": {
       "model_id": "0877071a54b04f629318b15c02e8e1ec",
       "version_major": 2,
       "version_minor": 0
      },
      "text/plain": [
       "0it [00:00, ?it/s]"
      ]
     },
     "metadata": {},
     "output_type": "display_data"
    },
    {
     "name": "stdout",
     "output_type": "stream",
     "text": [
      "[{'mse': [0.000120913224], 'bpp_loss': [0.6834721], 'loss_classic': [0.7620959], 'PSNR': [39.19378], 'DISTS': [0.035524484], 'loss': [71.04909], 'bitrate': [1.494759]}]\n",
      "LPIPS ./models_enhancement_FR/model_vimeo11k_LPIPS_cheng2020_attn_quality2_FRtuning.ckpt\n"
     ]
    },
    {
     "data": {
      "application/vnd.jupyter.widget-view+json": {
       "model_id": "ff60cde4911245e887d073e938a3595a",
       "version_major": 2,
       "version_minor": 0
      },
      "text/plain": [
       "0it [00:00, ?it/s]"
      ]
     },
     "metadata": {},
     "output_type": "display_data"
    },
    {
     "data": {
      "application/vnd.jupyter.widget-view+json": {
       "model_id": "605ee27185db4ea88a230b2a38869156",
       "version_major": 2,
       "version_minor": 0
      },
      "text/plain": [
       "0it [00:00, ?it/s]"
      ]
     },
     "metadata": {},
     "output_type": "display_data"
    },
    {
     "name": "stdout",
     "output_type": "stream",
     "text": [
      "[{'mse': [0.000120913224], 'bpp_loss': [0.6834721], 'loss_classic': [0.7620959], 'PSNR': [39.19378], 'LPIPS': [0.068371266], 'loss': [136.74265], 'bitrate': [1.494759]}]\n",
      "LPIPS1 ./models_enhancement_FR/model_vimeo11k_LPIPS1_no_codec_FRtuning.ckpt\n"
     ]
    },
    {
     "data": {
      "application/vnd.jupyter.widget-view+json": {
       "model_id": "db17dab161ea4a6f9e5f118a929e6414",
       "version_major": 2,
       "version_minor": 0
      },
      "text/plain": [
       "0it [00:00, ?it/s]"
      ]
     },
     "metadata": {},
     "output_type": "display_data"
    },
    {
     "data": {
      "application/vnd.jupyter.widget-view+json": {
       "model_id": "b0aa5277eded4c3591c5f69382bb020f",
       "version_major": 2,
       "version_minor": 0
      },
      "text/plain": [
       "0it [00:00, ?it/s]"
      ]
     },
     "metadata": {},
     "output_type": "display_data"
    },
    {
     "name": "stdout",
     "output_type": "stream",
     "text": [
      "[{'mse': [0.000120913224], 'bpp_loss': [0.6834721], 'loss_classic': [0.7620959], 'PSNR': [39.19378], 'LPIPS1': [0.068371266], 'loss': [136.74265], 'bitrate': [1.494759]}]\n"
     ]
    },
    {
     "data": {
      "application/vnd.jupyter.widget-view+json": {
       "model_id": "76bbe99ce76c40e494fc04b93ea3f1ee",
       "version_major": 2,
       "version_minor": 0
      },
      "text/plain": [
       "0it [00:00, ?it/s]"
      ]
     },
     "metadata": {},
     "output_type": "display_data"
    },
    {
     "name": "stdout",
     "output_type": "stream",
     "text": [
      "DISTS ./models_enhancement_FR/model_vimeo11k_DISTS_cheng2020_attn_quality2_FRtuning.ckpt\n"
     ]
    },
    {
     "data": {
      "application/vnd.jupyter.widget-view+json": {
       "model_id": "0dd7801182d941c09b172de3dae80439",
       "version_major": 2,
       "version_minor": 0
      },
      "text/plain": [
       "0it [00:00, ?it/s]"
      ]
     },
     "metadata": {},
     "output_type": "display_data"
    },
    {
     "data": {
      "application/vnd.jupyter.widget-view+json": {
       "model_id": "5c2d1922fa07458d9449ae41baf6ce5b",
       "version_major": 2,
       "version_minor": 0
      },
      "text/plain": [
       "0it [00:00, ?it/s]"
      ]
     },
     "metadata": {},
     "output_type": "display_data"
    },
    {
     "name": "stdout",
     "output_type": "stream",
     "text": [
      "[{'mse': [9.737767e-05], 'bpp_loss': [0.6834721], 'loss_classic': [0.74679196], 'PSNR': [40.24855], 'DISTS': [0.053958982], 'loss': [107.91806], 'bitrate': [0.985618]}]\n",
      "LPIPS ./models_enhancement_FR/model_vimeo11k_LPIPS_cheng2020_attn_quality2_FRtuning.ckpt\n"
     ]
    },
    {
     "data": {
      "application/vnd.jupyter.widget-view+json": {
       "model_id": "e6a9af9e3e2b42adbecab96d05e71629",
       "version_major": 2,
       "version_minor": 0
      },
      "text/plain": [
       "0it [00:00, ?it/s]"
      ]
     },
     "metadata": {},
     "output_type": "display_data"
    },
    {
     "data": {
      "application/vnd.jupyter.widget-view+json": {
       "model_id": "8790c6b1136d456eae7ad716f648d56e",
       "version_major": 2,
       "version_minor": 0
      },
      "text/plain": [
       "0it [00:00, ?it/s]"
      ]
     },
     "metadata": {},
     "output_type": "display_data"
    },
    {
     "name": "stdout",
     "output_type": "stream",
     "text": [
      "[{'mse': [9.737767e-05], 'bpp_loss': [0.6834721], 'loss_classic': [0.74679196], 'PSNR': [40.24855], 'LPIPS': [0.093850434], 'loss': [187.70096], 'bitrate': [0.985618]}]\n",
      "LPIPS1 ./models_enhancement_FR/model_vimeo11k_LPIPS1_no_codec_FRtuning.ckpt\n"
     ]
    },
    {
     "data": {
      "application/vnd.jupyter.widget-view+json": {
       "model_id": "71bdbb261eba4351ad7880ccdb81851c",
       "version_major": 2,
       "version_minor": 0
      },
      "text/plain": [
       "0it [00:00, ?it/s]"
      ]
     },
     "metadata": {},
     "output_type": "display_data"
    },
    {
     "data": {
      "application/vnd.jupyter.widget-view+json": {
       "model_id": "45c10a82be204e3f90c47e82d6e368e5",
       "version_major": 2,
       "version_minor": 0
      },
      "text/plain": [
       "0it [00:00, ?it/s]"
      ]
     },
     "metadata": {},
     "output_type": "display_data"
    },
    {
     "name": "stdout",
     "output_type": "stream",
     "text": [
      "[{'mse': [9.737767e-05], 'bpp_loss': [0.6834721], 'loss_classic': [0.74679196], 'PSNR': [40.24855], 'LPIPS1': [0.093850434], 'loss': [187.70096], 'bitrate': [0.985618]}]\n"
     ]
    },
    {
     "data": {
      "application/vnd.jupyter.widget-view+json": {
       "model_id": "85e583bccd6543578f0675d3a0af7670",
       "version_major": 2,
       "version_minor": 0
      },
      "text/plain": [
       "0it [00:00, ?it/s]"
      ]
     },
     "metadata": {},
     "output_type": "display_data"
    },
    {
     "name": "stdout",
     "output_type": "stream",
     "text": [
      "DISTS ./models_enhancement_FR/model_vimeo11k_DISTS_cheng2020_attn_quality2_FRtuning.ckpt\n"
     ]
    },
    {
     "data": {
      "application/vnd.jupyter.widget-view+json": {
       "model_id": "4e1af5ebc0c24de9857e36d21ec80d75",
       "version_major": 2,
       "version_minor": 0
      },
      "text/plain": [
       "0it [00:00, ?it/s]"
      ]
     },
     "metadata": {},
     "output_type": "display_data"
    },
    {
     "data": {
      "application/vnd.jupyter.widget-view+json": {
       "model_id": "b1e2964ddc624697aca36103059a4912",
       "version_major": 2,
       "version_minor": 0
      },
      "text/plain": [
       "0it [00:00, ?it/s]"
      ]
     },
     "metadata": {},
     "output_type": "display_data"
    },
    {
     "name": "stdout",
     "output_type": "stream",
     "text": [
      "[{'mse': [4.695787e-05], 'bpp_loss': [0.6834721], 'loss_classic': [0.7140064], 'PSNR': [43.302544], 'DISTS': [0.07444383], 'loss': [148.8877], 'bitrate': [0.492815]}]\n",
      "LPIPS ./models_enhancement_FR/model_vimeo11k_LPIPS_cheng2020_attn_quality2_FRtuning.ckpt\n"
     ]
    },
    {
     "data": {
      "application/vnd.jupyter.widget-view+json": {
       "model_id": "365f53c9bac84dc5800dc1e9d1b2276d",
       "version_major": 2,
       "version_minor": 0
      },
      "text/plain": [
       "0it [00:00, ?it/s]"
      ]
     },
     "metadata": {},
     "output_type": "display_data"
    },
    {
     "data": {
      "application/vnd.jupyter.widget-view+json": {
       "model_id": "79fedb9020d6402bb70a76920adb4efc",
       "version_major": 2,
       "version_minor": 0
      },
      "text/plain": [
       "0it [00:00, ?it/s]"
      ]
     },
     "metadata": {},
     "output_type": "display_data"
    },
    {
     "name": "stdout",
     "output_type": "stream",
     "text": [
      "[{'mse': [4.695787e-05], 'bpp_loss': [0.6834721], 'loss_classic': [0.7140064], 'PSNR': [43.302544], 'LPIPS': [0.13644895], 'loss': [272.89792], 'bitrate': [0.492815]}]\n",
      "LPIPS1 ./models_enhancement_FR/model_vimeo11k_LPIPS1_no_codec_FRtuning.ckpt\n"
     ]
    },
    {
     "data": {
      "application/vnd.jupyter.widget-view+json": {
       "model_id": "9bd47973af5b4101901fd9ef5b5f8a98",
       "version_major": 2,
       "version_minor": 0
      },
      "text/plain": [
       "0it [00:00, ?it/s]"
      ]
     },
     "metadata": {},
     "output_type": "display_data"
    },
    {
     "data": {
      "application/vnd.jupyter.widget-view+json": {
       "model_id": "b2db39493d9c494eb7873806c0b3210f",
       "version_major": 2,
       "version_minor": 0
      },
      "text/plain": [
       "0it [00:00, ?it/s]"
      ]
     },
     "metadata": {},
     "output_type": "display_data"
    },
    {
     "name": "stdout",
     "output_type": "stream",
     "text": [
      "[{'mse': [4.695787e-05], 'bpp_loss': [0.6834721], 'loss_classic': [0.7140064], 'PSNR': [43.302544], 'LPIPS1': [0.13644893], 'loss': [272.89792], 'bitrate': [0.492815]}]\n"
     ]
    },
    {
     "data": {
      "application/vnd.jupyter.widget-view+json": {
       "model_id": "51296ad2214d462681bc36b436af51d2",
       "version_major": 2,
       "version_minor": 0
      },
      "text/plain": [
       "0it [00:00, ?it/s]"
      ]
     },
     "metadata": {},
     "output_type": "display_data"
    },
    {
     "name": "stdout",
     "output_type": "stream",
     "text": [
      "DISTS ./models_enhancement_FR/model_vimeo11k_DISTS_cheng2020_attn_quality2_FRtuning.ckpt\n"
     ]
    },
    {
     "data": {
      "application/vnd.jupyter.widget-view+json": {
       "model_id": "89779efaadc545eabd99176d12b1c9f9",
       "version_major": 2,
       "version_minor": 0
      },
      "text/plain": [
       "0it [00:00, ?it/s]"
      ]
     },
     "metadata": {},
     "output_type": "display_data"
    },
    {
     "data": {
      "application/vnd.jupyter.widget-view+json": {
       "model_id": "d967e89dee47446481550d8572a651a6",
       "version_major": 2,
       "version_minor": 0
      },
      "text/plain": [
       "0it [00:00, ?it/s]"
      ]
     },
     "metadata": {},
     "output_type": "display_data"
    },
    {
     "name": "stdout",
     "output_type": "stream",
     "text": [
      "[{'mse': [0.0004321125], 'bpp_loss': [0.6834721], 'loss_classic': [0.9644532], 'PSNR': [33.64428], 'DISTS': [0.036581732], 'loss': [73.163895], 'bitrate': [4.015162]}]\n",
      "LPIPS ./models_enhancement_FR/model_vimeo11k_LPIPS_cheng2020_attn_quality2_FRtuning.ckpt\n"
     ]
    },
    {
     "data": {
      "application/vnd.jupyter.widget-view+json": {
       "model_id": "e66aa99ccf844d14a89f60d1461a4f8f",
       "version_major": 2,
       "version_minor": 0
      },
      "text/plain": [
       "0it [00:00, ?it/s]"
      ]
     },
     "metadata": {},
     "output_type": "display_data"
    },
    {
     "data": {
      "application/vnd.jupyter.widget-view+json": {
       "model_id": "f1b8c176e50245eb975107a2cd77e531",
       "version_major": 2,
       "version_minor": 0
      },
      "text/plain": [
       "0it [00:00, ?it/s]"
      ]
     },
     "metadata": {},
     "output_type": "display_data"
    },
    {
     "name": "stdout",
     "output_type": "stream",
     "text": [
      "[{'mse': [0.0004321125], 'bpp_loss': [0.6834721], 'loss_classic': [0.9644532], 'PSNR': [33.64428], 'LPIPS': [0.07214713], 'loss': [144.29468], 'bitrate': [4.015162]}]\n",
      "LPIPS1 ./models_enhancement_FR/model_vimeo11k_LPIPS1_no_codec_FRtuning.ckpt\n"
     ]
    },
    {
     "data": {
      "application/vnd.jupyter.widget-view+json": {
       "model_id": "4cf4c36393374910a7bb837311f8c7e8",
       "version_major": 2,
       "version_minor": 0
      },
      "text/plain": [
       "0it [00:00, ?it/s]"
      ]
     },
     "metadata": {},
     "output_type": "display_data"
    },
    {
     "data": {
      "application/vnd.jupyter.widget-view+json": {
       "model_id": "0de14f38354c4e34bffd6593979de151",
       "version_major": 2,
       "version_minor": 0
      },
      "text/plain": [
       "0it [00:00, ?it/s]"
      ]
     },
     "metadata": {},
     "output_type": "display_data"
    },
    {
     "name": "stdout",
     "output_type": "stream",
     "text": [
      "[{'mse': [0.0004321125], 'bpp_loss': [0.6834721], 'loss_classic': [0.9644532], 'PSNR': [33.64428], 'LPIPS1': [0.07214713], 'loss': [144.29468], 'bitrate': [4.015162]}]\n"
     ]
    },
    {
     "data": {
      "application/vnd.jupyter.widget-view+json": {
       "model_id": "f2309486c54d483ebd3f5939b2a1452e",
       "version_major": 2,
       "version_minor": 0
      },
      "text/plain": [
       "0it [00:00, ?it/s]"
      ]
     },
     "metadata": {},
     "output_type": "display_data"
    },
    {
     "name": "stdout",
     "output_type": "stream",
     "text": [
      "DISTS ./models_enhancement_FR/model_vimeo11k_DISTS_cheng2020_attn_quality2_FRtuning.ckpt\n"
     ]
    },
    {
     "data": {
      "application/vnd.jupyter.widget-view+json": {
       "model_id": "0e2b7fcd0d9c419ca78c9022ef4bb45d",
       "version_major": 2,
       "version_minor": 0
      },
      "text/plain": [
       "0it [00:00, ?it/s]"
      ]
     },
     "metadata": {},
     "output_type": "display_data"
    },
    {
     "data": {
      "application/vnd.jupyter.widget-view+json": {
       "model_id": "04e379ff30a8406999b656cbe0e17365",
       "version_major": 2,
       "version_minor": 0
      },
      "text/plain": [
       "0it [00:00, ?it/s]"
      ]
     },
     "metadata": {},
     "output_type": "display_data"
    },
    {
     "name": "stdout",
     "output_type": "stream",
     "text": [
      "[{'mse': [0.00044826884], 'bpp_loss': [0.6834721], 'loss_classic': [0.9749589], 'PSNR': [33.671997], 'DISTS': [0.0503228], 'loss': [100.64606], 'bitrate': [4.54584]}]\n",
      "LPIPS ./models_enhancement_FR/model_vimeo11k_LPIPS_cheng2020_attn_quality2_FRtuning.ckpt\n"
     ]
    },
    {
     "data": {
      "application/vnd.jupyter.widget-view+json": {
       "model_id": "d9548775d763420b890eccad73f7a5b2",
       "version_major": 2,
       "version_minor": 0
      },
      "text/plain": [
       "0it [00:00, ?it/s]"
      ]
     },
     "metadata": {},
     "output_type": "display_data"
    },
    {
     "data": {
      "application/vnd.jupyter.widget-view+json": {
       "model_id": "9b9c7d409b934b508749c0f3ae28db19",
       "version_major": 2,
       "version_minor": 0
      },
      "text/plain": [
       "0it [00:00, ?it/s]"
      ]
     },
     "metadata": {},
     "output_type": "display_data"
    },
    {
     "name": "stdout",
     "output_type": "stream",
     "text": [
      "[{'mse': [0.00044826884], 'bpp_loss': [0.6834721], 'loss_classic': [0.9749589], 'PSNR': [33.671997], 'LPIPS': [0.09816249], 'loss': [196.32541], 'bitrate': [4.54584]}]\n",
      "LPIPS1 ./models_enhancement_FR/model_vimeo11k_LPIPS1_no_codec_FRtuning.ckpt\n"
     ]
    },
    {
     "data": {
      "application/vnd.jupyter.widget-view+json": {
       "model_id": "50e068f13b1d49d9ae9f179eec8fb604",
       "version_major": 2,
       "version_minor": 0
      },
      "text/plain": [
       "0it [00:00, ?it/s]"
      ]
     },
     "metadata": {},
     "output_type": "display_data"
    },
    {
     "data": {
      "application/vnd.jupyter.widget-view+json": {
       "model_id": "888dcc0e66a54daab1598bb6b1cc3410",
       "version_major": 2,
       "version_minor": 0
      },
      "text/plain": [
       "0it [00:00, ?it/s]"
      ]
     },
     "metadata": {},
     "output_type": "display_data"
    },
    {
     "name": "stdout",
     "output_type": "stream",
     "text": [
      "[{'mse': [0.00044826884], 'bpp_loss': [0.6834721], 'loss_classic': [0.9749589], 'PSNR': [33.671997], 'LPIPS1': [0.09816249], 'loss': [196.32541], 'bitrate': [4.54584]}]\n"
     ]
    },
    {
     "data": {
      "application/vnd.jupyter.widget-view+json": {
       "model_id": "5d91231564f64e2ab56e2b2f7208682e",
       "version_major": 2,
       "version_minor": 0
      },
      "text/plain": [
       "0it [00:00, ?it/s]"
      ]
     },
     "metadata": {},
     "output_type": "display_data"
    },
    {
     "name": "stdout",
     "output_type": "stream",
     "text": [
      "DISTS ./models_enhancement_FR/model_vimeo11k_DISTS_cheng2020_attn_quality2_FRtuning.ckpt\n"
     ]
    },
    {
     "data": {
      "application/vnd.jupyter.widget-view+json": {
       "model_id": "2aa2d13ee29a4af2a2e41aa07d86fa60",
       "version_major": 2,
       "version_minor": 0
      },
      "text/plain": [
       "0it [00:00, ?it/s]"
      ]
     },
     "metadata": {},
     "output_type": "display_data"
    },
    {
     "data": {
      "application/vnd.jupyter.widget-view+json": {
       "model_id": "b77c7e335f284760aee2f656686ef329",
       "version_major": 2,
       "version_minor": 0
      },
      "text/plain": [
       "0it [00:00, ?it/s]"
      ]
     },
     "metadata": {},
     "output_type": "display_data"
    },
    {
     "name": "stdout",
     "output_type": "stream",
     "text": [
      "[{'mse': [0.0001288532], 'bpp_loss': [0.6834721], 'loss_classic': [0.7672589], 'PSNR': [38.995926], 'DISTS': [0.10804888], 'loss': [216.0979], 'bitrate': [1.075834]}]\n",
      "LPIPS ./models_enhancement_FR/model_vimeo11k_LPIPS_cheng2020_attn_quality2_FRtuning.ckpt\n"
     ]
    },
    {
     "data": {
      "application/vnd.jupyter.widget-view+json": {
       "model_id": "ffb8aa77ccd34933a4c25d3829b8035d",
       "version_major": 2,
       "version_minor": 0
      },
      "text/plain": [
       "0it [00:00, ?it/s]"
      ]
     },
     "metadata": {},
     "output_type": "display_data"
    },
    {
     "data": {
      "application/vnd.jupyter.widget-view+json": {
       "model_id": "f6dd816e7d5d4dd4b1c36a08f0ffcaa0",
       "version_major": 2,
       "version_minor": 0
      },
      "text/plain": [
       "0it [00:00, ?it/s]"
      ]
     },
     "metadata": {},
     "output_type": "display_data"
    },
    {
     "name": "stdout",
     "output_type": "stream",
     "text": [
      "[{'mse': [0.0001288532], 'bpp_loss': [0.6834721], 'loss_classic': [0.7672589], 'PSNR': [38.995926], 'LPIPS': [0.19604024], 'loss': [392.08063], 'bitrate': [1.075834]}]\n",
      "LPIPS1 ./models_enhancement_FR/model_vimeo11k_LPIPS1_no_codec_FRtuning.ckpt\n"
     ]
    },
    {
     "data": {
      "application/vnd.jupyter.widget-view+json": {
       "model_id": "6d0d2243effb4c50bad1c44ff19ca979",
       "version_major": 2,
       "version_minor": 0
      },
      "text/plain": [
       "0it [00:00, ?it/s]"
      ]
     },
     "metadata": {},
     "output_type": "display_data"
    },
    {
     "data": {
      "application/vnd.jupyter.widget-view+json": {
       "model_id": "a7adb9508b8c447488d58974d69facbf",
       "version_major": 2,
       "version_minor": 0
      },
      "text/plain": [
       "0it [00:00, ?it/s]"
      ]
     },
     "metadata": {},
     "output_type": "display_data"
    },
    {
     "name": "stdout",
     "output_type": "stream",
     "text": [
      "[{'mse': [0.0001288532], 'bpp_loss': [0.6834721], 'loss_classic': [0.7672589], 'PSNR': [38.995926], 'LPIPS1': [0.19604024], 'loss': [392.08063], 'bitrate': [1.075834]}]\n"
     ]
    },
    {
     "data": {
      "application/vnd.jupyter.widget-view+json": {
       "model_id": "94c2c112a9d84126b971ef378385bcd3",
       "version_major": 2,
       "version_minor": 0
      },
      "text/plain": [
       "0it [00:00, ?it/s]"
      ]
     },
     "metadata": {},
     "output_type": "display_data"
    },
    {
     "name": "stdout",
     "output_type": "stream",
     "text": [
      "DISTS ./models_enhancement_FR/model_vimeo11k_DISTS_cheng2020_attn_quality2_FRtuning.ckpt\n"
     ]
    },
    {
     "data": {
      "application/vnd.jupyter.widget-view+json": {
       "model_id": "973de6c3927048ab890892a739e16442",
       "version_major": 2,
       "version_minor": 0
      },
      "text/plain": [
       "0it [00:00, ?it/s]"
      ]
     },
     "metadata": {},
     "output_type": "display_data"
    },
    {
     "data": {
      "application/vnd.jupyter.widget-view+json": {
       "model_id": "01cfbbcd85044d6e83858f8d1ad0eca9",
       "version_major": 2,
       "version_minor": 0
      },
      "text/plain": [
       "0it [00:00, ?it/s]"
      ]
     },
     "metadata": {},
     "output_type": "display_data"
    },
    {
     "name": "stdout",
     "output_type": "stream",
     "text": [
      "[{'mse': [0.00016144585], 'bpp_loss': [0.6834721], 'loss_classic': [0.78845227], 'PSNR': [37.92135], 'DISTS': [0.06149696], 'loss': [122.99408], 'bitrate': [1.77209]}]\n",
      "LPIPS ./models_enhancement_FR/model_vimeo11k_LPIPS_cheng2020_attn_quality2_FRtuning.ckpt\n"
     ]
    },
    {
     "data": {
      "application/vnd.jupyter.widget-view+json": {
       "model_id": "15e65b22b4124542a7d16dc2893d95a9",
       "version_major": 2,
       "version_minor": 0
      },
      "text/plain": [
       "0it [00:00, ?it/s]"
      ]
     },
     "metadata": {},
     "output_type": "display_data"
    },
    {
     "data": {
      "application/vnd.jupyter.widget-view+json": {
       "model_id": "5c7e17699f5242cd8e834147a5354ad6",
       "version_major": 2,
       "version_minor": 0
      },
      "text/plain": [
       "0it [00:00, ?it/s]"
      ]
     },
     "metadata": {},
     "output_type": "display_data"
    },
    {
     "name": "stdout",
     "output_type": "stream",
     "text": [
      "[{'mse': [0.00016144585], 'bpp_loss': [0.6834721], 'loss_classic': [0.78845227], 'PSNR': [37.92135], 'LPIPS': [0.10854164], 'loss': [217.08344], 'bitrate': [1.77209]}]\n",
      "LPIPS1 ./models_enhancement_FR/model_vimeo11k_LPIPS1_no_codec_FRtuning.ckpt\n"
     ]
    },
    {
     "data": {
      "application/vnd.jupyter.widget-view+json": {
       "model_id": "c218e62b4ae24580a4b8b158b7bfb46f",
       "version_major": 2,
       "version_minor": 0
      },
      "text/plain": [
       "0it [00:00, ?it/s]"
      ]
     },
     "metadata": {},
     "output_type": "display_data"
    },
    {
     "data": {
      "application/vnd.jupyter.widget-view+json": {
       "model_id": "fce4889be6c5418ca3715674aea39b44",
       "version_major": 2,
       "version_minor": 0
      },
      "text/plain": [
       "0it [00:00, ?it/s]"
      ]
     },
     "metadata": {},
     "output_type": "display_data"
    },
    {
     "name": "stdout",
     "output_type": "stream",
     "text": [
      "[{'mse': [0.00016144585], 'bpp_loss': [0.6834721], 'loss_classic': [0.78845227], 'PSNR': [37.92135], 'LPIPS1': [0.108541645], 'loss': [217.08344], 'bitrate': [1.77209]}]\n",
      "\n"
     ]
    },
    {
     "data": {
      "text/html": [
       "Waiting for W&B process to finish... <strong style=\"color:green\">(success).</strong>"
      ],
      "text/plain": [
       "<IPython.core.display.HTML object>"
      ]
     },
     "metadata": {},
     "output_type": "display_data"
    },
    {
     "data": {
      "application/vnd.jupyter.widget-view+json": {
       "model_id": "",
       "version_major": 2,
       "version_minor": 0
      },
      "text/plain": [
       "VBox(children=(Label(value='28.425 MB of 28.425 MB uploaded (0.000 MB deduped)\\r'), FloatProgress(value=1.0, m…"
      ]
     },
     "metadata": {},
     "output_type": "display_data"
    },
    {
     "data": {
      "text/html": [
       "Synced <strong style=\"color:#cdcd00\">RD_curves_all_met_18_03Without Preprocessing</strong>: <a href=\"https://wandb.ai/havent_invented/Whitebox_strong_metrics_attacks/runs/2iloi5dp\" target=\"_blank\">https://wandb.ai/havent_invented/Whitebox_strong_metrics_attacks/runs/2iloi5dp</a><br/>Synced 7 W&B file(s), 21 media file(s), 21 artifact file(s) and 2 other file(s)"
      ],
      "text/plain": [
       "<IPython.core.display.HTML object>"
      ]
     },
     "metadata": {},
     "output_type": "display_data"
    },
    {
     "data": {
      "text/html": [
       "Find logs at: <code>.\\wandb\\run-20220404_084318-2iloi5dp\\logs</code>"
      ],
      "text/plain": [
       "<IPython.core.display.HTML object>"
      ]
     },
     "metadata": {},
     "output_type": "display_data"
    },
    {
     "name": "stdout",
     "output_type": "stream",
     "text": [
      "[[[{'mse': [0.000120913224], 'bpp_loss': [0.6834721], 'loss_classic': [0.7620959], 'PSNR': [39.19378], 'DISTS': [0.035524484], 'loss': [71.04909], 'bitrate': [1.494759]}], [{'mse': [0.000120913224], 'bpp_loss': [0.6834721], 'loss_classic': [0.7620959], 'PSNR': [39.19378], 'LPIPS': [0.068371266], 'loss': [136.74265], 'bitrate': [1.494759]}], [{'mse': [0.000120913224], 'bpp_loss': [0.6834721], 'loss_classic': [0.7620959], 'PSNR': [39.19378], 'LPIPS1': [0.068371266], 'loss': [136.74265], 'bitrate': [1.494759]}]], [[{'mse': [9.737767e-05], 'bpp_loss': [0.6834721], 'loss_classic': [0.74679196], 'PSNR': [40.24855], 'DISTS': [0.053958982], 'loss': [107.91806], 'bitrate': [0.985618]}], [{'mse': [9.737767e-05], 'bpp_loss': [0.6834721], 'loss_classic': [0.74679196], 'PSNR': [40.24855], 'LPIPS': [0.093850434], 'loss': [187.70096], 'bitrate': [0.985618]}], [{'mse': [9.737767e-05], 'bpp_loss': [0.6834721], 'loss_classic': [0.74679196], 'PSNR': [40.24855], 'LPIPS1': [0.093850434], 'loss': [187.70096], 'bitrate': [0.985618]}]], [[{'mse': [4.695787e-05], 'bpp_loss': [0.6834721], 'loss_classic': [0.7140064], 'PSNR': [43.302544], 'DISTS': [0.07444383], 'loss': [148.8877], 'bitrate': [0.492815]}], [{'mse': [4.695787e-05], 'bpp_loss': [0.6834721], 'loss_classic': [0.7140064], 'PSNR': [43.302544], 'LPIPS': [0.13644895], 'loss': [272.89792], 'bitrate': [0.492815]}], [{'mse': [4.695787e-05], 'bpp_loss': [0.6834721], 'loss_classic': [0.7140064], 'PSNR': [43.302544], 'LPIPS1': [0.13644893], 'loss': [272.89792], 'bitrate': [0.492815]}]], [[{'mse': [0.0004321125], 'bpp_loss': [0.6834721], 'loss_classic': [0.9644532], 'PSNR': [33.64428], 'DISTS': [0.036581732], 'loss': [73.163895], 'bitrate': [4.015162]}], [{'mse': [0.0004321125], 'bpp_loss': [0.6834721], 'loss_classic': [0.9644532], 'PSNR': [33.64428], 'LPIPS': [0.07214713], 'loss': [144.29468], 'bitrate': [4.015162]}], [{'mse': [0.0004321125], 'bpp_loss': [0.6834721], 'loss_classic': [0.9644532], 'PSNR': [33.64428], 'LPIPS1': [0.07214713], 'loss': [144.29468], 'bitrate': [4.015162]}]], [[{'mse': [0.00044826884], 'bpp_loss': [0.6834721], 'loss_classic': [0.9749589], 'PSNR': [33.671997], 'DISTS': [0.0503228], 'loss': [100.64606], 'bitrate': [4.54584]}], [{'mse': [0.00044826884], 'bpp_loss': [0.6834721], 'loss_classic': [0.9749589], 'PSNR': [33.671997], 'LPIPS': [0.09816249], 'loss': [196.32541], 'bitrate': [4.54584]}], [{'mse': [0.00044826884], 'bpp_loss': [0.6834721], 'loss_classic': [0.9749589], 'PSNR': [33.671997], 'LPIPS1': [0.09816249], 'loss': [196.32541], 'bitrate': [4.54584]}]], [[{'mse': [0.0001288532], 'bpp_loss': [0.6834721], 'loss_classic': [0.7672589], 'PSNR': [38.995926], 'DISTS': [0.10804888], 'loss': [216.0979], 'bitrate': [1.075834]}], [{'mse': [0.0001288532], 'bpp_loss': [0.6834721], 'loss_classic': [0.7672589], 'PSNR': [38.995926], 'LPIPS': [0.19604024], 'loss': [392.08063], 'bitrate': [1.075834]}], [{'mse': [0.0001288532], 'bpp_loss': [0.6834721], 'loss_classic': [0.7672589], 'PSNR': [38.995926], 'LPIPS1': [0.19604024], 'loss': [392.08063], 'bitrate': [1.075834]}]], [[{'mse': [0.00016144585], 'bpp_loss': [0.6834721], 'loss_classic': [0.78845227], 'PSNR': [37.92135], 'DISTS': [0.06149696], 'loss': [122.99408], 'bitrate': [1.77209]}], [{'mse': [0.00016144585], 'bpp_loss': [0.6834721], 'loss_classic': [0.78845227], 'PSNR': [37.92135], 'LPIPS': [0.10854164], 'loss': [217.08344], 'bitrate': [1.77209]}], [{'mse': [0.00016144585], 'bpp_loss': [0.6834721], 'loss_classic': [0.78845227], 'PSNR': [37.92135], 'LPIPS1': [0.108541645], 'loss': [217.08344], 'bitrate': [1.77209]}]]]\n"
     ]
    },
    {
     "data": {
      "text/html": [
       "Tracking run with wandb version 0.12.11"
      ],
      "text/plain": [
       "<IPython.core.display.HTML object>"
      ]
     },
     "metadata": {},
     "output_type": "display_data"
    },
    {
     "data": {
      "text/html": [
       "Run data is saved locally in <code>E:\\VMAF_METRIX\\NeuralNetworkCompression\\wandb\\run-20220404_085223-9ag102ur</code>"
      ],
      "text/plain": [
       "<IPython.core.display.HTML object>"
      ]
     },
     "metadata": {},
     "output_type": "display_data"
    },
    {
     "data": {
      "text/html": [
       "Syncing run <strong><a href=\"https://wandb.ai/havent_invented/Whitebox_strong_metrics_attacks/runs/9ag102ur\" target=\"_blank\">RD_curves_all_met_18_03Without Preprocessing</a></strong> to <a href=\"https://wandb.ai/havent_invented/Whitebox_strong_metrics_attacks\" target=\"_blank\">Weights & Biases</a> (<a href=\"https://wandb.me/run\" target=\"_blank\">docs</a>)<br/>"
      ],
      "text/plain": [
       "<IPython.core.display.HTML object>"
      ]
     },
     "metadata": {},
     "output_type": "display_data"
    },
    {
     "data": {
      "application/vnd.jupyter.widget-view+json": {
       "model_id": "109cde63bf944deea108a8e2f6d60c94",
       "version_major": 2,
       "version_minor": 0
      },
      "text/plain": [
       "0it [00:00, ?it/s]"
      ]
     },
     "metadata": {},
     "output_type": "display_data"
    },
    {
     "data": {
      "application/vnd.jupyter.widget-view+json": {
       "model_id": "17fba6df63824d35803e22bf5c2f4c16",
       "version_major": 2,
       "version_minor": 0
      },
      "text/plain": [
       "0it [00:00, ?it/s]"
      ]
     },
     "metadata": {},
     "output_type": "display_data"
    },
    {
     "name": "stdout",
     "output_type": "stream",
     "text": [
      "DISTS ./models_enhancement_FR/model_vimeo11k_DISTS_cheng2020_attn_quality2_FRtuning.ckpt\n"
     ]
    },
    {
     "data": {
      "application/vnd.jupyter.widget-view+json": {
       "model_id": "c2ba49f531d2491386198e7aace5674e",
       "version_major": 2,
       "version_minor": 0
      },
      "text/plain": [
       "0it [00:00, ?it/s]"
      ]
     },
     "metadata": {},
     "output_type": "display_data"
    },
    {
     "data": {
      "application/vnd.jupyter.widget-view+json": {
       "model_id": "cfb49f29898948db865c66cfa836bed9",
       "version_major": 2,
       "version_minor": 0
      },
      "text/plain": [
       "0it [00:00, ?it/s]"
      ]
     },
     "metadata": {},
     "output_type": "display_data"
    },
    {
     "name": "stdout",
     "output_type": "stream",
     "text": [
      "[{'mse': [6.112818e-05], 'bpp_loss': [0.6834721], 'loss_classic': [0.7232207], 'PSNR': [42.179657], 'DISTS': [0.01195764], 'loss': [23.91534], 'bitrate': [2.964478]}]\n",
      "LPIPS ./models_enhancement_FR/model_vimeo11k_LPIPS_cheng2020_attn_quality2_FRtuning.ckpt\n"
     ]
    },
    {
     "data": {
      "application/vnd.jupyter.widget-view+json": {
       "model_id": "d2e5c1cf51e84cd78edb9dfb86a8f0f8",
       "version_major": 2,
       "version_minor": 0
      },
      "text/plain": [
       "0it [00:00, ?it/s]"
      ]
     },
     "metadata": {},
     "output_type": "display_data"
    },
    {
     "data": {
      "application/vnd.jupyter.widget-view+json": {
       "model_id": "f118bd88ac3b47eb9b1033c1d158c5d6",
       "version_major": 2,
       "version_minor": 0
      },
      "text/plain": [
       "0it [00:00, ?it/s]"
      ]
     },
     "metadata": {},
     "output_type": "display_data"
    },
    {
     "name": "stdout",
     "output_type": "stream",
     "text": [
      "[{'mse': [6.112818e-05], 'bpp_loss': [0.6834721], 'loss_classic': [0.7232207], 'PSNR': [42.179657], 'LPIPS': [0.020684991], 'loss': [41.37004], 'bitrate': [2.964478]}]\n",
      "LPIPS1 ./models_enhancement_FR/model_vimeo11k_LPIPS1_no_codec_FRtuning.ckpt\n"
     ]
    },
    {
     "data": {
      "application/vnd.jupyter.widget-view+json": {
       "model_id": "cad469ceca8641c68e3c09690c886ce2",
       "version_major": 2,
       "version_minor": 0
      },
      "text/plain": [
       "0it [00:00, ?it/s]"
      ]
     },
     "metadata": {},
     "output_type": "display_data"
    },
    {
     "data": {
      "application/vnd.jupyter.widget-view+json": {
       "model_id": "6c75593ccf364579980506cf6d9424e5",
       "version_major": 2,
       "version_minor": 0
      },
      "text/plain": [
       "0it [00:00, ?it/s]"
      ]
     },
     "metadata": {},
     "output_type": "display_data"
    },
    {
     "name": "stdout",
     "output_type": "stream",
     "text": [
      "[{'mse': [6.112818e-05], 'bpp_loss': [0.6834721], 'loss_classic': [0.7232207], 'PSNR': [42.179657], 'LPIPS1': [0.020684991], 'loss': [41.37004], 'bitrate': [2.964478]}]\n"
     ]
    },
    {
     "data": {
      "application/vnd.jupyter.widget-view+json": {
       "model_id": "f6399c164e95438394569347d48684f9",
       "version_major": 2,
       "version_minor": 0
      },
      "text/plain": [
       "0it [00:00, ?it/s]"
      ]
     },
     "metadata": {},
     "output_type": "display_data"
    },
    {
     "name": "stdout",
     "output_type": "stream",
     "text": [
      "DISTS ./models_enhancement_FR/model_vimeo11k_DISTS_cheng2020_attn_quality2_FRtuning.ckpt\n"
     ]
    },
    {
     "data": {
      "application/vnd.jupyter.widget-view+json": {
       "model_id": "636c050f5838438faf074a6ee3b43758",
       "version_major": 2,
       "version_minor": 0
      },
      "text/plain": [
       "0it [00:00, ?it/s]"
      ]
     },
     "metadata": {},
     "output_type": "display_data"
    },
    {
     "data": {
      "application/vnd.jupyter.widget-view+json": {
       "model_id": "7eb2777d0842453890f515dce48bd24e",
       "version_major": 2,
       "version_minor": 0
      },
      "text/plain": [
       "0it [00:00, ?it/s]"
      ]
     },
     "metadata": {},
     "output_type": "display_data"
    },
    {
     "name": "stdout",
     "output_type": "stream",
     "text": [
      "[{'mse': [3.48697e-05], 'bpp_loss': [0.6834721], 'loss_classic': [0.7061461], 'PSNR': [44.683388], 'DISTS': [0.012993973], 'loss': [25.98798], 'bitrate': [2.248353]}]\n",
      "LPIPS ./models_enhancement_FR/model_vimeo11k_LPIPS_cheng2020_attn_quality2_FRtuning.ckpt\n"
     ]
    },
    {
     "data": {
      "application/vnd.jupyter.widget-view+json": {
       "model_id": "b16f6ba0d35549639c289de3bcb730e5",
       "version_major": 2,
       "version_minor": 0
      },
      "text/plain": [
       "0it [00:00, ?it/s]"
      ]
     },
     "metadata": {},
     "output_type": "display_data"
    },
    {
     "data": {
      "application/vnd.jupyter.widget-view+json": {
       "model_id": "3872b91723df48dd8450534af827d138",
       "version_major": 2,
       "version_minor": 0
      },
      "text/plain": [
       "0it [00:00, ?it/s]"
      ]
     },
     "metadata": {},
     "output_type": "display_data"
    },
    {
     "name": "stdout",
     "output_type": "stream",
     "text": [
      "[{'mse': [3.48697e-05], 'bpp_loss': [0.6834721], 'loss_classic': [0.7061461], 'PSNR': [44.683388], 'LPIPS': [0.019409928], 'loss': [38.81989], 'bitrate': [2.248353]}]\n",
      "LPIPS1 ./models_enhancement_FR/model_vimeo11k_LPIPS1_no_codec_FRtuning.ckpt\n"
     ]
    },
    {
     "data": {
      "application/vnd.jupyter.widget-view+json": {
       "model_id": "4c93d7c7c5fa4942bcb83b455bdf83e5",
       "version_major": 2,
       "version_minor": 0
      },
      "text/plain": [
       "0it [00:00, ?it/s]"
      ]
     },
     "metadata": {},
     "output_type": "display_data"
    },
    {
     "data": {
      "application/vnd.jupyter.widget-view+json": {
       "model_id": "1d9eca2398ef471882ec138980d090e8",
       "version_major": 2,
       "version_minor": 0
      },
      "text/plain": [
       "0it [00:00, ?it/s]"
      ]
     },
     "metadata": {},
     "output_type": "display_data"
    },
    {
     "name": "stdout",
     "output_type": "stream",
     "text": [
      "[{'mse': [3.48697e-05], 'bpp_loss': [0.6834721], 'loss_classic': [0.7061461], 'PSNR': [44.683388], 'LPIPS1': [0.019409928], 'loss': [38.819893], 'bitrate': [2.248353]}]\n"
     ]
    },
    {
     "data": {
      "application/vnd.jupyter.widget-view+json": {
       "model_id": "23e5cff3f4ca4de48dfd6b2a82316fc2",
       "version_major": 2,
       "version_minor": 0
      },
      "text/plain": [
       "0it [00:00, ?it/s]"
      ]
     },
     "metadata": {},
     "output_type": "display_data"
    },
    {
     "name": "stdout",
     "output_type": "stream",
     "text": [
      "DISTS ./models_enhancement_FR/model_vimeo11k_DISTS_cheng2020_attn_quality2_FRtuning.ckpt\n"
     ]
    },
    {
     "data": {
      "application/vnd.jupyter.widget-view+json": {
       "model_id": "b511d1bb2f884529a632bf15b0f361df",
       "version_major": 2,
       "version_minor": 0
      },
      "text/plain": [
       "0it [00:00, ?it/s]"
      ]
     },
     "metadata": {},
     "output_type": "display_data"
    },
    {
     "data": {
      "application/vnd.jupyter.widget-view+json": {
       "model_id": "4cb410975b2e4d5c830df7f192ef277c",
       "version_major": 2,
       "version_minor": 0
      },
      "text/plain": [
       "0it [00:00, ?it/s]"
      ]
     },
     "metadata": {},
     "output_type": "display_data"
    },
    {
     "name": "stdout",
     "output_type": "stream",
     "text": [
      "[{'mse': [2.8547973e-05], 'bpp_loss': [0.6834721], 'loss_classic': [0.70203537], 'PSNR': [45.477577], 'DISTS': [0.042049382], 'loss': [84.09879], 'bitrate': [2.656265]}]\n",
      "LPIPS ./models_enhancement_FR/model_vimeo11k_LPIPS_cheng2020_attn_quality2_FRtuning.ckpt\n"
     ]
    },
    {
     "data": {
      "application/vnd.jupyter.widget-view+json": {
       "model_id": "88496038dab14d37aa925b19a84f7125",
       "version_major": 2,
       "version_minor": 0
      },
      "text/plain": [
       "0it [00:00, ?it/s]"
      ]
     },
     "metadata": {},
     "output_type": "display_data"
    },
    {
     "data": {
      "application/vnd.jupyter.widget-view+json": {
       "model_id": "822fb5bb808449b585b2b9313535d819",
       "version_major": 2,
       "version_minor": 0
      },
      "text/plain": [
       "0it [00:00, ?it/s]"
      ]
     },
     "metadata": {},
     "output_type": "display_data"
    },
    {
     "name": "stdout",
     "output_type": "stream",
     "text": [
      "[{'mse': [2.8547973e-05], 'bpp_loss': [0.6834721], 'loss_classic': [0.70203537], 'PSNR': [45.477577], 'LPIPS': [0.06458763], 'loss': [129.1753], 'bitrate': [2.656265]}]\n",
      "LPIPS1 ./models_enhancement_FR/model_vimeo11k_LPIPS1_no_codec_FRtuning.ckpt\n"
     ]
    },
    {
     "data": {
      "application/vnd.jupyter.widget-view+json": {
       "model_id": "20bf9cc29459434f9215ddbf06adae16",
       "version_major": 2,
       "version_minor": 0
      },
      "text/plain": [
       "0it [00:00, ?it/s]"
      ]
     },
     "metadata": {},
     "output_type": "display_data"
    },
    {
     "data": {
      "application/vnd.jupyter.widget-view+json": {
       "model_id": "e820f8eaf4e64084848181c40f3a221f",
       "version_major": 2,
       "version_minor": 0
      },
      "text/plain": [
       "0it [00:00, ?it/s]"
      ]
     },
     "metadata": {},
     "output_type": "display_data"
    },
    {
     "name": "stdout",
     "output_type": "stream",
     "text": [
      "[{'mse': [2.8547973e-05], 'bpp_loss': [0.6834721], 'loss_classic': [0.70203537], 'PSNR': [45.477577], 'LPIPS1': [0.06458763], 'loss': [129.1753], 'bitrate': [2.656265]}]\n"
     ]
    },
    {
     "data": {
      "application/vnd.jupyter.widget-view+json": {
       "model_id": "a6102926d9514dbca33bc46c1dafcbce",
       "version_major": 2,
       "version_minor": 0
      },
      "text/plain": [
       "0it [00:00, ?it/s]"
      ]
     },
     "metadata": {},
     "output_type": "display_data"
    },
    {
     "name": "stdout",
     "output_type": "stream",
     "text": [
      "DISTS ./models_enhancement_FR/model_vimeo11k_DISTS_cheng2020_attn_quality2_FRtuning.ckpt\n"
     ]
    },
    {
     "data": {
      "application/vnd.jupyter.widget-view+json": {
       "model_id": "5735c363368b4cbea3f6366b8c874d51",
       "version_major": 2,
       "version_minor": 0
      },
      "text/plain": [
       "0it [00:00, ?it/s]"
      ]
     },
     "metadata": {},
     "output_type": "display_data"
    },
    {
     "data": {
      "application/vnd.jupyter.widget-view+json": {
       "model_id": "d507f1c5a10948fabcfcc13d744e1e1d",
       "version_major": 2,
       "version_minor": 0
      },
      "text/plain": [
       "0it [00:00, ?it/s]"
      ]
     },
     "metadata": {},
     "output_type": "display_data"
    },
    {
     "name": "stdout",
     "output_type": "stream",
     "text": [
      "[{'mse': [0.0003044663], 'bpp_loss': [0.6834721], 'loss_classic': [0.88145125], 'PSNR': [35.848953], 'DISTS': [0.030796142], 'loss': [61.59259], 'bitrate': [3.158312]}]\n",
      "LPIPS ./models_enhancement_FR/model_vimeo11k_LPIPS_cheng2020_attn_quality2_FRtuning.ckpt\n"
     ]
    },
    {
     "data": {
      "application/vnd.jupyter.widget-view+json": {
       "model_id": "318bea31b6174887a83994d21103b587",
       "version_major": 2,
       "version_minor": 0
      },
      "text/plain": [
       "0it [00:00, ?it/s]"
      ]
     },
     "metadata": {},
     "output_type": "display_data"
    },
    {
     "data": {
      "application/vnd.jupyter.widget-view+json": {
       "model_id": "b54a242d1c124ec189dd56a367828a11",
       "version_major": 2,
       "version_minor": 0
      },
      "text/plain": [
       "0it [00:00, ?it/s]"
      ]
     },
     "metadata": {},
     "output_type": "display_data"
    },
    {
     "name": "stdout",
     "output_type": "stream",
     "text": [
      "[{'mse': [0.0003044663], 'bpp_loss': [0.6834721], 'loss_classic': [0.88145125], 'PSNR': [35.848953], 'LPIPS': [0.049178004], 'loss': [98.35631], 'bitrate': [3.158312]}]\n",
      "LPIPS1 ./models_enhancement_FR/model_vimeo11k_LPIPS1_no_codec_FRtuning.ckpt\n"
     ]
    },
    {
     "data": {
      "application/vnd.jupyter.widget-view+json": {
       "model_id": "41eca867764c413bb7f5a499bd64b286",
       "version_major": 2,
       "version_minor": 0
      },
      "text/plain": [
       "0it [00:00, ?it/s]"
      ]
     },
     "metadata": {},
     "output_type": "display_data"
    },
    {
     "data": {
      "application/vnd.jupyter.widget-view+json": {
       "model_id": "be4db5e6ed6d446f818ca5b322baaef2",
       "version_major": 2,
       "version_minor": 0
      },
      "text/plain": [
       "0it [00:00, ?it/s]"
      ]
     },
     "metadata": {},
     "output_type": "display_data"
    },
    {
     "name": "stdout",
     "output_type": "stream",
     "text": [
      "[{'mse': [0.0003044663], 'bpp_loss': [0.6834721], 'loss_classic': [0.88145125], 'PSNR': [35.848953], 'LPIPS1': [0.049178004], 'loss': [98.35631], 'bitrate': [3.158312]}]\n"
     ]
    },
    {
     "data": {
      "application/vnd.jupyter.widget-view+json": {
       "model_id": "77072d2c89ba4042a72b7c79f7624c1f",
       "version_major": 2,
       "version_minor": 0
      },
      "text/plain": [
       "0it [00:00, ?it/s]"
      ]
     },
     "metadata": {},
     "output_type": "display_data"
    },
    {
     "name": "stdout",
     "output_type": "stream",
     "text": [
      "DISTS ./models_enhancement_FR/model_vimeo11k_DISTS_cheng2020_attn_quality2_FRtuning.ckpt\n"
     ]
    },
    {
     "data": {
      "application/vnd.jupyter.widget-view+json": {
       "model_id": "ac146132a4934ed79fb9b87e025d93f8",
       "version_major": 2,
       "version_minor": 0
      },
      "text/plain": [
       "0it [00:00, ?it/s]"
      ]
     },
     "metadata": {},
     "output_type": "display_data"
    },
    {
     "data": {
      "application/vnd.jupyter.widget-view+json": {
       "model_id": "5297f6a820f04e31b4eef69ccf6eb4b7",
       "version_major": 2,
       "version_minor": 0
      },
      "text/plain": [
       "0it [00:00, ?it/s]"
      ]
     },
     "metadata": {},
     "output_type": "display_data"
    },
    {
     "name": "stdout",
     "output_type": "stream",
     "text": [
      "[{'mse': [0.00041773275], 'bpp_loss': [0.6834721], 'loss_classic': [0.9551028], 'PSNR': [34.766674], 'DISTS': [0.035365157], 'loss': [70.73073], 'bitrate': [3.315334]}]\n",
      "LPIPS ./models_enhancement_FR/model_vimeo11k_LPIPS_cheng2020_attn_quality2_FRtuning.ckpt\n"
     ]
    },
    {
     "data": {
      "application/vnd.jupyter.widget-view+json": {
       "model_id": "e03ee5bac9574bbeb91444b83bc36e2f",
       "version_major": 2,
       "version_minor": 0
      },
      "text/plain": [
       "0it [00:00, ?it/s]"
      ]
     },
     "metadata": {},
     "output_type": "display_data"
    },
    {
     "data": {
      "application/vnd.jupyter.widget-view+json": {
       "model_id": "3893e58f9d7348e4a24957c0174c3ce2",
       "version_major": 2,
       "version_minor": 0
      },
      "text/plain": [
       "0it [00:00, ?it/s]"
      ]
     },
     "metadata": {},
     "output_type": "display_data"
    },
    {
     "name": "stdout",
     "output_type": "stream",
     "text": [
      "[{'mse': [0.00041773275], 'bpp_loss': [0.6834721], 'loss_classic': [0.9551028], 'PSNR': [34.766674], 'LPIPS': [0.054284707], 'loss': [108.56983], 'bitrate': [3.315334]}]\n",
      "LPIPS1 ./models_enhancement_FR/model_vimeo11k_LPIPS1_no_codec_FRtuning.ckpt\n"
     ]
    },
    {
     "data": {
      "application/vnd.jupyter.widget-view+json": {
       "model_id": "238016361c984046b086b5e829361633",
       "version_major": 2,
       "version_minor": 0
      },
      "text/plain": [
       "0it [00:00, ?it/s]"
      ]
     },
     "metadata": {},
     "output_type": "display_data"
    },
    {
     "data": {
      "application/vnd.jupyter.widget-view+json": {
       "model_id": "16cb2d00015f4775919d6b3644e9b3cd",
       "version_major": 2,
       "version_minor": 0
      },
      "text/plain": [
       "0it [00:00, ?it/s]"
      ]
     },
     "metadata": {},
     "output_type": "display_data"
    },
    {
     "name": "stdout",
     "output_type": "stream",
     "text": [
      "[{'mse': [0.00041773275], 'bpp_loss': [0.6834721], 'loss_classic': [0.9551028], 'PSNR': [34.766674], 'LPIPS1': [0.054284707], 'loss': [108.56983], 'bitrate': [3.315334]}]\n"
     ]
    },
    {
     "data": {
      "application/vnd.jupyter.widget-view+json": {
       "model_id": "65b2f8ff486441bab99f757ceb00f3c5",
       "version_major": 2,
       "version_minor": 0
      },
      "text/plain": [
       "0it [00:00, ?it/s]"
      ]
     },
     "metadata": {},
     "output_type": "display_data"
    },
    {
     "name": "stdout",
     "output_type": "stream",
     "text": [
      "DISTS ./models_enhancement_FR/model_vimeo11k_DISTS_cheng2020_attn_quality2_FRtuning.ckpt\n"
     ]
    },
    {
     "data": {
      "application/vnd.jupyter.widget-view+json": {
       "model_id": "17fa9813b7244253ac047e4fd6485d4b",
       "version_major": 2,
       "version_minor": 0
      },
      "text/plain": [
       "0it [00:00, ?it/s]"
      ]
     },
     "metadata": {},
     "output_type": "display_data"
    },
    {
     "data": {
      "application/vnd.jupyter.widget-view+json": {
       "model_id": "40953f3f1a75441bbb03d08c3e785a37",
       "version_major": 2,
       "version_minor": 0
      },
      "text/plain": [
       "0it [00:00, ?it/s]"
      ]
     },
     "metadata": {},
     "output_type": "display_data"
    },
    {
     "name": "stdout",
     "output_type": "stream",
     "text": [
      "[{'mse': [5.657647e-05], 'bpp_loss': [0.6834721], 'loss_classic': [0.720261], 'PSNR': [42.648964], 'DISTS': [0.02687811], 'loss': [53.75628], 'bitrate': [3.155725]}]\n",
      "LPIPS ./models_enhancement_FR/model_vimeo11k_LPIPS_cheng2020_attn_quality2_FRtuning.ckpt\n"
     ]
    },
    {
     "data": {
      "application/vnd.jupyter.widget-view+json": {
       "model_id": "f00209e1a6e54b5d81bb02ce270a94d4",
       "version_major": 2,
       "version_minor": 0
      },
      "text/plain": [
       "0it [00:00, ?it/s]"
      ]
     },
     "metadata": {},
     "output_type": "display_data"
    },
    {
     "data": {
      "application/vnd.jupyter.widget-view+json": {
       "model_id": "ce034670f2494bdf8081086d4346729b",
       "version_major": 2,
       "version_minor": 0
      },
      "text/plain": [
       "0it [00:00, ?it/s]"
      ]
     },
     "metadata": {},
     "output_type": "display_data"
    },
    {
     "name": "stdout",
     "output_type": "stream",
     "text": [
      "[{'mse': [5.657647e-05], 'bpp_loss': [0.6834721], 'loss_classic': [0.720261], 'PSNR': [42.648964], 'LPIPS': [0.049211968], 'loss': [98.42399], 'bitrate': [3.155725]}]\n",
      "LPIPS1 ./models_enhancement_FR/model_vimeo11k_LPIPS1_no_codec_FRtuning.ckpt\n"
     ]
    },
    {
     "data": {
      "application/vnd.jupyter.widget-view+json": {
       "model_id": "e6308ed4ed7244f8b63f6c4a667d847a",
       "version_major": 2,
       "version_minor": 0
      },
      "text/plain": [
       "0it [00:00, ?it/s]"
      ]
     },
     "metadata": {},
     "output_type": "display_data"
    },
    {
     "data": {
      "application/vnd.jupyter.widget-view+json": {
       "model_id": "9e018d453bc843728e8938739bb546fc",
       "version_major": 2,
       "version_minor": 0
      },
      "text/plain": [
       "0it [00:00, ?it/s]"
      ]
     },
     "metadata": {},
     "output_type": "display_data"
    },
    {
     "name": "stdout",
     "output_type": "stream",
     "text": [
      "[{'mse': [5.657647e-05], 'bpp_loss': [0.6834721], 'loss_classic': [0.720261], 'PSNR': [42.648964], 'LPIPS1': [0.049211968], 'loss': [98.42399], 'bitrate': [3.155725]}]\n"
     ]
    },
    {
     "data": {
      "application/vnd.jupyter.widget-view+json": {
       "model_id": "f7c295791dc9488fb03f496455d2f160",
       "version_major": 2,
       "version_minor": 0
      },
      "text/plain": [
       "0it [00:00, ?it/s]"
      ]
     },
     "metadata": {},
     "output_type": "display_data"
    },
    {
     "name": "stdout",
     "output_type": "stream",
     "text": [
      "DISTS ./models_enhancement_FR/model_vimeo11k_DISTS_cheng2020_attn_quality2_FRtuning.ckpt\n"
     ]
    },
    {
     "data": {
      "application/vnd.jupyter.widget-view+json": {
       "model_id": "312dc11e87c54e66b1fa68e5a31d4641",
       "version_major": 2,
       "version_minor": 0
      },
      "text/plain": [
       "0it [00:00, ?it/s]"
      ]
     },
     "metadata": {},
     "output_type": "display_data"
    },
    {
     "data": {
      "application/vnd.jupyter.widget-view+json": {
       "model_id": "e5d6ef23f1b14d66a4ee2200c1206f2d",
       "version_major": 2,
       "version_minor": 0
      },
      "text/plain": [
       "0it [00:00, ?it/s]"
      ]
     },
     "metadata": {},
     "output_type": "display_data"
    },
    {
     "name": "stdout",
     "output_type": "stream",
     "text": [
      "[{'mse': [7.321968e-05], 'bpp_loss': [0.6834721], 'loss_classic': [0.7310832], 'PSNR': [41.466885], 'DISTS': [0.019907594], 'loss': [39.81526], 'bitrate': [2.962621]}]\n",
      "LPIPS ./models_enhancement_FR/model_vimeo11k_LPIPS_cheng2020_attn_quality2_FRtuning.ckpt\n"
     ]
    },
    {
     "data": {
      "application/vnd.jupyter.widget-view+json": {
       "model_id": "030587cad6794e469171abd0622761bb",
       "version_major": 2,
       "version_minor": 0
      },
      "text/plain": [
       "0it [00:00, ?it/s]"
      ]
     },
     "metadata": {},
     "output_type": "display_data"
    },
    {
     "data": {
      "application/vnd.jupyter.widget-view+json": {
       "model_id": "0397acc38cf644ccb8d90a6829765242",
       "version_major": 2,
       "version_minor": 0
      },
      "text/plain": [
       "0it [00:00, ?it/s]"
      ]
     },
     "metadata": {},
     "output_type": "display_data"
    },
    {
     "name": "stdout",
     "output_type": "stream",
     "text": [
      "[{'mse': [7.321968e-05], 'bpp_loss': [0.6834721], 'loss_classic': [0.7310832], 'PSNR': [41.466885], 'LPIPS': [0.033678867], 'loss': [67.35781], 'bitrate': [2.962621]}]\n",
      "LPIPS1 ./models_enhancement_FR/model_vimeo11k_LPIPS1_no_codec_FRtuning.ckpt\n"
     ]
    },
    {
     "data": {
      "application/vnd.jupyter.widget-view+json": {
       "model_id": "b1e780668855461cbddc62e7c21d3809",
       "version_major": 2,
       "version_minor": 0
      },
      "text/plain": [
       "0it [00:00, ?it/s]"
      ]
     },
     "metadata": {},
     "output_type": "display_data"
    },
    {
     "data": {
      "application/vnd.jupyter.widget-view+json": {
       "model_id": "5abd171e6e4a4d328ceb197e7c7e89c7",
       "version_major": 2,
       "version_minor": 0
      },
      "text/plain": [
       "0it [00:00, ?it/s]"
      ]
     },
     "metadata": {},
     "output_type": "display_data"
    },
    {
     "name": "stdout",
     "output_type": "stream",
     "text": [
      "[{'mse': [7.321968e-05], 'bpp_loss': [0.6834721], 'loss_classic': [0.7310832], 'PSNR': [41.466885], 'LPIPS1': [0.03367887], 'loss': [67.35781], 'bitrate': [2.962621]}]\n",
      "\n"
     ]
    },
    {
     "data": {
      "text/html": [
       "Waiting for W&B process to finish... <strong style=\"color:green\">(success).</strong>"
      ],
      "text/plain": [
       "<IPython.core.display.HTML object>"
      ]
     },
     "metadata": {},
     "output_type": "display_data"
    },
    {
     "data": {
      "application/vnd.jupyter.widget-view+json": {
       "model_id": "",
       "version_major": 2,
       "version_minor": 0
      },
      "text/plain": [
       "VBox(children=(Label(value='28.452 MB of 28.452 MB uploaded (0.000 MB deduped)\\r'), FloatProgress(value=1.0, m…"
      ]
     },
     "metadata": {},
     "output_type": "display_data"
    },
    {
     "data": {
      "text/html": [
       "Synced <strong style=\"color:#cdcd00\">RD_curves_all_met_18_03Without Preprocessing</strong>: <a href=\"https://wandb.ai/havent_invented/Whitebox_strong_metrics_attacks/runs/9ag102ur\" target=\"_blank\">https://wandb.ai/havent_invented/Whitebox_strong_metrics_attacks/runs/9ag102ur</a><br/>Synced 7 W&B file(s), 21 media file(s), 21 artifact file(s) and 2 other file(s)"
      ],
      "text/plain": [
       "<IPython.core.display.HTML object>"
      ]
     },
     "metadata": {},
     "output_type": "display_data"
    },
    {
     "data": {
      "text/html": [
       "Find logs at: <code>.\\wandb\\run-20220404_085223-9ag102ur\\logs</code>"
      ],
      "text/plain": [
       "<IPython.core.display.HTML object>"
      ]
     },
     "metadata": {},
     "output_type": "display_data"
    },
    {
     "name": "stdout",
     "output_type": "stream",
     "text": [
      "[[[{'mse': [6.112818e-05], 'bpp_loss': [0.6834721], 'loss_classic': [0.7232207], 'PSNR': [42.179657], 'DISTS': [0.01195764], 'loss': [23.91534], 'bitrate': [2.964478]}], [{'mse': [6.112818e-05], 'bpp_loss': [0.6834721], 'loss_classic': [0.7232207], 'PSNR': [42.179657], 'LPIPS': [0.020684991], 'loss': [41.37004], 'bitrate': [2.964478]}], [{'mse': [6.112818e-05], 'bpp_loss': [0.6834721], 'loss_classic': [0.7232207], 'PSNR': [42.179657], 'LPIPS1': [0.020684991], 'loss': [41.37004], 'bitrate': [2.964478]}]], [[{'mse': [3.48697e-05], 'bpp_loss': [0.6834721], 'loss_classic': [0.7061461], 'PSNR': [44.683388], 'DISTS': [0.012993973], 'loss': [25.98798], 'bitrate': [2.248353]}], [{'mse': [3.48697e-05], 'bpp_loss': [0.6834721], 'loss_classic': [0.7061461], 'PSNR': [44.683388], 'LPIPS': [0.019409928], 'loss': [38.81989], 'bitrate': [2.248353]}], [{'mse': [3.48697e-05], 'bpp_loss': [0.6834721], 'loss_classic': [0.7061461], 'PSNR': [44.683388], 'LPIPS1': [0.019409928], 'loss': [38.819893], 'bitrate': [2.248353]}]], [[{'mse': [2.8547973e-05], 'bpp_loss': [0.6834721], 'loss_classic': [0.70203537], 'PSNR': [45.477577], 'DISTS': [0.042049382], 'loss': [84.09879], 'bitrate': [2.656265]}], [{'mse': [2.8547973e-05], 'bpp_loss': [0.6834721], 'loss_classic': [0.70203537], 'PSNR': [45.477577], 'LPIPS': [0.06458763], 'loss': [129.1753], 'bitrate': [2.656265]}], [{'mse': [2.8547973e-05], 'bpp_loss': [0.6834721], 'loss_classic': [0.70203537], 'PSNR': [45.477577], 'LPIPS1': [0.06458763], 'loss': [129.1753], 'bitrate': [2.656265]}]], [[{'mse': [0.0003044663], 'bpp_loss': [0.6834721], 'loss_classic': [0.88145125], 'PSNR': [35.848953], 'DISTS': [0.030796142], 'loss': [61.59259], 'bitrate': [3.158312]}], [{'mse': [0.0003044663], 'bpp_loss': [0.6834721], 'loss_classic': [0.88145125], 'PSNR': [35.848953], 'LPIPS': [0.049178004], 'loss': [98.35631], 'bitrate': [3.158312]}], [{'mse': [0.0003044663], 'bpp_loss': [0.6834721], 'loss_classic': [0.88145125], 'PSNR': [35.848953], 'LPIPS1': [0.049178004], 'loss': [98.35631], 'bitrate': [3.158312]}]], [[{'mse': [0.00041773275], 'bpp_loss': [0.6834721], 'loss_classic': [0.9551028], 'PSNR': [34.766674], 'DISTS': [0.035365157], 'loss': [70.73073], 'bitrate': [3.315334]}], [{'mse': [0.00041773275], 'bpp_loss': [0.6834721], 'loss_classic': [0.9551028], 'PSNR': [34.766674], 'LPIPS': [0.054284707], 'loss': [108.56983], 'bitrate': [3.315334]}], [{'mse': [0.00041773275], 'bpp_loss': [0.6834721], 'loss_classic': [0.9551028], 'PSNR': [34.766674], 'LPIPS1': [0.054284707], 'loss': [108.56983], 'bitrate': [3.315334]}]], [[{'mse': [5.657647e-05], 'bpp_loss': [0.6834721], 'loss_classic': [0.720261], 'PSNR': [42.648964], 'DISTS': [0.02687811], 'loss': [53.75628], 'bitrate': [3.155725]}], [{'mse': [5.657647e-05], 'bpp_loss': [0.6834721], 'loss_classic': [0.720261], 'PSNR': [42.648964], 'LPIPS': [0.049211968], 'loss': [98.42399], 'bitrate': [3.155725]}], [{'mse': [5.657647e-05], 'bpp_loss': [0.6834721], 'loss_classic': [0.720261], 'PSNR': [42.648964], 'LPIPS1': [0.049211968], 'loss': [98.42399], 'bitrate': [3.155725]}]], [[{'mse': [7.321968e-05], 'bpp_loss': [0.6834721], 'loss_classic': [0.7310832], 'PSNR': [41.466885], 'DISTS': [0.019907594], 'loss': [39.81526], 'bitrate': [2.962621]}], [{'mse': [7.321968e-05], 'bpp_loss': [0.6834721], 'loss_classic': [0.7310832], 'PSNR': [41.466885], 'LPIPS': [0.033678867], 'loss': [67.35781], 'bitrate': [2.962621]}], [{'mse': [7.321968e-05], 'bpp_loss': [0.6834721], 'loss_classic': [0.7310832], 'PSNR': [41.466885], 'LPIPS1': [0.03367887], 'loss': [67.35781], 'bitrate': [2.962621]}]]]\n"
     ]
    },
    {
     "data": {
      "text/html": [
       "Tracking run with wandb version 0.12.11"
      ],
      "text/plain": [
       "<IPython.core.display.HTML object>"
      ]
     },
     "metadata": {},
     "output_type": "display_data"
    },
    {
     "data": {
      "text/html": [
       "Run data is saved locally in <code>E:\\VMAF_METRIX\\NeuralNetworkCompression\\wandb\\run-20220404_090131-aoj37kv2</code>"
      ],
      "text/plain": [
       "<IPython.core.display.HTML object>"
      ]
     },
     "metadata": {},
     "output_type": "display_data"
    },
    {
     "data": {
      "text/html": [
       "Syncing run <strong><a href=\"https://wandb.ai/havent_invented/Whitebox_strong_metrics_attacks/runs/aoj37kv2\" target=\"_blank\">RD_curves_all_met_18_03Without Preprocessing</a></strong> to <a href=\"https://wandb.ai/havent_invented/Whitebox_strong_metrics_attacks\" target=\"_blank\">Weights & Biases</a> (<a href=\"https://wandb.me/run\" target=\"_blank\">docs</a>)<br/>"
      ],
      "text/plain": [
       "<IPython.core.display.HTML object>"
      ]
     },
     "metadata": {},
     "output_type": "display_data"
    },
    {
     "data": {
      "application/vnd.jupyter.widget-view+json": {
       "model_id": "777ce4cd34994fff94a9c8f52c76ad76",
       "version_major": 2,
       "version_minor": 0
      },
      "text/plain": [
       "0it [00:00, ?it/s]"
      ]
     },
     "metadata": {},
     "output_type": "display_data"
    },
    {
     "data": {
      "application/vnd.jupyter.widget-view+json": {
       "model_id": "81ac6d3b42864df28fc7ed718aaec645",
       "version_major": 2,
       "version_minor": 0
      },
      "text/plain": [
       "0it [00:00, ?it/s]"
      ]
     },
     "metadata": {},
     "output_type": "display_data"
    },
    {
     "name": "stdout",
     "output_type": "stream",
     "text": [
      "DISTS ./models_enhancement_FR/model_vimeo11k_DISTS_cheng2020_attn_quality2_FRtuning.ckpt\n"
     ]
    },
    {
     "data": {
      "application/vnd.jupyter.widget-view+json": {
       "model_id": "4d62cad5d5a8488ca0993108c4b07456",
       "version_major": 2,
       "version_minor": 0
      },
      "text/plain": [
       "0it [00:00, ?it/s]"
      ]
     },
     "metadata": {},
     "output_type": "display_data"
    },
    {
     "data": {
      "application/vnd.jupyter.widget-view+json": {
       "model_id": "6964392c9aab4c5091d96e10ceff1b0b",
       "version_major": 2,
       "version_minor": 0
      },
      "text/plain": [
       "0it [00:00, ?it/s]"
      ]
     },
     "metadata": {},
     "output_type": "display_data"
    },
    {
     "name": "stdout",
     "output_type": "stream",
     "text": [
      "[{'mse': [0.00030066038, 0.000109746135], 'bpp_loss': [0.19182193, 0.4620599], 'loss_classic': [0.38732636, 0.5334223], 'PSNR': [35.333035, 39.626446], 'loss': [0.00030066038, 0.000109746135]}]\n",
      "LPIPS ./models_enhancement_FR/model_vimeo11k_LPIPS_cheng2020_attn_quality2_FRtuning.ckpt\n"
     ]
    },
    {
     "data": {
      "application/vnd.jupyter.widget-view+json": {
       "model_id": "e427bc2de5a24e1eac981c2a2e6b2591",
       "version_major": 2,
       "version_minor": 0
      },
      "text/plain": [
       "0it [00:00, ?it/s]"
      ]
     },
     "metadata": {},
     "output_type": "display_data"
    },
    {
     "data": {
      "application/vnd.jupyter.widget-view+json": {
       "model_id": "2184771808fc47ef9cda8622f180f7b0",
       "version_major": 2,
       "version_minor": 0
      },
      "text/plain": [
       "0it [00:00, ?it/s]"
      ]
     },
     "metadata": {},
     "output_type": "display_data"
    },
    {
     "name": "stdout",
     "output_type": "stream",
     "text": [
      "[{'mse': [0.0003002166, 0.0001098657], 'bpp_loss': [0.19189435, 0.46227142], 'loss_classic': [0.38711023, 0.5337117], 'PSNR': [35.338047, 39.62104], 'loss': [0.0003002166, 0.0001098657]}]\n",
      "LPIPS1 ./models_enhancement_FR/model_vimeo11k_LPIPS1_no_codec_FRtuning.ckpt\n"
     ]
    },
    {
     "data": {
      "application/vnd.jupyter.widget-view+json": {
       "model_id": "7f35e4c16d71411dacbbd80b8ae4f8d9",
       "version_major": 2,
       "version_minor": 0
      },
      "text/plain": [
       "0it [00:00, ?it/s]"
      ]
     },
     "metadata": {},
     "output_type": "display_data"
    },
    {
     "data": {
      "application/vnd.jupyter.widget-view+json": {
       "model_id": "9086430d86364228b4de0864e54ea05b",
       "version_major": 2,
       "version_minor": 0
      },
      "text/plain": [
       "0it [00:00, ?it/s]"
      ]
     },
     "metadata": {},
     "output_type": "display_data"
    },
    {
     "name": "stdout",
     "output_type": "stream",
     "text": [
      "[{'mse': [0.00030067208, 0.000109954766], 'bpp_loss': [0.1916418, 0.46201006], 'loss_classic': [0.3871538, 0.5335081], 'PSNR': [35.33276, 39.616783], 'loss': [0.00030067208, 0.000109954766]}]\n"
     ]
    },
    {
     "data": {
      "application/vnd.jupyter.widget-view+json": {
       "model_id": "6fe7cb670cc94474aeeff64e3e3b609f",
       "version_major": 2,
       "version_minor": 0
      },
      "text/plain": [
       "0it [00:00, ?it/s]"
      ]
     },
     "metadata": {},
     "output_type": "display_data"
    },
    {
     "name": "stdout",
     "output_type": "stream",
     "text": [
      "DISTS ./models_enhancement_FR/model_vimeo11k_DISTS_cheng2020_attn_quality2_FRtuning.ckpt\n"
     ]
    },
    {
     "data": {
      "application/vnd.jupyter.widget-view+json": {
       "model_id": "6f004c75d73b4921960b9c068355de9a",
       "version_major": 2,
       "version_minor": 0
      },
      "text/plain": [
       "0it [00:00, ?it/s]"
      ]
     },
     "metadata": {},
     "output_type": "display_data"
    },
    {
     "data": {
      "application/vnd.jupyter.widget-view+json": {
       "model_id": "3ca9778f2c424d888c40298eb2c289e2",
       "version_major": 2,
       "version_minor": 0
      },
      "text/plain": [
       "0it [00:00, ?it/s]"
      ]
     },
     "metadata": {},
     "output_type": "display_data"
    },
    {
     "name": "stdout",
     "output_type": "stream",
     "text": [
      "[{'mse': [0.00024020296, 0.00010029506], 'bpp_loss': [0.14674425, 0.34988952], 'loss_classic': [0.30293623, 0.41510636], 'PSNR': [36.509743, 40.244595], 'loss': [0.00024020296, 0.00010029506]}]\n",
      "LPIPS ./models_enhancement_FR/model_vimeo11k_LPIPS_cheng2020_attn_quality2_FRtuning.ckpt\n"
     ]
    },
    {
     "data": {
      "application/vnd.jupyter.widget-view+json": {
       "model_id": "c7f26c66cd1f46988c5d2f6475f50b70",
       "version_major": 2,
       "version_minor": 0
      },
      "text/plain": [
       "0it [00:00, ?it/s]"
      ]
     },
     "metadata": {},
     "output_type": "display_data"
    },
    {
     "data": {
      "application/vnd.jupyter.widget-view+json": {
       "model_id": "3420edc6cf1a4937b97ae170c04cfdc7",
       "version_major": 2,
       "version_minor": 0
      },
      "text/plain": [
       "0it [00:00, ?it/s]"
      ]
     },
     "metadata": {},
     "output_type": "display_data"
    },
    {
     "name": "stdout",
     "output_type": "stream",
     "text": [
      "[{'mse': [0.00023981975, 0.00010035472], 'bpp_loss': [0.14694123, 0.35018918], 'loss_classic': [0.302884, 0.41544485], 'PSNR': [36.510956, 40.24351], 'loss': [0.00023981975, 0.00010035472]}]\n",
      "LPIPS1 ./models_enhancement_FR/model_vimeo11k_LPIPS1_no_codec_FRtuning.ckpt\n"
     ]
    },
    {
     "data": {
      "application/vnd.jupyter.widget-view+json": {
       "model_id": "fc7dcce09eb64e14b45c1a7e60d946e2",
       "version_major": 2,
       "version_minor": 0
      },
      "text/plain": [
       "0it [00:00, ?it/s]"
      ]
     },
     "metadata": {},
     "output_type": "display_data"
    },
    {
     "data": {
      "application/vnd.jupyter.widget-view+json": {
       "model_id": "10d9faeecadb4445aa6aadfaa9bd156c",
       "version_major": 2,
       "version_minor": 0
      },
      "text/plain": [
       "0it [00:00, ?it/s]"
      ]
     },
     "metadata": {},
     "output_type": "display_data"
    },
    {
     "name": "stdout",
     "output_type": "stream",
     "text": [
      "[{'mse': [0.00024027519, 0.00010027619], 'bpp_loss': [0.14663605, 0.34974045], 'loss_classic': [0.30287498, 0.414945], 'PSNR': [36.50564, 40.24592], 'loss': [0.00024027519, 0.00010027619]}]\n"
     ]
    },
    {
     "data": {
      "application/vnd.jupyter.widget-view+json": {
       "model_id": "feb17fce43ca42bab9fa4a0188fff3f7",
       "version_major": 2,
       "version_minor": 0
      },
      "text/plain": [
       "0it [00:00, ?it/s]"
      ]
     },
     "metadata": {},
     "output_type": "display_data"
    },
    {
     "name": "stdout",
     "output_type": "stream",
     "text": [
      "DISTS ./models_enhancement_FR/model_vimeo11k_DISTS_cheng2020_attn_quality2_FRtuning.ckpt\n"
     ]
    },
    {
     "data": {
      "application/vnd.jupyter.widget-view+json": {
       "model_id": "85a7a3a0959144c6932705c63f294e28",
       "version_major": 2,
       "version_minor": 0
      },
      "text/plain": [
       "0it [00:00, ?it/s]"
      ]
     },
     "metadata": {},
     "output_type": "display_data"
    },
    {
     "data": {
      "application/vnd.jupyter.widget-view+json": {
       "model_id": "b7c0089dde8a4f31966ae48fee6874cf",
       "version_major": 2,
       "version_minor": 0
      },
      "text/plain": [
       "0it [00:00, ?it/s]"
      ]
     },
     "metadata": {},
     "output_type": "display_data"
    },
    {
     "name": "stdout",
     "output_type": "stream",
     "text": [
      "[{'mse': [3.0042356e-05, 1.4153772e-05], 'bpp_loss': [0.1026836, 0.1673828], 'loss_classic': [0.12221864, 0.1765863], 'PSNR': [45.248722, 48.509308], 'loss': [3.0042356e-05, 1.4153772e-05]}]\n",
      "LPIPS ./models_enhancement_FR/model_vimeo11k_LPIPS_cheng2020_attn_quality2_FRtuning.ckpt\n"
     ]
    },
    {
     "data": {
      "application/vnd.jupyter.widget-view+json": {
       "model_id": "04f0b3cabb334952a591dec9efb4ba2a",
       "version_major": 2,
       "version_minor": 0
      },
      "text/plain": [
       "0it [00:00, ?it/s]"
      ]
     },
     "metadata": {},
     "output_type": "display_data"
    },
    {
     "data": {
      "application/vnd.jupyter.widget-view+json": {
       "model_id": "b7a820d4442646acabc51d0dd5fffa3d",
       "version_major": 2,
       "version_minor": 0
      },
      "text/plain": [
       "0it [00:00, ?it/s]"
      ]
     },
     "metadata": {},
     "output_type": "display_data"
    },
    {
     "name": "stdout",
     "output_type": "stream",
     "text": [
      "[{'mse': [3.0181025e-05, 1.41306555e-05], 'bpp_loss': [0.1024045, 0.16733854], 'loss_classic': [0.12202971, 0.176527], 'PSNR': [45.227707, 48.5178], 'loss': [3.0181025e-05, 1.41306555e-05]}]\n",
      "LPIPS1 ./models_enhancement_FR/model_vimeo11k_LPIPS1_no_codec_FRtuning.ckpt\n"
     ]
    },
    {
     "data": {
      "application/vnd.jupyter.widget-view+json": {
       "model_id": "2cc47e015e434bd9bccae5f00d19eafa",
       "version_major": 2,
       "version_minor": 0
      },
      "text/plain": [
       "0it [00:00, ?it/s]"
      ]
     },
     "metadata": {},
     "output_type": "display_data"
    },
    {
     "data": {
      "application/vnd.jupyter.widget-view+json": {
       "model_id": "309182a761b14297950fbffda7f1423f",
       "version_major": 2,
       "version_minor": 0
      },
      "text/plain": [
       "0it [00:00, ?it/s]"
      ]
     },
     "metadata": {},
     "output_type": "display_data"
    },
    {
     "name": "stdout",
     "output_type": "stream",
     "text": [
      "[{'mse': [3.0168972e-05, 1.4141118e-05], 'bpp_loss': [0.102531284, 0.16733384], 'loss_classic': [0.122148655, 0.17652911], 'PSNR': [45.23075, 48.513653], 'loss': [3.0168972e-05, 1.4141118e-05]}]\n"
     ]
    },
    {
     "data": {
      "application/vnd.jupyter.widget-view+json": {
       "model_id": "b14a81fdd0bd40c29c2fa53f17f4d75c",
       "version_major": 2,
       "version_minor": 0
      },
      "text/plain": [
       "0it [00:00, ?it/s]"
      ]
     },
     "metadata": {},
     "output_type": "display_data"
    },
    {
     "name": "stdout",
     "output_type": "stream",
     "text": [
      "DISTS ./models_enhancement_FR/model_vimeo11k_DISTS_cheng2020_attn_quality2_FRtuning.ckpt\n"
     ]
    },
    {
     "data": {
      "application/vnd.jupyter.widget-view+json": {
       "model_id": "1007472b007541ea8f1264e301d8342d",
       "version_major": 2,
       "version_minor": 0
      },
      "text/plain": [
       "0it [00:00, ?it/s]"
      ]
     },
     "metadata": {},
     "output_type": "display_data"
    },
    {
     "data": {
      "application/vnd.jupyter.widget-view+json": {
       "model_id": "b7611c5b07cc47219a2a6d7135356fdc",
       "version_major": 2,
       "version_minor": 0
      },
      "text/plain": [
       "0it [00:00, ?it/s]"
      ]
     },
     "metadata": {},
     "output_type": "display_data"
    },
    {
     "name": "stdout",
     "output_type": "stream",
     "text": [
      "[{'mse': [0.0011651057, 0.000477782], 'bpp_loss': [0.4786709, 1.3416393], 'loss_classic': [1.2362809, 1.652317], 'PSNR': [29.3373, 33.20826], 'loss': [0.0011651057, 0.000477782]}]\n",
      "LPIPS ./models_enhancement_FR/model_vimeo11k_LPIPS_cheng2020_attn_quality2_FRtuning.ckpt\n"
     ]
    },
    {
     "data": {
      "application/vnd.jupyter.widget-view+json": {
       "model_id": "6955a33d47a14ffbacb8f39427a66c1f",
       "version_major": 2,
       "version_minor": 0
      },
      "text/plain": [
       "0it [00:00, ?it/s]"
      ]
     },
     "metadata": {},
     "output_type": "display_data"
    },
    {
     "data": {
      "application/vnd.jupyter.widget-view+json": {
       "model_id": "205feea7a6234e4188afb6dcf5544c0c",
       "version_major": 2,
       "version_minor": 0
      },
      "text/plain": [
       "0it [00:00, ?it/s]"
      ]
     },
     "metadata": {},
     "output_type": "display_data"
    },
    {
     "name": "stdout",
     "output_type": "stream",
     "text": [
      "[{'mse': [0.0011649935, 0.00047779368], 'bpp_loss': [0.47898498, 1.3412104], 'loss_classic': [1.236522, 1.6518956], 'PSNR': [29.337795, 33.208076], 'loss': [0.0011649935, 0.00047779368]}]\n",
      "LPIPS1 ./models_enhancement_FR/model_vimeo11k_LPIPS1_no_codec_FRtuning.ckpt\n"
     ]
    },
    {
     "data": {
      "application/vnd.jupyter.widget-view+json": {
       "model_id": "b34ccda430fd48cd80965bd68ebb7bd8",
       "version_major": 2,
       "version_minor": 0
      },
      "text/plain": [
       "0it [00:00, ?it/s]"
      ]
     },
     "metadata": {},
     "output_type": "display_data"
    },
    {
     "data": {
      "application/vnd.jupyter.widget-view+json": {
       "model_id": "cbca411c87ea40ff9148d4bb2d35e74b",
       "version_major": 2,
       "version_minor": 0
      },
      "text/plain": [
       "0it [00:00, ?it/s]"
      ]
     },
     "metadata": {},
     "output_type": "display_data"
    },
    {
     "name": "stdout",
     "output_type": "stream",
     "text": [
      "[{'mse': [0.0011634195, 0.00047792614], 'bpp_loss': [0.47861123, 1.3415494], 'loss_classic': [1.2351248, 1.6523209], 'PSNR': [29.343601, 33.2069], 'loss': [0.0011634195, 0.00047792614]}]\n"
     ]
    },
    {
     "data": {
      "application/vnd.jupyter.widget-view+json": {
       "model_id": "fa935097b2404be980de4354bc959a50",
       "version_major": 2,
       "version_minor": 0
      },
      "text/plain": [
       "0it [00:00, ?it/s]"
      ]
     },
     "metadata": {},
     "output_type": "display_data"
    },
    {
     "name": "stdout",
     "output_type": "stream",
     "text": [
      "DISTS ./models_enhancement_FR/model_vimeo11k_DISTS_cheng2020_attn_quality2_FRtuning.ckpt\n"
     ]
    },
    {
     "data": {
      "application/vnd.jupyter.widget-view+json": {
       "model_id": "ad58f3e6894c4751a98b5d24db8cfd76",
       "version_major": 2,
       "version_minor": 0
      },
      "text/plain": [
       "0it [00:00, ?it/s]"
      ]
     },
     "metadata": {},
     "output_type": "display_data"
    },
    {
     "data": {
      "application/vnd.jupyter.widget-view+json": {
       "model_id": "172310a208d14a289d444d4ca28391ca",
       "version_major": 2,
       "version_minor": 0
      },
      "text/plain": [
       "0it [00:00, ?it/s]"
      ]
     },
     "metadata": {},
     "output_type": "display_data"
    },
    {
     "name": "stdout",
     "output_type": "stream",
     "text": [
      "[{'mse': [0.0017717285, 0.000686654], 'bpp_loss': [0.6148352, 1.487941], 'loss_classic': [1.7669017, 1.9344379], 'PSNR': [28.09737, 31.996346], 'loss': [0.0017717285, 0.000686654]}]\n",
      "LPIPS ./models_enhancement_FR/model_vimeo11k_LPIPS_cheng2020_attn_quality2_FRtuning.ckpt\n"
     ]
    },
    {
     "data": {
      "application/vnd.jupyter.widget-view+json": {
       "model_id": "6c9df9cf51b74d419185daf14a2f7ba5",
       "version_major": 2,
       "version_minor": 0
      },
      "text/plain": [
       "0it [00:00, ?it/s]"
      ]
     },
     "metadata": {},
     "output_type": "display_data"
    },
    {
     "data": {
      "application/vnd.jupyter.widget-view+json": {
       "model_id": "75c690fcb14c4e77aacdff91ea6e670c",
       "version_major": 2,
       "version_minor": 0
      },
      "text/plain": [
       "0it [00:00, ?it/s]"
      ]
     },
     "metadata": {},
     "output_type": "display_data"
    },
    {
     "name": "stdout",
     "output_type": "stream",
     "text": [
      "[{'mse': [0.0017730097, 0.00068608084], 'bpp_loss': [0.6148766, 1.4879119], 'loss_classic': [1.767776, 1.934036], 'PSNR': [28.09317, 32.000595], 'loss': [0.0017730097, 0.00068608084]}]\n",
      "LPIPS1 ./models_enhancement_FR/model_vimeo11k_LPIPS1_no_codec_FRtuning.ckpt\n"
     ]
    },
    {
     "data": {
      "application/vnd.jupyter.widget-view+json": {
       "model_id": "2e3fa620b2c74a3696834c917b41247a",
       "version_major": 2,
       "version_minor": 0
      },
      "text/plain": [
       "0it [00:00, ?it/s]"
      ]
     },
     "metadata": {},
     "output_type": "display_data"
    },
    {
     "data": {
      "application/vnd.jupyter.widget-view+json": {
       "model_id": "5d15a222e41d479681b13fb700971d8f",
       "version_major": 2,
       "version_minor": 0
      },
      "text/plain": [
       "0it [00:00, ?it/s]"
      ]
     },
     "metadata": {},
     "output_type": "display_data"
    },
    {
     "name": "stdout",
     "output_type": "stream",
     "text": [
      "[{'mse': [0.0017722442, 0.0006865765], 'bpp_loss': [0.61465275, 1.4876783], 'loss_classic': [1.7670544, 1.9341247], 'PSNR': [28.096012, 31.99716], 'loss': [0.0017722442, 0.0006865765]}]\n"
     ]
    },
    {
     "data": {
      "application/vnd.jupyter.widget-view+json": {
       "model_id": "7d6d7c27cb4440ed97432955e9d9a6e9",
       "version_major": 2,
       "version_minor": 0
      },
      "text/plain": [
       "0it [00:00, ?it/s]"
      ]
     },
     "metadata": {},
     "output_type": "display_data"
    },
    {
     "name": "stdout",
     "output_type": "stream",
     "text": [
      "DISTS ./models_enhancement_FR/model_vimeo11k_DISTS_cheng2020_attn_quality2_FRtuning.ckpt\n"
     ]
    },
    {
     "data": {
      "application/vnd.jupyter.widget-view+json": {
       "model_id": "fa184392c6a943b2a03818dc1de3af24",
       "version_major": 2,
       "version_minor": 0
      },
      "text/plain": [
       "0it [00:00, ?it/s]"
      ]
     },
     "metadata": {},
     "output_type": "display_data"
    },
    {
     "data": {
      "application/vnd.jupyter.widget-view+json": {
       "model_id": "17a52155587949068dbcd689698225a8",
       "version_major": 2,
       "version_minor": 0
      },
      "text/plain": [
       "0it [00:00, ?it/s]"
      ]
     },
     "metadata": {},
     "output_type": "display_data"
    },
    {
     "name": "stdout",
     "output_type": "stream",
     "text": [
      "[{'mse': [0.00019047782, 0.00011735363], 'bpp_loss': [0.13427508, 0.27251056], 'loss_classic': [0.2581333, 0.34881976], 'PSNR': [37.545612, 39.42679], 'loss': [0.00019047782, 0.00011735363]}]\n",
      "LPIPS ./models_enhancement_FR/model_vimeo11k_LPIPS_cheng2020_attn_quality2_FRtuning.ckpt\n"
     ]
    },
    {
     "data": {
      "application/vnd.jupyter.widget-view+json": {
       "model_id": "0145a138b6744c34b3ba64965dd34d0c",
       "version_major": 2,
       "version_minor": 0
      },
      "text/plain": [
       "0it [00:00, ?it/s]"
      ]
     },
     "metadata": {},
     "output_type": "display_data"
    },
    {
     "data": {
      "application/vnd.jupyter.widget-view+json": {
       "model_id": "5202255e83b944f8b62a026bd78ac2ee",
       "version_major": 2,
       "version_minor": 0
      },
      "text/plain": [
       "0it [00:00, ?it/s]"
      ]
     },
     "metadata": {},
     "output_type": "display_data"
    },
    {
     "name": "stdout",
     "output_type": "stream",
     "text": [
      "[{'mse': [0.00019022104, 0.000117368734], 'bpp_loss': [0.13418122, 0.27249408], 'loss_classic': [0.25787246, 0.3488131], 'PSNR': [37.55288, 39.42568], 'loss': [0.00019022104, 0.000117368734]}]\n",
      "LPIPS1 ./models_enhancement_FR/model_vimeo11k_LPIPS1_no_codec_FRtuning.ckpt\n"
     ]
    },
    {
     "data": {
      "application/vnd.jupyter.widget-view+json": {
       "model_id": "5b2e6a5110f5410d8e7d90e03d7e2c15",
       "version_major": 2,
       "version_minor": 0
      },
      "text/plain": [
       "0it [00:00, ?it/s]"
      ]
     },
     "metadata": {},
     "output_type": "display_data"
    },
    {
     "data": {
      "application/vnd.jupyter.widget-view+json": {
       "model_id": "a589bdf465f74cd3aac1e0a4d5d92b31",
       "version_major": 2,
       "version_minor": 0
      },
      "text/plain": [
       "0it [00:00, ?it/s]"
      ]
     },
     "metadata": {},
     "output_type": "display_data"
    },
    {
     "name": "stdout",
     "output_type": "stream",
     "text": [
      "[{'mse': [0.00019024962, 0.00011731776], 'bpp_loss': [0.13434215, 0.27266085], 'loss_classic': [0.25805196, 0.34894675], 'PSNR': [37.55137, 39.427376], 'loss': [0.00019024962, 0.00011731776]}]\n"
     ]
    },
    {
     "data": {
      "application/vnd.jupyter.widget-view+json": {
       "model_id": "6a59c40c0eae4445ac2f3c3f3b147167",
       "version_major": 2,
       "version_minor": 0
      },
      "text/plain": [
       "0it [00:00, ?it/s]"
      ]
     },
     "metadata": {},
     "output_type": "display_data"
    },
    {
     "name": "stdout",
     "output_type": "stream",
     "text": [
      "DISTS ./models_enhancement_FR/model_vimeo11k_DISTS_cheng2020_attn_quality2_FRtuning.ckpt\n"
     ]
    },
    {
     "data": {
      "application/vnd.jupyter.widget-view+json": {
       "model_id": "16c82b7a178c49919052eb7cd33208c1",
       "version_major": 2,
       "version_minor": 0
      },
      "text/plain": [
       "0it [00:00, ?it/s]"
      ]
     },
     "metadata": {},
     "output_type": "display_data"
    },
    {
     "data": {
      "application/vnd.jupyter.widget-view+json": {
       "model_id": "64b40770948145e5b3eb52377ea42be2",
       "version_major": 2,
       "version_minor": 0
      },
      "text/plain": [
       "0it [00:00, ?it/s]"
      ]
     },
     "metadata": {},
     "output_type": "display_data"
    },
    {
     "name": "stdout",
     "output_type": "stream",
     "text": [
      "[{'mse': [0.00038513634, 0.00015834853], 'bpp_loss': [0.19664437, 0.52155733], 'loss_classic': [0.4470793, 0.6245234], 'PSNR': [34.14714, 38.006676], 'loss': [0.00038513634, 0.00015834853]}]\n",
      "LPIPS ./models_enhancement_FR/model_vimeo11k_LPIPS_cheng2020_attn_quality2_FRtuning.ckpt\n"
     ]
    },
    {
     "data": {
      "application/vnd.jupyter.widget-view+json": {
       "model_id": "3b762a917f3948cb913774473903420f",
       "version_major": 2,
       "version_minor": 0
      },
      "text/plain": [
       "0it [00:00, ?it/s]"
      ]
     },
     "metadata": {},
     "output_type": "display_data"
    },
    {
     "data": {
      "application/vnd.jupyter.widget-view+json": {
       "model_id": "26ce3495a686470982d48d26f0cf1d6b",
       "version_major": 2,
       "version_minor": 0
      },
      "text/plain": [
       "0it [00:00, ?it/s]"
      ]
     },
     "metadata": {},
     "output_type": "display_data"
    },
    {
     "name": "stdout",
     "output_type": "stream",
     "text": [
      "[{'mse': [0.0003855658, 0.00015833389], 'bpp_loss': [0.19661608, 0.5215497], 'loss_classic': [0.44733024, 0.62450624], 'PSNR': [34.142487, 38.007187], 'loss': [0.0003855658, 0.00015833389]}]\n",
      "LPIPS1 ./models_enhancement_FR/model_vimeo11k_LPIPS1_no_codec_FRtuning.ckpt\n"
     ]
    },
    {
     "data": {
      "application/vnd.jupyter.widget-view+json": {
       "model_id": "9c798e55126643138625c1b07e8e6c7c",
       "version_major": 2,
       "version_minor": 0
      },
      "text/plain": [
       "0it [00:00, ?it/s]"
      ]
     },
     "metadata": {},
     "output_type": "display_data"
    },
    {
     "data": {
      "application/vnd.jupyter.widget-view+json": {
       "model_id": "e9ef66d53f2c4827b9ece55fc2bd21e5",
       "version_major": 2,
       "version_minor": 0
      },
      "text/plain": [
       "0it [00:00, ?it/s]"
      ]
     },
     "metadata": {},
     "output_type": "display_data"
    },
    {
     "name": "stdout",
     "output_type": "stream",
     "text": [
      "[{'mse': [0.0003858511, 0.00015837797], 'bpp_loss': [0.19630507, 0.52109814], 'loss_classic': [0.44720477, 0.6240834], 'PSNR': [34.13945, 38.005867], 'loss': [0.0003858511, 0.00015837797]}]\n",
      "\n"
     ]
    },
    {
     "data": {
      "text/html": [
       "Waiting for W&B process to finish... <strong style=\"color:green\">(success).</strong>"
      ],
      "text/plain": [
       "<IPython.core.display.HTML object>"
      ]
     },
     "metadata": {},
     "output_type": "display_data"
    },
    {
     "data": {
      "application/vnd.jupyter.widget-view+json": {
       "model_id": "",
       "version_major": 2,
       "version_minor": 0
      },
      "text/plain": [
       "VBox(children=(Label(value='28.480 MB of 28.480 MB uploaded (0.000 MB deduped)\\r'), FloatProgress(value=1.0, m…"
      ]
     },
     "metadata": {},
     "output_type": "display_data"
    },
    {
     "data": {
      "text/html": [
       "Synced <strong style=\"color:#cdcd00\">RD_curves_all_met_18_03Without Preprocessing</strong>: <a href=\"https://wandb.ai/havent_invented/Whitebox_strong_metrics_attacks/runs/aoj37kv2\" target=\"_blank\">https://wandb.ai/havent_invented/Whitebox_strong_metrics_attacks/runs/aoj37kv2</a><br/>Synced 7 W&B file(s), 21 media file(s), 21 artifact file(s) and 2 other file(s)"
      ],
      "text/plain": [
       "<IPython.core.display.HTML object>"
      ]
     },
     "metadata": {},
     "output_type": "display_data"
    },
    {
     "data": {
      "text/html": [
       "Find logs at: <code>.\\wandb\\run-20220404_090131-aoj37kv2\\logs</code>"
      ],
      "text/plain": [
       "<IPython.core.display.HTML object>"
      ]
     },
     "metadata": {},
     "output_type": "display_data"
    },
    {
     "name": "stdout",
     "output_type": "stream",
     "text": [
      "[[[{'mse': [0.00030066038, 0.000109746135], 'bpp_loss': [0.19182193, 0.4620599], 'loss_classic': [0.38732636, 0.5334223], 'PSNR': [35.333035, 39.626446], 'loss': [0.00030066038, 0.000109746135]}], [{'mse': [0.0003002166, 0.0001098657], 'bpp_loss': [0.19189435, 0.46227142], 'loss_classic': [0.38711023, 0.5337117], 'PSNR': [35.338047, 39.62104], 'loss': [0.0003002166, 0.0001098657]}], [{'mse': [0.00030067208, 0.000109954766], 'bpp_loss': [0.1916418, 0.46201006], 'loss_classic': [0.3871538, 0.5335081], 'PSNR': [35.33276, 39.616783], 'loss': [0.00030067208, 0.000109954766]}]], [[{'mse': [0.00024020296, 0.00010029506], 'bpp_loss': [0.14674425, 0.34988952], 'loss_classic': [0.30293623, 0.41510636], 'PSNR': [36.509743, 40.244595], 'loss': [0.00024020296, 0.00010029506]}], [{'mse': [0.00023981975, 0.00010035472], 'bpp_loss': [0.14694123, 0.35018918], 'loss_classic': [0.302884, 0.41544485], 'PSNR': [36.510956, 40.24351], 'loss': [0.00023981975, 0.00010035472]}], [{'mse': [0.00024027519, 0.00010027619], 'bpp_loss': [0.14663605, 0.34974045], 'loss_classic': [0.30287498, 0.414945], 'PSNR': [36.50564, 40.24592], 'loss': [0.00024027519, 0.00010027619]}]], [[{'mse': [3.0042356e-05, 1.4153772e-05], 'bpp_loss': [0.1026836, 0.1673828], 'loss_classic': [0.12221864, 0.1765863], 'PSNR': [45.248722, 48.509308], 'loss': [3.0042356e-05, 1.4153772e-05]}], [{'mse': [3.0181025e-05, 1.41306555e-05], 'bpp_loss': [0.1024045, 0.16733854], 'loss_classic': [0.12202971, 0.176527], 'PSNR': [45.227707, 48.5178], 'loss': [3.0181025e-05, 1.41306555e-05]}], [{'mse': [3.0168972e-05, 1.4141118e-05], 'bpp_loss': [0.102531284, 0.16733384], 'loss_classic': [0.122148655, 0.17652911], 'PSNR': [45.23075, 48.513653], 'loss': [3.0168972e-05, 1.4141118e-05]}]], [[{'mse': [0.0011651057, 0.000477782], 'bpp_loss': [0.4786709, 1.3416393], 'loss_classic': [1.2362809, 1.652317], 'PSNR': [29.3373, 33.20826], 'loss': [0.0011651057, 0.000477782]}], [{'mse': [0.0011649935, 0.00047779368], 'bpp_loss': [0.47898498, 1.3412104], 'loss_classic': [1.236522, 1.6518956], 'PSNR': [29.337795, 33.208076], 'loss': [0.0011649935, 0.00047779368]}], [{'mse': [0.0011634195, 0.00047792614], 'bpp_loss': [0.47861123, 1.3415494], 'loss_classic': [1.2351248, 1.6523209], 'PSNR': [29.343601, 33.2069], 'loss': [0.0011634195, 0.00047792614]}]], [[{'mse': [0.0017717285, 0.000686654], 'bpp_loss': [0.6148352, 1.487941], 'loss_classic': [1.7669017, 1.9344379], 'PSNR': [28.09737, 31.996346], 'loss': [0.0017717285, 0.000686654]}], [{'mse': [0.0017730097, 0.00068608084], 'bpp_loss': [0.6148766, 1.4879119], 'loss_classic': [1.767776, 1.934036], 'PSNR': [28.09317, 32.000595], 'loss': [0.0017730097, 0.00068608084]}], [{'mse': [0.0017722442, 0.0006865765], 'bpp_loss': [0.61465275, 1.4876783], 'loss_classic': [1.7670544, 1.9341247], 'PSNR': [28.096012, 31.99716], 'loss': [0.0017722442, 0.0006865765]}]], [[{'mse': [0.00019047782, 0.00011735363], 'bpp_loss': [0.13427508, 0.27251056], 'loss_classic': [0.2581333, 0.34881976], 'PSNR': [37.545612, 39.42679], 'loss': [0.00019047782, 0.00011735363]}], [{'mse': [0.00019022104, 0.000117368734], 'bpp_loss': [0.13418122, 0.27249408], 'loss_classic': [0.25787246, 0.3488131], 'PSNR': [37.55288, 39.42568], 'loss': [0.00019022104, 0.000117368734]}], [{'mse': [0.00019024962, 0.00011731776], 'bpp_loss': [0.13434215, 0.27266085], 'loss_classic': [0.25805196, 0.34894675], 'PSNR': [37.55137, 39.427376], 'loss': [0.00019024962, 0.00011731776]}]], [[{'mse': [0.00038513634, 0.00015834853], 'bpp_loss': [0.19664437, 0.52155733], 'loss_classic': [0.4470793, 0.6245234], 'PSNR': [34.14714, 38.006676], 'loss': [0.00038513634, 0.00015834853]}], [{'mse': [0.0003855658, 0.00015833389], 'bpp_loss': [0.19661608, 0.5215497], 'loss_classic': [0.44733024, 0.62450624], 'PSNR': [34.142487, 38.007187], 'loss': [0.0003855658, 0.00015833389]}], [{'mse': [0.0003858511, 0.00015837797], 'bpp_loss': [0.19630507, 0.52109814], 'loss_classic': [0.44720477, 0.6240834], 'PSNR': [34.13945, 38.005867], 'loss': [0.0003858511, 0.00015837797]}]]]\n"
     ]
    },
    {
     "data": {
      "text/html": [
       "Tracking run with wandb version 0.12.11"
      ],
      "text/plain": [
       "<IPython.core.display.HTML object>"
      ]
     },
     "metadata": {},
     "output_type": "display_data"
    },
    {
     "data": {
      "text/html": [
       "Run data is saved locally in <code>E:\\VMAF_METRIX\\NeuralNetworkCompression\\wandb\\run-20220404_091635-349tvmqh</code>"
      ],
      "text/plain": [
       "<IPython.core.display.HTML object>"
      ]
     },
     "metadata": {},
     "output_type": "display_data"
    },
    {
     "data": {
      "text/html": [
       "Syncing run <strong><a href=\"https://wandb.ai/havent_invented/Whitebox_strong_metrics_attacks/runs/349tvmqh\" target=\"_blank\">RD_curves_all_met_18_03With Preprocessing</a></strong> to <a href=\"https://wandb.ai/havent_invented/Whitebox_strong_metrics_attacks\" target=\"_blank\">Weights & Biases</a> (<a href=\"https://wandb.me/run\" target=\"_blank\">docs</a>)<br/>"
      ],
      "text/plain": [
       "<IPython.core.display.HTML object>"
      ]
     },
     "metadata": {},
     "output_type": "display_data"
    },
    {
     "data": {
      "application/vnd.jupyter.widget-view+json": {
       "model_id": "4ffb2a103c244cf0a5403ea0b9268751",
       "version_major": 2,
       "version_minor": 0
      },
      "text/plain": [
       "0it [00:00, ?it/s]"
      ]
     },
     "metadata": {},
     "output_type": "display_data"
    },
    {
     "data": {
      "application/vnd.jupyter.widget-view+json": {
       "model_id": "877e8f014f294d10a6e1ce17236ce1fd",
       "version_major": 2,
       "version_minor": 0
      },
      "text/plain": [
       "0it [00:00, ?it/s]"
      ]
     },
     "metadata": {},
     "output_type": "display_data"
    },
    {
     "name": "stdout",
     "output_type": "stream",
     "text": [
      "DISTS ./models_enhancement_FR/model_vimeo11k_DISTS_cheng2020_attn_quality2_FRtuning.ckpt\n"
     ]
    },
    {
     "data": {
      "application/vnd.jupyter.widget-view+json": {
       "model_id": "47dfd352dec841eab3abb215dc3fe57a",
       "version_major": 2,
       "version_minor": 0
      },
      "text/plain": [
       "0it [00:00, ?it/s]"
      ]
     },
     "metadata": {},
     "output_type": "display_data"
    },
    {
     "data": {
      "application/vnd.jupyter.widget-view+json": {
       "model_id": "f00e108774634229bd166bfe1a11ee13",
       "version_major": 2,
       "version_minor": 0
      },
      "text/plain": [
       "0it [00:00, ?it/s]"
      ]
     },
     "metadata": {},
     "output_type": "display_data"
    },
    {
     "name": "stdout",
     "output_type": "stream",
     "text": [
      "[{'mse': [0.015233684], 'bpp_loss': [0.021601094], 'loss_classic': [9.927303], 'PSNR': [18.173363], 'DISTS': [0.20135534], 'loss': [402.7259], 'bitrate': [35.507065]}]\n",
      "LPIPS ./models_enhancement_FR/model_vimeo11k_LPIPS_cheng2020_attn_quality2_FRtuning.ckpt\n"
     ]
    },
    {
     "data": {
      "application/vnd.jupyter.widget-view+json": {
       "model_id": "f14fc702c3934141987b65d60b1994fc",
       "version_major": 2,
       "version_minor": 0
      },
      "text/plain": [
       "0it [00:00, ?it/s]"
      ]
     },
     "metadata": {},
     "output_type": "display_data"
    },
    {
     "data": {
      "application/vnd.jupyter.widget-view+json": {
       "model_id": "4342876b99d34deb8cf1537a1519a6c9",
       "version_major": 2,
       "version_minor": 0
      },
      "text/plain": [
       "0it [00:00, ?it/s]"
      ]
     },
     "metadata": {},
     "output_type": "display_data"
    },
    {
     "name": "stdout",
     "output_type": "stream",
     "text": [
      "[{'mse': [0.002728078], 'bpp_loss': [0.021601094], 'loss_classic': [1.7955339], 'PSNR': [25.64177], 'LPIPS': [0.17937161], 'loss': [358.7459], 'bitrate': [69.222437]}]\n",
      "LPIPS1 ./models_enhancement_FR/model_vimeo11k_LPIPS1_no_codec_FRtuning.ckpt\n"
     ]
    },
    {
     "data": {
      "application/vnd.jupyter.widget-view+json": {
       "model_id": "5c63b4cbeed84124a32d6f51a6f579e4",
       "version_major": 2,
       "version_minor": 0
      },
      "text/plain": [
       "0it [00:00, ?it/s]"
      ]
     },
     "metadata": {},
     "output_type": "display_data"
    },
    {
     "data": {
      "application/vnd.jupyter.widget-view+json": {
       "model_id": "017d5d446cef4fb4bebf5607cd521a15",
       "version_major": 2,
       "version_minor": 0
      },
      "text/plain": [
       "0it [00:00, ?it/s]"
      ]
     },
     "metadata": {},
     "output_type": "display_data"
    },
    {
     "name": "stdout",
     "output_type": "stream",
     "text": [
      "[{'mse': [0.004722666], 'bpp_loss': [0.021601094], 'loss_classic': [3.092515], 'PSNR': [23.261312], 'LPIPS1': [0.22847128], 'loss': [456.9473], 'bitrate': [34.714915]}]\n"
     ]
    },
    {
     "data": {
      "application/vnd.jupyter.widget-view+json": {
       "model_id": "65fddd24fc324f4e9eaaf031cd754337",
       "version_major": 2,
       "version_minor": 0
      },
      "text/plain": [
       "0it [00:00, ?it/s]"
      ]
     },
     "metadata": {},
     "output_type": "display_data"
    },
    {
     "name": "stdout",
     "output_type": "stream",
     "text": [
      "DISTS ./models_enhancement_FR/model_vimeo11k_DISTS_cheng2020_attn_quality2_FRtuning.ckpt\n"
     ]
    },
    {
     "data": {
      "application/vnd.jupyter.widget-view+json": {
       "model_id": "99cbb80c9df9461b9ba8b4432a9c63df",
       "version_major": 2,
       "version_minor": 0
      },
      "text/plain": [
       "0it [00:00, ?it/s]"
      ]
     },
     "metadata": {},
     "output_type": "display_data"
    },
    {
     "data": {
      "application/vnd.jupyter.widget-view+json": {
       "model_id": "3daed5e5b5cb4cb1845d56a07891a55a",
       "version_major": 2,
       "version_minor": 0
      },
      "text/plain": [
       "0it [00:00, ?it/s]"
      ]
     },
     "metadata": {},
     "output_type": "display_data"
    },
    {
     "name": "stdout",
     "output_type": "stream",
     "text": [
      "[{'mse': [0.010237853], 'bpp_loss': [0.021601094], 'loss_classic': [6.6787653], 'PSNR': [19.98795], 'DISTS': [0.16154245], 'loss': [323.09512], 'bitrate': [25.309334]}]\n",
      "LPIPS ./models_enhancement_FR/model_vimeo11k_LPIPS_cheng2020_attn_quality2_FRtuning.ckpt\n"
     ]
    },
    {
     "data": {
      "application/vnd.jupyter.widget-view+json": {
       "model_id": "16463340ac774dd28b1e7091b4f3ed35",
       "version_major": 2,
       "version_minor": 0
      },
      "text/plain": [
       "0it [00:00, ?it/s]"
      ]
     },
     "metadata": {},
     "output_type": "display_data"
    },
    {
     "data": {
      "application/vnd.jupyter.widget-view+json": {
       "model_id": "7051ca0a1d844ebfa7e3fa75d35c1dea",
       "version_major": 2,
       "version_minor": 0
      },
      "text/plain": [
       "0it [00:00, ?it/s]"
      ]
     },
     "metadata": {},
     "output_type": "display_data"
    },
    {
     "name": "stdout",
     "output_type": "stream",
     "text": [
      "[{'mse': [0.0027541746], 'bpp_loss': [0.021601094], 'loss_classic': [1.8125031], 'PSNR': [25.648958], 'LPIPS': [0.1472989], 'loss': [294.60052], 'bitrate': [42.741225]}]\n",
      "LPIPS1 ./models_enhancement_FR/model_vimeo11k_LPIPS1_no_codec_FRtuning.ckpt\n"
     ]
    },
    {
     "data": {
      "application/vnd.jupyter.widget-view+json": {
       "model_id": "731cf586c1094d89aabc7f1df039dfc2",
       "version_major": 2,
       "version_minor": 0
      },
      "text/plain": [
       "0it [00:00, ?it/s]"
      ]
     },
     "metadata": {},
     "output_type": "display_data"
    },
    {
     "data": {
      "application/vnd.jupyter.widget-view+json": {
       "model_id": "2c2746fb1af744be9afd40c9f8a9a605",
       "version_major": 2,
       "version_minor": 0
      },
      "text/plain": [
       "0it [00:00, ?it/s]"
      ]
     },
     "metadata": {},
     "output_type": "display_data"
    },
    {
     "name": "stdout",
     "output_type": "stream",
     "text": [
      "[{'mse': [0.0041754786], 'bpp_loss': [0.021601094], 'loss_classic': [2.7367063], 'PSNR': [24.056568], 'LPIPS1': [0.19391355], 'loss': [387.8313], 'bitrate': [22.880093]}]\n"
     ]
    },
    {
     "data": {
      "application/vnd.jupyter.widget-view+json": {
       "model_id": "739b6406c73842b189e09e87e9d1f6d4",
       "version_major": 2,
       "version_minor": 0
      },
      "text/plain": [
       "0it [00:00, ?it/s]"
      ]
     },
     "metadata": {},
     "output_type": "display_data"
    },
    {
     "name": "stdout",
     "output_type": "stream",
     "text": [
      "DISTS ./models_enhancement_FR/model_vimeo11k_DISTS_cheng2020_attn_quality2_FRtuning.ckpt\n"
     ]
    },
    {
     "data": {
      "application/vnd.jupyter.widget-view+json": {
       "model_id": "da468be0506b4851a3dd4e329c6b56ef",
       "version_major": 2,
       "version_minor": 0
      },
      "text/plain": [
       "0it [00:00, ?it/s]"
      ]
     },
     "metadata": {},
     "output_type": "display_data"
    },
    {
     "data": {
      "application/vnd.jupyter.widget-view+json": {
       "model_id": "bfdf0ff445c445eab8ff937f66d802ff",
       "version_major": 2,
       "version_minor": 0
      },
      "text/plain": [
       "0it [00:00, ?it/s]"
      ]
     },
     "metadata": {},
     "output_type": "display_data"
    },
    {
     "name": "stdout",
     "output_type": "stream",
     "text": [
      "[{'mse': [0.006175761], 'bpp_loss': [0.021601094], 'loss_classic': [4.0373898], 'PSNR': [22.111378], 'DISTS': [0.121242315], 'loss': [242.49081], 'bitrate': [24.775659]}]\n",
      "LPIPS ./models_enhancement_FR/model_vimeo11k_LPIPS_cheng2020_attn_quality2_FRtuning.ckpt\n"
     ]
    },
    {
     "data": {
      "application/vnd.jupyter.widget-view+json": {
       "model_id": "a2bdb5d9c37c4a64ba188d728f773868",
       "version_major": 2,
       "version_minor": 0
      },
      "text/plain": [
       "0it [00:00, ?it/s]"
      ]
     },
     "metadata": {},
     "output_type": "display_data"
    },
    {
     "data": {
      "application/vnd.jupyter.widget-view+json": {
       "model_id": "84712c3c07904d5987edd9368c90e759",
       "version_major": 2,
       "version_minor": 0
      },
      "text/plain": [
       "0it [00:00, ?it/s]"
      ]
     },
     "metadata": {},
     "output_type": "display_data"
    },
    {
     "name": "stdout",
     "output_type": "stream",
     "text": [
      "[{'mse': [0.0020692348], 'bpp_loss': [0.021601094], 'loss_classic': [1.367121], 'PSNR': [26.924538], 'LPIPS': [0.21529128], 'loss': [430.58466], 'bitrate': [41.87964]}]\n",
      "LPIPS1 ./models_enhancement_FR/model_vimeo11k_LPIPS1_no_codec_FRtuning.ckpt\n"
     ]
    },
    {
     "data": {
      "application/vnd.jupyter.widget-view+json": {
       "model_id": "5b8337b26d3f41fa9747c3d4f603d704",
       "version_major": 2,
       "version_minor": 0
      },
      "text/plain": [
       "0it [00:00, ?it/s]"
      ]
     },
     "metadata": {},
     "output_type": "display_data"
    },
    {
     "data": {
      "application/vnd.jupyter.widget-view+json": {
       "model_id": "5f1d6a3764d7484d92569a9e2db1d675",
       "version_major": 2,
       "version_minor": 0
      },
      "text/plain": [
       "0it [00:00, ?it/s]"
      ]
     },
     "metadata": {},
     "output_type": "display_data"
    },
    {
     "name": "stdout",
     "output_type": "stream",
     "text": [
      "[{'mse': [0.0021630595], 'bpp_loss': [0.021601094], 'loss_classic': [1.4281306], 'PSNR': [26.675972], 'LPIPS1': [0.22882822], 'loss': [457.65857], 'bitrate': [27.041534]}]\n"
     ]
    },
    {
     "data": {
      "application/vnd.jupyter.widget-view+json": {
       "model_id": "9a6b73c3917b4d32b9f7f2cb90b6b304",
       "version_major": 2,
       "version_minor": 0
      },
      "text/plain": [
       "0it [00:00, ?it/s]"
      ]
     },
     "metadata": {},
     "output_type": "display_data"
    },
    {
     "name": "stdout",
     "output_type": "stream",
     "text": [
      "DISTS ./models_enhancement_FR/model_vimeo11k_DISTS_cheng2020_attn_quality2_FRtuning.ckpt\n"
     ]
    },
    {
     "data": {
      "application/vnd.jupyter.widget-view+json": {
       "model_id": "7e1f836357244cacb071e7b18cb60a76",
       "version_major": 2,
       "version_minor": 0
      },
      "text/plain": [
       "0it [00:00, ?it/s]"
      ]
     },
     "metadata": {},
     "output_type": "display_data"
    },
    {
     "data": {
      "application/vnd.jupyter.widget-view+json": {
       "model_id": "de649d521d6143acaaa1a1b7c2928f9e",
       "version_major": 2,
       "version_minor": 0
      },
      "text/plain": [
       "0it [00:00, ?it/s]"
      ]
     },
     "metadata": {},
     "output_type": "display_data"
    },
    {
     "name": "stdout",
     "output_type": "stream",
     "text": [
      "[{'mse': [0.005668228], 'bpp_loss': [0.021601094], 'loss_classic': [3.7073665], 'PSNR': [22.465597], 'DISTS': [0.13947818], 'loss': [278.96204], 'bitrate': [43.86944]}]\n",
      "LPIPS ./models_enhancement_FR/model_vimeo11k_LPIPS_cheng2020_attn_quality2_FRtuning.ckpt\n"
     ]
    },
    {
     "data": {
      "application/vnd.jupyter.widget-view+json": {
       "model_id": "fa8e25a6140b4589beb5311e42bfe10e",
       "version_major": 2,
       "version_minor": 0
      },
      "text/plain": [
       "0it [00:00, ?it/s]"
      ]
     },
     "metadata": {},
     "output_type": "display_data"
    },
    {
     "data": {
      "application/vnd.jupyter.widget-view+json": {
       "model_id": "c3825b72c2c8469f92aba2368ec4a109",
       "version_major": 2,
       "version_minor": 0
      },
      "text/plain": [
       "0it [00:00, ?it/s]"
      ]
     },
     "metadata": {},
     "output_type": "display_data"
    },
    {
     "name": "stdout",
     "output_type": "stream",
     "text": [
      "[{'mse': [0.0020525553], 'bpp_loss': [0.021601094], 'loss_classic': [1.356275], 'PSNR': [26.877163], 'LPIPS': [0.22997437], 'loss': [459.9508], 'bitrate': [101.989809]}]\n",
      "LPIPS1 ./models_enhancement_FR/model_vimeo11k_LPIPS1_no_codec_FRtuning.ckpt\n"
     ]
    },
    {
     "data": {
      "application/vnd.jupyter.widget-view+json": {
       "model_id": "ae0fe3cc0cb341c7abcef79a1cd92688",
       "version_major": 2,
       "version_minor": 0
      },
      "text/plain": [
       "0it [00:00, ?it/s]"
      ]
     },
     "metadata": {},
     "output_type": "display_data"
    },
    {
     "data": {
      "application/vnd.jupyter.widget-view+json": {
       "model_id": "9317f1a4d45e4a82b9e0dcd288cc0129",
       "version_major": 2,
       "version_minor": 0
      },
      "text/plain": [
       "0it [00:00, ?it/s]"
      ]
     },
     "metadata": {},
     "output_type": "display_data"
    },
    {
     "name": "stdout",
     "output_type": "stream",
     "text": [
      "[{'mse': [0.0020967028], 'bpp_loss': [0.021601094], 'loss_classic': [1.3849821], 'PSNR': [26.78471], 'LPIPS1': [0.22888577], 'loss': [457.77362], 'bitrate': [73.996915]}]\n"
     ]
    },
    {
     "data": {
      "application/vnd.jupyter.widget-view+json": {
       "model_id": "960bcb0946284fbab13acbcee811231e",
       "version_major": 2,
       "version_minor": 0
      },
      "text/plain": [
       "0it [00:00, ?it/s]"
      ]
     },
     "metadata": {},
     "output_type": "display_data"
    },
    {
     "name": "stdout",
     "output_type": "stream",
     "text": [
      "DISTS ./models_enhancement_FR/model_vimeo11k_DISTS_cheng2020_attn_quality2_FRtuning.ckpt\n"
     ]
    },
    {
     "data": {
      "application/vnd.jupyter.widget-view+json": {
       "model_id": "198fd90360e84ad8a8d397b68dd9bac0",
       "version_major": 2,
       "version_minor": 0
      },
      "text/plain": [
       "0it [00:00, ?it/s]"
      ]
     },
     "metadata": {},
     "output_type": "display_data"
    },
    {
     "data": {
      "application/vnd.jupyter.widget-view+json": {
       "model_id": "7db7355d61d541daa6abe31bcb661165",
       "version_major": 2,
       "version_minor": 0
      },
      "text/plain": [
       "0it [00:00, ?it/s]"
      ]
     },
     "metadata": {},
     "output_type": "display_data"
    },
    {
     "name": "stdout",
     "output_type": "stream",
     "text": [
      "[{'mse': [0.00864973], 'bpp_loss': [0.021601094], 'loss_classic': [5.6460876], 'PSNR': [20.69167], 'DISTS': [0.22840795], 'loss': [456.82455], 'bitrate': [58.893653]}]\n",
      "LPIPS ./models_enhancement_FR/model_vimeo11k_LPIPS_cheng2020_attn_quality2_FRtuning.ckpt\n"
     ]
    },
    {
     "data": {
      "application/vnd.jupyter.widget-view+json": {
       "model_id": "1180cb4ac3184ce3af8010b443b3b427",
       "version_major": 2,
       "version_minor": 0
      },
      "text/plain": [
       "0it [00:00, ?it/s]"
      ]
     },
     "metadata": {},
     "output_type": "display_data"
    },
    {
     "data": {
      "application/vnd.jupyter.widget-view+json": {
       "model_id": "dabbae82944345bfa00e0110b55e183a",
       "version_major": 2,
       "version_minor": 0
      },
      "text/plain": [
       "0it [00:00, ?it/s]"
      ]
     },
     "metadata": {},
     "output_type": "display_data"
    },
    {
     "name": "stdout",
     "output_type": "stream",
     "text": [
      "[{'mse': [0.004859193], 'bpp_loss': [0.021601094], 'loss_classic': [3.1812916], 'PSNR': [23.155443], 'LPIPS': [0.1908688], 'loss': [381.74246], 'bitrate': [128.163521]}]\n",
      "LPIPS1 ./models_enhancement_FR/model_vimeo11k_LPIPS1_no_codec_FRtuning.ckpt\n"
     ]
    },
    {
     "data": {
      "application/vnd.jupyter.widget-view+json": {
       "model_id": "52a225912d4a46ad8a85d254dabf95d4",
       "version_major": 2,
       "version_minor": 0
      },
      "text/plain": [
       "0it [00:00, ?it/s]"
      ]
     },
     "metadata": {},
     "output_type": "display_data"
    },
    {
     "data": {
      "application/vnd.jupyter.widget-view+json": {
       "model_id": "eb1ae0b9105b41cf8092b507d783aa3b",
       "version_major": 2,
       "version_minor": 0
      },
      "text/plain": [
       "0it [00:00, ?it/s]"
      ]
     },
     "metadata": {},
     "output_type": "display_data"
    },
    {
     "name": "stdout",
     "output_type": "stream",
     "text": [
      "[{'mse': [0.0021466338], 'bpp_loss': [0.021601094], 'loss_classic': [1.4174495], 'PSNR': [26.786886], 'LPIPS1': [0.24386019], 'loss': [487.72253], 'bitrate': [104.890715]}]\n"
     ]
    },
    {
     "data": {
      "application/vnd.jupyter.widget-view+json": {
       "model_id": "ec8c8b9a14e84943af9c28dabb8a8ce6",
       "version_major": 2,
       "version_minor": 0
      },
      "text/plain": [
       "0it [00:00, ?it/s]"
      ]
     },
     "metadata": {},
     "output_type": "display_data"
    },
    {
     "name": "stdout",
     "output_type": "stream",
     "text": [
      "DISTS ./models_enhancement_FR/model_vimeo11k_DISTS_cheng2020_attn_quality2_FRtuning.ckpt\n"
     ]
    },
    {
     "data": {
      "application/vnd.jupyter.widget-view+json": {
       "model_id": "1308803fdd7d4536b77fb68f98161d73",
       "version_major": 2,
       "version_minor": 0
      },
      "text/plain": [
       "0it [00:00, ?it/s]"
      ]
     },
     "metadata": {},
     "output_type": "display_data"
    },
    {
     "data": {
      "application/vnd.jupyter.widget-view+json": {
       "model_id": "30ba08c512554d739df29acb3025f7b2",
       "version_major": 2,
       "version_minor": 0
      },
      "text/plain": [
       "0it [00:00, ?it/s]"
      ]
     },
     "metadata": {},
     "output_type": "display_data"
    },
    {
     "name": "stdout",
     "output_type": "stream",
     "text": [
      "[{'mse': [0.0037351518], 'bpp_loss': [0.021601094], 'loss_classic': [2.4503837], 'PSNR': [24.279472], 'DISTS': [0.11539974], 'loss': [230.80322], 'bitrate': [32.566328]}]\n",
      "LPIPS ./models_enhancement_FR/model_vimeo11k_LPIPS_cheng2020_attn_quality2_FRtuning.ckpt\n"
     ]
    },
    {
     "data": {
      "application/vnd.jupyter.widget-view+json": {
       "model_id": "51f55efd40894d989cf079f44261c4a9",
       "version_major": 2,
       "version_minor": 0
      },
      "text/plain": [
       "0it [00:00, ?it/s]"
      ]
     },
     "metadata": {},
     "output_type": "display_data"
    },
    {
     "data": {
      "application/vnd.jupyter.widget-view+json": {
       "model_id": "b0857efee9734d9b960ee3ed19d10dbf",
       "version_major": 2,
       "version_minor": 0
      },
      "text/plain": [
       "0it [00:00, ?it/s]"
      ]
     },
     "metadata": {},
     "output_type": "display_data"
    },
    {
     "name": "stdout",
     "output_type": "stream",
     "text": [
      "[{'mse': [0.0030030317], 'bpp_loss': [0.021601094], 'loss_classic': [1.9743226], 'PSNR': [25.232567], 'LPIPS': [0.21208355], 'loss': [424.1701], 'bitrate': [66.288062]}]\n",
      "LPIPS1 ./models_enhancement_FR/model_vimeo11k_LPIPS1_no_codec_FRtuning.ckpt\n"
     ]
    },
    {
     "data": {
      "application/vnd.jupyter.widget-view+json": {
       "model_id": "4f6a31ddd602446d802d0d6156acb1d7",
       "version_major": 2,
       "version_minor": 0
      },
      "text/plain": [
       "0it [00:00, ?it/s]"
      ]
     },
     "metadata": {},
     "output_type": "display_data"
    },
    {
     "data": {
      "application/vnd.jupyter.widget-view+json": {
       "model_id": "121a94443b8745b8993210bfca103dc0",
       "version_major": 2,
       "version_minor": 0
      },
      "text/plain": [
       "0it [00:00, ?it/s]"
      ]
     },
     "metadata": {},
     "output_type": "display_data"
    },
    {
     "name": "stdout",
     "output_type": "stream",
     "text": [
      "[{'mse': [0.0011054585], 'bpp_loss': [0.021601094], 'loss_classic': [0.74042547], 'PSNR': [29.595745], 'LPIPS1': [0.27632642], 'loss': [552.65393], 'bitrate': [36.453553]}]\n"
     ]
    },
    {
     "data": {
      "application/vnd.jupyter.widget-view+json": {
       "model_id": "215446c9d5244dc5af9dbd58a900dd1d",
       "version_major": 2,
       "version_minor": 0
      },
      "text/plain": [
       "0it [00:00, ?it/s]"
      ]
     },
     "metadata": {},
     "output_type": "display_data"
    },
    {
     "name": "stdout",
     "output_type": "stream",
     "text": [
      "DISTS ./models_enhancement_FR/model_vimeo11k_DISTS_cheng2020_attn_quality2_FRtuning.ckpt\n"
     ]
    },
    {
     "data": {
      "application/vnd.jupyter.widget-view+json": {
       "model_id": "86c728b499484cfa9753ddaa30598c84",
       "version_major": 2,
       "version_minor": 0
      },
      "text/plain": [
       "0it [00:00, ?it/s]"
      ]
     },
     "metadata": {},
     "output_type": "display_data"
    },
    {
     "data": {
      "application/vnd.jupyter.widget-view+json": {
       "model_id": "7223cbd0d5184d2899a282737d93c3d6",
       "version_major": 2,
       "version_minor": 0
      },
      "text/plain": [
       "0it [00:00, ?it/s]"
      ]
     },
     "metadata": {},
     "output_type": "display_data"
    },
    {
     "name": "stdout",
     "output_type": "stream",
     "text": [
      "[{'mse': [0.0044174674], 'bpp_loss': [0.021601094], 'loss_classic': [2.8940592], 'PSNR': [23.549643], 'DISTS': [0.13057296], 'loss': [261.15033], 'bitrate': [41.216318]}]\n",
      "LPIPS ./models_enhancement_FR/model_vimeo11k_LPIPS_cheng2020_attn_quality2_FRtuning.ckpt\n"
     ]
    },
    {
     "data": {
      "application/vnd.jupyter.widget-view+json": {
       "model_id": "dc4c26cfce054baebc0bf60ed57b5588",
       "version_major": 2,
       "version_minor": 0
      },
      "text/plain": [
       "0it [00:00, ?it/s]"
      ]
     },
     "metadata": {},
     "output_type": "display_data"
    },
    {
     "data": {
      "application/vnd.jupyter.widget-view+json": {
       "model_id": "0fd1b152c6574a05a24c211a5c11e74f",
       "version_major": 2,
       "version_minor": 0
      },
      "text/plain": [
       "0it [00:00, ?it/s]"
      ]
     },
     "metadata": {},
     "output_type": "display_data"
    },
    {
     "name": "stdout",
     "output_type": "stream",
     "text": [
      "[{'mse': [0.0022953614], 'bpp_loss': [0.021601094], 'loss_classic': [1.51416], 'PSNR': [26.39316], 'LPIPS': [0.2078276], 'loss': [415.65747], 'bitrate': [78.356003]}]\n",
      "LPIPS1 ./models_enhancement_FR/model_vimeo11k_LPIPS1_no_codec_FRtuning.ckpt\n"
     ]
    },
    {
     "data": {
      "application/vnd.jupyter.widget-view+json": {
       "model_id": "44c45ae03bc34f9fb1f38a29fadcab5a",
       "version_major": 2,
       "version_minor": 0
      },
      "text/plain": [
       "0it [00:00, ?it/s]"
      ]
     },
     "metadata": {},
     "output_type": "display_data"
    },
    {
     "data": {
      "application/vnd.jupyter.widget-view+json": {
       "model_id": "f4e8b836290f4eb9b17fdcd962595aba",
       "version_major": 2,
       "version_minor": 0
      },
      "text/plain": [
       "0it [00:00, ?it/s]"
      ]
     },
     "metadata": {},
     "output_type": "display_data"
    },
    {
     "name": "stdout",
     "output_type": "stream",
     "text": [
      "[{'mse': [0.0014901317], 'bpp_loss': [0.021601094], 'loss_classic': [0.9905591], 'PSNR': [28.276627], 'LPIPS1': [0.2518193], 'loss': [503.64008], 'bitrate': [44.525203]}]\n",
      "\n"
     ]
    },
    {
     "data": {
      "text/html": [
       "Waiting for W&B process to finish... <strong style=\"color:green\">(success).</strong>"
      ],
      "text/plain": [
       "<IPython.core.display.HTML object>"
      ]
     },
     "metadata": {},
     "output_type": "display_data"
    },
    {
     "data": {
      "application/vnd.jupyter.widget-view+json": {
       "model_id": "",
       "version_major": 2,
       "version_minor": 0
      },
      "text/plain": [
       "VBox(children=(Label(value='28.514 MB of 28.514 MB uploaded (0.000 MB deduped)\\r'), FloatProgress(value=1.0, m…"
      ]
     },
     "metadata": {},
     "output_type": "display_data"
    },
    {
     "data": {
      "text/html": [
       "Synced <strong style=\"color:#cdcd00\">RD_curves_all_met_18_03With Preprocessing</strong>: <a href=\"https://wandb.ai/havent_invented/Whitebox_strong_metrics_attacks/runs/349tvmqh\" target=\"_blank\">https://wandb.ai/havent_invented/Whitebox_strong_metrics_attacks/runs/349tvmqh</a><br/>Synced 7 W&B file(s), 21 media file(s), 21 artifact file(s) and 2 other file(s)"
      ],
      "text/plain": [
       "<IPython.core.display.HTML object>"
      ]
     },
     "metadata": {},
     "output_type": "display_data"
    },
    {
     "data": {
      "text/html": [
       "Find logs at: <code>.\\wandb\\run-20220404_091635-349tvmqh\\logs</code>"
      ],
      "text/plain": [
       "<IPython.core.display.HTML object>"
      ]
     },
     "metadata": {},
     "output_type": "display_data"
    },
    {
     "name": "stdout",
     "output_type": "stream",
     "text": [
      "[[[{'mse': [0.015233684], 'bpp_loss': [0.021601094], 'loss_classic': [9.927303], 'PSNR': [18.173363], 'DISTS': [0.20135534], 'loss': [402.7259], 'bitrate': [35.507065]}], [{'mse': [0.002728078], 'bpp_loss': [0.021601094], 'loss_classic': [1.7955339], 'PSNR': [25.64177], 'LPIPS': [0.17937161], 'loss': [358.7459], 'bitrate': [69.222437]}], [{'mse': [0.004722666], 'bpp_loss': [0.021601094], 'loss_classic': [3.092515], 'PSNR': [23.261312], 'LPIPS1': [0.22847128], 'loss': [456.9473], 'bitrate': [34.714915]}]], [[{'mse': [0.010237853], 'bpp_loss': [0.021601094], 'loss_classic': [6.6787653], 'PSNR': [19.98795], 'DISTS': [0.16154245], 'loss': [323.09512], 'bitrate': [25.309334]}], [{'mse': [0.0027541746], 'bpp_loss': [0.021601094], 'loss_classic': [1.8125031], 'PSNR': [25.648958], 'LPIPS': [0.1472989], 'loss': [294.60052], 'bitrate': [42.741225]}], [{'mse': [0.0041754786], 'bpp_loss': [0.021601094], 'loss_classic': [2.7367063], 'PSNR': [24.056568], 'LPIPS1': [0.19391355], 'loss': [387.8313], 'bitrate': [22.880093]}]], [[{'mse': [0.006175761], 'bpp_loss': [0.021601094], 'loss_classic': [4.0373898], 'PSNR': [22.111378], 'DISTS': [0.121242315], 'loss': [242.49081], 'bitrate': [24.775659]}], [{'mse': [0.0020692348], 'bpp_loss': [0.021601094], 'loss_classic': [1.367121], 'PSNR': [26.924538], 'LPIPS': [0.21529128], 'loss': [430.58466], 'bitrate': [41.87964]}], [{'mse': [0.0021630595], 'bpp_loss': [0.021601094], 'loss_classic': [1.4281306], 'PSNR': [26.675972], 'LPIPS1': [0.22882822], 'loss': [457.65857], 'bitrate': [27.041534]}]], [[{'mse': [0.005668228], 'bpp_loss': [0.021601094], 'loss_classic': [3.7073665], 'PSNR': [22.465597], 'DISTS': [0.13947818], 'loss': [278.96204], 'bitrate': [43.86944]}], [{'mse': [0.0020525553], 'bpp_loss': [0.021601094], 'loss_classic': [1.356275], 'PSNR': [26.877163], 'LPIPS': [0.22997437], 'loss': [459.9508], 'bitrate': [101.989809]}], [{'mse': [0.0020967028], 'bpp_loss': [0.021601094], 'loss_classic': [1.3849821], 'PSNR': [26.78471], 'LPIPS1': [0.22888577], 'loss': [457.77362], 'bitrate': [73.996915]}]], [[{'mse': [0.00864973], 'bpp_loss': [0.021601094], 'loss_classic': [5.6460876], 'PSNR': [20.69167], 'DISTS': [0.22840795], 'loss': [456.82455], 'bitrate': [58.893653]}], [{'mse': [0.004859193], 'bpp_loss': [0.021601094], 'loss_classic': [3.1812916], 'PSNR': [23.155443], 'LPIPS': [0.1908688], 'loss': [381.74246], 'bitrate': [128.163521]}], [{'mse': [0.0021466338], 'bpp_loss': [0.021601094], 'loss_classic': [1.4174495], 'PSNR': [26.786886], 'LPIPS1': [0.24386019], 'loss': [487.72253], 'bitrate': [104.890715]}]], [[{'mse': [0.0037351518], 'bpp_loss': [0.021601094], 'loss_classic': [2.4503837], 'PSNR': [24.279472], 'DISTS': [0.11539974], 'loss': [230.80322], 'bitrate': [32.566328]}], [{'mse': [0.0030030317], 'bpp_loss': [0.021601094], 'loss_classic': [1.9743226], 'PSNR': [25.232567], 'LPIPS': [0.21208355], 'loss': [424.1701], 'bitrate': [66.288062]}], [{'mse': [0.0011054585], 'bpp_loss': [0.021601094], 'loss_classic': [0.74042547], 'PSNR': [29.595745], 'LPIPS1': [0.27632642], 'loss': [552.65393], 'bitrate': [36.453553]}]], [[{'mse': [0.0044174674], 'bpp_loss': [0.021601094], 'loss_classic': [2.8940592], 'PSNR': [23.549643], 'DISTS': [0.13057296], 'loss': [261.15033], 'bitrate': [41.216318]}], [{'mse': [0.0022953614], 'bpp_loss': [0.021601094], 'loss_classic': [1.51416], 'PSNR': [26.39316], 'LPIPS': [0.2078276], 'loss': [415.65747], 'bitrate': [78.356003]}], [{'mse': [0.0014901317], 'bpp_loss': [0.021601094], 'loss_classic': [0.9905591], 'PSNR': [28.276627], 'LPIPS1': [0.2518193], 'loss': [503.64008], 'bitrate': [44.525203]}]]]\n"
     ]
    },
    {
     "data": {
      "text/html": [
       "Tracking run with wandb version 0.12.11"
      ],
      "text/plain": [
       "<IPython.core.display.HTML object>"
      ]
     },
     "metadata": {},
     "output_type": "display_data"
    },
    {
     "data": {
      "text/html": [
       "Run data is saved locally in <code>E:\\VMAF_METRIX\\NeuralNetworkCompression\\wandb\\run-20220404_094347-3m5a5mi3</code>"
      ],
      "text/plain": [
       "<IPython.core.display.HTML object>"
      ]
     },
     "metadata": {},
     "output_type": "display_data"
    },
    {
     "data": {
      "text/html": [
       "Syncing run <strong><a href=\"https://wandb.ai/havent_invented/Whitebox_strong_metrics_attacks/runs/3m5a5mi3\" target=\"_blank\">RD_curves_all_met_18_03With Preprocessing</a></strong> to <a href=\"https://wandb.ai/havent_invented/Whitebox_strong_metrics_attacks\" target=\"_blank\">Weights & Biases</a> (<a href=\"https://wandb.me/run\" target=\"_blank\">docs</a>)<br/>"
      ],
      "text/plain": [
       "<IPython.core.display.HTML object>"
      ]
     },
     "metadata": {},
     "output_type": "display_data"
    },
    {
     "data": {
      "application/vnd.jupyter.widget-view+json": {
       "model_id": "109456d350c448a787f0406d8fed3f9e",
       "version_major": 2,
       "version_minor": 0
      },
      "text/plain": [
       "0it [00:00, ?it/s]"
      ]
     },
     "metadata": {},
     "output_type": "display_data"
    },
    {
     "data": {
      "application/vnd.jupyter.widget-view+json": {
       "model_id": "9b92cb92b3984e4bb1435570cc5d56a8",
       "version_major": 2,
       "version_minor": 0
      },
      "text/plain": [
       "0it [00:00, ?it/s]"
      ]
     },
     "metadata": {},
     "output_type": "display_data"
    },
    {
     "name": "stdout",
     "output_type": "stream",
     "text": [
      "DISTS ./models_enhancement_FR/model_vimeo11k_DISTS_cheng2020_attn_quality2_FRtuning.ckpt\n"
     ]
    },
    {
     "data": {
      "application/vnd.jupyter.widget-view+json": {
       "model_id": "f0655f62c38b45868d7b8dbfd610aee5",
       "version_major": 2,
       "version_minor": 0
      },
      "text/plain": [
       "0it [00:00, ?it/s]"
      ]
     },
     "metadata": {},
     "output_type": "display_data"
    },
    {
     "data": {
      "application/vnd.jupyter.widget-view+json": {
       "model_id": "71457dd28820475dba115b03e41c9055",
       "version_major": 2,
       "version_minor": 0
      },
      "text/plain": [
       "0it [00:00, ?it/s]"
      ]
     },
     "metadata": {},
     "output_type": "display_data"
    },
    {
     "name": "stdout",
     "output_type": "stream",
     "text": [
      "[{'mse': [0.015428234], 'bpp_loss': [0.021601094], 'loss_classic': [10.053809], 'PSNR': [18.118082], 'DISTS': [0.20030949], 'loss': [400.6344], 'bitrate': [2.730221]}]\n",
      "LPIPS ./models_enhancement_FR/model_vimeo11k_LPIPS_cheng2020_attn_quality2_FRtuning.ckpt\n"
     ]
    },
    {
     "data": {
      "application/vnd.jupyter.widget-view+json": {
       "model_id": "2d52dcef49d64143bb683f2999c52fd5",
       "version_major": 2,
       "version_minor": 0
      },
      "text/plain": [
       "0it [00:00, ?it/s]"
      ]
     },
     "metadata": {},
     "output_type": "display_data"
    },
    {
     "data": {
      "application/vnd.jupyter.widget-view+json": {
       "model_id": "581bddd406d144879e9dac7a8c81d068",
       "version_major": 2,
       "version_minor": 0
      },
      "text/plain": [
       "0it [00:00, ?it/s]"
      ]
     },
     "metadata": {},
     "output_type": "display_data"
    },
    {
     "name": "stdout",
     "output_type": "stream",
     "text": [
      "[{'mse': [0.003104635], 'bpp_loss': [0.021601094], 'loss_classic': [2.04039], 'PSNR': [25.089693], 'LPIPS': [0.29861605], 'loss': [597.2352], 'bitrate': [3.35395]}]\n",
      "LPIPS1 ./models_enhancement_FR/model_vimeo11k_LPIPS1_no_codec_FRtuning.ckpt\n"
     ]
    },
    {
     "data": {
      "application/vnd.jupyter.widget-view+json": {
       "model_id": "d3f3ac74f25949c0a166333d16165170",
       "version_major": 2,
       "version_minor": 0
      },
      "text/plain": [
       "0it [00:00, ?it/s]"
      ]
     },
     "metadata": {},
     "output_type": "display_data"
    },
    {
     "data": {
      "application/vnd.jupyter.widget-view+json": {
       "model_id": "3faa8a84f5744195a46e707e4d7de30a",
       "version_major": 2,
       "version_minor": 0
      },
      "text/plain": [
       "0it [00:00, ?it/s]"
      ]
     },
     "metadata": {},
     "output_type": "display_data"
    },
    {
     "name": "stdout",
     "output_type": "stream",
     "text": [
      "[{'mse': [0.004887989], 'bpp_loss': [0.021601094], 'loss_classic': [3.2000158], 'PSNR': [23.112268], 'LPIPS1': [0.31470555], 'loss': [629.416], 'bitrate': [2.576603]}]\n"
     ]
    },
    {
     "data": {
      "application/vnd.jupyter.widget-view+json": {
       "model_id": "623f2c302cc94d3d90b202ae34b0f2d2",
       "version_major": 2,
       "version_minor": 0
      },
      "text/plain": [
       "0it [00:00, ?it/s]"
      ]
     },
     "metadata": {},
     "output_type": "display_data"
    },
    {
     "name": "stdout",
     "output_type": "stream",
     "text": [
      "DISTS ./models_enhancement_FR/model_vimeo11k_DISTS_cheng2020_attn_quality2_FRtuning.ckpt\n"
     ]
    },
    {
     "data": {
      "application/vnd.jupyter.widget-view+json": {
       "model_id": "429e837229884f9b93433bd38aff9a34",
       "version_major": 2,
       "version_minor": 0
      },
      "text/plain": [
       "0it [00:00, ?it/s]"
      ]
     },
     "metadata": {},
     "output_type": "display_data"
    },
    {
     "data": {
      "application/vnd.jupyter.widget-view+json": {
       "model_id": "e23b98ee55a847b2bcb1f6c0ee398083",
       "version_major": 2,
       "version_minor": 0
      },
      "text/plain": [
       "0it [00:00, ?it/s]"
      ]
     },
     "metadata": {},
     "output_type": "display_data"
    },
    {
     "name": "stdout",
     "output_type": "stream",
     "text": [
      "[{'mse': [0.0103314845], 'bpp_loss': [0.021601094], 'loss_classic': [6.7396483], 'PSNR': [19.94909], 'DISTS': [0.1669007], 'loss': [333.81174], 'bitrate': [3.995118]}]\n",
      "LPIPS ./models_enhancement_FR/model_vimeo11k_LPIPS_cheng2020_attn_quality2_FRtuning.ckpt\n"
     ]
    },
    {
     "data": {
      "application/vnd.jupyter.widget-view+json": {
       "model_id": "166d38c5e6cd427ab4bb7c3a4f7aaef2",
       "version_major": 2,
       "version_minor": 0
      },
      "text/plain": [
       "0it [00:00, ?it/s]"
      ]
     },
     "metadata": {},
     "output_type": "display_data"
    },
    {
     "data": {
      "application/vnd.jupyter.widget-view+json": {
       "model_id": "5c2257ceee2b4d409e38afb95f42f304",
       "version_major": 2,
       "version_minor": 0
      },
      "text/plain": [
       "0it [00:00, ?it/s]"
      ]
     },
     "metadata": {},
     "output_type": "display_data"
    },
    {
     "name": "stdout",
     "output_type": "stream",
     "text": [
      "[{'mse': [0.0033052722], 'bpp_loss': [0.021601094], 'loss_classic': [2.1708543], 'PSNR': [24.83675], 'LPIPS': [0.31130546], 'loss': [622.6142], 'bitrate': [4.581712]}]\n",
      "LPIPS1 ./models_enhancement_FR/model_vimeo11k_LPIPS1_no_codec_FRtuning.ckpt\n"
     ]
    },
    {
     "data": {
      "application/vnd.jupyter.widget-view+json": {
       "model_id": "f078f5f31dd14f259012514dc4789b70",
       "version_major": 2,
       "version_minor": 0
      },
      "text/plain": [
       "0it [00:00, ?it/s]"
      ]
     },
     "metadata": {},
     "output_type": "display_data"
    },
    {
     "data": {
      "application/vnd.jupyter.widget-view+json": {
       "model_id": "8deffc61b2b2404a97217abcbd125373",
       "version_major": 2,
       "version_minor": 0
      },
      "text/plain": [
       "0it [00:00, ?it/s]"
      ]
     },
     "metadata": {},
     "output_type": "display_data"
    },
    {
     "name": "stdout",
     "output_type": "stream",
     "text": [
      "[{'mse': [0.0045194663], 'bpp_loss': [0.021601094], 'loss_classic': [2.9603844], 'PSNR': [23.715603], 'LPIPS1': [0.34916455], 'loss': [698.3336], 'bitrate': [3.790381]}]\n"
     ]
    },
    {
     "data": {
      "application/vnd.jupyter.widget-view+json": {
       "model_id": "c843152d3bf745d194800b1af1ad6077",
       "version_major": 2,
       "version_minor": 0
      },
      "text/plain": [
       "0it [00:00, ?it/s]"
      ]
     },
     "metadata": {},
     "output_type": "display_data"
    },
    {
     "name": "stdout",
     "output_type": "stream",
     "text": [
      "DISTS ./models_enhancement_FR/model_vimeo11k_DISTS_cheng2020_attn_quality2_FRtuning.ckpt\n"
     ]
    },
    {
     "data": {
      "application/vnd.jupyter.widget-view+json": {
       "model_id": "601d80981b9b4ca2878444872e7fe810",
       "version_major": 2,
       "version_minor": 0
      },
      "text/plain": [
       "0it [00:00, ?it/s]"
      ]
     },
     "metadata": {},
     "output_type": "display_data"
    },
    {
     "data": {
      "application/vnd.jupyter.widget-view+json": {
       "model_id": "2cd5f6aa2367402aa8e6f3ce7b70e8f3",
       "version_major": 2,
       "version_minor": 0
      },
      "text/plain": [
       "0it [00:00, ?it/s]"
      ]
     },
     "metadata": {},
     "output_type": "display_data"
    },
    {
     "name": "stdout",
     "output_type": "stream",
     "text": [
      "[{'mse': [0.0062672105], 'bpp_loss': [0.021601094], 'loss_classic': [4.096855], 'PSNR': [22.045135], 'DISTS': [0.11842948], 'loss': [236.86523], 'bitrate': [3.148693]}]\n",
      "LPIPS ./models_enhancement_FR/model_vimeo11k_LPIPS_cheng2020_attn_quality2_FRtuning.ckpt\n"
     ]
    },
    {
     "data": {
      "application/vnd.jupyter.widget-view+json": {
       "model_id": "9244a06df00c482b92bc6a8d8d528270",
       "version_major": 2,
       "version_minor": 0
      },
      "text/plain": [
       "0it [00:00, ?it/s]"
      ]
     },
     "metadata": {},
     "output_type": "display_data"
    },
    {
     "data": {
      "application/vnd.jupyter.widget-view+json": {
       "model_id": "71f913b0fe2e4baaaed2999ea63a9262",
       "version_major": 2,
       "version_minor": 0
      },
      "text/plain": [
       "0it [00:00, ?it/s]"
      ]
     },
     "metadata": {},
     "output_type": "display_data"
    },
    {
     "name": "stdout",
     "output_type": "stream",
     "text": [
      "[{'mse': [0.0021755495], 'bpp_loss': [0.021601094], 'loss_classic': [1.4362524], 'PSNR': [26.730167], 'LPIPS': [0.2700006], 'loss': [540.0034], 'bitrate': [3.307978]}]\n",
      "LPIPS1 ./models_enhancement_FR/model_vimeo11k_LPIPS1_no_codec_FRtuning.ckpt\n"
     ]
    },
    {
     "data": {
      "application/vnd.jupyter.widget-view+json": {
       "model_id": "6709cfd32da54c1a9c961b726815d561",
       "version_major": 2,
       "version_minor": 0
      },
      "text/plain": [
       "0it [00:00, ?it/s]"
      ]
     },
     "metadata": {},
     "output_type": "display_data"
    },
    {
     "data": {
      "application/vnd.jupyter.widget-view+json": {
       "model_id": "5524c98b98cc4565882121e878bbc226",
       "version_major": 2,
       "version_minor": 0
      },
      "text/plain": [
       "0it [00:00, ?it/s]"
      ]
     },
     "metadata": {},
     "output_type": "display_data"
    },
    {
     "name": "stdout",
     "output_type": "stream",
     "text": [
      "[{'mse': [0.0022517205], 'bpp_loss': [0.021601094], 'loss_classic': [1.4857823], 'PSNR': [26.493755], 'LPIPS1': [0.27755463], 'loss': [555.1116], 'bitrate': [3.193646]}]\n"
     ]
    },
    {
     "data": {
      "application/vnd.jupyter.widget-view+json": {
       "model_id": "b3419a3d6e564ce3a4aa937cca6a07c5",
       "version_major": 2,
       "version_minor": 0
      },
      "text/plain": [
       "0it [00:00, ?it/s]"
      ]
     },
     "metadata": {},
     "output_type": "display_data"
    },
    {
     "name": "stdout",
     "output_type": "stream",
     "text": [
      "DISTS ./models_enhancement_FR/model_vimeo11k_DISTS_cheng2020_attn_quality2_FRtuning.ckpt\n"
     ]
    },
    {
     "data": {
      "application/vnd.jupyter.widget-view+json": {
       "model_id": "72aa1c9ebd2a48a9a3a63ecc8cfececb",
       "version_major": 2,
       "version_minor": 0
      },
      "text/plain": [
       "0it [00:00, ?it/s]"
      ]
     },
     "metadata": {},
     "output_type": "display_data"
    },
    {
     "data": {
      "application/vnd.jupyter.widget-view+json": {
       "model_id": "6bbe9e95d4ae4245bec4f8be42a90287",
       "version_major": 2,
       "version_minor": 0
      },
      "text/plain": [
       "0it [00:00, ?it/s]"
      ]
     },
     "metadata": {},
     "output_type": "display_data"
    },
    {
     "name": "stdout",
     "output_type": "stream",
     "text": [
      "[{'mse': [0.0057028336], 'bpp_loss': [0.021601094], 'loss_classic': [3.7298687], 'PSNR': [22.439194], 'DISTS': [0.14410523], 'loss': [288.21613], 'bitrate': [2.739337]}]\n",
      "LPIPS ./models_enhancement_FR/model_vimeo11k_LPIPS_cheng2020_attn_quality2_FRtuning.ckpt\n"
     ]
    },
    {
     "data": {
      "application/vnd.jupyter.widget-view+json": {
       "model_id": "b029d27bbfd1407390622dcaa0268d82",
       "version_major": 2,
       "version_minor": 0
      },
      "text/plain": [
       "0it [00:00, ?it/s]"
      ]
     },
     "metadata": {},
     "output_type": "display_data"
    },
    {
     "data": {
      "application/vnd.jupyter.widget-view+json": {
       "model_id": "bae0de40005d42818ca36ff290c42a3e",
       "version_major": 2,
       "version_minor": 0
      },
      "text/plain": [
       "0it [00:00, ?it/s]"
      ]
     },
     "metadata": {},
     "output_type": "display_data"
    },
    {
     "name": "stdout",
     "output_type": "stream",
     "text": [
      "[{'mse': [0.0025328205], 'bpp_loss': [0.021601094], 'loss_classic': [1.6685675], 'PSNR': [25.96909], 'LPIPS': [0.34587026], 'loss': [691.74304], 'bitrate': [3.030621]}]\n",
      "LPIPS1 ./models_enhancement_FR/model_vimeo11k_LPIPS1_no_codec_FRtuning.ckpt\n"
     ]
    },
    {
     "data": {
      "application/vnd.jupyter.widget-view+json": {
       "model_id": "779f2f9bfcb046c89770741dbf1d414b",
       "version_major": 2,
       "version_minor": 0
      },
      "text/plain": [
       "0it [00:00, ?it/s]"
      ]
     },
     "metadata": {},
     "output_type": "display_data"
    },
    {
     "data": {
      "application/vnd.jupyter.widget-view+json": {
       "model_id": "ae3ea80e18f5483c87243485236607cc",
       "version_major": 2,
       "version_minor": 0
      },
      "text/plain": [
       "0it [00:00, ?it/s]"
      ]
     },
     "metadata": {},
     "output_type": "display_data"
    },
    {
     "name": "stdout",
     "output_type": "stream",
     "text": [
      "[{'mse': [0.0022793873], 'bpp_loss': [0.021601094], 'loss_classic': [1.5037726], 'PSNR': [26.422369], 'LPIPS1': [0.35900965], 'loss': [718.0216], 'bitrate': [2.520706]}]\n"
     ]
    },
    {
     "data": {
      "application/vnd.jupyter.widget-view+json": {
       "model_id": "01994019cb0d47239977a5efb41acd50",
       "version_major": 2,
       "version_minor": 0
      },
      "text/plain": [
       "0it [00:00, ?it/s]"
      ]
     },
     "metadata": {},
     "output_type": "display_data"
    },
    {
     "name": "stdout",
     "output_type": "stream",
     "text": [
      "DISTS ./models_enhancement_FR/model_vimeo11k_DISTS_cheng2020_attn_quality2_FRtuning.ckpt\n"
     ]
    },
    {
     "data": {
      "application/vnd.jupyter.widget-view+json": {
       "model_id": "dd9a2660b6e943e7b773be1d2e0d54d7",
       "version_major": 2,
       "version_minor": 0
      },
      "text/plain": [
       "0it [00:00, ?it/s]"
      ]
     },
     "metadata": {},
     "output_type": "display_data"
    },
    {
     "data": {
      "application/vnd.jupyter.widget-view+json": {
       "model_id": "3dc61d73ce6c4eebb65daa47e214c546",
       "version_major": 2,
       "version_minor": 0
      },
      "text/plain": [
       "0it [00:00, ?it/s]"
      ]
     },
     "metadata": {},
     "output_type": "display_data"
    },
    {
     "name": "stdout",
     "output_type": "stream",
     "text": [
      "[{'mse': [0.010825614], 'bpp_loss': [0.021601094], 'loss_classic': [7.060957], 'PSNR': [19.780926], 'DISTS': [0.23980418], 'loss': [479.6192], 'bitrate': [3.571393]}]\n",
      "LPIPS ./models_enhancement_FR/model_vimeo11k_LPIPS_cheng2020_attn_quality2_FRtuning.ckpt\n"
     ]
    },
    {
     "data": {
      "application/vnd.jupyter.widget-view+json": {
       "model_id": "b5dadb6050434d76ad0538a98c4c2a36",
       "version_major": 2,
       "version_minor": 0
      },
      "text/plain": [
       "0it [00:00, ?it/s]"
      ]
     },
     "metadata": {},
     "output_type": "display_data"
    },
    {
     "data": {
      "application/vnd.jupyter.widget-view+json": {
       "model_id": "5268f5412c954843b695f193a98e2ea6",
       "version_major": 2,
       "version_minor": 0
      },
      "text/plain": [
       "0it [00:00, ?it/s]"
      ]
     },
     "metadata": {},
     "output_type": "display_data"
    },
    {
     "name": "stdout",
     "output_type": "stream",
     "text": [
      "[{'mse': [0.011504665], 'bpp_loss': [0.021601094], 'loss_classic': [7.502509], 'PSNR': [19.772171], 'LPIPS': [0.46507066], 'loss': [930.15283], 'bitrate': [4.706253]}]\n",
      "LPIPS1 ./models_enhancement_FR/model_vimeo11k_LPIPS1_no_codec_FRtuning.ckpt\n"
     ]
    },
    {
     "data": {
      "application/vnd.jupyter.widget-view+json": {
       "model_id": "5d45454dff5941b79d84580301761448",
       "version_major": 2,
       "version_minor": 0
      },
      "text/plain": [
       "0it [00:00, ?it/s]"
      ]
     },
     "metadata": {},
     "output_type": "display_data"
    },
    {
     "data": {
      "application/vnd.jupyter.widget-view+json": {
       "model_id": "26dbaa2c2e414c93b479211e4a148581",
       "version_major": 2,
       "version_minor": 0
      },
      "text/plain": [
       "0it [00:00, ?it/s]"
      ]
     },
     "metadata": {},
     "output_type": "display_data"
    },
    {
     "name": "stdout",
     "output_type": "stream",
     "text": [
      "[{'mse': [0.0076941354], 'bpp_loss': [0.021601094], 'loss_classic': [5.024713], 'PSNR': [21.81768], 'LPIPS1': [0.4966738], 'loss': [993.3553], 'bitrate': [4.067525]}]\n"
     ]
    },
    {
     "data": {
      "application/vnd.jupyter.widget-view+json": {
       "model_id": "ee709bcb84094f8db0e3f863b5abb021",
       "version_major": 2,
       "version_minor": 0
      },
      "text/plain": [
       "0it [00:00, ?it/s]"
      ]
     },
     "metadata": {},
     "output_type": "display_data"
    },
    {
     "name": "stdout",
     "output_type": "stream",
     "text": [
      "DISTS ./models_enhancement_FR/model_vimeo11k_DISTS_cheng2020_attn_quality2_FRtuning.ckpt\n"
     ]
    },
    {
     "data": {
      "application/vnd.jupyter.widget-view+json": {
       "model_id": "3dd0b73abe4c44969a2f68f9fa3e66a4",
       "version_major": 2,
       "version_minor": 0
      },
      "text/plain": [
       "0it [00:00, ?it/s]"
      ]
     },
     "metadata": {},
     "output_type": "display_data"
    },
    {
     "data": {
      "application/vnd.jupyter.widget-view+json": {
       "model_id": "52fcf0f9fa284b90b36f9772e5472439",
       "version_major": 2,
       "version_minor": 0
      },
      "text/plain": [
       "0it [00:00, ?it/s]"
      ]
     },
     "metadata": {},
     "output_type": "display_data"
    },
    {
     "name": "stdout",
     "output_type": "stream",
     "text": [
      "[{'mse': [0.00384772], 'bpp_loss': [0.021601094], 'loss_classic': [2.523581], 'PSNR': [24.152317], 'DISTS': [0.11988558], 'loss': [239.77501], 'bitrate': [3.035353]}]\n",
      "LPIPS ./models_enhancement_FR/model_vimeo11k_LPIPS_cheng2020_attn_quality2_FRtuning.ckpt\n"
     ]
    },
    {
     "data": {
      "application/vnd.jupyter.widget-view+json": {
       "model_id": "a39508cae00f46d2b3318a3d2b6d0209",
       "version_major": 2,
       "version_minor": 0
      },
      "text/plain": [
       "0it [00:00, ?it/s]"
      ]
     },
     "metadata": {},
     "output_type": "display_data"
    },
    {
     "data": {
      "application/vnd.jupyter.widget-view+json": {
       "model_id": "4949a446bf0e4fe59023781fd1eb610e",
       "version_major": 2,
       "version_minor": 0
      },
      "text/plain": [
       "0it [00:00, ?it/s]"
      ]
     },
     "metadata": {},
     "output_type": "display_data"
    },
    {
     "name": "stdout",
     "output_type": "stream",
     "text": [
      "[{'mse': [0.003291184], 'bpp_loss': [0.021601094], 'loss_classic': [2.1616938], 'PSNR': [24.831394], 'LPIPS': [0.37248063], 'loss': [744.9646], 'bitrate': [3.574587]}]\n",
      "LPIPS1 ./models_enhancement_FR/model_vimeo11k_LPIPS1_no_codec_FRtuning.ckpt\n"
     ]
    },
    {
     "data": {
      "application/vnd.jupyter.widget-view+json": {
       "model_id": "b83f6d2df18245b48262ed984e02a321",
       "version_major": 2,
       "version_minor": 0
      },
      "text/plain": [
       "0it [00:00, ?it/s]"
      ]
     },
     "metadata": {},
     "output_type": "display_data"
    },
    {
     "data": {
      "application/vnd.jupyter.widget-view+json": {
       "model_id": "717b4b3a2a4a4453b0ae204d72d37e0c",
       "version_major": 2,
       "version_minor": 0
      },
      "text/plain": [
       "0it [00:00, ?it/s]"
      ]
     },
     "metadata": {},
     "output_type": "display_data"
    },
    {
     "name": "stdout",
     "output_type": "stream",
     "text": [
      "[{'mse': [0.0012129075], 'bpp_loss': [0.021601094], 'loss_classic': [0.8102942], 'PSNR': [29.197094], 'LPIPS1': [0.39675826], 'loss': [793.5177], 'bitrate': [2.8719]}]\n"
     ]
    },
    {
     "data": {
      "application/vnd.jupyter.widget-view+json": {
       "model_id": "40b32a7b1f4649a9a2dd395ae3db56af",
       "version_major": 2,
       "version_minor": 0
      },
      "text/plain": [
       "0it [00:00, ?it/s]"
      ]
     },
     "metadata": {},
     "output_type": "display_data"
    },
    {
     "name": "stdout",
     "output_type": "stream",
     "text": [
      "DISTS ./models_enhancement_FR/model_vimeo11k_DISTS_cheng2020_attn_quality2_FRtuning.ckpt\n"
     ]
    },
    {
     "data": {
      "application/vnd.jupyter.widget-view+json": {
       "model_id": "c94c414970ce4d78a383d3aaaee40dd2",
       "version_major": 2,
       "version_minor": 0
      },
      "text/plain": [
       "0it [00:00, ?it/s]"
      ]
     },
     "metadata": {},
     "output_type": "display_data"
    },
    {
     "data": {
      "application/vnd.jupyter.widget-view+json": {
       "model_id": "9ef1ed79b2df4dcaa433a714d8e10b38",
       "version_major": 2,
       "version_minor": 0
      },
      "text/plain": [
       "0it [00:00, ?it/s]"
      ]
     },
     "metadata": {},
     "output_type": "display_data"
    },
    {
     "name": "stdout",
     "output_type": "stream",
     "text": [
      "[{'mse': [0.0044379877], 'bpp_loss': [0.021601094], 'loss_classic': [2.9074028], 'PSNR': [23.529676], 'DISTS': [0.13055906], 'loss': [261.12256], 'bitrate': [2.607965]}]\n",
      "LPIPS ./models_enhancement_FR/model_vimeo11k_LPIPS_cheng2020_attn_quality2_FRtuning.ckpt\n"
     ]
    },
    {
     "data": {
      "application/vnd.jupyter.widget-view+json": {
       "model_id": "3278111f8def47fdb85ed1755d50b3c6",
       "version_major": 2,
       "version_minor": 0
      },
      "text/plain": [
       "0it [00:00, ?it/s]"
      ]
     },
     "metadata": {},
     "output_type": "display_data"
    },
    {
     "data": {
      "application/vnd.jupyter.widget-view+json": {
       "model_id": "cc7f8793641043f8951acce5300e7197",
       "version_major": 2,
       "version_minor": 0
      },
      "text/plain": [
       "0it [00:00, ?it/s]"
      ]
     },
     "metadata": {},
     "output_type": "display_data"
    },
    {
     "name": "stdout",
     "output_type": "stream",
     "text": [
      "[{'mse': [0.0023124176], 'bpp_loss': [0.021601094], 'loss_classic': [1.5252507], 'PSNR': [26.360039], 'LPIPS': [0.2885965], 'loss': [577.1953], 'bitrate': [2.881418]}]\n",
      "LPIPS1 ./models_enhancement_FR/model_vimeo11k_LPIPS1_no_codec_FRtuning.ckpt\n"
     ]
    },
    {
     "data": {
      "application/vnd.jupyter.widget-view+json": {
       "model_id": "3c32ee3c9b094328b50ccf4e9ad7ab27",
       "version_major": 2,
       "version_minor": 0
      },
      "text/plain": [
       "0it [00:00, ?it/s]"
      ]
     },
     "metadata": {},
     "output_type": "display_data"
    },
    {
     "data": {
      "application/vnd.jupyter.widget-view+json": {
       "model_id": "8d38066e1a1a42a396a76e5a4ba6167b",
       "version_major": 2,
       "version_minor": 0
      },
      "text/plain": [
       "0it [00:00, ?it/s]"
      ]
     },
     "metadata": {},
     "output_type": "display_data"
    },
    {
     "name": "stdout",
     "output_type": "stream",
     "text": [
      "[{'mse': [0.0015641983], 'bpp_loss': [0.021601094], 'loss_classic': [1.038721], 'PSNR': [28.066874], 'LPIPS1': [0.3163579], 'loss': [632.71735], 'bitrate': [2.465515]}]\n",
      "\n"
     ]
    },
    {
     "data": {
      "text/html": [
       "Waiting for W&B process to finish... <strong style=\"color:green\">(success).</strong>"
      ],
      "text/plain": [
       "<IPython.core.display.HTML object>"
      ]
     },
     "metadata": {},
     "output_type": "display_data"
    },
    {
     "data": {
      "application/vnd.jupyter.widget-view+json": {
       "model_id": "",
       "version_major": 2,
       "version_minor": 0
      },
      "text/plain": [
       "VBox(children=(Label(value='28.546 MB of 28.546 MB uploaded (0.000 MB deduped)\\r'), FloatProgress(value=1.0, m…"
      ]
     },
     "metadata": {},
     "output_type": "display_data"
    },
    {
     "data": {
      "text/html": [
       "Synced <strong style=\"color:#cdcd00\">RD_curves_all_met_18_03With Preprocessing</strong>: <a href=\"https://wandb.ai/havent_invented/Whitebox_strong_metrics_attacks/runs/3m5a5mi3\" target=\"_blank\">https://wandb.ai/havent_invented/Whitebox_strong_metrics_attacks/runs/3m5a5mi3</a><br/>Synced 7 W&B file(s), 21 media file(s), 21 artifact file(s) and 2 other file(s)"
      ],
      "text/plain": [
       "<IPython.core.display.HTML object>"
      ]
     },
     "metadata": {},
     "output_type": "display_data"
    },
    {
     "data": {
      "text/html": [
       "Find logs at: <code>.\\wandb\\run-20220404_094347-3m5a5mi3\\logs</code>"
      ],
      "text/plain": [
       "<IPython.core.display.HTML object>"
      ]
     },
     "metadata": {},
     "output_type": "display_data"
    },
    {
     "name": "stdout",
     "output_type": "stream",
     "text": [
      "[[[{'mse': [0.015428234], 'bpp_loss': [0.021601094], 'loss_classic': [10.053809], 'PSNR': [18.118082], 'DISTS': [0.20030949], 'loss': [400.6344], 'bitrate': [2.730221]}], [{'mse': [0.003104635], 'bpp_loss': [0.021601094], 'loss_classic': [2.04039], 'PSNR': [25.089693], 'LPIPS': [0.29861605], 'loss': [597.2352], 'bitrate': [3.35395]}], [{'mse': [0.004887989], 'bpp_loss': [0.021601094], 'loss_classic': [3.2000158], 'PSNR': [23.112268], 'LPIPS1': [0.31470555], 'loss': [629.416], 'bitrate': [2.576603]}]], [[{'mse': [0.0103314845], 'bpp_loss': [0.021601094], 'loss_classic': [6.7396483], 'PSNR': [19.94909], 'DISTS': [0.1669007], 'loss': [333.81174], 'bitrate': [3.995118]}], [{'mse': [0.0033052722], 'bpp_loss': [0.021601094], 'loss_classic': [2.1708543], 'PSNR': [24.83675], 'LPIPS': [0.31130546], 'loss': [622.6142], 'bitrate': [4.581712]}], [{'mse': [0.0045194663], 'bpp_loss': [0.021601094], 'loss_classic': [2.9603844], 'PSNR': [23.715603], 'LPIPS1': [0.34916455], 'loss': [698.3336], 'bitrate': [3.790381]}]], [[{'mse': [0.0062672105], 'bpp_loss': [0.021601094], 'loss_classic': [4.096855], 'PSNR': [22.045135], 'DISTS': [0.11842948], 'loss': [236.86523], 'bitrate': [3.148693]}], [{'mse': [0.0021755495], 'bpp_loss': [0.021601094], 'loss_classic': [1.4362524], 'PSNR': [26.730167], 'LPIPS': [0.2700006], 'loss': [540.0034], 'bitrate': [3.307978]}], [{'mse': [0.0022517205], 'bpp_loss': [0.021601094], 'loss_classic': [1.4857823], 'PSNR': [26.493755], 'LPIPS1': [0.27755463], 'loss': [555.1116], 'bitrate': [3.193646]}]], [[{'mse': [0.0057028336], 'bpp_loss': [0.021601094], 'loss_classic': [3.7298687], 'PSNR': [22.439194], 'DISTS': [0.14410523], 'loss': [288.21613], 'bitrate': [2.739337]}], [{'mse': [0.0025328205], 'bpp_loss': [0.021601094], 'loss_classic': [1.6685675], 'PSNR': [25.96909], 'LPIPS': [0.34587026], 'loss': [691.74304], 'bitrate': [3.030621]}], [{'mse': [0.0022793873], 'bpp_loss': [0.021601094], 'loss_classic': [1.5037726], 'PSNR': [26.422369], 'LPIPS1': [0.35900965], 'loss': [718.0216], 'bitrate': [2.520706]}]], [[{'mse': [0.010825614], 'bpp_loss': [0.021601094], 'loss_classic': [7.060957], 'PSNR': [19.780926], 'DISTS': [0.23980418], 'loss': [479.6192], 'bitrate': [3.571393]}], [{'mse': [0.011504665], 'bpp_loss': [0.021601094], 'loss_classic': [7.502509], 'PSNR': [19.772171], 'LPIPS': [0.46507066], 'loss': [930.15283], 'bitrate': [4.706253]}], [{'mse': [0.0076941354], 'bpp_loss': [0.021601094], 'loss_classic': [5.024713], 'PSNR': [21.81768], 'LPIPS1': [0.4966738], 'loss': [993.3553], 'bitrate': [4.067525]}]], [[{'mse': [0.00384772], 'bpp_loss': [0.021601094], 'loss_classic': [2.523581], 'PSNR': [24.152317], 'DISTS': [0.11988558], 'loss': [239.77501], 'bitrate': [3.035353]}], [{'mse': [0.003291184], 'bpp_loss': [0.021601094], 'loss_classic': [2.1616938], 'PSNR': [24.831394], 'LPIPS': [0.37248063], 'loss': [744.9646], 'bitrate': [3.574587]}], [{'mse': [0.0012129075], 'bpp_loss': [0.021601094], 'loss_classic': [0.8102942], 'PSNR': [29.197094], 'LPIPS1': [0.39675826], 'loss': [793.5177], 'bitrate': [2.8719]}]], [[{'mse': [0.0044379877], 'bpp_loss': [0.021601094], 'loss_classic': [2.9074028], 'PSNR': [23.529676], 'DISTS': [0.13055906], 'loss': [261.12256], 'bitrate': [2.607965]}], [{'mse': [0.0023124176], 'bpp_loss': [0.021601094], 'loss_classic': [1.5252507], 'PSNR': [26.360039], 'LPIPS': [0.2885965], 'loss': [577.1953], 'bitrate': [2.881418]}], [{'mse': [0.0015641983], 'bpp_loss': [0.021601094], 'loss_classic': [1.038721], 'PSNR': [28.066874], 'LPIPS1': [0.3163579], 'loss': [632.71735], 'bitrate': [2.465515]}]]]\n"
     ]
    },
    {
     "data": {
      "text/html": [
       "Tracking run with wandb version 0.12.11"
      ],
      "text/plain": [
       "<IPython.core.display.HTML object>"
      ]
     },
     "metadata": {},
     "output_type": "display_data"
    },
    {
     "data": {
      "text/html": [
       "Run data is saved locally in <code>E:\\VMAF_METRIX\\NeuralNetworkCompression\\wandb\\run-20220404_101213-y6294u2i</code>"
      ],
      "text/plain": [
       "<IPython.core.display.HTML object>"
      ]
     },
     "metadata": {},
     "output_type": "display_data"
    },
    {
     "data": {
      "text/html": [
       "Syncing run <strong><a href=\"https://wandb.ai/havent_invented/Whitebox_strong_metrics_attacks/runs/y6294u2i\" target=\"_blank\">RD_curves_all_met_18_03With Preprocessing</a></strong> to <a href=\"https://wandb.ai/havent_invented/Whitebox_strong_metrics_attacks\" target=\"_blank\">Weights & Biases</a> (<a href=\"https://wandb.me/run\" target=\"_blank\">docs</a>)<br/>"
      ],
      "text/plain": [
       "<IPython.core.display.HTML object>"
      ]
     },
     "metadata": {},
     "output_type": "display_data"
    },
    {
     "data": {
      "application/vnd.jupyter.widget-view+json": {
       "model_id": "523ef3915313401291989dbc31a466f5",
       "version_major": 2,
       "version_minor": 0
      },
      "text/plain": [
       "0it [00:00, ?it/s]"
      ]
     },
     "metadata": {},
     "output_type": "display_data"
    },
    {
     "data": {
      "application/vnd.jupyter.widget-view+json": {
       "model_id": "51297677d02c49b0a9c9b59eb9cc8a2c",
       "version_major": 2,
       "version_minor": 0
      },
      "text/plain": [
       "0it [00:00, ?it/s]"
      ]
     },
     "metadata": {},
     "output_type": "display_data"
    },
    {
     "name": "stdout",
     "output_type": "stream",
     "text": [
      "DISTS ./models_enhancement_FR/model_vimeo11k_DISTS_cheng2020_attn_quality2_FRtuning.ckpt\n"
     ]
    },
    {
     "data": {
      "application/vnd.jupyter.widget-view+json": {
       "model_id": "745cec7bdf42445a9edee576533296ec",
       "version_major": 2,
       "version_minor": 0
      },
      "text/plain": [
       "0it [00:00, ?it/s]"
      ]
     },
     "metadata": {},
     "output_type": "display_data"
    },
    {
     "data": {
      "application/vnd.jupyter.widget-view+json": {
       "model_id": "4e49d4184dae4cd49c64fb8a5c353495",
       "version_major": 2,
       "version_minor": 0
      },
      "text/plain": [
       "0it [00:00, ?it/s]"
      ]
     },
     "metadata": {},
     "output_type": "display_data"
    },
    {
     "name": "stdout",
     "output_type": "stream",
     "text": [
      "[{'mse': [0.025219621, 0.025129039], 'bpp_loss': [0.23035115, 0.46911812], 'loss_classic': [16.62941, 16.809277], 'PSNR': [15.990639, 16.006283], 'loss': [0.025219621, 0.025129039]}]\n",
      "LPIPS ./models_enhancement_FR/model_vimeo11k_LPIPS_cheng2020_attn_quality2_FRtuning.ckpt\n"
     ]
    },
    {
     "data": {
      "application/vnd.jupyter.widget-view+json": {
       "model_id": "5402d40316274fd19f46a2dea86bdb70",
       "version_major": 2,
       "version_minor": 0
      },
      "text/plain": [
       "0it [00:00, ?it/s]"
      ]
     },
     "metadata": {},
     "output_type": "display_data"
    },
    {
     "data": {
      "application/vnd.jupyter.widget-view+json": {
       "model_id": "7d3fe91fb26d42df895b9279256b480d",
       "version_major": 2,
       "version_minor": 0
      },
      "text/plain": [
       "0it [00:00, ?it/s]"
      ]
     },
     "metadata": {},
     "output_type": "display_data"
    },
    {
     "name": "stdout",
     "output_type": "stream",
     "text": [
      "[{'mse': [0.0043443, 0.004616663], 'bpp_loss': [0.33612657, 0.9230267], 'loss_classic': [3.1610076, 3.9250116], 'PSNR': [23.63617, 23.369692], 'loss': [0.0043443, 0.004616663]}]\n",
      "LPIPS1 ./models_enhancement_FR/model_vimeo11k_LPIPS1_no_codec_FRtuning.ckpt\n"
     ]
    },
    {
     "data": {
      "application/vnd.jupyter.widget-view+json": {
       "model_id": "84da5518f89e42599e92579de7838555",
       "version_major": 2,
       "version_minor": 0
      },
      "text/plain": [
       "0it [00:00, ?it/s]"
      ]
     },
     "metadata": {},
     "output_type": "display_data"
    },
    {
     "data": {
      "application/vnd.jupyter.widget-view+json": {
       "model_id": "8ef85a59ba98414995d93244c66c0e87",
       "version_major": 2,
       "version_minor": 0
      },
      "text/plain": [
       "0it [00:00, ?it/s]"
      ]
     },
     "metadata": {},
     "output_type": "display_data"
    },
    {
     "name": "stdout",
     "output_type": "stream",
     "text": [
      "[{'mse': [0.013609346, 0.013458308], 'bpp_loss': [0.19564843, 0.475619], 'loss_classic': [9.045126, 9.226883], 'PSNR': [18.667618, 18.71579], 'loss': [0.013609346, 0.013458308]}]\n"
     ]
    },
    {
     "data": {
      "application/vnd.jupyter.widget-view+json": {
       "model_id": "4d2428ac6e6d469fbbe6fa459f3472fe",
       "version_major": 2,
       "version_minor": 0
      },
      "text/plain": [
       "0it [00:00, ?it/s]"
      ]
     },
     "metadata": {},
     "output_type": "display_data"
    },
    {
     "name": "stdout",
     "output_type": "stream",
     "text": [
      "DISTS ./models_enhancement_FR/model_vimeo11k_DISTS_cheng2020_attn_quality2_FRtuning.ckpt\n"
     ]
    },
    {
     "data": {
      "application/vnd.jupyter.widget-view+json": {
       "model_id": "7d120b97173346c1af3a8af636e7c90a",
       "version_major": 2,
       "version_minor": 0
      },
      "text/plain": [
       "0it [00:00, ?it/s]"
      ]
     },
     "metadata": {},
     "output_type": "display_data"
    },
    {
     "data": {
      "application/vnd.jupyter.widget-view+json": {
       "model_id": "c5a77c039d984489ab125f87b46242a0",
       "version_major": 2,
       "version_minor": 0
      },
      "text/plain": [
       "0it [00:00, ?it/s]"
      ]
     },
     "metadata": {},
     "output_type": "display_data"
    },
    {
     "name": "stdout",
     "output_type": "stream",
     "text": [
      "[{'mse': [0.0062314565, 0.006257946], 'bpp_loss': [0.17781642, 0.36181518], 'loss_classic': [4.229821, 4.4310446], 'PSNR': [23.190529, 23.134956], 'loss': [0.0062314565, 0.006257946]}]\n",
      "LPIPS ./models_enhancement_FR/model_vimeo11k_LPIPS_cheng2020_attn_quality2_FRtuning.ckpt\n"
     ]
    },
    {
     "data": {
      "application/vnd.jupyter.widget-view+json": {
       "model_id": "f74971af86ff4c13bb7155c87f54dd7d",
       "version_major": 2,
       "version_minor": 0
      },
      "text/plain": [
       "0it [00:00, ?it/s]"
      ]
     },
     "metadata": {},
     "output_type": "display_data"
    },
    {
     "data": {
      "application/vnd.jupyter.widget-view+json": {
       "model_id": "a69c3d6e2aeb4400bd91af77d958fda3",
       "version_major": 2,
       "version_minor": 0
      },
      "text/plain": [
       "0it [00:00, ?it/s]"
      ]
     },
     "metadata": {},
     "output_type": "display_data"
    },
    {
     "name": "stdout",
     "output_type": "stream",
     "text": [
      "[{'mse': [0.0036481693, 0.0036808462], 'bpp_loss': [0.24319395, 0.6721782], 'loss_classic': [2.615416, 3.0656483], 'PSNR': [24.625927, 24.626352], 'loss': [0.0036481693, 0.0036808462]}]\n",
      "LPIPS1 ./models_enhancement_FR/model_vimeo11k_LPIPS1_no_codec_FRtuning.ckpt\n"
     ]
    },
    {
     "data": {
      "application/vnd.jupyter.widget-view+json": {
       "model_id": "7b063caa343643d282690c43263653c9",
       "version_major": 2,
       "version_minor": 0
      },
      "text/plain": [
       "0it [00:00, ?it/s]"
      ]
     },
     "metadata": {},
     "output_type": "display_data"
    },
    {
     "data": {
      "application/vnd.jupyter.widget-view+json": {
       "model_id": "63981db714fd40528b3f467f333969e9",
       "version_major": 2,
       "version_minor": 0
      },
      "text/plain": [
       "0it [00:00, ?it/s]"
      ]
     },
     "metadata": {},
     "output_type": "display_data"
    },
    {
     "name": "stdout",
     "output_type": "stream",
     "text": [
      "[{'mse': [0.0027677342, 0.0026565068], 'bpp_loss': [0.14982046, 0.34715414], 'loss_classic': [1.9495397, 2.0745478], 'PSNR': [28.445179, 28.787117], 'loss': [0.0027677342, 0.0026565068]}]\n"
     ]
    },
    {
     "data": {
      "application/vnd.jupyter.widget-view+json": {
       "model_id": "7349ef3e4a8543719523bc3af68a6370",
       "version_major": 2,
       "version_minor": 0
      },
      "text/plain": [
       "0it [00:00, ?it/s]"
      ]
     },
     "metadata": {},
     "output_type": "display_data"
    },
    {
     "name": "stdout",
     "output_type": "stream",
     "text": [
      "DISTS ./models_enhancement_FR/model_vimeo11k_DISTS_cheng2020_attn_quality2_FRtuning.ckpt\n"
     ]
    },
    {
     "data": {
      "application/vnd.jupyter.widget-view+json": {
       "model_id": "14e25eb911ec445198e68456095642f9",
       "version_major": 2,
       "version_minor": 0
      },
      "text/plain": [
       "0it [00:00, ?it/s]"
      ]
     },
     "metadata": {},
     "output_type": "display_data"
    },
    {
     "data": {
      "application/vnd.jupyter.widget-view+json": {
       "model_id": "71c1cfb16e984112afb58bf2801dac53",
       "version_major": 2,
       "version_minor": 0
      },
      "text/plain": [
       "0it [00:00, ?it/s]"
      ]
     },
     "metadata": {},
     "output_type": "display_data"
    },
    {
     "name": "stdout",
     "output_type": "stream",
     "text": [
      "[{'mse': [0.0035721199, 0.0035793255], 'bpp_loss': [0.116178, 0.20950091], 'loss_classic': [2.438949, 2.536957], 'PSNR': [24.848944, 24.840012], 'loss': [0.0035721199, 0.0035793255]}]\n",
      "LPIPS ./models_enhancement_FR/model_vimeo11k_LPIPS_cheng2020_attn_quality2_FRtuning.ckpt\n"
     ]
    },
    {
     "data": {
      "application/vnd.jupyter.widget-view+json": {
       "model_id": "cd947f52a0b543f2b6791c69c279ee75",
       "version_major": 2,
       "version_minor": 0
      },
      "text/plain": [
       "0it [00:00, ?it/s]"
      ]
     },
     "metadata": {},
     "output_type": "display_data"
    },
    {
     "data": {
      "application/vnd.jupyter.widget-view+json": {
       "model_id": "23a561c7b7ca4cabb20ecd914770baad",
       "version_major": 2,
       "version_minor": 0
      },
      "text/plain": [
       "0it [00:00, ?it/s]"
      ]
     },
     "metadata": {},
     "output_type": "display_data"
    },
    {
     "name": "stdout",
     "output_type": "stream",
     "text": [
      "[{'mse': [0.0037999852, 0.0038893702], 'bpp_loss': [0.11848969, 0.2602581], 'loss_classic': [2.58943, 2.7893212], 'PSNR': [24.267681, 24.166725], 'loss': [0.0037999852, 0.0038893702]}]\n",
      "LPIPS1 ./models_enhancement_FR/model_vimeo11k_LPIPS1_no_codec_FRtuning.ckpt\n"
     ]
    },
    {
     "data": {
      "application/vnd.jupyter.widget-view+json": {
       "model_id": "8cb6ca67be9d430f964bc5c55e1b2d61",
       "version_major": 2,
       "version_minor": 0
      },
      "text/plain": [
       "0it [00:00, ?it/s]"
      ]
     },
     "metadata": {},
     "output_type": "display_data"
    },
    {
     "data": {
      "application/vnd.jupyter.widget-view+json": {
       "model_id": "0e4a6abce679417691fda0b7296e2e17",
       "version_major": 2,
       "version_minor": 0
      },
      "text/plain": [
       "0it [00:00, ?it/s]"
      ]
     },
     "metadata": {},
     "output_type": "display_data"
    },
    {
     "name": "stdout",
     "output_type": "stream",
     "text": [
      "[{'mse': [0.0008509642, 0.00084198767], 'bpp_loss': [0.10769888, 0.18522564], 'loss_classic': [0.6610384, 0.73272806], 'PSNR': [31.488537, 31.534294], 'loss': [0.0008509642, 0.00084198767]}]\n"
     ]
    },
    {
     "data": {
      "application/vnd.jupyter.widget-view+json": {
       "model_id": "def4c42a5e5b46149ba290d37c009c9a",
       "version_major": 2,
       "version_minor": 0
      },
      "text/plain": [
       "0it [00:00, ?it/s]"
      ]
     },
     "metadata": {},
     "output_type": "display_data"
    },
    {
     "name": "stdout",
     "output_type": "stream",
     "text": [
      "DISTS ./models_enhancement_FR/model_vimeo11k_DISTS_cheng2020_attn_quality2_FRtuning.ckpt\n"
     ]
    },
    {
     "data": {
      "application/vnd.jupyter.widget-view+json": {
       "model_id": "9519ed08716f47289af691f98e17f4af",
       "version_major": 2,
       "version_minor": 0
      },
      "text/plain": [
       "0it [00:00, ?it/s]"
      ]
     },
     "metadata": {},
     "output_type": "display_data"
    },
    {
     "data": {
      "application/vnd.jupyter.widget-view+json": {
       "model_id": "a5379aabf6ea424b84caac2d9e832bb7",
       "version_major": 2,
       "version_minor": 0
      },
      "text/plain": [
       "0it [00:00, ?it/s]"
      ]
     },
     "metadata": {},
     "output_type": "display_data"
    },
    {
     "name": "stdout",
     "output_type": "stream",
     "text": [
      "[{'mse': [0.0057892594, 0.005443074], 'bpp_loss': [0.3009068, 0.6222342], 'loss_classic': [4.065373, 4.161593], 'PSNR': [22.374165, 22.641895], 'loss': [0.0057892594, 0.005443074]}]\n",
      "LPIPS ./models_enhancement_FR/model_vimeo11k_LPIPS_cheng2020_attn_quality2_FRtuning.ckpt\n"
     ]
    },
    {
     "data": {
      "application/vnd.jupyter.widget-view+json": {
       "model_id": "28b233f713b049189bed32b8fdbcbdce",
       "version_major": 2,
       "version_minor": 0
      },
      "text/plain": [
       "0it [00:00, ?it/s]"
      ]
     },
     "metadata": {},
     "output_type": "display_data"
    },
    {
     "data": {
      "application/vnd.jupyter.widget-view+json": {
       "model_id": "d704f10bebdb4926a0a23fe11e3b432a",
       "version_major": 2,
       "version_minor": 0
      },
      "text/plain": [
       "0it [00:00, ?it/s]"
      ]
     },
     "metadata": {},
     "output_type": "display_data"
    },
    {
     "name": "stdout",
     "output_type": "stream",
     "text": [
      "[{'mse': [0.00421424, 0.003983882], 'bpp_loss': [0.6658632, 1.5228223], 'loss_classic': [3.4061728, 4.1133413], 'PSNR': [23.757206, 24.001432], 'loss': [0.00421424, 0.003983882]}]\n",
      "LPIPS1 ./models_enhancement_FR/model_vimeo11k_LPIPS1_no_codec_FRtuning.ckpt\n"
     ]
    },
    {
     "data": {
      "application/vnd.jupyter.widget-view+json": {
       "model_id": "4f423c9b4b3641cb9cfce39a37ba1b78",
       "version_major": 2,
       "version_minor": 0
      },
      "text/plain": [
       "0it [00:00, ?it/s]"
      ]
     },
     "metadata": {},
     "output_type": "display_data"
    },
    {
     "data": {
      "application/vnd.jupyter.widget-view+json": {
       "model_id": "ed05fbf2629b40e9a736201584f7d207",
       "version_major": 2,
       "version_minor": 0
      },
      "text/plain": [
       "0it [00:00, ?it/s]"
      ]
     },
     "metadata": {},
     "output_type": "display_data"
    },
    {
     "name": "stdout",
     "output_type": "stream",
     "text": [
      "[{'mse': [0.0020659147, 0.0014444613], 'bpp_loss': [0.44859385, 1.1435697], 'loss_classic': [1.7919549, 2.0828304], 'PSNR': [26.849422, 28.404419], 'loss': [0.0020659147, 0.0014444613]}]\n"
     ]
    },
    {
     "data": {
      "application/vnd.jupyter.widget-view+json": {
       "model_id": "7be3d5db182548be8a15a6f238e66e93",
       "version_major": 2,
       "version_minor": 0
      },
      "text/plain": [
       "0it [00:00, ?it/s]"
      ]
     },
     "metadata": {},
     "output_type": "display_data"
    },
    {
     "name": "stdout",
     "output_type": "stream",
     "text": [
      "DISTS ./models_enhancement_FR/model_vimeo11k_DISTS_cheng2020_attn_quality2_FRtuning.ckpt\n"
     ]
    },
    {
     "data": {
      "application/vnd.jupyter.widget-view+json": {
       "model_id": "5c5746aab98a467abdfefe7c9b445c20",
       "version_major": 2,
       "version_minor": 0
      },
      "text/plain": [
       "0it [00:00, ?it/s]"
      ]
     },
     "metadata": {},
     "output_type": "display_data"
    },
    {
     "data": {
      "application/vnd.jupyter.widget-view+json": {
       "model_id": "6c7908aa911046799c01b84a912635a0",
       "version_major": 2,
       "version_minor": 0
      },
      "text/plain": [
       "0it [00:00, ?it/s]"
      ]
     },
     "metadata": {},
     "output_type": "display_data"
    },
    {
     "name": "stdout",
     "output_type": "stream",
     "text": [
      "[{'mse': [0.0092060305, 0.008666602], 'bpp_loss': [0.3144164, 0.6559278], 'loss_classic': [6.3006377, 6.2913857], 'PSNR': [20.74541, 20.9859], 'loss': [0.0092060305, 0.008666602]}]\n",
      "LPIPS ./models_enhancement_FR/model_vimeo11k_LPIPS_cheng2020_attn_quality2_FRtuning.ckpt\n"
     ]
    },
    {
     "data": {
      "application/vnd.jupyter.widget-view+json": {
       "model_id": "ffd82ef51e724ba2a5d00c272ee9b2e2",
       "version_major": 2,
       "version_minor": 0
      },
      "text/plain": [
       "0it [00:00, ?it/s]"
      ]
     },
     "metadata": {},
     "output_type": "display_data"
    },
    {
     "data": {
      "application/vnd.jupyter.widget-view+json": {
       "model_id": "bf4253d7af90493b9eae92a434ca86ec",
       "version_major": 2,
       "version_minor": 0
      },
      "text/plain": [
       "0it [00:00, ?it/s]"
      ]
     },
     "metadata": {},
     "output_type": "display_data"
    },
    {
     "name": "stdout",
     "output_type": "stream",
     "text": [
      "[{'mse': [0.0057250857, 0.005187997], 'bpp_loss': [0.7359091, 1.6144273], 'loss_classic': [4.4586463, 4.9879227], 'PSNR': [22.561075, 22.952204], 'loss': [0.0057250857, 0.005187997]}]\n",
      "LPIPS1 ./models_enhancement_FR/model_vimeo11k_LPIPS1_no_codec_FRtuning.ckpt\n"
     ]
    },
    {
     "data": {
      "application/vnd.jupyter.widget-view+json": {
       "model_id": "d671129ab9fa4740b1afae93df8e6838",
       "version_major": 2,
       "version_minor": 0
      },
      "text/plain": [
       "0it [00:00, ?it/s]"
      ]
     },
     "metadata": {},
     "output_type": "display_data"
    },
    {
     "data": {
      "application/vnd.jupyter.widget-view+json": {
       "model_id": "554d9765820f4dd7a8053934f1e94392",
       "version_major": 2,
       "version_minor": 0
      },
      "text/plain": [
       "0it [00:00, ?it/s]"
      ]
     },
     "metadata": {},
     "output_type": "display_data"
    },
    {
     "name": "stdout",
     "output_type": "stream",
     "text": [
      "[{'mse': [0.0030327232, 0.002108459], 'bpp_loss': [0.5684514, 1.2964046], 'loss_classic': [2.5404797, 2.6674302], 'PSNR': [25.567787, 27.07354], 'loss': [0.0030327232, 0.002108459]}]\n"
     ]
    },
    {
     "data": {
      "application/vnd.jupyter.widget-view+json": {
       "model_id": "830b6bd509824893ad7bd9269251f0a1",
       "version_major": 2,
       "version_minor": 0
      },
      "text/plain": [
       "0it [00:00, ?it/s]"
      ]
     },
     "metadata": {},
     "output_type": "display_data"
    },
    {
     "name": "stdout",
     "output_type": "stream",
     "text": [
      "DISTS ./models_enhancement_FR/model_vimeo11k_DISTS_cheng2020_attn_quality2_FRtuning.ckpt\n"
     ]
    },
    {
     "data": {
      "application/vnd.jupyter.widget-view+json": {
       "model_id": "33c2e167b30c424ba5df664f5794eafd",
       "version_major": 2,
       "version_minor": 0
      },
      "text/plain": [
       "0it [00:00, ?it/s]"
      ]
     },
     "metadata": {},
     "output_type": "display_data"
    },
    {
     "data": {
      "application/vnd.jupyter.widget-view+json": {
       "model_id": "f2c3ef33a0094c27b1bf58e41ed5c05b",
       "version_major": 2,
       "version_minor": 0
      },
      "text/plain": [
       "0it [00:00, ?it/s]"
      ]
     },
     "metadata": {},
     "output_type": "display_data"
    },
    {
     "name": "stdout",
     "output_type": "stream",
     "text": [
      "[{'mse': [0.0034762602, 0.0035067478], 'bpp_loss': [0.1561439, 0.31927735], 'loss_classic': [2.416582, 2.59954], 'PSNR': [24.706194, 24.663599], 'loss': [0.0034762602, 0.0035067478]}]\n",
      "LPIPS ./models_enhancement_FR/model_vimeo11k_LPIPS_cheng2020_attn_quality2_FRtuning.ckpt\n"
     ]
    },
    {
     "data": {
      "application/vnd.jupyter.widget-view+json": {
       "model_id": "a55dcce4a7264933980ee0bb00c6cbd5",
       "version_major": 2,
       "version_minor": 0
      },
      "text/plain": [
       "0it [00:00, ?it/s]"
      ]
     },
     "metadata": {},
     "output_type": "display_data"
    },
    {
     "data": {
      "application/vnd.jupyter.widget-view+json": {
       "model_id": "ce85504799454d52bdaab9a4f2cd7e4e",
       "version_major": 2,
       "version_minor": 0
      },
      "text/plain": [
       "0it [00:00, ?it/s]"
      ]
     },
     "metadata": {},
     "output_type": "display_data"
    },
    {
     "name": "stdout",
     "output_type": "stream",
     "text": [
      "[{'mse': [0.0037876, 0.0038954022], 'bpp_loss': [0.19898957, 0.7389284], 'loss_classic': [2.6618764, 3.2719135], 'PSNR': [24.271559, 24.152569], 'loss': [0.0037876, 0.0038954022]}]\n",
      "LPIPS1 ./models_enhancement_FR/model_vimeo11k_LPIPS1_no_codec_FRtuning.ckpt\n"
     ]
    },
    {
     "data": {
      "application/vnd.jupyter.widget-view+json": {
       "model_id": "34ad7af8159b4946ae22ebd496718860",
       "version_major": 2,
       "version_minor": 0
      },
      "text/plain": [
       "0it [00:00, ?it/s]"
      ]
     },
     "metadata": {},
     "output_type": "display_data"
    },
    {
     "data": {
      "application/vnd.jupyter.widget-view+json": {
       "model_id": "a1b34b143ddc4ff9b9a63df546be1489",
       "version_major": 2,
       "version_minor": 0
      },
      "text/plain": [
       "0it [00:00, ?it/s]"
      ]
     },
     "metadata": {},
     "output_type": "display_data"
    },
    {
     "name": "stdout",
     "output_type": "stream",
     "text": [
      "[{'mse': [0.0009992789, 0.0009384486], 'bpp_loss': [0.14086363, 0.3019377], 'loss_classic': [0.79064465, 0.9121639], 'PSNR': [30.126534, 30.380238], 'loss': [0.0009992789, 0.0009384486]}]\n"
     ]
    },
    {
     "data": {
      "application/vnd.jupyter.widget-view+json": {
       "model_id": "04ee7f12c8fa4c74949f629d8c86160d",
       "version_major": 2,
       "version_minor": 0
      },
      "text/plain": [
       "0it [00:00, ?it/s]"
      ]
     },
     "metadata": {},
     "output_type": "display_data"
    },
    {
     "name": "stdout",
     "output_type": "stream",
     "text": [
      "DISTS ./models_enhancement_FR/model_vimeo11k_DISTS_cheng2020_attn_quality2_FRtuning.ckpt\n"
     ]
    },
    {
     "data": {
      "application/vnd.jupyter.widget-view+json": {
       "model_id": "6d687aa09ca54564a772a88e961cd61a",
       "version_major": 2,
       "version_minor": 0
      },
      "text/plain": [
       "0it [00:00, ?it/s]"
      ]
     },
     "metadata": {},
     "output_type": "display_data"
    },
    {
     "data": {
      "application/vnd.jupyter.widget-view+json": {
       "model_id": "2ba0882cf8f34f19bcf2aca757825f7b",
       "version_major": 2,
       "version_minor": 0
      },
      "text/plain": [
       "0it [00:00, ?it/s]"
      ]
     },
     "metadata": {},
     "output_type": "display_data"
    },
    {
     "name": "stdout",
     "output_type": "stream",
     "text": [
      "[{'mse': [0.0022235876, 0.0021544928], 'bpp_loss': [0.23711053, 0.49697062], 'loss_classic': [1.6829983, 1.8979295], 'PSNR': [26.52996, 26.667315], 'loss': [0.0022235876, 0.0021544928]}]\n",
      "LPIPS ./models_enhancement_FR/model_vimeo11k_LPIPS_cheng2020_attn_quality2_FRtuning.ckpt\n"
     ]
    },
    {
     "data": {
      "application/vnd.jupyter.widget-view+json": {
       "model_id": "28aac864a69c47809c32f20f1aa9b5c8",
       "version_major": 2,
       "version_minor": 0
      },
      "text/plain": [
       "0it [00:00, ?it/s]"
      ]
     },
     "metadata": {},
     "output_type": "display_data"
    },
    {
     "data": {
      "application/vnd.jupyter.widget-view+json": {
       "model_id": "0d0d721815824fc994e13b7cb2b0ed9c",
       "version_major": 2,
       "version_minor": 0
      },
      "text/plain": [
       "0it [00:00, ?it/s]"
      ]
     },
     "metadata": {},
     "output_type": "display_data"
    },
    {
     "name": "stdout",
     "output_type": "stream",
     "text": [
      "[{'mse': [0.0036938651, 0.003783966], 'bpp_loss': [0.39294052, 1.0156925], 'loss_classic': [2.794876, 3.4762163], 'PSNR': [24.327686, 24.222855], 'loss': [0.0036938651, 0.003783966]}]\n",
      "LPIPS1 ./models_enhancement_FR/model_vimeo11k_LPIPS1_no_codec_FRtuning.ckpt\n"
     ]
    },
    {
     "data": {
      "application/vnd.jupyter.widget-view+json": {
       "model_id": "ca5c9efd557848e5a591e9866fbf0462",
       "version_major": 2,
       "version_minor": 0
      },
      "text/plain": [
       "0it [00:00, ?it/s]"
      ]
     },
     "metadata": {},
     "output_type": "display_data"
    },
    {
     "data": {
      "application/vnd.jupyter.widget-view+json": {
       "model_id": "cb9bb420d13043518de88247f6ae070b",
       "version_major": 2,
       "version_minor": 0
      },
      "text/plain": [
       "0it [00:00, ?it/s]"
      ]
     },
     "metadata": {},
     "output_type": "display_data"
    },
    {
     "name": "stdout",
     "output_type": "stream",
     "text": [
      "[{'mse': [0.0009804403, 0.0007771174], 'bpp_loss': [0.2126495, 0.5675312], 'loss_classic': [0.8501808, 1.0728519], 'PSNR': [30.104065, 31.126713], 'loss': [0.0009804403, 0.0007771174]}]\n",
      "\n"
     ]
    },
    {
     "data": {
      "text/html": [
       "Waiting for W&B process to finish... <strong style=\"color:green\">(success).</strong>"
      ],
      "text/plain": [
       "<IPython.core.display.HTML object>"
      ]
     },
     "metadata": {},
     "output_type": "display_data"
    },
    {
     "data": {
      "application/vnd.jupyter.widget-view+json": {
       "model_id": "",
       "version_major": 2,
       "version_minor": 0
      },
      "text/plain": [
       "VBox(children=(Label(value='28.572 MB of 28.572 MB uploaded (0.000 MB deduped)\\r'), FloatProgress(value=1.0, m…"
      ]
     },
     "metadata": {},
     "output_type": "display_data"
    },
    {
     "data": {
      "text/html": [
       "Synced <strong style=\"color:#cdcd00\">RD_curves_all_met_18_03With Preprocessing</strong>: <a href=\"https://wandb.ai/havent_invented/Whitebox_strong_metrics_attacks/runs/y6294u2i\" target=\"_blank\">https://wandb.ai/havent_invented/Whitebox_strong_metrics_attacks/runs/y6294u2i</a><br/>Synced 7 W&B file(s), 21 media file(s), 21 artifact file(s) and 2 other file(s)"
      ],
      "text/plain": [
       "<IPython.core.display.HTML object>"
      ]
     },
     "metadata": {},
     "output_type": "display_data"
    },
    {
     "data": {
      "text/html": [
       "Find logs at: <code>.\\wandb\\run-20220404_101213-y6294u2i\\logs</code>"
      ],
      "text/plain": [
       "<IPython.core.display.HTML object>"
      ]
     },
     "metadata": {},
     "output_type": "display_data"
    },
    {
     "name": "stdout",
     "output_type": "stream",
     "text": [
      "[[[{'mse': [0.025219621, 0.025129039], 'bpp_loss': [0.23035115, 0.46911812], 'loss_classic': [16.62941, 16.809277], 'PSNR': [15.990639, 16.006283], 'loss': [0.025219621, 0.025129039]}], [{'mse': [0.0043443, 0.004616663], 'bpp_loss': [0.33612657, 0.9230267], 'loss_classic': [3.1610076, 3.9250116], 'PSNR': [23.63617, 23.369692], 'loss': [0.0043443, 0.004616663]}], [{'mse': [0.013609346, 0.013458308], 'bpp_loss': [0.19564843, 0.475619], 'loss_classic': [9.045126, 9.226883], 'PSNR': [18.667618, 18.71579], 'loss': [0.013609346, 0.013458308]}]], [[{'mse': [0.0062314565, 0.006257946], 'bpp_loss': [0.17781642, 0.36181518], 'loss_classic': [4.229821, 4.4310446], 'PSNR': [23.190529, 23.134956], 'loss': [0.0062314565, 0.006257946]}], [{'mse': [0.0036481693, 0.0036808462], 'bpp_loss': [0.24319395, 0.6721782], 'loss_classic': [2.615416, 3.0656483], 'PSNR': [24.625927, 24.626352], 'loss': [0.0036481693, 0.0036808462]}], [{'mse': [0.0027677342, 0.0026565068], 'bpp_loss': [0.14982046, 0.34715414], 'loss_classic': [1.9495397, 2.0745478], 'PSNR': [28.445179, 28.787117], 'loss': [0.0027677342, 0.0026565068]}]], [[{'mse': [0.0035721199, 0.0035793255], 'bpp_loss': [0.116178, 0.20950091], 'loss_classic': [2.438949, 2.536957], 'PSNR': [24.848944, 24.840012], 'loss': [0.0035721199, 0.0035793255]}], [{'mse': [0.0037999852, 0.0038893702], 'bpp_loss': [0.11848969, 0.2602581], 'loss_classic': [2.58943, 2.7893212], 'PSNR': [24.267681, 24.166725], 'loss': [0.0037999852, 0.0038893702]}], [{'mse': [0.0008509642, 0.00084198767], 'bpp_loss': [0.10769888, 0.18522564], 'loss_classic': [0.6610384, 0.73272806], 'PSNR': [31.488537, 31.534294], 'loss': [0.0008509642, 0.00084198767]}]], [[{'mse': [0.0057892594, 0.005443074], 'bpp_loss': [0.3009068, 0.6222342], 'loss_classic': [4.065373, 4.161593], 'PSNR': [22.374165, 22.641895], 'loss': [0.0057892594, 0.005443074]}], [{'mse': [0.00421424, 0.003983882], 'bpp_loss': [0.6658632, 1.5228223], 'loss_classic': [3.4061728, 4.1133413], 'PSNR': [23.757206, 24.001432], 'loss': [0.00421424, 0.003983882]}], [{'mse': [0.0020659147, 0.0014444613], 'bpp_loss': [0.44859385, 1.1435697], 'loss_classic': [1.7919549, 2.0828304], 'PSNR': [26.849422, 28.404419], 'loss': [0.0020659147, 0.0014444613]}]], [[{'mse': [0.0092060305, 0.008666602], 'bpp_loss': [0.3144164, 0.6559278], 'loss_classic': [6.3006377, 6.2913857], 'PSNR': [20.74541, 20.9859], 'loss': [0.0092060305, 0.008666602]}], [{'mse': [0.0057250857, 0.005187997], 'bpp_loss': [0.7359091, 1.6144273], 'loss_classic': [4.4586463, 4.9879227], 'PSNR': [22.561075, 22.952204], 'loss': [0.0057250857, 0.005187997]}], [{'mse': [0.0030327232, 0.002108459], 'bpp_loss': [0.5684514, 1.2964046], 'loss_classic': [2.5404797, 2.6674302], 'PSNR': [25.567787, 27.07354], 'loss': [0.0030327232, 0.002108459]}]], [[{'mse': [0.0034762602, 0.0035067478], 'bpp_loss': [0.1561439, 0.31927735], 'loss_classic': [2.416582, 2.59954], 'PSNR': [24.706194, 24.663599], 'loss': [0.0034762602, 0.0035067478]}], [{'mse': [0.0037876, 0.0038954022], 'bpp_loss': [0.19898957, 0.7389284], 'loss_classic': [2.6618764, 3.2719135], 'PSNR': [24.271559, 24.152569], 'loss': [0.0037876, 0.0038954022]}], [{'mse': [0.0009992789, 0.0009384486], 'bpp_loss': [0.14086363, 0.3019377], 'loss_classic': [0.79064465, 0.9121639], 'PSNR': [30.126534, 30.380238], 'loss': [0.0009992789, 0.0009384486]}]], [[{'mse': [0.0022235876, 0.0021544928], 'bpp_loss': [0.23711053, 0.49697062], 'loss_classic': [1.6829983, 1.8979295], 'PSNR': [26.52996, 26.667315], 'loss': [0.0022235876, 0.0021544928]}], [{'mse': [0.0036938651, 0.003783966], 'bpp_loss': [0.39294052, 1.0156925], 'loss_classic': [2.794876, 3.4762163], 'PSNR': [24.327686, 24.222855], 'loss': [0.0036938651, 0.003783966]}], [{'mse': [0.0009804403, 0.0007771174], 'bpp_loss': [0.2126495, 0.5675312], 'loss_classic': [0.8501808, 1.0728519], 'PSNR': [30.104065, 31.126713], 'loss': [0.0009804403, 0.0007771174]}]]]\n"
     ]
    },
    {
     "data": {
      "text/html": [
       "Tracking run with wandb version 0.12.11"
      ],
      "text/plain": [
       "<IPython.core.display.HTML object>"
      ]
     },
     "metadata": {},
     "output_type": "display_data"
    },
    {
     "data": {
      "text/html": [
       "Run data is saved locally in <code>E:\\VMAF_METRIX\\NeuralNetworkCompression\\wandb\\run-20220404_103054-91v9jgt4</code>"
      ],
      "text/plain": [
       "<IPython.core.display.HTML object>"
      ]
     },
     "metadata": {},
     "output_type": "display_data"
    },
    {
     "data": {
      "text/html": [
       "Syncing run <strong><a href=\"https://wandb.ai/havent_invented/Whitebox_strong_metrics_attacks/runs/91v9jgt4\" target=\"_blank\">RD_curves_all_met_18_03Without Preprocessing</a></strong> to <a href=\"https://wandb.ai/havent_invented/Whitebox_strong_metrics_attacks\" target=\"_blank\">Weights & Biases</a> (<a href=\"https://wandb.me/run\" target=\"_blank\">docs</a>)<br/>"
      ],
      "text/plain": [
       "<IPython.core.display.HTML object>"
      ]
     },
     "metadata": {},
     "output_type": "display_data"
    },
    {
     "data": {
      "application/vnd.jupyter.widget-view+json": {
       "model_id": "baa970a7d3f247c4978ba5f36668038f",
       "version_major": 2,
       "version_minor": 0
      },
      "text/plain": [
       "0it [00:00, ?it/s]"
      ]
     },
     "metadata": {},
     "output_type": "display_data"
    },
    {
     "data": {
      "application/vnd.jupyter.widget-view+json": {
       "model_id": "ac8f8070ec7b44dcb1f6b6d4ce4721af",
       "version_major": 2,
       "version_minor": 0
      },
      "text/plain": [
       "0it [00:00, ?it/s]"
      ]
     },
     "metadata": {},
     "output_type": "display_data"
    },
    {
     "name": "stdout",
     "output_type": "stream",
     "text": [
      "DISTS ./models_enhancement_FR/model_vimeo11k_DISTS_cheng2020_attn_quality2_FRtuning.ckpt\n"
     ]
    },
    {
     "data": {
      "application/vnd.jupyter.widget-view+json": {
       "model_id": "6d29dbd49e594fde82bc0e1e2b7af37c",
       "version_major": 2,
       "version_minor": 0
      },
      "text/plain": [
       "0it [00:00, ?it/s]"
      ]
     },
     "metadata": {},
     "output_type": "display_data"
    },
    {
     "data": {
      "application/vnd.jupyter.widget-view+json": {
       "model_id": "a169428e6f4d48a381cb14259e66a116",
       "version_major": 2,
       "version_minor": 0
      },
      "text/plain": [
       "0it [00:00, ?it/s]"
      ]
     },
     "metadata": {},
     "output_type": "display_data"
    },
    {
     "name": "stdout",
     "output_type": "stream",
     "text": [
      "[{'mse': [0.000101964266], 'bpp_loss': [0.021601094], 'loss_classic': [0.087903365], 'PSNR': [39.916092], 'DISTS': [0.005979295], 'loss': [11.958692], 'bitrate': [37.082368]}]\n",
      "LPIPS ./models_enhancement_FR/model_vimeo11k_LPIPS_cheng2020_attn_quality2_FRtuning.ckpt\n"
     ]
    },
    {
     "data": {
      "application/vnd.jupyter.widget-view+json": {
       "model_id": "6f98667cda7d4730bed49232174a810f",
       "version_major": 2,
       "version_minor": 0
      },
      "text/plain": [
       "0it [00:00, ?it/s]"
      ]
     },
     "metadata": {},
     "output_type": "display_data"
    },
    {
     "data": {
      "application/vnd.jupyter.widget-view+json": {
       "model_id": "a1d07b30763d4b7fb1bb0a52b07ad374",
       "version_major": 2,
       "version_minor": 0
      },
      "text/plain": [
       "0it [00:00, ?it/s]"
      ]
     },
     "metadata": {},
     "output_type": "display_data"
    },
    {
     "name": "stdout",
     "output_type": "stream",
     "text": [
      "[{'mse': [0.000101964266], 'bpp_loss': [0.021601094], 'loss_classic': [0.087903365], 'PSNR': [39.916092], 'LPIPS': [0.13744977], 'loss': [274.89966], 'bitrate': [37.082368]}]\n",
      "LPIPS1 ./models_enhancement_FR/model_vimeo11k_LPIPS1_no_codec_FRtuning.ckpt\n"
     ]
    },
    {
     "data": {
      "application/vnd.jupyter.widget-view+json": {
       "model_id": "40593ff110884d17872d6011af68ebbf",
       "version_major": 2,
       "version_minor": 0
      },
      "text/plain": [
       "0it [00:00, ?it/s]"
      ]
     },
     "metadata": {},
     "output_type": "display_data"
    },
    {
     "data": {
      "application/vnd.jupyter.widget-view+json": {
       "model_id": "7a5e805355e64b8a8311500e565f5923",
       "version_major": 2,
       "version_minor": 0
      },
      "text/plain": [
       "0it [00:00, ?it/s]"
      ]
     },
     "metadata": {},
     "output_type": "display_data"
    },
    {
     "name": "stdout",
     "output_type": "stream",
     "text": [
      "[{'mse': [0.000101964266], 'bpp_loss': [0.021601094], 'loss_classic': [0.087903365], 'PSNR': [39.916092], 'LPIPS1': [0.13744977], 'loss': [274.89966], 'bitrate': [37.082368]}]\n"
     ]
    },
    {
     "data": {
      "application/vnd.jupyter.widget-view+json": {
       "model_id": "d740cbb6680f4e04936b4e1689a85f28",
       "version_major": 2,
       "version_minor": 0
      },
      "text/plain": [
       "0it [00:00, ?it/s]"
      ]
     },
     "metadata": {},
     "output_type": "display_data"
    },
    {
     "name": "stdout",
     "output_type": "stream",
     "text": [
      "DISTS ./models_enhancement_FR/model_vimeo11k_DISTS_cheng2020_attn_quality2_FRtuning.ckpt\n"
     ]
    },
    {
     "data": {
      "application/vnd.jupyter.widget-view+json": {
       "model_id": "361f5b50a4ab433db79512e6e7ad531c",
       "version_major": 2,
       "version_minor": 0
      },
      "text/plain": [
       "0it [00:00, ?it/s]"
      ]
     },
     "metadata": {},
     "output_type": "display_data"
    },
    {
     "data": {
      "application/vnd.jupyter.widget-view+json": {
       "model_id": "ff160a64ee654feca232528a3596e14a",
       "version_major": 2,
       "version_minor": 0
      },
      "text/plain": [
       "0it [00:00, ?it/s]"
      ]
     },
     "metadata": {},
     "output_type": "display_data"
    },
    {
     "name": "stdout",
     "output_type": "stream",
     "text": [
      "[{'mse': [6.745432e-05], 'bpp_loss': [0.021601094], 'loss_classic': [0.065463275], 'PSNR': [41.733864], 'DISTS': [0.006074436], 'loss': [12.148939], 'bitrate': [26.11085]}]\n",
      "LPIPS ./models_enhancement_FR/model_vimeo11k_LPIPS_cheng2020_attn_quality2_FRtuning.ckpt\n"
     ]
    },
    {
     "data": {
      "application/vnd.jupyter.widget-view+json": {
       "model_id": "8f1eccf235e54e38b0d8e016da69aaa2",
       "version_major": 2,
       "version_minor": 0
      },
      "text/plain": [
       "0it [00:00, ?it/s]"
      ]
     },
     "metadata": {},
     "output_type": "display_data"
    },
    {
     "data": {
      "application/vnd.jupyter.widget-view+json": {
       "model_id": "abad67cf5ddf4447b78c7ccfef6abc8a",
       "version_major": 2,
       "version_minor": 0
      },
      "text/plain": [
       "0it [00:00, ?it/s]"
      ]
     },
     "metadata": {},
     "output_type": "display_data"
    },
    {
     "name": "stdout",
     "output_type": "stream",
     "text": [
      "[{'mse': [6.745432e-05], 'bpp_loss': [0.021601094], 'loss_classic': [0.065463275], 'PSNR': [41.733864], 'LPIPS': [0.06619534], 'loss': [132.39075], 'bitrate': [26.11085]}]\n",
      "LPIPS1 ./models_enhancement_FR/model_vimeo11k_LPIPS1_no_codec_FRtuning.ckpt\n"
     ]
    },
    {
     "data": {
      "application/vnd.jupyter.widget-view+json": {
       "model_id": "4ef11bc7a40348e0aeb170be25319757",
       "version_major": 2,
       "version_minor": 0
      },
      "text/plain": [
       "0it [00:00, ?it/s]"
      ]
     },
     "metadata": {},
     "output_type": "display_data"
    },
    {
     "data": {
      "application/vnd.jupyter.widget-view+json": {
       "model_id": "913d8a1ff2eb4381b00da6b0e3983b2b",
       "version_major": 2,
       "version_minor": 0
      },
      "text/plain": [
       "0it [00:00, ?it/s]"
      ]
     },
     "metadata": {},
     "output_type": "display_data"
    },
    {
     "name": "stdout",
     "output_type": "stream",
     "text": [
      "[{'mse': [6.745432e-05], 'bpp_loss': [0.021601094], 'loss_classic': [0.065463275], 'PSNR': [41.733864], 'LPIPS1': [0.06619534], 'loss': [132.39075], 'bitrate': [26.11085]}]\n"
     ]
    },
    {
     "data": {
      "application/vnd.jupyter.widget-view+json": {
       "model_id": "f5186ce19be24706bb6b18350cbbe743",
       "version_major": 2,
       "version_minor": 0
      },
      "text/plain": [
       "0it [00:00, ?it/s]"
      ]
     },
     "metadata": {},
     "output_type": "display_data"
    },
    {
     "name": "stdout",
     "output_type": "stream",
     "text": [
      "DISTS ./models_enhancement_FR/model_vimeo11k_DISTS_cheng2020_attn_quality2_FRtuning.ckpt\n"
     ]
    },
    {
     "data": {
      "application/vnd.jupyter.widget-view+json": {
       "model_id": "a429196b453141c3bbb1c568f75cdb7d",
       "version_major": 2,
       "version_minor": 0
      },
      "text/plain": [
       "0it [00:00, ?it/s]"
      ]
     },
     "metadata": {},
     "output_type": "display_data"
    },
    {
     "data": {
      "application/vnd.jupyter.widget-view+json": {
       "model_id": "943266d4a1cb49a59babcf58dd8b5b0f",
       "version_major": 2,
       "version_minor": 0
      },
      "text/plain": [
       "0it [00:00, ?it/s]"
      ]
     },
     "metadata": {},
     "output_type": "display_data"
    },
    {
     "name": "stdout",
     "output_type": "stream",
     "text": [
      "[{'mse': [8.4347565e-05], 'bpp_loss': [0.021601094], 'loss_classic': [0.07644809], 'PSNR': [40.870514], 'DISTS': [0.010353693], 'loss': [20.70747], 'bitrate': [29.760553]}]\n",
      "LPIPS ./models_enhancement_FR/model_vimeo11k_LPIPS_cheng2020_attn_quality2_FRtuning.ckpt\n"
     ]
    },
    {
     "data": {
      "application/vnd.jupyter.widget-view+json": {
       "model_id": "cf683c81d4aa421e9c3289bb35ada01c",
       "version_major": 2,
       "version_minor": 0
      },
      "text/plain": [
       "0it [00:00, ?it/s]"
      ]
     },
     "metadata": {},
     "output_type": "display_data"
    },
    {
     "data": {
      "application/vnd.jupyter.widget-view+json": {
       "model_id": "7c84ead43ef148bd964887229b9685e8",
       "version_major": 2,
       "version_minor": 0
      },
      "text/plain": [
       "0it [00:00, ?it/s]"
      ]
     },
     "metadata": {},
     "output_type": "display_data"
    },
    {
     "name": "stdout",
     "output_type": "stream",
     "text": [
      "[{'mse': [8.4347565e-05], 'bpp_loss': [0.021601094], 'loss_classic': [0.07644809], 'PSNR': [40.870514], 'LPIPS': [0.15041555], 'loss': [300.83118], 'bitrate': [29.760553]}]\n",
      "LPIPS1 ./models_enhancement_FR/model_vimeo11k_LPIPS1_no_codec_FRtuning.ckpt\n"
     ]
    },
    {
     "data": {
      "application/vnd.jupyter.widget-view+json": {
       "model_id": "dd15f6db51e0445eac635383c602619f",
       "version_major": 2,
       "version_minor": 0
      },
      "text/plain": [
       "0it [00:00, ?it/s]"
      ]
     },
     "metadata": {},
     "output_type": "display_data"
    },
    {
     "data": {
      "application/vnd.jupyter.widget-view+json": {
       "model_id": "6d0896b714814e6790e8ad0f8fc61e10",
       "version_major": 2,
       "version_minor": 0
      },
      "text/plain": [
       "0it [00:00, ?it/s]"
      ]
     },
     "metadata": {},
     "output_type": "display_data"
    },
    {
     "name": "stdout",
     "output_type": "stream",
     "text": [
      "[{'mse': [8.4347565e-05], 'bpp_loss': [0.021601094], 'loss_classic': [0.07644809], 'PSNR': [40.870514], 'LPIPS1': [0.15041554], 'loss': [300.83118], 'bitrate': [29.760553]}]\n"
     ]
    },
    {
     "data": {
      "application/vnd.jupyter.widget-view+json": {
       "model_id": "9b1de0461fa743b18d53691d0839d50e",
       "version_major": 2,
       "version_minor": 0
      },
      "text/plain": [
       "0it [00:00, ?it/s]"
      ]
     },
     "metadata": {},
     "output_type": "display_data"
    },
    {
     "name": "stdout",
     "output_type": "stream",
     "text": [
      "DISTS ./models_enhancement_FR/model_vimeo11k_DISTS_cheng2020_attn_quality2_FRtuning.ckpt\n"
     ]
    },
    {
     "data": {
      "application/vnd.jupyter.widget-view+json": {
       "model_id": "6978a228362e47a78307fb5633097d40",
       "version_major": 2,
       "version_minor": 0
      },
      "text/plain": [
       "0it [00:00, ?it/s]"
      ]
     },
     "metadata": {},
     "output_type": "display_data"
    },
    {
     "data": {
      "application/vnd.jupyter.widget-view+json": {
       "model_id": "0ee7f18d6b7e457886785198bd64774b",
       "version_major": 2,
       "version_minor": 0
      },
      "text/plain": [
       "0it [00:00, ?it/s]"
      ]
     },
     "metadata": {},
     "output_type": "display_data"
    },
    {
     "name": "stdout",
     "output_type": "stream",
     "text": [
      "[{'mse': [0.00039515417], 'bpp_loss': [0.021601094], 'loss_classic': [0.27855006], 'PSNR': [34.032417], 'DISTS': [0.0057077557], 'loss': [11.415907], 'bitrate': [85.281406]}]\n",
      "LPIPS ./models_enhancement_FR/model_vimeo11k_LPIPS_cheng2020_attn_quality2_FRtuning.ckpt\n"
     ]
    },
    {
     "data": {
      "application/vnd.jupyter.widget-view+json": {
       "model_id": "149c65c4fc704a319f6bef1068666d7b",
       "version_major": 2,
       "version_minor": 0
      },
      "text/plain": [
       "0it [00:00, ?it/s]"
      ]
     },
     "metadata": {},
     "output_type": "display_data"
    },
    {
     "data": {
      "application/vnd.jupyter.widget-view+json": {
       "model_id": "2354e2f1e4724a4781ccb005b69b1bf4",
       "version_major": 2,
       "version_minor": 0
      },
      "text/plain": [
       "0it [00:00, ?it/s]"
      ]
     },
     "metadata": {},
     "output_type": "display_data"
    },
    {
     "name": "stdout",
     "output_type": "stream",
     "text": [
      "[{'mse': [0.00039515417], 'bpp_loss': [0.021601094], 'loss_classic': [0.27855006], 'PSNR': [34.032417], 'LPIPS': [0.1447667], 'loss': [289.5338], 'bitrate': [85.281406]}]\n",
      "LPIPS1 ./models_enhancement_FR/model_vimeo11k_LPIPS1_no_codec_FRtuning.ckpt\n"
     ]
    },
    {
     "data": {
      "application/vnd.jupyter.widget-view+json": {
       "model_id": "3740aa7d2f484b7aa0ddd93ee0357bfe",
       "version_major": 2,
       "version_minor": 0
      },
      "text/plain": [
       "0it [00:00, ?it/s]"
      ]
     },
     "metadata": {},
     "output_type": "display_data"
    },
    {
     "data": {
      "application/vnd.jupyter.widget-view+json": {
       "model_id": "47ba25ac931f4a5f879c71445aeec583",
       "version_major": 2,
       "version_minor": 0
      },
      "text/plain": [
       "0it [00:00, ?it/s]"
      ]
     },
     "metadata": {},
     "output_type": "display_data"
    },
    {
     "name": "stdout",
     "output_type": "stream",
     "text": [
      "[{'mse': [0.00039515417], 'bpp_loss': [0.021601094], 'loss_classic': [0.27855006], 'PSNR': [34.032417], 'LPIPS1': [0.1447667], 'loss': [289.5338], 'bitrate': [85.281406]}]\n"
     ]
    },
    {
     "data": {
      "application/vnd.jupyter.widget-view+json": {
       "model_id": "6286dfa145c3459dac8a705c7dd50351",
       "version_major": 2,
       "version_minor": 0
      },
      "text/plain": [
       "0it [00:00, ?it/s]"
      ]
     },
     "metadata": {},
     "output_type": "display_data"
    },
    {
     "name": "stdout",
     "output_type": "stream",
     "text": [
      "DISTS ./models_enhancement_FR/model_vimeo11k_DISTS_cheng2020_attn_quality2_FRtuning.ckpt\n"
     ]
    },
    {
     "data": {
      "application/vnd.jupyter.widget-view+json": {
       "model_id": "a44bcfb140d14b089f32d4d3bcd650c9",
       "version_major": 2,
       "version_minor": 0
      },
      "text/plain": [
       "0it [00:00, ?it/s]"
      ]
     },
     "metadata": {},
     "output_type": "display_data"
    },
    {
     "data": {
      "application/vnd.jupyter.widget-view+json": {
       "model_id": "466a0183341a4012b2774478ffd6c6ea",
       "version_major": 2,
       "version_minor": 0
      },
      "text/plain": [
       "0it [00:00, ?it/s]"
      ]
     },
     "metadata": {},
     "output_type": "display_data"
    },
    {
     "name": "stdout",
     "output_type": "stream",
     "text": [
      "[{'mse': [0.00042530295], 'bpp_loss': [0.021601094], 'loss_classic': [0.29815435], 'PSNR': [33.773323], 'DISTS': [0.006885873], 'loss': [13.772172], 'bitrate': [126.181125]}]\n",
      "LPIPS ./models_enhancement_FR/model_vimeo11k_LPIPS_cheng2020_attn_quality2_FRtuning.ckpt\n"
     ]
    },
    {
     "data": {
      "application/vnd.jupyter.widget-view+json": {
       "model_id": "6ae3796591ec420fbd14fc7551ea9d23",
       "version_major": 2,
       "version_minor": 0
      },
      "text/plain": [
       "0it [00:00, ?it/s]"
      ]
     },
     "metadata": {},
     "output_type": "display_data"
    },
    {
     "data": {
      "application/vnd.jupyter.widget-view+json": {
       "model_id": "3f72b115e0b6495786fa856f11eda534",
       "version_major": 2,
       "version_minor": 0
      },
      "text/plain": [
       "0it [00:00, ?it/s]"
      ]
     },
     "metadata": {},
     "output_type": "display_data"
    },
    {
     "name": "stdout",
     "output_type": "stream",
     "text": [
      "[{'mse': [0.00042530295], 'bpp_loss': [0.021601094], 'loss_classic': [0.29815435], 'PSNR': [33.773323], 'LPIPS': [0.12554497], 'loss': [251.09036], 'bitrate': [126.181125]}]\n",
      "LPIPS1 ./models_enhancement_FR/model_vimeo11k_LPIPS1_no_codec_FRtuning.ckpt\n"
     ]
    },
    {
     "data": {
      "application/vnd.jupyter.widget-view+json": {
       "model_id": "4cea673a299945c1a865b85f6d454b42",
       "version_major": 2,
       "version_minor": 0
      },
      "text/plain": [
       "0it [00:00, ?it/s]"
      ]
     },
     "metadata": {},
     "output_type": "display_data"
    },
    {
     "data": {
      "application/vnd.jupyter.widget-view+json": {
       "model_id": "322a6f30fb644b2a9b1a6fa17756bac8",
       "version_major": 2,
       "version_minor": 0
      },
      "text/plain": [
       "0it [00:00, ?it/s]"
      ]
     },
     "metadata": {},
     "output_type": "display_data"
    },
    {
     "name": "stdout",
     "output_type": "stream",
     "text": [
      "[{'mse': [0.00042530295], 'bpp_loss': [0.021601094], 'loss_classic': [0.29815435], 'PSNR': [33.773323], 'LPIPS1': [0.12554497], 'loss': [251.09036], 'bitrate': [126.181125]}]\n"
     ]
    },
    {
     "data": {
      "application/vnd.jupyter.widget-view+json": {
       "model_id": "66dbd35b5fef453d9f4ff435c0a79ea4",
       "version_major": 2,
       "version_minor": 0
      },
      "text/plain": [
       "0it [00:00, ?it/s]"
      ]
     },
     "metadata": {},
     "output_type": "display_data"
    },
    {
     "name": "stdout",
     "output_type": "stream",
     "text": [
      "DISTS ./models_enhancement_FR/model_vimeo11k_DISTS_cheng2020_attn_quality2_FRtuning.ckpt\n"
     ]
    },
    {
     "data": {
      "application/vnd.jupyter.widget-view+json": {
       "model_id": "958e6aee8c37408d9e5e6b3443b73982",
       "version_major": 2,
       "version_minor": 0
      },
      "text/plain": [
       "0it [00:00, ?it/s]"
      ]
     },
     "metadata": {},
     "output_type": "display_data"
    },
    {
     "data": {
      "application/vnd.jupyter.widget-view+json": {
       "model_id": "ee5def141a3e4bf2a078aa38715c048b",
       "version_major": 2,
       "version_minor": 0
      },
      "text/plain": [
       "0it [00:00, ?it/s]"
      ]
     },
     "metadata": {},
     "output_type": "display_data"
    },
    {
     "name": "stdout",
     "output_type": "stream",
     "text": [
      "[{'mse': [0.00012663248], 'bpp_loss': [0.021601094], 'loss_classic': [0.10394387], 'PSNR': [38.975235], 'DISTS': [0.0057401033], 'loss': [11.480333], 'bitrate': [37.012784]}]\n",
      "LPIPS ./models_enhancement_FR/model_vimeo11k_LPIPS_cheng2020_attn_quality2_FRtuning.ckpt\n"
     ]
    },
    {
     "data": {
      "application/vnd.jupyter.widget-view+json": {
       "model_id": "ab29604504194b8a9d75d413fa497587",
       "version_major": 2,
       "version_minor": 0
      },
      "text/plain": [
       "0it [00:00, ?it/s]"
      ]
     },
     "metadata": {},
     "output_type": "display_data"
    },
    {
     "data": {
      "application/vnd.jupyter.widget-view+json": {
       "model_id": "168baef7f39049bea04ee462529b8d4b",
       "version_major": 2,
       "version_minor": 0
      },
      "text/plain": [
       "0it [00:00, ?it/s]"
      ]
     },
     "metadata": {},
     "output_type": "display_data"
    },
    {
     "name": "stdout",
     "output_type": "stream",
     "text": [
      "[{'mse': [0.00012663248], 'bpp_loss': [0.021601094], 'loss_classic': [0.10394387], 'PSNR': [38.975235], 'LPIPS': [0.17539708], 'loss': [350.79428], 'bitrate': [37.012784]}]\n",
      "LPIPS1 ./models_enhancement_FR/model_vimeo11k_LPIPS1_no_codec_FRtuning.ckpt\n"
     ]
    },
    {
     "data": {
      "application/vnd.jupyter.widget-view+json": {
       "model_id": "c1454902ea1d465f950a30368f11e318",
       "version_major": 2,
       "version_minor": 0
      },
      "text/plain": [
       "0it [00:00, ?it/s]"
      ]
     },
     "metadata": {},
     "output_type": "display_data"
    },
    {
     "data": {
      "application/vnd.jupyter.widget-view+json": {
       "model_id": "eba019e44c5546bd99eb1a99b82d6b3d",
       "version_major": 2,
       "version_minor": 0
      },
      "text/plain": [
       "0it [00:00, ?it/s]"
      ]
     },
     "metadata": {},
     "output_type": "display_data"
    },
    {
     "name": "stdout",
     "output_type": "stream",
     "text": [
      "[{'mse': [0.00012663248], 'bpp_loss': [0.021601094], 'loss_classic': [0.10394387], 'PSNR': [38.975235], 'LPIPS1': [0.17539707], 'loss': [350.7943], 'bitrate': [37.012784]}]\n"
     ]
    },
    {
     "data": {
      "application/vnd.jupyter.widget-view+json": {
       "model_id": "47f6d937e6b34554912710de40854763",
       "version_major": 2,
       "version_minor": 0
      },
      "text/plain": [
       "0it [00:00, ?it/s]"
      ]
     },
     "metadata": {},
     "output_type": "display_data"
    },
    {
     "name": "stdout",
     "output_type": "stream",
     "text": [
      "DISTS ./models_enhancement_FR/model_vimeo11k_DISTS_cheng2020_attn_quality2_FRtuning.ckpt\n"
     ]
    },
    {
     "data": {
      "application/vnd.jupyter.widget-view+json": {
       "model_id": "343162dfd21c42b3ae63e30370bb0a38",
       "version_major": 2,
       "version_minor": 0
      },
      "text/plain": [
       "0it [00:00, ?it/s]"
      ]
     },
     "metadata": {},
     "output_type": "display_data"
    },
    {
     "data": {
      "application/vnd.jupyter.widget-view+json": {
       "model_id": "92e6ddfefb5f42c59006ecda40ea270c",
       "version_major": 2,
       "version_minor": 0
      },
      "text/plain": [
       "0it [00:00, ?it/s]"
      ]
     },
     "metadata": {},
     "output_type": "display_data"
    },
    {
     "name": "stdout",
     "output_type": "stream",
     "text": [
      "[{'mse': [0.00014569765], 'bpp_loss': [0.021601094], 'loss_classic': [0.11634099], 'PSNR': [38.366997], 'DISTS': [0.0047627687], 'loss': [9.525682], 'bitrate': [45.28285]}]\n",
      "LPIPS ./models_enhancement_FR/model_vimeo11k_LPIPS_cheng2020_attn_quality2_FRtuning.ckpt\n"
     ]
    },
    {
     "data": {
      "application/vnd.jupyter.widget-view+json": {
       "model_id": "8f5bcc82caa34dbdb3d1167483c2b888",
       "version_major": 2,
       "version_minor": 0
      },
      "text/plain": [
       "0it [00:00, ?it/s]"
      ]
     },
     "metadata": {},
     "output_type": "display_data"
    },
    {
     "data": {
      "application/vnd.jupyter.widget-view+json": {
       "model_id": "ea87f0c7615f4e73947c5d235a2bee73",
       "version_major": 2,
       "version_minor": 0
      },
      "text/plain": [
       "0it [00:00, ?it/s]"
      ]
     },
     "metadata": {},
     "output_type": "display_data"
    },
    {
     "name": "stdout",
     "output_type": "stream",
     "text": [
      "[{'mse': [0.00014569765], 'bpp_loss': [0.021601094], 'loss_classic': [0.11634099], 'PSNR': [38.366997], 'LPIPS': [0.17080335], 'loss': [341.60687], 'bitrate': [45.28285]}]\n",
      "LPIPS1 ./models_enhancement_FR/model_vimeo11k_LPIPS1_no_codec_FRtuning.ckpt\n"
     ]
    },
    {
     "data": {
      "application/vnd.jupyter.widget-view+json": {
       "model_id": "b3da17851eca43f98978e63c8c559fc7",
       "version_major": 2,
       "version_minor": 0
      },
      "text/plain": [
       "0it [00:00, ?it/s]"
      ]
     },
     "metadata": {},
     "output_type": "display_data"
    },
    {
     "data": {
      "application/vnd.jupyter.widget-view+json": {
       "model_id": "1a1a75eb41f648daaa58cb8e9fdea4f7",
       "version_major": 2,
       "version_minor": 0
      },
      "text/plain": [
       "0it [00:00, ?it/s]"
      ]
     },
     "metadata": {},
     "output_type": "display_data"
    },
    {
     "name": "stdout",
     "output_type": "stream",
     "text": [
      "[{'mse': [0.00014569765], 'bpp_loss': [0.021601094], 'loss_classic': [0.11634099], 'PSNR': [38.366997], 'LPIPS1': [0.17080334], 'loss': [341.60684], 'bitrate': [45.28285]}]\n",
      "\n"
     ]
    },
    {
     "data": {
      "text/html": [
       "Waiting for W&B process to finish... <strong style=\"color:green\">(success).</strong>"
      ],
      "text/plain": [
       "<IPython.core.display.HTML object>"
      ]
     },
     "metadata": {},
     "output_type": "display_data"
    },
    {
     "data": {
      "application/vnd.jupyter.widget-view+json": {
       "model_id": "",
       "version_major": 2,
       "version_minor": 0
      },
      "text/plain": [
       "VBox(children=(Label(value='28.608 MB of 28.608 MB uploaded (0.000 MB deduped)\\r'), FloatProgress(value=1.0, m…"
      ]
     },
     "metadata": {},
     "output_type": "display_data"
    },
    {
     "data": {
      "text/html": [
       "Synced <strong style=\"color:#cdcd00\">RD_curves_all_met_18_03Without Preprocessing</strong>: <a href=\"https://wandb.ai/havent_invented/Whitebox_strong_metrics_attacks/runs/91v9jgt4\" target=\"_blank\">https://wandb.ai/havent_invented/Whitebox_strong_metrics_attacks/runs/91v9jgt4</a><br/>Synced 7 W&B file(s), 21 media file(s), 21 artifact file(s) and 2 other file(s)"
      ],
      "text/plain": [
       "<IPython.core.display.HTML object>"
      ]
     },
     "metadata": {},
     "output_type": "display_data"
    },
    {
     "data": {
      "text/html": [
       "Find logs at: <code>.\\wandb\\run-20220404_103054-91v9jgt4\\logs</code>"
      ],
      "text/plain": [
       "<IPython.core.display.HTML object>"
      ]
     },
     "metadata": {},
     "output_type": "display_data"
    },
    {
     "name": "stdout",
     "output_type": "stream",
     "text": [
      "[[[{'mse': [0.000101964266], 'bpp_loss': [0.021601094], 'loss_classic': [0.087903365], 'PSNR': [39.916092], 'DISTS': [0.005979295], 'loss': [11.958692], 'bitrate': [37.082368]}], [{'mse': [0.000101964266], 'bpp_loss': [0.021601094], 'loss_classic': [0.087903365], 'PSNR': [39.916092], 'LPIPS': [0.13744977], 'loss': [274.89966], 'bitrate': [37.082368]}], [{'mse': [0.000101964266], 'bpp_loss': [0.021601094], 'loss_classic': [0.087903365], 'PSNR': [39.916092], 'LPIPS1': [0.13744977], 'loss': [274.89966], 'bitrate': [37.082368]}]], [[{'mse': [6.745432e-05], 'bpp_loss': [0.021601094], 'loss_classic': [0.065463275], 'PSNR': [41.733864], 'DISTS': [0.006074436], 'loss': [12.148939], 'bitrate': [26.11085]}], [{'mse': [6.745432e-05], 'bpp_loss': [0.021601094], 'loss_classic': [0.065463275], 'PSNR': [41.733864], 'LPIPS': [0.06619534], 'loss': [132.39075], 'bitrate': [26.11085]}], [{'mse': [6.745432e-05], 'bpp_loss': [0.021601094], 'loss_classic': [0.065463275], 'PSNR': [41.733864], 'LPIPS1': [0.06619534], 'loss': [132.39075], 'bitrate': [26.11085]}]], [[{'mse': [8.4347565e-05], 'bpp_loss': [0.021601094], 'loss_classic': [0.07644809], 'PSNR': [40.870514], 'DISTS': [0.010353693], 'loss': [20.70747], 'bitrate': [29.760553]}], [{'mse': [8.4347565e-05], 'bpp_loss': [0.021601094], 'loss_classic': [0.07644809], 'PSNR': [40.870514], 'LPIPS': [0.15041555], 'loss': [300.83118], 'bitrate': [29.760553]}], [{'mse': [8.4347565e-05], 'bpp_loss': [0.021601094], 'loss_classic': [0.07644809], 'PSNR': [40.870514], 'LPIPS1': [0.15041554], 'loss': [300.83118], 'bitrate': [29.760553]}]], [[{'mse': [0.00039515417], 'bpp_loss': [0.021601094], 'loss_classic': [0.27855006], 'PSNR': [34.032417], 'DISTS': [0.0057077557], 'loss': [11.415907], 'bitrate': [85.281406]}], [{'mse': [0.00039515417], 'bpp_loss': [0.021601094], 'loss_classic': [0.27855006], 'PSNR': [34.032417], 'LPIPS': [0.1447667], 'loss': [289.5338], 'bitrate': [85.281406]}], [{'mse': [0.00039515417], 'bpp_loss': [0.021601094], 'loss_classic': [0.27855006], 'PSNR': [34.032417], 'LPIPS1': [0.1447667], 'loss': [289.5338], 'bitrate': [85.281406]}]], [[{'mse': [0.00042530295], 'bpp_loss': [0.021601094], 'loss_classic': [0.29815435], 'PSNR': [33.773323], 'DISTS': [0.006885873], 'loss': [13.772172], 'bitrate': [126.181125]}], [{'mse': [0.00042530295], 'bpp_loss': [0.021601094], 'loss_classic': [0.29815435], 'PSNR': [33.773323], 'LPIPS': [0.12554497], 'loss': [251.09036], 'bitrate': [126.181125]}], [{'mse': [0.00042530295], 'bpp_loss': [0.021601094], 'loss_classic': [0.29815435], 'PSNR': [33.773323], 'LPIPS1': [0.12554497], 'loss': [251.09036], 'bitrate': [126.181125]}]], [[{'mse': [0.00012663248], 'bpp_loss': [0.021601094], 'loss_classic': [0.10394387], 'PSNR': [38.975235], 'DISTS': [0.0057401033], 'loss': [11.480333], 'bitrate': [37.012784]}], [{'mse': [0.00012663248], 'bpp_loss': [0.021601094], 'loss_classic': [0.10394387], 'PSNR': [38.975235], 'LPIPS': [0.17539708], 'loss': [350.79428], 'bitrate': [37.012784]}], [{'mse': [0.00012663248], 'bpp_loss': [0.021601094], 'loss_classic': [0.10394387], 'PSNR': [38.975235], 'LPIPS1': [0.17539707], 'loss': [350.7943], 'bitrate': [37.012784]}]], [[{'mse': [0.00014569765], 'bpp_loss': [0.021601094], 'loss_classic': [0.11634099], 'PSNR': [38.366997], 'DISTS': [0.0047627687], 'loss': [9.525682], 'bitrate': [45.28285]}], [{'mse': [0.00014569765], 'bpp_loss': [0.021601094], 'loss_classic': [0.11634099], 'PSNR': [38.366997], 'LPIPS': [0.17080335], 'loss': [341.60687], 'bitrate': [45.28285]}], [{'mse': [0.00014569765], 'bpp_loss': [0.021601094], 'loss_classic': [0.11634099], 'PSNR': [38.366997], 'LPIPS1': [0.17080334], 'loss': [341.60684], 'bitrate': [45.28285]}]]]\n"
     ]
    },
    {
     "data": {
      "text/html": [
       "Tracking run with wandb version 0.12.11"
      ],
      "text/plain": [
       "<IPython.core.display.HTML object>"
      ]
     },
     "metadata": {},
     "output_type": "display_data"
    },
    {
     "data": {
      "text/html": [
       "Run data is saved locally in <code>E:\\VMAF_METRIX\\NeuralNetworkCompression\\wandb\\run-20220404_105059-3rgcf190</code>"
      ],
      "text/plain": [
       "<IPython.core.display.HTML object>"
      ]
     },
     "metadata": {},
     "output_type": "display_data"
    },
    {
     "data": {
      "text/html": [
       "Syncing run <strong><a href=\"https://wandb.ai/havent_invented/Whitebox_strong_metrics_attacks/runs/3rgcf190\" target=\"_blank\">RD_curves_all_met_18_03Without Preprocessing</a></strong> to <a href=\"https://wandb.ai/havent_invented/Whitebox_strong_metrics_attacks\" target=\"_blank\">Weights & Biases</a> (<a href=\"https://wandb.me/run\" target=\"_blank\">docs</a>)<br/>"
      ],
      "text/plain": [
       "<IPython.core.display.HTML object>"
      ]
     },
     "metadata": {},
     "output_type": "display_data"
    },
    {
     "data": {
      "application/vnd.jupyter.widget-view+json": {
       "model_id": "94cffca07bd44c898a007e59ccbaa652",
       "version_major": 2,
       "version_minor": 0
      },
      "text/plain": [
       "0it [00:00, ?it/s]"
      ]
     },
     "metadata": {},
     "output_type": "display_data"
    },
    {
     "data": {
      "application/vnd.jupyter.widget-view+json": {
       "model_id": "a88a673cedb64e1389d1aef050f9d415",
       "version_major": 2,
       "version_minor": 0
      },
      "text/plain": [
       "0it [00:00, ?it/s]"
      ]
     },
     "metadata": {},
     "output_type": "display_data"
    },
    {
     "name": "stdout",
     "output_type": "stream",
     "text": [
      "DISTS ./models_enhancement_FR/model_vimeo11k_DISTS_cheng2020_attn_quality2_FRtuning.ckpt\n"
     ]
    },
    {
     "data": {
      "application/vnd.jupyter.widget-view+json": {
       "model_id": "a0fa84af79c24edda1602cc2a1cb9658",
       "version_major": 2,
       "version_minor": 0
      },
      "text/plain": [
       "0it [00:00, ?it/s]"
      ]
     },
     "metadata": {},
     "output_type": "display_data"
    },
    {
     "data": {
      "application/vnd.jupyter.widget-view+json": {
       "model_id": "bf9bf865d4074c56be86e2184f12295f",
       "version_major": 2,
       "version_minor": 0
      },
      "text/plain": [
       "0it [00:00, ?it/s]"
      ]
     },
     "metadata": {},
     "output_type": "display_data"
    },
    {
     "name": "stdout",
     "output_type": "stream",
     "text": [
      "[{'mse': [0.00022671149], 'bpp_loss': [0.021601094], 'loss_classic': [0.16902025], 'PSNR': [36.4852], 'DISTS': [0.021231644], 'loss': [42.463512], 'bitrate': [2.59339]}]\n",
      "LPIPS ./models_enhancement_FR/model_vimeo11k_LPIPS_cheng2020_attn_quality2_FRtuning.ckpt\n"
     ]
    },
    {
     "data": {
      "application/vnd.jupyter.widget-view+json": {
       "model_id": "09c23fec1b8e4d5288c7b3ae68adce7c",
       "version_major": 2,
       "version_minor": 0
      },
      "text/plain": [
       "0it [00:00, ?it/s]"
      ]
     },
     "metadata": {},
     "output_type": "display_data"
    },
    {
     "data": {
      "application/vnd.jupyter.widget-view+json": {
       "model_id": "803e40f7b25542a19905fcd156fe8461",
       "version_major": 2,
       "version_minor": 0
      },
      "text/plain": [
       "0it [00:00, ?it/s]"
      ]
     },
     "metadata": {},
     "output_type": "display_data"
    },
    {
     "name": "stdout",
     "output_type": "stream",
     "text": [
      "[{'mse': [0.00022671149], 'bpp_loss': [0.021601094], 'loss_classic': [0.16902025], 'PSNR': [36.4852], 'LPIPS': [0.23781979], 'loss': [475.63983], 'bitrate': [2.59339]}]\n",
      "LPIPS1 ./models_enhancement_FR/model_vimeo11k_LPIPS1_no_codec_FRtuning.ckpt\n"
     ]
    },
    {
     "data": {
      "application/vnd.jupyter.widget-view+json": {
       "model_id": "63c04e4f9e014bf1a936e9baf36d2c51",
       "version_major": 2,
       "version_minor": 0
      },
      "text/plain": [
       "0it [00:00, ?it/s]"
      ]
     },
     "metadata": {},
     "output_type": "display_data"
    },
    {
     "data": {
      "application/vnd.jupyter.widget-view+json": {
       "model_id": "f04e12cf3ba84a1f86f21300e4bc76b7",
       "version_major": 2,
       "version_minor": 0
      },
      "text/plain": [
       "0it [00:00, ?it/s]"
      ]
     },
     "metadata": {},
     "output_type": "display_data"
    },
    {
     "name": "stdout",
     "output_type": "stream",
     "text": [
      "[{'mse': [0.00022671149], 'bpp_loss': [0.021601094], 'loss_classic': [0.16902025], 'PSNR': [36.4852], 'LPIPS1': [0.23781979], 'loss': [475.63983], 'bitrate': [2.59339]}]\n"
     ]
    },
    {
     "data": {
      "application/vnd.jupyter.widget-view+json": {
       "model_id": "4077805da5394e2fb472987c8f0b6b8d",
       "version_major": 2,
       "version_minor": 0
      },
      "text/plain": [
       "0it [00:00, ?it/s]"
      ]
     },
     "metadata": {},
     "output_type": "display_data"
    },
    {
     "name": "stdout",
     "output_type": "stream",
     "text": [
      "DISTS ./models_enhancement_FR/model_vimeo11k_DISTS_cheng2020_attn_quality2_FRtuning.ckpt\n"
     ]
    },
    {
     "data": {
      "application/vnd.jupyter.widget-view+json": {
       "model_id": "60bafe8839264e3b9a6696c2b77877dd",
       "version_major": 2,
       "version_minor": 0
      },
      "text/plain": [
       "0it [00:00, ?it/s]"
      ]
     },
     "metadata": {},
     "output_type": "display_data"
    },
    {
     "data": {
      "application/vnd.jupyter.widget-view+json": {
       "model_id": "76301c697acb4a13a42d7de927b6b1a8",
       "version_major": 2,
       "version_minor": 0
      },
      "text/plain": [
       "0it [00:00, ?it/s]"
      ]
     },
     "metadata": {},
     "output_type": "display_data"
    },
    {
     "name": "stdout",
     "output_type": "stream",
     "text": [
      "[{'mse': [0.00056005386], 'bpp_loss': [0.021601094], 'loss_classic': [0.38577613], 'PSNR': [33.45553], 'DISTS': [0.06671855], 'loss': [133.43765], 'bitrate': [4.289943]}]\n",
      "LPIPS ./models_enhancement_FR/model_vimeo11k_LPIPS_cheng2020_attn_quality2_FRtuning.ckpt\n"
     ]
    },
    {
     "data": {
      "application/vnd.jupyter.widget-view+json": {
       "model_id": "9c486660410a46d4a0534c7280cc5342",
       "version_major": 2,
       "version_minor": 0
      },
      "text/plain": [
       "0it [00:00, ?it/s]"
      ]
     },
     "metadata": {},
     "output_type": "display_data"
    },
    {
     "data": {
      "application/vnd.jupyter.widget-view+json": {
       "model_id": "daabf46a31bf4b39abb42f4d891f3c8f",
       "version_major": 2,
       "version_minor": 0
      },
      "text/plain": [
       "0it [00:00, ?it/s]"
      ]
     },
     "metadata": {},
     "output_type": "display_data"
    },
    {
     "name": "stdout",
     "output_type": "stream",
     "text": [
      "[{'mse': [0.00056005386], 'bpp_loss': [0.021601094], 'loss_classic': [0.38577613], 'PSNR': [33.45553], 'LPIPS': [0.27178478], 'loss': [543.5701], 'bitrate': [4.289943]}]\n",
      "LPIPS1 ./models_enhancement_FR/model_vimeo11k_LPIPS1_no_codec_FRtuning.ckpt\n"
     ]
    },
    {
     "data": {
      "application/vnd.jupyter.widget-view+json": {
       "model_id": "f8407f90b30245ccb8cc5f2a677b6323",
       "version_major": 2,
       "version_minor": 0
      },
      "text/plain": [
       "0it [00:00, ?it/s]"
      ]
     },
     "metadata": {},
     "output_type": "display_data"
    },
    {
     "data": {
      "application/vnd.jupyter.widget-view+json": {
       "model_id": "bec09fdfa4b341aab75cd4bde86396b5",
       "version_major": 2,
       "version_minor": 0
      },
      "text/plain": [
       "0it [00:00, ?it/s]"
      ]
     },
     "metadata": {},
     "output_type": "display_data"
    },
    {
     "name": "stdout",
     "output_type": "stream",
     "text": [
      "[{'mse': [0.00056005386], 'bpp_loss': [0.021601094], 'loss_classic': [0.38577613], 'PSNR': [33.45553], 'LPIPS1': [0.27178478], 'loss': [543.57007], 'bitrate': [4.289943]}]\n"
     ]
    },
    {
     "data": {
      "application/vnd.jupyter.widget-view+json": {
       "model_id": "95d43caabeb2409ab03012272f38071a",
       "version_major": 2,
       "version_minor": 0
      },
      "text/plain": [
       "0it [00:00, ?it/s]"
      ]
     },
     "metadata": {},
     "output_type": "display_data"
    },
    {
     "name": "stdout",
     "output_type": "stream",
     "text": [
      "DISTS ./models_enhancement_FR/model_vimeo11k_DISTS_cheng2020_attn_quality2_FRtuning.ckpt\n"
     ]
    },
    {
     "data": {
      "application/vnd.jupyter.widget-view+json": {
       "model_id": "ad1bd1e2a06a454280ef06d0a98f6c6e",
       "version_major": 2,
       "version_minor": 0
      },
      "text/plain": [
       "0it [00:00, ?it/s]"
      ]
     },
     "metadata": {},
     "output_type": "display_data"
    },
    {
     "data": {
      "application/vnd.jupyter.widget-view+json": {
       "model_id": "80a6a455af7847539e72a303fae74faf",
       "version_major": 2,
       "version_minor": 0
      },
      "text/plain": [
       "0it [00:00, ?it/s]"
      ]
     },
     "metadata": {},
     "output_type": "display_data"
    },
    {
     "name": "stdout",
     "output_type": "stream",
     "text": [
      "[{'mse': [0.00018650865], 'bpp_loss': [0.021601094], 'loss_classic': [0.14287835], 'PSNR': [37.843365], 'DISTS': [0.016965995], 'loss': [33.932175], 'bitrate': [3.214578]}]\n",
      "LPIPS ./models_enhancement_FR/model_vimeo11k_LPIPS_cheng2020_attn_quality2_FRtuning.ckpt\n"
     ]
    },
    {
     "data": {
      "application/vnd.jupyter.widget-view+json": {
       "model_id": "068ceda364194b80aa2c47f5de278bde",
       "version_major": 2,
       "version_minor": 0
      },
      "text/plain": [
       "0it [00:00, ?it/s]"
      ]
     },
     "metadata": {},
     "output_type": "display_data"
    },
    {
     "data": {
      "application/vnd.jupyter.widget-view+json": {
       "model_id": "65c3461d2cc1470c9360e5e0e5650112",
       "version_major": 2,
       "version_minor": 0
      },
      "text/plain": [
       "0it [00:00, ?it/s]"
      ]
     },
     "metadata": {},
     "output_type": "display_data"
    },
    {
     "name": "stdout",
     "output_type": "stream",
     "text": [
      "[{'mse': [0.00018650865], 'bpp_loss': [0.021601094], 'loss_classic': [0.14287835], 'PSNR': [37.843365], 'LPIPS': [0.2092934], 'loss': [418.587], 'bitrate': [3.214578]}]\n",
      "LPIPS1 ./models_enhancement_FR/model_vimeo11k_LPIPS1_no_codec_FRtuning.ckpt\n"
     ]
    },
    {
     "data": {
      "application/vnd.jupyter.widget-view+json": {
       "model_id": "44afa9be16a647418500dc7855c09e7b",
       "version_major": 2,
       "version_minor": 0
      },
      "text/plain": [
       "0it [00:00, ?it/s]"
      ]
     },
     "metadata": {},
     "output_type": "display_data"
    },
    {
     "data": {
      "application/vnd.jupyter.widget-view+json": {
       "model_id": "cc9c9cc09b61495ea16c97c19ee765b9",
       "version_major": 2,
       "version_minor": 0
      },
      "text/plain": [
       "0it [00:00, ?it/s]"
      ]
     },
     "metadata": {},
     "output_type": "display_data"
    },
    {
     "name": "stdout",
     "output_type": "stream",
     "text": [
      "[{'mse': [0.00018650865], 'bpp_loss': [0.021601094], 'loss_classic': [0.14287835], 'PSNR': [37.843365], 'LPIPS1': [0.2092934], 'loss': [418.587], 'bitrate': [3.214578]}]\n"
     ]
    },
    {
     "data": {
      "application/vnd.jupyter.widget-view+json": {
       "model_id": "18cd5532da48444f8bc1f56f0f770cdf",
       "version_major": 2,
       "version_minor": 0
      },
      "text/plain": [
       "0it [00:00, ?it/s]"
      ]
     },
     "metadata": {},
     "output_type": "display_data"
    },
    {
     "name": "stdout",
     "output_type": "stream",
     "text": [
      "DISTS ./models_enhancement_FR/model_vimeo11k_DISTS_cheng2020_attn_quality2_FRtuning.ckpt\n"
     ]
    },
    {
     "data": {
      "application/vnd.jupyter.widget-view+json": {
       "model_id": "7e7497aa7de746f1840ee3fb092f302e",
       "version_major": 2,
       "version_minor": 0
      },
      "text/plain": [
       "0it [00:00, ?it/s]"
      ]
     },
     "metadata": {},
     "output_type": "display_data"
    },
    {
     "data": {
      "application/vnd.jupyter.widget-view+json": {
       "model_id": "5c63e5d932e14971bf199d24f5d9ca69",
       "version_major": 2,
       "version_minor": 0
      },
      "text/plain": [
       "0it [00:00, ?it/s]"
      ]
     },
     "metadata": {},
     "output_type": "display_data"
    },
    {
     "name": "stdout",
     "output_type": "stream",
     "text": [
      "[{'mse': [0.00077158597], 'bpp_loss': [0.021601094], 'loss_classic': [0.5233249], 'PSNR': [31.148333], 'DISTS': [0.026970215], 'loss': [53.941204], 'bitrate': [2.544165]}]\n",
      "LPIPS ./models_enhancement_FR/model_vimeo11k_LPIPS_cheng2020_attn_quality2_FRtuning.ckpt\n"
     ]
    },
    {
     "data": {
      "application/vnd.jupyter.widget-view+json": {
       "model_id": "aab8bdc88fdc491cb827971708a9a05f",
       "version_major": 2,
       "version_minor": 0
      },
      "text/plain": [
       "0it [00:00, ?it/s]"
      ]
     },
     "metadata": {},
     "output_type": "display_data"
    },
    {
     "data": {
      "application/vnd.jupyter.widget-view+json": {
       "model_id": "05109e67961b4a6ea081acfabfaca4dd",
       "version_major": 2,
       "version_minor": 0
      },
      "text/plain": [
       "0it [00:00, ?it/s]"
      ]
     },
     "metadata": {},
     "output_type": "display_data"
    },
    {
     "name": "stdout",
     "output_type": "stream",
     "text": [
      "[{'mse': [0.00077158597], 'bpp_loss': [0.021601094], 'loss_classic': [0.5233249], 'PSNR': [31.148333], 'LPIPS': [0.32378602], 'loss': [647.5728], 'bitrate': [2.544165]}]\n",
      "LPIPS1 ./models_enhancement_FR/model_vimeo11k_LPIPS1_no_codec_FRtuning.ckpt\n"
     ]
    },
    {
     "data": {
      "application/vnd.jupyter.widget-view+json": {
       "model_id": "2dfb976d046240eab6b7ce3251cab288",
       "version_major": 2,
       "version_minor": 0
      },
      "text/plain": [
       "0it [00:00, ?it/s]"
      ]
     },
     "metadata": {},
     "output_type": "display_data"
    },
    {
     "data": {
      "application/vnd.jupyter.widget-view+json": {
       "model_id": "d1d964240d5d4c17b4457f0080dc4f8b",
       "version_major": 2,
       "version_minor": 0
      },
      "text/plain": [
       "0it [00:00, ?it/s]"
      ]
     },
     "metadata": {},
     "output_type": "display_data"
    },
    {
     "name": "stdout",
     "output_type": "stream",
     "text": [
      "[{'mse': [0.00077158597], 'bpp_loss': [0.021601094], 'loss_classic': [0.5233249], 'PSNR': [31.148333], 'LPIPS1': [0.32378602], 'loss': [647.5728], 'bitrate': [2.544165]}]\n"
     ]
    },
    {
     "data": {
      "application/vnd.jupyter.widget-view+json": {
       "model_id": "cb330b3eaa56453b9ac6deb3a5920359",
       "version_major": 2,
       "version_minor": 0
      },
      "text/plain": [
       "0it [00:00, ?it/s]"
      ]
     },
     "metadata": {},
     "output_type": "display_data"
    },
    {
     "name": "stdout",
     "output_type": "stream",
     "text": [
      "DISTS ./models_enhancement_FR/model_vimeo11k_DISTS_cheng2020_attn_quality2_FRtuning.ckpt\n"
     ]
    },
    {
     "data": {
      "application/vnd.jupyter.widget-view+json": {
       "model_id": "03ff860c6aa44b28a02c5185d7a68ef9",
       "version_major": 2,
       "version_minor": 0
      },
      "text/plain": [
       "0it [00:00, ?it/s]"
      ]
     },
     "metadata": {},
     "output_type": "display_data"
    },
    {
     "data": {
      "application/vnd.jupyter.widget-view+json": {
       "model_id": "f52ab052fee54577a1bf194786788b33",
       "version_major": 2,
       "version_minor": 0
      },
      "text/plain": [
       "0it [00:00, ?it/s]"
      ]
     },
     "metadata": {},
     "output_type": "display_data"
    },
    {
     "name": "stdout",
     "output_type": "stream",
     "text": [
      "[{'mse': [0.006902557], 'bpp_loss': [0.021601094], 'loss_classic': [4.5099883], 'PSNR': [22.81675], 'DISTS': [0.08938284], 'loss': [178.77258], 'bitrate': [4.244687]}]\n",
      "LPIPS ./models_enhancement_FR/model_vimeo11k_LPIPS_cheng2020_attn_quality2_FRtuning.ckpt\n"
     ]
    },
    {
     "data": {
      "application/vnd.jupyter.widget-view+json": {
       "model_id": "c418d4d5ae7345d0895c06340ae18e7a",
       "version_major": 2,
       "version_minor": 0
      },
      "text/plain": [
       "0it [00:00, ?it/s]"
      ]
     },
     "metadata": {},
     "output_type": "display_data"
    },
    {
     "data": {
      "application/vnd.jupyter.widget-view+json": {
       "model_id": "014953209918424a9e19a3e11cc5635f",
       "version_major": 2,
       "version_minor": 0
      },
      "text/plain": [
       "0it [00:00, ?it/s]"
      ]
     },
     "metadata": {},
     "output_type": "display_data"
    },
    {
     "name": "stdout",
     "output_type": "stream",
     "text": [
      "[{'mse': [0.006902557], 'bpp_loss': [0.021601094], 'loss_classic': [4.5099883], 'PSNR': [22.81675], 'LPIPS': [0.45749408], 'loss': [914.9951], 'bitrate': [4.244687]}]\n",
      "LPIPS1 ./models_enhancement_FR/model_vimeo11k_LPIPS1_no_codec_FRtuning.ckpt\n"
     ]
    },
    {
     "data": {
      "application/vnd.jupyter.widget-view+json": {
       "model_id": "cb74f5fbe7304f65aa1ad7ae3fe5a62b",
       "version_major": 2,
       "version_minor": 0
      },
      "text/plain": [
       "0it [00:00, ?it/s]"
      ]
     },
     "metadata": {},
     "output_type": "display_data"
    },
    {
     "data": {
      "application/vnd.jupyter.widget-view+json": {
       "model_id": "8ed9cf3f814d4c3d9b859a8694d7783c",
       "version_major": 2,
       "version_minor": 0
      },
      "text/plain": [
       "0it [00:00, ?it/s]"
      ]
     },
     "metadata": {},
     "output_type": "display_data"
    },
    {
     "name": "stdout",
     "output_type": "stream",
     "text": [
      "[{'mse': [0.006902557], 'bpp_loss': [0.021601094], 'loss_classic': [4.5099883], 'PSNR': [22.81675], 'LPIPS1': [0.45749408], 'loss': [914.9951], 'bitrate': [4.244687]}]\n"
     ]
    },
    {
     "data": {
      "application/vnd.jupyter.widget-view+json": {
       "model_id": "1bce3f36473a46789cc41fcbaf2d775e",
       "version_major": 2,
       "version_minor": 0
      },
      "text/plain": [
       "0it [00:00, ?it/s]"
      ]
     },
     "metadata": {},
     "output_type": "display_data"
    },
    {
     "name": "stdout",
     "output_type": "stream",
     "text": [
      "DISTS ./models_enhancement_FR/model_vimeo11k_DISTS_cheng2020_attn_quality2_FRtuning.ckpt\n"
     ]
    },
    {
     "data": {
      "application/vnd.jupyter.widget-view+json": {
       "model_id": "fe717a121f7d4be19dc5f3572a4f34e7",
       "version_major": 2,
       "version_minor": 0
      },
      "text/plain": [
       "0it [00:00, ?it/s]"
      ]
     },
     "metadata": {},
     "output_type": "display_data"
    },
    {
     "data": {
      "application/vnd.jupyter.widget-view+json": {
       "model_id": "0ddbc781901f4aa09a635bc0bac2b4f8",
       "version_major": 2,
       "version_minor": 0
      },
      "text/plain": [
       "0it [00:00, ?it/s]"
      ]
     },
     "metadata": {},
     "output_type": "display_data"
    },
    {
     "name": "stdout",
     "output_type": "stream",
     "text": [
      "[{'mse': [0.00029834209], 'bpp_loss': [0.021601094], 'loss_classic': [0.21559805], 'PSNR': [35.331566], 'DISTS': [0.029406715], 'loss': [58.81373], 'bitrate': [2.861131]}]\n",
      "LPIPS ./models_enhancement_FR/model_vimeo11k_LPIPS_cheng2020_attn_quality2_FRtuning.ckpt\n"
     ]
    },
    {
     "data": {
      "application/vnd.jupyter.widget-view+json": {
       "model_id": "29b9d85dcd7e4a4fb38470c95170c2f2",
       "version_major": 2,
       "version_minor": 0
      },
      "text/plain": [
       "0it [00:00, ?it/s]"
      ]
     },
     "metadata": {},
     "output_type": "display_data"
    },
    {
     "data": {
      "application/vnd.jupyter.widget-view+json": {
       "model_id": "cda8e6bccc224b2d9fe2d1ce800bca84",
       "version_major": 2,
       "version_minor": 0
      },
      "text/plain": [
       "0it [00:00, ?it/s]"
      ]
     },
     "metadata": {},
     "output_type": "display_data"
    },
    {
     "name": "stdout",
     "output_type": "stream",
     "text": [
      "[{'mse': [0.00029834209], 'bpp_loss': [0.021601094], 'loss_classic': [0.21559805], 'PSNR': [35.331566], 'LPIPS': [0.30406272], 'loss': [608.12573], 'bitrate': [2.861131]}]\n",
      "LPIPS1 ./models_enhancement_FR/model_vimeo11k_LPIPS1_no_codec_FRtuning.ckpt\n"
     ]
    },
    {
     "data": {
      "application/vnd.jupyter.widget-view+json": {
       "model_id": "200ba355c58742449103b3f6bec4978d",
       "version_major": 2,
       "version_minor": 0
      },
      "text/plain": [
       "0it [00:00, ?it/s]"
      ]
     },
     "metadata": {},
     "output_type": "display_data"
    },
    {
     "data": {
      "application/vnd.jupyter.widget-view+json": {
       "model_id": "176ac99c32224833a3b4f092da077515",
       "version_major": 2,
       "version_minor": 0
      },
      "text/plain": [
       "0it [00:00, ?it/s]"
      ]
     },
     "metadata": {},
     "output_type": "display_data"
    },
    {
     "name": "stdout",
     "output_type": "stream",
     "text": [
      "[{'mse': [0.00029834209], 'bpp_loss': [0.021601094], 'loss_classic': [0.21559805], 'PSNR': [35.331566], 'LPIPS1': [0.30406272], 'loss': [608.1258], 'bitrate': [2.861131]}]\n"
     ]
    },
    {
     "data": {
      "application/vnd.jupyter.widget-view+json": {
       "model_id": "cf4a0f25bdcb473fa35c3ca2bfa7617e",
       "version_major": 2,
       "version_minor": 0
      },
      "text/plain": [
       "0it [00:00, ?it/s]"
      ]
     },
     "metadata": {},
     "output_type": "display_data"
    },
    {
     "name": "stdout",
     "output_type": "stream",
     "text": [
      "DISTS ./models_enhancement_FR/model_vimeo11k_DISTS_cheng2020_attn_quality2_FRtuning.ckpt\n"
     ]
    },
    {
     "data": {
      "application/vnd.jupyter.widget-view+json": {
       "model_id": "adb9ecb8ae34423f98520c4813e03083",
       "version_major": 2,
       "version_minor": 0
      },
      "text/plain": [
       "0it [00:00, ?it/s]"
      ]
     },
     "metadata": {},
     "output_type": "display_data"
    },
    {
     "data": {
      "application/vnd.jupyter.widget-view+json": {
       "model_id": "54ced9bfd32640828de3c00e03489b64",
       "version_major": 2,
       "version_minor": 0
      },
      "text/plain": [
       "0it [00:00, ?it/s]"
      ]
     },
     "metadata": {},
     "output_type": "display_data"
    },
    {
     "name": "stdout",
     "output_type": "stream",
     "text": [
      "[{'mse': [0.00024417537], 'bpp_loss': [0.021601094], 'loss_classic': [0.18037614], 'PSNR': [36.1472], 'DISTS': [0.01293066], 'loss': [25.861563], 'bitrate': [2.4494]}]\n",
      "LPIPS ./models_enhancement_FR/model_vimeo11k_LPIPS_cheng2020_attn_quality2_FRtuning.ckpt\n"
     ]
    },
    {
     "data": {
      "application/vnd.jupyter.widget-view+json": {
       "model_id": "71e3c90858604aba92c305c9f4014394",
       "version_major": 2,
       "version_minor": 0
      },
      "text/plain": [
       "0it [00:00, ?it/s]"
      ]
     },
     "metadata": {},
     "output_type": "display_data"
    },
    {
     "data": {
      "application/vnd.jupyter.widget-view+json": {
       "model_id": "19f0f9b448394d819604925b8978acc8",
       "version_major": 2,
       "version_minor": 0
      },
      "text/plain": [
       "0it [00:00, ?it/s]"
      ]
     },
     "metadata": {},
     "output_type": "display_data"
    },
    {
     "name": "stdout",
     "output_type": "stream",
     "text": [
      "[{'mse': [0.00024417537], 'bpp_loss': [0.021601094], 'loss_classic': [0.18037614], 'PSNR': [36.1472], 'LPIPS': [0.24437945], 'loss': [488.75916], 'bitrate': [2.4494]}]\n",
      "LPIPS1 ./models_enhancement_FR/model_vimeo11k_LPIPS1_no_codec_FRtuning.ckpt\n"
     ]
    },
    {
     "data": {
      "application/vnd.jupyter.widget-view+json": {
       "model_id": "956a22b15a744187b892df0384325791",
       "version_major": 2,
       "version_minor": 0
      },
      "text/plain": [
       "0it [00:00, ?it/s]"
      ]
     },
     "metadata": {},
     "output_type": "display_data"
    },
    {
     "data": {
      "application/vnd.jupyter.widget-view+json": {
       "model_id": "ab3402e31b3d4244beda55153f2566c5",
       "version_major": 2,
       "version_minor": 0
      },
      "text/plain": [
       "0it [00:00, ?it/s]"
      ]
     },
     "metadata": {},
     "output_type": "display_data"
    },
    {
     "name": "stdout",
     "output_type": "stream",
     "text": [
      "[{'mse': [0.00024417537], 'bpp_loss': [0.021601094], 'loss_classic': [0.18037614], 'PSNR': [36.1472], 'LPIPS1': [0.24437945], 'loss': [488.75916], 'bitrate': [2.4494]}]\n",
      "\n"
     ]
    },
    {
     "data": {
      "text/html": [
       "Waiting for W&B process to finish... <strong style=\"color:green\">(success).</strong>"
      ],
      "text/plain": [
       "<IPython.core.display.HTML object>"
      ]
     },
     "metadata": {},
     "output_type": "display_data"
    },
    {
     "data": {
      "application/vnd.jupyter.widget-view+json": {
       "model_id": "",
       "version_major": 2,
       "version_minor": 0
      },
      "text/plain": [
       "VBox(children=(Label(value='28.637 MB of 28.637 MB uploaded (0.000 MB deduped)\\r'), FloatProgress(value=1.0, m…"
      ]
     },
     "metadata": {},
     "output_type": "display_data"
    },
    {
     "data": {
      "text/html": [
       "Synced <strong style=\"color:#cdcd00\">RD_curves_all_met_18_03Without Preprocessing</strong>: <a href=\"https://wandb.ai/havent_invented/Whitebox_strong_metrics_attacks/runs/3rgcf190\" target=\"_blank\">https://wandb.ai/havent_invented/Whitebox_strong_metrics_attacks/runs/3rgcf190</a><br/>Synced 7 W&B file(s), 21 media file(s), 20 artifact file(s) and 2 other file(s)"
      ],
      "text/plain": [
       "<IPython.core.display.HTML object>"
      ]
     },
     "metadata": {},
     "output_type": "display_data"
    },
    {
     "data": {
      "text/html": [
       "Find logs at: <code>.\\wandb\\run-20220404_105059-3rgcf190\\logs</code>"
      ],
      "text/plain": [
       "<IPython.core.display.HTML object>"
      ]
     },
     "metadata": {},
     "output_type": "display_data"
    },
    {
     "name": "stdout",
     "output_type": "stream",
     "text": [
      "[[[{'mse': [0.00022671149], 'bpp_loss': [0.021601094], 'loss_classic': [0.16902025], 'PSNR': [36.4852], 'DISTS': [0.021231644], 'loss': [42.463512], 'bitrate': [2.59339]}], [{'mse': [0.00022671149], 'bpp_loss': [0.021601094], 'loss_classic': [0.16902025], 'PSNR': [36.4852], 'LPIPS': [0.23781979], 'loss': [475.63983], 'bitrate': [2.59339]}], [{'mse': [0.00022671149], 'bpp_loss': [0.021601094], 'loss_classic': [0.16902025], 'PSNR': [36.4852], 'LPIPS1': [0.23781979], 'loss': [475.63983], 'bitrate': [2.59339]}]], [[{'mse': [0.00056005386], 'bpp_loss': [0.021601094], 'loss_classic': [0.38577613], 'PSNR': [33.45553], 'DISTS': [0.06671855], 'loss': [133.43765], 'bitrate': [4.289943]}], [{'mse': [0.00056005386], 'bpp_loss': [0.021601094], 'loss_classic': [0.38577613], 'PSNR': [33.45553], 'LPIPS': [0.27178478], 'loss': [543.5701], 'bitrate': [4.289943]}], [{'mse': [0.00056005386], 'bpp_loss': [0.021601094], 'loss_classic': [0.38577613], 'PSNR': [33.45553], 'LPIPS1': [0.27178478], 'loss': [543.57007], 'bitrate': [4.289943]}]], [[{'mse': [0.00018650865], 'bpp_loss': [0.021601094], 'loss_classic': [0.14287835], 'PSNR': [37.843365], 'DISTS': [0.016965995], 'loss': [33.932175], 'bitrate': [3.214578]}], [{'mse': [0.00018650865], 'bpp_loss': [0.021601094], 'loss_classic': [0.14287835], 'PSNR': [37.843365], 'LPIPS': [0.2092934], 'loss': [418.587], 'bitrate': [3.214578]}], [{'mse': [0.00018650865], 'bpp_loss': [0.021601094], 'loss_classic': [0.14287835], 'PSNR': [37.843365], 'LPIPS1': [0.2092934], 'loss': [418.587], 'bitrate': [3.214578]}]], [[{'mse': [0.00077158597], 'bpp_loss': [0.021601094], 'loss_classic': [0.5233249], 'PSNR': [31.148333], 'DISTS': [0.026970215], 'loss': [53.941204], 'bitrate': [2.544165]}], [{'mse': [0.00077158597], 'bpp_loss': [0.021601094], 'loss_classic': [0.5233249], 'PSNR': [31.148333], 'LPIPS': [0.32378602], 'loss': [647.5728], 'bitrate': [2.544165]}], [{'mse': [0.00077158597], 'bpp_loss': [0.021601094], 'loss_classic': [0.5233249], 'PSNR': [31.148333], 'LPIPS1': [0.32378602], 'loss': [647.5728], 'bitrate': [2.544165]}]], [[{'mse': [0.006902557], 'bpp_loss': [0.021601094], 'loss_classic': [4.5099883], 'PSNR': [22.81675], 'DISTS': [0.08938284], 'loss': [178.77258], 'bitrate': [4.244687]}], [{'mse': [0.006902557], 'bpp_loss': [0.021601094], 'loss_classic': [4.5099883], 'PSNR': [22.81675], 'LPIPS': [0.45749408], 'loss': [914.9951], 'bitrate': [4.244687]}], [{'mse': [0.006902557], 'bpp_loss': [0.021601094], 'loss_classic': [4.5099883], 'PSNR': [22.81675], 'LPIPS1': [0.45749408], 'loss': [914.9951], 'bitrate': [4.244687]}]], [[{'mse': [0.00029834209], 'bpp_loss': [0.021601094], 'loss_classic': [0.21559805], 'PSNR': [35.331566], 'DISTS': [0.029406715], 'loss': [58.81373], 'bitrate': [2.861131]}], [{'mse': [0.00029834209], 'bpp_loss': [0.021601094], 'loss_classic': [0.21559805], 'PSNR': [35.331566], 'LPIPS': [0.30406272], 'loss': [608.12573], 'bitrate': [2.861131]}], [{'mse': [0.00029834209], 'bpp_loss': [0.021601094], 'loss_classic': [0.21559805], 'PSNR': [35.331566], 'LPIPS1': [0.30406272], 'loss': [608.1258], 'bitrate': [2.861131]}]], [[{'mse': [0.00024417537], 'bpp_loss': [0.021601094], 'loss_classic': [0.18037614], 'PSNR': [36.1472], 'DISTS': [0.01293066], 'loss': [25.861563], 'bitrate': [2.4494]}], [{'mse': [0.00024417537], 'bpp_loss': [0.021601094], 'loss_classic': [0.18037614], 'PSNR': [36.1472], 'LPIPS': [0.24437945], 'loss': [488.75916], 'bitrate': [2.4494]}], [{'mse': [0.00024417537], 'bpp_loss': [0.021601094], 'loss_classic': [0.18037614], 'PSNR': [36.1472], 'LPIPS1': [0.24437945], 'loss': [488.75916], 'bitrate': [2.4494]}]]]\n"
     ]
    },
    {
     "data": {
      "text/html": [
       "Tracking run with wandb version 0.12.11"
      ],
      "text/plain": [
       "<IPython.core.display.HTML object>"
      ]
     },
     "metadata": {},
     "output_type": "display_data"
    },
    {
     "data": {
      "text/html": [
       "Run data is saved locally in <code>E:\\VMAF_METRIX\\NeuralNetworkCompression\\wandb\\run-20220404_111246-2k8jw2v0</code>"
      ],
      "text/plain": [
       "<IPython.core.display.HTML object>"
      ]
     },
     "metadata": {},
     "output_type": "display_data"
    },
    {
     "data": {
      "text/html": [
       "Syncing run <strong><a href=\"https://wandb.ai/havent_invented/Whitebox_strong_metrics_attacks/runs/2k8jw2v0\" target=\"_blank\">RD_curves_all_met_18_03Without Preprocessing</a></strong> to <a href=\"https://wandb.ai/havent_invented/Whitebox_strong_metrics_attacks\" target=\"_blank\">Weights & Biases</a> (<a href=\"https://wandb.me/run\" target=\"_blank\">docs</a>)<br/>"
      ],
      "text/plain": [
       "<IPython.core.display.HTML object>"
      ]
     },
     "metadata": {},
     "output_type": "display_data"
    },
    {
     "data": {
      "application/vnd.jupyter.widget-view+json": {
       "model_id": "7e82d012642f438e84e6cec18286f55d",
       "version_major": 2,
       "version_minor": 0
      },
      "text/plain": [
       "0it [00:00, ?it/s]"
      ]
     },
     "metadata": {},
     "output_type": "display_data"
    },
    {
     "data": {
      "application/vnd.jupyter.widget-view+json": {
       "model_id": "99a41c59faed41508afc04324adf1d58",
       "version_major": 2,
       "version_minor": 0
      },
      "text/plain": [
       "0it [00:00, ?it/s]"
      ]
     },
     "metadata": {},
     "output_type": "display_data"
    },
    {
     "name": "stdout",
     "output_type": "stream",
     "text": [
      "DISTS ./models_enhancement_FR/model_vimeo11k_DISTS_cheng2020_attn_quality2_FRtuning.ckpt\n"
     ]
    },
    {
     "data": {
      "application/vnd.jupyter.widget-view+json": {
       "model_id": "97582a5e5c594ed4b3e6a02b771384b3",
       "version_major": 2,
       "version_minor": 0
      },
      "text/plain": [
       "0it [00:00, ?it/s]"
      ]
     },
     "metadata": {},
     "output_type": "display_data"
    },
    {
     "data": {
      "application/vnd.jupyter.widget-view+json": {
       "model_id": "d1086e533232428f9535ce1b86b2a0fd",
       "version_major": 2,
       "version_minor": 0
      },
      "text/plain": [
       "0it [00:00, ?it/s]"
      ]
     },
     "metadata": {},
     "output_type": "display_data"
    },
    {
     "name": "stdout",
     "output_type": "stream",
     "text": [
      "[{'mse': [0.00030126804, 0.00011004411], 'bpp_loss': [0.19183017, 0.46235782], 'loss_classic': [0.3877297, 0.53391397], 'PSNR': [35.32418, 39.61398], 'loss': [0.00030126804, 0.00011004411]}]\n",
      "LPIPS ./models_enhancement_FR/model_vimeo11k_LPIPS_cheng2020_attn_quality2_FRtuning.ckpt\n"
     ]
    },
    {
     "data": {
      "application/vnd.jupyter.widget-view+json": {
       "model_id": "51951e2e881d4f969461384c72553a01",
       "version_major": 2,
       "version_minor": 0
      },
      "text/plain": [
       "0it [00:00, ?it/s]"
      ]
     },
     "metadata": {},
     "output_type": "display_data"
    },
    {
     "data": {
      "application/vnd.jupyter.widget-view+json": {
       "model_id": "4ad73638412541688a24321f9cbb0fec",
       "version_major": 2,
       "version_minor": 0
      },
      "text/plain": [
       "0it [00:00, ?it/s]"
      ]
     },
     "metadata": {},
     "output_type": "display_data"
    },
    {
     "name": "stdout",
     "output_type": "stream",
     "text": [
      "[{'mse': [0.00030135858, 0.000109775894], 'bpp_loss': [0.19214009, 0.46209806], 'loss_classic': [0.38809854, 0.5334798], 'PSNR': [35.321224, 39.62398], 'loss': [0.00030135858, 0.000109775894]}]\n",
      "LPIPS1 ./models_enhancement_FR/model_vimeo11k_LPIPS1_no_codec_FRtuning.ckpt\n"
     ]
    },
    {
     "data": {
      "application/vnd.jupyter.widget-view+json": {
       "model_id": "bb27809664544d78aecbcc6199eb43e6",
       "version_major": 2,
       "version_minor": 0
      },
      "text/plain": [
       "0it [00:00, ?it/s]"
      ]
     },
     "metadata": {},
     "output_type": "display_data"
    },
    {
     "data": {
      "application/vnd.jupyter.widget-view+json": {
       "model_id": "2a3d847ed62c4cef82f3e0aad3903f21",
       "version_major": 2,
       "version_minor": 0
      },
      "text/plain": [
       "0it [00:00, ?it/s]"
      ]
     },
     "metadata": {},
     "output_type": "display_data"
    },
    {
     "name": "stdout",
     "output_type": "stream",
     "text": [
      "[{'mse': [0.00030126452, 0.00010977346], 'bpp_loss': [0.19199713, 0.46232155], 'loss_classic': [0.3878944, 0.5337017], 'PSNR': [35.3231, 39.62449], 'loss': [0.00030126452, 0.00010977346]}]\n"
     ]
    },
    {
     "data": {
      "application/vnd.jupyter.widget-view+json": {
       "model_id": "f234e44a27e7449289bcd54e5cb039fa",
       "version_major": 2,
       "version_minor": 0
      },
      "text/plain": [
       "0it [00:00, ?it/s]"
      ]
     },
     "metadata": {},
     "output_type": "display_data"
    },
    {
     "name": "stdout",
     "output_type": "stream",
     "text": [
      "DISTS ./models_enhancement_FR/model_vimeo11k_DISTS_cheng2020_attn_quality2_FRtuning.ckpt\n"
     ]
    },
    {
     "data": {
      "application/vnd.jupyter.widget-view+json": {
       "model_id": "9581f26856b5464a928de4df2a4ea011",
       "version_major": 2,
       "version_minor": 0
      },
      "text/plain": [
       "0it [00:00, ?it/s]"
      ]
     },
     "metadata": {},
     "output_type": "display_data"
    },
    {
     "data": {
      "application/vnd.jupyter.widget-view+json": {
       "model_id": "c740c83276494155b44ebbc6e98fad45",
       "version_major": 2,
       "version_minor": 0
      },
      "text/plain": [
       "0it [00:00, ?it/s]"
      ]
     },
     "metadata": {},
     "output_type": "display_data"
    },
    {
     "name": "stdout",
     "output_type": "stream",
     "text": [
      "[{'mse': [0.00024071735, 0.00010034666], 'bpp_loss': [0.14651108, 0.35015562], 'loss_classic': [0.30303752, 0.41540605], 'PSNR': [36.50287, 40.241405], 'loss': [0.00024071735, 0.00010034666]}]\n",
      "LPIPS ./models_enhancement_FR/model_vimeo11k_LPIPS_cheng2020_attn_quality2_FRtuning.ckpt\n"
     ]
    },
    {
     "data": {
      "application/vnd.jupyter.widget-view+json": {
       "model_id": "4d536fb171aa4e289c8cc85ae8092fdf",
       "version_major": 2,
       "version_minor": 0
      },
      "text/plain": [
       "0it [00:00, ?it/s]"
      ]
     },
     "metadata": {},
     "output_type": "display_data"
    },
    {
     "data": {
      "application/vnd.jupyter.widget-view+json": {
       "model_id": "788c1b6393444465bc6a8606f0f7377c",
       "version_major": 2,
       "version_minor": 0
      },
      "text/plain": [
       "0it [00:00, ?it/s]"
      ]
     },
     "metadata": {},
     "output_type": "display_data"
    },
    {
     "name": "stdout",
     "output_type": "stream",
     "text": [
      "[{'mse': [0.0002400351, 0.00010025315], 'bpp_loss': [0.14659846, 0.35007596], 'loss_classic': [0.30268127, 0.41526556], 'PSNR': [36.508537, 40.24828], 'loss': [0.0002400351, 0.00010025315]}]\n",
      "LPIPS1 ./models_enhancement_FR/model_vimeo11k_LPIPS1_no_codec_FRtuning.ckpt\n"
     ]
    },
    {
     "data": {
      "application/vnd.jupyter.widget-view+json": {
       "model_id": "a3a038b1d6224a2fb078c3ade254183b",
       "version_major": 2,
       "version_minor": 0
      },
      "text/plain": [
       "0it [00:00, ?it/s]"
      ]
     },
     "metadata": {},
     "output_type": "display_data"
    },
    {
     "data": {
      "application/vnd.jupyter.widget-view+json": {
       "model_id": "aeaa1939089a485191fd454a023a9b62",
       "version_major": 2,
       "version_minor": 0
      },
      "text/plain": [
       "0it [00:00, ?it/s]"
      ]
     },
     "metadata": {},
     "output_type": "display_data"
    },
    {
     "name": "stdout",
     "output_type": "stream",
     "text": [
      "[{'mse': [0.00023990485, 0.00010034402], 'bpp_loss': [0.14654323, 0.3494549], 'loss_classic': [0.30254138, 0.41470358], 'PSNR': [36.50816, 40.244392], 'loss': [0.00023990485, 0.00010034402]}]\n"
     ]
    },
    {
     "data": {
      "application/vnd.jupyter.widget-view+json": {
       "model_id": "75ea352822144820b5ff46fd03f0325e",
       "version_major": 2,
       "version_minor": 0
      },
      "text/plain": [
       "0it [00:00, ?it/s]"
      ]
     },
     "metadata": {},
     "output_type": "display_data"
    },
    {
     "name": "stdout",
     "output_type": "stream",
     "text": [
      "DISTS ./models_enhancement_FR/model_vimeo11k_DISTS_cheng2020_attn_quality2_FRtuning.ckpt\n"
     ]
    },
    {
     "data": {
      "application/vnd.jupyter.widget-view+json": {
       "model_id": "35a600fffa8a4e06b1bfd276139c0c7f",
       "version_major": 2,
       "version_minor": 0
      },
      "text/plain": [
       "0it [00:00, ?it/s]"
      ]
     },
     "metadata": {},
     "output_type": "display_data"
    },
    {
     "data": {
      "application/vnd.jupyter.widget-view+json": {
       "model_id": "1543732a15634b70991367ceadedb7ca",
       "version_major": 2,
       "version_minor": 0
      },
      "text/plain": [
       "0it [00:00, ?it/s]"
      ]
     },
     "metadata": {},
     "output_type": "display_data"
    },
    {
     "name": "stdout",
     "output_type": "stream",
     "text": [
      "[{'mse': [3.0018375e-05, 1.41414275e-05], 'bpp_loss': [0.102265455, 0.16741587], 'loss_classic': [0.121784896, 0.17661133], 'PSNR': [45.252647, 48.51215], 'loss': [3.0018375e-05, 1.41414275e-05]}]\n",
      "LPIPS ./models_enhancement_FR/model_vimeo11k_LPIPS_cheng2020_attn_quality2_FRtuning.ckpt\n"
     ]
    },
    {
     "data": {
      "application/vnd.jupyter.widget-view+json": {
       "model_id": "d340f9b7759340fe9c9f7eb29a22dd7b",
       "version_major": 2,
       "version_minor": 0
      },
      "text/plain": [
       "0it [00:00, ?it/s]"
      ]
     },
     "metadata": {},
     "output_type": "display_data"
    },
    {
     "data": {
      "application/vnd.jupyter.widget-view+json": {
       "model_id": "41f75fb1b86c49b895a5667878e0694b",
       "version_major": 2,
       "version_minor": 0
      },
      "text/plain": [
       "0it [00:00, ?it/s]"
      ]
     },
     "metadata": {},
     "output_type": "display_data"
    },
    {
     "name": "stdout",
     "output_type": "stream",
     "text": [
      "[{'mse': [3.0064575e-05, 1.4140893e-05], 'bpp_loss': [0.10236544, 0.16731969], 'loss_classic': [0.12191493, 0.1765148], 'PSNR': [45.24891, 48.514023], 'loss': [3.0064575e-05, 1.4140893e-05]}]\n",
      "LPIPS1 ./models_enhancement_FR/model_vimeo11k_LPIPS1_no_codec_FRtuning.ckpt\n"
     ]
    },
    {
     "data": {
      "application/vnd.jupyter.widget-view+json": {
       "model_id": "5c746b5f80024b788a443f8914cd5281",
       "version_major": 2,
       "version_minor": 0
      },
      "text/plain": [
       "0it [00:00, ?it/s]"
      ]
     },
     "metadata": {},
     "output_type": "display_data"
    },
    {
     "data": {
      "application/vnd.jupyter.widget-view+json": {
       "model_id": "2f346bafe4804e82b8189680ba74250e",
       "version_major": 2,
       "version_minor": 0
      },
      "text/plain": [
       "0it [00:00, ?it/s]"
      ]
     },
     "metadata": {},
     "output_type": "display_data"
    },
    {
     "name": "stdout",
     "output_type": "stream",
     "text": [
      "[{'mse': [3.0011077e-05, 1.4134602e-05], 'bpp_loss': [0.10234587, 0.16737325], 'loss_classic': [0.121860564, 0.17656428], 'PSNR': [45.25341, 48.513977], 'loss': [3.0011077e-05, 1.4134602e-05]}]\n"
     ]
    },
    {
     "data": {
      "application/vnd.jupyter.widget-view+json": {
       "model_id": "e455517a626e433bbb4ed979f9db086c",
       "version_major": 2,
       "version_minor": 0
      },
      "text/plain": [
       "0it [00:00, ?it/s]"
      ]
     },
     "metadata": {},
     "output_type": "display_data"
    },
    {
     "name": "stdout",
     "output_type": "stream",
     "text": [
      "DISTS ./models_enhancement_FR/model_vimeo11k_DISTS_cheng2020_attn_quality2_FRtuning.ckpt\n"
     ]
    },
    {
     "data": {
      "application/vnd.jupyter.widget-view+json": {
       "model_id": "6c14283131ba4ba4b0d91a93ef304ca3",
       "version_major": 2,
       "version_minor": 0
      },
      "text/plain": [
       "0it [00:00, ?it/s]"
      ]
     },
     "metadata": {},
     "output_type": "display_data"
    },
    {
     "data": {
      "application/vnd.jupyter.widget-view+json": {
       "model_id": "af538d175cf94e02947cca0ec03a18fc",
       "version_major": 2,
       "version_minor": 0
      },
      "text/plain": [
       "0it [00:00, ?it/s]"
      ]
     },
     "metadata": {},
     "output_type": "display_data"
    },
    {
     "name": "stdout",
     "output_type": "stream",
     "text": [
      "[{'mse': [0.0011645848, 0.00047814846], 'bpp_loss': [0.47829068, 1.3417773], 'loss_classic': [1.2355618, 1.6526933], 'PSNR': [29.339317, 33.20488], 'loss': [0.0011645848, 0.00047814846]}]\n",
      "LPIPS ./models_enhancement_FR/model_vimeo11k_LPIPS_cheng2020_attn_quality2_FRtuning.ckpt\n"
     ]
    },
    {
     "data": {
      "application/vnd.jupyter.widget-view+json": {
       "model_id": "9c26fd71105a4d5586ac94a668d3a755",
       "version_major": 2,
       "version_minor": 0
      },
      "text/plain": [
       "0it [00:00, ?it/s]"
      ]
     },
     "metadata": {},
     "output_type": "display_data"
    },
    {
     "data": {
      "application/vnd.jupyter.widget-view+json": {
       "model_id": "808ce447b66f40168b0d2ad70cc8e9db",
       "version_major": 2,
       "version_minor": 0
      },
      "text/plain": [
       "0it [00:00, ?it/s]"
      ]
     },
     "metadata": {},
     "output_type": "display_data"
    },
    {
     "name": "stdout",
     "output_type": "stream",
     "text": [
      "[{'mse': [0.0011637938, 0.00047800684], 'bpp_loss': [0.4785454, 1.3417192], 'loss_classic': [1.2353024, 1.6525431], 'PSNR': [29.34215, 33.20616], 'loss': [0.0011637938, 0.00047800684]}]\n",
      "LPIPS1 ./models_enhancement_FR/model_vimeo11k_LPIPS1_no_codec_FRtuning.ckpt\n"
     ]
    },
    {
     "data": {
      "application/vnd.jupyter.widget-view+json": {
       "model_id": "490778ffb70e463baaf5defab2fce0e0",
       "version_major": 2,
       "version_minor": 0
      },
      "text/plain": [
       "0it [00:00, ?it/s]"
      ]
     },
     "metadata": {},
     "output_type": "display_data"
    },
    {
     "data": {
      "application/vnd.jupyter.widget-view+json": {
       "model_id": "09c496d26c454c2da5fb59888c2fe88f",
       "version_major": 2,
       "version_minor": 0
      },
      "text/plain": [
       "0it [00:00, ?it/s]"
      ]
     },
     "metadata": {},
     "output_type": "display_data"
    },
    {
     "name": "stdout",
     "output_type": "stream",
     "text": [
      "[{'mse': [0.0011635118, 0.00047793353], 'bpp_loss': [0.4785912, 1.3417734], 'loss_classic': [1.2351648, 1.6525497], 'PSNR': [29.343353, 33.206825], 'loss': [0.0011635118, 0.00047793353]}]\n"
     ]
    },
    {
     "data": {
      "application/vnd.jupyter.widget-view+json": {
       "model_id": "7308baf2644c4b0db39a605a4919abb0",
       "version_major": 2,
       "version_minor": 0
      },
      "text/plain": [
       "0it [00:00, ?it/s]"
      ]
     },
     "metadata": {},
     "output_type": "display_data"
    },
    {
     "name": "stdout",
     "output_type": "stream",
     "text": [
      "DISTS ./models_enhancement_FR/model_vimeo11k_DISTS_cheng2020_attn_quality2_FRtuning.ckpt\n"
     ]
    },
    {
     "data": {
      "application/vnd.jupyter.widget-view+json": {
       "model_id": "67fb3038daf64a65a4af71983de18bc2",
       "version_major": 2,
       "version_minor": 0
      },
      "text/plain": [
       "0it [00:00, ?it/s]"
      ]
     },
     "metadata": {},
     "output_type": "display_data"
    },
    {
     "data": {
      "application/vnd.jupyter.widget-view+json": {
       "model_id": "67a2a2e0319643f09d259a2307504fce",
       "version_major": 2,
       "version_minor": 0
      },
      "text/plain": [
       "0it [00:00, ?it/s]"
      ]
     },
     "metadata": {},
     "output_type": "display_data"
    },
    {
     "name": "stdout",
     "output_type": "stream",
     "text": [
      "[{'mse': [0.001772457, 0.00068555115], 'bpp_loss': [0.61478174, 1.4880147], 'loss_classic': [1.7673218, 1.9337943], 'PSNR': [28.094242, 32.003113], 'loss': [0.001772457, 0.00068555115]}]\n",
      "LPIPS ./models_enhancement_FR/model_vimeo11k_LPIPS_cheng2020_attn_quality2_FRtuning.ckpt\n"
     ]
    },
    {
     "data": {
      "application/vnd.jupyter.widget-view+json": {
       "model_id": "371a2f34263d4ce681f55c9203fcbe3b",
       "version_major": 2,
       "version_minor": 0
      },
      "text/plain": [
       "0it [00:00, ?it/s]"
      ]
     },
     "metadata": {},
     "output_type": "display_data"
    },
    {
     "data": {
      "application/vnd.jupyter.widget-view+json": {
       "model_id": "def901981d2a4573a4dfcc28a01a5121",
       "version_major": 2,
       "version_minor": 0
      },
      "text/plain": [
       "0it [00:00, ?it/s]"
      ]
     },
     "metadata": {},
     "output_type": "display_data"
    },
    {
     "name": "stdout",
     "output_type": "stream",
     "text": [
      "[{'mse': [0.00177373, 0.0006858999], 'bpp_loss': [0.61465347, 1.4881382], 'loss_classic': [1.7680215, 1.9341446], 'PSNR': [28.092373, 32.001], 'loss': [0.00177373, 0.0006858999]}]\n",
      "LPIPS1 ./models_enhancement_FR/model_vimeo11k_LPIPS1_no_codec_FRtuning.ckpt\n"
     ]
    },
    {
     "data": {
      "application/vnd.jupyter.widget-view+json": {
       "model_id": "4e9e383067a44b54b60f38aee00a2617",
       "version_major": 2,
       "version_minor": 0
      },
      "text/plain": [
       "0it [00:00, ?it/s]"
      ]
     },
     "metadata": {},
     "output_type": "display_data"
    },
    {
     "data": {
      "application/vnd.jupyter.widget-view+json": {
       "model_id": "3831e37e90294da891b06558ebcad0a8",
       "version_major": 2,
       "version_minor": 0
      },
      "text/plain": [
       "0it [00:00, ?it/s]"
      ]
     },
     "metadata": {},
     "output_type": "display_data"
    },
    {
     "name": "stdout",
     "output_type": "stream",
     "text": [
      "[{'mse': [0.001773684, 0.0006861036], 'bpp_loss': [0.6143899, 1.487673], 'loss_classic': [1.7677279, 1.9338119], 'PSNR': [28.092329, 31.99934], 'loss': [0.001773684, 0.0006861036]}]\n"
     ]
    },
    {
     "data": {
      "application/vnd.jupyter.widget-view+json": {
       "model_id": "66f1d413017943bd81705118c267e193",
       "version_major": 2,
       "version_minor": 0
      },
      "text/plain": [
       "0it [00:00, ?it/s]"
      ]
     },
     "metadata": {},
     "output_type": "display_data"
    },
    {
     "name": "stdout",
     "output_type": "stream",
     "text": [
      "DISTS ./models_enhancement_FR/model_vimeo11k_DISTS_cheng2020_attn_quality2_FRtuning.ckpt\n"
     ]
    },
    {
     "data": {
      "application/vnd.jupyter.widget-view+json": {
       "model_id": "a73f5d005f6c4723b50842e81d66e5c3",
       "version_major": 2,
       "version_minor": 0
      },
      "text/plain": [
       "0it [00:00, ?it/s]"
      ]
     },
     "metadata": {},
     "output_type": "display_data"
    },
    {
     "data": {
      "application/vnd.jupyter.widget-view+json": {
       "model_id": "55f1962659bc43df8b99a0d836607b0a",
       "version_major": 2,
       "version_minor": 0
      },
      "text/plain": [
       "0it [00:00, ?it/s]"
      ]
     },
     "metadata": {},
     "output_type": "display_data"
    },
    {
     "name": "stdout",
     "output_type": "stream",
     "text": [
      "[{'mse': [0.00019019507, 0.00011740824], 'bpp_loss': [0.13415913, 0.2725479], 'loss_classic': [0.25783348, 0.34889263], 'PSNR': [37.55301, 39.42483], 'loss': [0.00019019507, 0.00011740824]}]\n",
      "LPIPS ./models_enhancement_FR/model_vimeo11k_LPIPS_cheng2020_attn_quality2_FRtuning.ckpt\n"
     ]
    },
    {
     "data": {
      "application/vnd.jupyter.widget-view+json": {
       "model_id": "99685270ab7241c7b7e6c04da0bdf006",
       "version_major": 2,
       "version_minor": 0
      },
      "text/plain": [
       "0it [00:00, ?it/s]"
      ]
     },
     "metadata": {},
     "output_type": "display_data"
    },
    {
     "data": {
      "application/vnd.jupyter.widget-view+json": {
       "model_id": "3bcfdfc4686d4bf2aac3ad1fbc231423",
       "version_major": 2,
       "version_minor": 0
      },
      "text/plain": [
       "0it [00:00, ?it/s]"
      ]
     },
     "metadata": {},
     "output_type": "display_data"
    },
    {
     "name": "stdout",
     "output_type": "stream",
     "text": [
      "[{'mse': [0.00019000523, 0.00011735418], 'bpp_loss': [0.13433622, 0.27241483], 'loss_classic': [0.25788713, 0.3487244], 'PSNR': [37.55461, 39.426174], 'loss': [0.00019000523, 0.00011735418]}]\n",
      "LPIPS1 ./models_enhancement_FR/model_vimeo11k_LPIPS1_no_codec_FRtuning.ckpt\n"
     ]
    },
    {
     "data": {
      "application/vnd.jupyter.widget-view+json": {
       "model_id": "6b90dc355bb84504ab35be8800666813",
       "version_major": 2,
       "version_minor": 0
      },
      "text/plain": [
       "0it [00:00, ?it/s]"
      ]
     },
     "metadata": {},
     "output_type": "display_data"
    },
    {
     "data": {
      "application/vnd.jupyter.widget-view+json": {
       "model_id": "57f9c919773b4547b4a763a3d9873298",
       "version_major": 2,
       "version_minor": 0
      },
      "text/plain": [
       "0it [00:00, ?it/s]"
      ]
     },
     "metadata": {},
     "output_type": "display_data"
    },
    {
     "name": "stdout",
     "output_type": "stream",
     "text": [
      "[{'mse': [0.000189934, 0.0001173894], 'bpp_loss': [0.13424274, 0.27265328], 'loss_classic': [0.25774735, 0.3489857], 'PSNR': [37.55472, 39.425053], 'loss': [0.000189934, 0.0001173894]}]\n"
     ]
    },
    {
     "data": {
      "application/vnd.jupyter.widget-view+json": {
       "model_id": "6c673755430c4ec7aaf85e2f0dcce871",
       "version_major": 2,
       "version_minor": 0
      },
      "text/plain": [
       "0it [00:00, ?it/s]"
      ]
     },
     "metadata": {},
     "output_type": "display_data"
    },
    {
     "name": "stdout",
     "output_type": "stream",
     "text": [
      "DISTS ./models_enhancement_FR/model_vimeo11k_DISTS_cheng2020_attn_quality2_FRtuning.ckpt\n"
     ]
    },
    {
     "data": {
      "application/vnd.jupyter.widget-view+json": {
       "model_id": "c749bef557014fb5ac89984456a3c558",
       "version_major": 2,
       "version_minor": 0
      },
      "text/plain": [
       "0it [00:00, ?it/s]"
      ]
     },
     "metadata": {},
     "output_type": "display_data"
    },
    {
     "data": {
      "application/vnd.jupyter.widget-view+json": {
       "model_id": "cdc9125eb37d4e6daedccd8aca5a84f3",
       "version_major": 2,
       "version_minor": 0
      },
      "text/plain": [
       "0it [00:00, ?it/s]"
      ]
     },
     "metadata": {},
     "output_type": "display_data"
    },
    {
     "name": "stdout",
     "output_type": "stream",
     "text": [
      "[{'mse': [0.0003857363, 0.00015824393], 'bpp_loss': [0.1968076, 0.5214877], 'loss_classic': [0.4476326, 0.62438583], 'PSNR': [34.140877, 38.00969], 'loss': [0.0003857363, 0.00015824393]}]\n",
      "LPIPS ./models_enhancement_FR/model_vimeo11k_LPIPS_cheng2020_attn_quality2_FRtuning.ckpt\n"
     ]
    },
    {
     "data": {
      "application/vnd.jupyter.widget-view+json": {
       "model_id": "3d083a98f42644289793546b68decd96",
       "version_major": 2,
       "version_minor": 0
      },
      "text/plain": [
       "0it [00:00, ?it/s]"
      ]
     },
     "metadata": {},
     "output_type": "display_data"
    },
    {
     "data": {
      "application/vnd.jupyter.widget-view+json": {
       "model_id": "5762efc396ec4531b53e7bb94eba6805",
       "version_major": 2,
       "version_minor": 0
      },
      "text/plain": [
       "0it [00:00, ?it/s]"
      ]
     },
     "metadata": {},
     "output_type": "display_data"
    },
    {
     "name": "stdout",
     "output_type": "stream",
     "text": [
      "[{'mse': [0.0003855934, 0.0001583684], 'bpp_loss': [0.19687566, 0.52171326], 'loss_classic': [0.44760776, 0.6246923], 'PSNR': [34.14229, 38.006157], 'loss': [0.0003855934, 0.0001583684]}]\n",
      "LPIPS1 ./models_enhancement_FR/model_vimeo11k_LPIPS1_no_codec_FRtuning.ckpt\n"
     ]
    },
    {
     "data": {
      "application/vnd.jupyter.widget-view+json": {
       "model_id": "d03a85f226ac46d7b8f49812c8aea33f",
       "version_major": 2,
       "version_minor": 0
      },
      "text/plain": [
       "0it [00:00, ?it/s]"
      ]
     },
     "metadata": {},
     "output_type": "display_data"
    },
    {
     "data": {
      "application/vnd.jupyter.widget-view+json": {
       "model_id": "9e902e2a40334ab5af2cd9e61f8ae7a2",
       "version_major": 2,
       "version_minor": 0
      },
      "text/plain": [
       "0it [00:00, ?it/s]"
      ]
     },
     "metadata": {},
     "output_type": "display_data"
    },
    {
     "name": "stdout",
     "output_type": "stream",
     "text": [
      "[{'mse': [0.00038541656, 0.0001582719], 'bpp_loss': [0.19688559, 0.5212835], 'loss_classic': [0.44750267, 0.62419975], 'PSNR': [34.14402, 38.008904], 'loss': [0.00038541656, 0.0001582719]}]\n",
      "\n"
     ]
    },
    {
     "data": {
      "text/html": [
       "Waiting for W&B process to finish... <strong style=\"color:green\">(success).</strong>"
      ],
      "text/plain": [
       "<IPython.core.display.HTML object>"
      ]
     },
     "metadata": {},
     "output_type": "display_data"
    },
    {
     "data": {
      "application/vnd.jupyter.widget-view+json": {
       "model_id": "",
       "version_major": 2,
       "version_minor": 0
      },
      "text/plain": [
       "VBox(children=(Label(value='28.660 MB of 28.660 MB uploaded (0.000 MB deduped)\\r'), FloatProgress(value=1.0, m…"
      ]
     },
     "metadata": {},
     "output_type": "display_data"
    },
    {
     "data": {
      "text/html": [
       "Synced <strong style=\"color:#cdcd00\">RD_curves_all_met_18_03Without Preprocessing</strong>: <a href=\"https://wandb.ai/havent_invented/Whitebox_strong_metrics_attacks/runs/2k8jw2v0\" target=\"_blank\">https://wandb.ai/havent_invented/Whitebox_strong_metrics_attacks/runs/2k8jw2v0</a><br/>Synced 7 W&B file(s), 21 media file(s), 21 artifact file(s) and 2 other file(s)"
      ],
      "text/plain": [
       "<IPython.core.display.HTML object>"
      ]
     },
     "metadata": {},
     "output_type": "display_data"
    },
    {
     "data": {
      "text/html": [
       "Find logs at: <code>.\\wandb\\run-20220404_111246-2k8jw2v0\\logs</code>"
      ],
      "text/plain": [
       "<IPython.core.display.HTML object>"
      ]
     },
     "metadata": {},
     "output_type": "display_data"
    },
    {
     "name": "stdout",
     "output_type": "stream",
     "text": [
      "[[[{'mse': [0.00030126804, 0.00011004411], 'bpp_loss': [0.19183017, 0.46235782], 'loss_classic': [0.3877297, 0.53391397], 'PSNR': [35.32418, 39.61398], 'loss': [0.00030126804, 0.00011004411]}], [{'mse': [0.00030135858, 0.000109775894], 'bpp_loss': [0.19214009, 0.46209806], 'loss_classic': [0.38809854, 0.5334798], 'PSNR': [35.321224, 39.62398], 'loss': [0.00030135858, 0.000109775894]}], [{'mse': [0.00030126452, 0.00010977346], 'bpp_loss': [0.19199713, 0.46232155], 'loss_classic': [0.3878944, 0.5337017], 'PSNR': [35.3231, 39.62449], 'loss': [0.00030126452, 0.00010977346]}]], [[{'mse': [0.00024071735, 0.00010034666], 'bpp_loss': [0.14651108, 0.35015562], 'loss_classic': [0.30303752, 0.41540605], 'PSNR': [36.50287, 40.241405], 'loss': [0.00024071735, 0.00010034666]}], [{'mse': [0.0002400351, 0.00010025315], 'bpp_loss': [0.14659846, 0.35007596], 'loss_classic': [0.30268127, 0.41526556], 'PSNR': [36.508537, 40.24828], 'loss': [0.0002400351, 0.00010025315]}], [{'mse': [0.00023990485, 0.00010034402], 'bpp_loss': [0.14654323, 0.3494549], 'loss_classic': [0.30254138, 0.41470358], 'PSNR': [36.50816, 40.244392], 'loss': [0.00023990485, 0.00010034402]}]], [[{'mse': [3.0018375e-05, 1.41414275e-05], 'bpp_loss': [0.102265455, 0.16741587], 'loss_classic': [0.121784896, 0.17661133], 'PSNR': [45.252647, 48.51215], 'loss': [3.0018375e-05, 1.41414275e-05]}], [{'mse': [3.0064575e-05, 1.4140893e-05], 'bpp_loss': [0.10236544, 0.16731969], 'loss_classic': [0.12191493, 0.1765148], 'PSNR': [45.24891, 48.514023], 'loss': [3.0064575e-05, 1.4140893e-05]}], [{'mse': [3.0011077e-05, 1.4134602e-05], 'bpp_loss': [0.10234587, 0.16737325], 'loss_classic': [0.121860564, 0.17656428], 'PSNR': [45.25341, 48.513977], 'loss': [3.0011077e-05, 1.4134602e-05]}]], [[{'mse': [0.0011645848, 0.00047814846], 'bpp_loss': [0.47829068, 1.3417773], 'loss_classic': [1.2355618, 1.6526933], 'PSNR': [29.339317, 33.20488], 'loss': [0.0011645848, 0.00047814846]}], [{'mse': [0.0011637938, 0.00047800684], 'bpp_loss': [0.4785454, 1.3417192], 'loss_classic': [1.2353024, 1.6525431], 'PSNR': [29.34215, 33.20616], 'loss': [0.0011637938, 0.00047800684]}], [{'mse': [0.0011635118, 0.00047793353], 'bpp_loss': [0.4785912, 1.3417734], 'loss_classic': [1.2351648, 1.6525497], 'PSNR': [29.343353, 33.206825], 'loss': [0.0011635118, 0.00047793353]}]], [[{'mse': [0.001772457, 0.00068555115], 'bpp_loss': [0.61478174, 1.4880147], 'loss_classic': [1.7673218, 1.9337943], 'PSNR': [28.094242, 32.003113], 'loss': [0.001772457, 0.00068555115]}], [{'mse': [0.00177373, 0.0006858999], 'bpp_loss': [0.61465347, 1.4881382], 'loss_classic': [1.7680215, 1.9341446], 'PSNR': [28.092373, 32.001], 'loss': [0.00177373, 0.0006858999]}], [{'mse': [0.001773684, 0.0006861036], 'bpp_loss': [0.6143899, 1.487673], 'loss_classic': [1.7677279, 1.9338119], 'PSNR': [28.092329, 31.99934], 'loss': [0.001773684, 0.0006861036]}]], [[{'mse': [0.00019019507, 0.00011740824], 'bpp_loss': [0.13415913, 0.2725479], 'loss_classic': [0.25783348, 0.34889263], 'PSNR': [37.55301, 39.42483], 'loss': [0.00019019507, 0.00011740824]}], [{'mse': [0.00019000523, 0.00011735418], 'bpp_loss': [0.13433622, 0.27241483], 'loss_classic': [0.25788713, 0.3487244], 'PSNR': [37.55461, 39.426174], 'loss': [0.00019000523, 0.00011735418]}], [{'mse': [0.000189934, 0.0001173894], 'bpp_loss': [0.13424274, 0.27265328], 'loss_classic': [0.25774735, 0.3489857], 'PSNR': [37.55472, 39.425053], 'loss': [0.000189934, 0.0001173894]}]], [[{'mse': [0.0003857363, 0.00015824393], 'bpp_loss': [0.1968076, 0.5214877], 'loss_classic': [0.4476326, 0.62438583], 'PSNR': [34.140877, 38.00969], 'loss': [0.0003857363, 0.00015824393]}], [{'mse': [0.0003855934, 0.0001583684], 'bpp_loss': [0.19687566, 0.52171326], 'loss_classic': [0.44760776, 0.6246923], 'PSNR': [34.14229, 38.006157], 'loss': [0.0003855934, 0.0001583684]}], [{'mse': [0.00038541656, 0.0001582719], 'bpp_loss': [0.19688559, 0.5212835], 'loss_classic': [0.44750267, 0.62419975], 'PSNR': [34.14402, 38.008904], 'loss': [0.00038541656, 0.0001582719]}]]]\n"
     ]
    }
   ],
   "source": [
    "#FR\n",
    "for to_crop in [True, False]:\n",
    "    for Identity_flag in [False, True]:\n",
    "        for codecs_all, codec_type in zip([codecs_all_motion_1, codecs_all_h264_3,codecs_all_neural_2], [ \"motion\", \"h264\",\"neural\"]):\n",
    "            try:\n",
    "                model_dirs_full, model_target_met_names, model_names = force_names#get_met_names(directory='./models_enhancement_FR/',key= lambda x: \"model_vimeo11k_DISTS1_cheng2020_attn_quality2_FRtuning.ckpt\" in x or \"model_vimeo11k_LPIPS_cheng2020_attn_quality2_FRtuning - Copy.ckpt\" in x or \"model_vimeo11k_LPIPS1_cheng2020_attn_quality2_FRtuning_сщзн.ckpt\" in x, force_names = )\n",
    "                net_enhances = load_models(model_dirs_full)\n",
    "                \n",
    "                device_met = \"cuda:0\"\n",
    "                device_enh = \"cuda:0\"\n",
    "                device_sub = \"cpu\"\n",
    "                num_frames = 64\n",
    "                \n",
    "                batch_sz = 2\n",
    "                Log_1 = []\n",
    "                model_target_met_names = [i if i != \"PAC2PIC\" else \"PAC2PIQ\" for i in model_target_met_names]\n",
    "                if Identity_flag:\n",
    "                    model_target_met_names = np.unique(model_target_met_names)\n",
    "                wandb.init(project=\"Whitebox_strong_metrics_attacks\", entity=\"havent_invented\", name=\"RD_curves_all_met_18_03\" + (\"Without Preprocessing\" if Identity_flag else \"With Preprocessing\"),\n",
    "                           tags = {\"RD curves\", (\"Without Preprocessing\" if Identity_flag else \"With Preprocessing\")}, save_code = True)  \n",
    "                wandb.config.update({\"codecs\": codecs_all, \n",
    "                                     \"Target Metrics\": model_target_met_names,\n",
    "                                     \"full_model_dirs\" : model_dirs_full,\n",
    "                                     \"num_frames\" : num_frames, \n",
    "                                     \"No preprocessing\" : Identity_flag,\n",
    "                                    \"codecs\": [str(i) for i in codecs_all],\n",
    "                                     \"to_crop\": to_crop,\n",
    "                                     \"codec_type\": codec_type\n",
    "                                    })\n",
    "                for idxf, file in tqdm(enumerate(os.listdir(dst_dir))):\n",
    "                    Log_2 = []\n",
    "                    for model,met_name,fil_name_1 in tqdm(zip(net_enhances, model_target_met_names, model_dirs_full)):\n",
    "                        if met_name == \"VSFA\":\n",
    "                            batch_sz = 2\n",
    "                        else:\n",
    "                            batch_sz = 1#2\n",
    "                        if met_name == \"Linearity\":\n",
    "                            deivce_main = \"cuda:0\"\n",
    "                        else:\n",
    "                            deivce_main = \"cuda:0\"\n",
    "                        torch.cuda.empty_cache()\n",
    "                        with torch.no_grad():\n",
    "                            try:\n",
    "                                f_name = met_name + \" \" +  file + (\" without\" if Identity_flag else \" with\") + \" preprocessing\" \n",
    "                                print(met_name, fil_name_1)\n",
    "                                try:\n",
    "                                    del loss_calc\n",
    "                                except Exception:\n",
    "                                    pass\n",
    "                                loss_calc = Custom_enh_Loss(target_lst=['mse', met_name], to_train = False, crop_NIMA = False)\n",
    "                                loss_calc = loss_calc.to('cpu')\n",
    "                                ful_name = dst_dir + file\n",
    "                                home_dir = \"R:/home_dir/\"\n",
    "                                #dataset_test = Video_reader_dataset(name1 = ful_name, num_frames= 64, minimal_batch_sz = 2)#\n",
    "                                #dataset_test = DataLoader(dataset_test, batch_size= batch_sz, shuffle = False)\n",
    "                                Log_3 = models_codecs_dataset_outer([enhance_Identity if Identity_flag else model],codecs = codecs_all,\n",
    "                                                    vid_full_dir = ful_name, to_crop = to_crop, loss_f = loss_calc)\n",
    "                                table = wandb.Table(columns= list(Log_3[0].keys()), data = [list(Log_3[0].values())])\n",
    "                                wandb.log({f_name: table}) \n",
    "                                print(Log_3)\n",
    "                                Log_2.append(Log_3)\n",
    "                            except Exception as exc:\n",
    "                                #raise\n",
    "                                wandb.alert(title=str(exc), text=str(exc) + \" in \" + f_name, level = wandb.AlertLevel.ERROR)\n",
    "                                print(\"Exception in \" + met_name)\n",
    "                                \n",
    "                    Log_1.append(Log_2)\n",
    "                    if 1:\n",
    "                        np.save(\"./Logs_rd_curves/netcodec_\" + (\"crop\" if to_crop else \"FullHD\") + codec_type + (\"_Identity\" if Identity_flag else \"\") + \".npy\", Log_1)\n",
    "                    \n",
    "                wandb.finish()\n",
    "                print(Log_1)\n",
    "            except Exception:\n",
    "                wandb.alert(title=str(exc), text=str(exc) + \" in \" + f_name, level = wandb.AlertLevel.ERROR)"
   ]
  },
  {
   "cell_type": "code",
   "execution_count": 15,
   "id": "checked-editor",
   "metadata": {},
   "outputs": [
    {
     "data": {
      "application/vnd.jupyter.widget-view+json": {
       "model_id": "7fc052bd84d848fb88a0faf6c260b4e5",
       "version_major": 2,
       "version_minor": 0
      },
      "text/plain": [
       "0it [00:00, ?it/s]"
      ]
     },
     "metadata": {},
     "output_type": "display_data"
    },
    {
     "data": {
      "application/vnd.jupyter.widget-view+json": {
       "model_id": "81fe91dcad934f7997a55863d82768e8",
       "version_major": 2,
       "version_minor": 0
      },
      "text/plain": [
       "0it [00:00, ?it/s]"
      ]
     },
     "metadata": {},
     "output_type": "display_data"
    }
   ],
   "source": [
    "Log_31 = models_codecs_dataset_outer([enhance_Identity if Identity_flag else model],codecs = codecs_all,\n",
    "                                                    vid_full_dir = ful_name, to_crop = to_crop, loss_f = loss_calc)"
   ]
  },
  {
   "cell_type": "code",
   "execution_count": 20,
   "id": "legal-hearing",
   "metadata": {},
   "outputs": [
    {
     "data": {
      "text/plain": [
       "['mse', 'LPIPS1']"
      ]
     },
     "execution_count": 20,
     "metadata": {},
     "output_type": "execute_result"
    }
   ],
   "source": [
    "loss_calc.target_lst"
   ]
  },
  {
   "cell_type": "code",
   "execution_count": 16,
   "id": "complicated-attachment",
   "metadata": {},
   "outputs": [
    {
     "data": {
      "text/plain": [
       "[{'mse': [0.000385212, 0.00015833332],\n",
       "  'bpp_loss': [0.19677877, 0.5216371],\n",
       "  'loss_classic': [0.44726285, 0.6245934],\n",
       "  'PSNR': [34.14646, 38.007214],\n",
       "  'loss': [0.000385212, 0.00015833332]}]"
      ]
     },
     "execution_count": 16,
     "metadata": {},
     "output_type": "execute_result"
    }
   ],
   "source": [
    "Log_31"
   ]
  },
  {
   "cell_type": "code",
   "execution_count": 14,
   "id": "structural-bundle",
   "metadata": {},
   "outputs": [
    {
     "data": {
      "text/plain": [
       "[{'mse': [0.00038541656, 0.0001582719],\n",
       "  'bpp_loss': [0.19688559, 0.5212835],\n",
       "  'loss_classic': [0.44750267, 0.62419975],\n",
       "  'PSNR': [34.14402, 38.008904],\n",
       "  'loss': [0.00038541656, 0.0001582719]}]"
      ]
     },
     "execution_count": 14,
     "metadata": {},
     "output_type": "execute_result"
    }
   ],
   "source": [
    "Log_3"
   ]
  },
  {
   "cell_type": "code",
   "execution_count": 13,
   "id": "binary-meaning",
   "metadata": {},
   "outputs": [
    {
     "data": {
      "text/plain": [
       "[{'mse': [0.00038541656, 0.0001582719],\n",
       "  'bpp_loss': [0.19688559, 0.5212835],\n",
       "  'loss_classic': [0.44750267, 0.62419975],\n",
       "  'PSNR': [34.14402, 38.008904],\n",
       "  'loss': [0.00038541656, 0.0001582719]}]"
      ]
     },
     "execution_count": 13,
     "metadata": {},
     "output_type": "execute_result"
    }
   ],
   "source": [
    "Log_3"
   ]
  },
  {
   "cell_type": "code",
   "execution_count": 8,
   "id": "experienced-construction",
   "metadata": {},
   "outputs": [],
   "source": [
    "Log_3_without = [{'mse': [0.004138566,\n",
    "   0.0029182995,\n",
    "   0.0021391548,\n",
    "   0.0014130209,\n",
    "   0.0009266126,\n",
    "   0.0008927816,\n",
    "   0.000996243,\n",
    "   0.0010248113,\n",
    "   0.0009271322,\n",
    "   0.00088661886],\n",
    "  'bpp_loss': [0.021601094,\n",
    "   0.021601094,\n",
    "   0.021601094,\n",
    "   0.021601094,\n",
    "   0.021601094,\n",
    "   0.021601094,\n",
    "   0.021601094,\n",
    "   0.021601094,\n",
    "   0.021601094,\n",
    "   0.021601094],\n",
    "  'loss_classic': [2.7127037,\n",
    "   1.9192253,\n",
    "   1.4125866,\n",
    "   0.94041795,\n",
    "   0.6241309,\n",
    "   0.6021323,\n",
    "   0.669408,\n",
    "   0.6879847,\n",
    "   0.6244688,\n",
    "   0.59812504],\n",
    "  'PSNR': [23.87324,\n",
    "   25.398468,\n",
    "   26.741173,\n",
    "   28.531967,\n",
    "   30.360533,\n",
    "   30.529217,\n",
    "   30.088953,\n",
    "   29.97151,\n",
    "   30.367912,\n",
    "   30.550694],\n",
    "  'DISTS1': [0.25121826,\n",
    "   0.20849338,\n",
    "   0.16705196,\n",
    "   0.11747103,\n",
    "   0.07635565,\n",
    "   0.063581474,\n",
    "   0.07246511,\n",
    "   0.078163534,\n",
    "   0.07597885,\n",
    "   0.072255895],\n",
    "  'loss': [502.4406,\n",
    "   416.98965,\n",
    "   334.10605,\n",
    "   234.94348,\n",
    "   152.71222,\n",
    "   127.16383,\n",
    "   144.93123,\n",
    "   156.3281,\n",
    "   151.95862,\n",
    "   144.51268],\n",
    "  'bitrate': [0.097881,\n",
    "   0.170265,\n",
    "   0.260425,\n",
    "   0.436878,\n",
    "   0.832237,\n",
    "   1.796109,\n",
    "   3.475012,\n",
    "   8.211812,\n",
    "   17.358653,\n",
    "   23.61405]}]\n",
    "Log_3_with = [{'mse': [0.003761526,\n",
    "   0.0022537024,\n",
    "   0.0015512533,\n",
    "   0.00091297226,\n",
    "   0.00046287983,\n",
    "   0.0002791155,\n",
    "   0.00022671149,\n",
    "   0.00019999941,\n",
    "   0.00018672063,\n",
    "   0.00017199243],\n",
    "  'bpp_loss': [0.021601094,\n",
    "   0.021601094,\n",
    "   0.021601094,\n",
    "   0.021601094,\n",
    "   0.021601094,\n",
    "   0.021601094,\n",
    "   0.021601094,\n",
    "   0.021601094,\n",
    "   0.021601094,\n",
    "   0.021601094],\n",
    "  'loss_classic': [2.4675333,\n",
    "   1.4870713,\n",
    "   1.0303035,\n",
    "   0.6152613,\n",
    "   0.32258868,\n",
    "   0.20309597,\n",
    "   0.16902025,\n",
    "   0.15165071,\n",
    "   0.14301617,\n",
    "   0.13343918],\n",
    "  'PSNR': [24.301882,\n",
    "   26.550669,\n",
    "   28.171638,\n",
    "   30.460445,\n",
    "   33.400444,\n",
    "   35.58738,\n",
    "   36.4852,\n",
    "   37.067566,\n",
    "   37.52347,\n",
    "   37.957916],\n",
    "  'DISTS1': [0.24984428,\n",
    "   0.19108722,\n",
    "   0.15613475,\n",
    "   0.106379926,\n",
    "   0.06855124,\n",
    "   0.046516858,\n",
    "   0.038198758,\n",
    "   0.027051479,\n",
    "   0.021883175,\n",
    "   0.020024614],\n",
    "  'loss': [499.69232,\n",
    "   382.1767,\n",
    "   312.27106,\n",
    "   212.76077,\n",
    "   137.10294,\n",
    "   93.034,\n",
    "   76.39774,\n",
    "   54.103157,\n",
    "   43.766537,\n",
    "   40.0494],\n",
    "  'bitrate': [0.100881,\n",
    "   0.172306,\n",
    "   0.263106,\n",
    "   0.429271,\n",
    "   0.825821,\n",
    "   1.681812,\n",
    "   2.59339,\n",
    "   4.593584,\n",
    "   9.852437,\n",
    "   14.188521]}]"
   ]
  },
  {
   "cell_type": "code",
   "execution_count": 6,
   "id": "previous-attachment",
   "metadata": {
    "collapsed": true
   },
   "outputs": [
    {
     "data": {
      "text/plain": [
       "[{'mse': [0.004138566,\n",
       "   0.0029182995,\n",
       "   0.0021391548,\n",
       "   0.0014130209,\n",
       "   0.0009266126,\n",
       "   0.0008927816,\n",
       "   0.000996243,\n",
       "   0.0010248113,\n",
       "   0.0009271322,\n",
       "   0.00088661886],\n",
       "  'bpp_loss': [0.021601094,\n",
       "   0.021601094,\n",
       "   0.021601094,\n",
       "   0.021601094,\n",
       "   0.021601094,\n",
       "   0.021601094,\n",
       "   0.021601094,\n",
       "   0.021601094,\n",
       "   0.021601094,\n",
       "   0.021601094],\n",
       "  'loss_classic': [2.7127037,\n",
       "   1.9192253,\n",
       "   1.4125866,\n",
       "   0.94041795,\n",
       "   0.6241309,\n",
       "   0.6021323,\n",
       "   0.669408,\n",
       "   0.6879847,\n",
       "   0.6244688,\n",
       "   0.59812504],\n",
       "  'PSNR': [23.87324,\n",
       "   25.398468,\n",
       "   26.741173,\n",
       "   28.531967,\n",
       "   30.360533,\n",
       "   30.529217,\n",
       "   30.088953,\n",
       "   29.97151,\n",
       "   30.367912,\n",
       "   30.550694],\n",
       "  'DISTS1': [0.25121826,\n",
       "   0.20849338,\n",
       "   0.16705196,\n",
       "   0.11747103,\n",
       "   0.07635565,\n",
       "   0.063581474,\n",
       "   0.07246511,\n",
       "   0.078163534,\n",
       "   0.07597885,\n",
       "   0.072255895],\n",
       "  'loss': [502.4406,\n",
       "   416.98965,\n",
       "   334.10605,\n",
       "   234.94348,\n",
       "   152.71222,\n",
       "   127.16383,\n",
       "   144.93123,\n",
       "   156.3281,\n",
       "   151.95862,\n",
       "   144.51268],\n",
       "  'bitrate': [0.097881,\n",
       "   0.170265,\n",
       "   0.260425,\n",
       "   0.436878,\n",
       "   0.832237,\n",
       "   1.796109,\n",
       "   3.475012,\n",
       "   8.211812,\n",
       "   17.358653,\n",
       "   23.61405]}]"
      ]
     },
     "execution_count": 6,
     "metadata": {},
     "output_type": "execute_result"
    }
   ],
   "source": [
    "Log_3#Without preprocessing"
   ]
  },
  {
   "cell_type": "code",
   "execution_count": 20,
   "id": "attended-vegetarian",
   "metadata": {},
   "outputs": [
    {
     "data": {
      "text/plain": [
       "<matplotlib.legend.Legend at 0x1c6297c7040>"
      ]
     },
     "execution_count": 20,
     "metadata": {},
     "output_type": "execute_result"
    },
    {
     "data": {
      "image/png": "[encoded data removed]",
      "text/plain": [
       "<Figure size 432x288 with 1 Axes>"
      ]
     },
     "metadata": {
      "needs_background": "light"
     },
     "output_type": "display_data"
    },
    {
     "data": {
      "image/png": "[encoded data removed]",
      "text/plain": [
       "<Figure size 432x288 with 1 Axes>"
      ]
     },
     "metadata": {
      "needs_background": "light"
     },
     "output_type": "display_data"
    }
   ],
   "source": [
    "plt.figure()\n",
    "plt.title(\"PSNR\")\n",
    "plt.plot(Log_3_with[0]['bitrate'], Log_3_with[0]['PSNR'], label = \"withouth preprocessing\")\n",
    "plt.scatter(Log_3_with[0]['bitrate'], Log_3_with[0]['PSNR'])\n",
    "plt.plot(Log_3_without[0]['bitrate'], Log_3_without[0]['PSNR'], label = \"with preprocessing\")\n",
    "plt.scatter(Log_3_without[0]['bitrate'], Log_3_without[0]['PSNR'])\n",
    "plt.legend()\n",
    "plt.figure()\n",
    "plt.title(\"DISTS\")\n",
    "plt.plot(Log_3_with[0]['bitrate'], Log_3_with[0]['DISTS1'], label = \"without preprocessing\")\n",
    "plt.scatter(Log_3_with[0]['bitrate'], Log_3_with[0]['DISTS1'])\n",
    "plt.plot(Log_3_without[0]['bitrate'], Log_3_without[0]['DISTS1'], label = \"with preprocessing\")\n",
    "plt.scatter(Log_3_without[0]['bitrate'], Log_3_without[0]['DISTS1'])\n",
    "plt.legend()"
   ]
  },
  {
   "cell_type": "code",
   "execution_count": 8,
   "id": "qualified-freeze",
   "metadata": {
    "collapsed": true
   },
   "outputs": [
    {
     "data": {
      "text/plain": [
       "[{'mse': [0.003761526,\n",
       "   0.0022537024,\n",
       "   0.0015512533,\n",
       "   0.00091297226,\n",
       "   0.00046287983,\n",
       "   0.0002791155,\n",
       "   0.00022671149,\n",
       "   0.00019999941,\n",
       "   0.00018672063,\n",
       "   0.00017199243],\n",
       "  'bpp_loss': [0.021601094,\n",
       "   0.021601094,\n",
       "   0.021601094,\n",
       "   0.021601094,\n",
       "   0.021601094,\n",
       "   0.021601094,\n",
       "   0.021601094,\n",
       "   0.021601094,\n",
       "   0.021601094,\n",
       "   0.021601094],\n",
       "  'loss_classic': [2.4675333,\n",
       "   1.4870713,\n",
       "   1.0303035,\n",
       "   0.6152613,\n",
       "   0.32258868,\n",
       "   0.20309597,\n",
       "   0.16902025,\n",
       "   0.15165071,\n",
       "   0.14301617,\n",
       "   0.13343918],\n",
       "  'PSNR': [24.301882,\n",
       "   26.550669,\n",
       "   28.171638,\n",
       "   30.460445,\n",
       "   33.400444,\n",
       "   35.58738,\n",
       "   36.4852,\n",
       "   37.067566,\n",
       "   37.52347,\n",
       "   37.957916],\n",
       "  'DISTS1': [0.24984428,\n",
       "   0.19108722,\n",
       "   0.15613475,\n",
       "   0.106379926,\n",
       "   0.06855124,\n",
       "   0.046516858,\n",
       "   0.038198758,\n",
       "   0.027051479,\n",
       "   0.021883175,\n",
       "   0.020024614],\n",
       "  'loss': [499.69232,\n",
       "   382.1767,\n",
       "   312.27106,\n",
       "   212.76077,\n",
       "   137.10294,\n",
       "   93.034,\n",
       "   76.39774,\n",
       "   54.103157,\n",
       "   43.766537,\n",
       "   40.0494],\n",
       "  'bitrate': [0.100881,\n",
       "   0.172306,\n",
       "   0.263106,\n",
       "   0.429271,\n",
       "   0.825821,\n",
       "   1.681812,\n",
       "   2.59339,\n",
       "   4.593584,\n",
       "   9.852437,\n",
       "   14.188521]}]"
      ]
     },
     "execution_count": 8,
     "metadata": {},
     "output_type": "execute_result"
    }
   ],
   "source": [
    "Log_3# With preprocessing"
   ]
  },
  {
   "cell_type": "code",
   "execution_count": 6,
   "id": "excellent-science",
   "metadata": {
    "collapsed": true
   },
   "outputs": [
    {
     "name": "stderr",
     "output_type": "stream",
     "text": [
      "Failed to detect the name of this notebook, you can set it manually with the WANDB_NOTEBOOK_NAME environment variable to enable code saving.\n",
      "wandb: Currently logged in as: havent_invented (use `wandb login --relogin` to force relogin)\n"
     ]
    },
    {
     "data": {
      "text/html": [
       "Tracking run with wandb version 0.12.11"
      ],
      "text/plain": [
       "<IPython.core.display.HTML object>"
      ]
     },
     "metadata": {},
     "output_type": "display_data"
    },
    {
     "data": {
      "text/html": [
       "Run data is saved locally in <code>E:\\VMAF_METRIX\\NeuralNetworkCompression\\wandb\\run-20220320_052139-3k21kp7l</code>"
      ],
      "text/plain": [
       "<IPython.core.display.HTML object>"
      ]
     },
     "metadata": {},
     "output_type": "display_data"
    },
    {
     "data": {
      "text/html": [
       "Syncing run <strong><a href=\"https://wandb.ai/havent_invented/Whitebox_strong_metrics_attacks/runs/3k21kp7l\" target=\"_blank\">RD_curves_all_met_18_03Without Preprocessing</a></strong> to <a href=\"https://wandb.ai/havent_invented/Whitebox_strong_metrics_attacks\" target=\"_blank\">Weights & Biases</a> (<a href=\"https://wandb.me/run\" target=\"_blank\">docs</a>)<br/>"
      ],
      "text/plain": [
       "<IPython.core.display.HTML object>"
      ]
     },
     "metadata": {},
     "output_type": "display_data"
    },
    {
     "data": {
      "application/vnd.jupyter.widget-view+json": {
       "model_id": "730af0eb272f4b198fa48ac70ab88003",
       "version_major": 2,
       "version_minor": 0
      },
      "text/plain": [
       "0it [00:00, ?it/s]"
      ]
     },
     "metadata": {},
     "output_type": "display_data"
    },
    {
     "data": {
      "application/vnd.jupyter.widget-view+json": {
       "model_id": "2f43ea49d104470eb0680cfd48551255",
       "version_major": 2,
       "version_minor": 0
      },
      "text/plain": [
       "0it [00:00, ?it/s]"
      ]
     },
     "metadata": {},
     "output_type": "display_data"
    },
    {
     "name": "stdout",
     "output_type": "stream",
     "text": [
      "Linearity ./models_enhancement/model_vimeo11k_MDTVSFA_2000mse_enhance_cheng2020_attn_quality2.ckpt\n"
     ]
    },
    {
     "data": {
      "application/vnd.jupyter.widget-view+json": {
       "model_id": "3546260dbc4a4d9087599ddd1fdb9e17",
       "version_major": 2,
       "version_minor": 0
      },
      "text/plain": [
       "0it [00:00, ?it/s]"
      ]
     },
     "metadata": {},
     "output_type": "display_data"
    },
    {
     "data": {
      "application/vnd.jupyter.widget-view+json": {
       "model_id": "0e74a14b54e64d4eb153028f1879fac4",
       "version_major": 2,
       "version_minor": 0
      },
      "text/plain": [
       "0it [00:00, ?it/s]"
      ]
     },
     "metadata": {},
     "output_type": "display_data"
    },
    {
     "name": "stderr",
     "output_type": "stream",
     "text": [
      "C:\\ProgramData\\Anaconda3\\envs\\backup\\lib\\site-packages\\torch\\nn\\functional.py:718: UserWarning: Named tensors and all their associated APIs are an experimental feature and subject to change. Please do not use them for anything important until they are released as stable. (Triggered internally at  ..\\c10/core/TensorImpl.h:1156.)\n",
      "  return torch.max_pool2d(input, kernel_size, stride, padding, dilation, ceil_mode)\n"
     ]
    },
    {
     "data": {
      "application/vnd.jupyter.widget-view+json": {
       "model_id": "e1d4194ef809449c9c2a35f34cc7406e",
       "version_major": 2,
       "version_minor": 0
      },
      "text/plain": [
       "0it [00:00, ?it/s]"
      ]
     },
     "metadata": {},
     "output_type": "display_data"
    },
    {
     "data": {
      "application/vnd.jupyter.widget-view+json": {
       "model_id": "e493639c88bd4bb9a75834a492ae357b",
       "version_major": 2,
       "version_minor": 0
      },
      "text/plain": [
       "0it [00:00, ?it/s]"
      ]
     },
     "metadata": {},
     "output_type": "display_data"
    },
    {
     "data": {
      "application/vnd.jupyter.widget-view+json": {
       "model_id": "412ed0ed3eec431e8bf2277abd1600de",
       "version_major": 2,
       "version_minor": 0
      },
      "text/plain": [
       "0it [00:00, ?it/s]"
      ]
     },
     "metadata": {},
     "output_type": "display_data"
    },
    {
     "data": {
      "application/vnd.jupyter.widget-view+json": {
       "model_id": "7ddcc01b23cc4b02b66b41b314173ae5",
       "version_major": 2,
       "version_minor": 0
      },
      "text/plain": [
       "0it [00:00, ?it/s]"
      ]
     },
     "metadata": {},
     "output_type": "display_data"
    },
    {
     "data": {
      "application/vnd.jupyter.widget-view+json": {
       "model_id": "51378673da2841d49630a083cd0c595f",
       "version_major": 2,
       "version_minor": 0
      },
      "text/plain": [
       "0it [00:00, ?it/s]"
      ]
     },
     "metadata": {},
     "output_type": "display_data"
    },
    {
     "data": {
      "application/vnd.jupyter.widget-view+json": {
       "model_id": "17edc556072b4570a154b9466125f861",
       "version_major": 2,
       "version_minor": 0
      },
      "text/plain": [
       "0it [00:00, ?it/s]"
      ]
     },
     "metadata": {},
     "output_type": "display_data"
    },
    {
     "data": {
      "application/vnd.jupyter.widget-view+json": {
       "model_id": "1987856bad95435cb283643f730d5dcb",
       "version_major": 2,
       "version_minor": 0
      },
      "text/plain": [
       "0it [00:00, ?it/s]"
      ]
     },
     "metadata": {},
     "output_type": "display_data"
    },
    {
     "data": {
      "application/vnd.jupyter.widget-view+json": {
       "model_id": "164e6415183b4779a59902a2d846c678",
       "version_major": 2,
       "version_minor": 0
      },
      "text/plain": [
       "0it [00:00, ?it/s]"
      ]
     },
     "metadata": {},
     "output_type": "display_data"
    },
    {
     "data": {
      "application/vnd.jupyter.widget-view+json": {
       "model_id": "72ec2ca997c14b47a948b409a2d28c1a",
       "version_major": 2,
       "version_minor": 0
      },
      "text/plain": [
       "0it [00:00, ?it/s]"
      ]
     },
     "metadata": {},
     "output_type": "display_data"
    },
    {
     "data": {
      "application/vnd.jupyter.widget-view+json": {
       "model_id": "0b7e750fda57411ca819e9befc91cc74",
       "version_major": 2,
       "version_minor": 0
      },
      "text/plain": [
       "0it [00:00, ?it/s]"
      ]
     },
     "metadata": {},
     "output_type": "display_data"
    },
    {
     "data": {
      "application/vnd.jupyter.widget-view+json": {
       "model_id": "a61dc27c3aa74c94898627bbc658635a",
       "version_major": 2,
       "version_minor": 0
      },
      "text/plain": [
       "0it [00:00, ?it/s]"
      ]
     },
     "metadata": {},
     "output_type": "display_data"
    },
    {
     "data": {
      "application/vnd.jupyter.widget-view+json": {
       "model_id": "4313a4c0a1e641bf9d173c7ecb9b2443",
       "version_major": 2,
       "version_minor": 0
      },
      "text/plain": [
       "0it [00:00, ?it/s]"
      ]
     },
     "metadata": {},
     "output_type": "display_data"
    },
    {
     "data": {
      "application/vnd.jupyter.widget-view+json": {
       "model_id": "280206937501447bb81c0ed82448d9b9",
       "version_major": 2,
       "version_minor": 0
      },
      "text/plain": [
       "0it [00:00, ?it/s]"
      ]
     },
     "metadata": {},
     "output_type": "display_data"
    },
    {
     "data": {
      "application/vnd.jupyter.widget-view+json": {
       "model_id": "c9652267d03f447d84f6beb114452ae7",
       "version_major": 2,
       "version_minor": 0
      },
      "text/plain": [
       "0it [00:00, ?it/s]"
      ]
     },
     "metadata": {},
     "output_type": "display_data"
    },
    {
     "data": {
      "application/vnd.jupyter.widget-view+json": {
       "model_id": "17195481b6ca41de87e6ac9b9ad893fe",
       "version_major": 2,
       "version_minor": 0
      },
      "text/plain": [
       "0it [00:00, ?it/s]"
      ]
     },
     "metadata": {},
     "output_type": "display_data"
    },
    {
     "data": {
      "application/vnd.jupyter.widget-view+json": {
       "model_id": "8981fb3533c347b8a0a99aae414078fb",
       "version_major": 2,
       "version_minor": 0
      },
      "text/plain": [
       "0it [00:00, ?it/s]"
      ]
     },
     "metadata": {},
     "output_type": "display_data"
    },
    {
     "data": {
      "application/vnd.jupyter.widget-view+json": {
       "model_id": "62105a20321941579871ed505234456f",
       "version_major": 2,
       "version_minor": 0
      },
      "text/plain": [
       "0it [00:00, ?it/s]"
      ]
     },
     "metadata": {},
     "output_type": "display_data"
    },
    {
     "data": {
      "application/vnd.jupyter.widget-view+json": {
       "model_id": "ab33de7b6f1b4b1b997bf4adfe3fd58f",
       "version_major": 2,
       "version_minor": 0
      },
      "text/plain": [
       "0it [00:00, ?it/s]"
      ]
     },
     "metadata": {},
     "output_type": "display_data"
    },
    {
     "name": "stdout",
     "output_type": "stream",
     "text": [
      "[{'mse_loss': [0.003761526, 0.0022537024, 0.0015512533, 0.00091297226, 0.00046287983, 0.0002791155, 0.00022671149, 0.00019999941, 0.00018672063, 0.00017199243], 'bpp_loss': [0.021601094, 0.021601094, 0.021601094, 0.021601094, 0.021601094, 0.021601094, 0.021601094, 0.021601094, 0.021601094, 0.021601094], 'loss_classic': [2.4675333, 1.4870713, 1.0303035, 0.6152613, 0.32258868, 0.20309597, 0.16902025, 0.15165071, 0.14301617, 0.13343918], 'PSNR': [24.301882, 26.550669, 28.171638, 30.460445, 33.400444, 35.58738, 36.4852, 37.067566, 37.52347, 37.957916], 'Linearity': [0.45339638, 0.40311885, 0.32244512, 0.1467707, -0.023824617, -0.14573695, -0.17144683, -0.16694605, -0.15692464, -0.15566349], 'loss': [906.7965, 806.2399, 644.89185, 293.5423, -47.648773, -291.47363, -342.89343, -333.8919, -313.8491, -311.32678], 'bitrate': [0.100881, 0.172306, 0.263106, 0.429271, 0.825821, 1.681812, 2.59339, 4.593584, 9.852437, 14.188521]}]\n",
      "MDTVSFA ./models_enhancement/model_vimeo11k_PAC2PIC_2000mse_enhance_cheng2020_attn_quality2_fixed_direction.ckpt\n"
     ]
    },
    {
     "data": {
      "application/vnd.jupyter.widget-view+json": {
       "model_id": "33ff58f48c394ed7b4a5a6d57a99d3bc",
       "version_major": 2,
       "version_minor": 0
      },
      "text/plain": [
       "0it [00:00, ?it/s]"
      ]
     },
     "metadata": {},
     "output_type": "display_data"
    },
    {
     "data": {
      "application/vnd.jupyter.widget-view+json": {
       "model_id": "64a96cbf765f4bcba2bfae70b13e0a6a",
       "version_major": 2,
       "version_minor": 0
      },
      "text/plain": [
       "0it [00:00, ?it/s]"
      ]
     },
     "metadata": {},
     "output_type": "display_data"
    },
    {
     "data": {
      "application/vnd.jupyter.widget-view+json": {
       "model_id": "a33eb8454f5c440983e2d2dbaad7fd06",
       "version_major": 2,
       "version_minor": 0
      },
      "text/plain": [
       "0it [00:00, ?it/s]"
      ]
     },
     "metadata": {},
     "output_type": "display_data"
    },
    {
     "data": {
      "application/vnd.jupyter.widget-view+json": {
       "model_id": "baf0b5a6bed843cf9b962c230facc0f0",
       "version_major": 2,
       "version_minor": 0
      },
      "text/plain": [
       "0it [00:00, ?it/s]"
      ]
     },
     "metadata": {},
     "output_type": "display_data"
    },
    {
     "data": {
      "application/vnd.jupyter.widget-view+json": {
       "model_id": "2920010ef62340a79475a1506c06f55a",
       "version_major": 2,
       "version_minor": 0
      },
      "text/plain": [
       "0it [00:00, ?it/s]"
      ]
     },
     "metadata": {},
     "output_type": "display_data"
    },
    {
     "data": {
      "application/vnd.jupyter.widget-view+json": {
       "model_id": "d985933c857c462bb266e1966d749bbd",
       "version_major": 2,
       "version_minor": 0
      },
      "text/plain": [
       "0it [00:00, ?it/s]"
      ]
     },
     "metadata": {},
     "output_type": "display_data"
    },
    {
     "data": {
      "application/vnd.jupyter.widget-view+json": {
       "model_id": "f0e12ef68b3c4a2f875a6bf6cf52052a",
       "version_major": 2,
       "version_minor": 0
      },
      "text/plain": [
       "0it [00:00, ?it/s]"
      ]
     },
     "metadata": {},
     "output_type": "display_data"
    },
    {
     "data": {
      "application/vnd.jupyter.widget-view+json": {
       "model_id": "674cd5525ad54143809b70d15fce8c9a",
       "version_major": 2,
       "version_minor": 0
      },
      "text/plain": [
       "0it [00:00, ?it/s]"
      ]
     },
     "metadata": {},
     "output_type": "display_data"
    },
    {
     "data": {
      "application/vnd.jupyter.widget-view+json": {
       "model_id": "75a3935b3fdd4ecca782c1a7da3bf0cf",
       "version_major": 2,
       "version_minor": 0
      },
      "text/plain": [
       "0it [00:00, ?it/s]"
      ]
     },
     "metadata": {},
     "output_type": "display_data"
    },
    {
     "data": {
      "application/vnd.jupyter.widget-view+json": {
       "model_id": "790073c5c6534ed8a231583282e0a8f7",
       "version_major": 2,
       "version_minor": 0
      },
      "text/plain": [
       "0it [00:00, ?it/s]"
      ]
     },
     "metadata": {},
     "output_type": "display_data"
    },
    {
     "data": {
      "application/vnd.jupyter.widget-view+json": {
       "model_id": "d2e240f2e3ea4666b3dce355637f265d",
       "version_major": 2,
       "version_minor": 0
      },
      "text/plain": [
       "0it [00:00, ?it/s]"
      ]
     },
     "metadata": {},
     "output_type": "display_data"
    },
    {
     "data": {
      "application/vnd.jupyter.widget-view+json": {
       "model_id": "0f7919fb93424929baab5c70f6d00a53",
       "version_major": 2,
       "version_minor": 0
      },
      "text/plain": [
       "0it [00:00, ?it/s]"
      ]
     },
     "metadata": {},
     "output_type": "display_data"
    },
    {
     "data": {
      "application/vnd.jupyter.widget-view+json": {
       "model_id": "49ce513c4f124ddc99cdb451e46cce51",
       "version_major": 2,
       "version_minor": 0
      },
      "text/plain": [
       "0it [00:00, ?it/s]"
      ]
     },
     "metadata": {},
     "output_type": "display_data"
    },
    {
     "data": {
      "application/vnd.jupyter.widget-view+json": {
       "model_id": "1bf09417ab8a40e8a297f0d3e3caead0",
       "version_major": 2,
       "version_minor": 0
      },
      "text/plain": [
       "0it [00:00, ?it/s]"
      ]
     },
     "metadata": {},
     "output_type": "display_data"
    },
    {
     "data": {
      "application/vnd.jupyter.widget-view+json": {
       "model_id": "2e1da97fb36f49f9a49dc98dfea428df",
       "version_major": 2,
       "version_minor": 0
      },
      "text/plain": [
       "0it [00:00, ?it/s]"
      ]
     },
     "metadata": {},
     "output_type": "display_data"
    },
    {
     "data": {
      "application/vnd.jupyter.widget-view+json": {
       "model_id": "308c3d8d759a43c5b5fa175092850972",
       "version_major": 2,
       "version_minor": 0
      },
      "text/plain": [
       "0it [00:00, ?it/s]"
      ]
     },
     "metadata": {},
     "output_type": "display_data"
    },
    {
     "data": {
      "application/vnd.jupyter.widget-view+json": {
       "model_id": "a95875a07fb44a9784c8c86ac182e806",
       "version_major": 2,
       "version_minor": 0
      },
      "text/plain": [
       "0it [00:00, ?it/s]"
      ]
     },
     "metadata": {},
     "output_type": "display_data"
    },
    {
     "data": {
      "application/vnd.jupyter.widget-view+json": {
       "model_id": "b63c522520034f0ab018d81468de303e",
       "version_major": 2,
       "version_minor": 0
      },
      "text/plain": [
       "0it [00:00, ?it/s]"
      ]
     },
     "metadata": {},
     "output_type": "display_data"
    },
    {
     "data": {
      "application/vnd.jupyter.widget-view+json": {
       "model_id": "3ed0ac9a534340bd82a95029a3a25fa6",
       "version_major": 2,
       "version_minor": 0
      },
      "text/plain": [
       "0it [00:00, ?it/s]"
      ]
     },
     "metadata": {},
     "output_type": "display_data"
    },
    {
     "data": {
      "application/vnd.jupyter.widget-view+json": {
       "model_id": "2473efb6fcae426bb5b8efe521e4f7a1",
       "version_major": 2,
       "version_minor": 0
      },
      "text/plain": [
       "0it [00:00, ?it/s]"
      ]
     },
     "metadata": {},
     "output_type": "display_data"
    },
    {
     "name": "stdout",
     "output_type": "stream",
     "text": [
      "[{'mse_loss': [0.003761526, 0.0022537024, 0.0015512533, 0.00091297226, 0.00046287983, 0.0002791155, 0.00022671149, 0.00019999941, 0.00018672063, 0.00017199243], 'bpp_loss': [0.021601094, 0.021601094, 0.021601094, 0.021601094, 0.021601094, 0.021601094, 0.021601094, 0.021601094, 0.021601094, 0.021601094], 'loss_classic': [2.4675333, 1.4870713, 1.0303035, 0.6152613, 0.32258868, 0.20309597, 0.16902025, 0.15165071, 0.14301617, 0.13343918], 'PSNR': [24.301882, 26.550669, 28.171638, 30.460445, 33.400444, 35.58738, 36.4852, 37.067566, 37.52347, 37.957916], 'MDTVSFA': [-0.44870508, -0.47278503, -0.485685, -0.50394565, -0.515102, -0.5236566, -0.526125, -0.52738714, -0.5274074, -0.52813506], 'loss': [-897.4064, -945.56775, -971.36847, -1007.8904, -1030.2035, -1047.3129, -1052.2498, -1054.774, -1054.8146, -1056.2699], 'bitrate': [0.100881, 0.172306, 0.263106, 0.429271, 0.825821, 1.681812, 2.59339, 4.593584, 9.852437, 14.188521]}]\n",
      "PAC2PIQ ./models_enhancement/model_vimeo11k_SPAQ_2000mse_enhance_cheng2020_attn_quality2_fixed_direction.ckpt\n"
     ]
    },
    {
     "data": {
      "application/vnd.jupyter.widget-view+json": {
       "model_id": "2fd8a97ac77047d79104ccf211cc3003",
       "version_major": 2,
       "version_minor": 0
      },
      "text/plain": [
       "0it [00:00, ?it/s]"
      ]
     },
     "metadata": {},
     "output_type": "display_data"
    },
    {
     "data": {
      "application/vnd.jupyter.widget-view+json": {
       "model_id": "4eadaab9b7a946a4a4b88c01fa6bc607",
       "version_major": 2,
       "version_minor": 0
      },
      "text/plain": [
       "0it [00:00, ?it/s]"
      ]
     },
     "metadata": {},
     "output_type": "display_data"
    },
    {
     "data": {
      "application/vnd.jupyter.widget-view+json": {
       "model_id": "0df10be9587f4ba38f7d7ba4d94ea30a",
       "version_major": 2,
       "version_minor": 0
      },
      "text/plain": [
       "0it [00:00, ?it/s]"
      ]
     },
     "metadata": {},
     "output_type": "display_data"
    },
    {
     "data": {
      "application/vnd.jupyter.widget-view+json": {
       "model_id": "898badb4838148d9a0beddb0ff9965b1",
       "version_major": 2,
       "version_minor": 0
      },
      "text/plain": [
       "0it [00:00, ?it/s]"
      ]
     },
     "metadata": {},
     "output_type": "display_data"
    },
    {
     "data": {
      "application/vnd.jupyter.widget-view+json": {
       "model_id": "bf5eb846ee2e48e6803a86446e5b0d52",
       "version_major": 2,
       "version_minor": 0
      },
      "text/plain": [
       "0it [00:00, ?it/s]"
      ]
     },
     "metadata": {},
     "output_type": "display_data"
    },
    {
     "data": {
      "application/vnd.jupyter.widget-view+json": {
       "model_id": "08b470157e4f41c1baa1e07f84bfdb64",
       "version_major": 2,
       "version_minor": 0
      },
      "text/plain": [
       "0it [00:00, ?it/s]"
      ]
     },
     "metadata": {},
     "output_type": "display_data"
    },
    {
     "data": {
      "application/vnd.jupyter.widget-view+json": {
       "model_id": "2b753ea75828401f87335cf637a89684",
       "version_major": 2,
       "version_minor": 0
      },
      "text/plain": [
       "0it [00:00, ?it/s]"
      ]
     },
     "metadata": {},
     "output_type": "display_data"
    },
    {
     "data": {
      "application/vnd.jupyter.widget-view+json": {
       "model_id": "145c4720e4024a049497ff2f7772f8cf",
       "version_major": 2,
       "version_minor": 0
      },
      "text/plain": [
       "0it [00:00, ?it/s]"
      ]
     },
     "metadata": {},
     "output_type": "display_data"
    },
    {
     "data": {
      "application/vnd.jupyter.widget-view+json": {
       "model_id": "2c4fdae277624eb7b6c7a0f2e6cfc7d4",
       "version_major": 2,
       "version_minor": 0
      },
      "text/plain": [
       "0it [00:00, ?it/s]"
      ]
     },
     "metadata": {},
     "output_type": "display_data"
    },
    {
     "data": {
      "application/vnd.jupyter.widget-view+json": {
       "model_id": "0c4c7cae4bf24cb8816f74bfa2ef232a",
       "version_major": 2,
       "version_minor": 0
      },
      "text/plain": [
       "0it [00:00, ?it/s]"
      ]
     },
     "metadata": {},
     "output_type": "display_data"
    },
    {
     "data": {
      "application/vnd.jupyter.widget-view+json": {
       "model_id": "e837279bb432470b883bf1f9facb38e3",
       "version_major": 2,
       "version_minor": 0
      },
      "text/plain": [
       "0it [00:00, ?it/s]"
      ]
     },
     "metadata": {},
     "output_type": "display_data"
    },
    {
     "data": {
      "application/vnd.jupyter.widget-view+json": {
       "model_id": "3d12484abfb2400cbce60efda7b19b77",
       "version_major": 2,
       "version_minor": 0
      },
      "text/plain": [
       "0it [00:00, ?it/s]"
      ]
     },
     "metadata": {},
     "output_type": "display_data"
    },
    {
     "data": {
      "application/vnd.jupyter.widget-view+json": {
       "model_id": "e6431545706d42daa919ea968efd4aa3",
       "version_major": 2,
       "version_minor": 0
      },
      "text/plain": [
       "0it [00:00, ?it/s]"
      ]
     },
     "metadata": {},
     "output_type": "display_data"
    },
    {
     "data": {
      "application/vnd.jupyter.widget-view+json": {
       "model_id": "09f8c83e82dc4d4ea16a0493294a58ec",
       "version_major": 2,
       "version_minor": 0
      },
      "text/plain": [
       "0it [00:00, ?it/s]"
      ]
     },
     "metadata": {},
     "output_type": "display_data"
    },
    {
     "data": {
      "application/vnd.jupyter.widget-view+json": {
       "model_id": "cd983828800e4549a06d0ee01a3cf6b2",
       "version_major": 2,
       "version_minor": 0
      },
      "text/plain": [
       "0it [00:00, ?it/s]"
      ]
     },
     "metadata": {},
     "output_type": "display_data"
    },
    {
     "data": {
      "application/vnd.jupyter.widget-view+json": {
       "model_id": "7354a16c0c7b40ac9b90fb9132b7fff9",
       "version_major": 2,
       "version_minor": 0
      },
      "text/plain": [
       "0it [00:00, ?it/s]"
      ]
     },
     "metadata": {},
     "output_type": "display_data"
    },
    {
     "data": {
      "application/vnd.jupyter.widget-view+json": {
       "model_id": "1b9417363f8444d1859fef12d35e1c75",
       "version_major": 2,
       "version_minor": 0
      },
      "text/plain": [
       "0it [00:00, ?it/s]"
      ]
     },
     "metadata": {},
     "output_type": "display_data"
    },
    {
     "data": {
      "application/vnd.jupyter.widget-view+json": {
       "model_id": "1d54984e627d463fb204b8c5b1bbe260",
       "version_major": 2,
       "version_minor": 0
      },
      "text/plain": [
       "0it [00:00, ?it/s]"
      ]
     },
     "metadata": {},
     "output_type": "display_data"
    },
    {
     "data": {
      "application/vnd.jupyter.widget-view+json": {
       "model_id": "05946554597b4c79b421ec7f5a154d3e",
       "version_major": 2,
       "version_minor": 0
      },
      "text/plain": [
       "0it [00:00, ?it/s]"
      ]
     },
     "metadata": {},
     "output_type": "display_data"
    },
    {
     "data": {
      "application/vnd.jupyter.widget-view+json": {
       "model_id": "caab183ca40f413a95f5cee5efc7d902",
       "version_major": 2,
       "version_minor": 0
      },
      "text/plain": [
       "0it [00:00, ?it/s]"
      ]
     },
     "metadata": {},
     "output_type": "display_data"
    },
    {
     "name": "stdout",
     "output_type": "stream",
     "text": [
      "[{'mse_loss': [0.003761526, 0.0022537024, 0.0015512533, 0.00091297226, 0.00046287983, 0.0002791155, 0.00022671149, 0.00019999941, 0.00018672063, 0.00017199243], 'bpp_loss': [0.021601094, 0.021601094, 0.021601094, 0.021601094, 0.021601094, 0.021601094, 0.021601094, 0.021601094, 0.021601094, 0.021601094], 'loss_classic': [2.4675333, 1.4870713, 1.0303035, 0.6152613, 0.32258868, 0.20309597, 0.16902025, 0.15165071, 0.14301617, 0.13343918], 'PSNR': [24.301882, 26.550669, 28.171638, 30.460445, 33.400444, 35.58738, 36.4852, 37.067566, 37.52347, 37.957916], 'PAC2PIQ': [-0.49286443, -0.56116676, -0.6120634, -0.66599584, -0.705251, -0.71799374, -0.7174728, -0.7135598, -0.7102464, -0.70892775], 'loss': [-985.7252, -1122.3313, -1224.1251, -1331.9907, -1410.5015, -1435.9872, -1434.9453, -1427.1194, -1420.4926, -1417.8553], 'bitrate': [0.100881, 0.172306, 0.263106, 0.429271, 0.825821, 1.681812, 2.59339, 4.593584, 9.852437, 14.188521]}]\n",
      "SPAQ ./models_enhancement/model_vimeo11k_VSFA_2000mse_enhance_cheng2020_attn_quality2_fixed_direction.ckpt\n"
     ]
    },
    {
     "data": {
      "application/vnd.jupyter.widget-view+json": {
       "model_id": "ee7e83e112a947a3b68b0362b47fe220",
       "version_major": 2,
       "version_minor": 0
      },
      "text/plain": [
       "0it [00:00, ?it/s]"
      ]
     },
     "metadata": {},
     "output_type": "display_data"
    },
    {
     "data": {
      "application/vnd.jupyter.widget-view+json": {
       "model_id": "e985263478e24df78f20087eacdcdf7d",
       "version_major": 2,
       "version_minor": 0
      },
      "text/plain": [
       "0it [00:00, ?it/s]"
      ]
     },
     "metadata": {},
     "output_type": "display_data"
    },
    {
     "data": {
      "application/vnd.jupyter.widget-view+json": {
       "model_id": "55a59a1f51d141c2aaa8b87a9c004ee2",
       "version_major": 2,
       "version_minor": 0
      },
      "text/plain": [
       "0it [00:00, ?it/s]"
      ]
     },
     "metadata": {},
     "output_type": "display_data"
    },
    {
     "data": {
      "application/vnd.jupyter.widget-view+json": {
       "model_id": "48fd122d08ef4acc908e08143ce3c721",
       "version_major": 2,
       "version_minor": 0
      },
      "text/plain": [
       "0it [00:00, ?it/s]"
      ]
     },
     "metadata": {},
     "output_type": "display_data"
    },
    {
     "data": {
      "application/vnd.jupyter.widget-view+json": {
       "model_id": "49cd63e06abd4a6cb397d67ed03aad80",
       "version_major": 2,
       "version_minor": 0
      },
      "text/plain": [
       "0it [00:00, ?it/s]"
      ]
     },
     "metadata": {},
     "output_type": "display_data"
    },
    {
     "data": {
      "application/vnd.jupyter.widget-view+json": {
       "model_id": "9c55ab4f0b6a4e9e82733fa40b9a9587",
       "version_major": 2,
       "version_minor": 0
      },
      "text/plain": [
       "0it [00:00, ?it/s]"
      ]
     },
     "metadata": {},
     "output_type": "display_data"
    },
    {
     "data": {
      "application/vnd.jupyter.widget-view+json": {
       "model_id": "de1615386b15463287336bb11ec4439a",
       "version_major": 2,
       "version_minor": 0
      },
      "text/plain": [
       "0it [00:00, ?it/s]"
      ]
     },
     "metadata": {},
     "output_type": "display_data"
    },
    {
     "data": {
      "application/vnd.jupyter.widget-view+json": {
       "model_id": "e9c7a31aee7a412e8145ba1ef3190057",
       "version_major": 2,
       "version_minor": 0
      },
      "text/plain": [
       "0it [00:00, ?it/s]"
      ]
     },
     "metadata": {},
     "output_type": "display_data"
    },
    {
     "data": {
      "application/vnd.jupyter.widget-view+json": {
       "model_id": "99411ba5c03f4b1b8755b7ff4558ef44",
       "version_major": 2,
       "version_minor": 0
      },
      "text/plain": [
       "0it [00:00, ?it/s]"
      ]
     },
     "metadata": {},
     "output_type": "display_data"
    },
    {
     "data": {
      "application/vnd.jupyter.widget-view+json": {
       "model_id": "e17891902a764ea9b0f35d4eed63de77",
       "version_major": 2,
       "version_minor": 0
      },
      "text/plain": [
       "0it [00:00, ?it/s]"
      ]
     },
     "metadata": {},
     "output_type": "display_data"
    },
    {
     "data": {
      "application/vnd.jupyter.widget-view+json": {
       "model_id": "36553efa7de8408dbbd16dc735abba07",
       "version_major": 2,
       "version_minor": 0
      },
      "text/plain": [
       "0it [00:00, ?it/s]"
      ]
     },
     "metadata": {},
     "output_type": "display_data"
    },
    {
     "data": {
      "application/vnd.jupyter.widget-view+json": {
       "model_id": "93e2825203494e26959d22bc0da0d2d8",
       "version_major": 2,
       "version_minor": 0
      },
      "text/plain": [
       "0it [00:00, ?it/s]"
      ]
     },
     "metadata": {},
     "output_type": "display_data"
    },
    {
     "data": {
      "application/vnd.jupyter.widget-view+json": {
       "model_id": "a7930735d8e841fc91c6ae6e56267d6d",
       "version_major": 2,
       "version_minor": 0
      },
      "text/plain": [
       "0it [00:00, ?it/s]"
      ]
     },
     "metadata": {},
     "output_type": "display_data"
    },
    {
     "data": {
      "application/vnd.jupyter.widget-view+json": {
       "model_id": "a02117b60d464ab9aa570c464d2a7cb9",
       "version_major": 2,
       "version_minor": 0
      },
      "text/plain": [
       "0it [00:00, ?it/s]"
      ]
     },
     "metadata": {},
     "output_type": "display_data"
    },
    {
     "data": {
      "application/vnd.jupyter.widget-view+json": {
       "model_id": "0d70de84b253432c940a3f8e213e0b89",
       "version_major": 2,
       "version_minor": 0
      },
      "text/plain": [
       "0it [00:00, ?it/s]"
      ]
     },
     "metadata": {},
     "output_type": "display_data"
    },
    {
     "data": {
      "application/vnd.jupyter.widget-view+json": {
       "model_id": "a08ed441f681496cb57ea2fcda203f01",
       "version_major": 2,
       "version_minor": 0
      },
      "text/plain": [
       "0it [00:00, ?it/s]"
      ]
     },
     "metadata": {},
     "output_type": "display_data"
    },
    {
     "data": {
      "application/vnd.jupyter.widget-view+json": {
       "model_id": "5bfb8100feba44e2ac8698c01cb2b42d",
       "version_major": 2,
       "version_minor": 0
      },
      "text/plain": [
       "0it [00:00, ?it/s]"
      ]
     },
     "metadata": {},
     "output_type": "display_data"
    },
    {
     "data": {
      "application/vnd.jupyter.widget-view+json": {
       "model_id": "c4f092866fc7440ba7a677b147573e91",
       "version_major": 2,
       "version_minor": 0
      },
      "text/plain": [
       "0it [00:00, ?it/s]"
      ]
     },
     "metadata": {},
     "output_type": "display_data"
    },
    {
     "data": {
      "application/vnd.jupyter.widget-view+json": {
       "model_id": "686f6d1c03e54004851ba2dec180b191",
       "version_major": 2,
       "version_minor": 0
      },
      "text/plain": [
       "0it [00:00, ?it/s]"
      ]
     },
     "metadata": {},
     "output_type": "display_data"
    },
    {
     "data": {
      "application/vnd.jupyter.widget-view+json": {
       "model_id": "cec12fc1220740818a2573dac4330c21",
       "version_major": 2,
       "version_minor": 0
      },
      "text/plain": [
       "0it [00:00, ?it/s]"
      ]
     },
     "metadata": {},
     "output_type": "display_data"
    },
    {
     "name": "stdout",
     "output_type": "stream",
     "text": [
      "[{'mse_loss': [0.003761526, 0.0022537024, 0.0015512533, 0.00091297226, 0.00046287983, 0.0002791155, 0.00022671149, 0.00019999941, 0.00018672063, 0.00017199243], 'bpp_loss': [0.021601094, 0.021601094, 0.021601094, 0.021601094, 0.021601094, 0.021601094, 0.021601094, 0.021601094, 0.021601094, 0.021601094], 'loss_classic': [2.4675333, 1.4870713, 1.0303035, 0.6152613, 0.32258868, 0.20309597, 0.16902025, 0.15165071, 0.14301617, 0.13343918], 'PSNR': [24.301882, 26.550669, 28.171638, 30.460445, 33.400444, 35.58738, 36.4852, 37.067566, 37.52347, 37.957916], 'SPAQ': [-0.40260553, -0.3983474, -0.3903737, -0.4162528, -0.4233754, -0.43182716, -0.430534, -0.44013584, -0.43401402, -0.43656975], 'loss': [-805.2074, -796.6926, -780.74585, -832.5047, -846.7503, -863.654, -861.06775, -880.2716, -868.02795, -873.1393], 'bitrate': [0.100881, 0.172306, 0.263106, 0.429271, 0.825821, 1.681812, 2.59339, 4.593584, 9.852437, 14.188521]}]\n",
      "VSFA ./models_enhancement/model_vimeo11k_Linearity_2000mse_enhance_no_codec_fixed_direction.ckpt\n"
     ]
    },
    {
     "data": {
      "application/vnd.jupyter.widget-view+json": {
       "model_id": "5b76b76c74eb45808b068b620dcaecef",
       "version_major": 2,
       "version_minor": 0
      },
      "text/plain": [
       "0it [00:00, ?it/s]"
      ]
     },
     "metadata": {},
     "output_type": "display_data"
    },
    {
     "data": {
      "application/vnd.jupyter.widget-view+json": {
       "model_id": "98774789fb9f4055b558ec8577224621",
       "version_major": 2,
       "version_minor": 0
      },
      "text/plain": [
       "0it [00:00, ?it/s]"
      ]
     },
     "metadata": {},
     "output_type": "display_data"
    },
    {
     "data": {
      "application/vnd.jupyter.widget-view+json": {
       "model_id": "2a1879debd4e4738a2e7f318969ee4a1",
       "version_major": 2,
       "version_minor": 0
      },
      "text/plain": [
       "0it [00:00, ?it/s]"
      ]
     },
     "metadata": {},
     "output_type": "display_data"
    },
    {
     "data": {
      "application/vnd.jupyter.widget-view+json": {
       "model_id": "01007e813a9d473da56a56e4c5fbc830",
       "version_major": 2,
       "version_minor": 0
      },
      "text/plain": [
       "0it [00:00, ?it/s]"
      ]
     },
     "metadata": {},
     "output_type": "display_data"
    },
    {
     "data": {
      "application/vnd.jupyter.widget-view+json": {
       "model_id": "d8cc2a9a436241bfbb16ac232c617c37",
       "version_major": 2,
       "version_minor": 0
      },
      "text/plain": [
       "0it [00:00, ?it/s]"
      ]
     },
     "metadata": {},
     "output_type": "display_data"
    },
    {
     "data": {
      "application/vnd.jupyter.widget-view+json": {
       "model_id": "9eb3c944e434412b98df3df0daa384dd",
       "version_major": 2,
       "version_minor": 0
      },
      "text/plain": [
       "0it [00:00, ?it/s]"
      ]
     },
     "metadata": {},
     "output_type": "display_data"
    },
    {
     "data": {
      "application/vnd.jupyter.widget-view+json": {
       "model_id": "c67d841462c9430facb3eb687c02c54d",
       "version_major": 2,
       "version_minor": 0
      },
      "text/plain": [
       "0it [00:00, ?it/s]"
      ]
     },
     "metadata": {},
     "output_type": "display_data"
    },
    {
     "data": {
      "application/vnd.jupyter.widget-view+json": {
       "model_id": "b761971643964174a224fd7430922496",
       "version_major": 2,
       "version_minor": 0
      },
      "text/plain": [
       "0it [00:00, ?it/s]"
      ]
     },
     "metadata": {},
     "output_type": "display_data"
    },
    {
     "data": {
      "application/vnd.jupyter.widget-view+json": {
       "model_id": "fce3d7ff8e9e44ddaf56a547a7aae90a",
       "version_major": 2,
       "version_minor": 0
      },
      "text/plain": [
       "0it [00:00, ?it/s]"
      ]
     },
     "metadata": {},
     "output_type": "display_data"
    },
    {
     "data": {
      "application/vnd.jupyter.widget-view+json": {
       "model_id": "b85ad0cef7fb4439ae22af24565ec60b",
       "version_major": 2,
       "version_minor": 0
      },
      "text/plain": [
       "0it [00:00, ?it/s]"
      ]
     },
     "metadata": {},
     "output_type": "display_data"
    },
    {
     "data": {
      "application/vnd.jupyter.widget-view+json": {
       "model_id": "ca8f6a7e32e74a11a3cdcd270a8466ce",
       "version_major": 2,
       "version_minor": 0
      },
      "text/plain": [
       "0it [00:00, ?it/s]"
      ]
     },
     "metadata": {},
     "output_type": "display_data"
    },
    {
     "data": {
      "application/vnd.jupyter.widget-view+json": {
       "model_id": "01579701f85846f9aa40b2519d92081f",
       "version_major": 2,
       "version_minor": 0
      },
      "text/plain": [
       "0it [00:00, ?it/s]"
      ]
     },
     "metadata": {},
     "output_type": "display_data"
    },
    {
     "data": {
      "application/vnd.jupyter.widget-view+json": {
       "model_id": "1afab8f94d4c46a6ab151c1b1494e8c0",
       "version_major": 2,
       "version_minor": 0
      },
      "text/plain": [
       "0it [00:00, ?it/s]"
      ]
     },
     "metadata": {},
     "output_type": "display_data"
    },
    {
     "data": {
      "application/vnd.jupyter.widget-view+json": {
       "model_id": "ff45dbf779ab46df8449fefda7786f08",
       "version_major": 2,
       "version_minor": 0
      },
      "text/plain": [
       "0it [00:00, ?it/s]"
      ]
     },
     "metadata": {},
     "output_type": "display_data"
    },
    {
     "data": {
      "application/vnd.jupyter.widget-view+json": {
       "model_id": "b5a52b0916024c939d82d96fa38128fd",
       "version_major": 2,
       "version_minor": 0
      },
      "text/plain": [
       "0it [00:00, ?it/s]"
      ]
     },
     "metadata": {},
     "output_type": "display_data"
    },
    {
     "data": {
      "application/vnd.jupyter.widget-view+json": {
       "model_id": "98b1c1c168d14bc2a09540b3f1841ab0",
       "version_major": 2,
       "version_minor": 0
      },
      "text/plain": [
       "0it [00:00, ?it/s]"
      ]
     },
     "metadata": {},
     "output_type": "display_data"
    },
    {
     "data": {
      "application/vnd.jupyter.widget-view+json": {
       "model_id": "b929d55fea254c11b6e51143505fdc40",
       "version_major": 2,
       "version_minor": 0
      },
      "text/plain": [
       "0it [00:00, ?it/s]"
      ]
     },
     "metadata": {},
     "output_type": "display_data"
    },
    {
     "data": {
      "application/vnd.jupyter.widget-view+json": {
       "model_id": "d1b6dc59560f41a48cc7edd0595b7d9a",
       "version_major": 2,
       "version_minor": 0
      },
      "text/plain": [
       "0it [00:00, ?it/s]"
      ]
     },
     "metadata": {},
     "output_type": "display_data"
    },
    {
     "data": {
      "application/vnd.jupyter.widget-view+json": {
       "model_id": "6ea9926544b144afa5afbeb2ebc6ae68",
       "version_major": 2,
       "version_minor": 0
      },
      "text/plain": [
       "0it [00:00, ?it/s]"
      ]
     },
     "metadata": {},
     "output_type": "display_data"
    },
    {
     "data": {
      "application/vnd.jupyter.widget-view+json": {
       "model_id": "337f2198a4484597bfb48e490fd9f7ba",
       "version_major": 2,
       "version_minor": 0
      },
      "text/plain": [
       "0it [00:00, ?it/s]"
      ]
     },
     "metadata": {},
     "output_type": "display_data"
    },
    {
     "name": "stdout",
     "output_type": "stream",
     "text": [
      "[{'mse_loss': [0.0037615257, 0.0022537024, 0.0015512533, 0.00091297226, 0.0004628798, 0.00027911557, 0.00022671153, 0.00019999946, 0.00018672064, 0.00017199246], 'bpp_loss': [0.010800547, 0.010800547, 0.010800547, 0.010800547, 0.010800547, 0.010800547, 0.010800547, 0.010800547, 0.010800547, 0.010800547], 'loss_classic': [2.4567327, 1.4762707, 1.019503, 0.6044607, 0.31178814, 0.19229542, 0.15821971, 0.14085019, 0.13221565, 0.12263864], 'PSNR': [24.29602, 26.533306, 28.159622, 30.45428, 33.39445, 35.58181, 36.478874, 37.05613, 37.50896, 37.943176], 'VSFA': [-0.39656407, -0.44951862, -0.47302955, -0.5023433, -0.521147, -0.524607, -0.5242802, -0.5270975, -0.5318683, -0.5310252], 'loss': [-793.1244, -899.0349, -946.0576, -1004.68567, -1042.2935, -1049.2136, -1048.5602, -1054.1948, -1063.7363, -1062.0502], 'bitrate': [0.100881, 0.172306, 0.263106, 0.429271, 0.825821, 1.681812, 2.59339, 4.593584, 9.852437, 14.188521]}]\n"
     ]
    },
    {
     "data": {
      "application/vnd.jupyter.widget-view+json": {
       "model_id": "79d990a3c1c84006a9de4db93993075c",
       "version_major": 2,
       "version_minor": 0
      },
      "text/plain": [
       "0it [00:00, ?it/s]"
      ]
     },
     "metadata": {},
     "output_type": "display_data"
    },
    {
     "name": "stdout",
     "output_type": "stream",
     "text": [
      "Linearity ./models_enhancement/model_vimeo11k_MDTVSFA_2000mse_enhance_cheng2020_attn_quality2.ckpt\n"
     ]
    },
    {
     "data": {
      "application/vnd.jupyter.widget-view+json": {
       "model_id": "fccd785b78df4489a0ba3eaa186db1bf",
       "version_major": 2,
       "version_minor": 0
      },
      "text/plain": [
       "0it [00:00, ?it/s]"
      ]
     },
     "metadata": {},
     "output_type": "display_data"
    },
    {
     "data": {
      "application/vnd.jupyter.widget-view+json": {
       "model_id": "51334083cf174a7585503ecfa1090d62",
       "version_major": 2,
       "version_minor": 0
      },
      "text/plain": [
       "0it [00:00, ?it/s]"
      ]
     },
     "metadata": {},
     "output_type": "display_data"
    },
    {
     "data": {
      "application/vnd.jupyter.widget-view+json": {
       "model_id": "97f00d7e963b43e28036ed4ec223413f",
       "version_major": 2,
       "version_minor": 0
      },
      "text/plain": [
       "0it [00:00, ?it/s]"
      ]
     },
     "metadata": {},
     "output_type": "display_data"
    },
    {
     "data": {
      "application/vnd.jupyter.widget-view+json": {
       "model_id": "97c84b03e1f34611b288cca99c744c1f",
       "version_major": 2,
       "version_minor": 0
      },
      "text/plain": [
       "0it [00:00, ?it/s]"
      ]
     },
     "metadata": {},
     "output_type": "display_data"
    },
    {
     "data": {
      "application/vnd.jupyter.widget-view+json": {
       "model_id": "ab6ca7a38696482da683a4efed2df51e",
       "version_major": 2,
       "version_minor": 0
      },
      "text/plain": [
       "0it [00:00, ?it/s]"
      ]
     },
     "metadata": {},
     "output_type": "display_data"
    },
    {
     "data": {
      "application/vnd.jupyter.widget-view+json": {
       "model_id": "23db14c158414628805647ea0e4de9a5",
       "version_major": 2,
       "version_minor": 0
      },
      "text/plain": [
       "0it [00:00, ?it/s]"
      ]
     },
     "metadata": {},
     "output_type": "display_data"
    },
    {
     "data": {
      "application/vnd.jupyter.widget-view+json": {
       "model_id": "ca1215a3ca9c4c608e45d0e8aa00e605",
       "version_major": 2,
       "version_minor": 0
      },
      "text/plain": [
       "0it [00:00, ?it/s]"
      ]
     },
     "metadata": {},
     "output_type": "display_data"
    },
    {
     "data": {
      "application/vnd.jupyter.widget-view+json": {
       "model_id": "ccd23f21963243e382b551954c1d0203",
       "version_major": 2,
       "version_minor": 0
      },
      "text/plain": [
       "0it [00:00, ?it/s]"
      ]
     },
     "metadata": {},
     "output_type": "display_data"
    },
    {
     "data": {
      "application/vnd.jupyter.widget-view+json": {
       "model_id": "777e23d9bf00463da60518bdd1b8580a",
       "version_major": 2,
       "version_minor": 0
      },
      "text/plain": [
       "0it [00:00, ?it/s]"
      ]
     },
     "metadata": {},
     "output_type": "display_data"
    },
    {
     "data": {
      "application/vnd.jupyter.widget-view+json": {
       "model_id": "fecfd08988df4effa424145555870d83",
       "version_major": 2,
       "version_minor": 0
      },
      "text/plain": [
       "0it [00:00, ?it/s]"
      ]
     },
     "metadata": {},
     "output_type": "display_data"
    },
    {
     "data": {
      "application/vnd.jupyter.widget-view+json": {
       "model_id": "510fd7cb78124d25ac1d3410d87cd6cd",
       "version_major": 2,
       "version_minor": 0
      },
      "text/plain": [
       "0it [00:00, ?it/s]"
      ]
     },
     "metadata": {},
     "output_type": "display_data"
    },
    {
     "data": {
      "application/vnd.jupyter.widget-view+json": {
       "model_id": "b115856d277e4f188ef645ed3debc38a",
       "version_major": 2,
       "version_minor": 0
      },
      "text/plain": [
       "0it [00:00, ?it/s]"
      ]
     },
     "metadata": {},
     "output_type": "display_data"
    },
    {
     "data": {
      "application/vnd.jupyter.widget-view+json": {
       "model_id": "37668cbbbf4a49f999c78e3255ffa238",
       "version_major": 2,
       "version_minor": 0
      },
      "text/plain": [
       "0it [00:00, ?it/s]"
      ]
     },
     "metadata": {},
     "output_type": "display_data"
    },
    {
     "data": {
      "application/vnd.jupyter.widget-view+json": {
       "model_id": "f2e7b42453c14b48a42ee7369e35e064",
       "version_major": 2,
       "version_minor": 0
      },
      "text/plain": [
       "0it [00:00, ?it/s]"
      ]
     },
     "metadata": {},
     "output_type": "display_data"
    },
    {
     "data": {
      "application/vnd.jupyter.widget-view+json": {
       "model_id": "1cf3e8da98264060800b26608ec20120",
       "version_major": 2,
       "version_minor": 0
      },
      "text/plain": [
       "0it [00:00, ?it/s]"
      ]
     },
     "metadata": {},
     "output_type": "display_data"
    },
    {
     "data": {
      "application/vnd.jupyter.widget-view+json": {
       "model_id": "b1b1d031c12d4fc89bbf9dddacd5f317",
       "version_major": 2,
       "version_minor": 0
      },
      "text/plain": [
       "0it [00:00, ?it/s]"
      ]
     },
     "metadata": {},
     "output_type": "display_data"
    },
    {
     "data": {
      "application/vnd.jupyter.widget-view+json": {
       "model_id": "0e3d6ae4d6ee4da6a298386b698a275b",
       "version_major": 2,
       "version_minor": 0
      },
      "text/plain": [
       "0it [00:00, ?it/s]"
      ]
     },
     "metadata": {},
     "output_type": "display_data"
    },
    {
     "data": {
      "application/vnd.jupyter.widget-view+json": {
       "model_id": "f09a86ec05af4c22879936db06442081",
       "version_major": 2,
       "version_minor": 0
      },
      "text/plain": [
       "0it [00:00, ?it/s]"
      ]
     },
     "metadata": {},
     "output_type": "display_data"
    },
    {
     "data": {
      "application/vnd.jupyter.widget-view+json": {
       "model_id": "39c707420eac4ca6912d7d4fe91e3bc6",
       "version_major": 2,
       "version_minor": 0
      },
      "text/plain": [
       "0it [00:00, ?it/s]"
      ]
     },
     "metadata": {},
     "output_type": "display_data"
    },
    {
     "data": {
      "application/vnd.jupyter.widget-view+json": {
       "model_id": "2226215021704b638233ee28511b0eac",
       "version_major": 2,
       "version_minor": 0
      },
      "text/plain": [
       "0it [00:00, ?it/s]"
      ]
     },
     "metadata": {},
     "output_type": "display_data"
    },
    {
     "name": "stdout",
     "output_type": "stream",
     "text": [
      "[{'mse_loss': [0.009055864, 0.009522308, 0.006550546, 0.0033723135, 0.0016641861, 0.0008440167, 0.00056005386, 0.0003145428, 0.00014449364, 9.518399e-05], 'bpp_loss': [0.021601094, 0.021601094, 0.021601094, 0.021601094, 0.021601094, 0.021601094, 0.021601094, 0.021601094, 0.021601094, 0.021601094], 'loss_classic': [5.910177, 6.213482, 4.2810936, 2.214448, 1.1037381, 0.5704229, 0.38577613, 0.22613257, 0.11555809, 0.083494484], 'PSNR': [21.15073, 21.642025, 23.236916, 25.931522, 28.733086, 31.670204, 33.45553, 35.894585, 39.211292, 40.91382], 'Linearity': [0.5999513, 0.58077073, 0.59742856, 0.65794307, 0.6376282, 0.6356796, 0.6153793, 0.582088, 0.5385506, 0.5245554], 'loss': [1199.9117, 1161.551, 1194.8636, 1315.8895, 1275.258, 1271.3601, 1230.759, 1164.1763, 1077.1014, 1049.1108], 'bitrate': [0.36045, 0.4558, 0.541818, 0.807175, 1.478921, 2.902803, 4.289943, 6.964081, 12.399531, 16.302234]}]\n",
      "MDTVSFA ./models_enhancement/model_vimeo11k_PAC2PIC_2000mse_enhance_cheng2020_attn_quality2_fixed_direction.ckpt\n"
     ]
    },
    {
     "data": {
      "application/vnd.jupyter.widget-view+json": {
       "model_id": "de7401d01d094d17a1ae68fc9a5c8f0a",
       "version_major": 2,
       "version_minor": 0
      },
      "text/plain": [
       "0it [00:00, ?it/s]"
      ]
     },
     "metadata": {},
     "output_type": "display_data"
    },
    {
     "data": {
      "application/vnd.jupyter.widget-view+json": {
       "model_id": "02a8181cd14d4e98956ef0dd10c3b626",
       "version_major": 2,
       "version_minor": 0
      },
      "text/plain": [
       "0it [00:00, ?it/s]"
      ]
     },
     "metadata": {},
     "output_type": "display_data"
    },
    {
     "data": {
      "application/vnd.jupyter.widget-view+json": {
       "model_id": "163131e7b6e2448db84365cf27b3da63",
       "version_major": 2,
       "version_minor": 0
      },
      "text/plain": [
       "0it [00:00, ?it/s]"
      ]
     },
     "metadata": {},
     "output_type": "display_data"
    },
    {
     "data": {
      "application/vnd.jupyter.widget-view+json": {
       "model_id": "fb7dc5b1fa9e4757965252404e42bb70",
       "version_major": 2,
       "version_minor": 0
      },
      "text/plain": [
       "0it [00:00, ?it/s]"
      ]
     },
     "metadata": {},
     "output_type": "display_data"
    },
    {
     "data": {
      "application/vnd.jupyter.widget-view+json": {
       "model_id": "66fd3d74200a43f8890d98243ce759a6",
       "version_major": 2,
       "version_minor": 0
      },
      "text/plain": [
       "0it [00:00, ?it/s]"
      ]
     },
     "metadata": {},
     "output_type": "display_data"
    },
    {
     "data": {
      "application/vnd.jupyter.widget-view+json": {
       "model_id": "4dbe2b41274341c5b618abb88afb5776",
       "version_major": 2,
       "version_minor": 0
      },
      "text/plain": [
       "0it [00:00, ?it/s]"
      ]
     },
     "metadata": {},
     "output_type": "display_data"
    },
    {
     "data": {
      "application/vnd.jupyter.widget-view+json": {
       "model_id": "403e81c31e784e35b8589edad3c6b11a",
       "version_major": 2,
       "version_minor": 0
      },
      "text/plain": [
       "0it [00:00, ?it/s]"
      ]
     },
     "metadata": {},
     "output_type": "display_data"
    },
    {
     "data": {
      "application/vnd.jupyter.widget-view+json": {
       "model_id": "1049c2dbf36c4dbe877ed30d29884008",
       "version_major": 2,
       "version_minor": 0
      },
      "text/plain": [
       "0it [00:00, ?it/s]"
      ]
     },
     "metadata": {},
     "output_type": "display_data"
    },
    {
     "data": {
      "application/vnd.jupyter.widget-view+json": {
       "model_id": "e0a92953f1154d139616ccf2ccd73100",
       "version_major": 2,
       "version_minor": 0
      },
      "text/plain": [
       "0it [00:00, ?it/s]"
      ]
     },
     "metadata": {},
     "output_type": "display_data"
    },
    {
     "data": {
      "application/vnd.jupyter.widget-view+json": {
       "model_id": "ce37288f45e64fac8e95a9bf1db263a0",
       "version_major": 2,
       "version_minor": 0
      },
      "text/plain": [
       "0it [00:00, ?it/s]"
      ]
     },
     "metadata": {},
     "output_type": "display_data"
    },
    {
     "data": {
      "application/vnd.jupyter.widget-view+json": {
       "model_id": "a0c84ad0870a407a82eb9c0dd28602ef",
       "version_major": 2,
       "version_minor": 0
      },
      "text/plain": [
       "0it [00:00, ?it/s]"
      ]
     },
     "metadata": {},
     "output_type": "display_data"
    },
    {
     "data": {
      "application/vnd.jupyter.widget-view+json": {
       "model_id": "2d5a7b14d2f049f6939f2ea708ef8cf4",
       "version_major": 2,
       "version_minor": 0
      },
      "text/plain": [
       "0it [00:00, ?it/s]"
      ]
     },
     "metadata": {},
     "output_type": "display_data"
    },
    {
     "data": {
      "application/vnd.jupyter.widget-view+json": {
       "model_id": "0b8140d188594739a399e2c3fefbdb0a",
       "version_major": 2,
       "version_minor": 0
      },
      "text/plain": [
       "0it [00:00, ?it/s]"
      ]
     },
     "metadata": {},
     "output_type": "display_data"
    },
    {
     "data": {
      "application/vnd.jupyter.widget-view+json": {
       "model_id": "46e9d00c7d3745aab8da9588365eaccd",
       "version_major": 2,
       "version_minor": 0
      },
      "text/plain": [
       "0it [00:00, ?it/s]"
      ]
     },
     "metadata": {},
     "output_type": "display_data"
    },
    {
     "data": {
      "application/vnd.jupyter.widget-view+json": {
       "model_id": "011eef4d722846da8eede560bc444bc9",
       "version_major": 2,
       "version_minor": 0
      },
      "text/plain": [
       "0it [00:00, ?it/s]"
      ]
     },
     "metadata": {},
     "output_type": "display_data"
    },
    {
     "data": {
      "application/vnd.jupyter.widget-view+json": {
       "model_id": "913804c94ffd41fc973b3fd19adea4b9",
       "version_major": 2,
       "version_minor": 0
      },
      "text/plain": [
       "0it [00:00, ?it/s]"
      ]
     },
     "metadata": {},
     "output_type": "display_data"
    },
    {
     "data": {
      "application/vnd.jupyter.widget-view+json": {
       "model_id": "495101286bc14093af05e7b31977329c",
       "version_major": 2,
       "version_minor": 0
      },
      "text/plain": [
       "0it [00:00, ?it/s]"
      ]
     },
     "metadata": {},
     "output_type": "display_data"
    },
    {
     "data": {
      "application/vnd.jupyter.widget-view+json": {
       "model_id": "9d1f250897a34cc1a489aa9efb51c8bc",
       "version_major": 2,
       "version_minor": 0
      },
      "text/plain": [
       "0it [00:00, ?it/s]"
      ]
     },
     "metadata": {},
     "output_type": "display_data"
    },
    {
     "data": {
      "application/vnd.jupyter.widget-view+json": {
       "model_id": "ed53ef10647e4bcea1db5565a8a23503",
       "version_major": 2,
       "version_minor": 0
      },
      "text/plain": [
       "0it [00:00, ?it/s]"
      ]
     },
     "metadata": {},
     "output_type": "display_data"
    },
    {
     "data": {
      "application/vnd.jupyter.widget-view+json": {
       "model_id": "457739f965f24e2ab2b296a6640956ba",
       "version_major": 2,
       "version_minor": 0
      },
      "text/plain": [
       "0it [00:00, ?it/s]"
      ]
     },
     "metadata": {},
     "output_type": "display_data"
    },
    {
     "name": "stdout",
     "output_type": "stream",
     "text": [
      "[{'mse_loss': [0.009055864, 0.009522308, 0.006550546, 0.0033723135, 0.0016641861, 0.0008440167, 0.00056005386, 0.0003145428, 0.00014449364, 9.518399e-05], 'bpp_loss': [0.021601094, 0.021601094, 0.021601094, 0.021601094, 0.021601094, 0.021601094, 0.021601094, 0.021601094, 0.021601094, 0.021601094], 'loss_classic': [5.910177, 6.213482, 4.2810936, 2.214448, 1.1037381, 0.5704229, 0.38577613, 0.22613257, 0.11555809, 0.083494484], 'PSNR': [21.15073, 21.642025, 23.236916, 25.931522, 28.733086, 31.670204, 33.45553, 35.894585, 39.211292, 40.91382], 'MDTVSFA': [-0.4284063, -0.43382156, -0.43759727, -0.448617, -0.4583375, -0.47088116, -0.47912723, -0.48619443, -0.49035576, -0.49208754], 'loss': [-856.8036, -867.6336, -875.188, -897.2306, -916.67334, -941.7615, -958.2539, -972.3886, -980.7113, -984.1749], 'bitrate': [0.36045, 0.4558, 0.541818, 0.807175, 1.478921, 2.902803, 4.289943, 6.964081, 12.399531, 16.302234]}]\n",
      "PAC2PIQ ./models_enhancement/model_vimeo11k_SPAQ_2000mse_enhance_cheng2020_attn_quality2_fixed_direction.ckpt\n"
     ]
    },
    {
     "data": {
      "application/vnd.jupyter.widget-view+json": {
       "model_id": "ccda0fef76ca4f0d93363e11412ebb2c",
       "version_major": 2,
       "version_minor": 0
      },
      "text/plain": [
       "0it [00:00, ?it/s]"
      ]
     },
     "metadata": {},
     "output_type": "display_data"
    },
    {
     "data": {
      "application/vnd.jupyter.widget-view+json": {
       "model_id": "7e4ad5f3a29a40b59223584f66c55a7b",
       "version_major": 2,
       "version_minor": 0
      },
      "text/plain": [
       "0it [00:00, ?it/s]"
      ]
     },
     "metadata": {},
     "output_type": "display_data"
    },
    {
     "data": {
      "application/vnd.jupyter.widget-view+json": {
       "model_id": "9e4ad851d52d4bfe8912519cf731dfa7",
       "version_major": 2,
       "version_minor": 0
      },
      "text/plain": [
       "0it [00:00, ?it/s]"
      ]
     },
     "metadata": {},
     "output_type": "display_data"
    },
    {
     "data": {
      "application/vnd.jupyter.widget-view+json": {
       "model_id": "7b05ef9a485d4471abb5bb3a5590df35",
       "version_major": 2,
       "version_minor": 0
      },
      "text/plain": [
       "0it [00:00, ?it/s]"
      ]
     },
     "metadata": {},
     "output_type": "display_data"
    },
    {
     "data": {
      "application/vnd.jupyter.widget-view+json": {
       "model_id": "c0ba2655fdaf457c88c0b77c59b6f574",
       "version_major": 2,
       "version_minor": 0
      },
      "text/plain": [
       "0it [00:00, ?it/s]"
      ]
     },
     "metadata": {},
     "output_type": "display_data"
    },
    {
     "data": {
      "application/vnd.jupyter.widget-view+json": {
       "model_id": "0e0756731a784e2c81b87469b9ff82c2",
       "version_major": 2,
       "version_minor": 0
      },
      "text/plain": [
       "0it [00:00, ?it/s]"
      ]
     },
     "metadata": {},
     "output_type": "display_data"
    },
    {
     "data": {
      "application/vnd.jupyter.widget-view+json": {
       "model_id": "968725e6734d43d6a7467c440f20593e",
       "version_major": 2,
       "version_minor": 0
      },
      "text/plain": [
       "0it [00:00, ?it/s]"
      ]
     },
     "metadata": {},
     "output_type": "display_data"
    },
    {
     "data": {
      "application/vnd.jupyter.widget-view+json": {
       "model_id": "4d0e7da5a1b14ba4a13408de1d04495b",
       "version_major": 2,
       "version_minor": 0
      },
      "text/plain": [
       "0it [00:00, ?it/s]"
      ]
     },
     "metadata": {},
     "output_type": "display_data"
    },
    {
     "data": {
      "application/vnd.jupyter.widget-view+json": {
       "model_id": "9657fdc05f8b49c39720e1b045fcf45c",
       "version_major": 2,
       "version_minor": 0
      },
      "text/plain": [
       "0it [00:00, ?it/s]"
      ]
     },
     "metadata": {},
     "output_type": "display_data"
    },
    {
     "data": {
      "application/vnd.jupyter.widget-view+json": {
       "model_id": "ac22325a76904f13bb26800bfcb3331a",
       "version_major": 2,
       "version_minor": 0
      },
      "text/plain": [
       "0it [00:00, ?it/s]"
      ]
     },
     "metadata": {},
     "output_type": "display_data"
    },
    {
     "data": {
      "application/vnd.jupyter.widget-view+json": {
       "model_id": "1ed92f0aca274f579668479d4da55b71",
       "version_major": 2,
       "version_minor": 0
      },
      "text/plain": [
       "0it [00:00, ?it/s]"
      ]
     },
     "metadata": {},
     "output_type": "display_data"
    },
    {
     "data": {
      "application/vnd.jupyter.widget-view+json": {
       "model_id": "fcd4034e77544104ac92f93594b2dff8",
       "version_major": 2,
       "version_minor": 0
      },
      "text/plain": [
       "0it [00:00, ?it/s]"
      ]
     },
     "metadata": {},
     "output_type": "display_data"
    },
    {
     "data": {
      "application/vnd.jupyter.widget-view+json": {
       "model_id": "f2e962069a1c4699a4f1006d3c5bc2fc",
       "version_major": 2,
       "version_minor": 0
      },
      "text/plain": [
       "0it [00:00, ?it/s]"
      ]
     },
     "metadata": {},
     "output_type": "display_data"
    },
    {
     "data": {
      "application/vnd.jupyter.widget-view+json": {
       "model_id": "4fe2b856fa9543d396968f937ff0e5e0",
       "version_major": 2,
       "version_minor": 0
      },
      "text/plain": [
       "0it [00:00, ?it/s]"
      ]
     },
     "metadata": {},
     "output_type": "display_data"
    },
    {
     "data": {
      "application/vnd.jupyter.widget-view+json": {
       "model_id": "c7b22ef094854c8daf17e2fb94d7b7c4",
       "version_major": 2,
       "version_minor": 0
      },
      "text/plain": [
       "0it [00:00, ?it/s]"
      ]
     },
     "metadata": {},
     "output_type": "display_data"
    },
    {
     "data": {
      "application/vnd.jupyter.widget-view+json": {
       "model_id": "3880000d19404348b33eb4fd4cf9e2b3",
       "version_major": 2,
       "version_minor": 0
      },
      "text/plain": [
       "0it [00:00, ?it/s]"
      ]
     },
     "metadata": {},
     "output_type": "display_data"
    },
    {
     "data": {
      "application/vnd.jupyter.widget-view+json": {
       "model_id": "73581da2214841968aa7627fd6303311",
       "version_major": 2,
       "version_minor": 0
      },
      "text/plain": [
       "0it [00:00, ?it/s]"
      ]
     },
     "metadata": {},
     "output_type": "display_data"
    },
    {
     "data": {
      "application/vnd.jupyter.widget-view+json": {
       "model_id": "eaf285fbbba649559557a204b57e10c5",
       "version_major": 2,
       "version_minor": 0
      },
      "text/plain": [
       "0it [00:00, ?it/s]"
      ]
     },
     "metadata": {},
     "output_type": "display_data"
    },
    {
     "data": {
      "application/vnd.jupyter.widget-view+json": {
       "model_id": "b467af4357fa4abf8a36b416cb0b3eb5",
       "version_major": 2,
       "version_minor": 0
      },
      "text/plain": [
       "0it [00:00, ?it/s]"
      ]
     },
     "metadata": {},
     "output_type": "display_data"
    },
    {
     "data": {
      "application/vnd.jupyter.widget-view+json": {
       "model_id": "165de4adada24ca39826bdce7e0c79e9",
       "version_major": 2,
       "version_minor": 0
      },
      "text/plain": [
       "0it [00:00, ?it/s]"
      ]
     },
     "metadata": {},
     "output_type": "display_data"
    },
    {
     "name": "stdout",
     "output_type": "stream",
     "text": [
      "[{'mse_loss': [0.009055864, 0.009522308, 0.006550546, 0.0033723135, 0.0016641861, 0.0008440167, 0.00056005386, 0.0003145428, 0.00014449364, 9.518399e-05], 'bpp_loss': [0.021601094, 0.021601094, 0.021601094, 0.021601094, 0.021601094, 0.021601094, 0.021601094, 0.021601094, 0.021601094, 0.021601094], 'loss_classic': [5.910177, 6.213482, 4.2810936, 2.214448, 1.1037381, 0.5704229, 0.38577613, 0.22613257, 0.11555809, 0.083494484], 'PSNR': [21.15073, 21.642025, 23.236916, 25.931522, 28.733086, 31.670204, 33.45553, 35.894585, 39.211292, 40.91382], 'PAC2PIQ': [-0.48304832, -0.49014434, -0.4825136, -0.4943171, -0.51195765, -0.51767445, -0.5218528, -0.5207444, -0.5259688, -0.5283203], 'loss': [-966.0875, -980.2792, -965.0206, -988.63086, -1023.9136, -1035.3479, -1043.7051, -1041.4885, -1051.9375, -1056.6406], 'bitrate': [0.36045, 0.4558, 0.541818, 0.807175, 1.478921, 2.902803, 4.289943, 6.964081, 12.399531, 16.302234]}]\n",
      "SPAQ ./models_enhancement/model_vimeo11k_VSFA_2000mse_enhance_cheng2020_attn_quality2_fixed_direction.ckpt\n"
     ]
    },
    {
     "data": {
      "application/vnd.jupyter.widget-view+json": {
       "model_id": "be60ee019b834d9fac9151355154590d",
       "version_major": 2,
       "version_minor": 0
      },
      "text/plain": [
       "0it [00:00, ?it/s]"
      ]
     },
     "metadata": {},
     "output_type": "display_data"
    },
    {
     "data": {
      "application/vnd.jupyter.widget-view+json": {
       "model_id": "0c27f645e1c8495bbe36cdec71cd3d94",
       "version_major": 2,
       "version_minor": 0
      },
      "text/plain": [
       "0it [00:00, ?it/s]"
      ]
     },
     "metadata": {},
     "output_type": "display_data"
    },
    {
     "data": {
      "application/vnd.jupyter.widget-view+json": {
       "model_id": "194700f1277b4618a1246b9f5818519b",
       "version_major": 2,
       "version_minor": 0
      },
      "text/plain": [
       "0it [00:00, ?it/s]"
      ]
     },
     "metadata": {},
     "output_type": "display_data"
    },
    {
     "data": {
      "application/vnd.jupyter.widget-view+json": {
       "model_id": "9fbb8902db29446c99342f4e8d2df42e",
       "version_major": 2,
       "version_minor": 0
      },
      "text/plain": [
       "0it [00:00, ?it/s]"
      ]
     },
     "metadata": {},
     "output_type": "display_data"
    },
    {
     "data": {
      "application/vnd.jupyter.widget-view+json": {
       "model_id": "d2a4affd1b624701a99df417b9812ad0",
       "version_major": 2,
       "version_minor": 0
      },
      "text/plain": [
       "0it [00:00, ?it/s]"
      ]
     },
     "metadata": {},
     "output_type": "display_data"
    },
    {
     "data": {
      "application/vnd.jupyter.widget-view+json": {
       "model_id": "9f559989efa0488b83e642bb31da68f3",
       "version_major": 2,
       "version_minor": 0
      },
      "text/plain": [
       "0it [00:00, ?it/s]"
      ]
     },
     "metadata": {},
     "output_type": "display_data"
    },
    {
     "data": {
      "application/vnd.jupyter.widget-view+json": {
       "model_id": "31ef02a36e30478d8eab9173fb6ec643",
       "version_major": 2,
       "version_minor": 0
      },
      "text/plain": [
       "0it [00:00, ?it/s]"
      ]
     },
     "metadata": {},
     "output_type": "display_data"
    },
    {
     "data": {
      "application/vnd.jupyter.widget-view+json": {
       "model_id": "636665dc966e466b8e79dde6500f0af8",
       "version_major": 2,
       "version_minor": 0
      },
      "text/plain": [
       "0it [00:00, ?it/s]"
      ]
     },
     "metadata": {},
     "output_type": "display_data"
    },
    {
     "data": {
      "application/vnd.jupyter.widget-view+json": {
       "model_id": "f2690222752940b895d15c56176e90fd",
       "version_major": 2,
       "version_minor": 0
      },
      "text/plain": [
       "0it [00:00, ?it/s]"
      ]
     },
     "metadata": {},
     "output_type": "display_data"
    },
    {
     "data": {
      "application/vnd.jupyter.widget-view+json": {
       "model_id": "59e41aa767b44024a3b78c9fc9979584",
       "version_major": 2,
       "version_minor": 0
      },
      "text/plain": [
       "0it [00:00, ?it/s]"
      ]
     },
     "metadata": {},
     "output_type": "display_data"
    },
    {
     "data": {
      "application/vnd.jupyter.widget-view+json": {
       "model_id": "e5677483e6684d4d90287eef9110ace3",
       "version_major": 2,
       "version_minor": 0
      },
      "text/plain": [
       "0it [00:00, ?it/s]"
      ]
     },
     "metadata": {},
     "output_type": "display_data"
    },
    {
     "data": {
      "application/vnd.jupyter.widget-view+json": {
       "model_id": "235177cc589b442ba651674a37f717d2",
       "version_major": 2,
       "version_minor": 0
      },
      "text/plain": [
       "0it [00:00, ?it/s]"
      ]
     },
     "metadata": {},
     "output_type": "display_data"
    },
    {
     "data": {
      "application/vnd.jupyter.widget-view+json": {
       "model_id": "4e8473f3b0aa49629c0d78633a311d90",
       "version_major": 2,
       "version_minor": 0
      },
      "text/plain": [
       "0it [00:00, ?it/s]"
      ]
     },
     "metadata": {},
     "output_type": "display_data"
    },
    {
     "data": {
      "application/vnd.jupyter.widget-view+json": {
       "model_id": "ac8de607304241c5bd9f66a57fe8e53c",
       "version_major": 2,
       "version_minor": 0
      },
      "text/plain": [
       "0it [00:00, ?it/s]"
      ]
     },
     "metadata": {},
     "output_type": "display_data"
    },
    {
     "data": {
      "application/vnd.jupyter.widget-view+json": {
       "model_id": "ad8a8afe2bc742c686f451b7e7e04d27",
       "version_major": 2,
       "version_minor": 0
      },
      "text/plain": [
       "0it [00:00, ?it/s]"
      ]
     },
     "metadata": {},
     "output_type": "display_data"
    },
    {
     "data": {
      "application/vnd.jupyter.widget-view+json": {
       "model_id": "4c6f1b7bd24e4d7fb6d99a695ccf4aa1",
       "version_major": 2,
       "version_minor": 0
      },
      "text/plain": [
       "0it [00:00, ?it/s]"
      ]
     },
     "metadata": {},
     "output_type": "display_data"
    },
    {
     "data": {
      "application/vnd.jupyter.widget-view+json": {
       "model_id": "dbc1309027274389b8a31db822e35044",
       "version_major": 2,
       "version_minor": 0
      },
      "text/plain": [
       "0it [00:00, ?it/s]"
      ]
     },
     "metadata": {},
     "output_type": "display_data"
    },
    {
     "data": {
      "application/vnd.jupyter.widget-view+json": {
       "model_id": "f9cb9c76173648169a247f3bd5834237",
       "version_major": 2,
       "version_minor": 0
      },
      "text/plain": [
       "0it [00:00, ?it/s]"
      ]
     },
     "metadata": {},
     "output_type": "display_data"
    },
    {
     "data": {
      "application/vnd.jupyter.widget-view+json": {
       "model_id": "b8e4903096054cf9a8d2b55a40eee867",
       "version_major": 2,
       "version_minor": 0
      },
      "text/plain": [
       "0it [00:00, ?it/s]"
      ]
     },
     "metadata": {},
     "output_type": "display_data"
    },
    {
     "data": {
      "application/vnd.jupyter.widget-view+json": {
       "model_id": "28e3148391054bbbb9e42519c41ba402",
       "version_major": 2,
       "version_minor": 0
      },
      "text/plain": [
       "0it [00:00, ?it/s]"
      ]
     },
     "metadata": {},
     "output_type": "display_data"
    },
    {
     "name": "stdout",
     "output_type": "stream",
     "text": [
      "[{'mse_loss': [0.009055864, 0.009522308, 0.006550546, 0.0033723135, 0.0016641861, 0.0008440167, 0.00056005386, 0.0003145428, 0.00014449364, 9.518399e-05], 'bpp_loss': [0.021601094, 0.021601094, 0.021601094, 0.021601094, 0.021601094, 0.021601094, 0.021601094, 0.021601094, 0.021601094, 0.021601094], 'loss_classic': [5.910177, 6.213482, 4.2810936, 2.214448, 1.1037381, 0.5704229, 0.38577613, 0.22613257, 0.11555809, 0.083494484], 'PSNR': [21.15073, 21.642025, 23.236916, 25.931522, 28.733086, 31.670204, 33.45553, 35.894585, 39.211292, 40.91382], 'SPAQ': [-0.4284922, -0.42869535, -0.4273184, -0.43347928, -0.4263403, -0.4270627, -0.4283405, -0.42989933, -0.43684077, -0.44312888], 'loss': [-856.9753, -857.3812, -854.6303, -866.9552, -852.67896, -854.1245, -856.6804, -859.79834, -873.6814, -886.2577], 'bitrate': [0.36045, 0.4558, 0.541818, 0.807175, 1.478921, 2.902803, 4.289943, 6.964081, 12.399531, 16.302234]}]\n",
      "VSFA ./models_enhancement/model_vimeo11k_Linearity_2000mse_enhance_no_codec_fixed_direction.ckpt\n"
     ]
    },
    {
     "data": {
      "application/vnd.jupyter.widget-view+json": {
       "model_id": "f2f1bbd92d604da797cbea3b5ab58b2c",
       "version_major": 2,
       "version_minor": 0
      },
      "text/plain": [
       "0it [00:00, ?it/s]"
      ]
     },
     "metadata": {},
     "output_type": "display_data"
    },
    {
     "data": {
      "application/vnd.jupyter.widget-view+json": {
       "model_id": "f0ef36cf2a0e4a8d8a9e97dfeba7297f",
       "version_major": 2,
       "version_minor": 0
      },
      "text/plain": [
       "0it [00:00, ?it/s]"
      ]
     },
     "metadata": {},
     "output_type": "display_data"
    },
    {
     "data": {
      "application/vnd.jupyter.widget-view+json": {
       "model_id": "ccb4a2a7a3c64030921b90750229dc1f",
       "version_major": 2,
       "version_minor": 0
      },
      "text/plain": [
       "0it [00:00, ?it/s]"
      ]
     },
     "metadata": {},
     "output_type": "display_data"
    },
    {
     "data": {
      "application/vnd.jupyter.widget-view+json": {
       "model_id": "5d175ff4ba454f9b848394ef36b8e10b",
       "version_major": 2,
       "version_minor": 0
      },
      "text/plain": [
       "0it [00:00, ?it/s]"
      ]
     },
     "metadata": {},
     "output_type": "display_data"
    },
    {
     "data": {
      "application/vnd.jupyter.widget-view+json": {
       "model_id": "ed2fb06b278b4bd7babf81c0ac5e0731",
       "version_major": 2,
       "version_minor": 0
      },
      "text/plain": [
       "0it [00:00, ?it/s]"
      ]
     },
     "metadata": {},
     "output_type": "display_data"
    },
    {
     "data": {
      "application/vnd.jupyter.widget-view+json": {
       "model_id": "e00a646bef0947c7b42f649367df0839",
       "version_major": 2,
       "version_minor": 0
      },
      "text/plain": [
       "0it [00:00, ?it/s]"
      ]
     },
     "metadata": {},
     "output_type": "display_data"
    },
    {
     "data": {
      "application/vnd.jupyter.widget-view+json": {
       "model_id": "3320ae1d57104258a0dae136f53e1403",
       "version_major": 2,
       "version_minor": 0
      },
      "text/plain": [
       "0it [00:00, ?it/s]"
      ]
     },
     "metadata": {},
     "output_type": "display_data"
    },
    {
     "data": {
      "application/vnd.jupyter.widget-view+json": {
       "model_id": "3a3fe80cf7204f56b62d2169cfa12f7f",
       "version_major": 2,
       "version_minor": 0
      },
      "text/plain": [
       "0it [00:00, ?it/s]"
      ]
     },
     "metadata": {},
     "output_type": "display_data"
    },
    {
     "data": {
      "application/vnd.jupyter.widget-view+json": {
       "model_id": "6f476b4cf67045318c8a66716d20526f",
       "version_major": 2,
       "version_minor": 0
      },
      "text/plain": [
       "0it [00:00, ?it/s]"
      ]
     },
     "metadata": {},
     "output_type": "display_data"
    },
    {
     "data": {
      "application/vnd.jupyter.widget-view+json": {
       "model_id": "2a2292d668514bda98b995ac20d38f3c",
       "version_major": 2,
       "version_minor": 0
      },
      "text/plain": [
       "0it [00:00, ?it/s]"
      ]
     },
     "metadata": {},
     "output_type": "display_data"
    },
    {
     "data": {
      "application/vnd.jupyter.widget-view+json": {
       "model_id": "2dd75d969ebc495fbff743dfd05dd1b9",
       "version_major": 2,
       "version_minor": 0
      },
      "text/plain": [
       "0it [00:00, ?it/s]"
      ]
     },
     "metadata": {},
     "output_type": "display_data"
    },
    {
     "data": {
      "application/vnd.jupyter.widget-view+json": {
       "model_id": "9e59f7efa10e488d88210c254249f325",
       "version_major": 2,
       "version_minor": 0
      },
      "text/plain": [
       "0it [00:00, ?it/s]"
      ]
     },
     "metadata": {},
     "output_type": "display_data"
    },
    {
     "data": {
      "application/vnd.jupyter.widget-view+json": {
       "model_id": "d4612954213e4cec94a0cd501765b512",
       "version_major": 2,
       "version_minor": 0
      },
      "text/plain": [
       "0it [00:00, ?it/s]"
      ]
     },
     "metadata": {},
     "output_type": "display_data"
    },
    {
     "data": {
      "application/vnd.jupyter.widget-view+json": {
       "model_id": "36aa5d05fd434577b25317fce2376f75",
       "version_major": 2,
       "version_minor": 0
      },
      "text/plain": [
       "0it [00:00, ?it/s]"
      ]
     },
     "metadata": {},
     "output_type": "display_data"
    },
    {
     "data": {
      "application/vnd.jupyter.widget-view+json": {
       "model_id": "62b4c4d725d94ec3b7cf0fd1f4de9ab2",
       "version_major": 2,
       "version_minor": 0
      },
      "text/plain": [
       "0it [00:00, ?it/s]"
      ]
     },
     "metadata": {},
     "output_type": "display_data"
    },
    {
     "data": {
      "application/vnd.jupyter.widget-view+json": {
       "model_id": "0b41c971f3f34f4eae638e10219bd73f",
       "version_major": 2,
       "version_minor": 0
      },
      "text/plain": [
       "0it [00:00, ?it/s]"
      ]
     },
     "metadata": {},
     "output_type": "display_data"
    },
    {
     "data": {
      "application/vnd.jupyter.widget-view+json": {
       "model_id": "a10dbe6cd8a34f91bb8df351083223f5",
       "version_major": 2,
       "version_minor": 0
      },
      "text/plain": [
       "0it [00:00, ?it/s]"
      ]
     },
     "metadata": {},
     "output_type": "display_data"
    },
    {
     "data": {
      "application/vnd.jupyter.widget-view+json": {
       "model_id": "73df01617e9f4fc9849e34cfafb31de7",
       "version_major": 2,
       "version_minor": 0
      },
      "text/plain": [
       "0it [00:00, ?it/s]"
      ]
     },
     "metadata": {},
     "output_type": "display_data"
    },
    {
     "data": {
      "application/vnd.jupyter.widget-view+json": {
       "model_id": "59d89c9df9be4b8ca835b0106aa67432",
       "version_major": 2,
       "version_minor": 0
      },
      "text/plain": [
       "0it [00:00, ?it/s]"
      ]
     },
     "metadata": {},
     "output_type": "display_data"
    },
    {
     "data": {
      "application/vnd.jupyter.widget-view+json": {
       "model_id": "052cc69b58194aa3aa29180c7433f1e2",
       "version_major": 2,
       "version_minor": 0
      },
      "text/plain": [
       "0it [00:00, ?it/s]"
      ]
     },
     "metadata": {},
     "output_type": "display_data"
    },
    {
     "name": "stdout",
     "output_type": "stream",
     "text": [
      "[{'mse_loss': [0.009055864, 0.009522308, 0.006550546, 0.0033723135, 0.0016641862, 0.0008440167, 0.0005600539, 0.00031454285, 0.00014449365, 9.5184005e-05], 'bpp_loss': [0.010800547, 0.010800547, 0.010800547, 0.010800547, 0.010800547, 0.010800547, 0.010800547, 0.010800547, 0.010800547, 0.010800547], 'loss_classic': [5.8993764, 6.202681, 4.2702928, 2.2036474, 1.0929377, 0.55962235, 0.37497556, 0.21533203, 0.10475753, 0.072693944], 'PSNR': [21.019142, 21.52348, 23.109478, 25.773453, 28.61635, 31.54165, 33.324055, 35.77789, 39.114628, 40.83141], 'VSFA': [-0.34987092, -0.35987452, -0.36722505, -0.3916478, -0.41666755, -0.43308422, -0.44364524, -0.45436332, -0.45538568, -0.45634368], 'loss': [-699.7328, -719.7395, -734.4436, -783.29224, -833.3335, -866.1676, -887.2899, -908.7263, -910.77124, -912.68726], 'bitrate': [0.36045, 0.4558, 0.541818, 0.807175, 1.478921, 2.902803, 4.289943, 6.964081, 12.399531, 16.302234]}]\n"
     ]
    },
    {
     "data": {
      "application/vnd.jupyter.widget-view+json": {
       "model_id": "32e7fe4c35624100937fea1a110b0897",
       "version_major": 2,
       "version_minor": 0
      },
      "text/plain": [
       "0it [00:00, ?it/s]"
      ]
     },
     "metadata": {},
     "output_type": "display_data"
    },
    {
     "name": "stdout",
     "output_type": "stream",
     "text": [
      "Linearity ./models_enhancement/model_vimeo11k_MDTVSFA_2000mse_enhance_cheng2020_attn_quality2.ckpt\n"
     ]
    },
    {
     "data": {
      "application/vnd.jupyter.widget-view+json": {
       "model_id": "ba155255d0ea4fc0ada84c619a3f758b",
       "version_major": 2,
       "version_minor": 0
      },
      "text/plain": [
       "0it [00:00, ?it/s]"
      ]
     },
     "metadata": {},
     "output_type": "display_data"
    },
    {
     "data": {
      "application/vnd.jupyter.widget-view+json": {
       "model_id": "770f300f60f9466cb4c692ce56a3000a",
       "version_major": 2,
       "version_minor": 0
      },
      "text/plain": [
       "0it [00:00, ?it/s]"
      ]
     },
     "metadata": {},
     "output_type": "display_data"
    },
    {
     "data": {
      "application/vnd.jupyter.widget-view+json": {
       "model_id": "d0d54873698e4923b43922b520501d06",
       "version_major": 2,
       "version_minor": 0
      },
      "text/plain": [
       "0it [00:00, ?it/s]"
      ]
     },
     "metadata": {},
     "output_type": "display_data"
    },
    {
     "data": {
      "application/vnd.jupyter.widget-view+json": {
       "model_id": "65dd9c56cd3a46098f98a3af7b8c1948",
       "version_major": 2,
       "version_minor": 0
      },
      "text/plain": [
       "0it [00:00, ?it/s]"
      ]
     },
     "metadata": {},
     "output_type": "display_data"
    },
    {
     "data": {
      "application/vnd.jupyter.widget-view+json": {
       "model_id": "d884c07a32cc4eafb7e2008b7cc67b24",
       "version_major": 2,
       "version_minor": 0
      },
      "text/plain": [
       "0it [00:00, ?it/s]"
      ]
     },
     "metadata": {},
     "output_type": "display_data"
    },
    {
     "data": {
      "application/vnd.jupyter.widget-view+json": {
       "model_id": "755aff00dc0d4a7582fdca247b79d238",
       "version_major": 2,
       "version_minor": 0
      },
      "text/plain": [
       "0it [00:00, ?it/s]"
      ]
     },
     "metadata": {},
     "output_type": "display_data"
    },
    {
     "data": {
      "application/vnd.jupyter.widget-view+json": {
       "model_id": "2be7e726a2564cc1a9aee3134b2eb92a",
       "version_major": 2,
       "version_minor": 0
      },
      "text/plain": [
       "0it [00:00, ?it/s]"
      ]
     },
     "metadata": {},
     "output_type": "display_data"
    },
    {
     "data": {
      "application/vnd.jupyter.widget-view+json": {
       "model_id": "8b2dd610303c4096bf3d4b2bc23fe84c",
       "version_major": 2,
       "version_minor": 0
      },
      "text/plain": [
       "0it [00:00, ?it/s]"
      ]
     },
     "metadata": {},
     "output_type": "display_data"
    },
    {
     "data": {
      "application/vnd.jupyter.widget-view+json": {
       "model_id": "0fd8c81eb0c74665b8ed7f9c879e2fdb",
       "version_major": 2,
       "version_minor": 0
      },
      "text/plain": [
       "0it [00:00, ?it/s]"
      ]
     },
     "metadata": {},
     "output_type": "display_data"
    },
    {
     "data": {
      "application/vnd.jupyter.widget-view+json": {
       "model_id": "bf66d43c16974abc844938e55f9e2b5d",
       "version_major": 2,
       "version_minor": 0
      },
      "text/plain": [
       "0it [00:00, ?it/s]"
      ]
     },
     "metadata": {},
     "output_type": "display_data"
    },
    {
     "data": {
      "application/vnd.jupyter.widget-view+json": {
       "model_id": "eb16f5ac802d4896aba479e29750d691",
       "version_major": 2,
       "version_minor": 0
      },
      "text/plain": [
       "0it [00:00, ?it/s]"
      ]
     },
     "metadata": {},
     "output_type": "display_data"
    },
    {
     "data": {
      "application/vnd.jupyter.widget-view+json": {
       "model_id": "ec0ed75c73754223b76619b5a9e150e5",
       "version_major": 2,
       "version_minor": 0
      },
      "text/plain": [
       "0it [00:00, ?it/s]"
      ]
     },
     "metadata": {},
     "output_type": "display_data"
    },
    {
     "data": {
      "application/vnd.jupyter.widget-view+json": {
       "model_id": "4755cda9fd0044e89758d6d3368ab2ad",
       "version_major": 2,
       "version_minor": 0
      },
      "text/plain": [
       "0it [00:00, ?it/s]"
      ]
     },
     "metadata": {},
     "output_type": "display_data"
    },
    {
     "data": {
      "application/vnd.jupyter.widget-view+json": {
       "model_id": "51859d8a95974d0e957731553c770fe5",
       "version_major": 2,
       "version_minor": 0
      },
      "text/plain": [
       "0it [00:00, ?it/s]"
      ]
     },
     "metadata": {},
     "output_type": "display_data"
    },
    {
     "data": {
      "application/vnd.jupyter.widget-view+json": {
       "model_id": "5ccfcc757d464ecd8819f772008480c4",
       "version_major": 2,
       "version_minor": 0
      },
      "text/plain": [
       "0it [00:00, ?it/s]"
      ]
     },
     "metadata": {},
     "output_type": "display_data"
    },
    {
     "data": {
      "application/vnd.jupyter.widget-view+json": {
       "model_id": "7cb7d8cbf762412ab3d71979295b36dd",
       "version_major": 2,
       "version_minor": 0
      },
      "text/plain": [
       "0it [00:00, ?it/s]"
      ]
     },
     "metadata": {},
     "output_type": "display_data"
    },
    {
     "data": {
      "application/vnd.jupyter.widget-view+json": {
       "model_id": "53f70bea2c7449be888490d1b5cccf95",
       "version_major": 2,
       "version_minor": 0
      },
      "text/plain": [
       "0it [00:00, ?it/s]"
      ]
     },
     "metadata": {},
     "output_type": "display_data"
    },
    {
     "data": {
      "application/vnd.jupyter.widget-view+json": {
       "model_id": "56c2812aaf29486c90f178b4fce84397",
       "version_major": 2,
       "version_minor": 0
      },
      "text/plain": [
       "0it [00:00, ?it/s]"
      ]
     },
     "metadata": {},
     "output_type": "display_data"
    },
    {
     "data": {
      "application/vnd.jupyter.widget-view+json": {
       "model_id": "a5b559e38b4949b19dd0a243222a6508",
       "version_major": 2,
       "version_minor": 0
      },
      "text/plain": [
       "0it [00:00, ?it/s]"
      ]
     },
     "metadata": {},
     "output_type": "display_data"
    },
    {
     "data": {
      "application/vnd.jupyter.widget-view+json": {
       "model_id": "c0ec7bcd975344b7807fcd6d2ddea2d6",
       "version_major": 2,
       "version_minor": 0
      },
      "text/plain": [
       "0it [00:00, ?it/s]"
      ]
     },
     "metadata": {},
     "output_type": "display_data"
    },
    {
     "name": "stdout",
     "output_type": "stream",
     "text": [
      "[{'mse_loss': [0.009697751, 0.0044392752, 0.0026605064, 0.0012684765, 0.0005004005, 0.00025291523, 0.00018650865, 0.00013854218, 0.0001028321, 8.907321e-05], 'bpp_loss': [0.021601094, 0.021601094, 0.021601094, 0.021601094, 0.021601094, 0.021601094, 0.021601094, 0.021601094, 0.021601094, 0.021601094], 'loss_classic': [6.3275633, 2.9082398, 1.7515953, 0.8464279, 0.34698653, 0.1860592, 0.14287835, 0.111688145, 0.08846767, 0.07952095], 'PSNR': [21.147215, 24.69606, 26.925434, 29.9851, 33.789215, 36.58705, 37.843365, 39.079475, 40.299873, 40.870567], 'Linearity': [0.68347657, 0.71009433, 0.7066006, 0.6560316, 0.4495265, 0.28122783, 0.1916048, 0.13135046, 0.09388733, 0.08124267], 'loss': [1366.9629, 1420.1931, 1413.2039, 1312.0645, 899.05347, 562.45593, 383.20978, 262.70105, 187.77475, 162.48544], 'bitrate': [0.168175, 0.259668, 0.357481, 0.577243, 1.092981, 2.132078, 3.214578, 5.567656, 10.55694, 14.354068]}]\n",
      "MDTVSFA ./models_enhancement/model_vimeo11k_PAC2PIC_2000mse_enhance_cheng2020_attn_quality2_fixed_direction.ckpt\n"
     ]
    },
    {
     "data": {
      "application/vnd.jupyter.widget-view+json": {
       "model_id": "ebaf56eef8464bd4ab983f97d8d105ba",
       "version_major": 2,
       "version_minor": 0
      },
      "text/plain": [
       "0it [00:00, ?it/s]"
      ]
     },
     "metadata": {},
     "output_type": "display_data"
    },
    {
     "data": {
      "application/vnd.jupyter.widget-view+json": {
       "model_id": "4f71fda128ae42338e70000e7d78d2b1",
       "version_major": 2,
       "version_minor": 0
      },
      "text/plain": [
       "0it [00:00, ?it/s]"
      ]
     },
     "metadata": {},
     "output_type": "display_data"
    },
    {
     "data": {
      "application/vnd.jupyter.widget-view+json": {
       "model_id": "59135f3e9b0949a38a2afa58134e8e2b",
       "version_major": 2,
       "version_minor": 0
      },
      "text/plain": [
       "0it [00:00, ?it/s]"
      ]
     },
     "metadata": {},
     "output_type": "display_data"
    },
    {
     "data": {
      "application/vnd.jupyter.widget-view+json": {
       "model_id": "21653a0a19fe49efa464f923a12e7cdf",
       "version_major": 2,
       "version_minor": 0
      },
      "text/plain": [
       "0it [00:00, ?it/s]"
      ]
     },
     "metadata": {},
     "output_type": "display_data"
    },
    {
     "data": {
      "application/vnd.jupyter.widget-view+json": {
       "model_id": "da655d624ac74e098d2fe0b7f67f9266",
       "version_major": 2,
       "version_minor": 0
      },
      "text/plain": [
       "0it [00:00, ?it/s]"
      ]
     },
     "metadata": {},
     "output_type": "display_data"
    },
    {
     "data": {
      "application/vnd.jupyter.widget-view+json": {
       "model_id": "87eb548fd778499a9ff34c3cbe33fa7e",
       "version_major": 2,
       "version_minor": 0
      },
      "text/plain": [
       "0it [00:00, ?it/s]"
      ]
     },
     "metadata": {},
     "output_type": "display_data"
    },
    {
     "data": {
      "application/vnd.jupyter.widget-view+json": {
       "model_id": "0d1b9d91f09144b185bee8aafd3a40b3",
       "version_major": 2,
       "version_minor": 0
      },
      "text/plain": [
       "0it [00:00, ?it/s]"
      ]
     },
     "metadata": {},
     "output_type": "display_data"
    },
    {
     "data": {
      "application/vnd.jupyter.widget-view+json": {
       "model_id": "170f53285eb048ef94e212866fed6905",
       "version_major": 2,
       "version_minor": 0
      },
      "text/plain": [
       "0it [00:00, ?it/s]"
      ]
     },
     "metadata": {},
     "output_type": "display_data"
    },
    {
     "data": {
      "application/vnd.jupyter.widget-view+json": {
       "model_id": "2e416039784940cfa044711817c38caa",
       "version_major": 2,
       "version_minor": 0
      },
      "text/plain": [
       "0it [00:00, ?it/s]"
      ]
     },
     "metadata": {},
     "output_type": "display_data"
    },
    {
     "data": {
      "application/vnd.jupyter.widget-view+json": {
       "model_id": "ad86fc1932004ea1bb92010bf0d866fd",
       "version_major": 2,
       "version_minor": 0
      },
      "text/plain": [
       "0it [00:00, ?it/s]"
      ]
     },
     "metadata": {},
     "output_type": "display_data"
    },
    {
     "data": {
      "application/vnd.jupyter.widget-view+json": {
       "model_id": "1694728f676f49d09c5475a6ecd116b5",
       "version_major": 2,
       "version_minor": 0
      },
      "text/plain": [
       "0it [00:00, ?it/s]"
      ]
     },
     "metadata": {},
     "output_type": "display_data"
    },
    {
     "data": {
      "application/vnd.jupyter.widget-view+json": {
       "model_id": "6af1f8964f104adb9c9ffef084275cb2",
       "version_major": 2,
       "version_minor": 0
      },
      "text/plain": [
       "0it [00:00, ?it/s]"
      ]
     },
     "metadata": {},
     "output_type": "display_data"
    },
    {
     "data": {
      "application/vnd.jupyter.widget-view+json": {
       "model_id": "68e38499b7f647f8a80bf611949811c1",
       "version_major": 2,
       "version_minor": 0
      },
      "text/plain": [
       "0it [00:00, ?it/s]"
      ]
     },
     "metadata": {},
     "output_type": "display_data"
    },
    {
     "data": {
      "application/vnd.jupyter.widget-view+json": {
       "model_id": "f567a7c8a45b47bb96dfd8d44a24088e",
       "version_major": 2,
       "version_minor": 0
      },
      "text/plain": [
       "0it [00:00, ?it/s]"
      ]
     },
     "metadata": {},
     "output_type": "display_data"
    },
    {
     "data": {
      "application/vnd.jupyter.widget-view+json": {
       "model_id": "142c674430434f3da9f30ee271628ff2",
       "version_major": 2,
       "version_minor": 0
      },
      "text/plain": [
       "0it [00:00, ?it/s]"
      ]
     },
     "metadata": {},
     "output_type": "display_data"
    },
    {
     "data": {
      "application/vnd.jupyter.widget-view+json": {
       "model_id": "69f309accc7843f38f2204a8d558db3a",
       "version_major": 2,
       "version_minor": 0
      },
      "text/plain": [
       "0it [00:00, ?it/s]"
      ]
     },
     "metadata": {},
     "output_type": "display_data"
    },
    {
     "data": {
      "application/vnd.jupyter.widget-view+json": {
       "model_id": "184b813c067046a0a4464af6f9e1a74e",
       "version_major": 2,
       "version_minor": 0
      },
      "text/plain": [
       "0it [00:00, ?it/s]"
      ]
     },
     "metadata": {},
     "output_type": "display_data"
    },
    {
     "data": {
      "application/vnd.jupyter.widget-view+json": {
       "model_id": "dd06c1b126c7486ea8bbc6ea134876a0",
       "version_major": 2,
       "version_minor": 0
      },
      "text/plain": [
       "0it [00:00, ?it/s]"
      ]
     },
     "metadata": {},
     "output_type": "display_data"
    },
    {
     "data": {
      "application/vnd.jupyter.widget-view+json": {
       "model_id": "100b58ec74f44c66a2cbfa1d71e3779c",
       "version_major": 2,
       "version_minor": 0
      },
      "text/plain": [
       "0it [00:00, ?it/s]"
      ]
     },
     "metadata": {},
     "output_type": "display_data"
    },
    {
     "data": {
      "application/vnd.jupyter.widget-view+json": {
       "model_id": "f3eba9610f9a4737b4751cea628d0b8a",
       "version_major": 2,
       "version_minor": 0
      },
      "text/plain": [
       "0it [00:00, ?it/s]"
      ]
     },
     "metadata": {},
     "output_type": "display_data"
    },
    {
     "name": "stdout",
     "output_type": "stream",
     "text": [
      "[{'mse_loss': [0.009697751, 0.0044392752, 0.0026605064, 0.0012684765, 0.0005004005, 0.00025291523, 0.00018650865, 0.00013854218, 0.0001028321, 8.907321e-05], 'bpp_loss': [0.021601094, 0.021601094, 0.021601094, 0.021601094, 0.021601094, 0.021601094, 0.021601094, 0.021601094, 0.021601094, 0.021601094], 'loss_classic': [6.3275633, 2.9082398, 1.7515953, 0.8464279, 0.34698653, 0.1860592, 0.14287835, 0.111688145, 0.08846767, 0.07952095], 'PSNR': [21.147215, 24.69606, 26.925434, 29.9851, 33.789215, 36.58705, 37.843365, 39.079475, 40.299873, 40.870567], 'MDTVSFA': [-0.41068512, -0.41418988, -0.42095876, -0.43923697, -0.4642939, -0.47960088, -0.48625624, -0.4928794, -0.4972586, -0.49857825], 'loss': [-821.36053, -828.3753, -841.9148, -878.47266, -928.5873, -959.2014, -972.5123, -985.75867, -994.5171, -997.1565], 'bitrate': [0.168175, 0.259668, 0.357481, 0.577243, 1.092981, 2.132078, 3.214578, 5.567656, 10.55694, 14.354068]}]\n",
      "PAC2PIQ ./models_enhancement/model_vimeo11k_SPAQ_2000mse_enhance_cheng2020_attn_quality2_fixed_direction.ckpt\n"
     ]
    },
    {
     "data": {
      "application/vnd.jupyter.widget-view+json": {
       "model_id": "c39566bbbbae4463869aece1413ec22b",
       "version_major": 2,
       "version_minor": 0
      },
      "text/plain": [
       "0it [00:00, ?it/s]"
      ]
     },
     "metadata": {},
     "output_type": "display_data"
    },
    {
     "data": {
      "application/vnd.jupyter.widget-view+json": {
       "model_id": "18bc9cd27c054f0eb12c7b54cdd8751d",
       "version_major": 2,
       "version_minor": 0
      },
      "text/plain": [
       "0it [00:00, ?it/s]"
      ]
     },
     "metadata": {},
     "output_type": "display_data"
    },
    {
     "data": {
      "application/vnd.jupyter.widget-view+json": {
       "model_id": "bd811a364ba14c268acbe63e0094b064",
       "version_major": 2,
       "version_minor": 0
      },
      "text/plain": [
       "0it [00:00, ?it/s]"
      ]
     },
     "metadata": {},
     "output_type": "display_data"
    },
    {
     "data": {
      "application/vnd.jupyter.widget-view+json": {
       "model_id": "530a8015975244e8b76292bdaf492171",
       "version_major": 2,
       "version_minor": 0
      },
      "text/plain": [
       "0it [00:00, ?it/s]"
      ]
     },
     "metadata": {},
     "output_type": "display_data"
    },
    {
     "data": {
      "application/vnd.jupyter.widget-view+json": {
       "model_id": "61a1f78acc6c44cbbd27031ff4addd3f",
       "version_major": 2,
       "version_minor": 0
      },
      "text/plain": [
       "0it [00:00, ?it/s]"
      ]
     },
     "metadata": {},
     "output_type": "display_data"
    },
    {
     "data": {
      "application/vnd.jupyter.widget-view+json": {
       "model_id": "208dcc4211924f31ac68dfcebde8f77b",
       "version_major": 2,
       "version_minor": 0
      },
      "text/plain": [
       "0it [00:00, ?it/s]"
      ]
     },
     "metadata": {},
     "output_type": "display_data"
    },
    {
     "data": {
      "application/vnd.jupyter.widget-view+json": {
       "model_id": "fd79ecabde84414db196154675891bfb",
       "version_major": 2,
       "version_minor": 0
      },
      "text/plain": [
       "0it [00:00, ?it/s]"
      ]
     },
     "metadata": {},
     "output_type": "display_data"
    },
    {
     "data": {
      "application/vnd.jupyter.widget-view+json": {
       "model_id": "2f6b3d8fc9df445c9f65f4e0f8bbad2f",
       "version_major": 2,
       "version_minor": 0
      },
      "text/plain": [
       "0it [00:00, ?it/s]"
      ]
     },
     "metadata": {},
     "output_type": "display_data"
    },
    {
     "data": {
      "application/vnd.jupyter.widget-view+json": {
       "model_id": "f24289318d004d3985b1c8d8dacbc6b5",
       "version_major": 2,
       "version_minor": 0
      },
      "text/plain": [
       "0it [00:00, ?it/s]"
      ]
     },
     "metadata": {},
     "output_type": "display_data"
    },
    {
     "data": {
      "application/vnd.jupyter.widget-view+json": {
       "model_id": "1cbbe1e196f74940bfa4d121cfe6d6b3",
       "version_major": 2,
       "version_minor": 0
      },
      "text/plain": [
       "0it [00:00, ?it/s]"
      ]
     },
     "metadata": {},
     "output_type": "display_data"
    },
    {
     "data": {
      "application/vnd.jupyter.widget-view+json": {
       "model_id": "380c177e36f444ea8580a7b59760ddce",
       "version_major": 2,
       "version_minor": 0
      },
      "text/plain": [
       "0it [00:00, ?it/s]"
      ]
     },
     "metadata": {},
     "output_type": "display_data"
    },
    {
     "data": {
      "application/vnd.jupyter.widget-view+json": {
       "model_id": "f1646bc2553f47758f480bce97d9fd29",
       "version_major": 2,
       "version_minor": 0
      },
      "text/plain": [
       "0it [00:00, ?it/s]"
      ]
     },
     "metadata": {},
     "output_type": "display_data"
    },
    {
     "data": {
      "application/vnd.jupyter.widget-view+json": {
       "model_id": "5401f22eac0c413f900799c6678d69c8",
       "version_major": 2,
       "version_minor": 0
      },
      "text/plain": [
       "0it [00:00, ?it/s]"
      ]
     },
     "metadata": {},
     "output_type": "display_data"
    },
    {
     "data": {
      "application/vnd.jupyter.widget-view+json": {
       "model_id": "c8b14da46bd841258ca2301c6b214e37",
       "version_major": 2,
       "version_minor": 0
      },
      "text/plain": [
       "0it [00:00, ?it/s]"
      ]
     },
     "metadata": {},
     "output_type": "display_data"
    },
    {
     "data": {
      "application/vnd.jupyter.widget-view+json": {
       "model_id": "61688c1ed2c2498e9be80bc69fadd18b",
       "version_major": 2,
       "version_minor": 0
      },
      "text/plain": [
       "0it [00:00, ?it/s]"
      ]
     },
     "metadata": {},
     "output_type": "display_data"
    },
    {
     "data": {
      "application/vnd.jupyter.widget-view+json": {
       "model_id": "f02d3c225c1a4c30871b9358fb9d199b",
       "version_major": 2,
       "version_minor": 0
      },
      "text/plain": [
       "0it [00:00, ?it/s]"
      ]
     },
     "metadata": {},
     "output_type": "display_data"
    },
    {
     "data": {
      "application/vnd.jupyter.widget-view+json": {
       "model_id": "af070f4899594089b78a2721e7e15322",
       "version_major": 2,
       "version_minor": 0
      },
      "text/plain": [
       "0it [00:00, ?it/s]"
      ]
     },
     "metadata": {},
     "output_type": "display_data"
    },
    {
     "data": {
      "application/vnd.jupyter.widget-view+json": {
       "model_id": "e386724e72c84e2caba907c6e44cc0c4",
       "version_major": 2,
       "version_minor": 0
      },
      "text/plain": [
       "0it [00:00, ?it/s]"
      ]
     },
     "metadata": {},
     "output_type": "display_data"
    },
    {
     "data": {
      "application/vnd.jupyter.widget-view+json": {
       "model_id": "208e221965bd486890cbebfb294a2547",
       "version_major": 2,
       "version_minor": 0
      },
      "text/plain": [
       "0it [00:00, ?it/s]"
      ]
     },
     "metadata": {},
     "output_type": "display_data"
    },
    {
     "data": {
      "application/vnd.jupyter.widget-view+json": {
       "model_id": "f78bebd5a6574b40b505648ad13eb232",
       "version_major": 2,
       "version_minor": 0
      },
      "text/plain": [
       "0it [00:00, ?it/s]"
      ]
     },
     "metadata": {},
     "output_type": "display_data"
    },
    {
     "name": "stdout",
     "output_type": "stream",
     "text": [
      "[{'mse_loss': [0.009697751, 0.0044392752, 0.0026605064, 0.0012684765, 0.0005004005, 0.00025291523, 0.00018650865, 0.00013854218, 0.0001028321, 8.907321e-05], 'bpp_loss': [0.021601094, 0.021601094, 0.021601094, 0.021601094, 0.021601094, 0.021601094, 0.021601094, 0.021601094, 0.021601094, 0.021601094], 'loss_classic': [6.3275633, 2.9082398, 1.7515953, 0.8464279, 0.34698653, 0.1860592, 0.14287835, 0.111688145, 0.08846767, 0.07952095], 'PSNR': [21.147215, 24.69606, 26.925434, 29.9851, 33.789215, 36.58705, 37.843365, 39.079475, 40.299873, 40.870567], 'PAC2PIQ': [-0.41652012, -0.40850842, -0.420941, -0.44921017, -0.53274846, -0.5847552, -0.5979841, -0.60481876, -0.60590726, -0.6073003], 'loss': [-833.0305, -817.0124, -841.8794, -898.41907, -1065.4963, -1169.51, -1195.968, -1209.6375, -1211.8145, -1214.6005], 'bitrate': [0.168175, 0.259668, 0.357481, 0.577243, 1.092981, 2.132078, 3.214578, 5.567656, 10.55694, 14.354068]}]\n",
      "SPAQ ./models_enhancement/model_vimeo11k_VSFA_2000mse_enhance_cheng2020_attn_quality2_fixed_direction.ckpt\n"
     ]
    },
    {
     "data": {
      "application/vnd.jupyter.widget-view+json": {
       "model_id": "4a7baded449849baa4a96c5d9e527ee5",
       "version_major": 2,
       "version_minor": 0
      },
      "text/plain": [
       "0it [00:00, ?it/s]"
      ]
     },
     "metadata": {},
     "output_type": "display_data"
    },
    {
     "data": {
      "application/vnd.jupyter.widget-view+json": {
       "model_id": "2f98e6ba7b114f7fb20ecf6ce54e421a",
       "version_major": 2,
       "version_minor": 0
      },
      "text/plain": [
       "0it [00:00, ?it/s]"
      ]
     },
     "metadata": {},
     "output_type": "display_data"
    },
    {
     "data": {
      "application/vnd.jupyter.widget-view+json": {
       "model_id": "6aabaadf15c943e0b2d2c729eaf901b7",
       "version_major": 2,
       "version_minor": 0
      },
      "text/plain": [
       "0it [00:00, ?it/s]"
      ]
     },
     "metadata": {},
     "output_type": "display_data"
    },
    {
     "data": {
      "application/vnd.jupyter.widget-view+json": {
       "model_id": "a35f8d1c8beb41a4a8f23a26481eb3ee",
       "version_major": 2,
       "version_minor": 0
      },
      "text/plain": [
       "0it [00:00, ?it/s]"
      ]
     },
     "metadata": {},
     "output_type": "display_data"
    },
    {
     "data": {
      "application/vnd.jupyter.widget-view+json": {
       "model_id": "7c871276205b4f13b5536f177cb3ba67",
       "version_major": 2,
       "version_minor": 0
      },
      "text/plain": [
       "0it [00:00, ?it/s]"
      ]
     },
     "metadata": {},
     "output_type": "display_data"
    },
    {
     "data": {
      "application/vnd.jupyter.widget-view+json": {
       "model_id": "12515f9dc8f54f74bab12e6eda4d6353",
       "version_major": 2,
       "version_minor": 0
      },
      "text/plain": [
       "0it [00:00, ?it/s]"
      ]
     },
     "metadata": {},
     "output_type": "display_data"
    },
    {
     "data": {
      "application/vnd.jupyter.widget-view+json": {
       "model_id": "6261f61f381d46ccbb938c465b22df07",
       "version_major": 2,
       "version_minor": 0
      },
      "text/plain": [
       "0it [00:00, ?it/s]"
      ]
     },
     "metadata": {},
     "output_type": "display_data"
    },
    {
     "data": {
      "application/vnd.jupyter.widget-view+json": {
       "model_id": "4a976d7269674feaadc4ebef183f81d9",
       "version_major": 2,
       "version_minor": 0
      },
      "text/plain": [
       "0it [00:00, ?it/s]"
      ]
     },
     "metadata": {},
     "output_type": "display_data"
    },
    {
     "data": {
      "application/vnd.jupyter.widget-view+json": {
       "model_id": "36500e8bee7b46fa9d55a0a06299ceec",
       "version_major": 2,
       "version_minor": 0
      },
      "text/plain": [
       "0it [00:00, ?it/s]"
      ]
     },
     "metadata": {},
     "output_type": "display_data"
    },
    {
     "data": {
      "application/vnd.jupyter.widget-view+json": {
       "model_id": "e8ac76392ac846189dc5798a5fb78186",
       "version_major": 2,
       "version_minor": 0
      },
      "text/plain": [
       "0it [00:00, ?it/s]"
      ]
     },
     "metadata": {},
     "output_type": "display_data"
    },
    {
     "data": {
      "application/vnd.jupyter.widget-view+json": {
       "model_id": "3a5b3a7c199643a5a40c791374f1bdb0",
       "version_major": 2,
       "version_minor": 0
      },
      "text/plain": [
       "0it [00:00, ?it/s]"
      ]
     },
     "metadata": {},
     "output_type": "display_data"
    },
    {
     "data": {
      "application/vnd.jupyter.widget-view+json": {
       "model_id": "ccc067a4afbb49b7ac2e058d79f43085",
       "version_major": 2,
       "version_minor": 0
      },
      "text/plain": [
       "0it [00:00, ?it/s]"
      ]
     },
     "metadata": {},
     "output_type": "display_data"
    },
    {
     "data": {
      "application/vnd.jupyter.widget-view+json": {
       "model_id": "c668554a0c584653b66428852c3368ee",
       "version_major": 2,
       "version_minor": 0
      },
      "text/plain": [
       "0it [00:00, ?it/s]"
      ]
     },
     "metadata": {},
     "output_type": "display_data"
    },
    {
     "data": {
      "application/vnd.jupyter.widget-view+json": {
       "model_id": "258533bd0339469585e427cb6072d54f",
       "version_major": 2,
       "version_minor": 0
      },
      "text/plain": [
       "0it [00:00, ?it/s]"
      ]
     },
     "metadata": {},
     "output_type": "display_data"
    },
    {
     "data": {
      "application/vnd.jupyter.widget-view+json": {
       "model_id": "115aa4d936c34e679827d67173c66128",
       "version_major": 2,
       "version_minor": 0
      },
      "text/plain": [
       "0it [00:00, ?it/s]"
      ]
     },
     "metadata": {},
     "output_type": "display_data"
    },
    {
     "data": {
      "application/vnd.jupyter.widget-view+json": {
       "model_id": "1fbd43848e35496a9aecbd80546bb707",
       "version_major": 2,
       "version_minor": 0
      },
      "text/plain": [
       "0it [00:00, ?it/s]"
      ]
     },
     "metadata": {},
     "output_type": "display_data"
    },
    {
     "data": {
      "application/vnd.jupyter.widget-view+json": {
       "model_id": "e5719517a00847ceb9fe6e3fe8180fcc",
       "version_major": 2,
       "version_minor": 0
      },
      "text/plain": [
       "0it [00:00, ?it/s]"
      ]
     },
     "metadata": {},
     "output_type": "display_data"
    },
    {
     "data": {
      "application/vnd.jupyter.widget-view+json": {
       "model_id": "af3b8b1584ae42b89d830e20cf745842",
       "version_major": 2,
       "version_minor": 0
      },
      "text/plain": [
       "0it [00:00, ?it/s]"
      ]
     },
     "metadata": {},
     "output_type": "display_data"
    },
    {
     "data": {
      "application/vnd.jupyter.widget-view+json": {
       "model_id": "6d3515e700214dedaafe87fd5435093a",
       "version_major": 2,
       "version_minor": 0
      },
      "text/plain": [
       "0it [00:00, ?it/s]"
      ]
     },
     "metadata": {},
     "output_type": "display_data"
    },
    {
     "data": {
      "application/vnd.jupyter.widget-view+json": {
       "model_id": "45004e5fef2f405b951498740c92bbaa",
       "version_major": 2,
       "version_minor": 0
      },
      "text/plain": [
       "0it [00:00, ?it/s]"
      ]
     },
     "metadata": {},
     "output_type": "display_data"
    },
    {
     "name": "stdout",
     "output_type": "stream",
     "text": [
      "[{'mse_loss': [0.009697751, 0.0044392752, 0.0026605064, 0.0012684765, 0.0005004005, 0.00025291523, 0.00018650865, 0.00013854218, 0.0001028321, 8.907321e-05], 'bpp_loss': [0.021601094, 0.021601094, 0.021601094, 0.021601094, 0.021601094, 0.021601094, 0.021601094, 0.021601094, 0.021601094, 0.021601094], 'loss_classic': [6.3275633, 2.9082398, 1.7515953, 0.8464279, 0.34698653, 0.1860592, 0.14287835, 0.111688145, 0.08846767, 0.07952095], 'PSNR': [21.147215, 24.69606, 26.925434, 29.9851, 33.789215, 36.58705, 37.843365, 39.079475, 40.299873, 40.870567], 'SPAQ': [-0.37769896, -0.38297957, -0.39209813, -0.38907236, -0.3963074, -0.39281058, -0.395649, -0.40276197, -0.40690434, -0.41093087], 'loss': [-755.38824, -765.9547, -784.1935, -778.1435, -792.61426, -785.6209, -791.2978, -805.5238, -813.8086, -821.8617], 'bitrate': [0.168175, 0.259668, 0.357481, 0.577243, 1.092981, 2.132078, 3.214578, 5.567656, 10.55694, 14.354068]}]\n",
      "VSFA ./models_enhancement/model_vimeo11k_Linearity_2000mse_enhance_no_codec_fixed_direction.ckpt\n"
     ]
    },
    {
     "data": {
      "application/vnd.jupyter.widget-view+json": {
       "model_id": "92a1205173bf4260a1edcffba698ad42",
       "version_major": 2,
       "version_minor": 0
      },
      "text/plain": [
       "0it [00:00, ?it/s]"
      ]
     },
     "metadata": {},
     "output_type": "display_data"
    },
    {
     "data": {
      "application/vnd.jupyter.widget-view+json": {
       "model_id": "d65eb2c357aa493d85e4471a31d2d139",
       "version_major": 2,
       "version_minor": 0
      },
      "text/plain": [
       "0it [00:00, ?it/s]"
      ]
     },
     "metadata": {},
     "output_type": "display_data"
    },
    {
     "data": {
      "application/vnd.jupyter.widget-view+json": {
       "model_id": "25cf9bdcc3e0418db227317f287f6ce3",
       "version_major": 2,
       "version_minor": 0
      },
      "text/plain": [
       "0it [00:00, ?it/s]"
      ]
     },
     "metadata": {},
     "output_type": "display_data"
    },
    {
     "data": {
      "application/vnd.jupyter.widget-view+json": {
       "model_id": "e3331e9595d840028ecdc8fc8e70c1f0",
       "version_major": 2,
       "version_minor": 0
      },
      "text/plain": [
       "0it [00:00, ?it/s]"
      ]
     },
     "metadata": {},
     "output_type": "display_data"
    },
    {
     "data": {
      "application/vnd.jupyter.widget-view+json": {
       "model_id": "40ae2a2d1aa043238c841cff286176ef",
       "version_major": 2,
       "version_minor": 0
      },
      "text/plain": [
       "0it [00:00, ?it/s]"
      ]
     },
     "metadata": {},
     "output_type": "display_data"
    },
    {
     "data": {
      "application/vnd.jupyter.widget-view+json": {
       "model_id": "aaf1c5716fc1427cbc54e34891d27b00",
       "version_major": 2,
       "version_minor": 0
      },
      "text/plain": [
       "0it [00:00, ?it/s]"
      ]
     },
     "metadata": {},
     "output_type": "display_data"
    },
    {
     "data": {
      "application/vnd.jupyter.widget-view+json": {
       "model_id": "3e88e0c602964c16acb868428caf2b75",
       "version_major": 2,
       "version_minor": 0
      },
      "text/plain": [
       "0it [00:00, ?it/s]"
      ]
     },
     "metadata": {},
     "output_type": "display_data"
    },
    {
     "data": {
      "application/vnd.jupyter.widget-view+json": {
       "model_id": "f8dcaf79d4f246eb85a9b38ae71cea85",
       "version_major": 2,
       "version_minor": 0
      },
      "text/plain": [
       "0it [00:00, ?it/s]"
      ]
     },
     "metadata": {},
     "output_type": "display_data"
    },
    {
     "data": {
      "application/vnd.jupyter.widget-view+json": {
       "model_id": "702cd73fe83746efb170ca02af3e2a78",
       "version_major": 2,
       "version_minor": 0
      },
      "text/plain": [
       "0it [00:00, ?it/s]"
      ]
     },
     "metadata": {},
     "output_type": "display_data"
    },
    {
     "data": {
      "application/vnd.jupyter.widget-view+json": {
       "model_id": "9d1dc8650fc348e0a3e0025ae333ee0e",
       "version_major": 2,
       "version_minor": 0
      },
      "text/plain": [
       "0it [00:00, ?it/s]"
      ]
     },
     "metadata": {},
     "output_type": "display_data"
    },
    {
     "data": {
      "application/vnd.jupyter.widget-view+json": {
       "model_id": "dc57be33c55e4dc9bcad7d6fb8e41010",
       "version_major": 2,
       "version_minor": 0
      },
      "text/plain": [
       "0it [00:00, ?it/s]"
      ]
     },
     "metadata": {},
     "output_type": "display_data"
    },
    {
     "data": {
      "application/vnd.jupyter.widget-view+json": {
       "model_id": "41ef964065074ed09eaf5293abe6bbd2",
       "version_major": 2,
       "version_minor": 0
      },
      "text/plain": [
       "0it [00:00, ?it/s]"
      ]
     },
     "metadata": {},
     "output_type": "display_data"
    },
    {
     "data": {
      "application/vnd.jupyter.widget-view+json": {
       "model_id": "865085f1c1ce4b5599365b2db3913be1",
       "version_major": 2,
       "version_minor": 0
      },
      "text/plain": [
       "0it [00:00, ?it/s]"
      ]
     },
     "metadata": {},
     "output_type": "display_data"
    },
    {
     "data": {
      "application/vnd.jupyter.widget-view+json": {
       "model_id": "107b4ba90b9d477294f43fa9fff09344",
       "version_major": 2,
       "version_minor": 0
      },
      "text/plain": [
       "0it [00:00, ?it/s]"
      ]
     },
     "metadata": {},
     "output_type": "display_data"
    },
    {
     "data": {
      "application/vnd.jupyter.widget-view+json": {
       "model_id": "4d111ba70eef47e0abee4eb73de56015",
       "version_major": 2,
       "version_minor": 0
      },
      "text/plain": [
       "0it [00:00, ?it/s]"
      ]
     },
     "metadata": {},
     "output_type": "display_data"
    },
    {
     "data": {
      "application/vnd.jupyter.widget-view+json": {
       "model_id": "de0bfe2fc42a4e7591ba9a39395c9d0a",
       "version_major": 2,
       "version_minor": 0
      },
      "text/plain": [
       "0it [00:00, ?it/s]"
      ]
     },
     "metadata": {},
     "output_type": "display_data"
    },
    {
     "data": {
      "application/vnd.jupyter.widget-view+json": {
       "model_id": "459c775cbf7a4b3a9e333acb83df486b",
       "version_major": 2,
       "version_minor": 0
      },
      "text/plain": [
       "0it [00:00, ?it/s]"
      ]
     },
     "metadata": {},
     "output_type": "display_data"
    },
    {
     "data": {
      "application/vnd.jupyter.widget-view+json": {
       "model_id": "7d45fa9d8a104774b27e3b9cf8253ea8",
       "version_major": 2,
       "version_minor": 0
      },
      "text/plain": [
       "0it [00:00, ?it/s]"
      ]
     },
     "metadata": {},
     "output_type": "display_data"
    },
    {
     "data": {
      "application/vnd.jupyter.widget-view+json": {
       "model_id": "5f1923d7d8214029be35c585b8c74b86",
       "version_major": 2,
       "version_minor": 0
      },
      "text/plain": [
       "0it [00:00, ?it/s]"
      ]
     },
     "metadata": {},
     "output_type": "display_data"
    },
    {
     "data": {
      "application/vnd.jupyter.widget-view+json": {
       "model_id": "fe5afeca61504a4bb14ce2eeb421f15f",
       "version_major": 2,
       "version_minor": 0
      },
      "text/plain": [
       "0it [00:00, ?it/s]"
      ]
     },
     "metadata": {},
     "output_type": "display_data"
    },
    {
     "name": "stdout",
     "output_type": "stream",
     "text": [
      "[{'mse_loss': [0.00969775, 0.0044392752, 0.0026605062, 0.0012684765, 0.0005004005, 0.00025291526, 0.00018650867, 0.00013854218, 0.00010283211, 8.907322e-05], 'bpp_loss': [0.010800547, 0.010800547, 0.010800547, 0.010800547, 0.010800547, 0.010800547, 0.010800547, 0.010800547, 0.010800547, 0.010800547], 'loss_classic': [6.316763, 2.8974392, 1.7407948, 0.83562744, 0.33618596, 0.17525867, 0.13207781, 0.10088761, 0.07766713, 0.068720415], 'PSNR': [21.121286, 24.651741, 26.89787, 29.975628, 33.783333, 36.580708, 37.83522, 39.070206, 40.28988, 40.86033], 'VSFA': [-0.30357987, -0.31508327, -0.32475537, -0.35602337, -0.3978043, -0.42448968, -0.4313721, -0.43725687, -0.44092435, -0.44290918], 'loss': [-607.15, -630.1622, -649.50806, -712.0454, -795.60803, -848.9791, -862.744, -874.51355, -881.8486, -885.81824], 'bitrate': [0.168175, 0.259668, 0.357481, 0.577243, 1.092981, 2.132078, 3.214578, 5.567656, 10.55694, 14.354068]}]\n"
     ]
    },
    {
     "data": {
      "application/vnd.jupyter.widget-view+json": {
       "model_id": "1a9379b146e34d1cbac5d6995f931af7",
       "version_major": 2,
       "version_minor": 0
      },
      "text/plain": [
       "0it [00:00, ?it/s]"
      ]
     },
     "metadata": {},
     "output_type": "display_data"
    },
    {
     "name": "stdout",
     "output_type": "stream",
     "text": [
      "Linearity ./models_enhancement/model_vimeo11k_MDTVSFA_2000mse_enhance_cheng2020_attn_quality2.ckpt\n"
     ]
    },
    {
     "data": {
      "application/vnd.jupyter.widget-view+json": {
       "model_id": "8cd2ec8cbc664bd9a9a5a579fcac0cf1",
       "version_major": 2,
       "version_minor": 0
      },
      "text/plain": [
       "0it [00:00, ?it/s]"
      ]
     },
     "metadata": {},
     "output_type": "display_data"
    },
    {
     "data": {
      "application/vnd.jupyter.widget-view+json": {
       "model_id": "a317b2d067b84cdeb23f0d90440492a9",
       "version_major": 2,
       "version_minor": 0
      },
      "text/plain": [
       "0it [00:00, ?it/s]"
      ]
     },
     "metadata": {},
     "output_type": "display_data"
    },
    {
     "data": {
      "application/vnd.jupyter.widget-view+json": {
       "model_id": "37fb0988bb3b4594b52b207f2a71fee9",
       "version_major": 2,
       "version_minor": 0
      },
      "text/plain": [
       "0it [00:00, ?it/s]"
      ]
     },
     "metadata": {},
     "output_type": "display_data"
    },
    {
     "data": {
      "application/vnd.jupyter.widget-view+json": {
       "model_id": "d458ac3d199e40549c961c8a50372a3b",
       "version_major": 2,
       "version_minor": 0
      },
      "text/plain": [
       "0it [00:00, ?it/s]"
      ]
     },
     "metadata": {},
     "output_type": "display_data"
    },
    {
     "data": {
      "application/vnd.jupyter.widget-view+json": {
       "model_id": "c90228a15a924ade8f21b95a00f90647",
       "version_major": 2,
       "version_minor": 0
      },
      "text/plain": [
       "0it [00:00, ?it/s]"
      ]
     },
     "metadata": {},
     "output_type": "display_data"
    },
    {
     "data": {
      "application/vnd.jupyter.widget-view+json": {
       "model_id": "27346b1bc9c2499dae759e33e8f23d19",
       "version_major": 2,
       "version_minor": 0
      },
      "text/plain": [
       "0it [00:00, ?it/s]"
      ]
     },
     "metadata": {},
     "output_type": "display_data"
    },
    {
     "data": {
      "application/vnd.jupyter.widget-view+json": {
       "model_id": "be72405c912c40869b850c0ad8be33bb",
       "version_major": 2,
       "version_minor": 0
      },
      "text/plain": [
       "0it [00:00, ?it/s]"
      ]
     },
     "metadata": {},
     "output_type": "display_data"
    },
    {
     "data": {
      "application/vnd.jupyter.widget-view+json": {
       "model_id": "a2162f61fbd24b2cae6135b2664a210d",
       "version_major": 2,
       "version_minor": 0
      },
      "text/plain": [
       "0it [00:00, ?it/s]"
      ]
     },
     "metadata": {},
     "output_type": "display_data"
    },
    {
     "data": {
      "application/vnd.jupyter.widget-view+json": {
       "model_id": "2df9154230a24988b3e50fa0165d2fab",
       "version_major": 2,
       "version_minor": 0
      },
      "text/plain": [
       "0it [00:00, ?it/s]"
      ]
     },
     "metadata": {},
     "output_type": "display_data"
    },
    {
     "data": {
      "application/vnd.jupyter.widget-view+json": {
       "model_id": "0313f65fc650424e8d6664e681747686",
       "version_major": 2,
       "version_minor": 0
      },
      "text/plain": [
       "0it [00:00, ?it/s]"
      ]
     },
     "metadata": {},
     "output_type": "display_data"
    },
    {
     "data": {
      "application/vnd.jupyter.widget-view+json": {
       "model_id": "345c1f99c8384420acda8df7c36ba4ce",
       "version_major": 2,
       "version_minor": 0
      },
      "text/plain": [
       "0it [00:00, ?it/s]"
      ]
     },
     "metadata": {},
     "output_type": "display_data"
    },
    {
     "data": {
      "application/vnd.jupyter.widget-view+json": {
       "model_id": "897333f87b7a4337a9b009a2bf404932",
       "version_major": 2,
       "version_minor": 0
      },
      "text/plain": [
       "0it [00:00, ?it/s]"
      ]
     },
     "metadata": {},
     "output_type": "display_data"
    },
    {
     "data": {
      "application/vnd.jupyter.widget-view+json": {
       "model_id": "f4615e6d4cd84d92a848a37cd15ef2db",
       "version_major": 2,
       "version_minor": 0
      },
      "text/plain": [
       "0it [00:00, ?it/s]"
      ]
     },
     "metadata": {},
     "output_type": "display_data"
    },
    {
     "data": {
      "application/vnd.jupyter.widget-view+json": {
       "model_id": "c4852f750c88452f82a473e00a12b448",
       "version_major": 2,
       "version_minor": 0
      },
      "text/plain": [
       "0it [00:00, ?it/s]"
      ]
     },
     "metadata": {},
     "output_type": "display_data"
    },
    {
     "data": {
      "application/vnd.jupyter.widget-view+json": {
       "model_id": "fa0a896af77c4636b3f152832a981c5d",
       "version_major": 2,
       "version_minor": 0
      },
      "text/plain": [
       "0it [00:00, ?it/s]"
      ]
     },
     "metadata": {},
     "output_type": "display_data"
    },
    {
     "data": {
      "application/vnd.jupyter.widget-view+json": {
       "model_id": "3dc5fba8eb48448e8b60b55444274a5e",
       "version_major": 2,
       "version_minor": 0
      },
      "text/plain": [
       "0it [00:00, ?it/s]"
      ]
     },
     "metadata": {},
     "output_type": "display_data"
    },
    {
     "data": {
      "application/vnd.jupyter.widget-view+json": {
       "model_id": "29eb5fbd9db242d7bbe152df0e0e22fd",
       "version_major": 2,
       "version_minor": 0
      },
      "text/plain": [
       "0it [00:00, ?it/s]"
      ]
     },
     "metadata": {},
     "output_type": "display_data"
    },
    {
     "data": {
      "application/vnd.jupyter.widget-view+json": {
       "model_id": "07fdefe9eb7d441286442930f4f32962",
       "version_major": 2,
       "version_minor": 0
      },
      "text/plain": [
       "0it [00:00, ?it/s]"
      ]
     },
     "metadata": {},
     "output_type": "display_data"
    },
    {
     "data": {
      "application/vnd.jupyter.widget-view+json": {
       "model_id": "04395c0c4afc4241a49e462d02e8075f",
       "version_major": 2,
       "version_minor": 0
      },
      "text/plain": [
       "0it [00:00, ?it/s]"
      ]
     },
     "metadata": {},
     "output_type": "display_data"
    },
    {
     "data": {
      "application/vnd.jupyter.widget-view+json": {
       "model_id": "f00f29d120464493b04dbb1db234e7de",
       "version_major": 2,
       "version_minor": 0
      },
      "text/plain": [
       "0it [00:00, ?it/s]"
      ]
     },
     "metadata": {},
     "output_type": "display_data"
    },
    {
     "name": "stdout",
     "output_type": "stream",
     "text": [
      "[{'mse_loss': [0.0061228117, 0.003768739, 0.0026707775, 0.0017585937, 0.0010992258, 0.00081361446, 0.00077158597, 0.00079569663, 0.00078186346, 0.000726372], 'bpp_loss': [0.021601094, 0.021601094, 0.021601094, 0.021601094, 0.021601094, 0.021601094, 0.021601094, 0.021601094, 0.021601094, 0.021601094], 'loss_classic': [4.0029593, 2.4722238, 1.7582741, 1.1651266, 0.7363727, 0.55065393, 0.5233249, 0.5390028, 0.5300078, 0.49392444], 'PSNR': [22.14769, 24.257526, 25.750793, 27.56771, 29.602913, 30.908854, 31.148333, 31.083963, 31.490799, 32.038933], 'Linearity': [0.5891681, 0.44697732, 0.30738235, 0.16190085, -0.07516727, -0.17037198, -0.1586071, -0.1204916, -0.096819766, -0.100879684], 'loss': [1178.3423, 893.95844, 614.7674, 323.80344, -150.33344, -340.7431, -317.2134, -240.98242, -193.63876, -201.75862], 'bitrate': [0.086193, 0.155775, 0.234231, 0.379356, 0.725796, 1.517862, 2.544165, 5.633406, 17.86754, 26.572437]}]\n",
      "MDTVSFA ./models_enhancement/model_vimeo11k_PAC2PIC_2000mse_enhance_cheng2020_attn_quality2_fixed_direction.ckpt\n"
     ]
    },
    {
     "data": {
      "application/vnd.jupyter.widget-view+json": {
       "model_id": "538e1fc3edb34de69f759f624d293046",
       "version_major": 2,
       "version_minor": 0
      },
      "text/plain": [
       "0it [00:00, ?it/s]"
      ]
     },
     "metadata": {},
     "output_type": "display_data"
    },
    {
     "data": {
      "application/vnd.jupyter.widget-view+json": {
       "model_id": "b835a843455441f6917d9296ec09823d",
       "version_major": 2,
       "version_minor": 0
      },
      "text/plain": [
       "0it [00:00, ?it/s]"
      ]
     },
     "metadata": {},
     "output_type": "display_data"
    },
    {
     "data": {
      "application/vnd.jupyter.widget-view+json": {
       "model_id": "d2c3b292e0434ee49bb840d445129551",
       "version_major": 2,
       "version_minor": 0
      },
      "text/plain": [
       "0it [00:00, ?it/s]"
      ]
     },
     "metadata": {},
     "output_type": "display_data"
    },
    {
     "data": {
      "application/vnd.jupyter.widget-view+json": {
       "model_id": "bb1e08581fdf4a2cac347206074fda6c",
       "version_major": 2,
       "version_minor": 0
      },
      "text/plain": [
       "0it [00:00, ?it/s]"
      ]
     },
     "metadata": {},
     "output_type": "display_data"
    },
    {
     "data": {
      "application/vnd.jupyter.widget-view+json": {
       "model_id": "d58a36ff79464d37929d4b7f6615f6e9",
       "version_major": 2,
       "version_minor": 0
      },
      "text/plain": [
       "0it [00:00, ?it/s]"
      ]
     },
     "metadata": {},
     "output_type": "display_data"
    },
    {
     "data": {
      "application/vnd.jupyter.widget-view+json": {
       "model_id": "ccecd58018694234a1b05391fe7daca0",
       "version_major": 2,
       "version_minor": 0
      },
      "text/plain": [
       "0it [00:00, ?it/s]"
      ]
     },
     "metadata": {},
     "output_type": "display_data"
    },
    {
     "data": {
      "application/vnd.jupyter.widget-view+json": {
       "model_id": "841d48b359654f96b2239f011f3e7be2",
       "version_major": 2,
       "version_minor": 0
      },
      "text/plain": [
       "0it [00:00, ?it/s]"
      ]
     },
     "metadata": {},
     "output_type": "display_data"
    },
    {
     "data": {
      "application/vnd.jupyter.widget-view+json": {
       "model_id": "74aeff032f894e8495d179c0607aebf5",
       "version_major": 2,
       "version_minor": 0
      },
      "text/plain": [
       "0it [00:00, ?it/s]"
      ]
     },
     "metadata": {},
     "output_type": "display_data"
    },
    {
     "data": {
      "application/vnd.jupyter.widget-view+json": {
       "model_id": "409b7b48b62645d080e6fff23cb6fea6",
       "version_major": 2,
       "version_minor": 0
      },
      "text/plain": [
       "0it [00:00, ?it/s]"
      ]
     },
     "metadata": {},
     "output_type": "display_data"
    },
    {
     "data": {
      "application/vnd.jupyter.widget-view+json": {
       "model_id": "d7118bbdc602478f932dfd0d5b2a3ed9",
       "version_major": 2,
       "version_minor": 0
      },
      "text/plain": [
       "0it [00:00, ?it/s]"
      ]
     },
     "metadata": {},
     "output_type": "display_data"
    },
    {
     "data": {
      "application/vnd.jupyter.widget-view+json": {
       "model_id": "54101ae203ca4bf993f24d5e19034ddc",
       "version_major": 2,
       "version_minor": 0
      },
      "text/plain": [
       "0it [00:00, ?it/s]"
      ]
     },
     "metadata": {},
     "output_type": "display_data"
    },
    {
     "data": {
      "application/vnd.jupyter.widget-view+json": {
       "model_id": "74cf1385ff7b4769810dd8cfcb91ca91",
       "version_major": 2,
       "version_minor": 0
      },
      "text/plain": [
       "0it [00:00, ?it/s]"
      ]
     },
     "metadata": {},
     "output_type": "display_data"
    },
    {
     "data": {
      "application/vnd.jupyter.widget-view+json": {
       "model_id": "c583995bf48f4db0a427ab46442cf09e",
       "version_major": 2,
       "version_minor": 0
      },
      "text/plain": [
       "0it [00:00, ?it/s]"
      ]
     },
     "metadata": {},
     "output_type": "display_data"
    },
    {
     "data": {
      "application/vnd.jupyter.widget-view+json": {
       "model_id": "3dcf8aac529d4f66bda9d0c1787a3952",
       "version_major": 2,
       "version_minor": 0
      },
      "text/plain": [
       "0it [00:00, ?it/s]"
      ]
     },
     "metadata": {},
     "output_type": "display_data"
    },
    {
     "data": {
      "application/vnd.jupyter.widget-view+json": {
       "model_id": "38c1b8a857044ba3b80eb285ba499d06",
       "version_major": 2,
       "version_minor": 0
      },
      "text/plain": [
       "0it [00:00, ?it/s]"
      ]
     },
     "metadata": {},
     "output_type": "display_data"
    },
    {
     "data": {
      "application/vnd.jupyter.widget-view+json": {
       "model_id": "9aa78e86b287440d8511abfb3985f741",
       "version_major": 2,
       "version_minor": 0
      },
      "text/plain": [
       "0it [00:00, ?it/s]"
      ]
     },
     "metadata": {},
     "output_type": "display_data"
    },
    {
     "data": {
      "application/vnd.jupyter.widget-view+json": {
       "model_id": "e423bf64455847cea0dcd2982729e8c8",
       "version_major": 2,
       "version_minor": 0
      },
      "text/plain": [
       "0it [00:00, ?it/s]"
      ]
     },
     "metadata": {},
     "output_type": "display_data"
    },
    {
     "data": {
      "application/vnd.jupyter.widget-view+json": {
       "model_id": "444b741bd06946d58d65573b9a791b72",
       "version_major": 2,
       "version_minor": 0
      },
      "text/plain": [
       "0it [00:00, ?it/s]"
      ]
     },
     "metadata": {},
     "output_type": "display_data"
    },
    {
     "data": {
      "application/vnd.jupyter.widget-view+json": {
       "model_id": "cff61ad046dc4ffb9d0501369952121e",
       "version_major": 2,
       "version_minor": 0
      },
      "text/plain": [
       "0it [00:00, ?it/s]"
      ]
     },
     "metadata": {},
     "output_type": "display_data"
    },
    {
     "data": {
      "application/vnd.jupyter.widget-view+json": {
       "model_id": "f310c5de6e0b4c60ab06be951674b2b6",
       "version_major": 2,
       "version_minor": 0
      },
      "text/plain": [
       "0it [00:00, ?it/s]"
      ]
     },
     "metadata": {},
     "output_type": "display_data"
    },
    {
     "name": "stdout",
     "output_type": "stream",
     "text": [
      "[{'mse_loss': [0.0061228117, 0.003768739, 0.0026707775, 0.0017585937, 0.0010992258, 0.00081361446, 0.00077158597, 0.00079569663, 0.00078186346, 0.000726372], 'bpp_loss': [0.021601094, 0.021601094, 0.021601094, 0.021601094, 0.021601094, 0.021601094, 0.021601094, 0.021601094, 0.021601094, 0.021601094], 'loss_classic': [4.0029593, 2.4722238, 1.7582741, 1.1651266, 0.7363727, 0.55065393, 0.5233249, 0.5390028, 0.5300078, 0.49392444], 'PSNR': [22.14769, 24.257526, 25.750793, 27.56771, 29.602913, 30.908854, 31.148333, 31.083963, 31.490799, 32.038933], 'MDTVSFA': [-0.4322284, -0.4492349, -0.4641884, -0.48791784, -0.4991198, -0.50711465, -0.5060391, -0.504096, -0.50464, -0.5059055], 'loss': [-864.4507, -898.46594, -928.37415, -975.83386, -998.23846, -1014.2285, -1012.0774, -1008.19116, -1009.2792, -1011.81036], 'bitrate': [0.086193, 0.155775, 0.234231, 0.379356, 0.725796, 1.517862, 2.544165, 5.633406, 17.86754, 26.572437]}]\n",
      "PAC2PIQ ./models_enhancement/model_vimeo11k_SPAQ_2000mse_enhance_cheng2020_attn_quality2_fixed_direction.ckpt\n"
     ]
    },
    {
     "data": {
      "application/vnd.jupyter.widget-view+json": {
       "model_id": "4814813293c64902ae39205249ebae9d",
       "version_major": 2,
       "version_minor": 0
      },
      "text/plain": [
       "0it [00:00, ?it/s]"
      ]
     },
     "metadata": {},
     "output_type": "display_data"
    },
    {
     "data": {
      "application/vnd.jupyter.widget-view+json": {
       "model_id": "87e694a2392b480c857ee0d45988c441",
       "version_major": 2,
       "version_minor": 0
      },
      "text/plain": [
       "0it [00:00, ?it/s]"
      ]
     },
     "metadata": {},
     "output_type": "display_data"
    },
    {
     "data": {
      "application/vnd.jupyter.widget-view+json": {
       "model_id": "1d4dda4f4b97429a9a052f8a3151d8c7",
       "version_major": 2,
       "version_minor": 0
      },
      "text/plain": [
       "0it [00:00, ?it/s]"
      ]
     },
     "metadata": {},
     "output_type": "display_data"
    },
    {
     "data": {
      "application/vnd.jupyter.widget-view+json": {
       "model_id": "3a1382c1c4cf4f779c3d19281130e832",
       "version_major": 2,
       "version_minor": 0
      },
      "text/plain": [
       "0it [00:00, ?it/s]"
      ]
     },
     "metadata": {},
     "output_type": "display_data"
    },
    {
     "data": {
      "application/vnd.jupyter.widget-view+json": {
       "model_id": "76f96532b12c4f39a483bffc1c584d41",
       "version_major": 2,
       "version_minor": 0
      },
      "text/plain": [
       "0it [00:00, ?it/s]"
      ]
     },
     "metadata": {},
     "output_type": "display_data"
    },
    {
     "data": {
      "application/vnd.jupyter.widget-view+json": {
       "model_id": "8de8a79ccc3846518ffc49431157dfcf",
       "version_major": 2,
       "version_minor": 0
      },
      "text/plain": [
       "0it [00:00, ?it/s]"
      ]
     },
     "metadata": {},
     "output_type": "display_data"
    },
    {
     "data": {
      "application/vnd.jupyter.widget-view+json": {
       "model_id": "63555f80b0c740fc87703774a9ccdb65",
       "version_major": 2,
       "version_minor": 0
      },
      "text/plain": [
       "0it [00:00, ?it/s]"
      ]
     },
     "metadata": {},
     "output_type": "display_data"
    },
    {
     "data": {
      "application/vnd.jupyter.widget-view+json": {
       "model_id": "7ca533f773004e03bcac18dbd3aa8c11",
       "version_major": 2,
       "version_minor": 0
      },
      "text/plain": [
       "0it [00:00, ?it/s]"
      ]
     },
     "metadata": {},
     "output_type": "display_data"
    },
    {
     "data": {
      "application/vnd.jupyter.widget-view+json": {
       "model_id": "e7463975436d4f1fa96c0443bfd99341",
       "version_major": 2,
       "version_minor": 0
      },
      "text/plain": [
       "0it [00:00, ?it/s]"
      ]
     },
     "metadata": {},
     "output_type": "display_data"
    },
    {
     "data": {
      "application/vnd.jupyter.widget-view+json": {
       "model_id": "8822e7abb6634e55b3e45b094c06915b",
       "version_major": 2,
       "version_minor": 0
      },
      "text/plain": [
       "0it [00:00, ?it/s]"
      ]
     },
     "metadata": {},
     "output_type": "display_data"
    },
    {
     "data": {
      "application/vnd.jupyter.widget-view+json": {
       "model_id": "7e55d3973162423dae63372c6bb48f31",
       "version_major": 2,
       "version_minor": 0
      },
      "text/plain": [
       "0it [00:00, ?it/s]"
      ]
     },
     "metadata": {},
     "output_type": "display_data"
    },
    {
     "data": {
      "application/vnd.jupyter.widget-view+json": {
       "model_id": "a44f18bfcb0d462cb6d64c753e9a863f",
       "version_major": 2,
       "version_minor": 0
      },
      "text/plain": [
       "0it [00:00, ?it/s]"
      ]
     },
     "metadata": {},
     "output_type": "display_data"
    },
    {
     "data": {
      "application/vnd.jupyter.widget-view+json": {
       "model_id": "a5c64ec74684414bbb91cc979ae71cd5",
       "version_major": 2,
       "version_minor": 0
      },
      "text/plain": [
       "0it [00:00, ?it/s]"
      ]
     },
     "metadata": {},
     "output_type": "display_data"
    },
    {
     "data": {
      "application/vnd.jupyter.widget-view+json": {
       "model_id": "df1977a6586c468a876f421ce90d6f98",
       "version_major": 2,
       "version_minor": 0
      },
      "text/plain": [
       "0it [00:00, ?it/s]"
      ]
     },
     "metadata": {},
     "output_type": "display_data"
    },
    {
     "data": {
      "application/vnd.jupyter.widget-view+json": {
       "model_id": "bb554cfb06af46f8b39ccb6e2041f6a8",
       "version_major": 2,
       "version_minor": 0
      },
      "text/plain": [
       "0it [00:00, ?it/s]"
      ]
     },
     "metadata": {},
     "output_type": "display_data"
    },
    {
     "data": {
      "application/vnd.jupyter.widget-view+json": {
       "model_id": "2067a16d767745aa8992d1329ba2f68d",
       "version_major": 2,
       "version_minor": 0
      },
      "text/plain": [
       "0it [00:00, ?it/s]"
      ]
     },
     "metadata": {},
     "output_type": "display_data"
    },
    {
     "data": {
      "application/vnd.jupyter.widget-view+json": {
       "model_id": "f6a0223023c244b0b5c27f5006ed1769",
       "version_major": 2,
       "version_minor": 0
      },
      "text/plain": [
       "0it [00:00, ?it/s]"
      ]
     },
     "metadata": {},
     "output_type": "display_data"
    },
    {
     "data": {
      "application/vnd.jupyter.widget-view+json": {
       "model_id": "e6c5b88883404b33b8179d1faba11633",
       "version_major": 2,
       "version_minor": 0
      },
      "text/plain": [
       "0it [00:00, ?it/s]"
      ]
     },
     "metadata": {},
     "output_type": "display_data"
    },
    {
     "data": {
      "application/vnd.jupyter.widget-view+json": {
       "model_id": "32d1cb6fd61f4e1c9017fa8f4261ecb8",
       "version_major": 2,
       "version_minor": 0
      },
      "text/plain": [
       "0it [00:00, ?it/s]"
      ]
     },
     "metadata": {},
     "output_type": "display_data"
    },
    {
     "data": {
      "application/vnd.jupyter.widget-view+json": {
       "model_id": "e5c4fbf8e6f049d6a130a73676cfc8ef",
       "version_major": 2,
       "version_minor": 0
      },
      "text/plain": [
       "0it [00:00, ?it/s]"
      ]
     },
     "metadata": {},
     "output_type": "display_data"
    },
    {
     "name": "stdout",
     "output_type": "stream",
     "text": [
      "[{'mse_loss': [0.0061228117, 0.003768739, 0.0026707775, 0.0017585937, 0.0010992258, 0.00081361446, 0.00077158597, 0.00079569663, 0.00078186346, 0.000726372], 'bpp_loss': [0.021601094, 0.021601094, 0.021601094, 0.021601094, 0.021601094, 0.021601094, 0.021601094, 0.021601094, 0.021601094, 0.021601094], 'loss_classic': [4.0029593, 2.4722238, 1.7582741, 1.1651266, 0.7363727, 0.55065393, 0.5233249, 0.5390028, 0.5300078, 0.49392444], 'PSNR': [22.14769, 24.257526, 25.750793, 27.56771, 29.602913, 30.908854, 31.148333, 31.083963, 31.490799, 32.038933], 'PAC2PIQ': [-0.43191296, -0.53795516, -0.56403875, -0.62884486, -0.6774632, -0.6970866, -0.6970341, -0.6930435, -0.6896969, -0.69011426], 'loss': [-863.8198, -1075.9066, -1128.075, -1257.688, -1354.9253, -1394.1725, -1394.0674, -1386.0862, -1379.393, -1380.2278], 'bitrate': [0.086193, 0.155775, 0.234231, 0.379356, 0.725796, 1.517862, 2.544165, 5.633406, 17.86754, 26.572437]}]\n",
      "SPAQ ./models_enhancement/model_vimeo11k_VSFA_2000mse_enhance_cheng2020_attn_quality2_fixed_direction.ckpt\n"
     ]
    },
    {
     "data": {
      "application/vnd.jupyter.widget-view+json": {
       "model_id": "38c7062cc7b74187898498515eff86ed",
       "version_major": 2,
       "version_minor": 0
      },
      "text/plain": [
       "0it [00:00, ?it/s]"
      ]
     },
     "metadata": {},
     "output_type": "display_data"
    },
    {
     "data": {
      "application/vnd.jupyter.widget-view+json": {
       "model_id": "41a774ab7e0741e59c1fdad2994e29b8",
       "version_major": 2,
       "version_minor": 0
      },
      "text/plain": [
       "0it [00:00, ?it/s]"
      ]
     },
     "metadata": {},
     "output_type": "display_data"
    },
    {
     "data": {
      "application/vnd.jupyter.widget-view+json": {
       "model_id": "61f7d814d91f42b8989af440c897b73c",
       "version_major": 2,
       "version_minor": 0
      },
      "text/plain": [
       "0it [00:00, ?it/s]"
      ]
     },
     "metadata": {},
     "output_type": "display_data"
    },
    {
     "data": {
      "application/vnd.jupyter.widget-view+json": {
       "model_id": "8af49fb503c645d59c10610c7a640266",
       "version_major": 2,
       "version_minor": 0
      },
      "text/plain": [
       "0it [00:00, ?it/s]"
      ]
     },
     "metadata": {},
     "output_type": "display_data"
    },
    {
     "data": {
      "application/vnd.jupyter.widget-view+json": {
       "model_id": "55c38b57520d44adb79b6a15ed0aab32",
       "version_major": 2,
       "version_minor": 0
      },
      "text/plain": [
       "0it [00:00, ?it/s]"
      ]
     },
     "metadata": {},
     "output_type": "display_data"
    },
    {
     "data": {
      "application/vnd.jupyter.widget-view+json": {
       "model_id": "482cd3eef5534367ad052ab52b0c89c8",
       "version_major": 2,
       "version_minor": 0
      },
      "text/plain": [
       "0it [00:00, ?it/s]"
      ]
     },
     "metadata": {},
     "output_type": "display_data"
    },
    {
     "data": {
      "application/vnd.jupyter.widget-view+json": {
       "model_id": "d485df12c1b8423397e2dfe188e161c5",
       "version_major": 2,
       "version_minor": 0
      },
      "text/plain": [
       "0it [00:00, ?it/s]"
      ]
     },
     "metadata": {},
     "output_type": "display_data"
    },
    {
     "data": {
      "application/vnd.jupyter.widget-view+json": {
       "model_id": "544c7e4382ca4a9da44454b1780cc373",
       "version_major": 2,
       "version_minor": 0
      },
      "text/plain": [
       "0it [00:00, ?it/s]"
      ]
     },
     "metadata": {},
     "output_type": "display_data"
    },
    {
     "data": {
      "application/vnd.jupyter.widget-view+json": {
       "model_id": "6519ee178301447ca17e49b6976dbaac",
       "version_major": 2,
       "version_minor": 0
      },
      "text/plain": [
       "0it [00:00, ?it/s]"
      ]
     },
     "metadata": {},
     "output_type": "display_data"
    },
    {
     "data": {
      "application/vnd.jupyter.widget-view+json": {
       "model_id": "97c679d47ade4178add66904f7edf537",
       "version_major": 2,
       "version_minor": 0
      },
      "text/plain": [
       "0it [00:00, ?it/s]"
      ]
     },
     "metadata": {},
     "output_type": "display_data"
    },
    {
     "data": {
      "application/vnd.jupyter.widget-view+json": {
       "model_id": "c1a5564c8ff741dd9ae06b0723692113",
       "version_major": 2,
       "version_minor": 0
      },
      "text/plain": [
       "0it [00:00, ?it/s]"
      ]
     },
     "metadata": {},
     "output_type": "display_data"
    },
    {
     "data": {
      "application/vnd.jupyter.widget-view+json": {
       "model_id": "89feac748a454b0d8dcbec6243c9fc60",
       "version_major": 2,
       "version_minor": 0
      },
      "text/plain": [
       "0it [00:00, ?it/s]"
      ]
     },
     "metadata": {},
     "output_type": "display_data"
    },
    {
     "data": {
      "application/vnd.jupyter.widget-view+json": {
       "model_id": "5277cb23c3ce48209d53e81414daba7b",
       "version_major": 2,
       "version_minor": 0
      },
      "text/plain": [
       "0it [00:00, ?it/s]"
      ]
     },
     "metadata": {},
     "output_type": "display_data"
    },
    {
     "data": {
      "application/vnd.jupyter.widget-view+json": {
       "model_id": "4eb3a799c7644544833dce875f27724b",
       "version_major": 2,
       "version_minor": 0
      },
      "text/plain": [
       "0it [00:00, ?it/s]"
      ]
     },
     "metadata": {},
     "output_type": "display_data"
    },
    {
     "data": {
      "application/vnd.jupyter.widget-view+json": {
       "model_id": "74c0d9b4ba4e4c9390fae92f3cb2aa2c",
       "version_major": 2,
       "version_minor": 0
      },
      "text/plain": [
       "0it [00:00, ?it/s]"
      ]
     },
     "metadata": {},
     "output_type": "display_data"
    },
    {
     "data": {
      "application/vnd.jupyter.widget-view+json": {
       "model_id": "62d0140709e242cba2ff894e2be92843",
       "version_major": 2,
       "version_minor": 0
      },
      "text/plain": [
       "0it [00:00, ?it/s]"
      ]
     },
     "metadata": {},
     "output_type": "display_data"
    },
    {
     "data": {
      "application/vnd.jupyter.widget-view+json": {
       "model_id": "d5451898f6f34f37a5a546e834765763",
       "version_major": 2,
       "version_minor": 0
      },
      "text/plain": [
       "0it [00:00, ?it/s]"
      ]
     },
     "metadata": {},
     "output_type": "display_data"
    },
    {
     "data": {
      "application/vnd.jupyter.widget-view+json": {
       "model_id": "81501b1b99104edfa8265b82b800bbed",
       "version_major": 2,
       "version_minor": 0
      },
      "text/plain": [
       "0it [00:00, ?it/s]"
      ]
     },
     "metadata": {},
     "output_type": "display_data"
    },
    {
     "data": {
      "application/vnd.jupyter.widget-view+json": {
       "model_id": "5477b5918fd146a79dc75c7bcc0ed9f5",
       "version_major": 2,
       "version_minor": 0
      },
      "text/plain": [
       "0it [00:00, ?it/s]"
      ]
     },
     "metadata": {},
     "output_type": "display_data"
    },
    {
     "data": {
      "application/vnd.jupyter.widget-view+json": {
       "model_id": "2991f8170b434d74be269d30b5bd505a",
       "version_major": 2,
       "version_minor": 0
      },
      "text/plain": [
       "0it [00:00, ?it/s]"
      ]
     },
     "metadata": {},
     "output_type": "display_data"
    },
    {
     "name": "stdout",
     "output_type": "stream",
     "text": [
      "[{'mse_loss': [0.0061228117, 0.003768739, 0.0026707775, 0.0017585937, 0.0010992258, 0.00081361446, 0.00077158597, 0.00079569663, 0.00078186346, 0.000726372], 'bpp_loss': [0.021601094, 0.021601094, 0.021601094, 0.021601094, 0.021601094, 0.021601094, 0.021601094, 0.021601094, 0.021601094, 0.021601094], 'loss_classic': [4.0029593, 2.4722238, 1.7582741, 1.1651266, 0.7363727, 0.55065393, 0.5233249, 0.5390028, 0.5300078, 0.49392444], 'PSNR': [22.14769, 24.257526, 25.750793, 27.56771, 29.602913, 30.908854, 31.148333, 31.083963, 31.490799, 32.038933], 'SPAQ': [-0.38036805, -0.36127, -0.38245833, -0.40683985, -0.4354661, -0.46324825, -0.47749132, -0.45869115, -0.45475662, -0.45927206], 'loss': [-760.73004, -722.53613, -764.914, -813.67786, -870.93115, -926.49567, -954.9818, -917.38153, -909.51245, -918.54333], 'bitrate': [0.086193, 0.155775, 0.234231, 0.379356, 0.725796, 1.517862, 2.544165, 5.633406, 17.86754, 26.572437]}]\n",
      "VSFA ./models_enhancement/model_vimeo11k_Linearity_2000mse_enhance_no_codec_fixed_direction.ckpt\n"
     ]
    },
    {
     "data": {
      "application/vnd.jupyter.widget-view+json": {
       "model_id": "48f1dcabded84d4fbc7e8e2600e81f16",
       "version_major": 2,
       "version_minor": 0
      },
      "text/plain": [
       "0it [00:00, ?it/s]"
      ]
     },
     "metadata": {},
     "output_type": "display_data"
    },
    {
     "data": {
      "application/vnd.jupyter.widget-view+json": {
       "model_id": "8272a5544adc4efa9b01e7ec0abac5a0",
       "version_major": 2,
       "version_minor": 0
      },
      "text/plain": [
       "0it [00:00, ?it/s]"
      ]
     },
     "metadata": {},
     "output_type": "display_data"
    },
    {
     "data": {
      "application/vnd.jupyter.widget-view+json": {
       "model_id": "57d1e6bc8dfb42dc9fc93d257ee71152",
       "version_major": 2,
       "version_minor": 0
      },
      "text/plain": [
       "0it [00:00, ?it/s]"
      ]
     },
     "metadata": {},
     "output_type": "display_data"
    },
    {
     "data": {
      "application/vnd.jupyter.widget-view+json": {
       "model_id": "6e627663d620451cb3f3e2d630bf899f",
       "version_major": 2,
       "version_minor": 0
      },
      "text/plain": [
       "0it [00:00, ?it/s]"
      ]
     },
     "metadata": {},
     "output_type": "display_data"
    },
    {
     "data": {
      "application/vnd.jupyter.widget-view+json": {
       "model_id": "dbd65095ed844c3591bd23dfa1086c68",
       "version_major": 2,
       "version_minor": 0
      },
      "text/plain": [
       "0it [00:00, ?it/s]"
      ]
     },
     "metadata": {},
     "output_type": "display_data"
    },
    {
     "data": {
      "application/vnd.jupyter.widget-view+json": {
       "model_id": "61f09f4256de49b9abba443c83d91e6e",
       "version_major": 2,
       "version_minor": 0
      },
      "text/plain": [
       "0it [00:00, ?it/s]"
      ]
     },
     "metadata": {},
     "output_type": "display_data"
    },
    {
     "data": {
      "application/vnd.jupyter.widget-view+json": {
       "model_id": "b46e3ef250354ca98ffff9dc7a2e0193",
       "version_major": 2,
       "version_minor": 0
      },
      "text/plain": [
       "0it [00:00, ?it/s]"
      ]
     },
     "metadata": {},
     "output_type": "display_data"
    },
    {
     "data": {
      "application/vnd.jupyter.widget-view+json": {
       "model_id": "a381a818f97c4942a4117a0a1118c4b4",
       "version_major": 2,
       "version_minor": 0
      },
      "text/plain": [
       "0it [00:00, ?it/s]"
      ]
     },
     "metadata": {},
     "output_type": "display_data"
    },
    {
     "data": {
      "application/vnd.jupyter.widget-view+json": {
       "model_id": "684887ac685c44fe9748f536858720ec",
       "version_major": 2,
       "version_minor": 0
      },
      "text/plain": [
       "0it [00:00, ?it/s]"
      ]
     },
     "metadata": {},
     "output_type": "display_data"
    },
    {
     "data": {
      "application/vnd.jupyter.widget-view+json": {
       "model_id": "6df0ec470c9e4eada53b8d5a2bb332fb",
       "version_major": 2,
       "version_minor": 0
      },
      "text/plain": [
       "0it [00:00, ?it/s]"
      ]
     },
     "metadata": {},
     "output_type": "display_data"
    },
    {
     "data": {
      "application/vnd.jupyter.widget-view+json": {
       "model_id": "bc01d18bbe9f4ca39a14e52720bfc47e",
       "version_major": 2,
       "version_minor": 0
      },
      "text/plain": [
       "0it [00:00, ?it/s]"
      ]
     },
     "metadata": {},
     "output_type": "display_data"
    },
    {
     "data": {
      "application/vnd.jupyter.widget-view+json": {
       "model_id": "f911073f0fc34d06a4ea7a70a0035fda",
       "version_major": 2,
       "version_minor": 0
      },
      "text/plain": [
       "0it [00:00, ?it/s]"
      ]
     },
     "metadata": {},
     "output_type": "display_data"
    },
    {
     "data": {
      "application/vnd.jupyter.widget-view+json": {
       "model_id": "493b4be82f4a4d4d9e43c0c67e0576f5",
       "version_major": 2,
       "version_minor": 0
      },
      "text/plain": [
       "0it [00:00, ?it/s]"
      ]
     },
     "metadata": {},
     "output_type": "display_data"
    },
    {
     "data": {
      "application/vnd.jupyter.widget-view+json": {
       "model_id": "43c7143bce374ff3b8cad3e82f30fc44",
       "version_major": 2,
       "version_minor": 0
      },
      "text/plain": [
       "0it [00:00, ?it/s]"
      ]
     },
     "metadata": {},
     "output_type": "display_data"
    },
    {
     "data": {
      "application/vnd.jupyter.widget-view+json": {
       "model_id": "fa850ad79f194364a7e94913c3a7ca62",
       "version_major": 2,
       "version_minor": 0
      },
      "text/plain": [
       "0it [00:00, ?it/s]"
      ]
     },
     "metadata": {},
     "output_type": "display_data"
    },
    {
     "data": {
      "application/vnd.jupyter.widget-view+json": {
       "model_id": "9845d9ad7a4549019278874e4e83c5aa",
       "version_major": 2,
       "version_minor": 0
      },
      "text/plain": [
       "0it [00:00, ?it/s]"
      ]
     },
     "metadata": {},
     "output_type": "display_data"
    },
    {
     "data": {
      "application/vnd.jupyter.widget-view+json": {
       "model_id": "ad451ac288344849944b396802100c43",
       "version_major": 2,
       "version_minor": 0
      },
      "text/plain": [
       "0it [00:00, ?it/s]"
      ]
     },
     "metadata": {},
     "output_type": "display_data"
    },
    {
     "data": {
      "application/vnd.jupyter.widget-view+json": {
       "model_id": "5ad29c70431f4a7daa6448234ee17460",
       "version_major": 2,
       "version_minor": 0
      },
      "text/plain": [
       "0it [00:00, ?it/s]"
      ]
     },
     "metadata": {},
     "output_type": "display_data"
    },
    {
     "data": {
      "application/vnd.jupyter.widget-view+json": {
       "model_id": "44a3b2c5867e4168b6b400505da369c8",
       "version_major": 2,
       "version_minor": 0
      },
      "text/plain": [
       "0it [00:00, ?it/s]"
      ]
     },
     "metadata": {},
     "output_type": "display_data"
    },
    {
     "data": {
      "application/vnd.jupyter.widget-view+json": {
       "model_id": "25e31b210d474ab7b226b46ac399573a",
       "version_major": 2,
       "version_minor": 0
      },
      "text/plain": [
       "0it [00:00, ?it/s]"
      ]
     },
     "metadata": {},
     "output_type": "display_data"
    },
    {
     "name": "stdout",
     "output_type": "stream",
     "text": [
      "[{'mse_loss': [0.0061228117, 0.003768739, 0.0026707773, 0.0017585937, 0.001099226, 0.00081361446, 0.000771586, 0.00079569663, 0.00078186346, 0.000726372], 'bpp_loss': [0.010800547, 0.010800547, 0.010800547, 0.010800547, 0.010800547, 0.010800547, 0.010800547, 0.010800547, 0.010800547, 0.010800547], 'loss_classic': [3.992159, 2.4614232, 1.7474735, 1.1543262, 0.72557217, 0.53985333, 0.51252437, 0.5282023, 0.51920724, 0.48312393], 'PSNR': [22.147667, 24.25712, 25.74961, 27.565596, 29.602154, 30.9076, 31.143654, 31.063208, 31.431065, 31.968422], 'VSFA': [-0.3599528, -0.41196918, -0.44700703, -0.46896645, -0.47510675, -0.47656798, -0.48990783, -0.50255454, -0.5060971, -0.5085182], 'loss': [-719.8995, -823.9347, -894.0114, -937.93115, -950.2124, -953.13525, -979.81494, -1005.1083, -1012.19336, -1017.03564], 'bitrate': [0.086193, 0.155775, 0.234231, 0.379356, 0.725796, 1.517862, 2.544165, 5.633406, 17.86754, 26.572437]}]\n"
     ]
    },
    {
     "data": {
      "application/vnd.jupyter.widget-view+json": {
       "model_id": "7c149a08d52c4601b48845ec580d8bd5",
       "version_major": 2,
       "version_minor": 0
      },
      "text/plain": [
       "0it [00:00, ?it/s]"
      ]
     },
     "metadata": {},
     "output_type": "display_data"
    },
    {
     "name": "stdout",
     "output_type": "stream",
     "text": [
      "Linearity ./models_enhancement/model_vimeo11k_MDTVSFA_2000mse_enhance_cheng2020_attn_quality2.ckpt\n"
     ]
    },
    {
     "data": {
      "application/vnd.jupyter.widget-view+json": {
       "model_id": "747580b1f0f047a1b29e1548e28b9346",
       "version_major": 2,
       "version_minor": 0
      },
      "text/plain": [
       "0it [00:00, ?it/s]"
      ]
     },
     "metadata": {},
     "output_type": "display_data"
    },
    {
     "data": {
      "application/vnd.jupyter.widget-view+json": {
       "model_id": "629906def54c40a79cebe5aac705754d",
       "version_major": 2,
       "version_minor": 0
      },
      "text/plain": [
       "0it [00:00, ?it/s]"
      ]
     },
     "metadata": {},
     "output_type": "display_data"
    },
    {
     "data": {
      "application/vnd.jupyter.widget-view+json": {
       "model_id": "4fed6b58d24a43b2aed87ad62c79c8ec",
       "version_major": 2,
       "version_minor": 0
      },
      "text/plain": [
       "0it [00:00, ?it/s]"
      ]
     },
     "metadata": {},
     "output_type": "display_data"
    },
    {
     "data": {
      "application/vnd.jupyter.widget-view+json": {
       "model_id": "6ae862fdde2543928fc987ead5ab0f18",
       "version_major": 2,
       "version_minor": 0
      },
      "text/plain": [
       "0it [00:00, ?it/s]"
      ]
     },
     "metadata": {},
     "output_type": "display_data"
    },
    {
     "data": {
      "application/vnd.jupyter.widget-view+json": {
       "model_id": "ee4f903b21a543b8a00a34f8c05f7eaf",
       "version_major": 2,
       "version_minor": 0
      },
      "text/plain": [
       "0it [00:00, ?it/s]"
      ]
     },
     "metadata": {},
     "output_type": "display_data"
    },
    {
     "data": {
      "application/vnd.jupyter.widget-view+json": {
       "model_id": "3ddab1cd565649bbbe8f14dd0952ee4d",
       "version_major": 2,
       "version_minor": 0
      },
      "text/plain": [
       "0it [00:00, ?it/s]"
      ]
     },
     "metadata": {},
     "output_type": "display_data"
    },
    {
     "data": {
      "application/vnd.jupyter.widget-view+json": {
       "model_id": "6519e461e3a3408fb886967a57d08344",
       "version_major": 2,
       "version_minor": 0
      },
      "text/plain": [
       "0it [00:00, ?it/s]"
      ]
     },
     "metadata": {},
     "output_type": "display_data"
    },
    {
     "data": {
      "application/vnd.jupyter.widget-view+json": {
       "model_id": "3cdbf68862884dbe92fe3cf459e520c6",
       "version_major": 2,
       "version_minor": 0
      },
      "text/plain": [
       "0it [00:00, ?it/s]"
      ]
     },
     "metadata": {},
     "output_type": "display_data"
    },
    {
     "data": {
      "application/vnd.jupyter.widget-view+json": {
       "model_id": "99ab6033c38b49a79de7e1c18f5ea4b2",
       "version_major": 2,
       "version_minor": 0
      },
      "text/plain": [
       "0it [00:00, ?it/s]"
      ]
     },
     "metadata": {},
     "output_type": "display_data"
    },
    {
     "data": {
      "application/vnd.jupyter.widget-view+json": {
       "model_id": "a0e651d8d4e44a3ea8336724f7323747",
       "version_major": 2,
       "version_minor": 0
      },
      "text/plain": [
       "0it [00:00, ?it/s]"
      ]
     },
     "metadata": {},
     "output_type": "display_data"
    },
    {
     "data": {
      "application/vnd.jupyter.widget-view+json": {
       "model_id": "a0ec7f9f79454c32bc56f8d7875fa99d",
       "version_major": 2,
       "version_minor": 0
      },
      "text/plain": [
       "0it [00:00, ?it/s]"
      ]
     },
     "metadata": {},
     "output_type": "display_data"
    },
    {
     "data": {
      "application/vnd.jupyter.widget-view+json": {
       "model_id": "4ec5e27a9b6a4309bad64ceccf1930b7",
       "version_major": 2,
       "version_minor": 0
      },
      "text/plain": [
       "0it [00:00, ?it/s]"
      ]
     },
     "metadata": {},
     "output_type": "display_data"
    },
    {
     "data": {
      "application/vnd.jupyter.widget-view+json": {
       "model_id": "3e0ed2369c7b40908ab71b50e39fd6cd",
       "version_major": 2,
       "version_minor": 0
      },
      "text/plain": [
       "0it [00:00, ?it/s]"
      ]
     },
     "metadata": {},
     "output_type": "display_data"
    },
    {
     "data": {
      "application/vnd.jupyter.widget-view+json": {
       "model_id": "abf52b14b9a04ea38292f380a2923fc6",
       "version_major": 2,
       "version_minor": 0
      },
      "text/plain": [
       "0it [00:00, ?it/s]"
      ]
     },
     "metadata": {},
     "output_type": "display_data"
    },
    {
     "data": {
      "application/vnd.jupyter.widget-view+json": {
       "model_id": "78743701c0ff434c967448eef5918262",
       "version_major": 2,
       "version_minor": 0
      },
      "text/plain": [
       "0it [00:00, ?it/s]"
      ]
     },
     "metadata": {},
     "output_type": "display_data"
    },
    {
     "data": {
      "application/vnd.jupyter.widget-view+json": {
       "model_id": "142a1ae2cdbc4219b02dde0c8304d8d6",
       "version_major": 2,
       "version_minor": 0
      },
      "text/plain": [
       "0it [00:00, ?it/s]"
      ]
     },
     "metadata": {},
     "output_type": "display_data"
    },
    {
     "data": {
      "application/vnd.jupyter.widget-view+json": {
       "model_id": "b2489e6f109d4869bc91d1614e729f66",
       "version_major": 2,
       "version_minor": 0
      },
      "text/plain": [
       "0it [00:00, ?it/s]"
      ]
     },
     "metadata": {},
     "output_type": "display_data"
    },
    {
     "data": {
      "application/vnd.jupyter.widget-view+json": {
       "model_id": "2ce2be0f7dbb4ae9b4a890df90829004",
       "version_major": 2,
       "version_minor": 0
      },
      "text/plain": [
       "0it [00:00, ?it/s]"
      ]
     },
     "metadata": {},
     "output_type": "display_data"
    },
    {
     "data": {
      "application/vnd.jupyter.widget-view+json": {
       "model_id": "29fcc1da3b9e48a9a6016ca277483d07",
       "version_major": 2,
       "version_minor": 0
      },
      "text/plain": [
       "0it [00:00, ?it/s]"
      ]
     },
     "metadata": {},
     "output_type": "display_data"
    },
    {
     "data": {
      "application/vnd.jupyter.widget-view+json": {
       "model_id": "19c1372b037642e58fc27b958b28838b",
       "version_major": 2,
       "version_minor": 0
      },
      "text/plain": [
       "0it [00:00, ?it/s]"
      ]
     },
     "metadata": {},
     "output_type": "display_data"
    },
    {
     "name": "stdout",
     "output_type": "stream",
     "text": [
      "[{'mse_loss': [0.020693384, 0.018159524, 0.015214412, 0.013211088, 0.010613736, 0.008247007, 0.006902557, 0.005392775, 0.004349213, 0.0037461247], 'bpp_loss': [0.021601094, 0.021601094, 0.021601094, 0.021601094, 0.021601094, 0.021601094, 0.021601094, 0.021601094, 0.021601094, 0.021601094], 'loss_classic': [13.477474, 11.82983, 9.914772, 8.61211, 6.9231825, 5.3842173, 4.5099883, 3.5282528, 2.849677, 2.4575186], 'PSNR': [17.062183, 17.766478, 18.559017, 19.281322, 20.44449, 21.855583, 22.81675, 24.136555, 25.559223, 26.46083], 'Linearity': [0.4890495, 0.41431278, 0.3319851, 0.19366069, 0.037980445, -0.09809506, -0.17572114, -0.24034183, -0.27862918, -0.3065727], 'loss': [978.1196, 828.6437, 663.98535, 387.3346, 75.97151, -196.18188, -351.43536, -480.67828, -557.254, -613.1417], 'bitrate': [0.147662, 0.22204, 0.35574, 0.581393, 1.206106, 2.666137, 4.244687, 7.755468, 17.186143, 25.113956]}]\n",
      "MDTVSFA ./models_enhancement/model_vimeo11k_PAC2PIC_2000mse_enhance_cheng2020_attn_quality2_fixed_direction.ckpt\n"
     ]
    },
    {
     "data": {
      "application/vnd.jupyter.widget-view+json": {
       "model_id": "a67077d7da794b82b35099b8ef55a122",
       "version_major": 2,
       "version_minor": 0
      },
      "text/plain": [
       "0it [00:00, ?it/s]"
      ]
     },
     "metadata": {},
     "output_type": "display_data"
    },
    {
     "data": {
      "application/vnd.jupyter.widget-view+json": {
       "model_id": "23e095b55d95440cb0019b374c26faef",
       "version_major": 2,
       "version_minor": 0
      },
      "text/plain": [
       "0it [00:00, ?it/s]"
      ]
     },
     "metadata": {},
     "output_type": "display_data"
    },
    {
     "data": {
      "application/vnd.jupyter.widget-view+json": {
       "model_id": "b46cbd6830014bf39fe13e71e1928b1f",
       "version_major": 2,
       "version_minor": 0
      },
      "text/plain": [
       "0it [00:00, ?it/s]"
      ]
     },
     "metadata": {},
     "output_type": "display_data"
    },
    {
     "data": {
      "application/vnd.jupyter.widget-view+json": {
       "model_id": "8ea4856f7e624264b9cfa2a189b9dc02",
       "version_major": 2,
       "version_minor": 0
      },
      "text/plain": [
       "0it [00:00, ?it/s]"
      ]
     },
     "metadata": {},
     "output_type": "display_data"
    },
    {
     "data": {
      "application/vnd.jupyter.widget-view+json": {
       "model_id": "16c3c01c872e4ea192706ab99bec10d6",
       "version_major": 2,
       "version_minor": 0
      },
      "text/plain": [
       "0it [00:00, ?it/s]"
      ]
     },
     "metadata": {},
     "output_type": "display_data"
    },
    {
     "data": {
      "application/vnd.jupyter.widget-view+json": {
       "model_id": "75e71eeb015e476f9a4518ce5b5ea7af",
       "version_major": 2,
       "version_minor": 0
      },
      "text/plain": [
       "0it [00:00, ?it/s]"
      ]
     },
     "metadata": {},
     "output_type": "display_data"
    },
    {
     "data": {
      "application/vnd.jupyter.widget-view+json": {
       "model_id": "2288e3ef0a764e7a9c49d2d03dd3b001",
       "version_major": 2,
       "version_minor": 0
      },
      "text/plain": [
       "0it [00:00, ?it/s]"
      ]
     },
     "metadata": {},
     "output_type": "display_data"
    },
    {
     "data": {
      "application/vnd.jupyter.widget-view+json": {
       "model_id": "c27ba2bea2474e02b5410cc0fab77237",
       "version_major": 2,
       "version_minor": 0
      },
      "text/plain": [
       "0it [00:00, ?it/s]"
      ]
     },
     "metadata": {},
     "output_type": "display_data"
    },
    {
     "data": {
      "application/vnd.jupyter.widget-view+json": {
       "model_id": "22d7c8ef9444450580530bd83ddca3e7",
       "version_major": 2,
       "version_minor": 0
      },
      "text/plain": [
       "0it [00:00, ?it/s]"
      ]
     },
     "metadata": {},
     "output_type": "display_data"
    },
    {
     "data": {
      "application/vnd.jupyter.widget-view+json": {
       "model_id": "a74263839e354122a0e5b68dc341d26e",
       "version_major": 2,
       "version_minor": 0
      },
      "text/plain": [
       "0it [00:00, ?it/s]"
      ]
     },
     "metadata": {},
     "output_type": "display_data"
    },
    {
     "data": {
      "application/vnd.jupyter.widget-view+json": {
       "model_id": "c740ca8f15664041bd813eac06635d19",
       "version_major": 2,
       "version_minor": 0
      },
      "text/plain": [
       "0it [00:00, ?it/s]"
      ]
     },
     "metadata": {},
     "output_type": "display_data"
    },
    {
     "data": {
      "application/vnd.jupyter.widget-view+json": {
       "model_id": "0ded63150bb544ab89f94bc4e00555c9",
       "version_major": 2,
       "version_minor": 0
      },
      "text/plain": [
       "0it [00:00, ?it/s]"
      ]
     },
     "metadata": {},
     "output_type": "display_data"
    },
    {
     "data": {
      "application/vnd.jupyter.widget-view+json": {
       "model_id": "420e57fdc5ab462d80a6391002973f94",
       "version_major": 2,
       "version_minor": 0
      },
      "text/plain": [
       "0it [00:00, ?it/s]"
      ]
     },
     "metadata": {},
     "output_type": "display_data"
    },
    {
     "data": {
      "application/vnd.jupyter.widget-view+json": {
       "model_id": "9ce6a2e1372d48fa9ff8a7d005b4c156",
       "version_major": 2,
       "version_minor": 0
      },
      "text/plain": [
       "0it [00:00, ?it/s]"
      ]
     },
     "metadata": {},
     "output_type": "display_data"
    },
    {
     "data": {
      "application/vnd.jupyter.widget-view+json": {
       "model_id": "79ccbadd44744e68b424b487c65e7f78",
       "version_major": 2,
       "version_minor": 0
      },
      "text/plain": [
       "0it [00:00, ?it/s]"
      ]
     },
     "metadata": {},
     "output_type": "display_data"
    },
    {
     "data": {
      "application/vnd.jupyter.widget-view+json": {
       "model_id": "6e19140bd86c404ea410e853817aa27b",
       "version_major": 2,
       "version_minor": 0
      },
      "text/plain": [
       "0it [00:00, ?it/s]"
      ]
     },
     "metadata": {},
     "output_type": "display_data"
    },
    {
     "data": {
      "application/vnd.jupyter.widget-view+json": {
       "model_id": "748b2f27aa8f4fc0ae767bd67804625c",
       "version_major": 2,
       "version_minor": 0
      },
      "text/plain": [
       "0it [00:00, ?it/s]"
      ]
     },
     "metadata": {},
     "output_type": "display_data"
    },
    {
     "data": {
      "application/vnd.jupyter.widget-view+json": {
       "model_id": "3a5bcc9211ee46b6b86f405b62cb86fb",
       "version_major": 2,
       "version_minor": 0
      },
      "text/plain": [
       "0it [00:00, ?it/s]"
      ]
     },
     "metadata": {},
     "output_type": "display_data"
    },
    {
     "data": {
      "application/vnd.jupyter.widget-view+json": {
       "model_id": "0569a6e8705e4f48b9d4723088c60013",
       "version_major": 2,
       "version_minor": 0
      },
      "text/plain": [
       "0it [00:00, ?it/s]"
      ]
     },
     "metadata": {},
     "output_type": "display_data"
    },
    {
     "data": {
      "application/vnd.jupyter.widget-view+json": {
       "model_id": "9da2914a44044547927a99f242ce94ef",
       "version_major": 2,
       "version_minor": 0
      },
      "text/plain": [
       "0it [00:00, ?it/s]"
      ]
     },
     "metadata": {},
     "output_type": "display_data"
    },
    {
     "name": "stdout",
     "output_type": "stream",
     "text": [
      "[{'mse_loss': [0.020693384, 0.018159524, 0.015214412, 0.013211088, 0.010613736, 0.008247007, 0.006902557, 0.005392775, 0.004349213, 0.0037461247], 'bpp_loss': [0.021601094, 0.021601094, 0.021601094, 0.021601094, 0.021601094, 0.021601094, 0.021601094, 0.021601094, 0.021601094, 0.021601094], 'loss_classic': [13.477474, 11.82983, 9.914772, 8.61211, 6.9231825, 5.3842173, 4.5099883, 3.5282528, 2.849677, 2.4575186], 'PSNR': [17.062183, 17.766478, 18.559017, 19.281322, 20.44449, 21.855583, 22.81675, 24.136555, 25.559223, 26.46083], 'MDTVSFA': [-0.4019582, -0.40940565, -0.4221295, -0.44224304, -0.4581282, -0.4711151, -0.47677514, -0.48368144, -0.49005097, -0.4917682], 'loss': [-803.8957, -818.7931, -844.2438, -884.4729, -916.24585, -942.2219, -953.5434, -967.3575, -980.09753, -983.5327], 'bitrate': [0.147662, 0.22204, 0.35574, 0.581393, 1.206106, 2.666137, 4.244687, 7.755468, 17.186143, 25.113956]}]\n",
      "PAC2PIQ ./models_enhancement/model_vimeo11k_SPAQ_2000mse_enhance_cheng2020_attn_quality2_fixed_direction.ckpt\n"
     ]
    },
    {
     "data": {
      "application/vnd.jupyter.widget-view+json": {
       "model_id": "a4b3a2f95ba848b48bff8143823d7a15",
       "version_major": 2,
       "version_minor": 0
      },
      "text/plain": [
       "0it [00:00, ?it/s]"
      ]
     },
     "metadata": {},
     "output_type": "display_data"
    },
    {
     "data": {
      "application/vnd.jupyter.widget-view+json": {
       "model_id": "6425a1c236b34ed191530ce3546475f8",
       "version_major": 2,
       "version_minor": 0
      },
      "text/plain": [
       "0it [00:00, ?it/s]"
      ]
     },
     "metadata": {},
     "output_type": "display_data"
    },
    {
     "data": {
      "application/vnd.jupyter.widget-view+json": {
       "model_id": "ee73916191454b7089a89dc08b41a784",
       "version_major": 2,
       "version_minor": 0
      },
      "text/plain": [
       "0it [00:00, ?it/s]"
      ]
     },
     "metadata": {},
     "output_type": "display_data"
    },
    {
     "data": {
      "application/vnd.jupyter.widget-view+json": {
       "model_id": "b647883b7af84db4a0abcf40082cc64b",
       "version_major": 2,
       "version_minor": 0
      },
      "text/plain": [
       "0it [00:00, ?it/s]"
      ]
     },
     "metadata": {},
     "output_type": "display_data"
    },
    {
     "data": {
      "application/vnd.jupyter.widget-view+json": {
       "model_id": "49dfb05e45e3410aa39508efde978cc4",
       "version_major": 2,
       "version_minor": 0
      },
      "text/plain": [
       "0it [00:00, ?it/s]"
      ]
     },
     "metadata": {},
     "output_type": "display_data"
    },
    {
     "data": {
      "application/vnd.jupyter.widget-view+json": {
       "model_id": "e17c74c5abc0446a9f2f0c3fabe2e464",
       "version_major": 2,
       "version_minor": 0
      },
      "text/plain": [
       "0it [00:00, ?it/s]"
      ]
     },
     "metadata": {},
     "output_type": "display_data"
    },
    {
     "data": {
      "application/vnd.jupyter.widget-view+json": {
       "model_id": "4f081c0d05014a85b565756f7576a429",
       "version_major": 2,
       "version_minor": 0
      },
      "text/plain": [
       "0it [00:00, ?it/s]"
      ]
     },
     "metadata": {},
     "output_type": "display_data"
    },
    {
     "data": {
      "application/vnd.jupyter.widget-view+json": {
       "model_id": "c92b1edb0e4d454da3bed72807cefab4",
       "version_major": 2,
       "version_minor": 0
      },
      "text/plain": [
       "0it [00:00, ?it/s]"
      ]
     },
     "metadata": {},
     "output_type": "display_data"
    },
    {
     "data": {
      "application/vnd.jupyter.widget-view+json": {
       "model_id": "6295e50d97e64bc2a69e06b8c298e44b",
       "version_major": 2,
       "version_minor": 0
      },
      "text/plain": [
       "0it [00:00, ?it/s]"
      ]
     },
     "metadata": {},
     "output_type": "display_data"
    },
    {
     "data": {
      "application/vnd.jupyter.widget-view+json": {
       "model_id": "42fe849a797b4905a13cbcba5e4288ed",
       "version_major": 2,
       "version_minor": 0
      },
      "text/plain": [
       "0it [00:00, ?it/s]"
      ]
     },
     "metadata": {},
     "output_type": "display_data"
    },
    {
     "data": {
      "application/vnd.jupyter.widget-view+json": {
       "model_id": "ed273a8462ce4af99f155b518979d436",
       "version_major": 2,
       "version_minor": 0
      },
      "text/plain": [
       "0it [00:00, ?it/s]"
      ]
     },
     "metadata": {},
     "output_type": "display_data"
    },
    {
     "data": {
      "application/vnd.jupyter.widget-view+json": {
       "model_id": "61b0636436e3475cbd788153d33aaf51",
       "version_major": 2,
       "version_minor": 0
      },
      "text/plain": [
       "0it [00:00, ?it/s]"
      ]
     },
     "metadata": {},
     "output_type": "display_data"
    },
    {
     "data": {
      "application/vnd.jupyter.widget-view+json": {
       "model_id": "c222f1af9608408380f309b3a953d5b4",
       "version_major": 2,
       "version_minor": 0
      },
      "text/plain": [
       "0it [00:00, ?it/s]"
      ]
     },
     "metadata": {},
     "output_type": "display_data"
    },
    {
     "data": {
      "application/vnd.jupyter.widget-view+json": {
       "model_id": "1c940e42543a40ef90348525e9bf751f",
       "version_major": 2,
       "version_minor": 0
      },
      "text/plain": [
       "0it [00:00, ?it/s]"
      ]
     },
     "metadata": {},
     "output_type": "display_data"
    },
    {
     "data": {
      "application/vnd.jupyter.widget-view+json": {
       "model_id": "93d92cc8456744cf989be6701e628bc1",
       "version_major": 2,
       "version_minor": 0
      },
      "text/plain": [
       "0it [00:00, ?it/s]"
      ]
     },
     "metadata": {},
     "output_type": "display_data"
    },
    {
     "data": {
      "application/vnd.jupyter.widget-view+json": {
       "model_id": "e80562e608534b4d8ffad3cce9dee0ce",
       "version_major": 2,
       "version_minor": 0
      },
      "text/plain": [
       "0it [00:00, ?it/s]"
      ]
     },
     "metadata": {},
     "output_type": "display_data"
    },
    {
     "data": {
      "application/vnd.jupyter.widget-view+json": {
       "model_id": "e8eb8ebd0e6f4e11990de475da1390cf",
       "version_major": 2,
       "version_minor": 0
      },
      "text/plain": [
       "0it [00:00, ?it/s]"
      ]
     },
     "metadata": {},
     "output_type": "display_data"
    },
    {
     "data": {
      "application/vnd.jupyter.widget-view+json": {
       "model_id": "ae6bf4e881f14431ad60238b25918053",
       "version_major": 2,
       "version_minor": 0
      },
      "text/plain": [
       "0it [00:00, ?it/s]"
      ]
     },
     "metadata": {},
     "output_type": "display_data"
    },
    {
     "data": {
      "application/vnd.jupyter.widget-view+json": {
       "model_id": "4b20103f2dc7454c849d7a1025c9e6fb",
       "version_major": 2,
       "version_minor": 0
      },
      "text/plain": [
       "0it [00:00, ?it/s]"
      ]
     },
     "metadata": {},
     "output_type": "display_data"
    },
    {
     "data": {
      "application/vnd.jupyter.widget-view+json": {
       "model_id": "59a807a3f76d4d72b91b83c2d6b57f02",
       "version_major": 2,
       "version_minor": 0
      },
      "text/plain": [
       "0it [00:00, ?it/s]"
      ]
     },
     "metadata": {},
     "output_type": "display_data"
    },
    {
     "name": "stdout",
     "output_type": "stream",
     "text": [
      "[{'mse_loss': [0.020693384, 0.018159524, 0.015214412, 0.013211088, 0.010613736, 0.008247007, 0.006902557, 0.005392775, 0.004349213, 0.0037461247], 'bpp_loss': [0.021601094, 0.021601094, 0.021601094, 0.021601094, 0.021601094, 0.021601094, 0.021601094, 0.021601094, 0.021601094, 0.021601094], 'loss_classic': [13.477474, 11.82983, 9.914772, 8.61211, 6.9231825, 5.3842173, 4.5099883, 3.5282528, 2.849677, 2.4575186], 'PSNR': [17.062183, 17.766478, 18.559017, 19.281322, 20.44449, 21.855583, 22.81675, 24.136555, 25.559223, 26.46083], 'PAC2PIQ': [-0.5151863, -0.5426568, -0.58185184, -0.62630665, -0.6686666, -0.68923926, -0.69916004, -0.7081844, -0.71359766, -0.71318686], 'loss': [-1030.3519, -1085.2954, -1163.6885, -1252.6002, -1337.3225, -1378.4703, -1398.3131, -1416.3635, -1427.1909, -1426.37], 'bitrate': [0.147662, 0.22204, 0.35574, 0.581393, 1.206106, 2.666137, 4.244687, 7.755468, 17.186143, 25.113956]}]\n",
      "SPAQ ./models_enhancement/model_vimeo11k_VSFA_2000mse_enhance_cheng2020_attn_quality2_fixed_direction.ckpt\n"
     ]
    },
    {
     "data": {
      "application/vnd.jupyter.widget-view+json": {
       "model_id": "bfecf9865a514144a02c269a38a154f6",
       "version_major": 2,
       "version_minor": 0
      },
      "text/plain": [
       "0it [00:00, ?it/s]"
      ]
     },
     "metadata": {},
     "output_type": "display_data"
    },
    {
     "data": {
      "application/vnd.jupyter.widget-view+json": {
       "model_id": "630e59481c9c48a38cdce63be3eefcd3",
       "version_major": 2,
       "version_minor": 0
      },
      "text/plain": [
       "0it [00:00, ?it/s]"
      ]
     },
     "metadata": {},
     "output_type": "display_data"
    },
    {
     "data": {
      "application/vnd.jupyter.widget-view+json": {
       "model_id": "437acbbf455c450690b1a60ba4d16600",
       "version_major": 2,
       "version_minor": 0
      },
      "text/plain": [
       "0it [00:00, ?it/s]"
      ]
     },
     "metadata": {},
     "output_type": "display_data"
    },
    {
     "data": {
      "application/vnd.jupyter.widget-view+json": {
       "model_id": "63333619df1e4b7b9a83132841e3af40",
       "version_major": 2,
       "version_minor": 0
      },
      "text/plain": [
       "0it [00:00, ?it/s]"
      ]
     },
     "metadata": {},
     "output_type": "display_data"
    },
    {
     "data": {
      "application/vnd.jupyter.widget-view+json": {
       "model_id": "7d70644fc7f1426ca3f9835ffb914ab8",
       "version_major": 2,
       "version_minor": 0
      },
      "text/plain": [
       "0it [00:00, ?it/s]"
      ]
     },
     "metadata": {},
     "output_type": "display_data"
    },
    {
     "data": {
      "application/vnd.jupyter.widget-view+json": {
       "model_id": "0b24b2c006de4b0f996bf527962b5cc2",
       "version_major": 2,
       "version_minor": 0
      },
      "text/plain": [
       "0it [00:00, ?it/s]"
      ]
     },
     "metadata": {},
     "output_type": "display_data"
    },
    {
     "data": {
      "application/vnd.jupyter.widget-view+json": {
       "model_id": "00b06d5b50d84a99ac901df5a4645bbd",
       "version_major": 2,
       "version_minor": 0
      },
      "text/plain": [
       "0it [00:00, ?it/s]"
      ]
     },
     "metadata": {},
     "output_type": "display_data"
    },
    {
     "data": {
      "application/vnd.jupyter.widget-view+json": {
       "model_id": "ae78a8ff200048f08f6a2beebab00356",
       "version_major": 2,
       "version_minor": 0
      },
      "text/plain": [
       "0it [00:00, ?it/s]"
      ]
     },
     "metadata": {},
     "output_type": "display_data"
    },
    {
     "data": {
      "application/vnd.jupyter.widget-view+json": {
       "model_id": "af3c939b61654e92a192fde026b1c580",
       "version_major": 2,
       "version_minor": 0
      },
      "text/plain": [
       "0it [00:00, ?it/s]"
      ]
     },
     "metadata": {},
     "output_type": "display_data"
    },
    {
     "data": {
      "application/vnd.jupyter.widget-view+json": {
       "model_id": "5a32f8f2f2bd4a6e8d6445b01231b5b2",
       "version_major": 2,
       "version_minor": 0
      },
      "text/plain": [
       "0it [00:00, ?it/s]"
      ]
     },
     "metadata": {},
     "output_type": "display_data"
    },
    {
     "data": {
      "application/vnd.jupyter.widget-view+json": {
       "model_id": "3cbd82d5fd014104bf0ec741b9ee4f32",
       "version_major": 2,
       "version_minor": 0
      },
      "text/plain": [
       "0it [00:00, ?it/s]"
      ]
     },
     "metadata": {},
     "output_type": "display_data"
    },
    {
     "data": {
      "application/vnd.jupyter.widget-view+json": {
       "model_id": "a841e4d83dcd43eeb7ea73f8e6e93d86",
       "version_major": 2,
       "version_minor": 0
      },
      "text/plain": [
       "0it [00:00, ?it/s]"
      ]
     },
     "metadata": {},
     "output_type": "display_data"
    },
    {
     "data": {
      "application/vnd.jupyter.widget-view+json": {
       "model_id": "a3419f32e5384bf992c39e476f368168",
       "version_major": 2,
       "version_minor": 0
      },
      "text/plain": [
       "0it [00:00, ?it/s]"
      ]
     },
     "metadata": {},
     "output_type": "display_data"
    },
    {
     "data": {
      "application/vnd.jupyter.widget-view+json": {
       "model_id": "e6ea33ce34d94b24aaef86a6d77794f9",
       "version_major": 2,
       "version_minor": 0
      },
      "text/plain": [
       "0it [00:00, ?it/s]"
      ]
     },
     "metadata": {},
     "output_type": "display_data"
    },
    {
     "data": {
      "application/vnd.jupyter.widget-view+json": {
       "model_id": "564d034d2a20418fb176ad91bd6abf97",
       "version_major": 2,
       "version_minor": 0
      },
      "text/plain": [
       "0it [00:00, ?it/s]"
      ]
     },
     "metadata": {},
     "output_type": "display_data"
    },
    {
     "data": {
      "application/vnd.jupyter.widget-view+json": {
       "model_id": "70db369cd96344c3b1db19bffa6d023b",
       "version_major": 2,
       "version_minor": 0
      },
      "text/plain": [
       "0it [00:00, ?it/s]"
      ]
     },
     "metadata": {},
     "output_type": "display_data"
    },
    {
     "data": {
      "application/vnd.jupyter.widget-view+json": {
       "model_id": "421ee8353d6742979a394c03cae3ef4a",
       "version_major": 2,
       "version_minor": 0
      },
      "text/plain": [
       "0it [00:00, ?it/s]"
      ]
     },
     "metadata": {},
     "output_type": "display_data"
    },
    {
     "data": {
      "application/vnd.jupyter.widget-view+json": {
       "model_id": "e8aee2ba47fb482bb1040daaf9c48f17",
       "version_major": 2,
       "version_minor": 0
      },
      "text/plain": [
       "0it [00:00, ?it/s]"
      ]
     },
     "metadata": {},
     "output_type": "display_data"
    },
    {
     "data": {
      "application/vnd.jupyter.widget-view+json": {
       "model_id": "ddb650f04b0e4d2ca3b101f717d1b645",
       "version_major": 2,
       "version_minor": 0
      },
      "text/plain": [
       "0it [00:00, ?it/s]"
      ]
     },
     "metadata": {},
     "output_type": "display_data"
    },
    {
     "data": {
      "application/vnd.jupyter.widget-view+json": {
       "model_id": "5073b608043e4b1591171116f15a6bc5",
       "version_major": 2,
       "version_minor": 0
      },
      "text/plain": [
       "0it [00:00, ?it/s]"
      ]
     },
     "metadata": {},
     "output_type": "display_data"
    },
    {
     "name": "stdout",
     "output_type": "stream",
     "text": [
      "[{'mse_loss': [0.020693384, 0.018159524, 0.015214412, 0.013211088, 0.010613736, 0.008247007, 0.006902557, 0.005392775, 0.004349213, 0.0037461247], 'bpp_loss': [0.021601094, 0.021601094, 0.021601094, 0.021601094, 0.021601094, 0.021601094, 0.021601094, 0.021601094, 0.021601094, 0.021601094], 'loss_classic': [13.477474, 11.82983, 9.914772, 8.61211, 6.9231825, 5.3842173, 4.5099883, 3.5282528, 2.849677, 2.4575186], 'PSNR': [17.062183, 17.766478, 18.559017, 19.281322, 20.44449, 21.855583, 22.81675, 24.136555, 25.559223, 26.46083], 'SPAQ': [-0.38520128, -0.3902952, -0.41389146, -0.43328616, -0.46349967, -0.48176867, -0.49104023, -0.48936892, -0.49094498, -0.49420244], 'loss': [-770.38184, -780.57227, -827.7677, -866.55914, -926.9888, -963.5291, -982.07355, -978.73254, -981.8856, -988.4011], 'bitrate': [0.147662, 0.22204, 0.35574, 0.581393, 1.206106, 2.666137, 4.244687, 7.755468, 17.186143, 25.113956]}]\n",
      "VSFA ./models_enhancement/model_vimeo11k_Linearity_2000mse_enhance_no_codec_fixed_direction.ckpt\n"
     ]
    },
    {
     "data": {
      "application/vnd.jupyter.widget-view+json": {
       "model_id": "fd7562f09dd947f59af2ddaf4d1eebdd",
       "version_major": 2,
       "version_minor": 0
      },
      "text/plain": [
       "0it [00:00, ?it/s]"
      ]
     },
     "metadata": {},
     "output_type": "display_data"
    },
    {
     "data": {
      "application/vnd.jupyter.widget-view+json": {
       "model_id": "44716c9fc41f4b70884bac9444c034ce",
       "version_major": 2,
       "version_minor": 0
      },
      "text/plain": [
       "0it [00:00, ?it/s]"
      ]
     },
     "metadata": {},
     "output_type": "display_data"
    },
    {
     "data": {
      "application/vnd.jupyter.widget-view+json": {
       "model_id": "5dd5afc31c87498c826e1ae0d05c09ca",
       "version_major": 2,
       "version_minor": 0
      },
      "text/plain": [
       "0it [00:00, ?it/s]"
      ]
     },
     "metadata": {},
     "output_type": "display_data"
    },
    {
     "data": {
      "application/vnd.jupyter.widget-view+json": {
       "model_id": "d5c1356dd70a44cf9ebc837f1bef31d2",
       "version_major": 2,
       "version_minor": 0
      },
      "text/plain": [
       "0it [00:00, ?it/s]"
      ]
     },
     "metadata": {},
     "output_type": "display_data"
    },
    {
     "data": {
      "application/vnd.jupyter.widget-view+json": {
       "model_id": "d85d7b961b67432a8fbc60c1a77cb104",
       "version_major": 2,
       "version_minor": 0
      },
      "text/plain": [
       "0it [00:00, ?it/s]"
      ]
     },
     "metadata": {},
     "output_type": "display_data"
    },
    {
     "data": {
      "application/vnd.jupyter.widget-view+json": {
       "model_id": "a1a65d701bf345e588bd87a919fde0ab",
       "version_major": 2,
       "version_minor": 0
      },
      "text/plain": [
       "0it [00:00, ?it/s]"
      ]
     },
     "metadata": {},
     "output_type": "display_data"
    },
    {
     "data": {
      "application/vnd.jupyter.widget-view+json": {
       "model_id": "e71c809faf5844ea861895d2724b1b8b",
       "version_major": 2,
       "version_minor": 0
      },
      "text/plain": [
       "0it [00:00, ?it/s]"
      ]
     },
     "metadata": {},
     "output_type": "display_data"
    },
    {
     "data": {
      "application/vnd.jupyter.widget-view+json": {
       "model_id": "89f6c2095a3f4f97bb216692b294432e",
       "version_major": 2,
       "version_minor": 0
      },
      "text/plain": [
       "0it [00:00, ?it/s]"
      ]
     },
     "metadata": {},
     "output_type": "display_data"
    },
    {
     "data": {
      "application/vnd.jupyter.widget-view+json": {
       "model_id": "033f3b510e92460c89492c370a985673",
       "version_major": 2,
       "version_minor": 0
      },
      "text/plain": [
       "0it [00:00, ?it/s]"
      ]
     },
     "metadata": {},
     "output_type": "display_data"
    },
    {
     "data": {
      "application/vnd.jupyter.widget-view+json": {
       "model_id": "ca5aa43d0a574aefa0c29cd7218dd615",
       "version_major": 2,
       "version_minor": 0
      },
      "text/plain": [
       "0it [00:00, ?it/s]"
      ]
     },
     "metadata": {},
     "output_type": "display_data"
    },
    {
     "data": {
      "application/vnd.jupyter.widget-view+json": {
       "model_id": "b01c5a98fcbf4a848f7e98eeec4a00e9",
       "version_major": 2,
       "version_minor": 0
      },
      "text/plain": [
       "0it [00:00, ?it/s]"
      ]
     },
     "metadata": {},
     "output_type": "display_data"
    },
    {
     "data": {
      "application/vnd.jupyter.widget-view+json": {
       "model_id": "4615a9245d97403aba1e0f97c3dc2890",
       "version_major": 2,
       "version_minor": 0
      },
      "text/plain": [
       "0it [00:00, ?it/s]"
      ]
     },
     "metadata": {},
     "output_type": "display_data"
    },
    {
     "data": {
      "application/vnd.jupyter.widget-view+json": {
       "model_id": "5b8806dbf38441dbba39fbf4fcea5617",
       "version_major": 2,
       "version_minor": 0
      },
      "text/plain": [
       "0it [00:00, ?it/s]"
      ]
     },
     "metadata": {},
     "output_type": "display_data"
    },
    {
     "data": {
      "application/vnd.jupyter.widget-view+json": {
       "model_id": "d8e0394e331548959de6e6c6b1ad4851",
       "version_major": 2,
       "version_minor": 0
      },
      "text/plain": [
       "0it [00:00, ?it/s]"
      ]
     },
     "metadata": {},
     "output_type": "display_data"
    },
    {
     "data": {
      "application/vnd.jupyter.widget-view+json": {
       "model_id": "24037bc41e4a4ffb9ca7849fd0f3fcd9",
       "version_major": 2,
       "version_minor": 0
      },
      "text/plain": [
       "0it [00:00, ?it/s]"
      ]
     },
     "metadata": {},
     "output_type": "display_data"
    },
    {
     "data": {
      "application/vnd.jupyter.widget-view+json": {
       "model_id": "47c1eaa834d3429f833d4b33ff61924d",
       "version_major": 2,
       "version_minor": 0
      },
      "text/plain": [
       "0it [00:00, ?it/s]"
      ]
     },
     "metadata": {},
     "output_type": "display_data"
    },
    {
     "data": {
      "application/vnd.jupyter.widget-view+json": {
       "model_id": "97ed2b64b1fb4c148fb57d8401c6f039",
       "version_major": 2,
       "version_minor": 0
      },
      "text/plain": [
       "0it [00:00, ?it/s]"
      ]
     },
     "metadata": {},
     "output_type": "display_data"
    },
    {
     "data": {
      "application/vnd.jupyter.widget-view+json": {
       "model_id": "7053df26e6374045af61b88173388dea",
       "version_major": 2,
       "version_minor": 0
      },
      "text/plain": [
       "0it [00:00, ?it/s]"
      ]
     },
     "metadata": {},
     "output_type": "display_data"
    },
    {
     "data": {
      "application/vnd.jupyter.widget-view+json": {
       "model_id": "b4ad40e7c4c34290a165d0a46c6582f9",
       "version_major": 2,
       "version_minor": 0
      },
      "text/plain": [
       "0it [00:00, ?it/s]"
      ]
     },
     "metadata": {},
     "output_type": "display_data"
    },
    {
     "data": {
      "application/vnd.jupyter.widget-view+json": {
       "model_id": "e57e75d240454ec68bc09888e6984a2d",
       "version_major": 2,
       "version_minor": 0
      },
      "text/plain": [
       "0it [00:00, ?it/s]"
      ]
     },
     "metadata": {},
     "output_type": "display_data"
    },
    {
     "name": "stdout",
     "output_type": "stream",
     "text": [
      "[{'mse_loss': [0.020693384, 0.01815952, 0.015214412, 0.013211087, 0.010613736, 0.008247007, 0.006902556, 0.0053927745, 0.004349213, 0.0037461245], 'bpp_loss': [0.010800547, 0.010800547, 0.010800547, 0.010800547, 0.010800547, 0.010800547, 0.010800547, 0.010800547, 0.010800547, 0.010800547], 'loss_classic': [13.466674, 11.819029, 9.903971, 8.60131, 6.912382, 5.373416, 4.4991875, 3.517452, 2.8388765, 2.446718], 'PSNR': [17.047688, 17.756989, 18.549591, 19.268478, 20.436716, 21.846117, 22.80399, 24.115679, 25.522152, 26.417107], 'VSFA': [-0.28336877, -0.29722, -0.3251797, -0.36086825, -0.38530666, -0.40523818, -0.41448426, -0.42893362, -0.4463351, -0.4507434], 'loss': [-566.71686, -594.4218, -650.3441, -721.72327, -770.60266, -810.46814, -828.9617, -857.8619, -892.6659, -901.4831], 'bitrate': [0.147662, 0.22204, 0.35574, 0.581393, 1.206106, 2.666137, 4.244687, 7.755468, 17.186143, 25.113956]}]\n"
     ]
    },
    {
     "data": {
      "application/vnd.jupyter.widget-view+json": {
       "model_id": "22f21ef5556d4c53a21c7c6cbcccf81b",
       "version_major": 2,
       "version_minor": 0
      },
      "text/plain": [
       "0it [00:00, ?it/s]"
      ]
     },
     "metadata": {},
     "output_type": "display_data"
    },
    {
     "name": "stdout",
     "output_type": "stream",
     "text": [
      "Linearity ./models_enhancement/model_vimeo11k_MDTVSFA_2000mse_enhance_cheng2020_attn_quality2.ckpt\n"
     ]
    },
    {
     "data": {
      "application/vnd.jupyter.widget-view+json": {
       "model_id": "72f81ce7935a4ba180455c71fcf1b6a4",
       "version_major": 2,
       "version_minor": 0
      },
      "text/plain": [
       "0it [00:00, ?it/s]"
      ]
     },
     "metadata": {},
     "output_type": "display_data"
    },
    {
     "data": {
      "application/vnd.jupyter.widget-view+json": {
       "model_id": "270f652fa9894c039e38c74c97a64a60",
       "version_major": 2,
       "version_minor": 0
      },
      "text/plain": [
       "0it [00:00, ?it/s]"
      ]
     },
     "metadata": {},
     "output_type": "display_data"
    },
    {
     "data": {
      "application/vnd.jupyter.widget-view+json": {
       "model_id": "74269c3f343e4d4b92ae4f2dc3496e0c",
       "version_major": 2,
       "version_minor": 0
      },
      "text/plain": [
       "0it [00:00, ?it/s]"
      ]
     },
     "metadata": {},
     "output_type": "display_data"
    },
    {
     "data": {
      "application/vnd.jupyter.widget-view+json": {
       "model_id": "04f19d21de5248138b768fe8d90a4030",
       "version_major": 2,
       "version_minor": 0
      },
      "text/plain": [
       "0it [00:00, ?it/s]"
      ]
     },
     "metadata": {},
     "output_type": "display_data"
    },
    {
     "data": {
      "application/vnd.jupyter.widget-view+json": {
       "model_id": "7faef7ed6ec145b4896b0dc80f19a62d",
       "version_major": 2,
       "version_minor": 0
      },
      "text/plain": [
       "0it [00:00, ?it/s]"
      ]
     },
     "metadata": {},
     "output_type": "display_data"
    },
    {
     "data": {
      "application/vnd.jupyter.widget-view+json": {
       "model_id": "d83014ce21fd40b8b2337710a87a3b2e",
       "version_major": 2,
       "version_minor": 0
      },
      "text/plain": [
       "0it [00:00, ?it/s]"
      ]
     },
     "metadata": {},
     "output_type": "display_data"
    },
    {
     "data": {
      "application/vnd.jupyter.widget-view+json": {
       "model_id": "656676ef94fa4ea191ea58db69efb55f",
       "version_major": 2,
       "version_minor": 0
      },
      "text/plain": [
       "0it [00:00, ?it/s]"
      ]
     },
     "metadata": {},
     "output_type": "display_data"
    },
    {
     "data": {
      "application/vnd.jupyter.widget-view+json": {
       "model_id": "e0eee662e2eb433892650a1b52c34774",
       "version_major": 2,
       "version_minor": 0
      },
      "text/plain": [
       "0it [00:00, ?it/s]"
      ]
     },
     "metadata": {},
     "output_type": "display_data"
    },
    {
     "data": {
      "application/vnd.jupyter.widget-view+json": {
       "model_id": "86e52bb02ec944da8ba753fbbee41560",
       "version_major": 2,
       "version_minor": 0
      },
      "text/plain": [
       "0it [00:00, ?it/s]"
      ]
     },
     "metadata": {},
     "output_type": "display_data"
    },
    {
     "data": {
      "application/vnd.jupyter.widget-view+json": {
       "model_id": "2f0c316cd2314133bc72cdd2fc86edac",
       "version_major": 2,
       "version_minor": 0
      },
      "text/plain": [
       "0it [00:00, ?it/s]"
      ]
     },
     "metadata": {},
     "output_type": "display_data"
    },
    {
     "data": {
      "application/vnd.jupyter.widget-view+json": {
       "model_id": "dfc0cca617dc4bd7a33fbc0e827fb21a",
       "version_major": 2,
       "version_minor": 0
      },
      "text/plain": [
       "0it [00:00, ?it/s]"
      ]
     },
     "metadata": {},
     "output_type": "display_data"
    },
    {
     "data": {
      "application/vnd.jupyter.widget-view+json": {
       "model_id": "989152b7001440e393615cd6890a0a0e",
       "version_major": 2,
       "version_minor": 0
      },
      "text/plain": [
       "0it [00:00, ?it/s]"
      ]
     },
     "metadata": {},
     "output_type": "display_data"
    },
    {
     "data": {
      "application/vnd.jupyter.widget-view+json": {
       "model_id": "cead801d0fca4e2ca7379c4683eb51fd",
       "version_major": 2,
       "version_minor": 0
      },
      "text/plain": [
       "0it [00:00, ?it/s]"
      ]
     },
     "metadata": {},
     "output_type": "display_data"
    },
    {
     "data": {
      "application/vnd.jupyter.widget-view+json": {
       "model_id": "a9f87a0aec2d4ca0b30788c9326bd61a",
       "version_major": 2,
       "version_minor": 0
      },
      "text/plain": [
       "0it [00:00, ?it/s]"
      ]
     },
     "metadata": {},
     "output_type": "display_data"
    },
    {
     "data": {
      "application/vnd.jupyter.widget-view+json": {
       "model_id": "d048d433cfd3483e95b11d5b533a1750",
       "version_major": 2,
       "version_minor": 0
      },
      "text/plain": [
       "0it [00:00, ?it/s]"
      ]
     },
     "metadata": {},
     "output_type": "display_data"
    },
    {
     "data": {
      "application/vnd.jupyter.widget-view+json": {
       "model_id": "133ca8cf157b48c5863958839f8d3230",
       "version_major": 2,
       "version_minor": 0
      },
      "text/plain": [
       "0it [00:00, ?it/s]"
      ]
     },
     "metadata": {},
     "output_type": "display_data"
    },
    {
     "data": {
      "application/vnd.jupyter.widget-view+json": {
       "model_id": "191aeab6e7e94a8ebaa0401d89905289",
       "version_major": 2,
       "version_minor": 0
      },
      "text/plain": [
       "0it [00:00, ?it/s]"
      ]
     },
     "metadata": {},
     "output_type": "display_data"
    },
    {
     "data": {
      "application/vnd.jupyter.widget-view+json": {
       "model_id": "b8d969d200904a6e8705ea5564e4cb58",
       "version_major": 2,
       "version_minor": 0
      },
      "text/plain": [
       "0it [00:00, ?it/s]"
      ]
     },
     "metadata": {},
     "output_type": "display_data"
    },
    {
     "data": {
      "application/vnd.jupyter.widget-view+json": {
       "model_id": "e50ac98104684fb48bafcb59c74f85d1",
       "version_major": 2,
       "version_minor": 0
      },
      "text/plain": [
       "0it [00:00, ?it/s]"
      ]
     },
     "metadata": {},
     "output_type": "display_data"
    },
    {
     "data": {
      "application/vnd.jupyter.widget-view+json": {
       "model_id": "fa183f9f43554061a1bfd88b841dceeb",
       "version_major": 2,
       "version_minor": 0
      },
      "text/plain": [
       "0it [00:00, ?it/s]"
      ]
     },
     "metadata": {},
     "output_type": "display_data"
    },
    {
     "name": "stdout",
     "output_type": "stream",
     "text": [
      "[{'mse_loss': [0.008005714, 0.005836477, 0.0039045233, 0.0019088578, 0.0007811298, 0.00040171767, 0.00029834209, 0.00023825995, 0.00023391756, 0.00021466777], 'bpp_loss': [0.021601094, 0.021601094, 0.021601094, 0.021601094, 0.021601094, 0.021601094, 0.021601094, 0.021601094, 0.021601094, 0.021601094], 'loss_classic': [5.227317, 3.8167703, 2.5605175, 1.262836, 0.52953076, 0.28281802, 0.21559805, 0.17652963, 0.173706, 0.16118883], 'PSNR': [21.251162, 22.939987, 24.671581, 27.543129, 31.24834, 34.062748, 35.331566, 36.318596, 36.622314, 37.11691], 'Linearity': [0.59792405, 0.62551427, 0.6256534, 0.6481457, 0.6061462, 0.5011029, 0.47024065, 0.4446655, 0.4467812, 0.44455856], 'loss': [1195.8562, 1251.0342, 1251.3108, 1296.2932, 1212.2932, 1002.2063, 940.48157, 889.3313, 893.5626, 889.1173], 'bitrate': [0.155771, 0.221365, 0.322596, 0.534575, 0.992612, 1.922656, 2.861131, 4.826075, 10.659053, 15.588253]}]\n",
      "MDTVSFA ./models_enhancement/model_vimeo11k_PAC2PIC_2000mse_enhance_cheng2020_attn_quality2_fixed_direction.ckpt\n"
     ]
    },
    {
     "data": {
      "application/vnd.jupyter.widget-view+json": {
       "model_id": "1329de02014a489c93ecaf2b2ecd6953",
       "version_major": 2,
       "version_minor": 0
      },
      "text/plain": [
       "0it [00:00, ?it/s]"
      ]
     },
     "metadata": {},
     "output_type": "display_data"
    },
    {
     "data": {
      "application/vnd.jupyter.widget-view+json": {
       "model_id": "2021a86515e94638a5e4a33f97f3f75c",
       "version_major": 2,
       "version_minor": 0
      },
      "text/plain": [
       "0it [00:00, ?it/s]"
      ]
     },
     "metadata": {},
     "output_type": "display_data"
    },
    {
     "data": {
      "application/vnd.jupyter.widget-view+json": {
       "model_id": "e2b481bc34ef4429a829f54953c75bc4",
       "version_major": 2,
       "version_minor": 0
      },
      "text/plain": [
       "0it [00:00, ?it/s]"
      ]
     },
     "metadata": {},
     "output_type": "display_data"
    },
    {
     "data": {
      "application/vnd.jupyter.widget-view+json": {
       "model_id": "17274f38a310406da4e97e8910a228e3",
       "version_major": 2,
       "version_minor": 0
      },
      "text/plain": [
       "0it [00:00, ?it/s]"
      ]
     },
     "metadata": {},
     "output_type": "display_data"
    },
    {
     "data": {
      "application/vnd.jupyter.widget-view+json": {
       "model_id": "d9fa3024975f486f8add2441f50c04c0",
       "version_major": 2,
       "version_minor": 0
      },
      "text/plain": [
       "0it [00:00, ?it/s]"
      ]
     },
     "metadata": {},
     "output_type": "display_data"
    },
    {
     "data": {
      "application/vnd.jupyter.widget-view+json": {
       "model_id": "cbef5df1ce114736bb0c7b52ba24f6c2",
       "version_major": 2,
       "version_minor": 0
      },
      "text/plain": [
       "0it [00:00, ?it/s]"
      ]
     },
     "metadata": {},
     "output_type": "display_data"
    },
    {
     "data": {
      "application/vnd.jupyter.widget-view+json": {
       "model_id": "80a801fe06c240608c431dc2c0a74663",
       "version_major": 2,
       "version_minor": 0
      },
      "text/plain": [
       "0it [00:00, ?it/s]"
      ]
     },
     "metadata": {},
     "output_type": "display_data"
    },
    {
     "data": {
      "application/vnd.jupyter.widget-view+json": {
       "model_id": "5a7061cac07248ca8cee9dcbee301216",
       "version_major": 2,
       "version_minor": 0
      },
      "text/plain": [
       "0it [00:00, ?it/s]"
      ]
     },
     "metadata": {},
     "output_type": "display_data"
    },
    {
     "data": {
      "application/vnd.jupyter.widget-view+json": {
       "model_id": "a6c39d982d44455590761792fb57adc2",
       "version_major": 2,
       "version_minor": 0
      },
      "text/plain": [
       "0it [00:00, ?it/s]"
      ]
     },
     "metadata": {},
     "output_type": "display_data"
    },
    {
     "data": {
      "application/vnd.jupyter.widget-view+json": {
       "model_id": "ba462e5140ce4d01b901bafaed1ac9ce",
       "version_major": 2,
       "version_minor": 0
      },
      "text/plain": [
       "0it [00:00, ?it/s]"
      ]
     },
     "metadata": {},
     "output_type": "display_data"
    },
    {
     "data": {
      "application/vnd.jupyter.widget-view+json": {
       "model_id": "fbbde3e2ee0f4e949d5f8b4c4c774e57",
       "version_major": 2,
       "version_minor": 0
      },
      "text/plain": [
       "0it [00:00, ?it/s]"
      ]
     },
     "metadata": {},
     "output_type": "display_data"
    },
    {
     "data": {
      "application/vnd.jupyter.widget-view+json": {
       "model_id": "11caba8f742d4d1ab9b4568da1d7599d",
       "version_major": 2,
       "version_minor": 0
      },
      "text/plain": [
       "0it [00:00, ?it/s]"
      ]
     },
     "metadata": {},
     "output_type": "display_data"
    },
    {
     "data": {
      "application/vnd.jupyter.widget-view+json": {
       "model_id": "dd3443fe41f24dbb8aafd9919f2a349c",
       "version_major": 2,
       "version_minor": 0
      },
      "text/plain": [
       "0it [00:00, ?it/s]"
      ]
     },
     "metadata": {},
     "output_type": "display_data"
    },
    {
     "data": {
      "application/vnd.jupyter.widget-view+json": {
       "model_id": "7d14d0ffb47642c1a06fa9633f0311f5",
       "version_major": 2,
       "version_minor": 0
      },
      "text/plain": [
       "0it [00:00, ?it/s]"
      ]
     },
     "metadata": {},
     "output_type": "display_data"
    },
    {
     "data": {
      "application/vnd.jupyter.widget-view+json": {
       "model_id": "df9ce428ae9740b292d3c21478a7214f",
       "version_major": 2,
       "version_minor": 0
      },
      "text/plain": [
       "0it [00:00, ?it/s]"
      ]
     },
     "metadata": {},
     "output_type": "display_data"
    },
    {
     "data": {
      "application/vnd.jupyter.widget-view+json": {
       "model_id": "0475105ef8624049bdc8f8d4aa300e11",
       "version_major": 2,
       "version_minor": 0
      },
      "text/plain": [
       "0it [00:00, ?it/s]"
      ]
     },
     "metadata": {},
     "output_type": "display_data"
    },
    {
     "data": {
      "application/vnd.jupyter.widget-view+json": {
       "model_id": "f7813104e16c49358e0d2cff0f178d30",
       "version_major": 2,
       "version_minor": 0
      },
      "text/plain": [
       "0it [00:00, ?it/s]"
      ]
     },
     "metadata": {},
     "output_type": "display_data"
    },
    {
     "data": {
      "application/vnd.jupyter.widget-view+json": {
       "model_id": "777af9fc8948402088cfd92cbba9a681",
       "version_major": 2,
       "version_minor": 0
      },
      "text/plain": [
       "0it [00:00, ?it/s]"
      ]
     },
     "metadata": {},
     "output_type": "display_data"
    },
    {
     "data": {
      "application/vnd.jupyter.widget-view+json": {
       "model_id": "00cf70d871b6435a980309ff257fac0c",
       "version_major": 2,
       "version_minor": 0
      },
      "text/plain": [
       "0it [00:00, ?it/s]"
      ]
     },
     "metadata": {},
     "output_type": "display_data"
    },
    {
     "data": {
      "application/vnd.jupyter.widget-view+json": {
       "model_id": "307b4a35b8a24c95a198fc5dd5765e67",
       "version_major": 2,
       "version_minor": 0
      },
      "text/plain": [
       "0it [00:00, ?it/s]"
      ]
     },
     "metadata": {},
     "output_type": "display_data"
    },
    {
     "name": "stdout",
     "output_type": "stream",
     "text": [
      "[{'mse_loss': [0.008005714, 0.005836477, 0.0039045233, 0.0019088578, 0.0007811298, 0.00040171767, 0.00029834209, 0.00023825995, 0.00023391756, 0.00021466777], 'bpp_loss': [0.021601094, 0.021601094, 0.021601094, 0.021601094, 0.021601094, 0.021601094, 0.021601094, 0.021601094, 0.021601094, 0.021601094], 'loss_classic': [5.227317, 3.8167703, 2.5605175, 1.262836, 0.52953076, 0.28281802, 0.21559805, 0.17652963, 0.173706, 0.16118883], 'PSNR': [21.251162, 22.939987, 24.671581, 27.543129, 31.24834, 34.062748, 35.331566, 36.318596, 36.622314, 37.11691], 'MDTVSFA': [-0.4124459, -0.41377228, -0.41822815, -0.42965966, -0.45880434, -0.47905552, -0.4837638, -0.48940247, -0.49008083, -0.4916153], 'loss': [-824.8838, -827.5387, -836.4524, -859.3174, -917.6079, -958.11066, -967.52734, -978.8047, -980.16144, -983.2304], 'bitrate': [0.155771, 0.221365, 0.322596, 0.534575, 0.992612, 1.922656, 2.861131, 4.826075, 10.659053, 15.588253]}]\n",
      "PAC2PIQ ./models_enhancement/model_vimeo11k_SPAQ_2000mse_enhance_cheng2020_attn_quality2_fixed_direction.ckpt\n"
     ]
    },
    {
     "data": {
      "application/vnd.jupyter.widget-view+json": {
       "model_id": "38dac2e7d80e41e8b3904ebbb5882dd4",
       "version_major": 2,
       "version_minor": 0
      },
      "text/plain": [
       "0it [00:00, ?it/s]"
      ]
     },
     "metadata": {},
     "output_type": "display_data"
    },
    {
     "data": {
      "application/vnd.jupyter.widget-view+json": {
       "model_id": "3083449b645249bb9911d51c45b60524",
       "version_major": 2,
       "version_minor": 0
      },
      "text/plain": [
       "0it [00:00, ?it/s]"
      ]
     },
     "metadata": {},
     "output_type": "display_data"
    },
    {
     "data": {
      "application/vnd.jupyter.widget-view+json": {
       "model_id": "285f5e639f5a4794ba386cea839284bf",
       "version_major": 2,
       "version_minor": 0
      },
      "text/plain": [
       "0it [00:00, ?it/s]"
      ]
     },
     "metadata": {},
     "output_type": "display_data"
    },
    {
     "data": {
      "application/vnd.jupyter.widget-view+json": {
       "model_id": "20a98206d74449c48bf45068544c3a3c",
       "version_major": 2,
       "version_minor": 0
      },
      "text/plain": [
       "0it [00:00, ?it/s]"
      ]
     },
     "metadata": {},
     "output_type": "display_data"
    },
    {
     "data": {
      "application/vnd.jupyter.widget-view+json": {
       "model_id": "6cfbf66325004f679892449f460bd152",
       "version_major": 2,
       "version_minor": 0
      },
      "text/plain": [
       "0it [00:00, ?it/s]"
      ]
     },
     "metadata": {},
     "output_type": "display_data"
    },
    {
     "data": {
      "application/vnd.jupyter.widget-view+json": {
       "model_id": "b7b5bf74b38b4d2a9973ca4d194f360f",
       "version_major": 2,
       "version_minor": 0
      },
      "text/plain": [
       "0it [00:00, ?it/s]"
      ]
     },
     "metadata": {},
     "output_type": "display_data"
    },
    {
     "data": {
      "application/vnd.jupyter.widget-view+json": {
       "model_id": "2b56e66bc9b641718a1b37adbe8eda4c",
       "version_major": 2,
       "version_minor": 0
      },
      "text/plain": [
       "0it [00:00, ?it/s]"
      ]
     },
     "metadata": {},
     "output_type": "display_data"
    },
    {
     "data": {
      "application/vnd.jupyter.widget-view+json": {
       "model_id": "2b39968e25dd4e4ca55463f104cc6bc1",
       "version_major": 2,
       "version_minor": 0
      },
      "text/plain": [
       "0it [00:00, ?it/s]"
      ]
     },
     "metadata": {},
     "output_type": "display_data"
    },
    {
     "data": {
      "application/vnd.jupyter.widget-view+json": {
       "model_id": "f58a35b463984551b5457f5541d6cf89",
       "version_major": 2,
       "version_minor": 0
      },
      "text/plain": [
       "0it [00:00, ?it/s]"
      ]
     },
     "metadata": {},
     "output_type": "display_data"
    },
    {
     "data": {
      "application/vnd.jupyter.widget-view+json": {
       "model_id": "60443a7f6fd74f3ba38ec9b8eaae75c6",
       "version_major": 2,
       "version_minor": 0
      },
      "text/plain": [
       "0it [00:00, ?it/s]"
      ]
     },
     "metadata": {},
     "output_type": "display_data"
    },
    {
     "data": {
      "application/vnd.jupyter.widget-view+json": {
       "model_id": "a9887e2e90de42f2b3bc31f2adfbbaef",
       "version_major": 2,
       "version_minor": 0
      },
      "text/plain": [
       "0it [00:00, ?it/s]"
      ]
     },
     "metadata": {},
     "output_type": "display_data"
    },
    {
     "data": {
      "application/vnd.jupyter.widget-view+json": {
       "model_id": "57012c4e3aa044589fa3461df2c750b7",
       "version_major": 2,
       "version_minor": 0
      },
      "text/plain": [
       "0it [00:00, ?it/s]"
      ]
     },
     "metadata": {},
     "output_type": "display_data"
    },
    {
     "data": {
      "application/vnd.jupyter.widget-view+json": {
       "model_id": "d6e9459dd58448e0b3442f4e11ea140a",
       "version_major": 2,
       "version_minor": 0
      },
      "text/plain": [
       "0it [00:00, ?it/s]"
      ]
     },
     "metadata": {},
     "output_type": "display_data"
    },
    {
     "data": {
      "application/vnd.jupyter.widget-view+json": {
       "model_id": "46f394b683b24ca9972afa59c492da9a",
       "version_major": 2,
       "version_minor": 0
      },
      "text/plain": [
       "0it [00:00, ?it/s]"
      ]
     },
     "metadata": {},
     "output_type": "display_data"
    },
    {
     "data": {
      "application/vnd.jupyter.widget-view+json": {
       "model_id": "11b895e3d2d242a8b1a46cd2f4887a3c",
       "version_major": 2,
       "version_minor": 0
      },
      "text/plain": [
       "0it [00:00, ?it/s]"
      ]
     },
     "metadata": {},
     "output_type": "display_data"
    },
    {
     "data": {
      "application/vnd.jupyter.widget-view+json": {
       "model_id": "a3b407b890034d5a90fa813d9d4b19f3",
       "version_major": 2,
       "version_minor": 0
      },
      "text/plain": [
       "0it [00:00, ?it/s]"
      ]
     },
     "metadata": {},
     "output_type": "display_data"
    },
    {
     "data": {
      "application/vnd.jupyter.widget-view+json": {
       "model_id": "e1191e05119b40dab9c0b5dfcdb6fca1",
       "version_major": 2,
       "version_minor": 0
      },
      "text/plain": [
       "0it [00:00, ?it/s]"
      ]
     },
     "metadata": {},
     "output_type": "display_data"
    },
    {
     "data": {
      "application/vnd.jupyter.widget-view+json": {
       "model_id": "79ea3605006f4725a84ce9a31c07282a",
       "version_major": 2,
       "version_minor": 0
      },
      "text/plain": [
       "0it [00:00, ?it/s]"
      ]
     },
     "metadata": {},
     "output_type": "display_data"
    },
    {
     "data": {
      "application/vnd.jupyter.widget-view+json": {
       "model_id": "f2aaf306aac14890be412ec28bc54b45",
       "version_major": 2,
       "version_minor": 0
      },
      "text/plain": [
       "0it [00:00, ?it/s]"
      ]
     },
     "metadata": {},
     "output_type": "display_data"
    },
    {
     "data": {
      "application/vnd.jupyter.widget-view+json": {
       "model_id": "b61322ed4c1041968da93ce8d90d5b6c",
       "version_major": 2,
       "version_minor": 0
      },
      "text/plain": [
       "0it [00:00, ?it/s]"
      ]
     },
     "metadata": {},
     "output_type": "display_data"
    },
    {
     "name": "stdout",
     "output_type": "stream",
     "text": [
      "[{'mse_loss': [0.008005714, 0.005836477, 0.0039045233, 0.0019088578, 0.0007811298, 0.00040171767, 0.00029834209, 0.00023825995, 0.00023391756, 0.00021466777], 'bpp_loss': [0.021601094, 0.021601094, 0.021601094, 0.021601094, 0.021601094, 0.021601094, 0.021601094, 0.021601094, 0.021601094, 0.021601094], 'loss_classic': [5.227317, 3.8167703, 2.5605175, 1.262836, 0.52953076, 0.28281802, 0.21559805, 0.17652963, 0.173706, 0.16118883], 'PSNR': [21.251162, 22.939987, 24.671581, 27.543129, 31.24834, 34.062748, 35.331566, 36.318596, 36.622314, 37.11691], 'PAC2PIQ': [-0.4433301, -0.45866203, -0.46080035, -0.4676703, -0.490372, -0.47004172, -0.45669153, -0.44529077, -0.44559032, -0.4444984], 'loss': [-886.65216, -917.31824, -921.5968, -935.33875, -980.7433, -940.083, -913.38275, -890.5813, -891.1804, -888.9966], 'bitrate': [0.155771, 0.221365, 0.322596, 0.534575, 0.992612, 1.922656, 2.861131, 4.826075, 10.659053, 15.588253]}]\n",
      "SPAQ ./models_enhancement/model_vimeo11k_VSFA_2000mse_enhance_cheng2020_attn_quality2_fixed_direction.ckpt\n"
     ]
    },
    {
     "data": {
      "application/vnd.jupyter.widget-view+json": {
       "model_id": "5fb5a93f0629401faf3e52e7f9880ee1",
       "version_major": 2,
       "version_minor": 0
      },
      "text/plain": [
       "0it [00:00, ?it/s]"
      ]
     },
     "metadata": {},
     "output_type": "display_data"
    },
    {
     "data": {
      "application/vnd.jupyter.widget-view+json": {
       "model_id": "75f8001c0a4e43da85866f2ae25aeb93",
       "version_major": 2,
       "version_minor": 0
      },
      "text/plain": [
       "0it [00:00, ?it/s]"
      ]
     },
     "metadata": {},
     "output_type": "display_data"
    },
    {
     "data": {
      "application/vnd.jupyter.widget-view+json": {
       "model_id": "1c797b0cb1b04797916ae587ba5b8b8e",
       "version_major": 2,
       "version_minor": 0
      },
      "text/plain": [
       "0it [00:00, ?it/s]"
      ]
     },
     "metadata": {},
     "output_type": "display_data"
    },
    {
     "data": {
      "application/vnd.jupyter.widget-view+json": {
       "model_id": "c196a53b3bde464bb4e9696aa7cb1844",
       "version_major": 2,
       "version_minor": 0
      },
      "text/plain": [
       "0it [00:00, ?it/s]"
      ]
     },
     "metadata": {},
     "output_type": "display_data"
    },
    {
     "data": {
      "application/vnd.jupyter.widget-view+json": {
       "model_id": "0110751737184b93a411d23c662d531b",
       "version_major": 2,
       "version_minor": 0
      },
      "text/plain": [
       "0it [00:00, ?it/s]"
      ]
     },
     "metadata": {},
     "output_type": "display_data"
    },
    {
     "data": {
      "application/vnd.jupyter.widget-view+json": {
       "model_id": "58f22fb1fa0148a2b12cf31bf140ae22",
       "version_major": 2,
       "version_minor": 0
      },
      "text/plain": [
       "0it [00:00, ?it/s]"
      ]
     },
     "metadata": {},
     "output_type": "display_data"
    },
    {
     "data": {
      "application/vnd.jupyter.widget-view+json": {
       "model_id": "9a3e9781d34a4462ba0500eccc085a32",
       "version_major": 2,
       "version_minor": 0
      },
      "text/plain": [
       "0it [00:00, ?it/s]"
      ]
     },
     "metadata": {},
     "output_type": "display_data"
    },
    {
     "data": {
      "application/vnd.jupyter.widget-view+json": {
       "model_id": "3bb891cefe2243368c65dc9bee50eff2",
       "version_major": 2,
       "version_minor": 0
      },
      "text/plain": [
       "0it [00:00, ?it/s]"
      ]
     },
     "metadata": {},
     "output_type": "display_data"
    },
    {
     "data": {
      "application/vnd.jupyter.widget-view+json": {
       "model_id": "fccd06c1edb1473c9e869df75fbbf3c1",
       "version_major": 2,
       "version_minor": 0
      },
      "text/plain": [
       "0it [00:00, ?it/s]"
      ]
     },
     "metadata": {},
     "output_type": "display_data"
    },
    {
     "data": {
      "application/vnd.jupyter.widget-view+json": {
       "model_id": "3bad748f15b64366839c1a4e2fe9487c",
       "version_major": 2,
       "version_minor": 0
      },
      "text/plain": [
       "0it [00:00, ?it/s]"
      ]
     },
     "metadata": {},
     "output_type": "display_data"
    },
    {
     "data": {
      "application/vnd.jupyter.widget-view+json": {
       "model_id": "ac30b6a7043e4a1297fbc0e10fac8186",
       "version_major": 2,
       "version_minor": 0
      },
      "text/plain": [
       "0it [00:00, ?it/s]"
      ]
     },
     "metadata": {},
     "output_type": "display_data"
    },
    {
     "data": {
      "application/vnd.jupyter.widget-view+json": {
       "model_id": "34b659ec353c45d29b83cc2e96b99d8a",
       "version_major": 2,
       "version_minor": 0
      },
      "text/plain": [
       "0it [00:00, ?it/s]"
      ]
     },
     "metadata": {},
     "output_type": "display_data"
    },
    {
     "data": {
      "application/vnd.jupyter.widget-view+json": {
       "model_id": "64f5b92c6792490994b19cb99d28f586",
       "version_major": 2,
       "version_minor": 0
      },
      "text/plain": [
       "0it [00:00, ?it/s]"
      ]
     },
     "metadata": {},
     "output_type": "display_data"
    },
    {
     "data": {
      "application/vnd.jupyter.widget-view+json": {
       "model_id": "a5278c8a186945dab9e706bf0f96cf2c",
       "version_major": 2,
       "version_minor": 0
      },
      "text/plain": [
       "0it [00:00, ?it/s]"
      ]
     },
     "metadata": {},
     "output_type": "display_data"
    },
    {
     "data": {
      "application/vnd.jupyter.widget-view+json": {
       "model_id": "7bb7ba5c69114e2ea0219d8c805c3780",
       "version_major": 2,
       "version_minor": 0
      },
      "text/plain": [
       "0it [00:00, ?it/s]"
      ]
     },
     "metadata": {},
     "output_type": "display_data"
    },
    {
     "data": {
      "application/vnd.jupyter.widget-view+json": {
       "model_id": "aba3cf6a9ca3464d888ca50548255620",
       "version_major": 2,
       "version_minor": 0
      },
      "text/plain": [
       "0it [00:00, ?it/s]"
      ]
     },
     "metadata": {},
     "output_type": "display_data"
    },
    {
     "data": {
      "application/vnd.jupyter.widget-view+json": {
       "model_id": "c05adead62374eb887f236df07a97619",
       "version_major": 2,
       "version_minor": 0
      },
      "text/plain": [
       "0it [00:00, ?it/s]"
      ]
     },
     "metadata": {},
     "output_type": "display_data"
    },
    {
     "data": {
      "application/vnd.jupyter.widget-view+json": {
       "model_id": "5e53caa5e8b44120ae38c8bafd3b6d1e",
       "version_major": 2,
       "version_minor": 0
      },
      "text/plain": [
       "0it [00:00, ?it/s]"
      ]
     },
     "metadata": {},
     "output_type": "display_data"
    },
    {
     "data": {
      "application/vnd.jupyter.widget-view+json": {
       "model_id": "8e69a1288b694149b7c091b92a40ddef",
       "version_major": 2,
       "version_minor": 0
      },
      "text/plain": [
       "0it [00:00, ?it/s]"
      ]
     },
     "metadata": {},
     "output_type": "display_data"
    },
    {
     "data": {
      "application/vnd.jupyter.widget-view+json": {
       "model_id": "61a7ffd58329400d805f14fb54b45b2d",
       "version_major": 2,
       "version_minor": 0
      },
      "text/plain": [
       "0it [00:00, ?it/s]"
      ]
     },
     "metadata": {},
     "output_type": "display_data"
    },
    {
     "name": "stdout",
     "output_type": "stream",
     "text": [
      "[{'mse_loss': [0.008005714, 0.005836477, 0.0039045233, 0.0019088578, 0.0007811298, 0.00040171767, 0.00029834209, 0.00023825995, 0.00023391756, 0.00021466777], 'bpp_loss': [0.021601094, 0.021601094, 0.021601094, 0.021601094, 0.021601094, 0.021601094, 0.021601094, 0.021601094, 0.021601094, 0.021601094], 'loss_classic': [5.227317, 3.8167703, 2.5605175, 1.262836, 0.52953076, 0.28281802, 0.21559805, 0.17652963, 0.173706, 0.16118883], 'PSNR': [21.251162, 22.939987, 24.671581, 27.543129, 31.24834, 34.062748, 35.331566, 36.318596, 36.622314, 37.11691], 'SPAQ': [-0.37175727, -0.37535515, -0.3848579, -0.40041706, -0.40631157, -0.40971354, -0.41467756, -0.42219055, -0.43179822, -0.4309017], 'loss': [-743.5066, -750.70447, -769.712, -800.8323, -812.6223, -819.4267, -829.35486, -844.3809, -863.5962, -861.80316], 'bitrate': [0.155771, 0.221365, 0.322596, 0.534575, 0.992612, 1.922656, 2.861131, 4.826075, 10.659053, 15.588253]}]\n",
      "VSFA ./models_enhancement/model_vimeo11k_Linearity_2000mse_enhance_no_codec_fixed_direction.ckpt\n"
     ]
    },
    {
     "data": {
      "application/vnd.jupyter.widget-view+json": {
       "model_id": "0d3f71beddb2486d89dea1a3251fedf1",
       "version_major": 2,
       "version_minor": 0
      },
      "text/plain": [
       "0it [00:00, ?it/s]"
      ]
     },
     "metadata": {},
     "output_type": "display_data"
    },
    {
     "data": {
      "application/vnd.jupyter.widget-view+json": {
       "model_id": "114ff8c655df4f01995677eca1d259d1",
       "version_major": 2,
       "version_minor": 0
      },
      "text/plain": [
       "0it [00:00, ?it/s]"
      ]
     },
     "metadata": {},
     "output_type": "display_data"
    },
    {
     "data": {
      "application/vnd.jupyter.widget-view+json": {
       "model_id": "ab68f2a6113049fbaec2cff7dd3e7c9c",
       "version_major": 2,
       "version_minor": 0
      },
      "text/plain": [
       "0it [00:00, ?it/s]"
      ]
     },
     "metadata": {},
     "output_type": "display_data"
    },
    {
     "data": {
      "application/vnd.jupyter.widget-view+json": {
       "model_id": "69e334bba76b4184b067921d16260169",
       "version_major": 2,
       "version_minor": 0
      },
      "text/plain": [
       "0it [00:00, ?it/s]"
      ]
     },
     "metadata": {},
     "output_type": "display_data"
    },
    {
     "data": {
      "application/vnd.jupyter.widget-view+json": {
       "model_id": "c5fcc8ee1de842bd94b152d34525f718",
       "version_major": 2,
       "version_minor": 0
      },
      "text/plain": [
       "0it [00:00, ?it/s]"
      ]
     },
     "metadata": {},
     "output_type": "display_data"
    },
    {
     "data": {
      "application/vnd.jupyter.widget-view+json": {
       "model_id": "b185bd1d6943465d893c1b36c7473042",
       "version_major": 2,
       "version_minor": 0
      },
      "text/plain": [
       "0it [00:00, ?it/s]"
      ]
     },
     "metadata": {},
     "output_type": "display_data"
    },
    {
     "data": {
      "application/vnd.jupyter.widget-view+json": {
       "model_id": "446a5989832d442798cb26a64d20c73f",
       "version_major": 2,
       "version_minor": 0
      },
      "text/plain": [
       "0it [00:00, ?it/s]"
      ]
     },
     "metadata": {},
     "output_type": "display_data"
    },
    {
     "data": {
      "application/vnd.jupyter.widget-view+json": {
       "model_id": "c536942a96214cf7a36f0f41bfc9a7a0",
       "version_major": 2,
       "version_minor": 0
      },
      "text/plain": [
       "0it [00:00, ?it/s]"
      ]
     },
     "metadata": {},
     "output_type": "display_data"
    },
    {
     "data": {
      "application/vnd.jupyter.widget-view+json": {
       "model_id": "47abadb22f7c4a58a17a279047d2dff4",
       "version_major": 2,
       "version_minor": 0
      },
      "text/plain": [
       "0it [00:00, ?it/s]"
      ]
     },
     "metadata": {},
     "output_type": "display_data"
    },
    {
     "data": {
      "application/vnd.jupyter.widget-view+json": {
       "model_id": "42039ebf9bf6423ea239bd479750dde5",
       "version_major": 2,
       "version_minor": 0
      },
      "text/plain": [
       "0it [00:00, ?it/s]"
      ]
     },
     "metadata": {},
     "output_type": "display_data"
    },
    {
     "data": {
      "application/vnd.jupyter.widget-view+json": {
       "model_id": "d9ecf3e00ff547caa72e5c942b8c281c",
       "version_major": 2,
       "version_minor": 0
      },
      "text/plain": [
       "0it [00:00, ?it/s]"
      ]
     },
     "metadata": {},
     "output_type": "display_data"
    },
    {
     "data": {
      "application/vnd.jupyter.widget-view+json": {
       "model_id": "dd865be656e24aa6aa366c9fca8bbe29",
       "version_major": 2,
       "version_minor": 0
      },
      "text/plain": [
       "0it [00:00, ?it/s]"
      ]
     },
     "metadata": {},
     "output_type": "display_data"
    },
    {
     "data": {
      "application/vnd.jupyter.widget-view+json": {
       "model_id": "80ea9c31ebcf4545b5ce0327b717703e",
       "version_major": 2,
       "version_minor": 0
      },
      "text/plain": [
       "0it [00:00, ?it/s]"
      ]
     },
     "metadata": {},
     "output_type": "display_data"
    },
    {
     "data": {
      "application/vnd.jupyter.widget-view+json": {
       "model_id": "3b5786136ff546a0b4ae47b5d32a1390",
       "version_major": 2,
       "version_minor": 0
      },
      "text/plain": [
       "0it [00:00, ?it/s]"
      ]
     },
     "metadata": {},
     "output_type": "display_data"
    },
    {
     "data": {
      "application/vnd.jupyter.widget-view+json": {
       "model_id": "3e8459124a0e43d28b6809f6a2e3a1e8",
       "version_major": 2,
       "version_minor": 0
      },
      "text/plain": [
       "0it [00:00, ?it/s]"
      ]
     },
     "metadata": {},
     "output_type": "display_data"
    },
    {
     "data": {
      "application/vnd.jupyter.widget-view+json": {
       "model_id": "6e729a68cd81400f91d17d4e7f0fe604",
       "version_major": 2,
       "version_minor": 0
      },
      "text/plain": [
       "0it [00:00, ?it/s]"
      ]
     },
     "metadata": {},
     "output_type": "display_data"
    },
    {
     "data": {
      "application/vnd.jupyter.widget-view+json": {
       "model_id": "bbf34ca973f74be4a2a6e6af7a0022a9",
       "version_major": 2,
       "version_minor": 0
      },
      "text/plain": [
       "0it [00:00, ?it/s]"
      ]
     },
     "metadata": {},
     "output_type": "display_data"
    },
    {
     "data": {
      "application/vnd.jupyter.widget-view+json": {
       "model_id": "4906a73ac117472991f9da5138931e55",
       "version_major": 2,
       "version_minor": 0
      },
      "text/plain": [
       "0it [00:00, ?it/s]"
      ]
     },
     "metadata": {},
     "output_type": "display_data"
    },
    {
     "data": {
      "application/vnd.jupyter.widget-view+json": {
       "model_id": "e0bb052848234ab7b81c920561946afb",
       "version_major": 2,
       "version_minor": 0
      },
      "text/plain": [
       "0it [00:00, ?it/s]"
      ]
     },
     "metadata": {},
     "output_type": "display_data"
    },
    {
     "data": {
      "application/vnd.jupyter.widget-view+json": {
       "model_id": "78c1a237bc3442d68c2e76e0af068d0e",
       "version_major": 2,
       "version_minor": 0
      },
      "text/plain": [
       "0it [00:00, ?it/s]"
      ]
     },
     "metadata": {},
     "output_type": "display_data"
    },
    {
     "name": "stdout",
     "output_type": "stream",
     "text": [
      "[{'mse_loss': [0.008005714, 0.0058364766, 0.0039045233, 0.0019088578, 0.0007811298, 0.00040171767, 0.00029834214, 0.00023825998, 0.00023391758, 0.00021466779], 'bpp_loss': [0.010800547, 0.010800547, 0.010800547, 0.010800547, 0.010800547, 0.010800547, 0.010800547, 0.010800547, 0.010800547, 0.010800547], 'loss_classic': [5.216516, 3.8059697, 2.549717, 1.2520354, 0.51873016, 0.27201748, 0.2047975, 0.16572909, 0.16290545, 0.15038827], 'PSNR': [21.152294, 22.840452, 24.598589, 27.532173, 31.24459, 34.059788, 35.32897, 36.314137, 36.610542, 37.10257], 'VSFA': [-0.32599804, -0.33668366, -0.3570915, -0.3783576, -0.41293895, -0.4287504, -0.4315833, -0.4374429, -0.4386651, -0.4402268], 'loss': [-651.98804, -673.3615, -714.1791, -756.71326, -825.8771, -857.50037, -863.1664, -874.8855, -877.32996, -880.45337], 'bitrate': [0.155771, 0.221365, 0.322596, 0.534575, 0.992612, 1.922656, 2.861131, 4.826075, 10.659053, 15.588253]}]\n"
     ]
    },
    {
     "data": {
      "application/vnd.jupyter.widget-view+json": {
       "model_id": "3e5b3fe6fd5a4af5a310d4d7c70d5e85",
       "version_major": 2,
       "version_minor": 0
      },
      "text/plain": [
       "0it [00:00, ?it/s]"
      ]
     },
     "metadata": {},
     "output_type": "display_data"
    },
    {
     "name": "stdout",
     "output_type": "stream",
     "text": [
      "Linearity ./models_enhancement/model_vimeo11k_MDTVSFA_2000mse_enhance_cheng2020_attn_quality2.ckpt\n"
     ]
    },
    {
     "data": {
      "application/vnd.jupyter.widget-view+json": {
       "model_id": "b0a0716fbc894074b37a5f1c9d26b076",
       "version_major": 2,
       "version_minor": 0
      },
      "text/plain": [
       "0it [00:00, ?it/s]"
      ]
     },
     "metadata": {},
     "output_type": "display_data"
    },
    {
     "data": {
      "application/vnd.jupyter.widget-view+json": {
       "model_id": "c09bf18f4b7b47f793aa6a34b858ee3e",
       "version_major": 2,
       "version_minor": 0
      },
      "text/plain": [
       "0it [00:00, ?it/s]"
      ]
     },
     "metadata": {},
     "output_type": "display_data"
    },
    {
     "data": {
      "application/vnd.jupyter.widget-view+json": {
       "model_id": "8a9dd820fc6e49f3b4503f39c3eb7df6",
       "version_major": 2,
       "version_minor": 0
      },
      "text/plain": [
       "0it [00:00, ?it/s]"
      ]
     },
     "metadata": {},
     "output_type": "display_data"
    },
    {
     "data": {
      "application/vnd.jupyter.widget-view+json": {
       "model_id": "8a85a4ddec5d40e49c297ded68a73979",
       "version_major": 2,
       "version_minor": 0
      },
      "text/plain": [
       "0it [00:00, ?it/s]"
      ]
     },
     "metadata": {},
     "output_type": "display_data"
    },
    {
     "data": {
      "application/vnd.jupyter.widget-view+json": {
       "model_id": "2926f869aaf34b2696d1c006b67a32a5",
       "version_major": 2,
       "version_minor": 0
      },
      "text/plain": [
       "0it [00:00, ?it/s]"
      ]
     },
     "metadata": {},
     "output_type": "display_data"
    },
    {
     "data": {
      "application/vnd.jupyter.widget-view+json": {
       "model_id": "ec2dcafc44694f2ca2c316eb44df3938",
       "version_major": 2,
       "version_minor": 0
      },
      "text/plain": [
       "0it [00:00, ?it/s]"
      ]
     },
     "metadata": {},
     "output_type": "display_data"
    },
    {
     "data": {
      "application/vnd.jupyter.widget-view+json": {
       "model_id": "0bf0f1d1d559473983eb55509383d907",
       "version_major": 2,
       "version_minor": 0
      },
      "text/plain": [
       "0it [00:00, ?it/s]"
      ]
     },
     "metadata": {},
     "output_type": "display_data"
    },
    {
     "data": {
      "application/vnd.jupyter.widget-view+json": {
       "model_id": "ec039289bff3419eaa46e5ccd9b1b142",
       "version_major": 2,
       "version_minor": 0
      },
      "text/plain": [
       "0it [00:00, ?it/s]"
      ]
     },
     "metadata": {},
     "output_type": "display_data"
    },
    {
     "data": {
      "application/vnd.jupyter.widget-view+json": {
       "model_id": "f1ea9f0049ef434f9fd21f8a756454cc",
       "version_major": 2,
       "version_minor": 0
      },
      "text/plain": [
       "0it [00:00, ?it/s]"
      ]
     },
     "metadata": {},
     "output_type": "display_data"
    },
    {
     "data": {
      "application/vnd.jupyter.widget-view+json": {
       "model_id": "f30b2ff0b8ec4380a1d443d44d483670",
       "version_major": 2,
       "version_minor": 0
      },
      "text/plain": [
       "0it [00:00, ?it/s]"
      ]
     },
     "metadata": {},
     "output_type": "display_data"
    },
    {
     "data": {
      "application/vnd.jupyter.widget-view+json": {
       "model_id": "7f75596ccb994fc999b3ec56c1d3a67d",
       "version_major": 2,
       "version_minor": 0
      },
      "text/plain": [
       "0it [00:00, ?it/s]"
      ]
     },
     "metadata": {},
     "output_type": "display_data"
    },
    {
     "data": {
      "application/vnd.jupyter.widget-view+json": {
       "model_id": "132a22eaadea44bca9a01eb5de8c6757",
       "version_major": 2,
       "version_minor": 0
      },
      "text/plain": [
       "0it [00:00, ?it/s]"
      ]
     },
     "metadata": {},
     "output_type": "display_data"
    },
    {
     "data": {
      "application/vnd.jupyter.widget-view+json": {
       "model_id": "244ffe2b742544e39d16cc4385528833",
       "version_major": 2,
       "version_minor": 0
      },
      "text/plain": [
       "0it [00:00, ?it/s]"
      ]
     },
     "metadata": {},
     "output_type": "display_data"
    },
    {
     "data": {
      "application/vnd.jupyter.widget-view+json": {
       "model_id": "520e10bc3d494e7da7048c67d2ebb0c4",
       "version_major": 2,
       "version_minor": 0
      },
      "text/plain": [
       "0it [00:00, ?it/s]"
      ]
     },
     "metadata": {},
     "output_type": "display_data"
    },
    {
     "data": {
      "application/vnd.jupyter.widget-view+json": {
       "model_id": "7745bc26e9a249019ca45867a58ec19a",
       "version_major": 2,
       "version_minor": 0
      },
      "text/plain": [
       "0it [00:00, ?it/s]"
      ]
     },
     "metadata": {},
     "output_type": "display_data"
    },
    {
     "data": {
      "application/vnd.jupyter.widget-view+json": {
       "model_id": "8980307e7339497a8e77200dc68fb07b",
       "version_major": 2,
       "version_minor": 0
      },
      "text/plain": [
       "0it [00:00, ?it/s]"
      ]
     },
     "metadata": {},
     "output_type": "display_data"
    },
    {
     "data": {
      "application/vnd.jupyter.widget-view+json": {
       "model_id": "d3158ea0d97e4136b285a95469051c21",
       "version_major": 2,
       "version_minor": 0
      },
      "text/plain": [
       "0it [00:00, ?it/s]"
      ]
     },
     "metadata": {},
     "output_type": "display_data"
    },
    {
     "data": {
      "application/vnd.jupyter.widget-view+json": {
       "model_id": "4282b3482b3e4855bb279a82d73dc4bb",
       "version_major": 2,
       "version_minor": 0
      },
      "text/plain": [
       "0it [00:00, ?it/s]"
      ]
     },
     "metadata": {},
     "output_type": "display_data"
    },
    {
     "data": {
      "application/vnd.jupyter.widget-view+json": {
       "model_id": "15a89ed9c5814014a443eb266d6a8a8e",
       "version_major": 2,
       "version_minor": 0
      },
      "text/plain": [
       "0it [00:00, ?it/s]"
      ]
     },
     "metadata": {},
     "output_type": "display_data"
    },
    {
     "data": {
      "application/vnd.jupyter.widget-view+json": {
       "model_id": "182e6e422375435db2d0ad773bcf2d55",
       "version_major": 2,
       "version_minor": 0
      },
      "text/plain": [
       "0it [00:00, ?it/s]"
      ]
     },
     "metadata": {},
     "output_type": "display_data"
    },
    {
     "name": "stdout",
     "output_type": "stream",
     "text": [
      "[{'mse_loss': [0.004442066, 0.0031226422, 0.002264556, 0.0011454237, 0.0005163242, 0.0002973791, 0.00024417537, 0.00022025252, 0.00021866336, 0.0002121516], 'bpp_loss': [0.021601094, 0.021601094, 0.021601094, 0.021601094, 0.021601094, 0.021601094, 0.021601094, 0.021601094, 0.021601094, 0.021601094], 'loss_classic': [2.9100544, 2.0520992, 1.4941287, 0.76641285, 0.35734087, 0.21497184, 0.18037614, 0.16482031, 0.16378695, 0.15955266], 'PSNR': [23.573553, 25.153934, 26.628002, 29.551586, 32.916775, 35.291523, 36.1472, 36.61695, 36.79435, 37.054665], 'Linearity': [0.6248872, 0.59732383, 0.52018815, 0.40713108, 0.31191772, 0.25646725, 0.24318767, 0.25791168, 0.2664888, 0.27054268], 'loss': [1249.7788, 1194.6509, 1040.3787, 814.2633, 623.83594, 512.9348, 486.3756, 515.8236, 532.97784, 541.0856], 'bitrate': [0.091509, 0.172956, 0.272343, 0.4618, 0.832178, 1.572128, 2.4494, 4.411953, 9.494778, 14.538178]}]\n",
      "MDTVSFA ./models_enhancement/model_vimeo11k_PAC2PIC_2000mse_enhance_cheng2020_attn_quality2_fixed_direction.ckpt\n"
     ]
    },
    {
     "data": {
      "application/vnd.jupyter.widget-view+json": {
       "model_id": "7b476f82f0504fbca22c858a6149d08a",
       "version_major": 2,
       "version_minor": 0
      },
      "text/plain": [
       "0it [00:00, ?it/s]"
      ]
     },
     "metadata": {},
     "output_type": "display_data"
    },
    {
     "data": {
      "application/vnd.jupyter.widget-view+json": {
       "model_id": "767bb3669ed54f828dd4f948b860744d",
       "version_major": 2,
       "version_minor": 0
      },
      "text/plain": [
       "0it [00:00, ?it/s]"
      ]
     },
     "metadata": {},
     "output_type": "display_data"
    },
    {
     "data": {
      "application/vnd.jupyter.widget-view+json": {
       "model_id": "10973228f6ca4366b8e09086bb5fc518",
       "version_major": 2,
       "version_minor": 0
      },
      "text/plain": [
       "0it [00:00, ?it/s]"
      ]
     },
     "metadata": {},
     "output_type": "display_data"
    },
    {
     "data": {
      "application/vnd.jupyter.widget-view+json": {
       "model_id": "ad9bc7077e8d48d79f71b5cbfa762d66",
       "version_major": 2,
       "version_minor": 0
      },
      "text/plain": [
       "0it [00:00, ?it/s]"
      ]
     },
     "metadata": {},
     "output_type": "display_data"
    },
    {
     "data": {
      "application/vnd.jupyter.widget-view+json": {
       "model_id": "cb50242800a6459d890acffeadc5e5c6",
       "version_major": 2,
       "version_minor": 0
      },
      "text/plain": [
       "0it [00:00, ?it/s]"
      ]
     },
     "metadata": {},
     "output_type": "display_data"
    },
    {
     "data": {
      "application/vnd.jupyter.widget-view+json": {
       "model_id": "757eb1b1b04a4e75aec08a4d5f7810a5",
       "version_major": 2,
       "version_minor": 0
      },
      "text/plain": [
       "0it [00:00, ?it/s]"
      ]
     },
     "metadata": {},
     "output_type": "display_data"
    },
    {
     "data": {
      "application/vnd.jupyter.widget-view+json": {
       "model_id": "843180cd65b244e3ae412dc675385632",
       "version_major": 2,
       "version_minor": 0
      },
      "text/plain": [
       "0it [00:00, ?it/s]"
      ]
     },
     "metadata": {},
     "output_type": "display_data"
    },
    {
     "data": {
      "application/vnd.jupyter.widget-view+json": {
       "model_id": "b328de056516460fb0ed242b183145c4",
       "version_major": 2,
       "version_minor": 0
      },
      "text/plain": [
       "0it [00:00, ?it/s]"
      ]
     },
     "metadata": {},
     "output_type": "display_data"
    },
    {
     "data": {
      "application/vnd.jupyter.widget-view+json": {
       "model_id": "660a7b65c22d4e618f6db25e2f326f11",
       "version_major": 2,
       "version_minor": 0
      },
      "text/plain": [
       "0it [00:00, ?it/s]"
      ]
     },
     "metadata": {},
     "output_type": "display_data"
    },
    {
     "data": {
      "application/vnd.jupyter.widget-view+json": {
       "model_id": "a574cd093ec9432b83c4e922d8a74690",
       "version_major": 2,
       "version_minor": 0
      },
      "text/plain": [
       "0it [00:00, ?it/s]"
      ]
     },
     "metadata": {},
     "output_type": "display_data"
    },
    {
     "data": {
      "application/vnd.jupyter.widget-view+json": {
       "model_id": "f16ab24b01b24c55aff070dd2e0e1f11",
       "version_major": 2,
       "version_minor": 0
      },
      "text/plain": [
       "0it [00:00, ?it/s]"
      ]
     },
     "metadata": {},
     "output_type": "display_data"
    },
    {
     "data": {
      "application/vnd.jupyter.widget-view+json": {
       "model_id": "01b6fd6e339e4e64ae6b164566349888",
       "version_major": 2,
       "version_minor": 0
      },
      "text/plain": [
       "0it [00:00, ?it/s]"
      ]
     },
     "metadata": {},
     "output_type": "display_data"
    },
    {
     "data": {
      "application/vnd.jupyter.widget-view+json": {
       "model_id": "f109e98196974bf8b5c1646f0a59fa75",
       "version_major": 2,
       "version_minor": 0
      },
      "text/plain": [
       "0it [00:00, ?it/s]"
      ]
     },
     "metadata": {},
     "output_type": "display_data"
    },
    {
     "data": {
      "application/vnd.jupyter.widget-view+json": {
       "model_id": "3f2e0c74c0c14ff4a810c9587d565fb1",
       "version_major": 2,
       "version_minor": 0
      },
      "text/plain": [
       "0it [00:00, ?it/s]"
      ]
     },
     "metadata": {},
     "output_type": "display_data"
    },
    {
     "data": {
      "application/vnd.jupyter.widget-view+json": {
       "model_id": "918f664fb038495a9face3ae0ffd0389",
       "version_major": 2,
       "version_minor": 0
      },
      "text/plain": [
       "0it [00:00, ?it/s]"
      ]
     },
     "metadata": {},
     "output_type": "display_data"
    },
    {
     "data": {
      "application/vnd.jupyter.widget-view+json": {
       "model_id": "a504fb3e607340f48d6e6c4219927e81",
       "version_major": 2,
       "version_minor": 0
      },
      "text/plain": [
       "0it [00:00, ?it/s]"
      ]
     },
     "metadata": {},
     "output_type": "display_data"
    },
    {
     "data": {
      "application/vnd.jupyter.widget-view+json": {
       "model_id": "41e0de6b89d848f182a9c382c9fb4c57",
       "version_major": 2,
       "version_minor": 0
      },
      "text/plain": [
       "0it [00:00, ?it/s]"
      ]
     },
     "metadata": {},
     "output_type": "display_data"
    },
    {
     "data": {
      "application/vnd.jupyter.widget-view+json": {
       "model_id": "f732fa1b009f4d9bb9206cfbb11b1baa",
       "version_major": 2,
       "version_minor": 0
      },
      "text/plain": [
       "0it [00:00, ?it/s]"
      ]
     },
     "metadata": {},
     "output_type": "display_data"
    },
    {
     "data": {
      "application/vnd.jupyter.widget-view+json": {
       "model_id": "67413d54106442e59d6db3460e9fcf9f",
       "version_major": 2,
       "version_minor": 0
      },
      "text/plain": [
       "0it [00:00, ?it/s]"
      ]
     },
     "metadata": {},
     "output_type": "display_data"
    },
    {
     "data": {
      "application/vnd.jupyter.widget-view+json": {
       "model_id": "58ae9d3fd4b1400c85977d4d01683fd4",
       "version_major": 2,
       "version_minor": 0
      },
      "text/plain": [
       "0it [00:00, ?it/s]"
      ]
     },
     "metadata": {},
     "output_type": "display_data"
    },
    {
     "name": "stdout",
     "output_type": "stream",
     "text": [
      "[{'mse_loss': [0.004442066, 0.0031226422, 0.002264556, 0.0011454237, 0.0005163242, 0.0002973791, 0.00024417537, 0.00022025252, 0.00021866336, 0.0002121516], 'bpp_loss': [0.021601094, 0.021601094, 0.021601094, 0.021601094, 0.021601094, 0.021601094, 0.021601094, 0.021601094, 0.021601094, 0.021601094], 'loss_classic': [2.9100544, 2.0520992, 1.4941287, 0.76641285, 0.35734087, 0.21497184, 0.18037614, 0.16482031, 0.16378695, 0.15955266], 'PSNR': [23.573553, 25.153934, 26.628002, 29.551586, 32.916775, 35.291523, 36.1472, 36.61695, 36.79435, 37.054665], 'MDTVSFA': [-0.41667187, -0.43087503, -0.4498806, -0.4727012, -0.49057022, -0.5045395, -0.5089867, -0.51231205, -0.51345927, -0.51483667], 'loss': [-833.33923, -861.747, -899.7589, -945.40125, -981.1399, -1009.07874, -1017.97314, -1024.6238, -1026.9183, -1029.6731], 'bitrate': [0.091509, 0.172956, 0.272343, 0.4618, 0.832178, 1.572128, 2.4494, 4.411953, 9.494778, 14.538178]}]\n",
      "PAC2PIQ ./models_enhancement/model_vimeo11k_SPAQ_2000mse_enhance_cheng2020_attn_quality2_fixed_direction.ckpt\n"
     ]
    },
    {
     "data": {
      "application/vnd.jupyter.widget-view+json": {
       "model_id": "37c4da6093384cf4a4afbb38c38cab23",
       "version_major": 2,
       "version_minor": 0
      },
      "text/plain": [
       "0it [00:00, ?it/s]"
      ]
     },
     "metadata": {},
     "output_type": "display_data"
    },
    {
     "data": {
      "application/vnd.jupyter.widget-view+json": {
       "model_id": "6f3d89973f9742bcb6e2caa1fca1281b",
       "version_major": 2,
       "version_minor": 0
      },
      "text/plain": [
       "0it [00:00, ?it/s]"
      ]
     },
     "metadata": {},
     "output_type": "display_data"
    },
    {
     "data": {
      "application/vnd.jupyter.widget-view+json": {
       "model_id": "4cab3c3a82bc4fa0976963db6d409f02",
       "version_major": 2,
       "version_minor": 0
      },
      "text/plain": [
       "0it [00:00, ?it/s]"
      ]
     },
     "metadata": {},
     "output_type": "display_data"
    },
    {
     "data": {
      "application/vnd.jupyter.widget-view+json": {
       "model_id": "d33caf4d8ab840ec999f81414c256eaa",
       "version_major": 2,
       "version_minor": 0
      },
      "text/plain": [
       "0it [00:00, ?it/s]"
      ]
     },
     "metadata": {},
     "output_type": "display_data"
    },
    {
     "data": {
      "application/vnd.jupyter.widget-view+json": {
       "model_id": "9cf3de99963c4282a0d7e4e3531817da",
       "version_major": 2,
       "version_minor": 0
      },
      "text/plain": [
       "0it [00:00, ?it/s]"
      ]
     },
     "metadata": {},
     "output_type": "display_data"
    },
    {
     "data": {
      "application/vnd.jupyter.widget-view+json": {
       "model_id": "59fabf0d2be84f28a525a8332ca0bfc7",
       "version_major": 2,
       "version_minor": 0
      },
      "text/plain": [
       "0it [00:00, ?it/s]"
      ]
     },
     "metadata": {},
     "output_type": "display_data"
    },
    {
     "data": {
      "application/vnd.jupyter.widget-view+json": {
       "model_id": "be470ec5657441b0aea31bafe84e3eb1",
       "version_major": 2,
       "version_minor": 0
      },
      "text/plain": [
       "0it [00:00, ?it/s]"
      ]
     },
     "metadata": {},
     "output_type": "display_data"
    },
    {
     "data": {
      "application/vnd.jupyter.widget-view+json": {
       "model_id": "7cb4df77ff8a41239db07a36132c7722",
       "version_major": 2,
       "version_minor": 0
      },
      "text/plain": [
       "0it [00:00, ?it/s]"
      ]
     },
     "metadata": {},
     "output_type": "display_data"
    },
    {
     "data": {
      "application/vnd.jupyter.widget-view+json": {
       "model_id": "263b4646c92e442e8afe1da72452fef0",
       "version_major": 2,
       "version_minor": 0
      },
      "text/plain": [
       "0it [00:00, ?it/s]"
      ]
     },
     "metadata": {},
     "output_type": "display_data"
    },
    {
     "data": {
      "application/vnd.jupyter.widget-view+json": {
       "model_id": "5f1ae1ef95a34bb7b7a1b103940e1222",
       "version_major": 2,
       "version_minor": 0
      },
      "text/plain": [
       "0it [00:00, ?it/s]"
      ]
     },
     "metadata": {},
     "output_type": "display_data"
    },
    {
     "data": {
      "application/vnd.jupyter.widget-view+json": {
       "model_id": "ec74d8a196304a74bd6641477aead0ed",
       "version_major": 2,
       "version_minor": 0
      },
      "text/plain": [
       "0it [00:00, ?it/s]"
      ]
     },
     "metadata": {},
     "output_type": "display_data"
    },
    {
     "data": {
      "application/vnd.jupyter.widget-view+json": {
       "model_id": "6d6d80a5220142ad9724fa0955798c13",
       "version_major": 2,
       "version_minor": 0
      },
      "text/plain": [
       "0it [00:00, ?it/s]"
      ]
     },
     "metadata": {},
     "output_type": "display_data"
    },
    {
     "data": {
      "application/vnd.jupyter.widget-view+json": {
       "model_id": "0f2845a6a7d54d52b2f98a81c91e8736",
       "version_major": 2,
       "version_minor": 0
      },
      "text/plain": [
       "0it [00:00, ?it/s]"
      ]
     },
     "metadata": {},
     "output_type": "display_data"
    },
    {
     "data": {
      "application/vnd.jupyter.widget-view+json": {
       "model_id": "c5185a3138ff4b41a53c71be68c983f9",
       "version_major": 2,
       "version_minor": 0
      },
      "text/plain": [
       "0it [00:00, ?it/s]"
      ]
     },
     "metadata": {},
     "output_type": "display_data"
    },
    {
     "data": {
      "application/vnd.jupyter.widget-view+json": {
       "model_id": "3c03dbb59f0349b78411808246717bc4",
       "version_major": 2,
       "version_minor": 0
      },
      "text/plain": [
       "0it [00:00, ?it/s]"
      ]
     },
     "metadata": {},
     "output_type": "display_data"
    },
    {
     "data": {
      "application/vnd.jupyter.widget-view+json": {
       "model_id": "9ae55cb644cb4a18b034a2f251ec5844",
       "version_major": 2,
       "version_minor": 0
      },
      "text/plain": [
       "0it [00:00, ?it/s]"
      ]
     },
     "metadata": {},
     "output_type": "display_data"
    },
    {
     "data": {
      "application/vnd.jupyter.widget-view+json": {
       "model_id": "97dd9e57a15241d3815f12fb048cfe88",
       "version_major": 2,
       "version_minor": 0
      },
      "text/plain": [
       "0it [00:00, ?it/s]"
      ]
     },
     "metadata": {},
     "output_type": "display_data"
    },
    {
     "data": {
      "application/vnd.jupyter.widget-view+json": {
       "model_id": "756a7acf6fd340648d20961881b2a15b",
       "version_major": 2,
       "version_minor": 0
      },
      "text/plain": [
       "0it [00:00, ?it/s]"
      ]
     },
     "metadata": {},
     "output_type": "display_data"
    },
    {
     "data": {
      "application/vnd.jupyter.widget-view+json": {
       "model_id": "32befd162519475a9ef5f3b910025fac",
       "version_major": 2,
       "version_minor": 0
      },
      "text/plain": [
       "0it [00:00, ?it/s]"
      ]
     },
     "metadata": {},
     "output_type": "display_data"
    },
    {
     "data": {
      "application/vnd.jupyter.widget-view+json": {
       "model_id": "158838e17e064015ae4863d868f2f46c",
       "version_major": 2,
       "version_minor": 0
      },
      "text/plain": [
       "0it [00:00, ?it/s]"
      ]
     },
     "metadata": {},
     "output_type": "display_data"
    },
    {
     "name": "stdout",
     "output_type": "stream",
     "text": [
      "[{'mse_loss': [0.004442066, 0.0031226422, 0.002264556, 0.0011454237, 0.0005163242, 0.0002973791, 0.00024417537, 0.00022025252, 0.00021866336, 0.0002121516], 'bpp_loss': [0.021601094, 0.021601094, 0.021601094, 0.021601094, 0.021601094, 0.021601094, 0.021601094, 0.021601094, 0.021601094, 0.021601094], 'loss_classic': [2.9100544, 2.0520992, 1.4941287, 0.76641285, 0.35734087, 0.21497184, 0.18037614, 0.16482031, 0.16378695, 0.15955266], 'PSNR': [23.573553, 25.153934, 26.628002, 29.551586, 32.916775, 35.291523, 36.1472, 36.61695, 36.79435, 37.054665], 'PAC2PIQ': [-0.45357454, -0.50613236, -0.5375508, -0.54988146, -0.56283355, -0.5731224, -0.5800121, -0.57736856, -0.57592607, -0.573233], 'loss': [-907.14465, -1012.2616, -1075.0994, -1099.7617, -1125.6666, -1146.2445, -1160.0239, -1154.7369, -1151.8518, -1146.4658], 'bitrate': [0.091509, 0.172956, 0.272343, 0.4618, 0.832178, 1.572128, 2.4494, 4.411953, 9.494778, 14.538178]}]\n",
      "SPAQ ./models_enhancement/model_vimeo11k_VSFA_2000mse_enhance_cheng2020_attn_quality2_fixed_direction.ckpt\n"
     ]
    },
    {
     "data": {
      "application/vnd.jupyter.widget-view+json": {
       "model_id": "d46fe3fd588c43ca9548e2904282e829",
       "version_major": 2,
       "version_minor": 0
      },
      "text/plain": [
       "0it [00:00, ?it/s]"
      ]
     },
     "metadata": {},
     "output_type": "display_data"
    },
    {
     "data": {
      "application/vnd.jupyter.widget-view+json": {
       "model_id": "8f647c4d72684878885507450880bf3e",
       "version_major": 2,
       "version_minor": 0
      },
      "text/plain": [
       "0it [00:00, ?it/s]"
      ]
     },
     "metadata": {},
     "output_type": "display_data"
    },
    {
     "data": {
      "application/vnd.jupyter.widget-view+json": {
       "model_id": "87f885cbdf014ac5a361feb28cd53cf4",
       "version_major": 2,
       "version_minor": 0
      },
      "text/plain": [
       "0it [00:00, ?it/s]"
      ]
     },
     "metadata": {},
     "output_type": "display_data"
    },
    {
     "data": {
      "application/vnd.jupyter.widget-view+json": {
       "model_id": "db6ec2a7fc0747548fb5d3689abf019e",
       "version_major": 2,
       "version_minor": 0
      },
      "text/plain": [
       "0it [00:00, ?it/s]"
      ]
     },
     "metadata": {},
     "output_type": "display_data"
    },
    {
     "data": {
      "application/vnd.jupyter.widget-view+json": {
       "model_id": "cc75dd251dea4b6387570d5c5759ea37",
       "version_major": 2,
       "version_minor": 0
      },
      "text/plain": [
       "0it [00:00, ?it/s]"
      ]
     },
     "metadata": {},
     "output_type": "display_data"
    },
    {
     "data": {
      "application/vnd.jupyter.widget-view+json": {
       "model_id": "41d677345c284fc186f57b53ace459d1",
       "version_major": 2,
       "version_minor": 0
      },
      "text/plain": [
       "0it [00:00, ?it/s]"
      ]
     },
     "metadata": {},
     "output_type": "display_data"
    },
    {
     "data": {
      "application/vnd.jupyter.widget-view+json": {
       "model_id": "6a8e50c833034995b5f88e984a333a8d",
       "version_major": 2,
       "version_minor": 0
      },
      "text/plain": [
       "0it [00:00, ?it/s]"
      ]
     },
     "metadata": {},
     "output_type": "display_data"
    },
    {
     "data": {
      "application/vnd.jupyter.widget-view+json": {
       "model_id": "2480ffd5e1ea4e71a986f61cb7f7c7d5",
       "version_major": 2,
       "version_minor": 0
      },
      "text/plain": [
       "0it [00:00, ?it/s]"
      ]
     },
     "metadata": {},
     "output_type": "display_data"
    },
    {
     "data": {
      "application/vnd.jupyter.widget-view+json": {
       "model_id": "5eb5afdc0e3b4985a6f7373701d4b604",
       "version_major": 2,
       "version_minor": 0
      },
      "text/plain": [
       "0it [00:00, ?it/s]"
      ]
     },
     "metadata": {},
     "output_type": "display_data"
    },
    {
     "data": {
      "application/vnd.jupyter.widget-view+json": {
       "model_id": "9e0ae4f02c434cfeb2d5ac4e8ff6ecac",
       "version_major": 2,
       "version_minor": 0
      },
      "text/plain": [
       "0it [00:00, ?it/s]"
      ]
     },
     "metadata": {},
     "output_type": "display_data"
    },
    {
     "data": {
      "application/vnd.jupyter.widget-view+json": {
       "model_id": "edb10ee0fde74f93a55b5dba7d1a4b2d",
       "version_major": 2,
       "version_minor": 0
      },
      "text/plain": [
       "0it [00:00, ?it/s]"
      ]
     },
     "metadata": {},
     "output_type": "display_data"
    },
    {
     "data": {
      "application/vnd.jupyter.widget-view+json": {
       "model_id": "84de7e5672c74cc3ad739ba24c9afcf1",
       "version_major": 2,
       "version_minor": 0
      },
      "text/plain": [
       "0it [00:00, ?it/s]"
      ]
     },
     "metadata": {},
     "output_type": "display_data"
    },
    {
     "data": {
      "application/vnd.jupyter.widget-view+json": {
       "model_id": "2338cde330d64d8aba15ce5729ba411b",
       "version_major": 2,
       "version_minor": 0
      },
      "text/plain": [
       "0it [00:00, ?it/s]"
      ]
     },
     "metadata": {},
     "output_type": "display_data"
    },
    {
     "data": {
      "application/vnd.jupyter.widget-view+json": {
       "model_id": "825714371209473194530fde337edd1a",
       "version_major": 2,
       "version_minor": 0
      },
      "text/plain": [
       "0it [00:00, ?it/s]"
      ]
     },
     "metadata": {},
     "output_type": "display_data"
    },
    {
     "data": {
      "application/vnd.jupyter.widget-view+json": {
       "model_id": "cfcf8dfe38b14f598efd1277f2015293",
       "version_major": 2,
       "version_minor": 0
      },
      "text/plain": [
       "0it [00:00, ?it/s]"
      ]
     },
     "metadata": {},
     "output_type": "display_data"
    },
    {
     "data": {
      "application/vnd.jupyter.widget-view+json": {
       "model_id": "22f4580080bf4087b04621500c59a89a",
       "version_major": 2,
       "version_minor": 0
      },
      "text/plain": [
       "0it [00:00, ?it/s]"
      ]
     },
     "metadata": {},
     "output_type": "display_data"
    },
    {
     "data": {
      "application/vnd.jupyter.widget-view+json": {
       "model_id": "6dbfb2d9519c4511a3d3af44e26fc77c",
       "version_major": 2,
       "version_minor": 0
      },
      "text/plain": [
       "0it [00:00, ?it/s]"
      ]
     },
     "metadata": {},
     "output_type": "display_data"
    },
    {
     "data": {
      "application/vnd.jupyter.widget-view+json": {
       "model_id": "f6cd35b851da49139c3b930ebba12f89",
       "version_major": 2,
       "version_minor": 0
      },
      "text/plain": [
       "0it [00:00, ?it/s]"
      ]
     },
     "metadata": {},
     "output_type": "display_data"
    },
    {
     "data": {
      "application/vnd.jupyter.widget-view+json": {
       "model_id": "b9cbd869f1714b58b092a9f7f7176035",
       "version_major": 2,
       "version_minor": 0
      },
      "text/plain": [
       "0it [00:00, ?it/s]"
      ]
     },
     "metadata": {},
     "output_type": "display_data"
    },
    {
     "data": {
      "application/vnd.jupyter.widget-view+json": {
       "model_id": "38a4858493284f4c94fc04be286c3aa1",
       "version_major": 2,
       "version_minor": 0
      },
      "text/plain": [
       "0it [00:00, ?it/s]"
      ]
     },
     "metadata": {},
     "output_type": "display_data"
    },
    {
     "name": "stdout",
     "output_type": "stream",
     "text": [
      "[{'mse_loss': [0.004442066, 0.0031226422, 0.002264556, 0.0011454237, 0.0005163242, 0.0002973791, 0.00024417537, 0.00022025252, 0.00021866336, 0.0002121516], 'bpp_loss': [0.021601094, 0.021601094, 0.021601094, 0.021601094, 0.021601094, 0.021601094, 0.021601094, 0.021601094, 0.021601094, 0.021601094], 'loss_classic': [2.9100544, 2.0520992, 1.4941287, 0.76641285, 0.35734087, 0.21497184, 0.18037614, 0.16482031, 0.16378695, 0.15955266], 'PSNR': [23.573553, 25.153934, 26.628002, 29.551586, 32.916775, 35.291523, 36.1472, 36.61695, 36.79435, 37.054665], 'SPAQ': [-0.37128073, -0.4159994, -0.41377747, -0.4299674, -0.4371606, -0.4442852, -0.45095205, -0.45789915, -0.44950694, -0.44682664], 'loss': [-742.557, -831.9957, -827.5527, -859.9336, -874.3208, -888.57007, -901.9039, -915.7981, -899.0136, -893.6531], 'bitrate': [0.091509, 0.172956, 0.272343, 0.4618, 0.832178, 1.572128, 2.4494, 4.411953, 9.494778, 14.538178]}]\n",
      "VSFA ./models_enhancement/model_vimeo11k_Linearity_2000mse_enhance_no_codec_fixed_direction.ckpt\n"
     ]
    },
    {
     "data": {
      "application/vnd.jupyter.widget-view+json": {
       "model_id": "9e317e3fc51745dab0ec7b43a44a98d6",
       "version_major": 2,
       "version_minor": 0
      },
      "text/plain": [
       "0it [00:00, ?it/s]"
      ]
     },
     "metadata": {},
     "output_type": "display_data"
    },
    {
     "data": {
      "application/vnd.jupyter.widget-view+json": {
       "model_id": "fe722f2bf4b5483a9657610c6497d31a",
       "version_major": 2,
       "version_minor": 0
      },
      "text/plain": [
       "0it [00:00, ?it/s]"
      ]
     },
     "metadata": {},
     "output_type": "display_data"
    },
    {
     "data": {
      "application/vnd.jupyter.widget-view+json": {
       "model_id": "ce2310a71a0d4972a77e44ed533a37b7",
       "version_major": 2,
       "version_minor": 0
      },
      "text/plain": [
       "0it [00:00, ?it/s]"
      ]
     },
     "metadata": {},
     "output_type": "display_data"
    },
    {
     "data": {
      "application/vnd.jupyter.widget-view+json": {
       "model_id": "234308cdcd4344af9a416602ef648a67",
       "version_major": 2,
       "version_minor": 0
      },
      "text/plain": [
       "0it [00:00, ?it/s]"
      ]
     },
     "metadata": {},
     "output_type": "display_data"
    },
    {
     "data": {
      "application/vnd.jupyter.widget-view+json": {
       "model_id": "c43ea1f8e4f7427c82ee6ae1e648307b",
       "version_major": 2,
       "version_minor": 0
      },
      "text/plain": [
       "0it [00:00, ?it/s]"
      ]
     },
     "metadata": {},
     "output_type": "display_data"
    },
    {
     "data": {
      "application/vnd.jupyter.widget-view+json": {
       "model_id": "446555c9a9f449c3b2823ffdbd3cac0f",
       "version_major": 2,
       "version_minor": 0
      },
      "text/plain": [
       "0it [00:00, ?it/s]"
      ]
     },
     "metadata": {},
     "output_type": "display_data"
    },
    {
     "data": {
      "application/vnd.jupyter.widget-view+json": {
       "model_id": "c6a72590277f4fce93dcec8438e7c71d",
       "version_major": 2,
       "version_minor": 0
      },
      "text/plain": [
       "0it [00:00, ?it/s]"
      ]
     },
     "metadata": {},
     "output_type": "display_data"
    },
    {
     "data": {
      "application/vnd.jupyter.widget-view+json": {
       "model_id": "83d13ee65f6c4d53bc7150f3dd8b8df3",
       "version_major": 2,
       "version_minor": 0
      },
      "text/plain": [
       "0it [00:00, ?it/s]"
      ]
     },
     "metadata": {},
     "output_type": "display_data"
    },
    {
     "data": {
      "application/vnd.jupyter.widget-view+json": {
       "model_id": "df80421c91bc4a38872e8aa5dc53a7ab",
       "version_major": 2,
       "version_minor": 0
      },
      "text/plain": [
       "0it [00:00, ?it/s]"
      ]
     },
     "metadata": {},
     "output_type": "display_data"
    },
    {
     "data": {
      "application/vnd.jupyter.widget-view+json": {
       "model_id": "7d0530c111d048179475ed63c2f0474b",
       "version_major": 2,
       "version_minor": 0
      },
      "text/plain": [
       "0it [00:00, ?it/s]"
      ]
     },
     "metadata": {},
     "output_type": "display_data"
    },
    {
     "data": {
      "application/vnd.jupyter.widget-view+json": {
       "model_id": "a50ed3e670854a47a400f87c4ca68adc",
       "version_major": 2,
       "version_minor": 0
      },
      "text/plain": [
       "0it [00:00, ?it/s]"
      ]
     },
     "metadata": {},
     "output_type": "display_data"
    },
    {
     "data": {
      "application/vnd.jupyter.widget-view+json": {
       "model_id": "9b9566cb3de3415db2bfe3fb0701f6e4",
       "version_major": 2,
       "version_minor": 0
      },
      "text/plain": [
       "0it [00:00, ?it/s]"
      ]
     },
     "metadata": {},
     "output_type": "display_data"
    },
    {
     "data": {
      "application/vnd.jupyter.widget-view+json": {
       "model_id": "b9a253d0c36b47b986e5af520c20c487",
       "version_major": 2,
       "version_minor": 0
      },
      "text/plain": [
       "0it [00:00, ?it/s]"
      ]
     },
     "metadata": {},
     "output_type": "display_data"
    },
    {
     "data": {
      "application/vnd.jupyter.widget-view+json": {
       "model_id": "d48d98a161fa4f5480ddcdcfa6fb3667",
       "version_major": 2,
       "version_minor": 0
      },
      "text/plain": [
       "0it [00:00, ?it/s]"
      ]
     },
     "metadata": {},
     "output_type": "display_data"
    },
    {
     "data": {
      "application/vnd.jupyter.widget-view+json": {
       "model_id": "d45bed9ef3864e3098a37a01837bfdcc",
       "version_major": 2,
       "version_minor": 0
      },
      "text/plain": [
       "0it [00:00, ?it/s]"
      ]
     },
     "metadata": {},
     "output_type": "display_data"
    },
    {
     "data": {
      "application/vnd.jupyter.widget-view+json": {
       "model_id": "b8d44fdd74d944759b81467e4f9f20a1",
       "version_major": 2,
       "version_minor": 0
      },
      "text/plain": [
       "0it [00:00, ?it/s]"
      ]
     },
     "metadata": {},
     "output_type": "display_data"
    },
    {
     "data": {
      "application/vnd.jupyter.widget-view+json": {
       "model_id": "8f0b3e11bb8342ef9b376e706523561d",
       "version_major": 2,
       "version_minor": 0
      },
      "text/plain": [
       "0it [00:00, ?it/s]"
      ]
     },
     "metadata": {},
     "output_type": "display_data"
    },
    {
     "data": {
      "application/vnd.jupyter.widget-view+json": {
       "model_id": "dccc520a04bc46a6a64187db0c1a8626",
       "version_major": 2,
       "version_minor": 0
      },
      "text/plain": [
       "0it [00:00, ?it/s]"
      ]
     },
     "metadata": {},
     "output_type": "display_data"
    },
    {
     "data": {
      "application/vnd.jupyter.widget-view+json": {
       "model_id": "42c44e9f71c0421aab60cecf5b9b6fef",
       "version_major": 2,
       "version_minor": 0
      },
      "text/plain": [
       "0it [00:00, ?it/s]"
      ]
     },
     "metadata": {},
     "output_type": "display_data"
    },
    {
     "data": {
      "application/vnd.jupyter.widget-view+json": {
       "model_id": "ef6ce80190da41188c0c0b44d709b79e",
       "version_major": 2,
       "version_minor": 0
      },
      "text/plain": [
       "0it [00:00, ?it/s]"
      ]
     },
     "metadata": {},
     "output_type": "display_data"
    },
    {
     "name": "stdout",
     "output_type": "stream",
     "text": [
      "[{'mse_loss': [0.004442066, 0.0031226424, 0.002264556, 0.0011454236, 0.00051632413, 0.0002973791, 0.0002441754, 0.00022025258, 0.0002186634, 0.00021215164], 'bpp_loss': [0.010800547, 0.010800547, 0.010800547, 0.010800547, 0.010800547, 0.010800547, 0.010800547, 0.010800547, 0.010800547, 0.010800547], 'loss_classic': [2.8992538, 2.0412989, 1.4833281, 0.75561225, 0.34654033, 0.2041713, 0.1695756, 0.15401977, 0.1529864, 0.14875215], 'PSNR': [23.570898, 25.139523, 26.608728, 29.535534, 32.912125, 35.289757, 36.144688, 36.60641, 36.75998, 37.01198], 'VSFA': [-0.3437705, -0.3682469, -0.37402463, -0.394907, -0.40786493, -0.4084797, -0.4092607, -0.4104792, -0.41297874, -0.41489294], 'loss': [-687.5366, -736.4907, -748.04694, -789.81287, -815.7293, -816.95905, -818.5211, -820.9581, -825.9573, -829.78564], 'bitrate': [0.091509, 0.172956, 0.272343, 0.4618, 0.832178, 1.572128, 2.4494, 4.411953, 9.494778, 14.538178]}]\n",
      "\n"
     ]
    },
    {
     "data": {
      "text/html": [
       "Waiting for W&B process to finish... <strong style=\"color:green\">(success).</strong>"
      ],
      "text/plain": [
       "<IPython.core.display.HTML object>"
      ]
     },
     "metadata": {},
     "output_type": "display_data"
    },
    {
     "data": {
      "application/vnd.jupyter.widget-view+json": {
       "model_id": "",
       "version_major": 2,
       "version_minor": 0
      },
      "text/plain": [
       "VBox(children=(Label(value='0.147 MB of 0.148 MB uploaded (0.000 MB deduped)\\r'), FloatProgress(value=0.990607…"
      ]
     },
     "metadata": {},
     "output_type": "display_data"
    },
    {
     "data": {
      "text/html": [
       "Synced <strong style=\"color:#cdcd00\">RD_curves_all_met_18_03Without Preprocessing</strong>: <a href=\"https://wandb.ai/havent_invented/Whitebox_strong_metrics_attacks/runs/3k21kp7l\" target=\"_blank\">https://wandb.ai/havent_invented/Whitebox_strong_metrics_attacks/runs/3k21kp7l</a><br/>Synced 7 W&B file(s), 35 media file(s), 35 artifact file(s) and 2 other file(s)"
      ],
      "text/plain": [
       "<IPython.core.display.HTML object>"
      ]
     },
     "metadata": {},
     "output_type": "display_data"
    },
    {
     "data": {
      "text/html": [
       "Find logs at: <code>.\\wandb\\run-20220320_052139-3k21kp7l\\logs</code>"
      ],
      "text/plain": [
       "<IPython.core.display.HTML object>"
      ]
     },
     "metadata": {},
     "output_type": "display_data"
    },
    {
     "name": "stdout",
     "output_type": "stream",
     "text": [
      "[[[{'mse_loss': [0.003761526, 0.0022537024, 0.0015512533, 0.00091297226, 0.00046287983, 0.0002791155, 0.00022671149, 0.00019999941, 0.00018672063, 0.00017199243], 'bpp_loss': [0.021601094, 0.021601094, 0.021601094, 0.021601094, 0.021601094, 0.021601094, 0.021601094, 0.021601094, 0.021601094, 0.021601094], 'loss_classic': [2.4675333, 1.4870713, 1.0303035, 0.6152613, 0.32258868, 0.20309597, 0.16902025, 0.15165071, 0.14301617, 0.13343918], 'PSNR': [24.301882, 26.550669, 28.171638, 30.460445, 33.400444, 35.58738, 36.4852, 37.067566, 37.52347, 37.957916], 'Linearity': [0.45339638, 0.40311885, 0.32244512, 0.1467707, -0.023824617, -0.14573695, -0.17144683, -0.16694605, -0.15692464, -0.15566349], 'loss': [906.7965, 806.2399, 644.89185, 293.5423, -47.648773, -291.47363, -342.89343, -333.8919, -313.8491, -311.32678], 'bitrate': [0.100881, 0.172306, 0.263106, 0.429271, 0.825821, 1.681812, 2.59339, 4.593584, 9.852437, 14.188521]}], [{'mse_loss': [0.003761526, 0.0022537024, 0.0015512533, 0.00091297226, 0.00046287983, 0.0002791155, 0.00022671149, 0.00019999941, 0.00018672063, 0.00017199243], 'bpp_loss': [0.021601094, 0.021601094, 0.021601094, 0.021601094, 0.021601094, 0.021601094, 0.021601094, 0.021601094, 0.021601094, 0.021601094], 'loss_classic': [2.4675333, 1.4870713, 1.0303035, 0.6152613, 0.32258868, 0.20309597, 0.16902025, 0.15165071, 0.14301617, 0.13343918], 'PSNR': [24.301882, 26.550669, 28.171638, 30.460445, 33.400444, 35.58738, 36.4852, 37.067566, 37.52347, 37.957916], 'MDTVSFA': [-0.44870508, -0.47278503, -0.485685, -0.50394565, -0.515102, -0.5236566, -0.526125, -0.52738714, -0.5274074, -0.52813506], 'loss': [-897.4064, -945.56775, -971.36847, -1007.8904, -1030.2035, -1047.3129, -1052.2498, -1054.774, -1054.8146, -1056.2699], 'bitrate': [0.100881, 0.172306, 0.263106, 0.429271, 0.825821, 1.681812, 2.59339, 4.593584, 9.852437, 14.188521]}], [{'mse_loss': [0.003761526, 0.0022537024, 0.0015512533, 0.00091297226, 0.00046287983, 0.0002791155, 0.00022671149, 0.00019999941, 0.00018672063, 0.00017199243], 'bpp_loss': [0.021601094, 0.021601094, 0.021601094, 0.021601094, 0.021601094, 0.021601094, 0.021601094, 0.021601094, 0.021601094, 0.021601094], 'loss_classic': [2.4675333, 1.4870713, 1.0303035, 0.6152613, 0.32258868, 0.20309597, 0.16902025, 0.15165071, 0.14301617, 0.13343918], 'PSNR': [24.301882, 26.550669, 28.171638, 30.460445, 33.400444, 35.58738, 36.4852, 37.067566, 37.52347, 37.957916], 'PAC2PIQ': [-0.49286443, -0.56116676, -0.6120634, -0.66599584, -0.705251, -0.71799374, -0.7174728, -0.7135598, -0.7102464, -0.70892775], 'loss': [-985.7252, -1122.3313, -1224.1251, -1331.9907, -1410.5015, -1435.9872, -1434.9453, -1427.1194, -1420.4926, -1417.8553], 'bitrate': [0.100881, 0.172306, 0.263106, 0.429271, 0.825821, 1.681812, 2.59339, 4.593584, 9.852437, 14.188521]}], [{'mse_loss': [0.003761526, 0.0022537024, 0.0015512533, 0.00091297226, 0.00046287983, 0.0002791155, 0.00022671149, 0.00019999941, 0.00018672063, 0.00017199243], 'bpp_loss': [0.021601094, 0.021601094, 0.021601094, 0.021601094, 0.021601094, 0.021601094, 0.021601094, 0.021601094, 0.021601094, 0.021601094], 'loss_classic': [2.4675333, 1.4870713, 1.0303035, 0.6152613, 0.32258868, 0.20309597, 0.16902025, 0.15165071, 0.14301617, 0.13343918], 'PSNR': [24.301882, 26.550669, 28.171638, 30.460445, 33.400444, 35.58738, 36.4852, 37.067566, 37.52347, 37.957916], 'SPAQ': [-0.40260553, -0.3983474, -0.3903737, -0.4162528, -0.4233754, -0.43182716, -0.430534, -0.44013584, -0.43401402, -0.43656975], 'loss': [-805.2074, -796.6926, -780.74585, -832.5047, -846.7503, -863.654, -861.06775, -880.2716, -868.02795, -873.1393], 'bitrate': [0.100881, 0.172306, 0.263106, 0.429271, 0.825821, 1.681812, 2.59339, 4.593584, 9.852437, 14.188521]}], [{'mse_loss': [0.0037615257, 0.0022537024, 0.0015512533, 0.00091297226, 0.0004628798, 0.00027911557, 0.00022671153, 0.00019999946, 0.00018672064, 0.00017199246], 'bpp_loss': [0.010800547, 0.010800547, 0.010800547, 0.010800547, 0.010800547, 0.010800547, 0.010800547, 0.010800547, 0.010800547, 0.010800547], 'loss_classic': [2.4567327, 1.4762707, 1.019503, 0.6044607, 0.31178814, 0.19229542, 0.15821971, 0.14085019, 0.13221565, 0.12263864], 'PSNR': [24.29602, 26.533306, 28.159622, 30.45428, 33.39445, 35.58181, 36.478874, 37.05613, 37.50896, 37.943176], 'VSFA': [-0.39656407, -0.44951862, -0.47302955, -0.5023433, -0.521147, -0.524607, -0.5242802, -0.5270975, -0.5318683, -0.5310252], 'loss': [-793.1244, -899.0349, -946.0576, -1004.68567, -1042.2935, -1049.2136, -1048.5602, -1054.1948, -1063.7363, -1062.0502], 'bitrate': [0.100881, 0.172306, 0.263106, 0.429271, 0.825821, 1.681812, 2.59339, 4.593584, 9.852437, 14.188521]}]], [[{'mse_loss': [0.009055864, 0.009522308, 0.006550546, 0.0033723135, 0.0016641861, 0.0008440167, 0.00056005386, 0.0003145428, 0.00014449364, 9.518399e-05], 'bpp_loss': [0.021601094, 0.021601094, 0.021601094, 0.021601094, 0.021601094, 0.021601094, 0.021601094, 0.021601094, 0.021601094, 0.021601094], 'loss_classic': [5.910177, 6.213482, 4.2810936, 2.214448, 1.1037381, 0.5704229, 0.38577613, 0.22613257, 0.11555809, 0.083494484], 'PSNR': [21.15073, 21.642025, 23.236916, 25.931522, 28.733086, 31.670204, 33.45553, 35.894585, 39.211292, 40.91382], 'Linearity': [0.5999513, 0.58077073, 0.59742856, 0.65794307, 0.6376282, 0.6356796, 0.6153793, 0.582088, 0.5385506, 0.5245554], 'loss': [1199.9117, 1161.551, 1194.8636, 1315.8895, 1275.258, 1271.3601, 1230.759, 1164.1763, 1077.1014, 1049.1108], 'bitrate': [0.36045, 0.4558, 0.541818, 0.807175, 1.478921, 2.902803, 4.289943, 6.964081, 12.399531, 16.302234]}], [{'mse_loss': [0.009055864, 0.009522308, 0.006550546, 0.0033723135, 0.0016641861, 0.0008440167, 0.00056005386, 0.0003145428, 0.00014449364, 9.518399e-05], 'bpp_loss': [0.021601094, 0.021601094, 0.021601094, 0.021601094, 0.021601094, 0.021601094, 0.021601094, 0.021601094, 0.021601094, 0.021601094], 'loss_classic': [5.910177, 6.213482, 4.2810936, 2.214448, 1.1037381, 0.5704229, 0.38577613, 0.22613257, 0.11555809, 0.083494484], 'PSNR': [21.15073, 21.642025, 23.236916, 25.931522, 28.733086, 31.670204, 33.45553, 35.894585, 39.211292, 40.91382], 'MDTVSFA': [-0.4284063, -0.43382156, -0.43759727, -0.448617, -0.4583375, -0.47088116, -0.47912723, -0.48619443, -0.49035576, -0.49208754], 'loss': [-856.8036, -867.6336, -875.188, -897.2306, -916.67334, -941.7615, -958.2539, -972.3886, -980.7113, -984.1749], 'bitrate': [0.36045, 0.4558, 0.541818, 0.807175, 1.478921, 2.902803, 4.289943, 6.964081, 12.399531, 16.302234]}], [{'mse_loss': [0.009055864, 0.009522308, 0.006550546, 0.0033723135, 0.0016641861, 0.0008440167, 0.00056005386, 0.0003145428, 0.00014449364, 9.518399e-05], 'bpp_loss': [0.021601094, 0.021601094, 0.021601094, 0.021601094, 0.021601094, 0.021601094, 0.021601094, 0.021601094, 0.021601094, 0.021601094], 'loss_classic': [5.910177, 6.213482, 4.2810936, 2.214448, 1.1037381, 0.5704229, 0.38577613, 0.22613257, 0.11555809, 0.083494484], 'PSNR': [21.15073, 21.642025, 23.236916, 25.931522, 28.733086, 31.670204, 33.45553, 35.894585, 39.211292, 40.91382], 'PAC2PIQ': [-0.48304832, -0.49014434, -0.4825136, -0.4943171, -0.51195765, -0.51767445, -0.5218528, -0.5207444, -0.5259688, -0.5283203], 'loss': [-966.0875, -980.2792, -965.0206, -988.63086, -1023.9136, -1035.3479, -1043.7051, -1041.4885, -1051.9375, -1056.6406], 'bitrate': [0.36045, 0.4558, 0.541818, 0.807175, 1.478921, 2.902803, 4.289943, 6.964081, 12.399531, 16.302234]}], [{'mse_loss': [0.009055864, 0.009522308, 0.006550546, 0.0033723135, 0.0016641861, 0.0008440167, 0.00056005386, 0.0003145428, 0.00014449364, 9.518399e-05], 'bpp_loss': [0.021601094, 0.021601094, 0.021601094, 0.021601094, 0.021601094, 0.021601094, 0.021601094, 0.021601094, 0.021601094, 0.021601094], 'loss_classic': [5.910177, 6.213482, 4.2810936, 2.214448, 1.1037381, 0.5704229, 0.38577613, 0.22613257, 0.11555809, 0.083494484], 'PSNR': [21.15073, 21.642025, 23.236916, 25.931522, 28.733086, 31.670204, 33.45553, 35.894585, 39.211292, 40.91382], 'SPAQ': [-0.4284922, -0.42869535, -0.4273184, -0.43347928, -0.4263403, -0.4270627, -0.4283405, -0.42989933, -0.43684077, -0.44312888], 'loss': [-856.9753, -857.3812, -854.6303, -866.9552, -852.67896, -854.1245, -856.6804, -859.79834, -873.6814, -886.2577], 'bitrate': [0.36045, 0.4558, 0.541818, 0.807175, 1.478921, 2.902803, 4.289943, 6.964081, 12.399531, 16.302234]}], [{'mse_loss': [0.009055864, 0.009522308, 0.006550546, 0.0033723135, 0.0016641862, 0.0008440167, 0.0005600539, 0.00031454285, 0.00014449365, 9.5184005e-05], 'bpp_loss': [0.010800547, 0.010800547, 0.010800547, 0.010800547, 0.010800547, 0.010800547, 0.010800547, 0.010800547, 0.010800547, 0.010800547], 'loss_classic': [5.8993764, 6.202681, 4.2702928, 2.2036474, 1.0929377, 0.55962235, 0.37497556, 0.21533203, 0.10475753, 0.072693944], 'PSNR': [21.019142, 21.52348, 23.109478, 25.773453, 28.61635, 31.54165, 33.324055, 35.77789, 39.114628, 40.83141], 'VSFA': [-0.34987092, -0.35987452, -0.36722505, -0.3916478, -0.41666755, -0.43308422, -0.44364524, -0.45436332, -0.45538568, -0.45634368], 'loss': [-699.7328, -719.7395, -734.4436, -783.29224, -833.3335, -866.1676, -887.2899, -908.7263, -910.77124, -912.68726], 'bitrate': [0.36045, 0.4558, 0.541818, 0.807175, 1.478921, 2.902803, 4.289943, 6.964081, 12.399531, 16.302234]}]], [[{'mse_loss': [0.009697751, 0.0044392752, 0.0026605064, 0.0012684765, 0.0005004005, 0.00025291523, 0.00018650865, 0.00013854218, 0.0001028321, 8.907321e-05], 'bpp_loss': [0.021601094, 0.021601094, 0.021601094, 0.021601094, 0.021601094, 0.021601094, 0.021601094, 0.021601094, 0.021601094, 0.021601094], 'loss_classic': [6.3275633, 2.9082398, 1.7515953, 0.8464279, 0.34698653, 0.1860592, 0.14287835, 0.111688145, 0.08846767, 0.07952095], 'PSNR': [21.147215, 24.69606, 26.925434, 29.9851, 33.789215, 36.58705, 37.843365, 39.079475, 40.299873, 40.870567], 'Linearity': [0.68347657, 0.71009433, 0.7066006, 0.6560316, 0.4495265, 0.28122783, 0.1916048, 0.13135046, 0.09388733, 0.08124267], 'loss': [1366.9629, 1420.1931, 1413.2039, 1312.0645, 899.05347, 562.45593, 383.20978, 262.70105, 187.77475, 162.48544], 'bitrate': [0.168175, 0.259668, 0.357481, 0.577243, 1.092981, 2.132078, 3.214578, 5.567656, 10.55694, 14.354068]}], [{'mse_loss': [0.009697751, 0.0044392752, 0.0026605064, 0.0012684765, 0.0005004005, 0.00025291523, 0.00018650865, 0.00013854218, 0.0001028321, 8.907321e-05], 'bpp_loss': [0.021601094, 0.021601094, 0.021601094, 0.021601094, 0.021601094, 0.021601094, 0.021601094, 0.021601094, 0.021601094, 0.021601094], 'loss_classic': [6.3275633, 2.9082398, 1.7515953, 0.8464279, 0.34698653, 0.1860592, 0.14287835, 0.111688145, 0.08846767, 0.07952095], 'PSNR': [21.147215, 24.69606, 26.925434, 29.9851, 33.789215, 36.58705, 37.843365, 39.079475, 40.299873, 40.870567], 'MDTVSFA': [-0.41068512, -0.41418988, -0.42095876, -0.43923697, -0.4642939, -0.47960088, -0.48625624, -0.4928794, -0.4972586, -0.49857825], 'loss': [-821.36053, -828.3753, -841.9148, -878.47266, -928.5873, -959.2014, -972.5123, -985.75867, -994.5171, -997.1565], 'bitrate': [0.168175, 0.259668, 0.357481, 0.577243, 1.092981, 2.132078, 3.214578, 5.567656, 10.55694, 14.354068]}], [{'mse_loss': [0.009697751, 0.0044392752, 0.0026605064, 0.0012684765, 0.0005004005, 0.00025291523, 0.00018650865, 0.00013854218, 0.0001028321, 8.907321e-05], 'bpp_loss': [0.021601094, 0.021601094, 0.021601094, 0.021601094, 0.021601094, 0.021601094, 0.021601094, 0.021601094, 0.021601094, 0.021601094], 'loss_classic': [6.3275633, 2.9082398, 1.7515953, 0.8464279, 0.34698653, 0.1860592, 0.14287835, 0.111688145, 0.08846767, 0.07952095], 'PSNR': [21.147215, 24.69606, 26.925434, 29.9851, 33.789215, 36.58705, 37.843365, 39.079475, 40.299873, 40.870567], 'PAC2PIQ': [-0.41652012, -0.40850842, -0.420941, -0.44921017, -0.53274846, -0.5847552, -0.5979841, -0.60481876, -0.60590726, -0.6073003], 'loss': [-833.0305, -817.0124, -841.8794, -898.41907, -1065.4963, -1169.51, -1195.968, -1209.6375, -1211.8145, -1214.6005], 'bitrate': [0.168175, 0.259668, 0.357481, 0.577243, 1.092981, 2.132078, 3.214578, 5.567656, 10.55694, 14.354068]}], [{'mse_loss': [0.009697751, 0.0044392752, 0.0026605064, 0.0012684765, 0.0005004005, 0.00025291523, 0.00018650865, 0.00013854218, 0.0001028321, 8.907321e-05], 'bpp_loss': [0.021601094, 0.021601094, 0.021601094, 0.021601094, 0.021601094, 0.021601094, 0.021601094, 0.021601094, 0.021601094, 0.021601094], 'loss_classic': [6.3275633, 2.9082398, 1.7515953, 0.8464279, 0.34698653, 0.1860592, 0.14287835, 0.111688145, 0.08846767, 0.07952095], 'PSNR': [21.147215, 24.69606, 26.925434, 29.9851, 33.789215, 36.58705, 37.843365, 39.079475, 40.299873, 40.870567], 'SPAQ': [-0.37769896, -0.38297957, -0.39209813, -0.38907236, -0.3963074, -0.39281058, -0.395649, -0.40276197, -0.40690434, -0.41093087], 'loss': [-755.38824, -765.9547, -784.1935, -778.1435, -792.61426, -785.6209, -791.2978, -805.5238, -813.8086, -821.8617], 'bitrate': [0.168175, 0.259668, 0.357481, 0.577243, 1.092981, 2.132078, 3.214578, 5.567656, 10.55694, 14.354068]}], [{'mse_loss': [0.00969775, 0.0044392752, 0.0026605062, 0.0012684765, 0.0005004005, 0.00025291526, 0.00018650867, 0.00013854218, 0.00010283211, 8.907322e-05], 'bpp_loss': [0.010800547, 0.010800547, 0.010800547, 0.010800547, 0.010800547, 0.010800547, 0.010800547, 0.010800547, 0.010800547, 0.010800547], 'loss_classic': [6.316763, 2.8974392, 1.7407948, 0.83562744, 0.33618596, 0.17525867, 0.13207781, 0.10088761, 0.07766713, 0.068720415], 'PSNR': [21.121286, 24.651741, 26.89787, 29.975628, 33.783333, 36.580708, 37.83522, 39.070206, 40.28988, 40.86033], 'VSFA': [-0.30357987, -0.31508327, -0.32475537, -0.35602337, -0.3978043, -0.42448968, -0.4313721, -0.43725687, -0.44092435, -0.44290918], 'loss': [-607.15, -630.1622, -649.50806, -712.0454, -795.60803, -848.9791, -862.744, -874.51355, -881.8486, -885.81824], 'bitrate': [0.168175, 0.259668, 0.357481, 0.577243, 1.092981, 2.132078, 3.214578, 5.567656, 10.55694, 14.354068]}]], [[{'mse_loss': [0.0061228117, 0.003768739, 0.0026707775, 0.0017585937, 0.0010992258, 0.00081361446, 0.00077158597, 0.00079569663, 0.00078186346, 0.000726372], 'bpp_loss': [0.021601094, 0.021601094, 0.021601094, 0.021601094, 0.021601094, 0.021601094, 0.021601094, 0.021601094, 0.021601094, 0.021601094], 'loss_classic': [4.0029593, 2.4722238, 1.7582741, 1.1651266, 0.7363727, 0.55065393, 0.5233249, 0.5390028, 0.5300078, 0.49392444], 'PSNR': [22.14769, 24.257526, 25.750793, 27.56771, 29.602913, 30.908854, 31.148333, 31.083963, 31.490799, 32.038933], 'Linearity': [0.5891681, 0.44697732, 0.30738235, 0.16190085, -0.07516727, -0.17037198, -0.1586071, -0.1204916, -0.096819766, -0.100879684], 'loss': [1178.3423, 893.95844, 614.7674, 323.80344, -150.33344, -340.7431, -317.2134, -240.98242, -193.63876, -201.75862], 'bitrate': [0.086193, 0.155775, 0.234231, 0.379356, 0.725796, 1.517862, 2.544165, 5.633406, 17.86754, 26.572437]}], [{'mse_loss': [0.0061228117, 0.003768739, 0.0026707775, 0.0017585937, 0.0010992258, 0.00081361446, 0.00077158597, 0.00079569663, 0.00078186346, 0.000726372], 'bpp_loss': [0.021601094, 0.021601094, 0.021601094, 0.021601094, 0.021601094, 0.021601094, 0.021601094, 0.021601094, 0.021601094, 0.021601094], 'loss_classic': [4.0029593, 2.4722238, 1.7582741, 1.1651266, 0.7363727, 0.55065393, 0.5233249, 0.5390028, 0.5300078, 0.49392444], 'PSNR': [22.14769, 24.257526, 25.750793, 27.56771, 29.602913, 30.908854, 31.148333, 31.083963, 31.490799, 32.038933], 'MDTVSFA': [-0.4322284, -0.4492349, -0.4641884, -0.48791784, -0.4991198, -0.50711465, -0.5060391, -0.504096, -0.50464, -0.5059055], 'loss': [-864.4507, -898.46594, -928.37415, -975.83386, -998.23846, -1014.2285, -1012.0774, -1008.19116, -1009.2792, -1011.81036], 'bitrate': [0.086193, 0.155775, 0.234231, 0.379356, 0.725796, 1.517862, 2.544165, 5.633406, 17.86754, 26.572437]}], [{'mse_loss': [0.0061228117, 0.003768739, 0.0026707775, 0.0017585937, 0.0010992258, 0.00081361446, 0.00077158597, 0.00079569663, 0.00078186346, 0.000726372], 'bpp_loss': [0.021601094, 0.021601094, 0.021601094, 0.021601094, 0.021601094, 0.021601094, 0.021601094, 0.021601094, 0.021601094, 0.021601094], 'loss_classic': [4.0029593, 2.4722238, 1.7582741, 1.1651266, 0.7363727, 0.55065393, 0.5233249, 0.5390028, 0.5300078, 0.49392444], 'PSNR': [22.14769, 24.257526, 25.750793, 27.56771, 29.602913, 30.908854, 31.148333, 31.083963, 31.490799, 32.038933], 'PAC2PIQ': [-0.43191296, -0.53795516, -0.56403875, -0.62884486, -0.6774632, -0.6970866, -0.6970341, -0.6930435, -0.6896969, -0.69011426], 'loss': [-863.8198, -1075.9066, -1128.075, -1257.688, -1354.9253, -1394.1725, -1394.0674, -1386.0862, -1379.393, -1380.2278], 'bitrate': [0.086193, 0.155775, 0.234231, 0.379356, 0.725796, 1.517862, 2.544165, 5.633406, 17.86754, 26.572437]}], [{'mse_loss': [0.0061228117, 0.003768739, 0.0026707775, 0.0017585937, 0.0010992258, 0.00081361446, 0.00077158597, 0.00079569663, 0.00078186346, 0.000726372], 'bpp_loss': [0.021601094, 0.021601094, 0.021601094, 0.021601094, 0.021601094, 0.021601094, 0.021601094, 0.021601094, 0.021601094, 0.021601094], 'loss_classic': [4.0029593, 2.4722238, 1.7582741, 1.1651266, 0.7363727, 0.55065393, 0.5233249, 0.5390028, 0.5300078, 0.49392444], 'PSNR': [22.14769, 24.257526, 25.750793, 27.56771, 29.602913, 30.908854, 31.148333, 31.083963, 31.490799, 32.038933], 'SPAQ': [-0.38036805, -0.36127, -0.38245833, -0.40683985, -0.4354661, -0.46324825, -0.47749132, -0.45869115, -0.45475662, -0.45927206], 'loss': [-760.73004, -722.53613, -764.914, -813.67786, -870.93115, -926.49567, -954.9818, -917.38153, -909.51245, -918.54333], 'bitrate': [0.086193, 0.155775, 0.234231, 0.379356, 0.725796, 1.517862, 2.544165, 5.633406, 17.86754, 26.572437]}], [{'mse_loss': [0.0061228117, 0.003768739, 0.0026707773, 0.0017585937, 0.001099226, 0.00081361446, 0.000771586, 0.00079569663, 0.00078186346, 0.000726372], 'bpp_loss': [0.010800547, 0.010800547, 0.010800547, 0.010800547, 0.010800547, 0.010800547, 0.010800547, 0.010800547, 0.010800547, 0.010800547], 'loss_classic': [3.992159, 2.4614232, 1.7474735, 1.1543262, 0.72557217, 0.53985333, 0.51252437, 0.5282023, 0.51920724, 0.48312393], 'PSNR': [22.147667, 24.25712, 25.74961, 27.565596, 29.602154, 30.9076, 31.143654, 31.063208, 31.431065, 31.968422], 'VSFA': [-0.3599528, -0.41196918, -0.44700703, -0.46896645, -0.47510675, -0.47656798, -0.48990783, -0.50255454, -0.5060971, -0.5085182], 'loss': [-719.8995, -823.9347, -894.0114, -937.93115, -950.2124, -953.13525, -979.81494, -1005.1083, -1012.19336, -1017.03564], 'bitrate': [0.086193, 0.155775, 0.234231, 0.379356, 0.725796, 1.517862, 2.544165, 5.633406, 17.86754, 26.572437]}]], [[{'mse_loss': [0.020693384, 0.018159524, 0.015214412, 0.013211088, 0.010613736, 0.008247007, 0.006902557, 0.005392775, 0.004349213, 0.0037461247], 'bpp_loss': [0.021601094, 0.021601094, 0.021601094, 0.021601094, 0.021601094, 0.021601094, 0.021601094, 0.021601094, 0.021601094, 0.021601094], 'loss_classic': [13.477474, 11.82983, 9.914772, 8.61211, 6.9231825, 5.3842173, 4.5099883, 3.5282528, 2.849677, 2.4575186], 'PSNR': [17.062183, 17.766478, 18.559017, 19.281322, 20.44449, 21.855583, 22.81675, 24.136555, 25.559223, 26.46083], 'Linearity': [0.4890495, 0.41431278, 0.3319851, 0.19366069, 0.037980445, -0.09809506, -0.17572114, -0.24034183, -0.27862918, -0.3065727], 'loss': [978.1196, 828.6437, 663.98535, 387.3346, 75.97151, -196.18188, -351.43536, -480.67828, -557.254, -613.1417], 'bitrate': [0.147662, 0.22204, 0.35574, 0.581393, 1.206106, 2.666137, 4.244687, 7.755468, 17.186143, 25.113956]}], [{'mse_loss': [0.020693384, 0.018159524, 0.015214412, 0.013211088, 0.010613736, 0.008247007, 0.006902557, 0.005392775, 0.004349213, 0.0037461247], 'bpp_loss': [0.021601094, 0.021601094, 0.021601094, 0.021601094, 0.021601094, 0.021601094, 0.021601094, 0.021601094, 0.021601094, 0.021601094], 'loss_classic': [13.477474, 11.82983, 9.914772, 8.61211, 6.9231825, 5.3842173, 4.5099883, 3.5282528, 2.849677, 2.4575186], 'PSNR': [17.062183, 17.766478, 18.559017, 19.281322, 20.44449, 21.855583, 22.81675, 24.136555, 25.559223, 26.46083], 'MDTVSFA': [-0.4019582, -0.40940565, -0.4221295, -0.44224304, -0.4581282, -0.4711151, -0.47677514, -0.48368144, -0.49005097, -0.4917682], 'loss': [-803.8957, -818.7931, -844.2438, -884.4729, -916.24585, -942.2219, -953.5434, -967.3575, -980.09753, -983.5327], 'bitrate': [0.147662, 0.22204, 0.35574, 0.581393, 1.206106, 2.666137, 4.244687, 7.755468, 17.186143, 25.113956]}], [{'mse_loss': [0.020693384, 0.018159524, 0.015214412, 0.013211088, 0.010613736, 0.008247007, 0.006902557, 0.005392775, 0.004349213, 0.0037461247], 'bpp_loss': [0.021601094, 0.021601094, 0.021601094, 0.021601094, 0.021601094, 0.021601094, 0.021601094, 0.021601094, 0.021601094, 0.021601094], 'loss_classic': [13.477474, 11.82983, 9.914772, 8.61211, 6.9231825, 5.3842173, 4.5099883, 3.5282528, 2.849677, 2.4575186], 'PSNR': [17.062183, 17.766478, 18.559017, 19.281322, 20.44449, 21.855583, 22.81675, 24.136555, 25.559223, 26.46083], 'PAC2PIQ': [-0.5151863, -0.5426568, -0.58185184, -0.62630665, -0.6686666, -0.68923926, -0.69916004, -0.7081844, -0.71359766, -0.71318686], 'loss': [-1030.3519, -1085.2954, -1163.6885, -1252.6002, -1337.3225, -1378.4703, -1398.3131, -1416.3635, -1427.1909, -1426.37], 'bitrate': [0.147662, 0.22204, 0.35574, 0.581393, 1.206106, 2.666137, 4.244687, 7.755468, 17.186143, 25.113956]}], [{'mse_loss': [0.020693384, 0.018159524, 0.015214412, 0.013211088, 0.010613736, 0.008247007, 0.006902557, 0.005392775, 0.004349213, 0.0037461247], 'bpp_loss': [0.021601094, 0.021601094, 0.021601094, 0.021601094, 0.021601094, 0.021601094, 0.021601094, 0.021601094, 0.021601094, 0.021601094], 'loss_classic': [13.477474, 11.82983, 9.914772, 8.61211, 6.9231825, 5.3842173, 4.5099883, 3.5282528, 2.849677, 2.4575186], 'PSNR': [17.062183, 17.766478, 18.559017, 19.281322, 20.44449, 21.855583, 22.81675, 24.136555, 25.559223, 26.46083], 'SPAQ': [-0.38520128, -0.3902952, -0.41389146, -0.43328616, -0.46349967, -0.48176867, -0.49104023, -0.48936892, -0.49094498, -0.49420244], 'loss': [-770.38184, -780.57227, -827.7677, -866.55914, -926.9888, -963.5291, -982.07355, -978.73254, -981.8856, -988.4011], 'bitrate': [0.147662, 0.22204, 0.35574, 0.581393, 1.206106, 2.666137, 4.244687, 7.755468, 17.186143, 25.113956]}], [{'mse_loss': [0.020693384, 0.01815952, 0.015214412, 0.013211087, 0.010613736, 0.008247007, 0.006902556, 0.0053927745, 0.004349213, 0.0037461245], 'bpp_loss': [0.010800547, 0.010800547, 0.010800547, 0.010800547, 0.010800547, 0.010800547, 0.010800547, 0.010800547, 0.010800547, 0.010800547], 'loss_classic': [13.466674, 11.819029, 9.903971, 8.60131, 6.912382, 5.373416, 4.4991875, 3.517452, 2.8388765, 2.446718], 'PSNR': [17.047688, 17.756989, 18.549591, 19.268478, 20.436716, 21.846117, 22.80399, 24.115679, 25.522152, 26.417107], 'VSFA': [-0.28336877, -0.29722, -0.3251797, -0.36086825, -0.38530666, -0.40523818, -0.41448426, -0.42893362, -0.4463351, -0.4507434], 'loss': [-566.71686, -594.4218, -650.3441, -721.72327, -770.60266, -810.46814, -828.9617, -857.8619, -892.6659, -901.4831], 'bitrate': [0.147662, 0.22204, 0.35574, 0.581393, 1.206106, 2.666137, 4.244687, 7.755468, 17.186143, 25.113956]}]], [[{'mse_loss': [0.008005714, 0.005836477, 0.0039045233, 0.0019088578, 0.0007811298, 0.00040171767, 0.00029834209, 0.00023825995, 0.00023391756, 0.00021466777], 'bpp_loss': [0.021601094, 0.021601094, 0.021601094, 0.021601094, 0.021601094, 0.021601094, 0.021601094, 0.021601094, 0.021601094, 0.021601094], 'loss_classic': [5.227317, 3.8167703, 2.5605175, 1.262836, 0.52953076, 0.28281802, 0.21559805, 0.17652963, 0.173706, 0.16118883], 'PSNR': [21.251162, 22.939987, 24.671581, 27.543129, 31.24834, 34.062748, 35.331566, 36.318596, 36.622314, 37.11691], 'Linearity': [0.59792405, 0.62551427, 0.6256534, 0.6481457, 0.6061462, 0.5011029, 0.47024065, 0.4446655, 0.4467812, 0.44455856], 'loss': [1195.8562, 1251.0342, 1251.3108, 1296.2932, 1212.2932, 1002.2063, 940.48157, 889.3313, 893.5626, 889.1173], 'bitrate': [0.155771, 0.221365, 0.322596, 0.534575, 0.992612, 1.922656, 2.861131, 4.826075, 10.659053, 15.588253]}], [{'mse_loss': [0.008005714, 0.005836477, 0.0039045233, 0.0019088578, 0.0007811298, 0.00040171767, 0.00029834209, 0.00023825995, 0.00023391756, 0.00021466777], 'bpp_loss': [0.021601094, 0.021601094, 0.021601094, 0.021601094, 0.021601094, 0.021601094, 0.021601094, 0.021601094, 0.021601094, 0.021601094], 'loss_classic': [5.227317, 3.8167703, 2.5605175, 1.262836, 0.52953076, 0.28281802, 0.21559805, 0.17652963, 0.173706, 0.16118883], 'PSNR': [21.251162, 22.939987, 24.671581, 27.543129, 31.24834, 34.062748, 35.331566, 36.318596, 36.622314, 37.11691], 'MDTVSFA': [-0.4124459, -0.41377228, -0.41822815, -0.42965966, -0.45880434, -0.47905552, -0.4837638, -0.48940247, -0.49008083, -0.4916153], 'loss': [-824.8838, -827.5387, -836.4524, -859.3174, -917.6079, -958.11066, -967.52734, -978.8047, -980.16144, -983.2304], 'bitrate': [0.155771, 0.221365, 0.322596, 0.534575, 0.992612, 1.922656, 2.861131, 4.826075, 10.659053, 15.588253]}], [{'mse_loss': [0.008005714, 0.005836477, 0.0039045233, 0.0019088578, 0.0007811298, 0.00040171767, 0.00029834209, 0.00023825995, 0.00023391756, 0.00021466777], 'bpp_loss': [0.021601094, 0.021601094, 0.021601094, 0.021601094, 0.021601094, 0.021601094, 0.021601094, 0.021601094, 0.021601094, 0.021601094], 'loss_classic': [5.227317, 3.8167703, 2.5605175, 1.262836, 0.52953076, 0.28281802, 0.21559805, 0.17652963, 0.173706, 0.16118883], 'PSNR': [21.251162, 22.939987, 24.671581, 27.543129, 31.24834, 34.062748, 35.331566, 36.318596, 36.622314, 37.11691], 'PAC2PIQ': [-0.4433301, -0.45866203, -0.46080035, -0.4676703, -0.490372, -0.47004172, -0.45669153, -0.44529077, -0.44559032, -0.4444984], 'loss': [-886.65216, -917.31824, -921.5968, -935.33875, -980.7433, -940.083, -913.38275, -890.5813, -891.1804, -888.9966], 'bitrate': [0.155771, 0.221365, 0.322596, 0.534575, 0.992612, 1.922656, 2.861131, 4.826075, 10.659053, 15.588253]}], [{'mse_loss': [0.008005714, 0.005836477, 0.0039045233, 0.0019088578, 0.0007811298, 0.00040171767, 0.00029834209, 0.00023825995, 0.00023391756, 0.00021466777], 'bpp_loss': [0.021601094, 0.021601094, 0.021601094, 0.021601094, 0.021601094, 0.021601094, 0.021601094, 0.021601094, 0.021601094, 0.021601094], 'loss_classic': [5.227317, 3.8167703, 2.5605175, 1.262836, 0.52953076, 0.28281802, 0.21559805, 0.17652963, 0.173706, 0.16118883], 'PSNR': [21.251162, 22.939987, 24.671581, 27.543129, 31.24834, 34.062748, 35.331566, 36.318596, 36.622314, 37.11691], 'SPAQ': [-0.37175727, -0.37535515, -0.3848579, -0.40041706, -0.40631157, -0.40971354, -0.41467756, -0.42219055, -0.43179822, -0.4309017], 'loss': [-743.5066, -750.70447, -769.712, -800.8323, -812.6223, -819.4267, -829.35486, -844.3809, -863.5962, -861.80316], 'bitrate': [0.155771, 0.221365, 0.322596, 0.534575, 0.992612, 1.922656, 2.861131, 4.826075, 10.659053, 15.588253]}], [{'mse_loss': [0.008005714, 0.0058364766, 0.0039045233, 0.0019088578, 0.0007811298, 0.00040171767, 0.00029834214, 0.00023825998, 0.00023391758, 0.00021466779], 'bpp_loss': [0.010800547, 0.010800547, 0.010800547, 0.010800547, 0.010800547, 0.010800547, 0.010800547, 0.010800547, 0.010800547, 0.010800547], 'loss_classic': [5.216516, 3.8059697, 2.549717, 1.2520354, 0.51873016, 0.27201748, 0.2047975, 0.16572909, 0.16290545, 0.15038827], 'PSNR': [21.152294, 22.840452, 24.598589, 27.532173, 31.24459, 34.059788, 35.32897, 36.314137, 36.610542, 37.10257], 'VSFA': [-0.32599804, -0.33668366, -0.3570915, -0.3783576, -0.41293895, -0.4287504, -0.4315833, -0.4374429, -0.4386651, -0.4402268], 'loss': [-651.98804, -673.3615, -714.1791, -756.71326, -825.8771, -857.50037, -863.1664, -874.8855, -877.32996, -880.45337], 'bitrate': [0.155771, 0.221365, 0.322596, 0.534575, 0.992612, 1.922656, 2.861131, 4.826075, 10.659053, 15.588253]}]], [[{'mse_loss': [0.004442066, 0.0031226422, 0.002264556, 0.0011454237, 0.0005163242, 0.0002973791, 0.00024417537, 0.00022025252, 0.00021866336, 0.0002121516], 'bpp_loss': [0.021601094, 0.021601094, 0.021601094, 0.021601094, 0.021601094, 0.021601094, 0.021601094, 0.021601094, 0.021601094, 0.021601094], 'loss_classic': [2.9100544, 2.0520992, 1.4941287, 0.76641285, 0.35734087, 0.21497184, 0.18037614, 0.16482031, 0.16378695, 0.15955266], 'PSNR': [23.573553, 25.153934, 26.628002, 29.551586, 32.916775, 35.291523, 36.1472, 36.61695, 36.79435, 37.054665], 'Linearity': [0.6248872, 0.59732383, 0.52018815, 0.40713108, 0.31191772, 0.25646725, 0.24318767, 0.25791168, 0.2664888, 0.27054268], 'loss': [1249.7788, 1194.6509, 1040.3787, 814.2633, 623.83594, 512.9348, 486.3756, 515.8236, 532.97784, 541.0856], 'bitrate': [0.091509, 0.172956, 0.272343, 0.4618, 0.832178, 1.572128, 2.4494, 4.411953, 9.494778, 14.538178]}], [{'mse_loss': [0.004442066, 0.0031226422, 0.002264556, 0.0011454237, 0.0005163242, 0.0002973791, 0.00024417537, 0.00022025252, 0.00021866336, 0.0002121516], 'bpp_loss': [0.021601094, 0.021601094, 0.021601094, 0.021601094, 0.021601094, 0.021601094, 0.021601094, 0.021601094, 0.021601094, 0.021601094], 'loss_classic': [2.9100544, 2.0520992, 1.4941287, 0.76641285, 0.35734087, 0.21497184, 0.18037614, 0.16482031, 0.16378695, 0.15955266], 'PSNR': [23.573553, 25.153934, 26.628002, 29.551586, 32.916775, 35.291523, 36.1472, 36.61695, 36.79435, 37.054665], 'MDTVSFA': [-0.41667187, -0.43087503, -0.4498806, -0.4727012, -0.49057022, -0.5045395, -0.5089867, -0.51231205, -0.51345927, -0.51483667], 'loss': [-833.33923, -861.747, -899.7589, -945.40125, -981.1399, -1009.07874, -1017.97314, -1024.6238, -1026.9183, -1029.6731], 'bitrate': [0.091509, 0.172956, 0.272343, 0.4618, 0.832178, 1.572128, 2.4494, 4.411953, 9.494778, 14.538178]}], [{'mse_loss': [0.004442066, 0.0031226422, 0.002264556, 0.0011454237, 0.0005163242, 0.0002973791, 0.00024417537, 0.00022025252, 0.00021866336, 0.0002121516], 'bpp_loss': [0.021601094, 0.021601094, 0.021601094, 0.021601094, 0.021601094, 0.021601094, 0.021601094, 0.021601094, 0.021601094, 0.021601094], 'loss_classic': [2.9100544, 2.0520992, 1.4941287, 0.76641285, 0.35734087, 0.21497184, 0.18037614, 0.16482031, 0.16378695, 0.15955266], 'PSNR': [23.573553, 25.153934, 26.628002, 29.551586, 32.916775, 35.291523, 36.1472, 36.61695, 36.79435, 37.054665], 'PAC2PIQ': [-0.45357454, -0.50613236, -0.5375508, -0.54988146, -0.56283355, -0.5731224, -0.5800121, -0.57736856, -0.57592607, -0.573233], 'loss': [-907.14465, -1012.2616, -1075.0994, -1099.7617, -1125.6666, -1146.2445, -1160.0239, -1154.7369, -1151.8518, -1146.4658], 'bitrate': [0.091509, 0.172956, 0.272343, 0.4618, 0.832178, 1.572128, 2.4494, 4.411953, 9.494778, 14.538178]}], [{'mse_loss': [0.004442066, 0.0031226422, 0.002264556, 0.0011454237, 0.0005163242, 0.0002973791, 0.00024417537, 0.00022025252, 0.00021866336, 0.0002121516], 'bpp_loss': [0.021601094, 0.021601094, 0.021601094, 0.021601094, 0.021601094, 0.021601094, 0.021601094, 0.021601094, 0.021601094, 0.021601094], 'loss_classic': [2.9100544, 2.0520992, 1.4941287, 0.76641285, 0.35734087, 0.21497184, 0.18037614, 0.16482031, 0.16378695, 0.15955266], 'PSNR': [23.573553, 25.153934, 26.628002, 29.551586, 32.916775, 35.291523, 36.1472, 36.61695, 36.79435, 37.054665], 'SPAQ': [-0.37128073, -0.4159994, -0.41377747, -0.4299674, -0.4371606, -0.4442852, -0.45095205, -0.45789915, -0.44950694, -0.44682664], 'loss': [-742.557, -831.9957, -827.5527, -859.9336, -874.3208, -888.57007, -901.9039, -915.7981, -899.0136, -893.6531], 'bitrate': [0.091509, 0.172956, 0.272343, 0.4618, 0.832178, 1.572128, 2.4494, 4.411953, 9.494778, 14.538178]}], [{'mse_loss': [0.004442066, 0.0031226424, 0.002264556, 0.0011454236, 0.00051632413, 0.0002973791, 0.0002441754, 0.00022025258, 0.0002186634, 0.00021215164], 'bpp_loss': [0.010800547, 0.010800547, 0.010800547, 0.010800547, 0.010800547, 0.010800547, 0.010800547, 0.010800547, 0.010800547, 0.010800547], 'loss_classic': [2.8992538, 2.0412989, 1.4833281, 0.75561225, 0.34654033, 0.2041713, 0.1695756, 0.15401977, 0.1529864, 0.14875215], 'PSNR': [23.570898, 25.139523, 26.608728, 29.535534, 32.912125, 35.289757, 36.144688, 36.60641, 36.75998, 37.01198], 'VSFA': [-0.3437705, -0.3682469, -0.37402463, -0.394907, -0.40786493, -0.4084797, -0.4092607, -0.4104792, -0.41297874, -0.41489294], 'loss': [-687.5366, -736.4907, -748.04694, -789.81287, -815.7293, -816.95905, -818.5211, -820.9581, -825.9573, -829.78564], 'bitrate': [0.091509, 0.172956, 0.272343, 0.4618, 0.832178, 1.572128, 2.4494, 4.411953, 9.494778, 14.538178]}]]]\n"
     ]
    }
   ],
   "source": [
    "#NR\n",
    "for Identity_flag in [ True, False]:\n",
    "    a0= model_dirs_full, model_dirs_full, model_names = get_met_names(key= lambda x: \"2000mse\" in x and \n",
    "                                                                         \"cheng2020_attn_quality2\" in x and \n",
    "                                                                         'quality5' not in x and (('fixed_direction' in x) or \n",
    "                                                                                                  \"MDTVSFA_2000m\" in x))\n",
    "    \n",
    "    a0 = [a0[0][1:], a0[1][1:], a0[2][1:]]\n",
    "    a1 = get_met_names(key= lambda x: \"model_vimeo11k_Linearity_2000mse_enhance_no_codec_fixed_direction.ckpt\" in x)\n",
    "    a2 = get_met_names(directory='./models_enhancement/0403/', key= lambda x: \"\" in x)\n",
    "    model_dirs_full, model_target_met_names, model_names = [a0[0] + a1[0] + a2[0], a0[1] + a1[1] + a2[1],a0[2] +  a1[2] + a2[2]]\n",
    "    model_dirs_full, model_target_met_names, model_names = model_dirs_full, model_target_met_names, model_names\n",
    "    net_enhances = load_models(model_dirs_full)\n",
    "    \n",
    "    device_met = \"cuda:0\"\n",
    "    device_enh = \"cuda:0\"\n",
    "    device_sub = \"cpu\"\n",
    "    num_frames = 64\n",
    "    \n",
    "    batch_sz = 2\n",
    "    Log_1 = []\n",
    "    model_target_met_names = [i if i != \"PAC2PIC\" else \"PAC2PIQ\" for i in model_target_met_names]\n",
    "    if Identity_flag:\n",
    "        model_target_met_names = np.unique(model_target_met_names)\n",
    "    wandb.init(project=\"Whitebox_strong_metrics_attacks\", entity=\"havent_invented\", name=\"RD_curves_all_met_18_03\" + (\"Without Preprocessing\" if Identity_flag else \"With Preprocessing\"),\n",
    "               tags = {\"RD curves\", (\"Without Preprocessing\" if Identity_flag else \"With Preprocessing\")}, save_code = True)  \n",
    "    wandb.config.update({\"codecs\": codecs_all, \n",
    "                         \"Target Metrics\": model_target_met_names,\n",
    "                         \"full_model_dirs\" : model_dirs_full, \"num_frames\" : num_frames, \"No preprocessing\" : Identity_flag})\n",
    "    for idxf, file in tqdm(enumerate(os.listdir(dst_dir))):\n",
    "        Log_2 = []\n",
    "        for model,met_name,fil_name_1 in tqdm(zip(net_enhances, model_target_met_names, model_dirs_full)):\n",
    "            if met_name == \"VSFA\":\n",
    "                batch_sz = 2\n",
    "            else:\n",
    "                batch_sz = 1#2\n",
    "            if met_name == \"Linearity\":\n",
    "                deivce_main = \"cuda:0\"\n",
    "            else:\n",
    "                deivce_main = \"cuda:0\"\n",
    "            torch.cuda.empty_cache()\n",
    "            with torch.no_grad():\n",
    "                try:\n",
    "                    f_name = met_name + \" \" +  file + (\" without\" if Identity_flag else \" with\") + \" preprocessing\" \n",
    "                    print(met_name, fil_name_1)\n",
    "                    try:\n",
    "                        del loss_calc\n",
    "                    except Exception:\n",
    "                        pass\n",
    "                    loss_calc = Custom_enh_Loss(target_lst=['mse', met_name], to_train = False, crop_NIMA = False)\n",
    "                    loss_calc = loss_calc.to('cpu')\n",
    "                    ful_name = dst_dir + file\n",
    "                    home_dir = \"R:/home_dir/\"\n",
    "                    #dataset_test = Video_reader_dataset(name1 = ful_name, num_frames= 64, minimal_batch_sz = 2)#\n",
    "                    #dataset_test = DataLoader(dataset_test, batch_size= batch_sz, shuffle = False)\n",
    "                    Log_3 = models_codecs_dataset_outer([enhance_Identity if Identity_flag else model],codecs = codecs_all,\n",
    "                                        vid_full_dir = ful_name, to_crop = False, loss_f = loss_calc)\n",
    "                    table = wandb.Table(columns= list(Log_3[0].keys()), data = [list(Log_3[0].values())])\n",
    "                    wandb.log({f_name: table}) \n",
    "                    print(Log_3)\n",
    "                    Log_2.append(Log_3)\n",
    "                except Exception as exc:\n",
    "                    raise\n",
    "                    wandb.alert(title=str(exc), text=str(exc) + \" in \" + f_name, level = wandb.AlertLevel.ERROR)\n",
    "                    print(\"Exception in \" + met_name)\n",
    "                    \n",
    "        Log_1.append(Log_2)\n",
    "        np.save(\"./Logs_rd_curves/FR_2_metrics\" + (\"_Identity\" if Identity_flag else \"\") + \".npy\", Log_1)\n",
    "        \n",
    "    wandb.finish()\n",
    "    print(Log_1)"
   ]
  },
  {
   "cell_type": "code",
   "execution_count": 10,
   "id": "suffering-trance",
   "metadata": {
    "collapsed": true
   },
   "outputs": [
    {
     "data": {
      "text/plain": [
       "5"
      ]
     },
     "execution_count": 10,
     "metadata": {},
     "output_type": "execute_result"
    }
   ],
   "source": [
    "len(Log_1[0])"
   ]
  },
  {
   "cell_type": "code",
   "execution_count": 7,
   "id": "indonesian-timothy",
   "metadata": {
    "collapsed": true
   },
   "outputs": [
    {
     "data": {
      "text/plain": [
       "[[[{'mse_loss': [0.003761526,\n",
       "     0.0022537024,\n",
       "     0.0015512533,\n",
       "     0.00091297226,\n",
       "     0.00046287983,\n",
       "     0.0002791155,\n",
       "     0.00022671149,\n",
       "     0.00019999941,\n",
       "     0.00018672063,\n",
       "     0.00017199243],\n",
       "    'bpp_loss': [0.021601094,\n",
       "     0.021601094,\n",
       "     0.021601094,\n",
       "     0.021601094,\n",
       "     0.021601094,\n",
       "     0.021601094,\n",
       "     0.021601094,\n",
       "     0.021601094,\n",
       "     0.021601094,\n",
       "     0.021601094],\n",
       "    'loss_classic': [2.4675333,\n",
       "     1.4870713,\n",
       "     1.0303035,\n",
       "     0.6152613,\n",
       "     0.32258868,\n",
       "     0.20309597,\n",
       "     0.16902025,\n",
       "     0.15165071,\n",
       "     0.14301617,\n",
       "     0.13343918],\n",
       "    'PSNR': [24.301882,\n",
       "     26.550669,\n",
       "     28.171638,\n",
       "     30.460445,\n",
       "     33.400444,\n",
       "     35.58738,\n",
       "     36.4852,\n",
       "     37.067566,\n",
       "     37.52347,\n",
       "     37.957916],\n",
       "    'Linearity': [0.45339638,\n",
       "     0.40311885,\n",
       "     0.32244512,\n",
       "     0.1467707,\n",
       "     -0.023824617,\n",
       "     -0.14573695,\n",
       "     -0.17144683,\n",
       "     -0.16694605,\n",
       "     -0.15692464,\n",
       "     -0.15566349],\n",
       "    'loss': [906.7965,\n",
       "     806.2399,\n",
       "     644.89185,\n",
       "     293.5423,\n",
       "     -47.648773,\n",
       "     -291.47363,\n",
       "     -342.89343,\n",
       "     -333.8919,\n",
       "     -313.8491,\n",
       "     -311.32678],\n",
       "    'bitrate': [0.100881,\n",
       "     0.172306,\n",
       "     0.263106,\n",
       "     0.429271,\n",
       "     0.825821,\n",
       "     1.681812,\n",
       "     2.59339,\n",
       "     4.593584,\n",
       "     9.852437,\n",
       "     14.188521]}],\n",
       "  [{'mse_loss': [0.003761526,\n",
       "     0.0022537024,\n",
       "     0.0015512533,\n",
       "     0.00091297226,\n",
       "     0.00046287983,\n",
       "     0.0002791155,\n",
       "     0.00022671149,\n",
       "     0.00019999941,\n",
       "     0.00018672063,\n",
       "     0.00017199243],\n",
       "    'bpp_loss': [0.021601094,\n",
       "     0.021601094,\n",
       "     0.021601094,\n",
       "     0.021601094,\n",
       "     0.021601094,\n",
       "     0.021601094,\n",
       "     0.021601094,\n",
       "     0.021601094,\n",
       "     0.021601094,\n",
       "     0.021601094],\n",
       "    'loss_classic': [2.4675333,\n",
       "     1.4870713,\n",
       "     1.0303035,\n",
       "     0.6152613,\n",
       "     0.32258868,\n",
       "     0.20309597,\n",
       "     0.16902025,\n",
       "     0.15165071,\n",
       "     0.14301617,\n",
       "     0.13343918],\n",
       "    'PSNR': [24.301882,\n",
       "     26.550669,\n",
       "     28.171638,\n",
       "     30.460445,\n",
       "     33.400444,\n",
       "     35.58738,\n",
       "     36.4852,\n",
       "     37.067566,\n",
       "     37.52347,\n",
       "     37.957916],\n",
       "    'MDTVSFA': [-0.44870508,\n",
       "     -0.47278503,\n",
       "     -0.485685,\n",
       "     -0.50394565,\n",
       "     -0.515102,\n",
       "     -0.5236566,\n",
       "     -0.526125,\n",
       "     -0.52738714,\n",
       "     -0.5274074,\n",
       "     -0.52813506],\n",
       "    'loss': [-897.4064,\n",
       "     -945.56775,\n",
       "     -971.36847,\n",
       "     -1007.8904,\n",
       "     -1030.2035,\n",
       "     -1047.3129,\n",
       "     -1052.2498,\n",
       "     -1054.774,\n",
       "     -1054.8146,\n",
       "     -1056.2699],\n",
       "    'bitrate': [0.100881,\n",
       "     0.172306,\n",
       "     0.263106,\n",
       "     0.429271,\n",
       "     0.825821,\n",
       "     1.681812,\n",
       "     2.59339,\n",
       "     4.593584,\n",
       "     9.852437,\n",
       "     14.188521]}],\n",
       "  [{'mse_loss': [0.003761526,\n",
       "     0.0022537024,\n",
       "     0.0015512533,\n",
       "     0.00091297226,\n",
       "     0.00046287983,\n",
       "     0.0002791155,\n",
       "     0.00022671149,\n",
       "     0.00019999941,\n",
       "     0.00018672063,\n",
       "     0.00017199243],\n",
       "    'bpp_loss': [0.021601094,\n",
       "     0.021601094,\n",
       "     0.021601094,\n",
       "     0.021601094,\n",
       "     0.021601094,\n",
       "     0.021601094,\n",
       "     0.021601094,\n",
       "     0.021601094,\n",
       "     0.021601094,\n",
       "     0.021601094],\n",
       "    'loss_classic': [2.4675333,\n",
       "     1.4870713,\n",
       "     1.0303035,\n",
       "     0.6152613,\n",
       "     0.32258868,\n",
       "     0.20309597,\n",
       "     0.16902025,\n",
       "     0.15165071,\n",
       "     0.14301617,\n",
       "     0.13343918],\n",
       "    'PSNR': [24.301882,\n",
       "     26.550669,\n",
       "     28.171638,\n",
       "     30.460445,\n",
       "     33.400444,\n",
       "     35.58738,\n",
       "     36.4852,\n",
       "     37.067566,\n",
       "     37.52347,\n",
       "     37.957916],\n",
       "    'PAC2PIQ': [-0.49286443,\n",
       "     -0.56116676,\n",
       "     -0.6120634,\n",
       "     -0.66599584,\n",
       "     -0.705251,\n",
       "     -0.71799374,\n",
       "     -0.7174728,\n",
       "     -0.7135598,\n",
       "     -0.7102464,\n",
       "     -0.70892775],\n",
       "    'loss': [-985.7252,\n",
       "     -1122.3313,\n",
       "     -1224.1251,\n",
       "     -1331.9907,\n",
       "     -1410.5015,\n",
       "     -1435.9872,\n",
       "     -1434.9453,\n",
       "     -1427.1194,\n",
       "     -1420.4926,\n",
       "     -1417.8553],\n",
       "    'bitrate': [0.100881,\n",
       "     0.172306,\n",
       "     0.263106,\n",
       "     0.429271,\n",
       "     0.825821,\n",
       "     1.681812,\n",
       "     2.59339,\n",
       "     4.593584,\n",
       "     9.852437,\n",
       "     14.188521]}],\n",
       "  [{'mse_loss': [0.003761526,\n",
       "     0.0022537024,\n",
       "     0.0015512533,\n",
       "     0.00091297226,\n",
       "     0.00046287983,\n",
       "     0.0002791155,\n",
       "     0.00022671149,\n",
       "     0.00019999941,\n",
       "     0.00018672063,\n",
       "     0.00017199243],\n",
       "    'bpp_loss': [0.021601094,\n",
       "     0.021601094,\n",
       "     0.021601094,\n",
       "     0.021601094,\n",
       "     0.021601094,\n",
       "     0.021601094,\n",
       "     0.021601094,\n",
       "     0.021601094,\n",
       "     0.021601094,\n",
       "     0.021601094],\n",
       "    'loss_classic': [2.4675333,\n",
       "     1.4870713,\n",
       "     1.0303035,\n",
       "     0.6152613,\n",
       "     0.32258868,\n",
       "     0.20309597,\n",
       "     0.16902025,\n",
       "     0.15165071,\n",
       "     0.14301617,\n",
       "     0.13343918],\n",
       "    'PSNR': [24.301882,\n",
       "     26.550669,\n",
       "     28.171638,\n",
       "     30.460445,\n",
       "     33.400444,\n",
       "     35.58738,\n",
       "     36.4852,\n",
       "     37.067566,\n",
       "     37.52347,\n",
       "     37.957916],\n",
       "    'SPAQ': [-0.40260553,\n",
       "     -0.3983474,\n",
       "     -0.3903737,\n",
       "     -0.4162528,\n",
       "     -0.4233754,\n",
       "     -0.43182716,\n",
       "     -0.430534,\n",
       "     -0.44013584,\n",
       "     -0.43401402,\n",
       "     -0.43656975],\n",
       "    'loss': [-805.2074,\n",
       "     -796.6926,\n",
       "     -780.74585,\n",
       "     -832.5047,\n",
       "     -846.7503,\n",
       "     -863.654,\n",
       "     -861.06775,\n",
       "     -880.2716,\n",
       "     -868.02795,\n",
       "     -873.1393],\n",
       "    'bitrate': [0.100881,\n",
       "     0.172306,\n",
       "     0.263106,\n",
       "     0.429271,\n",
       "     0.825821,\n",
       "     1.681812,\n",
       "     2.59339,\n",
       "     4.593584,\n",
       "     9.852437,\n",
       "     14.188521]}],\n",
       "  [{'mse_loss': [0.0037615257,\n",
       "     0.0022537024,\n",
       "     0.0015512533,\n",
       "     0.00091297226,\n",
       "     0.0004628798,\n",
       "     0.00027911557,\n",
       "     0.00022671153,\n",
       "     0.00019999946,\n",
       "     0.00018672064,\n",
       "     0.00017199246],\n",
       "    'bpp_loss': [0.010800547,\n",
       "     0.010800547,\n",
       "     0.010800547,\n",
       "     0.010800547,\n",
       "     0.010800547,\n",
       "     0.010800547,\n",
       "     0.010800547,\n",
       "     0.010800547,\n",
       "     0.010800547,\n",
       "     0.010800547],\n",
       "    'loss_classic': [2.4567327,\n",
       "     1.4762707,\n",
       "     1.019503,\n",
       "     0.6044607,\n",
       "     0.31178814,\n",
       "     0.19229542,\n",
       "     0.15821971,\n",
       "     0.14085019,\n",
       "     0.13221565,\n",
       "     0.12263864],\n",
       "    'PSNR': [24.29602,\n",
       "     26.533306,\n",
       "     28.159622,\n",
       "     30.45428,\n",
       "     33.39445,\n",
       "     35.58181,\n",
       "     36.478874,\n",
       "     37.05613,\n",
       "     37.50896,\n",
       "     37.943176],\n",
       "    'VSFA': [-0.39656407,\n",
       "     -0.44951862,\n",
       "     -0.47302955,\n",
       "     -0.5023433,\n",
       "     -0.521147,\n",
       "     -0.524607,\n",
       "     -0.5242802,\n",
       "     -0.5270975,\n",
       "     -0.5318683,\n",
       "     -0.5310252],\n",
       "    'loss': [-793.1244,\n",
       "     -899.0349,\n",
       "     -946.0576,\n",
       "     -1004.68567,\n",
       "     -1042.2935,\n",
       "     -1049.2136,\n",
       "     -1048.5602,\n",
       "     -1054.1948,\n",
       "     -1063.7363,\n",
       "     -1062.0502],\n",
       "    'bitrate': [0.100881,\n",
       "     0.172306,\n",
       "     0.263106,\n",
       "     0.429271,\n",
       "     0.825821,\n",
       "     1.681812,\n",
       "     2.59339,\n",
       "     4.593584,\n",
       "     9.852437,\n",
       "     14.188521]}]]]"
      ]
     },
     "execution_count": 7,
     "metadata": {},
     "output_type": "execute_result"
    }
   ],
   "source": [
    "Log_1"
   ]
  },
  {
   "cell_type": "code",
   "execution_count": 7,
   "id": "automatic-agenda",
   "metadata": {},
   "outputs": [],
   "source": [
    "np.save(\"./Logs_rd_curves/tmp_ALL_metrics_2000mse_fixed\" + (\"_Identity\" if Identity_flag else \"\") + \".npy\", Log_1)"
   ]
  },
  {
   "cell_type": "code",
   "execution_count": 6,
   "id": "basic-glory",
   "metadata": {},
   "outputs": [],
   "source": [
    "wandb.finish()"
   ]
  },
  {
   "cell_type": "code",
   "execution_count": 29,
   "id": "human-agenda",
   "metadata": {
    "collapsed": true
   },
   "outputs": [
    {
     "data": {
      "text/plain": [
       "(7, 10)"
      ]
     },
     "execution_count": 29,
     "metadata": {},
     "output_type": "execute_result"
    }
   ],
   "source": [
    "np.array(list(Log_3[0].values())).shape"
   ]
  },
  {
   "cell_type": "code",
   "execution_count": 25,
   "id": "capital-deputy",
   "metadata": {
    "scrolled": true
   },
   "outputs": [],
   "source": [
    "table = wandb.Table(columns= list(Log_3[0].keys()), data = list([Log_3[0].values()]))\n",
    "wandb.log({f_name: table}) "
   ]
  },
  {
   "cell_type": "code",
   "execution_count": 9,
   "id": "appropriate-diving",
   "metadata": {
    "collapsed": true
   },
   "outputs": [
    {
     "data": {
      "text/plain": [
       "(7, 7)"
      ]
     },
     "execution_count": 9,
     "metadata": {},
     "output_type": "execute_result"
    }
   ],
   "source": [
    " len(list(Log_3[0].keys())), len(list(Log_3[0].values()))"
   ]
  },
  {
   "cell_type": "code",
   "execution_count": 6,
   "id": "residential-behavior",
   "metadata": {
    "collapsed": true
   },
   "outputs": [
    {
     "ename": "NameError",
     "evalue": "name 'Lst2' is not defined",
     "output_type": "error",
     "traceback": [
      "\u001b[1;31m---------------------------------------------------------------------------\u001b[0m",
      "\u001b[1;31mNameError\u001b[0m                                 Traceback (most recent call last)",
      "\u001b[1;32mE:\\VMAF_METRIX\\NeuralNetworkCompression\\Train_current_model.py\u001b[0m in \u001b[0;36m<module>\u001b[1;34m\u001b[0m\n\u001b[0;32m      3\u001b[0m \u001b[1;31m# NIMA do not force 224x224\u001b[0m\u001b[1;33m\u001b[0m\u001b[1;33m\u001b[0m\u001b[1;33m\u001b[0m\u001b[0m\n\u001b[0;32m      4\u001b[0m \u001b[1;33m\u001b[0m\u001b[0m\n\u001b[1;32m----> 5\u001b[1;33m \u001b[0mlist\u001b[0m\u001b[1;33m(\u001b[0m\u001b[0mzip\u001b[0m\u001b[1;33m(\u001b[0m\u001b[0mLst2\u001b[0m\u001b[1;33m,\u001b[0m \u001b[1;33m-\u001b[0m\u001b[0mnp\u001b[0m\u001b[1;33m.\u001b[0m\u001b[0marray\u001b[0m\u001b[1;33m(\u001b[0m\u001b[1;33m[\u001b[0m\u001b[0mlist\u001b[0m\u001b[1;33m(\u001b[0m\u001b[0mi\u001b[0m\u001b[1;33m[\u001b[0m\u001b[1;36m0\u001b[0m\u001b[1;33m]\u001b[0m\u001b[1;33m.\u001b[0m\u001b[0mvalues\u001b[0m\u001b[1;33m(\u001b[0m\u001b[1;33m)\u001b[0m\u001b[1;33m)\u001b[0m\u001b[1;33m[\u001b[0m\u001b[1;36m4\u001b[0m\u001b[1;33m]\u001b[0m \u001b[1;32mfor\u001b[0m \u001b[0mi\u001b[0m \u001b[1;32min\u001b[0m \u001b[0mLog_1\u001b[0m\u001b[1;33m[\u001b[0m\u001b[1;36m0\u001b[0m\u001b[1;33m]\u001b[0m\u001b[1;33m]\u001b[0m\u001b[1;33m)\u001b[0m\u001b[1;33m)\u001b[0m\u001b[1;33m)\u001b[0m\u001b[1;33m\u001b[0m\u001b[1;33m\u001b[0m\u001b[0m\n\u001b[0m",
      "\u001b[1;31mNameError\u001b[0m: name 'Lst2' is not defined"
     ]
    }
   ],
   "source": [
    "\"100k 3M\"#wrong: Linearity, NIMA\n",
    "# KONIQ do not force patchsz < 512x512\n",
    "# NIMA do not force 224x224\n",
    "\n",
    "list(zip(Lst2, -np.array([list(i[0].values())[4] for i in Log_1[0]])))"
   ]
  },
  {
   "cell_type": "code",
   "execution_count": null,
   "id": "weird-height",
   "metadata": {},
   "outputs": [],
   "source": []
  }
 ],
 "metadata": {
  "kernelspec": {
   "display_name": "Python 3",
   "language": "python",
   "name": "python3"
  },
  "language_info": {
   "codemirror_mode": {
    "name": "ipython",
    "version": 3
   },
   "file_extension": ".py",
   "mimetype": "text/x-python",
   "name": "python",
   "nbconvert_exporter": "python",
   "pygments_lexer": "ipython3",
   "version": "3.8.5"
  }
 },
 "nbformat": 4,
 "nbformat_minor": 5
}
