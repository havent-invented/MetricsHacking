{
 "cells": [
  {
   "cell_type": "code",
   "execution_count": 3,
   "id": "north-extra",
   "metadata": {
    "scrolled": true
   },
   "outputs": [
    {
     "data": {
      "application/vnd.jupyter.widget-view+json": {
       "model_id": "02e3fb17221a4f3bab9137c24953b000",
       "version_major": 2,
       "version_minor": 0
      },
      "text/plain": [
       "  0%|          | 0/56 [00:00<?, ?it/s]"
      ]
     },
     "metadata": {},
     "output_type": "display_data"
    },
    {
     "name": "stdout",
     "output_type": "stream",
     "text": [
      "CLAHE, no codec tuning for KONIQ_PSNR, NSGA2\n",
      "Identity, no codec tuning for KONIQ_PSNR, NSGA2\n",
      "Tonemap, no codec tuning for KONIQ_PSNR, NSGA2\n",
      "gamma, no codec tuning for KONIQ_PSNR, NSGA2\n",
      "CLAHE, no codec tuning for KONIQ_SSIM, NSGA2\n",
      "Identity, no codec tuning for KONIQ_SSIM, NSGA2\n",
      "Tonemap, no codec tuning for KONIQ_SSIM, NSGA2\n",
      "gamma, no codec tuning for KONIQ_SSIM, NSGA2\n",
      "CLAHE, no codec tuning for Linearity_PSNR, NSGA2\n",
      "Identity, no codec tuning for Linearity_PSNR, NSGA2\n",
      "Tonemap, no codec tuning for Linearity_PSNR, NSGA2\n",
      "gamma, no codec tuning for Linearity_PSNR, NSGA2\n",
      "CLAHE, no codec tuning for Linearity_SSIM, NSGA2\n",
      "Identity, no codec tuning for Linearity_SSIM, NSGA2\n",
      "Tonemap, no codec tuning for Linearity_SSIM, NSGA2\n",
      "gamma, no codec tuning for Linearity_SSIM, NSGA2\n",
      "CLAHE, no codec tuning for MDTVSFA_PSNR, NSGA2\n",
      "Identity, no codec tuning for MDTVSFA_PSNR, NSGA2\n",
      "Tonemap, no codec tuning for MDTVSFA_PSNR, NSGA2\n",
      "gamma, no codec tuning for MDTVSFA_PSNR, NSGA2\n",
      "CLAHE, no codec tuning for MDTVSFA_SSIM, NSGA2\n",
      "Identity, no codec tuning for MDTVSFA_SSIM, NSGA2\n",
      "Tonemap, no codec tuning for MDTVSFA_SSIM, NSGA2\n",
      "gamma, no codec tuning for MDTVSFA_SSIM, NSGA2\n",
      "CLAHE, no codec tuning for NIMA_PSNR, NSGA2\n",
      "Identity, no codec tuning for NIMA_PSNR, NSGA2\n",
      "Tonemap, no codec tuning for NIMA_PSNR, NSGA2\n",
      "gamma, no codec tuning for NIMA_PSNR, NSGA2\n",
      "CLAHE, no codec tuning for NIMA_SSIM, NSGA2\n",
      "Identity, no codec tuning for NIMA_SSIM, NSGA2\n",
      "Tonemap, no codec tuning for NIMA_SSIM, NSGA2\n",
      "gamma, no codec tuning for NIMA_SSIM, NSGA2\n",
      "CLAHE, no codec tuning for PAC2PIQ_PSNR, NSGA2\n",
      "Identity, no codec tuning for PAC2PIQ_PSNR, NSGA2\n"
     ]
    },
    {
     "data": {
      "application/vnd.jupyter.widget-view+json": {
       "model_id": "8d7a3e016bae4ea1b85ec38cc03459ec",
       "version_major": 2,
       "version_minor": 0
      },
      "text/plain": [
       "  0%|          | 0/4 [00:00<?, ?it/s]"
      ]
     },
     "metadata": {},
     "output_type": "display_data"
    },
    {
     "data": {
      "application/vnd.jupyter.widget-view+json": {
       "model_id": "d1922f804c944e029456561b1cabb9e1",
       "version_major": 2,
       "version_minor": 0
      },
      "text/plain": [
       "  0%|          | 0/7 [00:00<?, ?it/s]"
      ]
     },
     "metadata": {},
     "output_type": "display_data"
    },
    {
     "data": {
      "application/vnd.jupyter.widget-view+json": {
       "model_id": "d35aab39f9164f5eaab88b2875659b35",
       "version_major": 2,
       "version_minor": 0
      },
      "text/plain": [
       "  0%|          | 0/7 [00:00<?, ?it/s]"
      ]
     },
     "metadata": {},
     "output_type": "display_data"
    },
    {
     "data": {
      "application/vnd.jupyter.widget-view+json": {
       "model_id": "d02778a1ceeb4d4a9b1ffb206453fe43",
       "version_major": 2,
       "version_minor": 0
      },
      "text/plain": [
       "  0%|          | 0/7 [00:00<?, ?it/s]"
      ]
     },
     "metadata": {},
     "output_type": "display_data"
    },
    {
     "data": {
      "application/vnd.jupyter.widget-view+json": {
       "model_id": "a2b969dab66f4f8ca973e032ae25e931",
       "version_major": 2,
       "version_minor": 0
      },
      "text/plain": [
       "  0%|          | 0/7 [00:00<?, ?it/s]"
      ]
     },
     "metadata": {},
     "output_type": "display_data"
    },
    {
     "name": "stdout",
     "output_type": "stream",
     "text": [
      "Tonemap, no codec tuning for PAC2PIQ_PSNR, NSGA2\n",
      "gamma, no codec tuning for PAC2PIQ_PSNR, NSGA2\n",
      "CLAHE, no codec tuning for PAC2PIQ_SSIM, NSGA2\n",
      "Identity, no codec tuning for PAC2PIQ_SSIM, NSGA2\n"
     ]
    },
    {
     "data": {
      "application/vnd.jupyter.widget-view+json": {
       "model_id": "85175814dd9545969fdb2ef81dc0a67c",
       "version_major": 2,
       "version_minor": 0
      },
      "text/plain": [
       "  0%|          | 0/4 [00:00<?, ?it/s]"
      ]
     },
     "metadata": {},
     "output_type": "display_data"
    },
    {
     "data": {
      "application/vnd.jupyter.widget-view+json": {
       "model_id": "f68b99862cc04bb3be903c0b529ce2ac",
       "version_major": 2,
       "version_minor": 0
      },
      "text/plain": [
       "  0%|          | 0/7 [00:00<?, ?it/s]"
      ]
     },
     "metadata": {},
     "output_type": "display_data"
    },
    {
     "data": {
      "application/vnd.jupyter.widget-view+json": {
       "model_id": "37e4d3dde1ab4e6fbe69b1a351eee3f2",
       "version_major": 2,
       "version_minor": 0
      },
      "text/plain": [
       "  0%|          | 0/7 [00:00<?, ?it/s]"
      ]
     },
     "metadata": {},
     "output_type": "display_data"
    },
    {
     "data": {
      "application/vnd.jupyter.widget-view+json": {
       "model_id": "4fa50f38390245d38f30fd02dc8a480e",
       "version_major": 2,
       "version_minor": 0
      },
      "text/plain": [
       "  0%|          | 0/7 [00:00<?, ?it/s]"
      ]
     },
     "metadata": {},
     "output_type": "display_data"
    },
    {
     "data": {
      "application/vnd.jupyter.widget-view+json": {
       "model_id": "fdb757349655413d8ed9bd6dcae0318d",
       "version_major": 2,
       "version_minor": 0
      },
      "text/plain": [
       "  0%|          | 0/7 [00:00<?, ?it/s]"
      ]
     },
     "metadata": {},
     "output_type": "display_data"
    },
    {
     "name": "stdout",
     "output_type": "stream",
     "text": [
      "Tonemap, no codec tuning for PAC2PIQ_SSIM, NSGA2\n",
      "gamma, no codec tuning for PAC2PIQ_SSIM, NSGA2\n",
      "CLAHE, no codec tuning for SPAQ_PSNR, NSGA2\n",
      "Identity, no codec tuning for SPAQ_PSNR, NSGA2\n",
      "Tonemap, no codec tuning for SPAQ_PSNR, NSGA2\n",
      "gamma, no codec tuning for SPAQ_PSNR, NSGA2\n",
      "CLAHE, no codec tuning for SPAQ_SSIM, NSGA2\n",
      "Identity, no codec tuning for SPAQ_SSIM, NSGA2\n",
      "Tonemap, no codec tuning for SPAQ_SSIM, NSGA2\n",
      "gamma, no codec tuning for SPAQ_SSIM, NSGA2\n",
      "CLAHE, no codec tuning for VSFA_PSNR, NSGA2\n",
      "Identity, no codec tuning for VSFA_PSNR, NSGA2\n",
      "Tonemap, no codec tuning for VSFA_PSNR, NSGA2\n",
      "gamma, no codec tuning for VSFA_PSNR, NSGA2\n",
      "CLAHE, no codec tuning for VSFA_SSIM, NSGA2\n",
      "Identity, no codec tuning for VSFA_SSIM, NSGA2\n",
      "Tonemap, no codec tuning for VSFA_SSIM, NSGA2\n",
      "gamma, no codec tuning for VSFA_SSIM, NSGA2\n"
     ]
    }
   ],
   "source": [
    "%run -i run_MDTVSFA.py\n",
    "import os\n",
    "from sys import platform\n",
    "if platform == 'win32':\n",
    "    disk_dir = \"E:/\"\n",
    "    disk_dir_R = \"R:/\"\n",
    "    disk_dir_P = \"P:/\"\n",
    "else:\n",
    "    disk_dir_R = \"/home/max/Ram/\"\n",
    "    disk_dir = \"/home/max/driveE/\"\n",
    "    disk_dir_P = \"/home/sdc2/\"\n",
    "\n",
    "dst_dir = disk_dir_P + \"7videos/\"    \n",
    "home_dir = disk_dir_R + \"tonemap/\"\n",
    "calc_met_True = calc_met\n",
    "env = calc_met_True(model = \"MDTVSFA\", home_dir1=home_dir,dataset_dir=dst_dir,codec=' -preset:v medium -x265-params log-level=error -b:v 10M ',)\n",
    "\n",
    "try:\n",
    "    os.mkdir(home_dir)\n",
    "except Exception:\n",
    "    pass\n",
    "try:\n",
    "    os.mkdir(home_dir +  'VMAF_METRIX')\n",
    "except Exception:\n",
    "    pass\n",
    "try:\n",
    "    os.mkdir(home_dir +  'VMAF_METRIX/csv_res')\n",
    "except Exception:\n",
    "    pass\n",
    "try:\n",
    "    os.mkdir(home_dir +  'VMAF_METRIX/vid')\n",
    "except Exception:\n",
    "    pass\n",
    "\n",
    "\n",
    "\n",
    "all_method_name = [\"gamma_unsharp\", \"CLAHE\", \"Tonemap_Drago\", \"Identity\"]\n",
    "all_func = [aug4const, expose_cv2, tonemapDrago, Identity]\n",
    "args_d_Identity = args_d_CLAHE\n",
    "all_argd = [args_d_aug4const, args_d_CLAHE, args_tonemapDrago, args_d_Identity]\n",
    "method_name_to_func = {i:j for i,j in zip(all_method_name, all_func)}\n",
    "method_name_to_argd = {i:j for i,j in zip(all_method_name, all_argd)}\n",
    "SSIM_m = env.SSIM_metrix_get\n",
    "PSNR_m = env.PSNR_metrix_get\n",
    "all_proxy_metr = [SSIM_m, PSNR_m]\n",
    "all_proxy_names = [\"SSIM\", \"PSNR\"]\n",
    "proxy_name_to_obj = {i:j for i,j in zip(all_proxy_names, all_proxy_metr)}\n",
    "log_dir = disk_dir + \"VMAF_METRIX/NeuralNetworkCompression/logs_black_box/\"\n",
    "bitrate_log_dir = disk_dir + \"VMAF_METRIX/NeuralNetworkCompression/logs_black_box_compressed/\"\n",
    "k_lst = [1]\n",
    "%run -i Current_model_lib.py\n",
    "env.metr = get_met\n",
    "idx_i = -1\n",
    "for log_i in tqdm(sorted(os.listdir(log_dir))):\n",
    "    idx_i+=1\n",
    "    parse_str = log_i.split(\".\")[0].split(\"_\")\n",
    "    met_name, cur_proxy_name, cur_method_name = parse_str[0], parse_str[1], parse_str[2]\n",
    "    print(cur_method_name + \", no codec tuning for \"+ met_name + \"_\" + cur_proxy_name +\", NSGA2\")\n",
    "    calculate_flag = (met_name == \"PAC2PIQ\" and cur_method_name == \"Identity\")#\n",
    "    #(met_name == \"KONIQ\" and cur_method_name == \"CLAHE\") or \\\n",
    "            #(met_name == \"KONIQ\" and cur_method_name == \"Tonemap_Drago\" and cur_proxy_name == \"PSNR\") \n",
    "    if not calculate_flag:\n",
    "        continue\n",
    "    target_lst = [met_name]\n",
    "    #if met_name != \"PAC2PIQ\" or cur_method_name != \"Identity\":\n",
    "        #continue\n",
    "        \n",
    "    logs_all = np.load(os.path.join(log_dir, log_i), allow_pickle= True)\n",
    "    log_bitrate = np.copy(logs_all)\n",
    "    loss_calc = Custom_enh_Loss(target_lst = target_lst, k_lst=k_lst, to_train = False).eval()    \n",
    "    if len(parse_str) >= 4:\n",
    "        for parse_substr in parse_str[3:]:\n",
    "            cur_method_name += \"_\" + parse_substr\n",
    "    cur_func = method_name_to_func[cur_method_name]\n",
    "    env.PSNR_metrix_get = proxy_name_to_obj[cur_proxy_name]\n",
    "    env.func = axis_swaper(cur_func)\n",
    "    \n",
    "    for bv in tqdm([\"100k\",\"1M\",\"2M\",\"4M\"]):\n",
    "        for vid, log_np_idx in tqdm(list(zip(sorted(os.listdir(dst_dir)), range(len(logs_all))))):\n",
    "            if len(logs_all[log_np_idx]) <= 2:\n",
    "                continue\n",
    "            env.dataset = [vid]\n",
    "            env.init_video()\n",
    "            for log_np_ind in range(len(logs_all[log_np_idx][2][:,0])):\n",
    "                env.codec = ' -preset:v medium -x265-params log-level=error -b:v ' + bv + \" \"\n",
    "                met10M = env.get_metrix([logs_all[log_np_idx][2][:,0][log_np_ind]])#Check for rewrining \n",
    "                log_bitrate[log_np_idx][2][:,1][log_np_ind] = np.array(met10M[0][0])\n",
    "            out_name = log_i.split(\".npy\")[0] + \"_bitrate\" + bv\n",
    "            np.save(os.path.join(bitrate_log_dir, out_name), log_bitrate)"
   ]
  },
  {
   "cell_type": "code",
   "execution_count": 21,
   "id": "upset-offer",
   "metadata": {},
   "outputs": [
    {
     "data": {
      "text/plain": [
       "[{'n': 3,\n",
       "  'a0_min': 30,\n",
       "  'a0_max': 120,\n",
       "  'a1_min': 30,\n",
       "  'a1_max': 120,\n",
       "  'a2_min': 0.0,\n",
       "  'a2_max': 2.0,\n",
       "  'type0': 'int',\n",
       "  'type1': 'int',\n",
       "  'type2': 'float'},\n",
       " {'n': 2,\n",
       "  'a0_min': 1,\n",
       "  'a0_max': 100,\n",
       "  'a1_min': 1e-05,\n",
       "  'a1_max': 20.0,\n",
       "  'type0': 'int',\n",
       "  'type1': 'float'},\n",
       " {'n': 3,\n",
       "  'a0_min': 0.0,\n",
       "  'a0_max': 2.5,\n",
       "  'a1_min': 0.0,\n",
       "  'a1_max': 3.0,\n",
       "  'a2_min': 0.0,\n",
       "  'a2_max': 1.0},\n",
       " {'n': 2,\n",
       "  'a0_min': 1,\n",
       "  'a0_max': 100,\n",
       "  'a1_min': 1e-05,\n",
       "  'a1_max': 20.0,\n",
       "  'type0': 'int',\n",
       "  'type1': 'float'}]"
      ]
     },
     "execution_count": 21,
     "metadata": {},
     "output_type": "execute_result"
    }
   ],
   "source": [
    "all_argd"
   ]
  },
  {
   "cell_type": "code",
   "execution_count": 19,
   "id": "strange-maldives",
   "metadata": {},
   "outputs": [
    {
     "data": {
      "text/plain": [
       "array([0, 0])"
      ]
     },
     "execution_count": 19,
     "metadata": {},
     "output_type": "execute_result"
    }
   ],
   "source": [
    "logs_all[0]"
   ]
  },
  {
   "cell_type": "code",
   "execution_count": 7,
   "id": "antique-sandwich",
   "metadata": {},
   "outputs": [
    {
     "data": {
      "text/plain": [
       "array([[0, 0],\n",
       "       [0, 0],\n",
       "       [0, 0],\n",
       "       [0, 0],\n",
       "       [0, 0],\n",
       "       [0, 0],\n",
       "       [0, 0]])"
      ]
     },
     "execution_count": 7,
     "metadata": {},
     "output_type": "execute_result"
    }
   ],
   "source": [
    "logs_all"
   ]
  },
  {
   "cell_type": "code",
   "execution_count": 14,
   "id": "swedish-matter",
   "metadata": {},
   "outputs": [
    {
     "ename": "IndexError",
     "evalue": "index 2 is out of bounds for axis 0 with size 2",
     "output_type": "error",
     "traceback": [
      "\u001b[1;31m---------------------------------------------------------------------------\u001b[0m",
      "\u001b[1;31mIndexError\u001b[0m                                Traceback (most recent call last)",
      "\u001b[1;32mE:\\VMAF_METRIX\\NeuralNetworkCompression\\Current_model_lib.py\u001b[0m in \u001b[0;36m<module>\u001b[1;34m\u001b[0m\n\u001b[1;32m----> 1\u001b[1;33m \u001b[0mmet10M\u001b[0m \u001b[1;33m=\u001b[0m \u001b[0menv\u001b[0m\u001b[1;33m.\u001b[0m\u001b[0mget_metrix\u001b[0m\u001b[1;33m(\u001b[0m\u001b[1;33m[\u001b[0m\u001b[0mlogs_all\u001b[0m\u001b[1;33m[\u001b[0m\u001b[0mlog_np_idx\u001b[0m\u001b[1;33m]\u001b[0m\u001b[1;33m[\u001b[0m\u001b[1;36m2\u001b[0m\u001b[1;33m]\u001b[0m\u001b[1;33m[\u001b[0m\u001b[1;33m:\u001b[0m\u001b[1;33m,\u001b[0m\u001b[1;36m0\u001b[0m\u001b[1;33m]\u001b[0m\u001b[1;33m[\u001b[0m\u001b[0mlog_np_ind\u001b[0m\u001b[1;33m]\u001b[0m\u001b[1;33m]\u001b[0m\u001b[1;33m)\u001b[0m\u001b[1;33m\u001b[0m\u001b[1;33m\u001b[0m\u001b[0m\n\u001b[0m",
      "\u001b[1;31mIndexError\u001b[0m: index 2 is out of bounds for axis 0 with size 2"
     ]
    }
   ],
   "source": [
    "met10M = env.get_metrix([logs_all[log_np_idx][2][:,0][log_np_ind]])"
   ]
  },
  {
   "cell_type": "code",
   "execution_count": 15,
   "id": "nuclear-badge",
   "metadata": {},
   "outputs": [
    {
     "data": {
      "text/plain": [
       "([(1.15327787399292, 0.4083825)],)"
      ]
     },
     "execution_count": 15,
     "metadata": {},
     "output_type": "execute_result"
    }
   ],
   "source": [
    "met10M"
   ]
  },
  {
   "cell_type": "code",
   "execution_count": null,
   "id": "unknown-aging",
   "metadata": {},
   "outputs": [],
   "source": []
  }
 ],
 "metadata": {
  "kernelspec": {
   "display_name": "Python 3",
   "language": "python",
   "name": "python3"
  },
  "language_info": {
   "codemirror_mode": {
    "name": "ipython",
    "version": 3
   },
   "file_extension": ".py",
   "mimetype": "text/x-python",
   "name": "python",
   "nbconvert_exporter": "python",
   "pygments_lexer": "ipython3",
   "version": "3.8.5"
  }
 },
 "nbformat": 4,
 "nbformat_minor": 5
}
